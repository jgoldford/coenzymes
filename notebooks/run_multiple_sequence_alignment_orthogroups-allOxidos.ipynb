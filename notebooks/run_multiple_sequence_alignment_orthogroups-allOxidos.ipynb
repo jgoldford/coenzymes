{
 "cells": [
  {
   "cell_type": "code",
   "execution_count": 172,
   "metadata": {},
   "outputs": [],
   "source": [
    "import pandas as pd\n",
    "import numpy as np\n",
    "import requests\n",
    "import re\n",
    "from Bio import SeqIO\n",
    "import subprocess\n",
    "from random import sample\n",
    "from scipy.stats import entropy\n",
    "\n",
    "def ko2genes(ko):\n",
    "    url = 'http://rest.kegg.jp/link/genes/' + ko\n",
    "    r = requests.get(url)\n",
    "    geneKO = pd.DataFrame([x.split('\\t') for x in r.text.split('\\n')],columns=['ko','gene'])\n",
    "    geneKO = geneKO.iloc[0:-1]\n",
    "    return geneKO\n",
    "\n",
    "def download_seqs(geneList,fileName,batchSize):    \n",
    "    geneList_chunks = [geneList[i * batchSize:(i + 1) * batchSize] for i in range((len(geneList) + batchSize - 1) // batchSize )]\n",
    "    with open(fileName,'w') as fastafile:\n",
    "        for sglist in geneList_chunks:\n",
    "            url =  'http://rest.kegg.jp/get/' + \"+\".join(sglist) + '/aaseq'\n",
    "            fseqs = requests.get(url).text\n",
    "            fastafile.write(fseqs)\n",
    "\n",
    "            \n",
    "def msaSeq2df(seq,indexStart):\n",
    "    idx = []\n",
    "    resid = []\n",
    "    j = indexStart;\n",
    "    for i in seq:\n",
    "        resid.append(i)\n",
    "        if i == '-':\n",
    "            idx.append(np.nan)\n",
    "        else:\n",
    "            idx.append(j)\n",
    "            j = j+1\n",
    "    \n",
    "    return pd.DataFrame({'residue': resid, 'index': idx})\n",
    "\n",
    "def ecogenes():\n",
    "    url = 'http://rest.kegg.jp/link/ko/eco'\n",
    "    r = requests.get(url)\n",
    "    geneKO = pd.DataFrame([x.split('\\t') for x in r.text.split('\\n')],columns=['gene','ko'])\n",
    "    geneKO = geneKO.iloc[0:-1]\n",
    "    return geneKO\n",
    "\n",
    "get_resid = lambda x: [x for x in re.findall(r'\\D',x) if len(x)>0][0]\n",
    "get_resid_idx = lambda x: [int(x) for x in re.findall(r'\\d*',x) if len(x)>0][0]\n",
    "\n",
    "\n",
    "# load the structural annotations and only keep NAD binding enzymes with single D or E residues \n",
    "structure = pd.read_csv('../assets/structure/oxidoreductases_residue_annotation.csv',index_col=0)\n",
    "#structure = structure[structure['Coenzyme'].isin(['NAD','NADH'])]\n",
    "#structure = structure[structure['Residues'].apply(lambda x: (len(x.split(';')) < 2) & (x[0] in ['E','D']))]\n",
    "\n",
    "structure = structure[~structure.Residues.isna() & (structure.Residues != 'None')]\n",
    "structure = structure[~structure['Homolog-KEGG'].isna()]\n"
   ]
  },
  {
   "cell_type": "code",
   "execution_count": 509,
   "metadata": {},
   "outputs": [],
   "source": [
    "# need to repeat for serA\n",
    "idx = 'b2913'\n",
    "row = structure.loc[idx]\n",
    "genes = ko2genes(row.KO)\n",
    "ecoli_gene = 'eco:' + idx\n",
    "homolog = row['Homolog-KEGG']\n",
    "gene_set = list(set([ecoli_gene,homolog]))\n",
    "gl = genes[~genes['gene'].isin(gene_set)].gene.unique().tolist()\n",
    "if (len(gl) + len(gene_set)) > seqMax:\n",
    "    gsample = sample(gl,seqMax-len(gene_set))\n",
    "    gr = gsample + gene_set\n",
    "else:\n",
    "    gr = gl + gene_set\n",
    "    \n",
    "download_seqs(gr,'../assets/kegg_seqs_1k_allGenes/' + row.KO + '.fasta',10)"
   ]
  },
  {
   "cell_type": "code",
   "execution_count": 510,
   "metadata": {},
   "outputs": [
    {
     "data": {
      "text/plain": [
       "0"
      ]
     },
     "execution_count": 510,
     "metadata": {},
     "output_type": "execute_result"
    }
   ],
   "source": [
    "ko = row.KO\n",
    "    # perform msa on all orthogroups (or subsets of 1k sequences)\n",
    "fin = '../assets/kegg_seqs_1k_allGenes/' + ko + '.fasta'\n",
    "fout = '../assets/kegg_seqs_1k_allGenes/msa/' + ko + '.MSA.fasta'\n",
    "muscle_path = '/Users/joshuagoldford/opt/miniconda3/bin/muscle'\n",
    "call = muscle_path + ' -in ' + fin + ' -out ' + fout\n",
    "subprocess.call(call,shell=True)"
   ]
  },
  {
   "cell_type": "code",
   "execution_count": null,
   "metadata": {},
   "outputs": [],
   "source": []
  },
  {
   "cell_type": "code",
   "execution_count": 40,
   "metadata": {},
   "outputs": [
    {
     "name": "stdout",
     "output_type": "stream",
     "text": [
      "finished downloading :K12524; num seqs: 1000\n",
      "finished downloading :K00215; num seqs: 1000\n",
      "finished downloading :K00382; num seqs: 1000\n",
      "finished downloading :K00099; num seqs: 1000\n",
      "finished downloading :K00121; num seqs: 1000\n",
      "finished downloading :K00286; num seqs: 1000\n",
      "finished downloading :K00077; num seqs: 1000\n",
      "finished downloading :K01491; num seqs: 1000\n",
      "finished downloading :K00384; num seqs: 1000\n",
      "finished downloading :K12972; num seqs: 1000\n",
      "finished downloading :K00059; num seqs: 1000\n",
      "finished downloading :K02492; num seqs: 1000\n",
      "finished downloading :K00208; num seqs: 1000\n",
      "finished downloading :K03778; num seqs: 1000\n",
      "finished downloading :K13953; num seqs: 1000\n",
      "finished downloading :K00027; num seqs: 1000\n",
      "finished downloading :K16066; num seqs: 1000\n",
      "finished downloading :K05887; num seqs: 328\n",
      "finished downloading :K06447; num seqs: 1000\n",
      "finished downloading :K00262; num seqs: 1000\n",
      "finished downloading :K00134; num seqs: 1000\n",
      "finished downloading :K00036; num seqs: 1000\n",
      "finished downloading :K00013; num seqs: 1000\n",
      "finished downloading :K00012; num seqs: 1000\n",
      "finished downloading :K00033; num seqs: 1000\n",
      "finished downloading :K00067; num seqs: 1000\n",
      "finished downloading :K02377; num seqs: 1000\n",
      "finished downloading :K03473; num seqs: 1000\n",
      "finished downloading :K00088; num seqs: 1000\n",
      "finished downloading :K00135; num seqs: 1000\n",
      "finished downloading :K00058; num seqs: 1000\n",
      "finished downloading :K00024; num seqs: 1000\n",
      "finished downloading :K00014; num seqs: 1000\n",
      "finished downloading :K02302; num seqs: 1000\n",
      "finished downloading :K00133; num seqs: 1000\n",
      "finished downloading :K00383; num seqs: 1000\n",
      "finished downloading :K00090; num seqs: 1000\n",
      "finished downloading :K00057; num seqs: 1000\n",
      "finished downloading :K00060; num seqs: 1000\n",
      "finished downloading :K00053; num seqs: 1000\n",
      "finished downloading :K02472; num seqs: 1000\n",
      "finished downloading :K01825; num seqs: 967\n",
      "finished downloading :K00145; num seqs: 1000\n",
      "finished downloading :K00046; num seqs: 1000\n",
      "finished downloading :K00052; num seqs: 1000\n",
      "finished downloading :K00364; num seqs: 1000\n",
      "finished downloading :K00130; num seqs: 1000\n",
      "finished downloading :K00073; num seqs: 437\n",
      "finished downloading :K13821; num seqs: 1000\n",
      "finished downloading :K00031; num seqs: 1000\n",
      "finished downloading :K04072; num seqs: 1000\n",
      "finished downloading :K02618; num seqs: 736\n",
      "finished downloading :K07248; num seqs: 683\n",
      "finished downloading :K00137; num seqs: 707\n",
      "finished downloading :K07246; num seqs: 1000\n",
      "finished downloading :K00335; num seqs: 1000\n",
      "finished downloading :K14187; num seqs: 875\n",
      "finished downloading :K06879; num seqs: 1000\n",
      "finished downloading :K00048; num seqs: 470\n",
      "finished downloading :K19265; num seqs: 1000\n",
      "finished downloading :K00042; num seqs: 1000\n",
      "finished downloading :K08092; num seqs: 370\n",
      "finished downloading :K00528; num seqs: 1000\n",
      "finished downloading :K00297; num seqs: 1000\n",
      "finished downloading :K00075; num seqs: 1000\n",
      "finished downloading :K00040; num seqs: 1000\n"
     ]
    }
   ],
   "source": [
    "seqMax = 1000\n",
    "seq_download = []\n",
    "\n",
    "for idx,row in structure.iterrows():\n",
    "    genes = ko2genes(row.KO)\n",
    "    ecoli_gene = 'eco:' + idx\n",
    "    homolog = row['Homolog-KEGG']\n",
    "    gene_set = list(set([ecoli_gene,homolog]))\n",
    "    gl = genes[~genes['gene'].isin(gene_set)].gene.unique().tolist()\n",
    "    if (len(gl) + len(gene_set)) > seqMax:\n",
    "        gsample = sample(gl,seqMax-len(gene_set))\n",
    "        gr = gsample + gene_set\n",
    "    else:\n",
    "        gr = gl + gene_set\n",
    "    \n",
    "    download_seqs(gr,'../assets/kegg_seqs_1k_allGenes/' + row.KO + '.fasta',10)\n",
    "    print('finished downloading :' + row.KO + '; num seqs: ' + str(len(gr)))\n",
    "    seq_download.append(True)"
   ]
  },
  {
   "cell_type": "code",
   "execution_count": 22,
   "metadata": {},
   "outputs": [],
   "source": [
    "#structure"
   ]
  },
  {
   "cell_type": "code",
   "execution_count": 46,
   "metadata": {},
   "outputs": [
    {
     "name": "stdout",
     "output_type": "stream",
     "text": [
      "finished with mutiple sequence alignment for KO group: K12524\n",
      "finished with mutiple sequence alignment for KO group: K00215\n",
      "finished with mutiple sequence alignment for KO group: K00382\n",
      "finished with mutiple sequence alignment for KO group: K00099\n",
      "finished with mutiple sequence alignment for KO group: K00121\n",
      "finished with mutiple sequence alignment for KO group: K00286\n",
      "finished with mutiple sequence alignment for KO group: K00077\n",
      "finished with mutiple sequence alignment for KO group: K01491\n",
      "finished with mutiple sequence alignment for KO group: K00384\n",
      "finished with mutiple sequence alignment for KO group: K12972\n",
      "finished with mutiple sequence alignment for KO group: K00059\n",
      "finished with mutiple sequence alignment for KO group: K02492\n",
      "finished with mutiple sequence alignment for KO group: K00208\n",
      "finished with mutiple sequence alignment for KO group: K03778\n",
      "finished with mutiple sequence alignment for KO group: K13953\n",
      "finished with mutiple sequence alignment for KO group: K00027\n",
      "finished with mutiple sequence alignment for KO group: K16066\n",
      "finished with mutiple sequence alignment for KO group: K05887\n",
      "finished with mutiple sequence alignment for KO group: K06447\n",
      "finished with mutiple sequence alignment for KO group: K00262\n",
      "finished with mutiple sequence alignment for KO group: K00134\n",
      "finished with mutiple sequence alignment for KO group: K00036\n",
      "finished with mutiple sequence alignment for KO group: K00013\n",
      "finished with mutiple sequence alignment for KO group: K00012\n",
      "finished with mutiple sequence alignment for KO group: K00033\n",
      "finished with mutiple sequence alignment for KO group: K00067\n",
      "finished with mutiple sequence alignment for KO group: K02377\n",
      "finished with mutiple sequence alignment for KO group: K03473\n",
      "finished with mutiple sequence alignment for KO group: K00088\n",
      "finished with mutiple sequence alignment for KO group: K00135\n",
      "finished with mutiple sequence alignment for KO group: K00058\n",
      "finished with mutiple sequence alignment for KO group: K00024\n",
      "finished with mutiple sequence alignment for KO group: K00014\n",
      "finished with mutiple sequence alignment for KO group: K02302\n",
      "finished with mutiple sequence alignment for KO group: K00133\n",
      "finished with mutiple sequence alignment for KO group: K00383\n",
      "finished with mutiple sequence alignment for KO group: K00090\n",
      "finished with mutiple sequence alignment for KO group: K00057\n",
      "finished with mutiple sequence alignment for KO group: K00060\n",
      "finished with mutiple sequence alignment for KO group: K00053\n",
      "finished with mutiple sequence alignment for KO group: K02472\n",
      "finished with mutiple sequence alignment for KO group: K01825\n",
      "finished with mutiple sequence alignment for KO group: K00145\n",
      "finished with mutiple sequence alignment for KO group: K00046\n",
      "finished with mutiple sequence alignment for KO group: K00052\n",
      "finished with mutiple sequence alignment for KO group: K00364\n",
      "finished with mutiple sequence alignment for KO group: K00130\n",
      "finished with mutiple sequence alignment for KO group: K00073\n",
      "finished with mutiple sequence alignment for KO group: K13821\n",
      "finished with mutiple sequence alignment for KO group: K00031\n",
      "finished with mutiple sequence alignment for KO group: K04072\n",
      "finished with mutiple sequence alignment for KO group: K02618\n",
      "finished with mutiple sequence alignment for KO group: K07248\n",
      "finished with mutiple sequence alignment for KO group: K00137\n",
      "finished with mutiple sequence alignment for KO group: K07246\n",
      "finished with mutiple sequence alignment for KO group: K00335\n",
      "finished with mutiple sequence alignment for KO group: K14187\n",
      "finished with mutiple sequence alignment for KO group: K06879\n",
      "finished with mutiple sequence alignment for KO group: K00048\n",
      "finished with mutiple sequence alignment for KO group: K19265\n",
      "finished with mutiple sequence alignment for KO group: K00042\n",
      "finished with mutiple sequence alignment for KO group: K08092\n",
      "finished with mutiple sequence alignment for KO group: K00528\n",
      "finished with mutiple sequence alignment for KO group: K00297\n",
      "finished with mutiple sequence alignment for KO group: K00075\n",
      "finished with mutiple sequence alignment for KO group: K00040\n"
     ]
    }
   ],
   "source": [
    "# perform MSA using either original KO group sequences or downsample\n",
    "\n",
    "for idx,row in structure.iterrows():\n",
    "    ko = row.KO\n",
    "        # perform msa on all orthogroups (or subsets of 1k sequences)\n",
    "    fin = '../assets/kegg_seqs_1k_allGenes/' + ko + '.fasta'\n",
    "    fout = '../assets/kegg_seqs_1k_allGenes/msa/' + ko + '.MSA.fasta'\n",
    "    muscle_path = '/Users/joshuagoldford/opt/miniconda3/bin/muscle'\n",
    "    call = muscle_path + ' -in ' + fin + ' -out ' + fout\n",
    "    subprocess.call(call,shell=True)\n",
    "    print('finished with mutiple sequence alignment for KO group: ' + ko)"
   ]
  },
  {
   "cell_type": "code",
   "execution_count": 48,
   "metadata": {},
   "outputs": [],
   "source": [
    "#structure"
   ]
  },
  {
   "cell_type": "code",
   "execution_count": 497,
   "metadata": {},
   "outputs": [],
   "source": [
    "structure = pd.read_csv('../assets/structure/residueTable.66genes.csv',index_col=0)\n",
    "\n",
    "\n",
    "ko_list =  [];\n",
    "residue_list = []\n",
    "residue_ref_idx = []\n",
    "residue_msa_idx = []\n",
    "count_occured = []\n",
    "count_not_occured = []\n",
    "frac_occured = []\n",
    "\n",
    "dfs = []\n",
    "\n",
    "for idx,row in structure.iterrows():\n",
    "    ko = row.KO\n",
    "    msa_file = '../assets/kegg_seqs_1k_allGenes/msa/' + ko + '.MSA.fasta'\n",
    "    seq_dict = SeqIO.to_dict(SeqIO.parse(msa_file,'fasta'))\n",
    "    if structure[structure.KO == ko]['Homolog-KEGG'].tolist()[0] in list(seq_dict):\n",
    "        seq_id = structure[structure.KO == ko]['Homolog-KEGG'].tolist()[0]\n",
    "        r = structure[structure.KO == ko].Residues[0].split(';')\n",
    "        r  = [x for x in r if x not in ['Unclear',None]]\n",
    "        if len(r) > 0:\n",
    "            r = pd.DataFrame({'residue': [get_resid(y) for y in r],'index':[get_resid_idx(y) for y in r]})\n",
    "            seq = str(seq_dict[seq_id].seq)\n",
    "            seqdf = msaSeq2df(seq,1)\n",
    "            sdf = seqdf[seqdf['index'].isin(r['index'].tolist())]\n",
    "            for midx,row2 in sdf.iterrows():\n",
    "                chars = [y.seq[midx] for y in list(seq_dict.values())]\n",
    "                \n",
    "                c = [chars.count(x) for x in list(set(chars))]\n",
    "                c = [x + 0.5 for x in c]\n",
    "                pk = np.array(c)/sum(c)\n",
    "                site_entropy = entropy(pk)\n",
    "                \n",
    "                z = pd.DataFrame({'idx':chars}).reset_index().groupby('idx').count()\n",
    "                z2 = z.reset_index()\n",
    "                z2.columns = ['residue','numSeqs']\n",
    "                z2['ref_residue'] = row2.residue\n",
    "                z2['ref_residue_idx'] = row2['index']\n",
    "                z2['entropy'] = site_entropy\n",
    "                z2['KO'] = ko\n",
    "                dfs.append(z2)\n",
    "                #frac = z.loc[row2.residue]['index'] / z['index'].sum()\n",
    "                ##ko_list.append(ko)\n",
    "                #residue_list.append(row2.residue)\n",
    "                #residue_ref_idx.append(row2['index'])\n",
    "                #residue_msa_idx.append(midx)\n",
    "                #count_occured.append(z.loc[row2.residue]['index'])\n",
    "                #count_not_occured.append(z['index'].sum() - z.loc[row2.residue]['index'])\n",
    "                #frac_occured.append(frac)\n",
    "\n",
    "dfs = pd.concat(dfs,axis=0)                \n",
    "\n",
    "#r = r[r['wt_residue'].apply(lambda x: x[0] in ['D','E'])]\n",
    "#results = pd.DataFrame({'ko':ko_list,'residue':residue_list,'idx': residue_ref_idx, 'midx': residue_msa_idx, 'count': count_occured, 'ncount': count_not_occured, 'frac': frac_occured})    "
   ]
  },
  {
   "cell_type": "code",
   "execution_count": 203,
   "metadata": {},
   "outputs": [],
   "source": [
    "import seaborn as sns"
   ]
  },
  {
   "cell_type": "code",
   "execution_count": 499,
   "metadata": {},
   "outputs": [
    {
     "data": {
      "text/plain": [
       "<seaborn.axisgrid.FacetGrid at 0x7fa59e373b38>"
      ]
     },
     "execution_count": 499,
     "metadata": {},
     "output_type": "execute_result"
    },
    {
     "data": {
      "image/png": "[encoded data removed]",
      "text/plain": [
       "<Figure size 360x360 with 1 Axes>"
      ]
     },
     "metadata": {
      "needs_background": "light"
     },
     "output_type": "display_data"
    }
   ],
   "source": [
    "sns.displot(dfs.groupby(['KO','ref_residue_idx']).mean(),kind='ecdf',x='entropy')"
   ]
  },
  {
   "cell_type": "code",
   "execution_count": 498,
   "metadata": {},
   "outputs": [],
   "source": [
    "se = {'KO':[],'idx':[],'entropy':[],'coenzyme_residue':[]}\n",
    "for idx,row in structure.iterrows():\n",
    "    ko = row.KO\n",
    "    msa_file = '../assets/kegg_seqs_1k_allGenes/msa/' + ko + '.MSA.fasta'\n",
    "    seq_dict = SeqIO.to_dict(SeqIO.parse(msa_file,'fasta'))\n",
    "    if structure[structure.KO == ko]['Homolog-KEGG'].tolist()[0] in list(seq_dict):\n",
    "        seq_id = structure[structure.KO == ko]['Homolog-KEGG'].tolist()[0]\n",
    "        r = structure[structure.KO == ko].Residues[0].split(';')\n",
    "        r  = [x for x in r if x not in ['Unclear',None]]\n",
    "        if len(r) > 0:\n",
    "            r = pd.DataFrame({'residue': [get_resid(y) for y in r],'index':[get_resid_idx(y) for y in r]})\n",
    "            seq = str(seq_dict[seq_id].seq)\n",
    "            seqdf = msaSeq2df(seq,1)\n",
    "            seqdf['coenzymes_residue' ]= seqdf['index'].isin(r['index'].tolist())\n",
    "            for midx,row2 in seqdf.iterrows():\n",
    "                chars = [y.seq[midx] for y in list(seq_dict.values())]\n",
    "                c = [chars.count(x) for x in list(set(chars))]\n",
    "                c = [x + 0.5 for x in c]\n",
    "                pk = np.array(c)/sum(c)\n",
    "                site_entropy = entropy(pk)\n",
    "                se['KO'].append(ko); se['idx'].append(midx); se['entropy'].append(site_entropy); \n",
    "                se['coenzyme_residue'].append(row2.coenzymes_residue)\n",
    "se = pd.DataFrame(se)"
   ]
  },
  {
   "cell_type": "code",
   "execution_count": 500,
   "metadata": {},
   "outputs": [],
   "source": [
    "import matplotlib.pyplot as plt\n",
    "import matplotlib\n",
    "matplotlib.rcParams['font.family'] = \"Arial\"\n",
    "\n",
    "from matplotlib.pyplot import figure"
   ]
  },
  {
   "cell_type": "code",
   "execution_count": 501,
   "metadata": {},
   "outputs": [],
   "source": [
    "#sns.catplot(x='KO',y='entropy',hue='coenzyme_residue',data=se)"
   ]
  },
  {
   "cell_type": "code",
   "execution_count": 502,
   "metadata": {},
   "outputs": [],
   "source": [
    "lethal = ['leuB','pdxB','paaH', 'gatD', 'lgoD', 'fucO','srlD','mltD']"
   ]
  },
  {
   "cell_type": "code",
   "execution_count": 503,
   "metadata": {},
   "outputs": [],
   "source": [
    "k = structure[structure['gene name'].isin(lethal)].KO.tolist()"
   ]
  },
  {
   "cell_type": "code",
   "execution_count": 504,
   "metadata": {},
   "outputs": [
    {
     "data": {
      "text/html": [
       "<div>\n",
       "<style scoped>\n",
       "    .dataframe tbody tr th:only-of-type {\n",
       "        vertical-align: middle;\n",
       "    }\n",
       "\n",
       "    .dataframe tbody tr th {\n",
       "        vertical-align: top;\n",
       "    }\n",
       "\n",
       "    .dataframe thead th {\n",
       "        text-align: right;\n",
       "    }\n",
       "</style>\n",
       "<table border=\"1\" class=\"dataframe\">\n",
       "  <thead>\n",
       "    <tr style=\"text-align: right;\">\n",
       "      <th></th>\n",
       "      <th>gene name</th>\n",
       "      <th>uniprot</th>\n",
       "      <th>KO</th>\n",
       "      <th>Redundancy</th>\n",
       "      <th>Unique oxidoreductase reactions</th>\n",
       "      <th>iJO1344-reactions</th>\n",
       "      <th>Structure</th>\n",
       "      <th>Coenzyme Bound Structure</th>\n",
       "      <th>Homolog-Species</th>\n",
       "      <th>Homolog-KEGG</th>\n",
       "      <th>Homolog-Uniprot</th>\n",
       "      <th>Residues</th>\n",
       "      <th>Coenzyme</th>\n",
       "      <th>% Identity</th>\n",
       "      <th>Notes</th>\n",
       "    </tr>\n",
       "    <tr>\n",
       "      <th>gene id</th>\n",
       "      <th></th>\n",
       "      <th></th>\n",
       "      <th></th>\n",
       "      <th></th>\n",
       "      <th></th>\n",
       "      <th></th>\n",
       "      <th></th>\n",
       "      <th></th>\n",
       "      <th></th>\n",
       "      <th></th>\n",
       "      <th></th>\n",
       "      <th></th>\n",
       "      <th></th>\n",
       "      <th></th>\n",
       "      <th></th>\n",
       "    </tr>\n",
       "  </thead>\n",
       "  <tbody>\n",
       "    <tr>\n",
       "      <th>b2320</th>\n",
       "      <td>pdxB</td>\n",
       "      <td>P05459</td>\n",
       "      <td>K03473</td>\n",
       "      <td>NaN</td>\n",
       "      <td>PERD</td>\n",
       "      <td>PERD</td>\n",
       "      <td>None</td>\n",
       "      <td>3OET</td>\n",
       "      <td>Salmonella enterica subsp. enterica serovar Ty...</td>\n",
       "      <td>stm:STM2370</td>\n",
       "      <td>P60802</td>\n",
       "      <td>D146</td>\n",
       "      <td>NAD</td>\n",
       "      <td>88.7</td>\n",
       "      <td>NAD</td>\n",
       "    </tr>\n",
       "    <tr>\n",
       "      <th>b0073</th>\n",
       "      <td>leuB</td>\n",
       "      <td>P30125</td>\n",
       "      <td>K00052</td>\n",
       "      <td>NaN</td>\n",
       "      <td>IPMD</td>\n",
       "      <td>IPMD</td>\n",
       "      <td>1CM7</td>\n",
       "      <td>4XXV</td>\n",
       "      <td>Burkholderia thailandensis</td>\n",
       "      <td>bte:BTH_II0674</td>\n",
       "      <td>Q2T7H6</td>\n",
       "      <td>D284</td>\n",
       "      <td>NAD</td>\n",
       "      <td>50.5</td>\n",
       "      <td>NaN</td>\n",
       "    </tr>\n",
       "    <tr>\n",
       "      <th>b2799</th>\n",
       "      <td>fucO</td>\n",
       "      <td>P0A9S1</td>\n",
       "      <td>K00048</td>\n",
       "      <td>NaN</td>\n",
       "      <td>LCARS</td>\n",
       "      <td>NaN</td>\n",
       "      <td>5BR4,1RRM,2BL4,2BI4</td>\n",
       "      <td>2BL4</td>\n",
       "      <td>Esherichia coli K12</td>\n",
       "      <td>eco:b2799</td>\n",
       "      <td>P0A9S1</td>\n",
       "      <td>D38</td>\n",
       "      <td>NAD</td>\n",
       "      <td>NaN</td>\n",
       "      <td>NaN</td>\n",
       "    </tr>\n",
       "  </tbody>\n",
       "</table>\n",
       "</div>"
      ],
      "text/plain": [
       "        gene name uniprot      KO Redundancy Unique oxidoreductase reactions  \\\n",
       "gene id                                                                        \n",
       "b2320        pdxB  P05459  K03473        NaN                            PERD   \n",
       "b0073        leuB  P30125  K00052        NaN                            IPMD   \n",
       "b2799        fucO  P0A9S1  K00048        NaN                           LCARS   \n",
       "\n",
       "        iJO1344-reactions            Structure Coenzyme Bound Structure  \\\n",
       "gene id                                                                   \n",
       "b2320                PERD                 None                     3OET   \n",
       "b0073                IPMD                 1CM7                     4XXV   \n",
       "b2799                 NaN  5BR4,1RRM,2BL4,2BI4                     2BL4   \n",
       "\n",
       "                                           Homolog-Species    Homolog-KEGG  \\\n",
       "gene id                                                                      \n",
       "b2320    Salmonella enterica subsp. enterica serovar Ty...     stm:STM2370   \n",
       "b0073                          Burkholderia thailandensis   bte:BTH_II0674   \n",
       "b2799                                  Esherichia coli K12       eco:b2799   \n",
       "\n",
       "        Homolog-Uniprot Residues Coenzyme % Identity Notes  \n",
       "gene id                                                     \n",
       "b2320            P60802     D146      NAD       88.7   NAD  \n",
       "b0073           Q2T7H6      D284      NAD       50.5   NaN  \n",
       "b2799            P0A9S1      D38      NAD        NaN   NaN  "
      ]
     },
     "execution_count": 504,
     "metadata": {},
     "output_type": "execute_result"
    }
   ],
   "source": [
    "structure[structure['gene name'].isin(lethal)]"
   ]
  },
  {
   "cell_type": "code",
   "execution_count": 269,
   "metadata": {},
   "outputs": [],
   "source": [
    "structure.to_csv('../assets/structure/residueTable.66genes.csv')"
   ]
  },
  {
   "cell_type": "code",
   "execution_count": 505,
   "metadata": {},
   "outputs": [
    {
     "data": {
      "text/plain": [
       "Text(0.5, 6.799999999999994, 'residue entropy')"
      ]
     },
     "execution_count": 505,
     "metadata": {},
     "output_type": "execute_result"
    },
    {
     "data": {
      "image/png": "[encoded data removed]",
      "text/plain": [
       "<Figure size 452.25x360 with 1 Axes>"
      ]
     },
     "metadata": {
      "needs_background": "light"
     },
     "output_type": "display_data"
    }
   ],
   "source": [
    "sns.displot(se,kind='ecdf',x='entropy',hue='coenzyme_residue',palette='Set1')\n",
    "plt.ylabel('empirical cumulative distribution')\n",
    "plt.xlabel('residue entropy')\n",
    "#plt.savefig('siteEntropy.svg')"
   ]
  },
  {
   "cell_type": "code",
   "execution_count": 223,
   "metadata": {},
   "outputs": [
    {
     "data": {
      "text/plain": [
       "0.15093012223931346"
      ]
     },
     "execution_count": 223,
     "metadata": {},
     "output_type": "execute_result"
    }
   ],
   "source": [
    "se[~se['coenzyme_residue']]['entropy'].median()"
   ]
  },
  {
   "cell_type": "code",
   "execution_count": 225,
   "metadata": {},
   "outputs": [],
   "source": [
    "from scipy.stats import ranksums"
   ]
  },
  {
   "cell_type": "code",
   "execution_count": 506,
   "metadata": {},
   "outputs": [
    {
     "data": {
      "text/plain": [
       "RanksumsResult(statistic=7.36007707839984, pvalue=1.838040664822833e-13)"
      ]
     },
     "execution_count": 506,
     "metadata": {},
     "output_type": "execute_result"
    }
   ],
   "source": [
    "x = se[se['coenzyme_residue']]['entropy'].values\n",
    "y = se[~se['coenzyme_residue']]['entropy'].values\n",
    "ranksums(x,y)"
   ]
  },
  {
   "cell_type": "code",
   "execution_count": 247,
   "metadata": {},
   "outputs": [
    {
     "data": {
      "text/plain": [
       "63084"
      ]
     },
     "execution_count": 247,
     "metadata": {},
     "output_type": "execute_result"
    }
   ],
   "source": [
    "len(y)"
   ]
  },
  {
   "cell_type": "code",
   "execution_count": 182,
   "metadata": {},
   "outputs": [],
   "source": [
    "c = [chars.count(x) for x in list(set(chars))]\n",
    "c = [x + 0.5 for x in c]\n",
    "pk = np.array(c)/sum(c)\n",
    "site_entropy = entropy(pk)"
   ]
  },
  {
   "cell_type": "code",
   "execution_count": 493,
   "metadata": {},
   "outputs": [],
   "source": [
    "structure = pd.read_csv('../assets/structure/residueTable.66genes.csv',index_col=0)\n",
    "# iterate through structure to find if residues match database\n",
    "database_checked = []\n",
    "for idx,row in structure.iterrows():\n",
    "    ko = row.KO\n",
    "    msa_file = '../assets/kegg_seqs_1k_allGenes/msa/' + ko + '.MSA.fasta'\n",
    "    seq_dict = SeqIO.to_dict(SeqIO.parse(msa_file,'fasta'))\n",
    "    if structure[structure.KO == ko]['Homolog-KEGG'].tolist()[0] in list(seq_dict):\n",
    "        seq_id = structure[structure.KO == ko]['Homolog-KEGG'].tolist()[0]\n",
    "        r = structure[structure.KO == ko].Residues[0].split(';')\n",
    "        r  = [x for x in r if x not in ['Unclear',None]]\n",
    "        if len(r) > 0:\n",
    "            r = pd.DataFrame({'residue': [get_resid(y) for y in r],'index':[get_resid_idx(y) for y in r]})\n",
    "            seq = str(seq_dict[seq_id].seq)\n",
    "            seqdf = msaSeq2df(seq,1)\n",
    "            sdf = seqdf[seqdf['index'].isin(r['index'].tolist())]\n",
    "            \n",
    "            msa_seq_residues = sdf['residue'] + '_' + sdf['index'].apply(lambda x: str(round(x)))\n",
    "            database_residues = r['residue'] + '_' + r['index'].apply(lambda x: str(round(x)))\n",
    "            database_residues= database_residues.tolist()\n",
    "            msa_seq_residues = msa_seq_residues.tolist()\n",
    "            if set(msa_seq_residues) == set(database_residues):\n",
    "                database_checked.append(True)\n",
    "            else:\n",
    "                database_checked.append(False)\n",
    "\n",
    "        else:\n",
    "            database_checked.append(True)\n",
    "    else:\n",
    "        database_checked.append(True)\n",
    "#r = r[r['wt_residue'].apply(lambda x: x[0] in ['D','E'])]\n",
    "#results = pd.DataFrame({'ko':ko_list,'residue':residue_list,'idx': residue_ref_idx, 'midx': residue_msa_idx, 'count': count_occured, 'ncount': count_not_occured, 'frac': frac_occured})    "
   ]
  },
  {
   "cell_type": "code",
   "execution_count": 494,
   "metadata": {},
   "outputs": [],
   "source": [
    "structure['residue_check'] = database_checked"
   ]
  },
  {
   "cell_type": "code",
   "execution_count": 496,
   "metadata": {},
   "outputs": [
    {
     "data": {
      "text/html": [
       "<div>\n",
       "<style scoped>\n",
       "    .dataframe tbody tr th:only-of-type {\n",
       "        vertical-align: middle;\n",
       "    }\n",
       "\n",
       "    .dataframe tbody tr th {\n",
       "        vertical-align: top;\n",
       "    }\n",
       "\n",
       "    .dataframe thead th {\n",
       "        text-align: right;\n",
       "    }\n",
       "</style>\n",
       "<table border=\"1\" class=\"dataframe\">\n",
       "  <thead>\n",
       "    <tr style=\"text-align: right;\">\n",
       "      <th></th>\n",
       "      <th>gene name</th>\n",
       "      <th>uniprot</th>\n",
       "      <th>KO</th>\n",
       "      <th>Redundancy</th>\n",
       "      <th>Unique oxidoreductase reactions</th>\n",
       "      <th>iJO1344-reactions</th>\n",
       "      <th>Structure</th>\n",
       "      <th>Coenzyme Bound Structure</th>\n",
       "      <th>Homolog-Species</th>\n",
       "      <th>Homolog-KEGG</th>\n",
       "      <th>Homolog-Uniprot</th>\n",
       "      <th>Residues</th>\n",
       "      <th>Coenzyme</th>\n",
       "      <th>% Identity</th>\n",
       "      <th>Notes</th>\n",
       "      <th>residue_check</th>\n",
       "    </tr>\n",
       "    <tr>\n",
       "      <th>gene id</th>\n",
       "      <th></th>\n",
       "      <th></th>\n",
       "      <th></th>\n",
       "      <th></th>\n",
       "      <th></th>\n",
       "      <th></th>\n",
       "      <th></th>\n",
       "      <th></th>\n",
       "      <th></th>\n",
       "      <th></th>\n",
       "      <th></th>\n",
       "      <th></th>\n",
       "      <th></th>\n",
       "      <th></th>\n",
       "      <th></th>\n",
       "      <th></th>\n",
       "    </tr>\n",
       "  </thead>\n",
       "  <tbody>\n",
       "    <tr>\n",
       "      <th>b0002</th>\n",
       "      <td>thrA</td>\n",
       "      <td>P00561</td>\n",
       "      <td>K12524</td>\n",
       "      <td>Not unique</td>\n",
       "      <td>NaN</td>\n",
       "      <td>NaN</td>\n",
       "      <td>6MX1</td>\n",
       "      <td>6DZS</td>\n",
       "      <td>Mycolicibacterium hassiacum DSM 44199</td>\n",
       "      <td>has:MHAS_02717</td>\n",
       "      <td>K5BJC9</td>\n",
       "      <td>R50;R51;R56</td>\n",
       "      <td>NADP</td>\n",
       "      <td>NaN</td>\n",
       "      <td>hom;</td>\n",
       "      <td>True</td>\n",
       "    </tr>\n",
       "    <tr>\n",
       "      <th>b0031</th>\n",
       "      <td>dapB</td>\n",
       "      <td>P04036</td>\n",
       "      <td>K00215</td>\n",
       "      <td>NaN</td>\n",
       "      <td>DHDPRy</td>\n",
       "      <td>DHDPRy</td>\n",
       "      <td>1ARZ</td>\n",
       "      <td>1ARZ</td>\n",
       "      <td>Esherichia coli K12</td>\n",
       "      <td>eco:b0031</td>\n",
       "      <td>P04036</td>\n",
       "      <td>E38</td>\n",
       "      <td>NAD</td>\n",
       "      <td>100</td>\n",
       "      <td>dapB</td>\n",
       "      <td>True</td>\n",
       "    </tr>\n",
       "    <tr>\n",
       "      <th>b0116</th>\n",
       "      <td>lpdA</td>\n",
       "      <td>P0A9P0</td>\n",
       "      <td>K00382</td>\n",
       "      <td>NaN</td>\n",
       "      <td>AKGDH;GLYCL;PDH</td>\n",
       "      <td>AKGDH;GLYCL;PDH</td>\n",
       "      <td>4JDR</td>\n",
       "      <td>1LVL</td>\n",
       "      <td>Psuedomonas putida</td>\n",
       "      <td>ppu:PP_4404</td>\n",
       "      <td>P09063</td>\n",
       "      <td>E202</td>\n",
       "      <td>NAD</td>\n",
       "      <td>NaN</td>\n",
       "      <td>lpdV (structural is from different strain)</td>\n",
       "      <td>True</td>\n",
       "    </tr>\n",
       "    <tr>\n",
       "      <th>b0173</th>\n",
       "      <td>dxr</td>\n",
       "      <td>P45568</td>\n",
       "      <td>K00099</td>\n",
       "      <td>NaN</td>\n",
       "      <td>DXPRIi</td>\n",
       "      <td>DXPRIi</td>\n",
       "      <td>3ANL</td>\n",
       "      <td>3ANL</td>\n",
       "      <td>Esherichia coli K12</td>\n",
       "      <td>eco:b0173</td>\n",
       "      <td>P45568</td>\n",
       "      <td>T10;N38;K37</td>\n",
       "      <td>NADPH</td>\n",
       "      <td>100</td>\n",
       "      <td>Binding through peptide backbone</td>\n",
       "      <td>True</td>\n",
       "    </tr>\n",
       "    <tr>\n",
       "      <th>b0356</th>\n",
       "      <td>frmA</td>\n",
       "      <td>P25437</td>\n",
       "      <td>K00121</td>\n",
       "      <td>NaN</td>\n",
       "      <td>ALCD19;FALDH2</td>\n",
       "      <td>ALCD19;FALDH2</td>\n",
       "      <td>None</td>\n",
       "      <td>3UKO</td>\n",
       "      <td>Arabidopsis thaliana</td>\n",
       "      <td>ath:AT5G43940</td>\n",
       "      <td>Q96533</td>\n",
       "      <td>D226</td>\n",
       "      <td>NAD</td>\n",
       "      <td>59.1</td>\n",
       "      <td>NADH bound</td>\n",
       "      <td>True</td>\n",
       "    </tr>\n",
       "    <tr>\n",
       "      <th>...</th>\n",
       "      <td>...</td>\n",
       "      <td>...</td>\n",
       "      <td>...</td>\n",
       "      <td>...</td>\n",
       "      <td>...</td>\n",
       "      <td>...</td>\n",
       "      <td>...</td>\n",
       "      <td>...</td>\n",
       "      <td>...</td>\n",
       "      <td>...</td>\n",
       "      <td>...</td>\n",
       "      <td>...</td>\n",
       "      <td>...</td>\n",
       "      <td>...</td>\n",
       "      <td>...</td>\n",
       "      <td>...</td>\n",
       "    </tr>\n",
       "    <tr>\n",
       "      <th>b3575</th>\n",
       "      <td>yiaK</td>\n",
       "      <td>P37672</td>\n",
       "      <td>K08092</td>\n",
       "      <td>NaN</td>\n",
       "      <td>DOGULNR</td>\n",
       "      <td>NaN</td>\n",
       "      <td>1NXU,1S20</td>\n",
       "      <td>1S20</td>\n",
       "      <td>Esherichia coli K12</td>\n",
       "      <td>eco:b3575</td>\n",
       "      <td>P37672</td>\n",
       "      <td>E306</td>\n",
       "      <td>NAD</td>\n",
       "      <td>NaN</td>\n",
       "      <td>NaN</td>\n",
       "      <td>True</td>\n",
       "    </tr>\n",
       "    <tr>\n",
       "      <th>b3924</th>\n",
       "      <td>fpr</td>\n",
       "      <td>P28861</td>\n",
       "      <td>K00528</td>\n",
       "      <td>NaN</td>\n",
       "      <td>FLDR2</td>\n",
       "      <td>NaN</td>\n",
       "      <td>1FDR,2XNJ</td>\n",
       "      <td>2XNJ</td>\n",
       "      <td>Esherichia coli K12</td>\n",
       "      <td>eco:b3924</td>\n",
       "      <td>P28861</td>\n",
       "      <td>S173;R174;R184</td>\n",
       "      <td>NADP</td>\n",
       "      <td>NaN</td>\n",
       "      <td>NaN</td>\n",
       "      <td>True</td>\n",
       "    </tr>\n",
       "    <tr>\n",
       "      <th>b3941</th>\n",
       "      <td>metF</td>\n",
       "      <td>P0AEZ1</td>\n",
       "      <td>K00297</td>\n",
       "      <td>NaN</td>\n",
       "      <td>MTHFR2</td>\n",
       "      <td>NaN</td>\n",
       "      <td>3FST,3FSU,1ZP3,1ZP4,1ZPT,2FMN,1ZRQ,2FMO,1B5T,6PEY</td>\n",
       "      <td>1ZP4</td>\n",
       "      <td>Esherichia coli K12</td>\n",
       "      <td>eco:b3941</td>\n",
       "      <td>P0AEZ1</td>\n",
       "      <td>T59</td>\n",
       "      <td>NADH</td>\n",
       "      <td>NaN</td>\n",
       "      <td>L277 could exclused phosphate on 2' hydroxyl f...</td>\n",
       "      <td>True</td>\n",
       "    </tr>\n",
       "    <tr>\n",
       "      <th>b3972</th>\n",
       "      <td>murB</td>\n",
       "      <td>P08373</td>\n",
       "      <td>K00075</td>\n",
       "      <td>NaN</td>\n",
       "      <td>UAPGR</td>\n",
       "      <td>NaN</td>\n",
       "      <td>1UXY,2MBR,1MBB,2Q85,1MBT</td>\n",
       "      <td>4JAY</td>\n",
       "      <td>Pseudomonas aeruginosa PAO1</td>\n",
       "      <td>pae:PA2977</td>\n",
       "      <td>Q9HZM7</td>\n",
       "      <td>Y196;K272</td>\n",
       "      <td>NADP</td>\n",
       "      <td>42.2</td>\n",
       "      <td>NaN</td>\n",
       "      <td>True</td>\n",
       "    </tr>\n",
       "    <tr>\n",
       "      <th>b4323</th>\n",
       "      <td>uxuB</td>\n",
       "      <td>P39160</td>\n",
       "      <td>K00040</td>\n",
       "      <td>NaN</td>\n",
       "      <td>MANAO</td>\n",
       "      <td>NaN</td>\n",
       "      <td>None</td>\n",
       "      <td>4IM7</td>\n",
       "      <td>Escherichia coli O6:H1</td>\n",
       "      <td>ecd:ECDH10B_1673</td>\n",
       "      <td>A0A0H2V7F2</td>\n",
       "      <td>N58</td>\n",
       "      <td>NADH</td>\n",
       "      <td>56.2</td>\n",
       "      <td>Mostly through backbone interactions, no room ...</td>\n",
       "      <td>True</td>\n",
       "    </tr>\n",
       "  </tbody>\n",
       "</table>\n",
       "<p>66 rows × 16 columns</p>\n",
       "</div>"
      ],
      "text/plain": [
       "        gene name uniprot      KO  Redundancy Unique oxidoreductase reactions  \\\n",
       "gene id                                                                         \n",
       "b0002        thrA  P00561  K12524  Not unique                             NaN   \n",
       "b0031        dapB  P04036  K00215         NaN                          DHDPRy   \n",
       "b0116        lpdA  P0A9P0  K00382         NaN                 AKGDH;GLYCL;PDH   \n",
       "b0173         dxr  P45568  K00099         NaN                          DXPRIi   \n",
       "b0356        frmA  P25437  K00121         NaN                   ALCD19;FALDH2   \n",
       "...           ...     ...     ...         ...                             ...   \n",
       "b3575        yiaK  P37672  K08092         NaN                         DOGULNR   \n",
       "b3924         fpr  P28861  K00528         NaN                           FLDR2   \n",
       "b3941        metF  P0AEZ1  K00297         NaN                          MTHFR2   \n",
       "b3972        murB  P08373  K00075         NaN                           UAPGR   \n",
       "b4323        uxuB  P39160  K00040         NaN                           MANAO   \n",
       "\n",
       "        iJO1344-reactions                                          Structure  \\\n",
       "gene id                                                                        \n",
       "b0002                 NaN                                               6MX1   \n",
       "b0031              DHDPRy                                               1ARZ   \n",
       "b0116     AKGDH;GLYCL;PDH                                               4JDR   \n",
       "b0173              DXPRIi                                               3ANL   \n",
       "b0356       ALCD19;FALDH2                                               None   \n",
       "...                   ...                                                ...   \n",
       "b3575                 NaN                                          1NXU,1S20   \n",
       "b3924                 NaN                                          1FDR,2XNJ   \n",
       "b3941                 NaN  3FST,3FSU,1ZP3,1ZP4,1ZPT,2FMN,1ZRQ,2FMO,1B5T,6PEY   \n",
       "b3972                 NaN                           1UXY,2MBR,1MBB,2Q85,1MBT   \n",
       "b4323                 NaN                                               None   \n",
       "\n",
       "        Coenzyme Bound Structure                        Homolog-Species  \\\n",
       "gene id                                                                   \n",
       "b0002                       6DZS  Mycolicibacterium hassiacum DSM 44199   \n",
       "b0031                       1ARZ                    Esherichia coli K12   \n",
       "b0116                       1LVL                     Psuedomonas putida   \n",
       "b0173                       3ANL                    Esherichia coli K12   \n",
       "b0356                       3UKO                   Arabidopsis thaliana   \n",
       "...                          ...                                    ...   \n",
       "b3575                       1S20                    Esherichia coli K12   \n",
       "b3924                       2XNJ                    Esherichia coli K12   \n",
       "b3941                       1ZP4                    Esherichia coli K12   \n",
       "b3972                       4JAY            Pseudomonas aeruginosa PAO1   \n",
       "b4323                       4IM7                 Escherichia coli O6:H1   \n",
       "\n",
       "             Homolog-KEGG Homolog-Uniprot        Residues Coenzyme % Identity  \\\n",
       "gene id                                                                         \n",
       "b0002      has:MHAS_02717          K5BJC9     R50;R51;R56     NADP        NaN   \n",
       "b0031           eco:b0031          P04036             E38      NAD        100   \n",
       "b0116         ppu:PP_4404          P09063            E202      NAD        NaN   \n",
       "b0173           eco:b0173          P45568     T10;N38;K37    NADPH        100   \n",
       "b0356       ath:AT5G43940          Q96533            D226      NAD       59.1   \n",
       "...                   ...             ...             ...      ...        ...   \n",
       "b3575           eco:b3575          P37672            E306      NAD        NaN   \n",
       "b3924           eco:b3924          P28861  S173;R174;R184     NADP        NaN   \n",
       "b3941           eco:b3941          P0AEZ1             T59     NADH        NaN   \n",
       "b3972          pae:PA2977          Q9HZM7       Y196;K272     NADP       42.2   \n",
       "b4323    ecd:ECDH10B_1673      A0A0H2V7F2             N58     NADH       56.2   \n",
       "\n",
       "                                                     Notes  residue_check  \n",
       "gene id                                                                    \n",
       "b0002                                                hom;            True  \n",
       "b0031                                                 dapB           True  \n",
       "b0116           lpdV (structural is from different strain)           True  \n",
       "b0173                     Binding through peptide backbone           True  \n",
       "b0356                                           NADH bound           True  \n",
       "...                                                    ...            ...  \n",
       "b3575                                                  NaN           True  \n",
       "b3924                                                  NaN           True  \n",
       "b3941    L277 could exclused phosphate on 2' hydroxyl f...           True  \n",
       "b3972                                                  NaN           True  \n",
       "b4323    Mostly through backbone interactions, no room ...           True  \n",
       "\n",
       "[66 rows x 16 columns]"
      ]
     },
     "execution_count": 496,
     "metadata": {},
     "output_type": "execute_result"
    }
   ],
   "source": [
    "structure"
   ]
  },
  {
   "cell_type": "code",
   "execution_count": 344,
   "metadata": {},
   "outputs": [
    {
     "data": {
      "text/plain": [
       "True"
      ]
     },
     "execution_count": 344,
     "metadata": {},
     "output_type": "execute_result"
    }
   ],
   "source": [
    "set(msa_seq_residues) == set(database_residues)"
   ]
  },
  {
   "cell_type": "code",
   "execution_count": 343,
   "metadata": {},
   "outputs": [
    {
     "data": {
      "text/plain": [
       "['K_41', 'R_37', 'N_36', 'S_38']"
      ]
     },
     "execution_count": 343,
     "metadata": {},
     "output_type": "execute_result"
    }
   ],
   "source": [
    "list(set(msa_seq_residues).intersection(set(database_residues)))"
   ]
  },
  {
   "cell_type": "code",
   "execution_count": 156,
   "metadata": {},
   "outputs": [],
   "source": [
    "results = {'KO':[],'coenzymes':[],'ridx':[],'ref_residue':[],'frac':[]}\n",
    "for (ko,ridx), dff in dfs.groupby(['KO','ref_residue_idx']):\n",
    "    \n",
    "    coenzymes = structure[structure.KO == ko]['Coenzyme'].dropna().tolist()\n",
    "    ref_residue = dff['ref_residue'].unique()[0]\n",
    "    tp = dff[dff['residue'] == ref_residue].numSeqs.values[0]\n",
    "    fp = dff[dff['residue'] != ref_residue].numSeqs.values.sum()\n",
    "    frac = tp/(tp+fp)\n",
    "    results['KO'].append(ko); \n",
    "    results['ridx'].append(ridx); \n",
    "    results['ref_residue'].append(ref_residue);\n",
    "    results['frac'].append(frac)\n",
    "    results['coenzymes'].append(\";\".join(coenzymes))\n",
    "    \n",
    "results = pd.DataFrame(results)"
   ]
  },
  {
   "cell_type": "code",
   "execution_count": null,
   "metadata": {},
   "outputs": [],
   "source": []
  },
  {
   "cell_type": "code",
   "execution_count": 162,
   "metadata": {},
   "outputs": [
    {
     "data": {
      "text/html": [
       "<div>\n",
       "<style scoped>\n",
       "    .dataframe tbody tr th:only-of-type {\n",
       "        vertical-align: middle;\n",
       "    }\n",
       "\n",
       "    .dataframe tbody tr th {\n",
       "        vertical-align: top;\n",
       "    }\n",
       "\n",
       "    .dataframe thead th {\n",
       "        text-align: right;\n",
       "    }\n",
       "</style>\n",
       "<table border=\"1\" class=\"dataframe\">\n",
       "  <thead>\n",
       "    <tr style=\"text-align: right;\">\n",
       "      <th></th>\n",
       "      <th>residue</th>\n",
       "      <th>index</th>\n",
       "    </tr>\n",
       "  </thead>\n",
       "  <tbody>\n",
       "    <tr>\n",
       "      <th>261</th>\n",
       "      <td>L</td>\n",
       "      <td>59.0</td>\n",
       "    </tr>\n",
       "  </tbody>\n",
       "</table>\n",
       "</div>"
      ],
      "text/plain": [
       "    residue  index\n",
       "261       L   59.0"
      ]
     },
     "execution_count": 162,
     "metadata": {},
     "output_type": "execute_result"
    }
   ],
   "source": [
    "sdf"
   ]
  },
  {
   "cell_type": "code",
   "execution_count": 55,
   "metadata": {},
   "outputs": [],
   "source": [
    "dfs_new = pd.concat(dfs_new,axis=0)\n",
    "dfs_new = dfs_new[dfs_new['ref_residue'].isin(['D','E'])]\n",
    "prop = dfs_new.pivot_table(index='KO',columns = ['residue'],values='proportion').fillna(0).T\n",
    "p = prop.T.join(structure.reset_index()[['KO','gene name']].set_index('KO')).reset_index()\n",
    "p['id'] = p['gene name'] + ' (' + p['KO'] + ')'\n",
    "p.set_index(['KO','gene name'],inplace=True)\n",
    "p.set_index('id',inplace=True)\n"
   ]
  },
  {
   "cell_type": "code",
   "execution_count": 70,
   "metadata": {},
   "outputs": [],
   "source": [
    "mean_rgr = dfst_normalized[[x for x in list(p.T) if x in list(dfst_normalized)]].min().sort_values()"
   ]
  },
  {
   "cell_type": "code",
   "execution_count": 71,
   "metadata": {},
   "outputs": [],
   "source": [
    "conservation = p['E'] + p['D']"
   ]
  },
  {
   "cell_type": "code",
   "execution_count": 72,
   "metadata": {},
   "outputs": [
    {
     "data": {
      "text/plain": [
       "leuB (K00052)    0.000000\n",
       "pdxB (K03473)    0.000000\n",
       "gapA (K00134)    0.000401\n",
       "mdh (K00024)     0.006426\n",
       "frmA (K00121)    0.734684\n",
       "tdh (K00060)     0.997261\n",
       "rfbD (K00067)    0.999998\n",
       "wecC (K02472)    0.999998\n",
       "astD (K06447)    0.999998\n",
       "ugd (K00012)     0.999998\n",
       "dapB (K00215)    0.999998\n",
       "maeA (K00027)    0.999998\n",
       "hisD (K00013)    0.999998\n",
       "dtype: float64"
      ]
     },
     "execution_count": 72,
     "metadata": {},
     "output_type": "execute_result"
    }
   ],
   "source": [
    "mean_rgr"
   ]
  },
  {
   "cell_type": "code",
   "execution_count": 132,
   "metadata": {},
   "outputs": [],
   "source": [
    "cpr = pd.DataFrame(conservation,columns = ['conservation']).join(pd.DataFrame(mean_rgr,columns=['mean growth rate'])).dropna()"
   ]
  },
  {
   "cell_type": "code",
   "execution_count": 83,
   "metadata": {},
   "outputs": [],
   "source": [
    "gs = pd.read_csv('../assets/mutantGeneSet.reactionDirectionUpdateRules.MR4.csv')"
   ]
  },
  {
   "cell_type": "code",
   "execution_count": 125,
   "metadata": {},
   "outputs": [],
   "source": [
    "ids['gene id'] = ids['gene id'].apply(lambda x: x.strip())"
   ]
  },
  {
   "cell_type": "code",
   "execution_count": 129,
   "metadata": {},
   "outputs": [],
   "source": [
    "nad_genes = gs[gs['wild type coenzyme'].isin(['NAD(H)'])].gene.tolist()"
   ]
  },
  {
   "cell_type": "code",
   "execution_count": 131,
   "metadata": {},
   "outputs": [
    {
     "data": {
      "text/plain": [
       "['lpdA (K00382)',\n",
       " 'frmA (K00121)',\n",
       " 'maeA (K00027)',\n",
       " 'astD (K06447)',\n",
       " 'gapA (K00134)',\n",
       " 'hisD (K00013)',\n",
       " 'ugd (K00012)',\n",
       " 'pdxB (K03473)',\n",
       " 'mdh (K00024)',\n",
       " 'tdh (K00060)',\n",
       " 'wecC (K02472)',\n",
       " 'leuB (K00052)',\n",
       " 'allD (K00073)',\n",
       " 'dmlA (K07246)',\n",
       " 'tyrA (K14187)',\n",
       " 'fucO (K00048)',\n",
       " 'yiaK (K08092)']"
      ]
     },
     "execution_count": 131,
     "metadata": {},
     "output_type": "execute_result"
    }
   ],
   "source": [
    "ids[ids['gene id'].isin(nad_genes)].id.tolist()"
   ]
  },
  {
   "cell_type": "code",
   "execution_count": 106,
   "metadata": {},
   "outputs": [],
   "source": [
    "import seaborn as sns\n",
    "import matplotlib.pyplot as plt\n",
    "\n",
    "\n",
    "def label_point(x, y, val, ax):\n",
    "    a = pd.DataFrame({'x': x, 'y': y, 'val': val})\n",
    "    for i, point in a.iterrows():\n",
    "        ax.text(point['x']+.002, point['y'], point['val'])\n",
    "        \n",
    "plt.rcParams.update({\n",
    "    \"text.usetex\": False,\n",
    "    \"font.family\": \"sans-serif\",\n",
    "    \"font.sans-serif\": [\"Helvetica\"]})"
   ]
  },
  {
   "cell_type": "code",
   "execution_count": 133,
   "metadata": {},
   "outputs": [],
   "source": [
    "idl = ids[ids['gene id'].isin(nad_genes)].id.tolist()\n",
    "cpr = cpr.reset_index()\n",
    "cpr_nad = cpr[cpr.id.isin(idl)]"
   ]
  },
  {
   "cell_type": "code",
   "execution_count": 134,
   "metadata": {},
   "outputs": [
    {
     "data": {
      "text/html": [
       "<div>\n",
       "<style scoped>\n",
       "    .dataframe tbody tr th:only-of-type {\n",
       "        vertical-align: middle;\n",
       "    }\n",
       "\n",
       "    .dataframe tbody tr th {\n",
       "        vertical-align: top;\n",
       "    }\n",
       "\n",
       "    .dataframe thead th {\n",
       "        text-align: right;\n",
       "    }\n",
       "</style>\n",
       "<table border=\"1\" class=\"dataframe\">\n",
       "  <thead>\n",
       "    <tr style=\"text-align: right;\">\n",
       "      <th></th>\n",
       "      <th>id</th>\n",
       "      <th>conservation</th>\n",
       "      <th>mean growth rate</th>\n",
       "    </tr>\n",
       "  </thead>\n",
       "  <tbody>\n",
       "    <tr>\n",
       "      <th>4</th>\n",
       "      <td>leuB (K00052)</td>\n",
       "      <td>0.937</td>\n",
       "      <td>0.000000</td>\n",
       "    </tr>\n",
       "    <tr>\n",
       "      <th>11</th>\n",
       "      <td>pdxB (K03473)</td>\n",
       "      <td>1.000</td>\n",
       "      <td>0.000000</td>\n",
       "    </tr>\n",
       "    <tr>\n",
       "      <th>8</th>\n",
       "      <td>gapA (K00134)</td>\n",
       "      <td>0.881</td>\n",
       "      <td>0.000401</td>\n",
       "    </tr>\n",
       "    <tr>\n",
       "      <th>2</th>\n",
       "      <td>mdh (K00024)</td>\n",
       "      <td>0.975</td>\n",
       "      <td>0.006426</td>\n",
       "    </tr>\n",
       "    <tr>\n",
       "      <th>7</th>\n",
       "      <td>frmA (K00121)</td>\n",
       "      <td>0.996</td>\n",
       "      <td>0.734684</td>\n",
       "    </tr>\n",
       "    <tr>\n",
       "      <th>5</th>\n",
       "      <td>tdh (K00060)</td>\n",
       "      <td>0.993</td>\n",
       "      <td>0.997261</td>\n",
       "    </tr>\n",
       "    <tr>\n",
       "      <th>10</th>\n",
       "      <td>wecC (K02472)</td>\n",
       "      <td>0.965</td>\n",
       "      <td>0.999998</td>\n",
       "    </tr>\n",
       "    <tr>\n",
       "      <th>12</th>\n",
       "      <td>astD (K06447)</td>\n",
       "      <td>0.997</td>\n",
       "      <td>0.999998</td>\n",
       "    </tr>\n",
       "    <tr>\n",
       "      <th>0</th>\n",
       "      <td>ugd (K00012)</td>\n",
       "      <td>0.973</td>\n",
       "      <td>0.999998</td>\n",
       "    </tr>\n",
       "    <tr>\n",
       "      <th>3</th>\n",
       "      <td>maeA (K00027)</td>\n",
       "      <td>0.938</td>\n",
       "      <td>0.999998</td>\n",
       "    </tr>\n",
       "    <tr>\n",
       "      <th>1</th>\n",
       "      <td>hisD (K00013)</td>\n",
       "      <td>0.993</td>\n",
       "      <td>0.999998</td>\n",
       "    </tr>\n",
       "  </tbody>\n",
       "</table>\n",
       "</div>"
      ],
      "text/plain": [
       "               id  conservation  mean growth rate\n",
       "4   leuB (K00052)         0.937          0.000000\n",
       "11  pdxB (K03473)         1.000          0.000000\n",
       "8   gapA (K00134)         0.881          0.000401\n",
       "2    mdh (K00024)         0.975          0.006426\n",
       "7   frmA (K00121)         0.996          0.734684\n",
       "5    tdh (K00060)         0.993          0.997261\n",
       "10  wecC (K02472)         0.965          0.999998\n",
       "12  astD (K06447)         0.997          0.999998\n",
       "0    ugd (K00012)         0.973          0.999998\n",
       "3   maeA (K00027)         0.938          0.999998\n",
       "1   hisD (K00013)         0.993          0.999998"
      ]
     },
     "execution_count": 134,
     "metadata": {},
     "output_type": "execute_result"
    }
   ],
   "source": [
    "cpr_nad.sort_values('mean growth rate')"
   ]
  },
  {
   "cell_type": "code",
   "execution_count": 135,
   "metadata": {},
   "outputs": [
    {
     "data": {
      "image/png": "[encoded data removed]",
      "text/plain": [
       "<Figure size 432x288 with 1 Axes>"
      ]
     },
     "metadata": {
      "needs_background": "light"
     },
     "output_type": "display_data"
    }
   ],
   "source": [
    "\n",
    "ax = sns.scatterplot(x='conservation',y='mean growth rate',data=cpr_nad,color='grey')\n",
    "label_point(cpr_nad['conservation'].tolist(),cpr_nad['mean growth rate'].tolist(),cpr_nad['id'].tolist(),ax)\n",
    "plt.xlabel('conservation of ribosyl-coordinating Asp/Glu')\n",
    "plt.ylabel('min growth rate of coenzyme mutant')\n",
    "plt.savefig('orthogroups.DE.conservation.Vs.GrowthRate.svg')"
   ]
  },
  {
   "cell_type": "code",
   "execution_count": 139,
   "metadata": {
    "collapsed": true,
    "jupyter": {
     "outputs_hidden": true
    }
   },
   "outputs": [
    {
     "ename": "KeyError",
     "evalue": "\"Passing list-likes to .loc or [] with any missing labels is no longer supported. The following labels were missing: Index(['lpdA (K00382)', 'allD (K00073)', 'dmlA (K07246)', 'tyrA (K14187)',\\n       'fucO (K00048)', 'yiaK (K08092)'],\\n      dtype='object', name='id'). See https://pandas.pydata.org/pandas-docs/stable/user_guide/indexing.html#deprecate-loc-reindex-listlike\"",
     "output_type": "error",
     "traceback": [
      "\u001b[0;31m---------------------------------------------------------------------------\u001b[0m",
      "\u001b[0;31mKeyError\u001b[0m                                  Traceback (most recent call last)",
      "\u001b[0;32m<ipython-input-139-03f80288038d>\u001b[0m in \u001b[0;36m<module>\u001b[0;34m\u001b[0m\n\u001b[0;32m----> 1\u001b[0;31m \u001b[0mp\u001b[0m\u001b[0;34m.\u001b[0m\u001b[0mloc\u001b[0m\u001b[0;34m[\u001b[0m\u001b[0midl\u001b[0m\u001b[0;34m]\u001b[0m\u001b[0;34m\u001b[0m\u001b[0;34m\u001b[0m\u001b[0m\n\u001b[0m",
      "\u001b[0;32m~/opt/miniconda3/envs/coenzyme_paper/lib/python3.8/site-packages/pandas/core/indexing.py\u001b[0m in \u001b[0;36m__getitem__\u001b[0;34m(self, key)\u001b[0m\n\u001b[1;32m    877\u001b[0m \u001b[0;34m\u001b[0m\u001b[0m\n\u001b[1;32m    878\u001b[0m             \u001b[0mmaybe_callable\u001b[0m \u001b[0;34m=\u001b[0m \u001b[0mcom\u001b[0m\u001b[0;34m.\u001b[0m\u001b[0mapply_if_callable\u001b[0m\u001b[0;34m(\u001b[0m\u001b[0mkey\u001b[0m\u001b[0;34m,\u001b[0m \u001b[0mself\u001b[0m\u001b[0;34m.\u001b[0m\u001b[0mobj\u001b[0m\u001b[0;34m)\u001b[0m\u001b[0;34m\u001b[0m\u001b[0;34m\u001b[0m\u001b[0m\n\u001b[0;32m--> 879\u001b[0;31m             \u001b[0;32mreturn\u001b[0m \u001b[0mself\u001b[0m\u001b[0;34m.\u001b[0m\u001b[0m_getitem_axis\u001b[0m\u001b[0;34m(\u001b[0m\u001b[0mmaybe_callable\u001b[0m\u001b[0;34m,\u001b[0m \u001b[0maxis\u001b[0m\u001b[0;34m=\u001b[0m\u001b[0maxis\u001b[0m\u001b[0;34m)\u001b[0m\u001b[0;34m\u001b[0m\u001b[0;34m\u001b[0m\u001b[0m\n\u001b[0m\u001b[1;32m    880\u001b[0m \u001b[0;34m\u001b[0m\u001b[0m\n\u001b[1;32m    881\u001b[0m     \u001b[0;32mdef\u001b[0m \u001b[0m_is_scalar_access\u001b[0m\u001b[0;34m(\u001b[0m\u001b[0mself\u001b[0m\u001b[0;34m,\u001b[0m \u001b[0mkey\u001b[0m\u001b[0;34m:\u001b[0m \u001b[0mTuple\u001b[0m\u001b[0;34m)\u001b[0m\u001b[0;34m:\u001b[0m\u001b[0;34m\u001b[0m\u001b[0;34m\u001b[0m\u001b[0m\n",
      "\u001b[0;32m~/opt/miniconda3/envs/coenzyme_paper/lib/python3.8/site-packages/pandas/core/indexing.py\u001b[0m in \u001b[0;36m_getitem_axis\u001b[0;34m(self, key, axis)\u001b[0m\n\u001b[1;32m   1097\u001b[0m                     \u001b[0;32mraise\u001b[0m \u001b[0mValueError\u001b[0m\u001b[0;34m(\u001b[0m\u001b[0;34m\"Cannot index with multidimensional key\"\u001b[0m\u001b[0;34m)\u001b[0m\u001b[0;34m\u001b[0m\u001b[0;34m\u001b[0m\u001b[0m\n\u001b[1;32m   1098\u001b[0m \u001b[0;34m\u001b[0m\u001b[0m\n\u001b[0;32m-> 1099\u001b[0;31m                 \u001b[0;32mreturn\u001b[0m \u001b[0mself\u001b[0m\u001b[0;34m.\u001b[0m\u001b[0m_getitem_iterable\u001b[0m\u001b[0;34m(\u001b[0m\u001b[0mkey\u001b[0m\u001b[0;34m,\u001b[0m \u001b[0maxis\u001b[0m\u001b[0;34m=\u001b[0m\u001b[0maxis\u001b[0m\u001b[0;34m)\u001b[0m\u001b[0;34m\u001b[0m\u001b[0;34m\u001b[0m\u001b[0m\n\u001b[0m\u001b[1;32m   1100\u001b[0m \u001b[0;34m\u001b[0m\u001b[0m\n\u001b[1;32m   1101\u001b[0m             \u001b[0;31m# nested tuple slicing\u001b[0m\u001b[0;34m\u001b[0m\u001b[0;34m\u001b[0m\u001b[0;34m\u001b[0m\u001b[0m\n",
      "\u001b[0;32m~/opt/miniconda3/envs/coenzyme_paper/lib/python3.8/site-packages/pandas/core/indexing.py\u001b[0m in \u001b[0;36m_getitem_iterable\u001b[0;34m(self, key, axis)\u001b[0m\n\u001b[1;32m   1035\u001b[0m \u001b[0;34m\u001b[0m\u001b[0m\n\u001b[1;32m   1036\u001b[0m         \u001b[0;31m# A collection of keys\u001b[0m\u001b[0;34m\u001b[0m\u001b[0;34m\u001b[0m\u001b[0;34m\u001b[0m\u001b[0m\n\u001b[0;32m-> 1037\u001b[0;31m         \u001b[0mkeyarr\u001b[0m\u001b[0;34m,\u001b[0m \u001b[0mindexer\u001b[0m \u001b[0;34m=\u001b[0m \u001b[0mself\u001b[0m\u001b[0;34m.\u001b[0m\u001b[0m_get_listlike_indexer\u001b[0m\u001b[0;34m(\u001b[0m\u001b[0mkey\u001b[0m\u001b[0;34m,\u001b[0m \u001b[0maxis\u001b[0m\u001b[0;34m,\u001b[0m \u001b[0mraise_missing\u001b[0m\u001b[0;34m=\u001b[0m\u001b[0;32mFalse\u001b[0m\u001b[0;34m)\u001b[0m\u001b[0;34m\u001b[0m\u001b[0;34m\u001b[0m\u001b[0m\n\u001b[0m\u001b[1;32m   1038\u001b[0m         return self.obj._reindex_with_indexers(\n\u001b[1;32m   1039\u001b[0m             \u001b[0;34m{\u001b[0m\u001b[0maxis\u001b[0m\u001b[0;34m:\u001b[0m \u001b[0;34m[\u001b[0m\u001b[0mkeyarr\u001b[0m\u001b[0;34m,\u001b[0m \u001b[0mindexer\u001b[0m\u001b[0;34m]\u001b[0m\u001b[0;34m}\u001b[0m\u001b[0;34m,\u001b[0m \u001b[0mcopy\u001b[0m\u001b[0;34m=\u001b[0m\u001b[0;32mTrue\u001b[0m\u001b[0;34m,\u001b[0m \u001b[0mallow_dups\u001b[0m\u001b[0;34m=\u001b[0m\u001b[0;32mTrue\u001b[0m\u001b[0;34m\u001b[0m\u001b[0;34m\u001b[0m\u001b[0m\n",
      "\u001b[0;32m~/opt/miniconda3/envs/coenzyme_paper/lib/python3.8/site-packages/pandas/core/indexing.py\u001b[0m in \u001b[0;36m_get_listlike_indexer\u001b[0;34m(self, key, axis, raise_missing)\u001b[0m\n\u001b[1;32m   1252\u001b[0m             \u001b[0mkeyarr\u001b[0m\u001b[0;34m,\u001b[0m \u001b[0mindexer\u001b[0m\u001b[0;34m,\u001b[0m \u001b[0mnew_indexer\u001b[0m \u001b[0;34m=\u001b[0m \u001b[0max\u001b[0m\u001b[0;34m.\u001b[0m\u001b[0m_reindex_non_unique\u001b[0m\u001b[0;34m(\u001b[0m\u001b[0mkeyarr\u001b[0m\u001b[0;34m)\u001b[0m\u001b[0;34m\u001b[0m\u001b[0;34m\u001b[0m\u001b[0m\n\u001b[1;32m   1253\u001b[0m \u001b[0;34m\u001b[0m\u001b[0m\n\u001b[0;32m-> 1254\u001b[0;31m         \u001b[0mself\u001b[0m\u001b[0;34m.\u001b[0m\u001b[0m_validate_read_indexer\u001b[0m\u001b[0;34m(\u001b[0m\u001b[0mkeyarr\u001b[0m\u001b[0;34m,\u001b[0m \u001b[0mindexer\u001b[0m\u001b[0;34m,\u001b[0m \u001b[0maxis\u001b[0m\u001b[0;34m,\u001b[0m \u001b[0mraise_missing\u001b[0m\u001b[0;34m=\u001b[0m\u001b[0mraise_missing\u001b[0m\u001b[0;34m)\u001b[0m\u001b[0;34m\u001b[0m\u001b[0;34m\u001b[0m\u001b[0m\n\u001b[0m\u001b[1;32m   1255\u001b[0m         \u001b[0;32mreturn\u001b[0m \u001b[0mkeyarr\u001b[0m\u001b[0;34m,\u001b[0m \u001b[0mindexer\u001b[0m\u001b[0;34m\u001b[0m\u001b[0;34m\u001b[0m\u001b[0m\n\u001b[1;32m   1256\u001b[0m \u001b[0;34m\u001b[0m\u001b[0m\n",
      "\u001b[0;32m~/opt/miniconda3/envs/coenzyme_paper/lib/python3.8/site-packages/pandas/core/indexing.py\u001b[0m in \u001b[0;36m_validate_read_indexer\u001b[0;34m(self, key, indexer, axis, raise_missing)\u001b[0m\n\u001b[1;32m   1313\u001b[0m \u001b[0;34m\u001b[0m\u001b[0m\n\u001b[1;32m   1314\u001b[0m                 \u001b[0;32mwith\u001b[0m \u001b[0moption_context\u001b[0m\u001b[0;34m(\u001b[0m\u001b[0;34m\"display.max_seq_items\"\u001b[0m\u001b[0;34m,\u001b[0m \u001b[0;36m10\u001b[0m\u001b[0;34m,\u001b[0m \u001b[0;34m\"display.width\"\u001b[0m\u001b[0;34m,\u001b[0m \u001b[0;36m80\u001b[0m\u001b[0;34m)\u001b[0m\u001b[0;34m:\u001b[0m\u001b[0;34m\u001b[0m\u001b[0;34m\u001b[0m\u001b[0m\n\u001b[0;32m-> 1315\u001b[0;31m                     raise KeyError(\n\u001b[0m\u001b[1;32m   1316\u001b[0m                         \u001b[0;34m\"Passing list-likes to .loc or [] with any missing labels \"\u001b[0m\u001b[0;34m\u001b[0m\u001b[0;34m\u001b[0m\u001b[0m\n\u001b[1;32m   1317\u001b[0m                         \u001b[0;34m\"is no longer supported. \"\u001b[0m\u001b[0;34m\u001b[0m\u001b[0;34m\u001b[0m\u001b[0m\n",
      "\u001b[0;31mKeyError\u001b[0m: \"Passing list-likes to .loc or [] with any missing labels is no longer supported. The following labels were missing: Index(['lpdA (K00382)', 'allD (K00073)', 'dmlA (K07246)', 'tyrA (K14187)',\\n       'fucO (K00048)', 'yiaK (K08092)'],\\n      dtype='object', name='id'). See https://pandas.pydata.org/pandas-docs/stable/user_guide/indexing.html#deprecate-loc-reindex-listlike\""
     ]
    }
   ],
   "source": [
    "p.loc[idl]"
   ]
  },
  {
   "cell_type": "code",
   "execution_count": 158,
   "metadata": {},
   "outputs": [
    {
     "data": {
      "image/png": "[encoded data removed]",
      "text/plain": [
       "<Figure size 432x288 with 2 Axes>"
      ]
     },
     "metadata": {
      "needs_background": "light"
     },
     "output_type": "display_data"
    }
   ],
   "source": [
    "sns.heatmap(p.reset_index()[p.reset_index().id.isin(idl)].set_index('id'),cmap=\"Blues\")\n",
    "plt.xlabel('amino acid residue')\n",
    "plt.ylabel('NAD-coupled oxidoreductase')\n",
    "plt.savefig('orthogroups.DE.conservation.heatmap.svg')"
   ]
  },
  {
   "cell_type": "code",
   "execution_count": 1,
   "metadata": {},
   "outputs": [
    {
     "data": {
      "text/plain": [
       "42"
      ]
     },
     "execution_count": 1,
     "metadata": {},
     "output_type": "execute_result"
    }
   ],
   "source": [
    "len('YDRTVGIVGVGNVGRRLQARLEALGIKTLLCDPPRADRGDEG')"
   ]
  },
  {
   "cell_type": "code",
   "execution_count": null,
   "metadata": {},
   "outputs": [],
   "source": []
  }
 ],
 "metadata": {
  "kernelspec": {
   "display_name": "Python (informatics3)",
   "language": "python",
   "name": "informatics3"
  },
  "language_info": {
   "codemirror_mode": {
    "name": "ipython",
    "version": 3
   },
   "file_extension": ".py",
   "mimetype": "text/x-python",
   "name": "python",
   "nbconvert_exporter": "python",
   "pygments_lexer": "ipython3",
   "version": "3.6.12"
  }
 },
 "nbformat": 4,
 "nbformat_minor": 4
}
