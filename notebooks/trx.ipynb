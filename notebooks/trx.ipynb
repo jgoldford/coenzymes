{
 "cells": [
  {
   "cell_type": "code",
   "execution_count": 1,
   "id": "prescribed-blanket",
   "metadata": {},
   "outputs": [],
   "source": [
    "import pandas as pd\n",
    "import numpy as np\n",
    "import requests\n",
    "\n",
    "import seaborn as sns\n",
    "import matplotlib.pyplot as plt\n",
    "import matplotlib\n",
    "\n",
    "# Say, \"the default sans-serif font is COMIC SANS\"\n",
    "matplotlib.rcParams['font.sans-serif'] = \"Arial\"\n",
    "# Then, \"ALWAYS use sans-serif fonts\"\n"
   ]
  },
  {
   "cell_type": "code",
   "execution_count": 26,
   "id": "center-stack",
   "metadata": {},
   "outputs": [],
   "source": [
    "def ko2genes(ko):\n",
    "    url = 'http://rest.kegg.jp/link/genes/' + ko\n",
    "    r = requests.get(url)\n",
    "    geneKO = pd.DataFrame([x.split('\\t') for x in r.text.split('\\n')],columns=['ko','gene'])\n",
    "    geneKO = geneKO.iloc[0:-1]\n",
    "    return geneKO\n",
    "\n",
    "def count_occurs(gene_df):\n",
    "    gene_df['species'] = gene_df['gene'].apply(lambda x: x.split(':')[0])\n",
    "    gene_df['count'] = 1\n",
    "    gene_df = gene_df.groupby('species').sum()\n",
    "    return gene_df\n"
   ]
  },
  {
   "cell_type": "code",
   "execution_count": 31,
   "id": "talented-market",
   "metadata": {},
   "outputs": [],
   "source": [
    "trx1 = 'K03671'\n",
    "trx2 = 'K03672'\n",
    "trxy = 'K05838'"
   ]
  },
  {
   "cell_type": "code",
   "execution_count": 32,
   "id": "driven-norfolk",
   "metadata": {},
   "outputs": [],
   "source": [
    "genes_trx1 = ko2genes(trx1)\n",
    "genes_trx2 = ko2genes(trx2)\n",
    "genes_trxy = ko2genes(trxy)\n",
    "\n",
    "\n",
    "species_trx1 = count_occurs(genes_trx1)\n",
    "species_trx2 = count_occurs(genes_trx2)\n",
    "species_trxy = count_occurs(genes_trxy)\n",
    "\n",
    "species_trx1.columns = ['trxA']\n",
    "species_trx2.columns = ['trxC']\n",
    "species_trxy.columns = ['ynnC']\n",
    "trxs = species_trx1.join(species_trx2).join(species_trxy).fillna(0).sum(axis=1)\n",
    "trxs = pd.DataFrame(trxs,columns = ['count'])"
   ]
  },
  {
   "cell_type": "code",
   "execution_count": 66,
   "id": "compressed-trunk",
   "metadata": {},
   "outputs": [],
   "source": [
    "grxA = 'K03674'\n",
    "grxB = 'K03675' \n",
    "grxC = 'K03676'\n",
    "\n",
    "grxs = [grxA,grxB,grxC]\n",
    "\n",
    "grx_counts = []\n",
    "for grx in grxs:\n",
    "    genes = ko2genes(grx)\n",
    "    species = count_occurs(genes)\n",
    "    species.columns = [grx]\n",
    "    grx_counts.append(species)\n",
    "grx_counts = pd.concat(grx_counts,axis=1).fillna(0)"
   ]
  },
  {
   "cell_type": "code",
   "execution_count": 74,
   "id": "raising-experiment",
   "metadata": {},
   "outputs": [],
   "source": [
    "trxA = 'K03671'\n",
    "trxC = 'K03672' \n",
    "\n",
    "trxs = [trxA,trxC]\n",
    "\n",
    "trx_counts = []\n",
    "for trx in trxs:\n",
    "    genes = ko2genes(trx)\n",
    "    species = count_occurs(genes)\n",
    "    species.columns = [trx]\n",
    "    trx_counts.append(species)\n",
    "trx_counts = pd.concat(trx_counts,axis=1).fillna(0)"
   ]
  },
  {
   "cell_type": "code",
   "execution_count": 77,
   "id": "settled-exploration",
   "metadata": {},
   "outputs": [
    {
     "data": {
      "text/plain": [
       "2.391812865497076"
      ]
     },
     "execution_count": 77,
     "metadata": {},
     "output_type": "execute_result"
    }
   ],
   "source": [
    "trx_counts.sum(axis=1).mean()"
   ]
  },
  {
   "cell_type": "code",
   "execution_count": 86,
   "id": "consistent-trust",
   "metadata": {},
   "outputs": [
    {
     "data": {
      "text/plain": [
       "0.01476608187134503"
      ]
     },
     "execution_count": 86,
     "metadata": {},
     "output_type": "execute_result"
    }
   ],
   "source": [
    "sum(trx_counts.sum(axis=1) > 10) / len(trx_counts)"
   ]
  },
  {
   "cell_type": "code",
   "execution_count": 78,
   "id": "hungarian-kitchen",
   "metadata": {},
   "outputs": [
    {
     "data": {
      "text/plain": [
       "2.1085424302227236"
      ]
     },
     "execution_count": 78,
     "metadata": {},
     "output_type": "execute_result"
    }
   ],
   "source": [
    "grx_counts.sum(axis=1).mean()"
   ]
  },
  {
   "cell_type": "code",
   "execution_count": 63,
   "id": "turned-professor",
   "metadata": {},
   "outputs": [
    {
     "data": {
      "text/plain": [
       "1589"
      ]
     },
     "execution_count": 63,
     "metadata": {},
     "output_type": "execute_result"
    }
   ],
   "source": [
    "sum(trxs['count'] == 1)"
   ]
  },
  {
   "cell_type": "code",
   "execution_count": null,
   "id": "appreciated-remainder",
   "metadata": {},
   "outputs": [],
   "source": []
  },
  {
   "cell_type": "code",
   "execution_count": 6,
   "id": "featured-reputation",
   "metadata": {},
   "outputs": [],
   "source": [
    "genes_trx['species'] = genes_trx['gene'].apply(lambda x: x.split(':')[0])\n",
    "genes_trx['count'] = 1\n"
   ]
  },
  {
   "cell_type": "code",
   "execution_count": 7,
   "id": "antique-sydney",
   "metadata": {},
   "outputs": [],
   "source": [
    "genes_trx_c = genes_trx.groupby('species').sum()\n",
    "genes_trx_c.columns = ['gene copy number']"
   ]
  },
  {
   "cell_type": "code",
   "execution_count": 17,
   "id": "quality-anaheim",
   "metadata": {},
   "outputs": [
    {
     "data": {
      "text/plain": [
       "2.1717171717171717"
      ]
     },
     "execution_count": 17,
     "metadata": {},
     "output_type": "execute_result"
    }
   ],
   "source": [
    "genes_trx_c['gene copy number'].mean()"
   ]
  },
  {
   "cell_type": "code",
   "execution_count": 25,
   "id": "surrounded-record",
   "metadata": {},
   "outputs": [
    {
     "data": {
      "text/plain": [
       "gene copy number    2.171717\n",
       "dtype: float64"
      ]
     },
     "execution_count": 25,
     "metadata": {},
     "output_type": "execute_result"
    }
   ],
   "source": [
    "genes_trx_c.mean()"
   ]
  },
  {
   "cell_type": "code",
   "execution_count": 15,
   "id": "illegal-foundation",
   "metadata": {},
   "outputs": [
    {
     "data": {
      "text/plain": [
       "<seaborn.axisgrid.FacetGrid at 0x7fe279bbf8e0>"
      ]
     },
     "execution_count": 15,
     "metadata": {},
     "output_type": "execute_result"
    },
    {
     "data": {
      "image/png": "[encoded data removed]",
      "text/plain": [
       "<Figure size 360x360 with 1 Axes>"
      ]
     },
     "metadata": {
      "needs_background": "light"
     },
     "output_type": "display_data"
    }
   ],
   "source": [
    "sns.displot(genes_trx_c,x='gene copy number',kind='kde')"
   ]
  },
  {
   "cell_type": "code",
   "execution_count": 43,
   "id": "emotional-saturday",
   "metadata": {},
   "outputs": [],
   "source": [
    "tax = pd.read_csv('../assets/kegg/KEGG_taxonomy_Oxygen_Requirement_1430.csv')"
   ]
  },
  {
   "cell_type": "code",
   "execution_count": 44,
   "id": "promotional-county",
   "metadata": {},
   "outputs": [],
   "source": [
    "g = df.join(tax.set_index('kegg_id')).dropna()"
   ]
  },
  {
   "cell_type": "code",
   "execution_count": 45,
   "id": "stylish-alignment",
   "metadata": {},
   "outputs": [
    {
     "data": {
      "text/plain": [
       "<AxesSubplot:xlabel='NAD Kinase', ylabel='CoA Kinase'>"
      ]
     },
     "execution_count": 45,
     "metadata": {},
     "output_type": "execute_result"
    },
    {
     "data": {
      "image/png": "[encoded data removed]",
      "text/plain": [
       "<Figure size 432x288 with 1 Axes>"
      ]
     },
     "metadata": {
      "needs_background": "light"
     },
     "output_type": "display_data"
    }
   ],
   "source": [
    "sns.scatterplot(x='NAD Kinase',y='CoA Kinase',data=g)"
   ]
  },
  {
   "cell_type": "code",
   "execution_count": 46,
   "id": "accredited-kingston",
   "metadata": {},
   "outputs": [
    {
     "data": {
      "text/plain": [
       "array(['Firmicutes', 'Deinococcus-Thermus', 'Spirochaetes', 'Tenericutes',\n",
       "       'Proteobacteria'], dtype=object)"
      ]
     },
     "execution_count": 46,
     "metadata": {},
     "output_type": "execute_result"
    }
   ],
   "source": [
    "g[g['NAD Kinase'] < 1].phylum.unique()"
   ]
  },
  {
   "cell_type": "code",
   "execution_count": 47,
   "id": "plastic-cleaning",
   "metadata": {},
   "outputs": [
    {
     "data": {
      "text/plain": [
       "array(['Clostridium', 'Deinococcus', 'Faecalitalea', 'Leptospira',\n",
       "       'Mycoplasma', 'Thermus', 'Xanthomonas'], dtype=object)"
      ]
     },
     "execution_count": 47,
     "metadata": {},
     "output_type": "execute_result"
    }
   ],
   "source": [
    "g[g['NAD Kinase'] < 1].genus.unique()"
   ]
  },
  {
   "cell_type": "code",
   "execution_count": 64,
   "id": "reliable-finding",
   "metadata": {},
   "outputs": [
    {
     "data": {
      "text/plain": [
       "27"
      ]
     },
     "execution_count": 64,
     "metadata": {},
     "output_type": "execute_result"
    }
   ],
   "source": [
    "len(g[g['NAD Kinase'] < 1])"
   ]
  },
  {
   "cell_type": "code",
   "execution_count": 69,
   "id": "former-campbell",
   "metadata": {},
   "outputs": [],
   "source": [
    "gt = g.groupby('oxygen').count()[['species']]"
   ]
  },
  {
   "cell_type": "code",
   "execution_count": 55,
   "id": "democratic-smooth",
   "metadata": {},
   "outputs": [
    {
     "data": {
      "text/plain": [
       "0.20880681818181818"
      ]
     },
     "execution_count": 55,
     "metadata": {},
     "output_type": "execute_result"
    }
   ],
   "source": [
    "294/ (558 + 556 + 294)"
   ]
  },
  {
   "cell_type": "code",
   "execution_count": 70,
   "id": "supposed-portuguese",
   "metadata": {},
   "outputs": [],
   "source": [
    "gn = g[g['NAD Kinase'] < 1].groupby('oxygen').count()[['species']]"
   ]
  },
  {
   "cell_type": "code",
   "execution_count": 76,
   "id": "forbidden-malaysia",
   "metadata": {},
   "outputs": [
    {
     "ename": "TypeError",
     "evalue": "'int' object is not iterable",
     "output_type": "error",
     "traceback": [
      "\u001b[0;31m---------------------------------------------------------------------------\u001b[0m",
      "\u001b[0;31mTypeError\u001b[0m                                 Traceback (most recent call last)",
      "\u001b[0;32m<ipython-input-76-66c062a834f7>\u001b[0m in \u001b[0;36m<module>\u001b[0;34m\u001b[0m\n\u001b[0;32m----> 1\u001b[0;31m \u001b[0mgt\u001b[0m\u001b[0;34m[\u001b[0m\u001b[0;34m'species'\u001b[0m\u001b[0;34m]\u001b[0m\u001b[0;34m.\u001b[0m\u001b[0mapply\u001b[0m\u001b[0;34m(\u001b[0m\u001b[0;32mlambda\u001b[0m \u001b[0mx\u001b[0m\u001b[0;34m:\u001b[0m \u001b[0mx\u001b[0m\u001b[0;34m/\u001b[0m\u001b[0msum\u001b[0m\u001b[0;34m(\u001b[0m\u001b[0mx\u001b[0m\u001b[0;34m)\u001b[0m\u001b[0;34m)\u001b[0m\u001b[0;34m\u001b[0m\u001b[0;34m\u001b[0m\u001b[0m\n\u001b[0m",
      "\u001b[0;32m~/opt/miniconda3/envs/coenzymes/lib/python3.8/site-packages/pandas/core/series.py\u001b[0m in \u001b[0;36mapply\u001b[0;34m(self, func, convert_dtype, args, **kwds)\u001b[0m\n\u001b[1;32m   4133\u001b[0m             \u001b[0;32melse\u001b[0m\u001b[0;34m:\u001b[0m\u001b[0;34m\u001b[0m\u001b[0;34m\u001b[0m\u001b[0m\n\u001b[1;32m   4134\u001b[0m                 \u001b[0mvalues\u001b[0m \u001b[0;34m=\u001b[0m \u001b[0mself\u001b[0m\u001b[0;34m.\u001b[0m\u001b[0mastype\u001b[0m\u001b[0;34m(\u001b[0m\u001b[0mobject\u001b[0m\u001b[0;34m)\u001b[0m\u001b[0;34m.\u001b[0m\u001b[0m_values\u001b[0m\u001b[0;34m\u001b[0m\u001b[0;34m\u001b[0m\u001b[0m\n\u001b[0;32m-> 4135\u001b[0;31m                 \u001b[0mmapped\u001b[0m \u001b[0;34m=\u001b[0m \u001b[0mlib\u001b[0m\u001b[0;34m.\u001b[0m\u001b[0mmap_infer\u001b[0m\u001b[0;34m(\u001b[0m\u001b[0mvalues\u001b[0m\u001b[0;34m,\u001b[0m \u001b[0mf\u001b[0m\u001b[0;34m,\u001b[0m \u001b[0mconvert\u001b[0m\u001b[0;34m=\u001b[0m\u001b[0mconvert_dtype\u001b[0m\u001b[0;34m)\u001b[0m\u001b[0;34m\u001b[0m\u001b[0;34m\u001b[0m\u001b[0m\n\u001b[0m\u001b[1;32m   4136\u001b[0m \u001b[0;34m\u001b[0m\u001b[0m\n\u001b[1;32m   4137\u001b[0m         \u001b[0;32mif\u001b[0m \u001b[0mlen\u001b[0m\u001b[0;34m(\u001b[0m\u001b[0mmapped\u001b[0m\u001b[0;34m)\u001b[0m \u001b[0;32mand\u001b[0m \u001b[0misinstance\u001b[0m\u001b[0;34m(\u001b[0m\u001b[0mmapped\u001b[0m\u001b[0;34m[\u001b[0m\u001b[0;36m0\u001b[0m\u001b[0;34m]\u001b[0m\u001b[0;34m,\u001b[0m \u001b[0mSeries\u001b[0m\u001b[0;34m)\u001b[0m\u001b[0;34m:\u001b[0m\u001b[0;34m\u001b[0m\u001b[0;34m\u001b[0m\u001b[0m\n",
      "\u001b[0;32mpandas/_libs/lib.pyx\u001b[0m in \u001b[0;36mpandas._libs.lib.map_infer\u001b[0;34m()\u001b[0m\n",
      "\u001b[0;32m<ipython-input-76-66c062a834f7>\u001b[0m in \u001b[0;36m<lambda>\u001b[0;34m(x)\u001b[0m\n\u001b[0;32m----> 1\u001b[0;31m \u001b[0mgt\u001b[0m\u001b[0;34m[\u001b[0m\u001b[0;34m'species'\u001b[0m\u001b[0;34m]\u001b[0m\u001b[0;34m.\u001b[0m\u001b[0mapply\u001b[0m\u001b[0;34m(\u001b[0m\u001b[0;32mlambda\u001b[0m \u001b[0mx\u001b[0m\u001b[0;34m:\u001b[0m \u001b[0mx\u001b[0m\u001b[0;34m/\u001b[0m\u001b[0msum\u001b[0m\u001b[0;34m(\u001b[0m\u001b[0mx\u001b[0m\u001b[0;34m)\u001b[0m\u001b[0;34m)\u001b[0m\u001b[0;34m\u001b[0m\u001b[0;34m\u001b[0m\u001b[0m\n\u001b[0m",
      "\u001b[0;31mTypeError\u001b[0m: 'int' object is not iterable"
     ]
    }
   ],
   "source": [
    "gt['species'].apply(lambda x: x/sum(x))"
   ]
  },
  {
   "cell_type": "code",
   "execution_count": 80,
   "id": "conventional-vegetation",
   "metadata": {},
   "outputs": [],
   "source": [
    "gt['species_frac_all_species'] = gt['species'] / sum(gt['species'])\n",
    "gn['species_frac_nadkinase'] = gn['species'] / sum(gn['species'])\n"
   ]
  },
  {
   "cell_type": "code",
   "execution_count": 94,
   "id": "personalized-laugh",
   "metadata": {},
   "outputs": [],
   "source": [
    "#sns.barplot(y='species_frac_nadkinase',hue='oxygen',kind='stacked',data=gn.reset_index())"
   ]
  },
  {
   "cell_type": "code",
   "execution_count": 92,
   "id": "multiple-faith",
   "metadata": {},
   "outputs": [],
   "source": [
    "gz = gt[['species_frac_all_species']].join(gn[['species_frac_nadkinase']])"
   ]
  },
  {
   "cell_type": "code",
   "execution_count": 93,
   "id": "developing-alfred",
   "metadata": {},
   "outputs": [
    {
     "data": {
      "text/plain": [
       "<AxesSubplot:>"
      ]
     },
     "execution_count": 93,
     "metadata": {},
     "output_type": "execute_result"
    },
    {
     "data": {
      "image/png": "[encoded data removed]",
      "text/plain": [
       "<Figure size 432x288 with 1 Axes>"
      ]
     },
     "metadata": {
      "needs_background": "light"
     },
     "output_type": "display_data"
    }
   ],
   "source": [
    "gz.T.plot(kind='bar', stacked=True)"
   ]
  },
  {
   "cell_type": "code",
   "execution_count": 95,
   "id": "killing-runner",
   "metadata": {},
   "outputs": [
    {
     "data": {
      "text/html": [
       "<div>\n",
       "<style scoped>\n",
       "    .dataframe tbody tr th:only-of-type {\n",
       "        vertical-align: middle;\n",
       "    }\n",
       "\n",
       "    .dataframe tbody tr th {\n",
       "        vertical-align: top;\n",
       "    }\n",
       "\n",
       "    .dataframe thead th {\n",
       "        text-align: right;\n",
       "    }\n",
       "</style>\n",
       "<table border=\"1\" class=\"dataframe\">\n",
       "  <thead>\n",
       "    <tr style=\"text-align: right;\">\n",
       "      <th></th>\n",
       "      <th>species_frac_all_species</th>\n",
       "      <th>species_frac_nadkinase</th>\n",
       "    </tr>\n",
       "    <tr>\n",
       "      <th>oxygen</th>\n",
       "      <th></th>\n",
       "      <th></th>\n",
       "    </tr>\n",
       "  </thead>\n",
       "  <tbody>\n",
       "    <tr>\n",
       "      <th>Aerobe</th>\n",
       "      <td>0.396307</td>\n",
       "      <td>0.481481</td>\n",
       "    </tr>\n",
       "    <tr>\n",
       "      <th>Anaerobe</th>\n",
       "      <td>0.208807</td>\n",
       "      <td>0.111111</td>\n",
       "    </tr>\n",
       "    <tr>\n",
       "      <th>Facultative</th>\n",
       "      <td>0.394886</td>\n",
       "      <td>0.407407</td>\n",
       "    </tr>\n",
       "  </tbody>\n",
       "</table>\n",
       "</div>"
      ],
      "text/plain": [
       "             species_frac_all_species  species_frac_nadkinase\n",
       "oxygen                                                       \n",
       "Aerobe                       0.396307                0.481481\n",
       "Anaerobe                     0.208807                0.111111\n",
       "Facultative                  0.394886                0.407407"
      ]
     },
     "execution_count": 95,
     "metadata": {},
     "output_type": "execute_result"
    }
   ],
   "source": [
    "gz"
   ]
  },
  {
   "cell_type": "code",
   "execution_count": 98,
   "id": "opposed-cyprus",
   "metadata": {},
   "outputs": [
    {
     "data": {
      "text/html": [
       "<div>\n",
       "<style scoped>\n",
       "    .dataframe tbody tr th:only-of-type {\n",
       "        vertical-align: middle;\n",
       "    }\n",
       "\n",
       "    .dataframe tbody tr th {\n",
       "        vertical-align: top;\n",
       "    }\n",
       "\n",
       "    .dataframe thead th {\n",
       "        text-align: right;\n",
       "    }\n",
       "</style>\n",
       "<table border=\"1\" class=\"dataframe\">\n",
       "  <thead>\n",
       "    <tr style=\"text-align: right;\">\n",
       "      <th></th>\n",
       "      <th>CoA Kinase</th>\n",
       "      <th>NAD Kinase</th>\n",
       "    </tr>\n",
       "    <tr>\n",
       "      <th>species</th>\n",
       "      <th></th>\n",
       "      <th></th>\n",
       "    </tr>\n",
       "  </thead>\n",
       "  <tbody>\n",
       "  </tbody>\n",
       "</table>\n",
       "</div>"
      ],
      "text/plain": [
       "Empty DataFrame\n",
       "Columns: [CoA Kinase, NAD Kinase]\n",
       "Index: []"
      ]
     },
     "execution_count": 98,
     "metadata": {},
     "output_type": "execute_result"
    }
   ],
   "source": [
    "df[(df['CoA Kinase'] == 0) & (df['NAD Kinase'] == 0)]"
   ]
  },
  {
   "cell_type": "code",
   "execution_count": 99,
   "id": "tutorial-satin",
   "metadata": {},
   "outputs": [
    {
     "data": {
      "text/html": [
       "<div>\n",
       "<style scoped>\n",
       "    .dataframe tbody tr th:only-of-type {\n",
       "        vertical-align: middle;\n",
       "    }\n",
       "\n",
       "    .dataframe tbody tr th {\n",
       "        vertical-align: top;\n",
       "    }\n",
       "\n",
       "    .dataframe thead th {\n",
       "        text-align: right;\n",
       "    }\n",
       "</style>\n",
       "<table border=\"1\" class=\"dataframe\">\n",
       "  <thead>\n",
       "    <tr style=\"text-align: right;\">\n",
       "      <th></th>\n",
       "      <th>CoA Kinase</th>\n",
       "      <th>NAD Kinase</th>\n",
       "    </tr>\n",
       "    <tr>\n",
       "      <th>species</th>\n",
       "      <th></th>\n",
       "      <th></th>\n",
       "    </tr>\n",
       "  </thead>\n",
       "  <tbody>\n",
       "    <tr>\n",
       "      <th>aaa</th>\n",
       "      <td>1.0</td>\n",
       "      <td>1.0</td>\n",
       "    </tr>\n",
       "    <tr>\n",
       "      <th>aab</th>\n",
       "      <td>1.0</td>\n",
       "      <td>1.0</td>\n",
       "    </tr>\n",
       "    <tr>\n",
       "      <th>aac</th>\n",
       "      <td>1.0</td>\n",
       "      <td>1.0</td>\n",
       "    </tr>\n",
       "    <tr>\n",
       "      <th>aace</th>\n",
       "      <td>1.0</td>\n",
       "      <td>1.0</td>\n",
       "    </tr>\n",
       "    <tr>\n",
       "      <th>aaci</th>\n",
       "      <td>1.0</td>\n",
       "      <td>1.0</td>\n",
       "    </tr>\n",
       "    <tr>\n",
       "      <th>...</th>\n",
       "      <td>...</td>\n",
       "      <td>...</td>\n",
       "    </tr>\n",
       "    <tr>\n",
       "      <th>woo</th>\n",
       "      <td>0.0</td>\n",
       "      <td>1.0</td>\n",
       "    </tr>\n",
       "    <tr>\n",
       "      <th>xla</th>\n",
       "      <td>0.0</td>\n",
       "      <td>4.0</td>\n",
       "    </tr>\n",
       "    <tr>\n",
       "      <th>xph</th>\n",
       "      <td>0.0</td>\n",
       "      <td>1.0</td>\n",
       "    </tr>\n",
       "    <tr>\n",
       "      <th>xtr</th>\n",
       "      <td>0.0</td>\n",
       "      <td>2.0</td>\n",
       "    </tr>\n",
       "    <tr>\n",
       "      <th>zne</th>\n",
       "      <td>0.0</td>\n",
       "      <td>3.0</td>\n",
       "    </tr>\n",
       "  </tbody>\n",
       "</table>\n",
       "<p>6844 rows × 2 columns</p>\n",
       "</div>"
      ],
      "text/plain": [
       "         CoA Kinase  NAD Kinase\n",
       "species                        \n",
       "aaa             1.0         1.0\n",
       "aab             1.0         1.0\n",
       "aac             1.0         1.0\n",
       "aace            1.0         1.0\n",
       "aaci            1.0         1.0\n",
       "...             ...         ...\n",
       "woo             0.0         1.0\n",
       "xla             0.0         4.0\n",
       "xph             0.0         1.0\n",
       "xtr             0.0         2.0\n",
       "zne             0.0         3.0\n",
       "\n",
       "[6844 rows x 2 columns]"
      ]
     },
     "execution_count": 99,
     "metadata": {},
     "output_type": "execute_result"
    }
   ],
   "source": [
    "df"
   ]
  },
  {
   "cell_type": "code",
   "execution_count": null,
   "id": "crazy-heritage",
   "metadata": {},
   "outputs": [],
   "source": []
  }
 ],
 "metadata": {
  "kernelspec": {
   "display_name": "Python 3.8 (coenzymes)",
   "language": "python",
   "name": "coenzymes"
  },
  "language_info": {
   "codemirror_mode": {
    "name": "ipython",
    "version": 3
   },
   "file_extension": ".py",
   "mimetype": "text/x-python",
   "name": "python",
   "nbconvert_exporter": "python",
   "pygments_lexer": "ipython3",
   "version": "3.8.5"
  }
 },
 "nbformat": 4,
 "nbformat_minor": 5
}
