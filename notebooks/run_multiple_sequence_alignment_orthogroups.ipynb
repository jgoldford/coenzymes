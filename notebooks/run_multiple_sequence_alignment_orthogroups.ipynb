{
 "cells": [
  {
   "cell_type": "code",
   "execution_count": 2,
   "metadata": {},
   "outputs": [],
   "source": [
    "import pandas as pd\n",
    "import numpy as np\n",
    "import requests\n",
    "import re\n",
    "from Bio import SeqIO\n",
    "import subprocess\n",
    "from random import sample\n",
    "\n",
    "def ko2genes(ko):\n",
    "    url = 'http://rest.kegg.jp/link/genes/' + ko\n",
    "    r = requests.get(url)\n",
    "    geneKO = pd.DataFrame([x.split('\\t') for x in r.text.split('\\n')],columns=['ko','gene'])\n",
    "    geneKO = geneKO.iloc[0:-1]\n",
    "    return geneKO\n",
    "\n",
    "def download_seqs(geneList,fileName,batchSize):    \n",
    "    geneList_chunks = [geneList[i * batchSize:(i + 1) * batchSize] for i in range((len(geneList) + batchSize - 1) // batchSize )]\n",
    "    with open(fileName,'w') as fastafile:\n",
    "        for sglist in geneList_chunks:\n",
    "            url =  'http://rest.kegg.jp/get/' + \"+\".join(sglist) + '/aaseq'\n",
    "            fseqs = requests.get(url).text\n",
    "            fastafile.write(fseqs)\n",
    "\n",
    "            \n",
    "def msaSeq2df(seq,indexStart):\n",
    "    idx = []\n",
    "    resid = []\n",
    "    j = indexStart;\n",
    "    for i in seq:\n",
    "        resid.append(i)\n",
    "        if i == '-':\n",
    "            idx.append(np.nan)\n",
    "        else:\n",
    "            idx.append(j)\n",
    "            j = j+1\n",
    "    \n",
    "    return pd.DataFrame({'residue': resid, 'index': idx})\n",
    "\n",
    "def ecogenes():\n",
    "    url = 'http://rest.kegg.jp/link/ko/eco'\n",
    "    r = requests.get(url)\n",
    "    geneKO = pd.DataFrame([x.split('\\t') for x in r.text.split('\\n')],columns=['gene','ko'])\n",
    "    geneKO = geneKO.iloc[0:-1]\n",
    "    return geneKO\n",
    "\n",
    "get_resid = lambda x: [x for x in re.findall(r'\\D',x) if len(x)>0][0]\n",
    "get_resid_idx = lambda x: [int(x) for x in re.findall(r'\\d*',x) if len(x)>0][0]\n",
    "\n",
    "\n",
    "# load the structural annotations and only keep NAD binding enzymes with single D or E residues \n",
    "structure = pd.read_csv('../assets/structure/oxidoreductases_residue_annotation.csv',index_col=0)\n",
    "structure = structure[structure['Coenzyme'].isin(['NAD','NADH'])]\n",
    "structure = structure[structure['Residues'].apply(lambda x: (len(x.split(';')) < 2) & (x[0] in ['E','D']))]\n",
    "\n",
    "taxonomy = pd.read_csv('../assets/kegg/KEGG_taxonomy_final.csv')"
   ]
  },
  {
   "cell_type": "code",
   "execution_count": 1,
   "metadata": {},
   "outputs": [],
   "source": [
    "seqMax = 1000"
   ]
  },
  {
   "cell_type": "code",
   "execution_count": 43,
   "metadata": {},
   "outputs": [
    {
     "name": "stdout",
     "output_type": "stream",
     "text": [
      "downsampled 1000 sequences for KO: K00215; saved to file: ../assets/kegg/orthogroups/subset/K00215.1k.fasta\n",
      "finished with mutiple sequence alignment for KO group: K00215; number of seqs: 1000\n",
      "downsampled 1000 sequences for KO: K00382; saved to file: ../assets/kegg/orthogroups/subset/K00382.1k.fasta\n",
      "finished with mutiple sequence alignment for KO group: K00382; number of seqs: 1000\n",
      "downsampled 1000 sequences for KO: K00121; saved to file: ../assets/kegg/orthogroups/subset/K00121.1k.fasta\n",
      "finished with mutiple sequence alignment for KO group: K00121; number of seqs: 1000\n",
      "downsampled 1000 sequences for KO: K03778; saved to file: ../assets/kegg/orthogroups/subset/K03778.1k.fasta\n",
      "finished with mutiple sequence alignment for KO group: K03778; number of seqs: 1000\n",
      "downsampled 1000 sequences for KO: K13953; saved to file: ../assets/kegg/orthogroups/subset/K13953.1k.fasta\n",
      "finished with mutiple sequence alignment for KO group: K13953; number of seqs: 1000\n",
      "downsampled 1000 sequences for KO: K00027; saved to file: ../assets/kegg/orthogroups/subset/K00027.1k.fasta\n",
      "finished with mutiple sequence alignment for KO group: K00027; number of seqs: 1000\n",
      "downsampled 1000 sequences for KO: K06447; saved to file: ../assets/kegg/orthogroups/subset/K06447.1k.fasta\n",
      "finished with mutiple sequence alignment for KO group: K06447; number of seqs: 1000\n",
      "downsampled 1000 sequences for KO: K00134; saved to file: ../assets/kegg/orthogroups/subset/K00134.1k.fasta\n",
      "finished with mutiple sequence alignment for KO group: K00134; number of seqs: 1000\n",
      "downsampled 1000 sequences for KO: K00013; saved to file: ../assets/kegg/orthogroups/subset/K00013.1k.fasta\n",
      "finished with mutiple sequence alignment for KO group: K00013; number of seqs: 1000\n",
      "downsampled 1000 sequences for KO: K00012; saved to file: ../assets/kegg/orthogroups/subset/K00012.1k.fasta\n",
      "finished with mutiple sequence alignment for KO group: K00012; number of seqs: 1000\n",
      "downsampled 1000 sequences for KO: K00067; saved to file: ../assets/kegg/orthogroups/subset/K00067.1k.fasta\n",
      "finished with mutiple sequence alignment for KO group: K00067; number of seqs: 1000\n",
      "downsampled 1000 sequences for KO: K03473; saved to file: ../assets/kegg/orthogroups/subset/K03473.1k.fasta\n",
      "finished with mutiple sequence alignment for KO group: K03473; number of seqs: 1000\n",
      "downsampled 1000 sequences for KO: K00024; saved to file: ../assets/kegg/orthogroups/subset/K00024.1k.fasta\n",
      "finished with mutiple sequence alignment for KO group: K00024; number of seqs: 1000\n",
      "downsampled 1000 sequences for KO: K00060; saved to file: ../assets/kegg/orthogroups/subset/K00060.1k.fasta\n",
      "finished with mutiple sequence alignment for KO group: K00060; number of seqs: 1000\n",
      "downsampled 1000 sequences for KO: K02472; saved to file: ../assets/kegg/orthogroups/subset/K02472.1k.fasta\n",
      "finished with mutiple sequence alignment for KO group: K02472; number of seqs: 1000\n",
      "downsampled 1000 sequences for KO: K00052; saved to file: ../assets/kegg/orthogroups/subset/K00052.1k.fasta\n",
      "finished with mutiple sequence alignment for KO group: K00052; number of seqs: 1000\n",
      "finished with mutiple sequence alignment for KO group: K00073; number of seqs: 433\n",
      "downsampled 1000 sequences for KO: K04072; saved to file: ../assets/kegg/orthogroups/subset/K04072.1k.fasta\n",
      "finished with mutiple sequence alignment for KO group: K04072; number of seqs: 1000\n",
      "downsampled 1000 sequences for KO: K07246; saved to file: ../assets/kegg/orthogroups/subset/K07246.1k.fasta\n",
      "finished with mutiple sequence alignment for KO group: K07246; number of seqs: 1000\n",
      "downsampled 1000 sequences for KO: K00335; saved to file: ../assets/kegg/orthogroups/subset/K00335.1k.fasta\n",
      "finished with mutiple sequence alignment for KO group: K00335; number of seqs: 1000\n",
      "finished with mutiple sequence alignment for KO group: K14187; number of seqs: 873\n",
      "finished with mutiple sequence alignment for KO group: K00048; number of seqs: 468\n",
      "downsampled 1000 sequences for KO: K00042; saved to file: ../assets/kegg/orthogroups/subset/K00042.1k.fasta\n",
      "finished with mutiple sequence alignment for KO group: K00042; number of seqs: 1000\n",
      "finished with mutiple sequence alignment for KO group: K08092; number of seqs: 369\n"
     ]
    }
   ],
   "source": [
    "# perform MSA using either original KO group sequences or downsample\n",
    "\n",
    "for idx,row in structure.iterrows():\n",
    "    ko = row.KO\n",
    "    ecoli_gene = 'eco:' + idx\n",
    "    homolog = row['Homolog-KEGG']\n",
    "    gene_set = list(set([ecoli_gene,homolog]))\n",
    "    seq_dict = SeqIO.to_dict(SeqIO.parse('../assets/kegg/orthogroups/' + ko + '.fasta','fasta'));\n",
    "    if len(seq_dict) > seqMax:\n",
    "        g = seqMax\n",
    "        population = [x for x in list(seq_dict) if x not in gene_set]\n",
    "        sample_list = sample(population,seqMax-len(gene_set))\n",
    "        sample_list = sample_list + gene_set\n",
    "        seq_dict_subset = {x:y for x,y in seq_dict.items() if x in sample_list}\n",
    "        fileName = '../assets/kegg/orthogroups/subset/' + ko + '.1k.fasta'\n",
    "        with open(fileName,'w') as fastafile:\n",
    "            #SeqIO.write(seq_dict_subset,fastafile,'fasta')\n",
    "            SeqIO.write(seq_dict_subset.values(), fastafile, 'fasta')\n",
    "            print('downsampled ' + str(seqMax) + ' sequences for KO: ' + ko + '; saved to file: ' + fileName)\n",
    "\n",
    "    else:\n",
    "        g = len(seq_dict)\n",
    "        filename = '../assets/kegg/orthogroups/' + ko + '.fasta'\n",
    "    \n",
    "    # perform msa on all orthogroups (or subsets of 1k sequences)\n",
    "    fin = fileName\n",
    "    fout = '../assets/kegg/orthogroups/subset/msa/' + ko + '.MSA.fasta'\n",
    "    call = '/Users/Joshua.Goldford/opt/miniconda3/bin/muscle -in ' + fin + ' -out ' + fout\n",
    "    subprocess.call(call,shell=True)\n",
    "    print('finished with mutiple sequence alignment for KO group: ' + ko + '; number of seqs: ' + str(g))"
   ]
  },
  {
   "cell_type": "code",
   "execution_count": 44,
   "metadata": {},
   "outputs": [],
   "source": [
    "ko_list =  [];\n",
    "residue_list = []\n",
    "residue_ref_idx = []\n",
    "residue_msa_idx = []\n",
    "count_occured = []\n",
    "count_not_occured = []\n",
    "frac_occured = []\n",
    "\n",
    "dfs = []\n",
    "\n",
    "for idx,row in structure.iterrows():\n",
    "    ko = row.KO\n",
    "    msa_file = '../assets/kegg/orthogroups/subset/msa/' + ko + '.MSA.fasta'\n",
    "    seq_dict = SeqIO.to_dict(SeqIO.parse(msa_file,'fasta'))\n",
    "    if structure[structure.KO == ko]['Homolog-KEGG'].tolist()[0] in list(seq_dict):\n",
    "        seq_id = structure[structure.KO == ko]['Homolog-KEGG'].tolist()[0]\n",
    "        r = structure[structure.KO == ko].Residues[0].split(';')\n",
    "        r  = [x for x in r if x not in ['Unclear',None]]\n",
    "        if len(r) > 0:\n",
    "            r = pd.DataFrame({'residue': [get_resid(y) for y in r],'index':[get_resid_idx(y) for y in r]})\n",
    "            seq = str(seq_dict[seq_id].seq)\n",
    "            seqdf = msaSeq2df(seq,1)\n",
    "            sdf = seqdf[seqdf['index'].isin(r['index'].tolist())]\n",
    "            for midx,row2 in sdf.iterrows():\n",
    "                chars = [y.seq[midx] for y in list(seq_dict.values())]\n",
    "                z = pd.DataFrame({'idx':chars}).reset_index().groupby('idx').count()\n",
    "                z2 = z.reset_index()\n",
    "                z2.columns = ['residue','numSeqs']\n",
    "                z2['ref_residue'] = row2.residue\n",
    "                z2['ref_residue_idx'] = row2['index']\n",
    "                z2['KO'] = ko\n",
    "                dfs.append(z2)\n",
    "                #frac = z.loc[row2.residue]['index'] / z['index'].sum()\n",
    "                ##ko_list.append(ko)\n",
    "                #residue_list.append(row2.residue)\n",
    "                #residue_ref_idx.append(row2['index'])\n",
    "                #residue_msa_idx.append(midx)\n",
    "                #count_occured.append(z.loc[row2.residue]['index'])\n",
    "                #count_not_occured.append(z['index'].sum() - z.loc[row2.residue]['index'])\n",
    "                #frac_occured.append(frac)\n",
    "\n",
    "dfs = pd.concat(dfs,axis=0)                \n",
    "r = {'KO': [], 'de_seq': [], 'n_seq': [],'wt_residue':[]}\n",
    "dfs_new = []\n",
    "for idx,dff in dfs.groupby('KO'):\n",
    "    de_seqs = dff[[x in ['D','E'] for x in dff['residue']]].numSeqs.sum()\n",
    "    nseqs = dff[[x not in ['D','E'] for x in dff['residue']]].numSeqs.sum()\n",
    "    r['KO'].append(idx); r['de_seq'].append(de_seqs); r['n_seq'].append(nseqs)\n",
    "    r['wt_residue'].append(dff.ref_residue.unique())\n",
    "    dff['proportion'] = dff['numSeqs'] / dff['numSeqs'].sum()\n",
    "    dfs_new.append(dff)\n",
    "r = pd.DataFrame(r)\n",
    "r = r[r['wt_residue'].apply(lambda x: x[0] in ['D','E'])]\n",
    "#results = pd.DataFrame({'ko':ko_list,'residue':residue_list,'idx': residue_ref_idx, 'midx': residue_msa_idx, 'count': count_occured, 'ncount': count_not_occured, 'frac': frac_occured})    "
   ]
  },
  {
   "cell_type": "code",
   "execution_count": 57,
   "metadata": {},
   "outputs": [],
   "source": [
    "dfst_normalized = pd.read_hdf('../scc/relativeGrowthRates.StoichAndThermo.MR4.hdf','df')"
   ]
  },
  {
   "cell_type": "code",
   "execution_count": 51,
   "metadata": {},
   "outputs": [],
   "source": [
    "ids = structure.reset_index()[['KO','gene name','gene id']]\n",
    "ids['id'] = ids['gene name'] + ' (' + ids['KO'] + ')'"
   ]
  },
  {
   "cell_type": "code",
   "execution_count": 58,
   "metadata": {},
   "outputs": [],
   "source": [
    "dfst_normalized = dfst_normalized.rename(columns=dict(zip(ids['gene id'],ids['id'])))"
   ]
  },
  {
   "cell_type": "code",
   "execution_count": 55,
   "metadata": {},
   "outputs": [],
   "source": [
    "dfs_new = pd.concat(dfs_new,axis=0)\n",
    "dfs_new = dfs_new[dfs_new['ref_residue'].isin(['D','E'])]\n",
    "prop = dfs_new.pivot_table(index='KO',columns = ['residue'],values='proportion').fillna(0).T\n",
    "p = prop.T.join(structure.reset_index()[['KO','gene name']].set_index('KO')).reset_index()\n",
    "p['id'] = p['gene name'] + ' (' + p['KO'] + ')'\n",
    "p.set_index(['KO','gene name'],inplace=True)\n",
    "p.set_index('id',inplace=True)\n"
   ]
  },
  {
   "cell_type": "code",
   "execution_count": 70,
   "metadata": {},
   "outputs": [],
   "source": [
    "mean_rgr = dfst_normalized[[x for x in list(p.T) if x in list(dfst_normalized)]].min().sort_values()"
   ]
  },
  {
   "cell_type": "code",
   "execution_count": 71,
   "metadata": {},
   "outputs": [],
   "source": [
    "conservation = p['E'] + p['D']"
   ]
  },
  {
   "cell_type": "code",
   "execution_count": 72,
   "metadata": {},
   "outputs": [
    {
     "data": {
      "text/plain": [
       "leuB (K00052)    0.000000\n",
       "pdxB (K03473)    0.000000\n",
       "gapA (K00134)    0.000401\n",
       "mdh (K00024)     0.006426\n",
       "frmA (K00121)    0.734684\n",
       "tdh (K00060)     0.997261\n",
       "rfbD (K00067)    0.999998\n",
       "wecC (K02472)    0.999998\n",
       "astD (K06447)    0.999998\n",
       "ugd (K00012)     0.999998\n",
       "dapB (K00215)    0.999998\n",
       "maeA (K00027)    0.999998\n",
       "hisD (K00013)    0.999998\n",
       "dtype: float64"
      ]
     },
     "execution_count": 72,
     "metadata": {},
     "output_type": "execute_result"
    }
   ],
   "source": [
    "mean_rgr"
   ]
  },
  {
   "cell_type": "code",
   "execution_count": 132,
   "metadata": {},
   "outputs": [],
   "source": [
    "cpr = pd.DataFrame(conservation,columns = ['conservation']).join(pd.DataFrame(mean_rgr,columns=['mean growth rate'])).dropna()"
   ]
  },
  {
   "cell_type": "code",
   "execution_count": 83,
   "metadata": {},
   "outputs": [],
   "source": [
    "gs = pd.read_csv('../assets/mutantGeneSet.reactionDirectionUpdateRules.MR4.csv')"
   ]
  },
  {
   "cell_type": "code",
   "execution_count": 125,
   "metadata": {},
   "outputs": [],
   "source": [
    "ids['gene id'] = ids['gene id'].apply(lambda x: x.strip())"
   ]
  },
  {
   "cell_type": "code",
   "execution_count": 129,
   "metadata": {},
   "outputs": [],
   "source": [
    "nad_genes = gs[gs['wild type coenzyme'].isin(['NAD(H)'])].gene.tolist()"
   ]
  },
  {
   "cell_type": "code",
   "execution_count": 131,
   "metadata": {},
   "outputs": [
    {
     "data": {
      "text/plain": [
       "['lpdA (K00382)',\n",
       " 'frmA (K00121)',\n",
       " 'maeA (K00027)',\n",
       " 'astD (K06447)',\n",
       " 'gapA (K00134)',\n",
       " 'hisD (K00013)',\n",
       " 'ugd (K00012)',\n",
       " 'pdxB (K03473)',\n",
       " 'mdh (K00024)',\n",
       " 'tdh (K00060)',\n",
       " 'wecC (K02472)',\n",
       " 'leuB (K00052)',\n",
       " 'allD (K00073)',\n",
       " 'dmlA (K07246)',\n",
       " 'tyrA (K14187)',\n",
       " 'fucO (K00048)',\n",
       " 'yiaK (K08092)']"
      ]
     },
     "execution_count": 131,
     "metadata": {},
     "output_type": "execute_result"
    }
   ],
   "source": [
    "ids[ids['gene id'].isin(nad_genes)].id.tolist()"
   ]
  },
  {
   "cell_type": "code",
   "execution_count": 106,
   "metadata": {},
   "outputs": [],
   "source": [
    "import seaborn as sns\n",
    "import matplotlib.pyplot as plt\n",
    "\n",
    "\n",
    "def label_point(x, y, val, ax):\n",
    "    a = pd.DataFrame({'x': x, 'y': y, 'val': val})\n",
    "    for i, point in a.iterrows():\n",
    "        ax.text(point['x']+.002, point['y'], point['val'])\n",
    "        \n",
    "plt.rcParams.update({\n",
    "    \"text.usetex\": False,\n",
    "    \"font.family\": \"sans-serif\",\n",
    "    \"font.sans-serif\": [\"Helvetica\"]})"
   ]
  },
  {
   "cell_type": "code",
   "execution_count": 133,
   "metadata": {},
   "outputs": [],
   "source": [
    "idl = ids[ids['gene id'].isin(nad_genes)].id.tolist()\n",
    "cpr = cpr.reset_index()\n",
    "cpr_nad = cpr[cpr.id.isin(idl)]"
   ]
  },
  {
   "cell_type": "code",
   "execution_count": 134,
   "metadata": {},
   "outputs": [
    {
     "data": {
      "text/html": [
       "<div>\n",
       "<style scoped>\n",
       "    .dataframe tbody tr th:only-of-type {\n",
       "        vertical-align: middle;\n",
       "    }\n",
       "\n",
       "    .dataframe tbody tr th {\n",
       "        vertical-align: top;\n",
       "    }\n",
       "\n",
       "    .dataframe thead th {\n",
       "        text-align: right;\n",
       "    }\n",
       "</style>\n",
       "<table border=\"1\" class=\"dataframe\">\n",
       "  <thead>\n",
       "    <tr style=\"text-align: right;\">\n",
       "      <th></th>\n",
       "      <th>id</th>\n",
       "      <th>conservation</th>\n",
       "      <th>mean growth rate</th>\n",
       "    </tr>\n",
       "  </thead>\n",
       "  <tbody>\n",
       "    <tr>\n",
       "      <th>4</th>\n",
       "      <td>leuB (K00052)</td>\n",
       "      <td>0.937</td>\n",
       "      <td>0.000000</td>\n",
       "    </tr>\n",
       "    <tr>\n",
       "      <th>11</th>\n",
       "      <td>pdxB (K03473)</td>\n",
       "      <td>1.000</td>\n",
       "      <td>0.000000</td>\n",
       "    </tr>\n",
       "    <tr>\n",
       "      <th>8</th>\n",
       "      <td>gapA (K00134)</td>\n",
       "      <td>0.881</td>\n",
       "      <td>0.000401</td>\n",
       "    </tr>\n",
       "    <tr>\n",
       "      <th>2</th>\n",
       "      <td>mdh (K00024)</td>\n",
       "      <td>0.975</td>\n",
       "      <td>0.006426</td>\n",
       "    </tr>\n",
       "    <tr>\n",
       "      <th>7</th>\n",
       "      <td>frmA (K00121)</td>\n",
       "      <td>0.996</td>\n",
       "      <td>0.734684</td>\n",
       "    </tr>\n",
       "    <tr>\n",
       "      <th>5</th>\n",
       "      <td>tdh (K00060)</td>\n",
       "      <td>0.993</td>\n",
       "      <td>0.997261</td>\n",
       "    </tr>\n",
       "    <tr>\n",
       "      <th>10</th>\n",
       "      <td>wecC (K02472)</td>\n",
       "      <td>0.965</td>\n",
       "      <td>0.999998</td>\n",
       "    </tr>\n",
       "    <tr>\n",
       "      <th>12</th>\n",
       "      <td>astD (K06447)</td>\n",
       "      <td>0.997</td>\n",
       "      <td>0.999998</td>\n",
       "    </tr>\n",
       "    <tr>\n",
       "      <th>0</th>\n",
       "      <td>ugd (K00012)</td>\n",
       "      <td>0.973</td>\n",
       "      <td>0.999998</td>\n",
       "    </tr>\n",
       "    <tr>\n",
       "      <th>3</th>\n",
       "      <td>maeA (K00027)</td>\n",
       "      <td>0.938</td>\n",
       "      <td>0.999998</td>\n",
       "    </tr>\n",
       "    <tr>\n",
       "      <th>1</th>\n",
       "      <td>hisD (K00013)</td>\n",
       "      <td>0.993</td>\n",
       "      <td>0.999998</td>\n",
       "    </tr>\n",
       "  </tbody>\n",
       "</table>\n",
       "</div>"
      ],
      "text/plain": [
       "               id  conservation  mean growth rate\n",
       "4   leuB (K00052)         0.937          0.000000\n",
       "11  pdxB (K03473)         1.000          0.000000\n",
       "8   gapA (K00134)         0.881          0.000401\n",
       "2    mdh (K00024)         0.975          0.006426\n",
       "7   frmA (K00121)         0.996          0.734684\n",
       "5    tdh (K00060)         0.993          0.997261\n",
       "10  wecC (K02472)         0.965          0.999998\n",
       "12  astD (K06447)         0.997          0.999998\n",
       "0    ugd (K00012)         0.973          0.999998\n",
       "3   maeA (K00027)         0.938          0.999998\n",
       "1   hisD (K00013)         0.993          0.999998"
      ]
     },
     "execution_count": 134,
     "metadata": {},
     "output_type": "execute_result"
    }
   ],
   "source": [
    "cpr_nad.sort_values('mean growth rate')"
   ]
  },
  {
   "cell_type": "code",
   "execution_count": 135,
   "metadata": {},
   "outputs": [
    {
     "data": {
      "image/png": "[encoded data removed]",
      "text/plain": [
       "<Figure size 432x288 with 1 Axes>"
      ]
     },
     "metadata": {
      "needs_background": "light"
     },
     "output_type": "display_data"
    }
   ],
   "source": [
    "\n",
    "ax = sns.scatterplot(x='conservation',y='mean growth rate',data=cpr_nad,color='grey')\n",
    "label_point(cpr_nad['conservation'].tolist(),cpr_nad['mean growth rate'].tolist(),cpr_nad['id'].tolist(),ax)\n",
    "plt.xlabel('conservation of ribosyl-coordinating Asp/Glu')\n",
    "plt.ylabel('min growth rate of coenzyme mutant')\n",
    "plt.savefig('orthogroups.DE.conservation.Vs.GrowthRate.svg')"
   ]
  },
  {
   "cell_type": "code",
   "execution_count": 139,
   "metadata": {},
   "outputs": [
    {
     "ename": "KeyError",
     "evalue": "\"Passing list-likes to .loc or [] with any missing labels is no longer supported. The following labels were missing: Index(['lpdA (K00382)', 'allD (K00073)', 'dmlA (K07246)', 'tyrA (K14187)',\\n       'fucO (K00048)', 'yiaK (K08092)'],\\n      dtype='object', name='id'). See https://pandas.pydata.org/pandas-docs/stable/user_guide/indexing.html#deprecate-loc-reindex-listlike\"",
     "output_type": "error",
     "traceback": [
      "\u001b[0;31m---------------------------------------------------------------------------\u001b[0m",
      "\u001b[0;31mKeyError\u001b[0m                                  Traceback (most recent call last)",
      "\u001b[0;32m<ipython-input-139-03f80288038d>\u001b[0m in \u001b[0;36m<module>\u001b[0;34m\u001b[0m\n\u001b[0;32m----> 1\u001b[0;31m \u001b[0mp\u001b[0m\u001b[0;34m.\u001b[0m\u001b[0mloc\u001b[0m\u001b[0;34m[\u001b[0m\u001b[0midl\u001b[0m\u001b[0;34m]\u001b[0m\u001b[0;34m\u001b[0m\u001b[0;34m\u001b[0m\u001b[0m\n\u001b[0m",
      "\u001b[0;32m~/opt/miniconda3/envs/coenzyme_paper/lib/python3.8/site-packages/pandas/core/indexing.py\u001b[0m in \u001b[0;36m__getitem__\u001b[0;34m(self, key)\u001b[0m\n\u001b[1;32m    877\u001b[0m \u001b[0;34m\u001b[0m\u001b[0m\n\u001b[1;32m    878\u001b[0m             \u001b[0mmaybe_callable\u001b[0m \u001b[0;34m=\u001b[0m \u001b[0mcom\u001b[0m\u001b[0;34m.\u001b[0m\u001b[0mapply_if_callable\u001b[0m\u001b[0;34m(\u001b[0m\u001b[0mkey\u001b[0m\u001b[0;34m,\u001b[0m \u001b[0mself\u001b[0m\u001b[0;34m.\u001b[0m\u001b[0mobj\u001b[0m\u001b[0;34m)\u001b[0m\u001b[0;34m\u001b[0m\u001b[0;34m\u001b[0m\u001b[0m\n\u001b[0;32m--> 879\u001b[0;31m             \u001b[0;32mreturn\u001b[0m \u001b[0mself\u001b[0m\u001b[0;34m.\u001b[0m\u001b[0m_getitem_axis\u001b[0m\u001b[0;34m(\u001b[0m\u001b[0mmaybe_callable\u001b[0m\u001b[0;34m,\u001b[0m \u001b[0maxis\u001b[0m\u001b[0;34m=\u001b[0m\u001b[0maxis\u001b[0m\u001b[0;34m)\u001b[0m\u001b[0;34m\u001b[0m\u001b[0;34m\u001b[0m\u001b[0m\n\u001b[0m\u001b[1;32m    880\u001b[0m \u001b[0;34m\u001b[0m\u001b[0m\n\u001b[1;32m    881\u001b[0m     \u001b[0;32mdef\u001b[0m \u001b[0m_is_scalar_access\u001b[0m\u001b[0;34m(\u001b[0m\u001b[0mself\u001b[0m\u001b[0;34m,\u001b[0m \u001b[0mkey\u001b[0m\u001b[0;34m:\u001b[0m \u001b[0mTuple\u001b[0m\u001b[0;34m)\u001b[0m\u001b[0;34m:\u001b[0m\u001b[0;34m\u001b[0m\u001b[0;34m\u001b[0m\u001b[0m\n",
      "\u001b[0;32m~/opt/miniconda3/envs/coenzyme_paper/lib/python3.8/site-packages/pandas/core/indexing.py\u001b[0m in \u001b[0;36m_getitem_axis\u001b[0;34m(self, key, axis)\u001b[0m\n\u001b[1;32m   1097\u001b[0m                     \u001b[0;32mraise\u001b[0m \u001b[0mValueError\u001b[0m\u001b[0;34m(\u001b[0m\u001b[0;34m\"Cannot index with multidimensional key\"\u001b[0m\u001b[0;34m)\u001b[0m\u001b[0;34m\u001b[0m\u001b[0;34m\u001b[0m\u001b[0m\n\u001b[1;32m   1098\u001b[0m \u001b[0;34m\u001b[0m\u001b[0m\n\u001b[0;32m-> 1099\u001b[0;31m                 \u001b[0;32mreturn\u001b[0m \u001b[0mself\u001b[0m\u001b[0;34m.\u001b[0m\u001b[0m_getitem_iterable\u001b[0m\u001b[0;34m(\u001b[0m\u001b[0mkey\u001b[0m\u001b[0;34m,\u001b[0m \u001b[0maxis\u001b[0m\u001b[0;34m=\u001b[0m\u001b[0maxis\u001b[0m\u001b[0;34m)\u001b[0m\u001b[0;34m\u001b[0m\u001b[0;34m\u001b[0m\u001b[0m\n\u001b[0m\u001b[1;32m   1100\u001b[0m \u001b[0;34m\u001b[0m\u001b[0m\n\u001b[1;32m   1101\u001b[0m             \u001b[0;31m# nested tuple slicing\u001b[0m\u001b[0;34m\u001b[0m\u001b[0;34m\u001b[0m\u001b[0;34m\u001b[0m\u001b[0m\n",
      "\u001b[0;32m~/opt/miniconda3/envs/coenzyme_paper/lib/python3.8/site-packages/pandas/core/indexing.py\u001b[0m in \u001b[0;36m_getitem_iterable\u001b[0;34m(self, key, axis)\u001b[0m\n\u001b[1;32m   1035\u001b[0m \u001b[0;34m\u001b[0m\u001b[0m\n\u001b[1;32m   1036\u001b[0m         \u001b[0;31m# A collection of keys\u001b[0m\u001b[0;34m\u001b[0m\u001b[0;34m\u001b[0m\u001b[0;34m\u001b[0m\u001b[0m\n\u001b[0;32m-> 1037\u001b[0;31m         \u001b[0mkeyarr\u001b[0m\u001b[0;34m,\u001b[0m \u001b[0mindexer\u001b[0m \u001b[0;34m=\u001b[0m \u001b[0mself\u001b[0m\u001b[0;34m.\u001b[0m\u001b[0m_get_listlike_indexer\u001b[0m\u001b[0;34m(\u001b[0m\u001b[0mkey\u001b[0m\u001b[0;34m,\u001b[0m \u001b[0maxis\u001b[0m\u001b[0;34m,\u001b[0m \u001b[0mraise_missing\u001b[0m\u001b[0;34m=\u001b[0m\u001b[0;32mFalse\u001b[0m\u001b[0;34m)\u001b[0m\u001b[0;34m\u001b[0m\u001b[0;34m\u001b[0m\u001b[0m\n\u001b[0m\u001b[1;32m   1038\u001b[0m         return self.obj._reindex_with_indexers(\n\u001b[1;32m   1039\u001b[0m             \u001b[0;34m{\u001b[0m\u001b[0maxis\u001b[0m\u001b[0;34m:\u001b[0m \u001b[0;34m[\u001b[0m\u001b[0mkeyarr\u001b[0m\u001b[0;34m,\u001b[0m \u001b[0mindexer\u001b[0m\u001b[0;34m]\u001b[0m\u001b[0;34m}\u001b[0m\u001b[0;34m,\u001b[0m \u001b[0mcopy\u001b[0m\u001b[0;34m=\u001b[0m\u001b[0;32mTrue\u001b[0m\u001b[0;34m,\u001b[0m \u001b[0mallow_dups\u001b[0m\u001b[0;34m=\u001b[0m\u001b[0;32mTrue\u001b[0m\u001b[0;34m\u001b[0m\u001b[0;34m\u001b[0m\u001b[0m\n",
      "\u001b[0;32m~/opt/miniconda3/envs/coenzyme_paper/lib/python3.8/site-packages/pandas/core/indexing.py\u001b[0m in \u001b[0;36m_get_listlike_indexer\u001b[0;34m(self, key, axis, raise_missing)\u001b[0m\n\u001b[1;32m   1252\u001b[0m             \u001b[0mkeyarr\u001b[0m\u001b[0;34m,\u001b[0m \u001b[0mindexer\u001b[0m\u001b[0;34m,\u001b[0m \u001b[0mnew_indexer\u001b[0m \u001b[0;34m=\u001b[0m \u001b[0max\u001b[0m\u001b[0;34m.\u001b[0m\u001b[0m_reindex_non_unique\u001b[0m\u001b[0;34m(\u001b[0m\u001b[0mkeyarr\u001b[0m\u001b[0;34m)\u001b[0m\u001b[0;34m\u001b[0m\u001b[0;34m\u001b[0m\u001b[0m\n\u001b[1;32m   1253\u001b[0m \u001b[0;34m\u001b[0m\u001b[0m\n\u001b[0;32m-> 1254\u001b[0;31m         \u001b[0mself\u001b[0m\u001b[0;34m.\u001b[0m\u001b[0m_validate_read_indexer\u001b[0m\u001b[0;34m(\u001b[0m\u001b[0mkeyarr\u001b[0m\u001b[0;34m,\u001b[0m \u001b[0mindexer\u001b[0m\u001b[0;34m,\u001b[0m \u001b[0maxis\u001b[0m\u001b[0;34m,\u001b[0m \u001b[0mraise_missing\u001b[0m\u001b[0;34m=\u001b[0m\u001b[0mraise_missing\u001b[0m\u001b[0;34m)\u001b[0m\u001b[0;34m\u001b[0m\u001b[0;34m\u001b[0m\u001b[0m\n\u001b[0m\u001b[1;32m   1255\u001b[0m         \u001b[0;32mreturn\u001b[0m \u001b[0mkeyarr\u001b[0m\u001b[0;34m,\u001b[0m \u001b[0mindexer\u001b[0m\u001b[0;34m\u001b[0m\u001b[0;34m\u001b[0m\u001b[0m\n\u001b[1;32m   1256\u001b[0m \u001b[0;34m\u001b[0m\u001b[0m\n",
      "\u001b[0;32m~/opt/miniconda3/envs/coenzyme_paper/lib/python3.8/site-packages/pandas/core/indexing.py\u001b[0m in \u001b[0;36m_validate_read_indexer\u001b[0;34m(self, key, indexer, axis, raise_missing)\u001b[0m\n\u001b[1;32m   1313\u001b[0m \u001b[0;34m\u001b[0m\u001b[0m\n\u001b[1;32m   1314\u001b[0m                 \u001b[0;32mwith\u001b[0m \u001b[0moption_context\u001b[0m\u001b[0;34m(\u001b[0m\u001b[0;34m\"display.max_seq_items\"\u001b[0m\u001b[0;34m,\u001b[0m \u001b[0;36m10\u001b[0m\u001b[0;34m,\u001b[0m \u001b[0;34m\"display.width\"\u001b[0m\u001b[0;34m,\u001b[0m \u001b[0;36m80\u001b[0m\u001b[0;34m)\u001b[0m\u001b[0;34m:\u001b[0m\u001b[0;34m\u001b[0m\u001b[0;34m\u001b[0m\u001b[0m\n\u001b[0;32m-> 1315\u001b[0;31m                     raise KeyError(\n\u001b[0m\u001b[1;32m   1316\u001b[0m                         \u001b[0;34m\"Passing list-likes to .loc or [] with any missing labels \"\u001b[0m\u001b[0;34m\u001b[0m\u001b[0;34m\u001b[0m\u001b[0m\n\u001b[1;32m   1317\u001b[0m                         \u001b[0;34m\"is no longer supported. \"\u001b[0m\u001b[0;34m\u001b[0m\u001b[0;34m\u001b[0m\u001b[0m\n",
      "\u001b[0;31mKeyError\u001b[0m: \"Passing list-likes to .loc or [] with any missing labels is no longer supported. The following labels were missing: Index(['lpdA (K00382)', 'allD (K00073)', 'dmlA (K07246)', 'tyrA (K14187)',\\n       'fucO (K00048)', 'yiaK (K08092)'],\\n      dtype='object', name='id'). See https://pandas.pydata.org/pandas-docs/stable/user_guide/indexing.html#deprecate-loc-reindex-listlike\""
     ]
    }
   ],
   "source": [
    "p.loc[idl]"
   ]
  },
  {
   "cell_type": "code",
   "execution_count": 158,
   "metadata": {},
   "outputs": [
    {
     "data": {
      "image/png": "[encoded data removed]",
      "text/plain": [
       "<Figure size 432x288 with 2 Axes>"
      ]
     },
     "metadata": {
      "needs_background": "light"
     },
     "output_type": "display_data"
    }
   ],
   "source": [
    "sns.heatmap(p.reset_index()[p.reset_index().id.isin(idl)].set_index('id'),cmap=\"Blues\")\n",
    "plt.xlabel('amino acid residue')\n",
    "plt.ylabel('NAD-coupled oxidoreductase')\n",
    "plt.savefig('orthogroups.DE.conservation.heatmap.svg')"
   ]
  },
  {
   "cell_type": "code",
   "execution_count": 148,
   "metadata": {},
   "outputs": [
    {
     "name": "stdout",
     "output_type": "stream",
     "text": [
      "Help on function heatmap in module seaborn.matrix:\n",
      "\n",
      "heatmap(data, *, vmin=None, vmax=None, cmap=None, center=None, robust=False, annot=None, fmt='.2g', annot_kws=None, linewidths=0, linecolor='white', cbar=True, cbar_kws=None, cbar_ax=None, square=False, xticklabels='auto', yticklabels='auto', mask=None, ax=None, **kwargs)\n",
      "    Plot rectangular data as a color-encoded matrix.\n",
      "    \n",
      "    This is an Axes-level function and will draw the heatmap into the\n",
      "    currently-active Axes if none is provided to the ``ax`` argument.  Part of\n",
      "    this Axes space will be taken and used to plot a colormap, unless ``cbar``\n",
      "    is False or a separate Axes is provided to ``cbar_ax``.\n",
      "    \n",
      "    Parameters\n",
      "    ----------\n",
      "    data : rectangular dataset\n",
      "        2D dataset that can be coerced into an ndarray. If a Pandas DataFrame\n",
      "        is provided, the index/column information will be used to label the\n",
      "        columns and rows.\n",
      "    vmin, vmax : floats, optional\n",
      "        Values to anchor the colormap, otherwise they are inferred from the\n",
      "        data and other keyword arguments.\n",
      "    cmap : matplotlib colormap name or object, or list of colors, optional\n",
      "        The mapping from data values to color space. If not provided, the\n",
      "        default will depend on whether ``center`` is set.\n",
      "    center : float, optional\n",
      "        The value at which to center the colormap when plotting divergant data.\n",
      "        Using this parameter will change the default ``cmap`` if none is\n",
      "        specified.\n",
      "    robust : bool, optional\n",
      "        If True and ``vmin`` or ``vmax`` are absent, the colormap range is\n",
      "        computed with robust quantiles instead of the extreme values.\n",
      "    annot : bool or rectangular dataset, optional\n",
      "        If True, write the data value in each cell. If an array-like with the\n",
      "        same shape as ``data``, then use this to annotate the heatmap instead\n",
      "        of the data. Note that DataFrames will match on position, not index.\n",
      "    fmt : str, optional\n",
      "        String formatting code to use when adding annotations.\n",
      "    annot_kws : dict of key, value mappings, optional\n",
      "        Keyword arguments for :meth:`matplotlib.axes.Axes.text` when ``annot``\n",
      "        is True.\n",
      "    linewidths : float, optional\n",
      "        Width of the lines that will divide each cell.\n",
      "    linecolor : color, optional\n",
      "        Color of the lines that will divide each cell.\n",
      "    cbar : bool, optional\n",
      "        Whether to draw a colorbar.\n",
      "    cbar_kws : dict of key, value mappings, optional\n",
      "        Keyword arguments for :meth:`matplotlib.figure.Figure.colorbar`.\n",
      "    cbar_ax : matplotlib Axes, optional\n",
      "        Axes in which to draw the colorbar, otherwise take space from the\n",
      "        main Axes.\n",
      "    square : bool, optional\n",
      "        If True, set the Axes aspect to \"equal\" so each cell will be\n",
      "        square-shaped.\n",
      "    xticklabels, yticklabels : \"auto\", bool, list-like, or int, optional\n",
      "        If True, plot the column names of the dataframe. If False, don't plot\n",
      "        the column names. If list-like, plot these alternate labels as the\n",
      "        xticklabels. If an integer, use the column names but plot only every\n",
      "        n label. If \"auto\", try to densely plot non-overlapping labels.\n",
      "    mask : bool array or DataFrame, optional\n",
      "        If passed, data will not be shown in cells where ``mask`` is True.\n",
      "        Cells with missing values are automatically masked.\n",
      "    ax : matplotlib Axes, optional\n",
      "        Axes in which to draw the plot, otherwise use the currently-active\n",
      "        Axes.\n",
      "    kwargs : other keyword arguments\n",
      "        All other keyword arguments are passed to\n",
      "        :meth:`matplotlib.axes.Axes.pcolormesh`.\n",
      "    \n",
      "    Returns\n",
      "    -------\n",
      "    ax : matplotlib Axes\n",
      "        Axes object with the heatmap.\n",
      "    \n",
      "    See Also\n",
      "    --------\n",
      "    clustermap : Plot a matrix using hierachical clustering to arrange the\n",
      "                 rows and columns.\n",
      "    \n",
      "    Examples\n",
      "    --------\n",
      "    \n",
      "    Plot a heatmap for a numpy array:\n",
      "    \n",
      "    .. plot::\n",
      "        :context: close-figs\n",
      "    \n",
      "        >>> import numpy as np; np.random.seed(0)\n",
      "        >>> import seaborn as sns; sns.set_theme()\n",
      "        >>> uniform_data = np.random.rand(10, 12)\n",
      "        >>> ax = sns.heatmap(uniform_data)\n",
      "    \n",
      "    Change the limits of the colormap:\n",
      "    \n",
      "    .. plot::\n",
      "        :context: close-figs\n",
      "    \n",
      "        >>> ax = sns.heatmap(uniform_data, vmin=0, vmax=1)\n",
      "    \n",
      "    Plot a heatmap for data centered on 0 with a diverging colormap:\n",
      "    \n",
      "    .. plot::\n",
      "        :context: close-figs\n",
      "    \n",
      "        >>> normal_data = np.random.randn(10, 12)\n",
      "        >>> ax = sns.heatmap(normal_data, center=0)\n",
      "    \n",
      "    Plot a dataframe with meaningful row and column labels:\n",
      "    \n",
      "    .. plot::\n",
      "        :context: close-figs\n",
      "    \n",
      "        >>> flights = sns.load_dataset(\"flights\")\n",
      "        >>> flights = flights.pivot(\"month\", \"year\", \"passengers\")\n",
      "        >>> ax = sns.heatmap(flights)\n",
      "    \n",
      "    Annotate each cell with the numeric value using integer formatting:\n",
      "    \n",
      "    .. plot::\n",
      "        :context: close-figs\n",
      "    \n",
      "        >>> ax = sns.heatmap(flights, annot=True, fmt=\"d\")\n",
      "    \n",
      "    Add lines between each cell:\n",
      "    \n",
      "    .. plot::\n",
      "        :context: close-figs\n",
      "    \n",
      "        >>> ax = sns.heatmap(flights, linewidths=.5)\n",
      "    \n",
      "    Use a different colormap:\n",
      "    \n",
      "    .. plot::\n",
      "        :context: close-figs\n",
      "    \n",
      "        >>> ax = sns.heatmap(flights, cmap=\"YlGnBu\")\n",
      "    \n",
      "    Center the colormap at a specific value:\n",
      "    \n",
      "    .. plot::\n",
      "        :context: close-figs\n",
      "    \n",
      "        >>> ax = sns.heatmap(flights, center=flights.loc[\"Jan\", 1955])\n",
      "    \n",
      "    Plot every other column label and don't plot row labels:\n",
      "    \n",
      "    .. plot::\n",
      "        :context: close-figs\n",
      "    \n",
      "        >>> data = np.random.randn(50, 20)\n",
      "        >>> ax = sns.heatmap(data, xticklabels=2, yticklabels=False)\n",
      "    \n",
      "    Don't draw a colorbar:\n",
      "    \n",
      "    .. plot::\n",
      "        :context: close-figs\n",
      "    \n",
      "        >>> ax = sns.heatmap(flights, cbar=False)\n",
      "    \n",
      "    Use different axes for the colorbar:\n",
      "    \n",
      "    .. plot::\n",
      "        :context: close-figs\n",
      "    \n",
      "        >>> grid_kws = {\"height_ratios\": (.9, .05), \"hspace\": .3}\n",
      "        >>> f, (ax, cbar_ax) = plt.subplots(2, gridspec_kw=grid_kws)\n",
      "        >>> ax = sns.heatmap(flights, ax=ax,\n",
      "        ...                  cbar_ax=cbar_ax,\n",
      "        ...                  cbar_kws={\"orientation\": \"horizontal\"})\n",
      "    \n",
      "    Use a mask to plot only part of a matrix\n",
      "    \n",
      "    .. plot::\n",
      "        :context: close-figs\n",
      "    \n",
      "        >>> corr = np.corrcoef(np.random.randn(10, 200))\n",
      "        >>> mask = np.zeros_like(corr)\n",
      "        >>> mask[np.triu_indices_from(mask)] = True\n",
      "        >>> with sns.axes_style(\"white\"):\n",
      "        ...     f, ax = plt.subplots(figsize=(7, 5))\n",
      "        ...     ax = sns.heatmap(corr, mask=mask, vmax=.3, square=True)\n",
      "\n"
     ]
    }
   ],
   "source": [
    "help(sns.heatmap)"
   ]
  },
  {
   "cell_type": "code",
   "execution_count": null,
   "metadata": {},
   "outputs": [],
   "source": []
  }
 ],
 "metadata": {
  "kernelspec": {
   "display_name": "Python 3.8 (Coenzyme Paper)",
   "language": "python",
   "name": "coenzyme_paper"
  },
  "language_info": {
   "codemirror_mode": {
    "name": "ipython",
    "version": 3
   },
   "file_extension": ".py",
   "mimetype": "text/x-python",
   "name": "python",
   "nbconvert_exporter": "python",
   "pygments_lexer": "ipython3",
   "version": "3.8.5"
  }
 },
 "nbformat": 4,
 "nbformat_minor": 4
}
