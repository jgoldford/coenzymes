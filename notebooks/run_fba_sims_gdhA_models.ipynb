{
 "cells": [
  {
   "cell_type": "code",
   "execution_count": 5,
   "metadata": {},
   "outputs": [],
   "source": [
    "import cobra\n",
    "import pandas as pd\n",
    "import numpy as np"
   ]
  },
  {
   "cell_type": "code",
   "execution_count": 7,
   "metadata": {},
   "outputs": [],
   "source": [
    "model = cobra.io.read_sbml_model('../assets/models/stoich/iJO1366_b1761_NAD.xml')\n",
    "media = pd.read_csv('../assets/media_sets_names.txt',sep='\\t')\n",
    "\n",
    "# get the base medium\n",
    "medium = model.medium\n",
    "medium.pop('EX_glc__D_e')\n",
    "medium.pop('EX_nh4_e')\n",
    "medium.pop('EX_o2_e')\n",
    "medium_base = medium.copy()\n"
   ]
  },
  {
   "cell_type": "code",
   "execution_count": 8,
   "metadata": {},
   "outputs": [],
   "source": [
    "csource = 'EX_ala__L_e'\n",
    "nsource = 'EX_nh4_e'\n",
    "esource = 'None'\n",
    "m = medium_base.copy();\n",
    "m[csource] = 100;\n",
    "m[nsource] = 1000;\n",
    "model.medium = m;\n",
    "solution = model.optimize()\n"
   ]
  },
  {
   "cell_type": "code",
   "execution_count": 12,
   "metadata": {},
   "outputs": [],
   "source": [
    "m2 = model.copy()"
   ]
  },
  {
   "cell_type": "code",
   "execution_count": 17,
   "metadata": {},
   "outputs": [],
   "source": [
    "m2.reactions.get_by_id('NADTRHD').lower_bound = 0"
   ]
  },
  {
   "cell_type": "code",
   "execution_count": 18,
   "metadata": {},
   "outputs": [
    {
     "data": {
      "text/html": [
       "<strong><em>Optimal</em> solution with objective value 0.229</strong><br><div>\n",
       "<style scoped>\n",
       "    .dataframe tbody tr th:only-of-type {\n",
       "        vertical-align: middle;\n",
       "    }\n",
       "\n",
       "    .dataframe tbody tr th {\n",
       "        vertical-align: top;\n",
       "    }\n",
       "\n",
       "    .dataframe thead th {\n",
       "        text-align: right;\n",
       "    }\n",
       "</style>\n",
       "<table border=\"1\" class=\"dataframe\">\n",
       "  <thead>\n",
       "    <tr style=\"text-align: right;\">\n",
       "      <th></th>\n",
       "      <th>fluxes</th>\n",
       "      <th>reduced_costs</th>\n",
       "    </tr>\n",
       "  </thead>\n",
       "  <tbody>\n",
       "    <tr>\n",
       "      <th>EX_cm_e</th>\n",
       "      <td>0.000000</td>\n",
       "      <td>0.000000e+00</td>\n",
       "    </tr>\n",
       "    <tr>\n",
       "      <th>EX_cmp_e</th>\n",
       "      <td>0.000000</td>\n",
       "      <td>-3.183278e-01</td>\n",
       "    </tr>\n",
       "    <tr>\n",
       "      <th>EX_co2_e</th>\n",
       "      <td>-0.083772</td>\n",
       "      <td>0.000000e+00</td>\n",
       "    </tr>\n",
       "    <tr>\n",
       "      <th>EX_cobalt2_e</th>\n",
       "      <td>-0.000006</td>\n",
       "      <td>0.000000e+00</td>\n",
       "    </tr>\n",
       "    <tr>\n",
       "      <th>DM_4crsol_c</th>\n",
       "      <td>0.000051</td>\n",
       "      <td>0.000000e+00</td>\n",
       "    </tr>\n",
       "    <tr>\n",
       "      <th>...</th>\n",
       "      <td>...</td>\n",
       "      <td>...</td>\n",
       "    </tr>\n",
       "    <tr>\n",
       "      <th>RNDR4b</th>\n",
       "      <td>0.000000</td>\n",
       "      <td>-5.247161e-03</td>\n",
       "    </tr>\n",
       "    <tr>\n",
       "      <th>RNTR1c2</th>\n",
       "      <td>0.006000</td>\n",
       "      <td>-4.423545e-17</td>\n",
       "    </tr>\n",
       "    <tr>\n",
       "      <th>RNTR2c2</th>\n",
       "      <td>0.006195</td>\n",
       "      <td>3.903128e-17</td>\n",
       "    </tr>\n",
       "    <tr>\n",
       "      <th>RNTR3c2</th>\n",
       "      <td>0.006195</td>\n",
       "      <td>1.127570e-17</td>\n",
       "    </tr>\n",
       "    <tr>\n",
       "      <th>GLUDy[mutant]</th>\n",
       "      <td>97.550380</td>\n",
       "      <td>-6.434089e-17</td>\n",
       "    </tr>\n",
       "  </tbody>\n",
       "</table>\n",
       "<p>2583 rows × 2 columns</p>\n",
       "</div>"
      ],
      "text/plain": [
       "<Solution 0.229 at 0x7fe6a256ef28>"
      ]
     },
     "execution_count": 18,
     "metadata": {},
     "output_type": "execute_result"
    }
   ],
   "source": [
    "m2.optimize()"
   ]
  },
  {
   "cell_type": "code",
   "execution_count": 30,
   "metadata": {},
   "outputs": [],
   "source": [
    "wt = cobra.io.read_sbml_model('../assets/iJO1366.xml')\n",
    "# get the base medium\n",
    "wt.medium = m"
   ]
  },
  {
   "cell_type": "code",
   "execution_count": 39,
   "metadata": {},
   "outputs": [],
   "source": [
    "wt.medium = m"
   ]
  },
  {
   "cell_type": "code",
   "execution_count": 40,
   "metadata": {},
   "outputs": [],
   "source": [
    "solwt = wt.optimize()"
   ]
  },
  {
   "cell_type": "code",
   "execution_count": 41,
   "metadata": {},
   "outputs": [
    {
     "data": {
      "text/html": [
       "<strong><em>Optimal</em> solution with objective value 0.481</strong><br><div>\n",
       "<style scoped>\n",
       "    .dataframe tbody tr th:only-of-type {\n",
       "        vertical-align: middle;\n",
       "    }\n",
       "\n",
       "    .dataframe tbody tr th {\n",
       "        vertical-align: top;\n",
       "    }\n",
       "\n",
       "    .dataframe thead th {\n",
       "        text-align: right;\n",
       "    }\n",
       "</style>\n",
       "<table border=\"1\" class=\"dataframe\">\n",
       "  <thead>\n",
       "    <tr style=\"text-align: right;\">\n",
       "      <th></th>\n",
       "      <th>fluxes</th>\n",
       "      <th>reduced_costs</th>\n",
       "    </tr>\n",
       "  </thead>\n",
       "  <tbody>\n",
       "    <tr>\n",
       "      <th>EX_cm_e</th>\n",
       "      <td>0.000000</td>\n",
       "      <td>0.000000e+00</td>\n",
       "    </tr>\n",
       "    <tr>\n",
       "      <th>EX_cmp_e</th>\n",
       "      <td>0.000000</td>\n",
       "      <td>-3.097169e-01</td>\n",
       "    </tr>\n",
       "    <tr>\n",
       "      <th>EX_co2_e</th>\n",
       "      <td>-92.518256</td>\n",
       "      <td>0.000000e+00</td>\n",
       "    </tr>\n",
       "    <tr>\n",
       "      <th>EX_cobalt2_e</th>\n",
       "      <td>-0.000012</td>\n",
       "      <td>0.000000e+00</td>\n",
       "    </tr>\n",
       "    <tr>\n",
       "      <th>DM_4crsol_c</th>\n",
       "      <td>0.000107</td>\n",
       "      <td>9.090506e-13</td>\n",
       "    </tr>\n",
       "    <tr>\n",
       "      <th>...</th>\n",
       "      <td>...</td>\n",
       "      <td>...</td>\n",
       "    </tr>\n",
       "    <tr>\n",
       "      <th>RNDR4</th>\n",
       "      <td>0.000000</td>\n",
       "      <td>0.000000e+00</td>\n",
       "    </tr>\n",
       "    <tr>\n",
       "      <th>RNDR4b</th>\n",
       "      <td>0.000000</td>\n",
       "      <td>0.000000e+00</td>\n",
       "    </tr>\n",
       "    <tr>\n",
       "      <th>RNTR1c2</th>\n",
       "      <td>0.012586</td>\n",
       "      <td>0.000000e+00</td>\n",
       "    </tr>\n",
       "    <tr>\n",
       "      <th>RNTR2c2</th>\n",
       "      <td>0.000000</td>\n",
       "      <td>5.551115e-17</td>\n",
       "    </tr>\n",
       "    <tr>\n",
       "      <th>RNTR3c2</th>\n",
       "      <td>0.000000</td>\n",
       "      <td>5.551115e-17</td>\n",
       "    </tr>\n",
       "  </tbody>\n",
       "</table>\n",
       "<p>2583 rows × 2 columns</p>\n",
       "</div>"
      ],
      "text/plain": [
       "<Solution 0.481 at 0x7f8b893deb70>"
      ]
     },
     "execution_count": 41,
     "metadata": {},
     "output_type": "execute_result"
    }
   ],
   "source": [
    "solwt"
   ]
  },
  {
   "cell_type": "code",
   "execution_count": 66,
   "metadata": {},
   "outputs": [
    {
     "data": {
      "text/html": [
       "\n",
       "        <table>\n",
       "            <tr>\n",
       "                <td><strong>Reaction identifier</strong></td><td>GLUDy[mutant]</td>\n",
       "            </tr><tr>\n",
       "                <td><strong>Name</strong></td><td>Glutamate dehydrogenase (NADP)</td>\n",
       "            </tr><tr>\n",
       "                <td><strong>Memory address</strong></td>\n",
       "                <td>0x07f8b82af0b00</td>\n",
       "            </tr><tr>\n",
       "                <td><strong>Stoichiometry</strong></td>\n",
       "                <td>\n",
       "                    <p style='text-align:right'>glu__L_c + h2o_c + nad_c <=> akg_c + h_c + nadh_c + nh4_c</p>\n",
       "                    <p style='text-align:right'>L-Glutamate + H2O H2O + Nicotinamide adenine dinucleotide <=> 2-Oxoglutarate + H+ + Nicotinamide adenine dinucleotide - reduced + Ammonium</p>\n",
       "                </td>\n",
       "            </tr><tr>\n",
       "                <td><strong>GPR</strong></td><td>b1761</td>\n",
       "            </tr><tr>\n",
       "                <td><strong>Lower bound</strong></td><td>-1000.0</td>\n",
       "            </tr><tr>\n",
       "                <td><strong>Upper bound</strong></td><td>1000.0</td>\n",
       "            </tr>\n",
       "        </table>\n",
       "        "
      ],
      "text/plain": [
       "<Reaction GLUDy[mutant] at 0x7f8b82af0b00>"
      ]
     },
     "execution_count": 66,
     "metadata": {},
     "output_type": "execute_result"
    }
   ],
   "source": [
    "model.reactions[-1]"
   ]
  },
  {
   "cell_type": "code",
   "execution_count": null,
   "metadata": {},
   "outputs": [],
   "source": []
  },
  {
   "cell_type": "code",
   "execution_count": 25,
   "metadata": {},
   "outputs": [
    {
     "data": {
      "text/plain": [
       "murein5p5p5p_p     -1.116019\n",
       "murein5px4px4p_p   -1.108041\n",
       "murein4px4p4p_p    -1.104051\n",
       "murein4px4px4p_p   -1.104051\n",
       "uaagmda_c          -0.822802\n",
       "                      ...   \n",
       "sufbcd_c            0.248337\n",
       "udpLa4o_c           0.314493\n",
       "udpglcur_c          0.318483\n",
       "udpLa4n_c           0.321475\n",
       "udpLa4fn_c          0.321475\n",
       "Name: shadow_prices, Length: 1805, dtype: float64"
      ]
     },
     "execution_count": 25,
     "metadata": {},
     "output_type": "execute_result"
    }
   ],
   "source": [
    "solution.shadow_prices.sort_values()"
   ]
  },
  {
   "cell_type": "code",
   "execution_count": 55,
   "metadata": {},
   "outputs": [
    {
     "data": {
      "text/plain": [
       "0.0"
      ]
     },
     "execution_count": 55,
     "metadata": {},
     "output_type": "execute_result"
    }
   ],
   "source": [
    "solution.fluxes.loc['NADTRHD']"
   ]
  },
  {
   "cell_type": "code",
   "execution_count": 58,
   "metadata": {},
   "outputs": [],
   "source": [
    "s = pd.DataFrame(solution.shadow_prices)\n",
    "s.columns = ['Shadow prices (MUT)']\n",
    "\n",
    "w = pd.DataFrame(solwt.shadow_prices)\n",
    "w.columns = ['Shadow prices (WT)']\n"
   ]
  },
  {
   "cell_type": "code",
   "execution_count": 61,
   "metadata": {},
   "outputs": [],
   "source": [
    "sp = pd.concat([s,w],axis=1)"
   ]
  },
  {
   "cell_type": "code",
   "execution_count": 62,
   "metadata": {},
   "outputs": [],
   "source": [
    "import seaborn as sns"
   ]
  },
  {
   "cell_type": "code",
   "execution_count": 63,
   "metadata": {},
   "outputs": [
    {
     "data": {
      "text/plain": [
       "<AxesSubplot:xlabel='Shadow prices (WT)', ylabel='Shadow prices (MUT)'>"
      ]
     },
     "execution_count": 63,
     "metadata": {},
     "output_type": "execute_result"
    },
    {
     "data": {
      "image/png": "[encoded data removed]",
      "text/plain": [
       "<Figure size 432x288 with 1 Axes>"
      ]
     },
     "metadata": {
      "needs_background": "light"
     },
     "output_type": "display_data"
    }
   ],
   "source": [
    "sns.scatterplot(x='Shadow prices (WT)',y = 'Shadow prices (MUT)', data=sp)"
   ]
  },
  {
   "cell_type": "code",
   "execution_count": null,
   "metadata": {},
   "outputs": [],
   "source": []
  },
  {
   "cell_type": "code",
   "execution_count": 64,
   "metadata": {},
   "outputs": [
    {
     "data": {
      "text/html": [
       "<div>\n",
       "<style scoped>\n",
       "    .dataframe tbody tr th:only-of-type {\n",
       "        vertical-align: middle;\n",
       "    }\n",
       "\n",
       "    .dataframe tbody tr th {\n",
       "        vertical-align: top;\n",
       "    }\n",
       "\n",
       "    .dataframe thead th {\n",
       "        text-align: right;\n",
       "    }\n",
       "</style>\n",
       "<table border=\"1\" class=\"dataframe\">\n",
       "  <thead>\n",
       "    <tr style=\"text-align: right;\">\n",
       "      <th></th>\n",
       "      <th>Shadow prices (MUT)</th>\n",
       "      <th>Shadow prices (WT)</th>\n",
       "    </tr>\n",
       "  </thead>\n",
       "  <tbody>\n",
       "    <tr>\n",
       "      <th>colipa_e</th>\n",
       "      <td>-0.514222</td>\n",
       "      <td>0.0</td>\n",
       "    </tr>\n",
       "    <tr>\n",
       "      <th>pheme_e</th>\n",
       "      <td>-0.638405</td>\n",
       "      <td>0.0</td>\n",
       "    </tr>\n",
       "    <tr>\n",
       "      <th>pheme_p</th>\n",
       "      <td>-0.638405</td>\n",
       "      <td>0.0</td>\n",
       "    </tr>\n",
       "  </tbody>\n",
       "</table>\n",
       "</div>"
      ],
      "text/plain": [
       "          Shadow prices (MUT)  Shadow prices (WT)\n",
       "colipa_e            -0.514222                 0.0\n",
       "pheme_e             -0.638405                 0.0\n",
       "pheme_p             -0.638405                 0.0"
      ]
     },
     "execution_count": 64,
     "metadata": {},
     "output_type": "execute_result"
    }
   ],
   "source": [
    "sp[(sp['Shadow prices (WT)'] > -0.1) & (sp['Shadow prices (MUT)'] < -0.4)]"
   ]
  },
  {
   "cell_type": "code",
   "execution_count": null,
   "metadata": {},
   "outputs": [],
   "source": [
    "s = pd.DataFrame(solution.fluxes)\n",
    "s.columns = ['Fluxes (MUT)']\n",
    "\n",
    "w = pd.DataFrame(solwt.fluxes)\n",
    "w.columns = ['Fluxes (WT)']\n"
   ]
  },
  {
   "cell_type": "code",
   "execution_count": 77,
   "metadata": {},
   "outputs": [],
   "source": [
    "solwt_pfba = cobra.flux_analysis.parsimonious.pfba(wt)\n",
    "solmut_pfba = cobra.flux_analysis.parsimonious.pfba(model)"
   ]
  },
  {
   "cell_type": "code",
   "execution_count": 96,
   "metadata": {},
   "outputs": [
    {
     "data": {
      "text/plain": [
       "<AxesSubplot:xlabel='flux (wt)', ylabel='flux (mut)'>"
      ]
     },
     "execution_count": 96,
     "metadata": {},
     "output_type": "execute_result"
    },
    {
     "data": {
      "image/png": "[encoded data removed]",
      "text/plain": [
       "<Figure size 432x288 with 1 Axes>"
      ]
     },
     "metadata": {
      "needs_background": "light"
     },
     "output_type": "display_data"
    }
   ],
   "source": [
    "solwt_pfba_flx = pd.DataFrame(solwt_pfba.fluxes).fillna(0)\n",
    "solwt_pfba_flx.columns = ['flux (wt)']\n",
    "\n",
    "solmut_pfba_flx = pd.DataFrame(solmut_pfba.fluxes).fillna(0)\n",
    "solmut_pfba_flx.columns = ['flux (mut)']\n",
    "\n",
    "pfba_fluxes = pd.concat([solwt_pfba_flx,solmut_pfba_flx],axis=1).fillna(0)\n",
    "\n",
    "sns.scatterplot(x='flux (wt)',y = 'flux (mut)', data=pfba_fluxes)\n"
   ]
  },
  {
   "cell_type": "code",
   "execution_count": 155,
   "metadata": {},
   "outputs": [
    {
     "data": {
      "text/html": [
       "<div>\n",
       "<style scoped>\n",
       "    .dataframe tbody tr th:only-of-type {\n",
       "        vertical-align: middle;\n",
       "    }\n",
       "\n",
       "    .dataframe tbody tr th {\n",
       "        vertical-align: top;\n",
       "    }\n",
       "\n",
       "    .dataframe thead th {\n",
       "        text-align: right;\n",
       "    }\n",
       "</style>\n",
       "<table border=\"1\" class=\"dataframe\">\n",
       "  <thead>\n",
       "    <tr style=\"text-align: right;\">\n",
       "      <th></th>\n",
       "      <th>flux (wt)</th>\n",
       "      <th>flux (mut)</th>\n",
       "    </tr>\n",
       "  </thead>\n",
       "  <tbody>\n",
       "    <tr>\n",
       "      <th>GLUDy</th>\n",
       "      <td>94.861455</td>\n",
       "      <td>0.000000</td>\n",
       "    </tr>\n",
       "    <tr>\n",
       "      <th>GLUDy[mutant]</th>\n",
       "      <td>0.000000</td>\n",
       "      <td>97.550380</td>\n",
       "    </tr>\n",
       "    <tr>\n",
       "      <th>ALATA_L</th>\n",
       "      <td>98.465406</td>\n",
       "      <td>99.268436</td>\n",
       "    </tr>\n",
       "    <tr>\n",
       "      <th>FLDR2</th>\n",
       "      <td>92.342528</td>\n",
       "      <td>0.000000</td>\n",
       "    </tr>\n",
       "    <tr>\n",
       "      <th>PFL</th>\n",
       "      <td>186.984204</td>\n",
       "      <td>97.445608</td>\n",
       "    </tr>\n",
       "    <tr>\n",
       "      <th>ACALD</th>\n",
       "      <td>0.000000</td>\n",
       "      <td>-48.174785</td>\n",
       "    </tr>\n",
       "    <tr>\n",
       "      <th>ACKr</th>\n",
       "      <td>-92.321156</td>\n",
       "      <td>-48.164597</td>\n",
       "    </tr>\n",
       "    <tr>\n",
       "      <th>ALCD2x</th>\n",
       "      <td>0.000000</td>\n",
       "      <td>-48.174785</td>\n",
       "    </tr>\n",
       "    <tr>\n",
       "      <th>CO2tpp</th>\n",
       "      <td>92.518256</td>\n",
       "      <td>0.083772</td>\n",
       "    </tr>\n",
       "    <tr>\n",
       "      <th>POR5</th>\n",
       "      <td>-92.290217</td>\n",
       "      <td>0.024938</td>\n",
       "    </tr>\n",
       "  </tbody>\n",
       "</table>\n",
       "</div>"
      ],
      "text/plain": [
       "                flux (wt)  flux (mut)\n",
       "GLUDy           94.861455    0.000000\n",
       "GLUDy[mutant]    0.000000   97.550380\n",
       "ALATA_L         98.465406   99.268436\n",
       "FLDR2           92.342528    0.000000\n",
       "PFL            186.984204   97.445608\n",
       "ACALD            0.000000  -48.174785\n",
       "ACKr           -92.321156  -48.164597\n",
       "ALCD2x           0.000000  -48.174785\n",
       "CO2tpp          92.518256    0.083772\n",
       "POR5           -92.290217    0.024938"
      ]
     },
     "execution_count": 155,
     "metadata": {},
     "output_type": "execute_result"
    }
   ],
   "source": [
    "pfba_fluxes.loc[['GLUDy','GLUDy[mutant]','ALATA_L','FLDR2','PFL','ACALD','ACKr','ALCD2x','CO2tpp','POR5']]"
   ]
  },
  {
   "cell_type": "code",
   "execution_count": 97,
   "metadata": {},
   "outputs": [
    {
     "data": {
      "text/plain": [
       "ASAD              0.269088\n",
       "GAPD              0.606035\n",
       "ASPTA             0.736901\n",
       "ALATA_L           0.803030\n",
       "THD2pp            0.857040\n",
       "PPK               0.881970\n",
       "ENO               1.024758\n",
       "EX_nh4_e          2.718583\n",
       "ATPS4rpp         22.678637\n",
       "EX_h2o_e         37.529876\n",
       "ACKr             44.156559\n",
       "ACt2rpp          44.303195\n",
       "ACtex            44.303195\n",
       "EX_etoh_e        48.174785\n",
       "FORtex           89.511108\n",
       "POR5             92.315154\n",
       "EX_co2_e         92.434484\n",
       "GLUDy[mutant]    97.550380\n",
       "ALAt2pp_copy1    99.998806\n",
       "dtype: float64"
      ]
     },
     "execution_count": 97,
     "metadata": {},
     "output_type": "execute_result"
    }
   ],
   "source": [
    "(pfba_fluxes['flux (mut)'] - pfba_fluxes['flux (wt)']).sort_values().iloc[-20:-1]"
   ]
  },
  {
   "cell_type": "code",
   "execution_count": 98,
   "metadata": {},
   "outputs": [
    {
     "data": {
      "text/plain": [
       "EX_h_e          -136.295988\n",
       "ALAt2pp_copy2    -99.997496\n",
       "GLUDy            -94.861455\n",
       "CO2tpp           -92.434484\n",
       "CO2tex           -92.434484\n",
       "FLDR2            -92.342528\n",
       "PFL              -89.538596\n",
       "FORtppi          -89.511108\n",
       "EX_for_e         -89.511108\n",
       "ACALD            -48.174785\n",
       "ETOHtrpp         -48.174785\n",
       "ETOHtex          -48.174785\n",
       "ALCD2x           -48.174785\n",
       "EX_ac_e          -44.303195\n",
       "PTAr             -44.156559\n",
       "H2Otex           -37.529876\n",
       "H2Otpp           -37.529876\n",
       "ADK1              -2.722695\n",
       "NH4tpp            -2.718583\n",
       "NH4tex            -2.718583\n",
       "dtype: float64"
      ]
     },
     "execution_count": 98,
     "metadata": {},
     "output_type": "execute_result"
    }
   ],
   "source": [
    "(pfba_fluxes['flux (mut)'] - pfba_fluxes['flux (wt)']).sort_values().iloc[0:20]"
   ]
  },
  {
   "cell_type": "code",
   "execution_count": 118,
   "metadata": {},
   "outputs": [
    {
     "data": {
      "text/html": [
       "\n",
       "        <table>\n",
       "            <tr>\n",
       "                <td><strong>Reaction identifier</strong></td><td>ACALD</td>\n",
       "            </tr><tr>\n",
       "                <td><strong>Name</strong></td><td>Acetaldehyde dehydrogenase (acetylating)</td>\n",
       "            </tr><tr>\n",
       "                <td><strong>Memory address</strong></td>\n",
       "                <td>0x07f8b81410da0</td>\n",
       "            </tr><tr>\n",
       "                <td><strong>Stoichiometry</strong></td>\n",
       "                <td>\n",
       "                    <p style='text-align:right'>acald_c + coa_c + nad_c <=> accoa_c + h_c + nadh_c</p>\n",
       "                    <p style='text-align:right'>Acetaldehyde + Coenzyme A + Nicotinamide adenine dinucleotide <=> Acetyl-CoA + H+ + Nicotinamide adenine dinucleotide - reduced</p>\n",
       "                </td>\n",
       "            </tr><tr>\n",
       "                <td><strong>GPR</strong></td><td>b0351 or b1241</td>\n",
       "            </tr><tr>\n",
       "                <td><strong>Lower bound</strong></td><td>-1000.0</td>\n",
       "            </tr><tr>\n",
       "                <td><strong>Upper bound</strong></td><td>1000.0</td>\n",
       "            </tr>\n",
       "        </table>\n",
       "        "
      ],
      "text/plain": [
       "<Reaction ACALD at 0x7f8b81410da0>"
      ]
     },
     "execution_count": 118,
     "metadata": {},
     "output_type": "execute_result"
    }
   ],
   "source": [
    "[x for x in model.reactions if x.id =='ACALD'][0]"
   ]
  },
  {
   "cell_type": "code",
   "execution_count": 122,
   "metadata": {},
   "outputs": [],
   "source": [
    "r = [x for x in model.reactions if x.id =='FLDR2'][0].copy()"
   ]
  },
  {
   "cell_type": "code",
   "execution_count": 132,
   "metadata": {},
   "outputs": [],
   "source": [
    "r.metabolites[list([x for x in model.reactions if x.id =='GLUDy[mutant]'][0].metabolites)[2]] = 1"
   ]
  },
  {
   "cell_type": "code",
   "execution_count": 144,
   "metadata": {},
   "outputs": [],
   "source": [
    "\n",
    "\n",
    "def swap_reaction(model,reaction_index,thermo):\n",
    "    met = {}\n",
    "    met['nad'] = np.where([x.id == 'nad_c' for x in model.metabolites])[0][0]\n",
    "    met['nadp'] = np.where([x.id == 'nadp_c' for x in model.metabolites])[0][0]\n",
    "    met['nadh'] = np.where([x.id == 'nadh_c' for x in model.metabolites])[0][0]\n",
    "    met['nadph'] = np.where([x.id == 'nadph_c' for x in model.metabolites])[0][0]\n",
    "\n",
    "    met_objs = {}\n",
    "    met_objs['nad'] = [x for x in model.metabolites if x.id == 'nad_c'][0]\n",
    "    met_objs['nadh'] = [x for x in model.metabolites if x.id == 'nadh_c'][0]\n",
    "    met_objs['nadp'] = [x for x in model.metabolites if x.id == 'nadp_c'][0]\n",
    "    met_objs['nadph'] = [x for x in model.metabolites if x.id == 'nadph_c'][0]\n",
    "    \n",
    "    rxn = model.reactions[reaction_index].copy()\n",
    "    # make a new dictionary with coenzyme swapped\n",
    "    v = {x:y for x,y in rxn.metabolites.items() if x.id in [x + '_c' for x in list(met)]}\n",
    "\n",
    "    v2 = {}\n",
    "    for x,y in v.items():\n",
    "        if x.id == 'nadph_c':\n",
    "            v2[met_objs['nadh']] = y\n",
    "        elif x.id == 'nadp_c':\n",
    "            v2[met_objs['nad']] = y\n",
    "        elif x.id == 'nadh_c':\n",
    "            v2[met_objs['nadph']] = y\n",
    "        elif x.id == 'nad_c':\n",
    "            v2[met_objs['nadp']] = y\n",
    "            \n",
    "    rxn.subtract_metabolites(v)\n",
    "    rxn.add_metabolites(v2)\n",
    "    rxn.id = rxn.id + '[mutant]'\n",
    "    if thermo == 'irreversible (forward)':\n",
    "        rxn.lower_bound = 0;rxn.upper_bound = 1000;\n",
    "    elif thermo == 'irreversible (backward)':\n",
    "        rxn.lower_bound = -1000;rxn.upper_bound = 0;\n",
    "    elif thermo == 'reversible':\n",
    "        rxn.lower_bound = -1000;rxn.upper_bound = 1000;\n",
    "    \n",
    "        \n",
    "    model.remove_reactions(model.reactions[reaction_index])\n",
    "    model.add_reaction(rxn)\n",
    "    return model"
   ]
  },
  {
   "cell_type": "code",
   "execution_count": 138,
   "metadata": {},
   "outputs": [],
   "source": [
    "m2 = model.copy()"
   ]
  },
  {
   "cell_type": "code",
   "execution_count": 141,
   "metadata": {},
   "outputs": [
    {
     "data": {
      "text/plain": [
       "(array([1121]),)"
      ]
     },
     "execution_count": 141,
     "metadata": {},
     "output_type": "execute_result"
    }
   ],
   "source": [
    "np.where([x.id == 'FLDR2' for x in model.reactions])"
   ]
  },
  {
   "cell_type": "code",
   "execution_count": 142,
   "metadata": {},
   "outputs": [
    {
     "data": {
      "text/html": [
       "\n",
       "        <table>\n",
       "            <tr>\n",
       "                <td><strong>Reaction identifier</strong></td><td>FLDR2</td>\n",
       "            </tr><tr>\n",
       "                <td><strong>Name</strong></td><td>Flavodoxin reductase (NADPH)</td>\n",
       "            </tr><tr>\n",
       "                <td><strong>Memory address</strong></td>\n",
       "                <td>0x07f8b81b386a0</td>\n",
       "            </tr><tr>\n",
       "                <td><strong>Stoichiometry</strong></td>\n",
       "                <td>\n",
       "                    <p style='text-align:right'>2.0 flxso_c + nadph_c --> 2.0 flxr_c + h_c + nadp_c</p>\n",
       "                    <p style='text-align:right'>2.0 Flavodoxin semi oxidized + Nicotinamide adenine dinucleotide phosphate - reduced --> 2.0 Flavodoxin reduced + H+ + Nicotinamide adenine dinucleotide phosphate</p>\n",
       "                </td>\n",
       "            </tr><tr>\n",
       "                <td><strong>GPR</strong></td><td>( b0684 and b3924 ) or ( b2895 and b3924 )</td>\n",
       "            </tr><tr>\n",
       "                <td><strong>Lower bound</strong></td><td>0.0</td>\n",
       "            </tr><tr>\n",
       "                <td><strong>Upper bound</strong></td><td>1000.0</td>\n",
       "            </tr>\n",
       "        </table>\n",
       "        "
      ],
      "text/plain": [
       "<Reaction FLDR2 at 0x7f8b81b386a0>"
      ]
     },
     "execution_count": 142,
     "metadata": {},
     "output_type": "execute_result"
    }
   ],
   "source": [
    " model.reactions[1121]"
   ]
  },
  {
   "cell_type": "code",
   "execution_count": 145,
   "metadata": {},
   "outputs": [
    {
     "name": "stderr",
     "output_type": "stream",
     "text": [
      "/Users/joshuagoldford/opt/miniconda3/envs/informatics3/lib/python3.6/site-packages/cobra/core/model.py:745: UserWarning: need to pass in a list\n",
      "  warn(\"need to pass in a list\")\n"
     ]
    }
   ],
   "source": [
    "m2 = swap_reaction(m2,1121,'irreversible (forward)')"
   ]
  },
  {
   "cell_type": "code",
   "execution_count": 149,
   "metadata": {},
   "outputs": [
    {
     "data": {
      "text/plain": [
       "{'EX_co2_e': 1000.0,\n",
       " 'EX_cobalt2_e': 1000.0,\n",
       " 'EX_h_e': 1000.0,\n",
       " 'EX_h2o_e': 1000.0,\n",
       " 'EX_k_e': 1000.0,\n",
       " 'EX_cu2_e': 1000.0,\n",
       " 'EX_ala__L_e': 100,\n",
       " 'EX_mg2_e': 1000.0,\n",
       " 'EX_mn2_e': 1000.0,\n",
       " 'EX_mobd_e': 1000.0,\n",
       " 'EX_na1_e': 1000.0,\n",
       " 'EX_nh4_e': 1000,\n",
       " 'EX_ca2_e': 1000.0,\n",
       " 'EX_cbl1_e': 0.01,\n",
       " 'EX_ni2_e': 1000.0,\n",
       " 'EX_cl_e': 1000.0,\n",
       " 'EX_pi_e': 1000.0,\n",
       " 'EX_zn2_e': 1000.0,\n",
       " 'EX_sel_e': 1000.0,\n",
       " 'EX_slnt_e': 1000.0,\n",
       " 'EX_so4_e': 1000.0,\n",
       " 'EX_tungs_e': 1000.0,\n",
       " 'EX_fe2_e': 1000.0,\n",
       " 'EX_fe3_e': 1000.0}"
      ]
     },
     "execution_count": 149,
     "metadata": {},
     "output_type": "execute_result"
    }
   ],
   "source": [
    "m2.medium"
   ]
  },
  {
   "cell_type": "code",
   "execution_count": 156,
   "metadata": {},
   "outputs": [],
   "source": [
    "rescuegr = m2.slim_optimize()\n",
    "wtgr = wt.slim_optimize()\n",
    "mutgr = model.slim_optimize()\n"
   ]
  },
  {
   "cell_type": "code",
   "execution_count": 187,
   "metadata": {},
   "outputs": [],
   "source": [
    "import seaborn as sns\n",
    "import matplotlib.pyplot as plt\n",
    "\n",
    "        \n",
    "plt.rcParams.update({\n",
    "    \"font.size\": 10,\n",
    "    \"font.family\": \"sans-serif\",\n",
    "    \"font.sans-serif\": [\"Arial\"]})"
   ]
  },
  {
   "cell_type": "code",
   "execution_count": 188,
   "metadata": {},
   "outputs": [
    {
     "data": {
      "image/png": "[encoded data removed]",
      "text/plain": [
       "<Figure size 216x216 with 1 Axes>"
      ]
     },
     "metadata": {
      "needs_background": "light"
     },
     "output_type": "display_data"
    }
   ],
   "source": [
    "fig, ax = plt.subplots(figsize=(3,3))\n",
    "sns.barplot(y=[wtgr,mutgr,rescuegr],x=['WT','gdhA','gdhA,fpr'],palette='Set2',ax=ax)\n",
    "plt.xlabel('models')\n",
    "plt.ylabel('max. growth rate')\n",
    "plt.savefig('gdh.fpr.svg')"
   ]
  },
  {
   "cell_type": "code",
   "execution_count": 183,
   "metadata": {},
   "outputs": [
    {
     "name": "stdout",
     "output_type": "stream",
     "text": [
      "Help on function barplot in module seaborn.categorical:\n",
      "\n",
      "barplot(*, x=None, y=None, hue=None, data=None, order=None, hue_order=None, estimator=<function mean at 0x7f8b9481ff28>, ci=95, n_boot=1000, units=None, seed=None, orient=None, color=None, palette=None, saturation=0.75, errcolor='.26', errwidth=None, capsize=None, dodge=True, ax=None, **kwargs)\n",
      "    Show point estimates and confidence intervals as rectangular bars.\n",
      "    \n",
      "    A bar plot represents an estimate of central tendency for a numeric\n",
      "    variable with the height of each rectangle and provides some indication of\n",
      "    the uncertainty around that estimate using error bars. Bar plots include 0\n",
      "    in the quantitative axis range, and they are a good choice when 0 is a\n",
      "    meaningful value for the quantitative variable, and you want to make\n",
      "    comparisons against it.\n",
      "    \n",
      "    For datasets where 0 is not a meaningful value, a point plot will allow you\n",
      "    to focus on differences between levels of one or more categorical\n",
      "    variables.\n",
      "    \n",
      "    It is also important to keep in mind that a bar plot shows only the mean\n",
      "    (or other estimator) value, but in many cases it may be more informative to\n",
      "    show the distribution of values at each level of the categorical variables.\n",
      "    In that case, other approaches such as a box or violin plot may be more\n",
      "    appropriate.\n",
      "    \n",
      "    \n",
      "    Input data can be passed in a variety of formats, including:\n",
      "    \n",
      "    - Vectors of data represented as lists, numpy arrays, or pandas Series\n",
      "      objects passed directly to the ``x``, ``y``, and/or ``hue`` parameters.\n",
      "    - A \"long-form\" DataFrame, in which case the ``x``, ``y``, and ``hue``\n",
      "      variables will determine how the data are plotted.\n",
      "    - A \"wide-form\" DataFrame, such that each numeric column will be plotted.\n",
      "    - An array or list of vectors.\n",
      "    \n",
      "    In most cases, it is possible to use numpy or Python objects, but pandas\n",
      "    objects are preferable because the associated names will be used to\n",
      "    annotate the axes. Additionally, you can use Categorical types for the\n",
      "    grouping variables to control the order of plot elements.    \n",
      "    \n",
      "    This function always treats one of the variables as categorical and\n",
      "    draws data at ordinal positions (0, 1, ... n) on the relevant axis, even\n",
      "    when the data has a numeric or date type.\n",
      "    \n",
      "    See the :ref:`tutorial <categorical_tutorial>` for more information.    \n",
      "    \n",
      "    Parameters\n",
      "    ----------\n",
      "    x, y, hue : names of variables in ``data`` or vector data, optional\n",
      "        Inputs for plotting long-form data. See examples for interpretation.        \n",
      "    data : DataFrame, array, or list of arrays, optional\n",
      "        Dataset for plotting. If ``x`` and ``y`` are absent, this is\n",
      "        interpreted as wide-form. Otherwise it is expected to be long-form.    \n",
      "    order, hue_order : lists of strings, optional\n",
      "        Order to plot the categorical levels in, otherwise the levels are\n",
      "        inferred from the data objects.        \n",
      "    estimator : callable that maps vector -> scalar, optional\n",
      "        Statistical function to estimate within each categorical bin.\n",
      "    ci : float or \"sd\" or None, optional\n",
      "        Size of confidence intervals to draw around estimated values.  If\n",
      "        \"sd\", skip bootstrapping and draw the standard deviation of the\n",
      "        observations. If ``None``, no bootstrapping will be performed, and\n",
      "        error bars will not be drawn.\n",
      "    n_boot : int, optional\n",
      "        Number of bootstrap iterations to use when computing confidence\n",
      "        intervals.\n",
      "    units : name of variable in ``data`` or vector data, optional\n",
      "        Identifier of sampling units, which will be used to perform a\n",
      "        multilevel bootstrap and account for repeated measures design.\n",
      "    seed : int, numpy.random.Generator, or numpy.random.RandomState, optional\n",
      "        Seed or random number generator for reproducible bootstrapping.    \n",
      "    orient : \"v\" | \"h\", optional\n",
      "        Orientation of the plot (vertical or horizontal). This is usually\n",
      "        inferred based on the type of the input variables, but it can be used\n",
      "        to resolve ambiguitiy when both `x` and `y` are numeric or when\n",
      "        plotting wide-form data.    \n",
      "    color : matplotlib color, optional\n",
      "        Color for all of the elements, or seed for a gradient palette.    \n",
      "    palette : palette name, list, or dict\n",
      "        Colors to use for the different levels of the ``hue`` variable. Should\n",
      "        be something that can be interpreted by :func:`color_palette`, or a\n",
      "        dictionary mapping hue levels to matplotlib colors.    \n",
      "    saturation : float, optional\n",
      "        Proportion of the original saturation to draw colors at. Large patches\n",
      "        often look better with slightly desaturated colors, but set this to\n",
      "        ``1`` if you want the plot colors to perfectly match the input color\n",
      "        spec.    \n",
      "    errcolor : matplotlib color\n",
      "        Color for the lines that represent the confidence interval.\n",
      "    errwidth : float, optional\n",
      "        Thickness of error bar lines (and caps).         \n",
      "    capsize : float, optional\n",
      "        Width of the \"caps\" on error bars.\n",
      "    \n",
      "    dodge : bool, optional\n",
      "        When hue nesting is used, whether elements should be shifted along the\n",
      "        categorical axis.    \n",
      "    ax : matplotlib Axes, optional\n",
      "        Axes object to draw the plot onto, otherwise uses the current Axes.    \n",
      "    kwargs : key, value mappings\n",
      "        Other keyword arguments are passed through to\n",
      "        :meth:`matplotlib.axes.Axes.bar`.\n",
      "    \n",
      "    Returns\n",
      "    -------\n",
      "    ax : matplotlib Axes\n",
      "        Returns the Axes object with the plot drawn onto it.    \n",
      "    \n",
      "    See Also\n",
      "    --------\n",
      "    countplot : Show the counts of observations in each categorical bin.    \n",
      "    pointplot : Show point estimates and confidence intervals using scatterplot\n",
      "                glyphs.    \n",
      "    catplot : Combine a categorical plot with a :class:`FacetGrid`.    \n",
      "    \n",
      "    Examples\n",
      "    --------\n",
      "    \n",
      "    Draw a set of vertical bar plots grouped by a categorical variable:\n",
      "    \n",
      "    .. plot::\n",
      "        :context: close-figs\n",
      "    \n",
      "        >>> import seaborn as sns\n",
      "        >>> sns.set_theme(style=\"whitegrid\")\n",
      "        >>> tips = sns.load_dataset(\"tips\")\n",
      "        >>> ax = sns.barplot(x=\"day\", y=\"total_bill\", data=tips)\n",
      "    \n",
      "    Draw a set of vertical bars with nested grouping by a two variables:\n",
      "    \n",
      "    .. plot::\n",
      "        :context: close-figs\n",
      "    \n",
      "        >>> ax = sns.barplot(x=\"day\", y=\"total_bill\", hue=\"sex\", data=tips)\n",
      "    \n",
      "    Draw a set of horizontal bars:\n",
      "    \n",
      "    .. plot::\n",
      "        :context: close-figs\n",
      "    \n",
      "        >>> ax = sns.barplot(x=\"tip\", y=\"day\", data=tips)\n",
      "    \n",
      "    Control bar order by passing an explicit order:\n",
      "    \n",
      "    .. plot::\n",
      "        :context: close-figs\n",
      "    \n",
      "        >>> ax = sns.barplot(x=\"time\", y=\"tip\", data=tips,\n",
      "        ...                  order=[\"Dinner\", \"Lunch\"])\n",
      "    \n",
      "    Use median as the estimate of central tendency:\n",
      "    \n",
      "    .. plot::\n",
      "        :context: close-figs\n",
      "    \n",
      "        >>> from numpy import median\n",
      "        >>> ax = sns.barplot(x=\"day\", y=\"tip\", data=tips, estimator=median)\n",
      "    \n",
      "    Show the standard error of the mean with the error bars:\n",
      "    \n",
      "    .. plot::\n",
      "        :context: close-figs\n",
      "    \n",
      "        >>> ax = sns.barplot(x=\"day\", y=\"tip\", data=tips, ci=68)\n",
      "    \n",
      "    Show standard deviation of observations instead of a confidence interval:\n",
      "    \n",
      "    .. plot::\n",
      "        :context: close-figs\n",
      "    \n",
      "        >>> ax = sns.barplot(x=\"day\", y=\"tip\", data=tips, ci=\"sd\")\n",
      "    \n",
      "    Add \"caps\" to the error bars:\n",
      "    \n",
      "    .. plot::\n",
      "        :context: close-figs\n",
      "    \n",
      "        >>> ax = sns.barplot(x=\"day\", y=\"tip\", data=tips, capsize=.2)\n",
      "    \n",
      "    Use a different color palette for the bars:\n",
      "    \n",
      "    .. plot::\n",
      "        :context: close-figs\n",
      "    \n",
      "        >>> ax = sns.barplot(x=\"size\", y=\"total_bill\", data=tips,\n",
      "        ...                  palette=\"Blues_d\")\n",
      "    \n",
      "    Use ``hue`` without changing bar position or width:\n",
      "    \n",
      "    .. plot::\n",
      "        :context: close-figs\n",
      "    \n",
      "        >>> tips[\"weekend\"] = tips[\"day\"].isin([\"Sat\", \"Sun\"])\n",
      "        >>> ax = sns.barplot(x=\"day\", y=\"total_bill\", hue=\"weekend\",\n",
      "        ...                  data=tips, dodge=False)\n",
      "    \n",
      "    Plot all bars in a single color:\n",
      "    \n",
      "    .. plot::\n",
      "        :context: close-figs\n",
      "    \n",
      "        >>> ax = sns.barplot(x=\"size\", y=\"total_bill\", data=tips,\n",
      "        ...                  color=\"salmon\", saturation=.5)\n",
      "    \n",
      "    Use :meth:`matplotlib.axes.Axes.bar` parameters to control the style.\n",
      "    \n",
      "    .. plot::\n",
      "        :context: close-figs\n",
      "    \n",
      "        >>> ax = sns.barplot(x=\"day\", y=\"total_bill\", data=tips,\n",
      "        ...                  linewidth=2.5, facecolor=(1, 1, 1, 0),\n",
      "        ...                  errcolor=\".2\", edgecolor=\".2\")\n",
      "    \n",
      "    Use :func:`catplot` to combine a :func:`barplot` and a :class:`FacetGrid`.\n",
      "    This allows grouping within additional categorical variables. Using\n",
      "    :func:`catplot` is safer than using :class:`FacetGrid` directly, as it\n",
      "    ensures synchronization of variable order across facets:\n",
      "    \n",
      "    .. plot::\n",
      "        :context: close-figs\n",
      "    \n",
      "        >>> g = sns.catplot(x=\"sex\", y=\"total_bill\",\n",
      "        ...                 hue=\"smoker\", col=\"time\",\n",
      "        ...                 data=tips, kind=\"bar\",\n",
      "        ...                 height=4, aspect=.7);\n",
      "\n"
     ]
    }
   ],
   "source": [
    "help(sns.barplot)"
   ]
  },
  {
   "cell_type": "code",
   "execution_count": 172,
   "metadata": {},
   "outputs": [
    {
     "name": "stdout",
     "output_type": "stream",
     "text": [
      "Help on package seaborn:\n",
      "\n",
      "NAME\n",
      "    seaborn - # Import seaborn objects\n",
      "\n",
      "PACKAGE CONTENTS\n",
      "    _core\n",
      "    _decorators\n",
      "    _docstrings\n",
      "    _statistics\n",
      "    _testing\n",
      "    algorithms\n",
      "    apionly\n",
      "    axisgrid\n",
      "    categorical\n",
      "    cm\n",
      "    colors (package)\n",
      "    conftest\n",
      "    distributions\n",
      "    external (package)\n",
      "    linearmodels\n",
      "    matrix\n",
      "    miscplot\n",
      "    palettes\n",
      "    rcmod\n",
      "    regression\n",
      "    relational\n",
      "    tests (package)\n",
      "    timeseries\n",
      "    utils\n",
      "    widgets\n",
      "\n",
      "DATA\n",
      "    crayons = {'Almond': '#EFDECD', 'Antique Brass': '#CD9575', 'Apricot':...\n",
      "    xkcd_rgb = {'acid green': '#8ffe09', 'adobe': '#bd6c48', 'algae': '#54...\n",
      "\n",
      "VERSION\n",
      "    0.11.1\n",
      "\n",
      "FILE\n",
      "    /Users/joshuagoldford/opt/miniconda3/envs/informatics3/lib/python3.6/site-packages/seaborn/__init__.py\n",
      "\n",
      "\n"
     ]
    }
   ],
   "source": [
    "help(sns)"
   ]
  },
  {
   "cell_type": "code",
   "execution_count": null,
   "metadata": {},
   "outputs": [],
   "source": []
  }
 ],
 "metadata": {
  "kernelspec": {
   "display_name": "Python (informatics3)",
   "language": "python",
   "name": "informatics3"
  },
  "language_info": {
   "codemirror_mode": {
    "name": "ipython",
    "version": 3
   },
   "file_extension": ".py",
   "mimetype": "text/x-python",
   "name": "python",
   "nbconvert_exporter": "python",
   "pygments_lexer": "ipython3",
   "version": "3.6.12"
  }
 },
 "nbformat": 4,
 "nbformat_minor": 4
}
