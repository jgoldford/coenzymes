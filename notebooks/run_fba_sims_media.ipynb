{
 "cells": [
  {
   "cell_type": "code",
   "execution_count": 1,
   "metadata": {},
   "outputs": [],
   "source": [
    "import cobra\n",
    "import pandas as pd\n",
    "import numpy as np"
   ]
  },
  {
   "cell_type": "code",
   "execution_count": 35,
   "metadata": {},
   "outputs": [],
   "source": [
    "model = cobra.io.read_sbml_model('../assets/iJO1366.xml')\n",
    "model_name = 'iJO1366'\n",
    "media = pd.read_csv('../assets/media_sets_names.txt',sep='\\t')\n",
    "\n",
    "# get the base medium\n",
    "medium = model.medium\n",
    "medium.pop('EX_glc__D_e')\n",
    "medium.pop('EX_nh4_e')\n",
    "medium.pop('EX_o2_e')\n",
    "medium_base = medium.copy()\n"
   ]
  },
  {
   "cell_type": "code",
   "execution_count": 43,
   "metadata": {
    "collapsed": true,
    "jupyter": {
     "outputs_hidden": true
    }
   },
   "outputs": [
    {
     "ename": "KeyboardInterrupt",
     "evalue": "",
     "output_type": "error",
     "traceback": [
      "\u001b[0;31m---------------------------------------------------------------------------\u001b[0m",
      "\u001b[0;31mKeyboardInterrupt\u001b[0m                         Traceback (most recent call last)",
      "\u001b[0;32m<ipython-input-43-a6d3e47070ae>\u001b[0m in \u001b[0;36m<module>\u001b[0;34m\u001b[0m\n\u001b[1;32m      8\u001b[0m \u001b[0;34m\u001b[0m\u001b[0m\n\u001b[1;32m      9\u001b[0m     \u001b[0mmodel\u001b[0m\u001b[0;34m.\u001b[0m\u001b[0mmedium\u001b[0m \u001b[0;34m=\u001b[0m \u001b[0mm\u001b[0m\u001b[0;34m;\u001b[0m\u001b[0;34m\u001b[0m\u001b[0;34m\u001b[0m\u001b[0m\n\u001b[0;32m---> 10\u001b[0;31m     \u001b[0mf\u001b[0m \u001b[0;34m=\u001b[0m \u001b[0mmodel\u001b[0m\u001b[0;34m.\u001b[0m\u001b[0mslim_optimize\u001b[0m\u001b[0;34m(\u001b[0m\u001b[0;34m)\u001b[0m\u001b[0;34m\u001b[0m\u001b[0;34m\u001b[0m\u001b[0m\n\u001b[0m\u001b[1;32m     11\u001b[0m     \u001b[0mobj_values\u001b[0m\u001b[0;34m.\u001b[0m\u001b[0mappend\u001b[0m\u001b[0;34m(\u001b[0m\u001b[0mf\u001b[0m\u001b[0;34m)\u001b[0m\u001b[0;34m\u001b[0m\u001b[0;34m\u001b[0m\u001b[0m\n\u001b[1;32m     12\u001b[0m \u001b[0;34m\u001b[0m\u001b[0m\n",
      "\u001b[0;32m~/opt/miniconda3/envs/coenzyme_paper/lib/python3.8/site-packages/cobra/core/model.py\u001b[0m in \u001b[0;36mslim_optimize\u001b[0;34m(self, error_value, message)\u001b[0m\n\u001b[1;32m   1074\u001b[0m             \u001b[0mThe\u001b[0m \u001b[0mobjective\u001b[0m \u001b[0mvalue\u001b[0m\u001b[0;34m.\u001b[0m\u001b[0;34m\u001b[0m\u001b[0;34m\u001b[0m\u001b[0m\n\u001b[1;32m   1075\u001b[0m         \"\"\"\n\u001b[0;32m-> 1076\u001b[0;31m         \u001b[0mself\u001b[0m\u001b[0;34m.\u001b[0m\u001b[0msolver\u001b[0m\u001b[0;34m.\u001b[0m\u001b[0moptimize\u001b[0m\u001b[0;34m(\u001b[0m\u001b[0;34m)\u001b[0m\u001b[0;34m\u001b[0m\u001b[0;34m\u001b[0m\u001b[0m\n\u001b[0m\u001b[1;32m   1077\u001b[0m         \u001b[0;32mif\u001b[0m \u001b[0mself\u001b[0m\u001b[0;34m.\u001b[0m\u001b[0msolver\u001b[0m\u001b[0;34m.\u001b[0m\u001b[0mstatus\u001b[0m \u001b[0;34m==\u001b[0m \u001b[0moptlang\u001b[0m\u001b[0;34m.\u001b[0m\u001b[0minterface\u001b[0m\u001b[0;34m.\u001b[0m\u001b[0mOPTIMAL\u001b[0m\u001b[0;34m:\u001b[0m\u001b[0;34m\u001b[0m\u001b[0;34m\u001b[0m\u001b[0m\n\u001b[1;32m   1078\u001b[0m             \u001b[0;32mreturn\u001b[0m \u001b[0mself\u001b[0m\u001b[0;34m.\u001b[0m\u001b[0msolver\u001b[0m\u001b[0;34m.\u001b[0m\u001b[0mobjective\u001b[0m\u001b[0;34m.\u001b[0m\u001b[0mvalue\u001b[0m\u001b[0;34m\u001b[0m\u001b[0;34m\u001b[0m\u001b[0m\n",
      "\u001b[0;32m~/opt/miniconda3/envs/coenzyme_paper/lib/python3.8/site-packages/optlang/interface.py\u001b[0m in \u001b[0;36moptimize\u001b[0;34m(self)\u001b[0m\n\u001b[1;32m   1468\u001b[0m         \"\"\"\n\u001b[1;32m   1469\u001b[0m         \u001b[0mself\u001b[0m\u001b[0;34m.\u001b[0m\u001b[0mupdate\u001b[0m\u001b[0;34m(\u001b[0m\u001b[0;34m)\u001b[0m\u001b[0;34m\u001b[0m\u001b[0;34m\u001b[0m\u001b[0m\n\u001b[0;32m-> 1470\u001b[0;31m         \u001b[0mstatus\u001b[0m \u001b[0;34m=\u001b[0m \u001b[0mself\u001b[0m\u001b[0;34m.\u001b[0m\u001b[0m_optimize\u001b[0m\u001b[0;34m(\u001b[0m\u001b[0;34m)\u001b[0m\u001b[0;34m\u001b[0m\u001b[0;34m\u001b[0m\u001b[0m\n\u001b[0m\u001b[1;32m   1471\u001b[0m         \u001b[0;32mif\u001b[0m \u001b[0mstatus\u001b[0m \u001b[0;34m!=\u001b[0m \u001b[0mOPTIMAL\u001b[0m \u001b[0;32mand\u001b[0m \u001b[0mself\u001b[0m\u001b[0;34m.\u001b[0m\u001b[0mconfiguration\u001b[0m\u001b[0;34m.\u001b[0m\u001b[0mpresolve\u001b[0m \u001b[0;34m==\u001b[0m \u001b[0;34m\"auto\"\u001b[0m\u001b[0;34m:\u001b[0m\u001b[0;34m\u001b[0m\u001b[0;34m\u001b[0m\u001b[0m\n\u001b[1;32m   1472\u001b[0m             \u001b[0mself\u001b[0m\u001b[0;34m.\u001b[0m\u001b[0mconfiguration\u001b[0m\u001b[0;34m.\u001b[0m\u001b[0mpresolve\u001b[0m \u001b[0;34m=\u001b[0m \u001b[0;32mTrue\u001b[0m\u001b[0;34m\u001b[0m\u001b[0;34m\u001b[0m\u001b[0m\n",
      "\u001b[0;32m~/opt/miniconda3/envs/coenzyme_paper/lib/python3.8/site-packages/optlang/glpk_interface.py\u001b[0m in \u001b[0;36m_optimize\u001b[0;34m(self)\u001b[0m\n\u001b[1;32m    699\u001b[0m \u001b[0;34m\u001b[0m\u001b[0m\n\u001b[1;32m    700\u001b[0m     \u001b[0;32mdef\u001b[0m \u001b[0m_optimize\u001b[0m\u001b[0;34m(\u001b[0m\u001b[0mself\u001b[0m\u001b[0;34m)\u001b[0m\u001b[0;34m:\u001b[0m\u001b[0;34m\u001b[0m\u001b[0;34m\u001b[0m\u001b[0m\n\u001b[0;32m--> 701\u001b[0;31m         \u001b[0mstatus\u001b[0m \u001b[0;34m=\u001b[0m \u001b[0mself\u001b[0m\u001b[0;34m.\u001b[0m\u001b[0m_run_glp_simplex\u001b[0m\u001b[0;34m(\u001b[0m\u001b[0;34m)\u001b[0m\u001b[0;34m\u001b[0m\u001b[0;34m\u001b[0m\u001b[0m\n\u001b[0m\u001b[1;32m    702\u001b[0m \u001b[0;34m\u001b[0m\u001b[0m\n\u001b[1;32m    703\u001b[0m         \u001b[0;31m# Sometimes GLPK gets itself stuck with an invalid basis. This will help it get rid of it.\u001b[0m\u001b[0;34m\u001b[0m\u001b[0;34m\u001b[0m\u001b[0;34m\u001b[0m\u001b[0m\n",
      "\u001b[0;32m~/opt/miniconda3/envs/coenzyme_paper/lib/python3.8/site-packages/optlang/glpk_interface.py\u001b[0m in \u001b[0;36m_run_glp_simplex\u001b[0;34m(self)\u001b[0m\n\u001b[1;32m    673\u001b[0m \u001b[0;34m\u001b[0m\u001b[0m\n\u001b[1;32m    674\u001b[0m     \u001b[0;32mdef\u001b[0m \u001b[0m_run_glp_simplex\u001b[0m\u001b[0;34m(\u001b[0m\u001b[0mself\u001b[0m\u001b[0;34m)\u001b[0m\u001b[0;34m:\u001b[0m\u001b[0;34m\u001b[0m\u001b[0;34m\u001b[0m\u001b[0m\n\u001b[0;32m--> 675\u001b[0;31m         \u001b[0mreturn_value\u001b[0m \u001b[0;34m=\u001b[0m \u001b[0mglp_simplex\u001b[0m\u001b[0;34m(\u001b[0m\u001b[0mself\u001b[0m\u001b[0;34m.\u001b[0m\u001b[0mproblem\u001b[0m\u001b[0;34m,\u001b[0m \u001b[0mself\u001b[0m\u001b[0;34m.\u001b[0m\u001b[0mconfiguration\u001b[0m\u001b[0;34m.\u001b[0m\u001b[0m_smcp\u001b[0m\u001b[0;34m)\u001b[0m\u001b[0;34m\u001b[0m\u001b[0;34m\u001b[0m\u001b[0m\n\u001b[0m\u001b[1;32m    676\u001b[0m         \u001b[0mglpk_status\u001b[0m \u001b[0;34m=\u001b[0m \u001b[0mglp_get_status\u001b[0m\u001b[0;34m(\u001b[0m\u001b[0mself\u001b[0m\u001b[0;34m.\u001b[0m\u001b[0mproblem\u001b[0m\u001b[0;34m)\u001b[0m\u001b[0;34m\u001b[0m\u001b[0;34m\u001b[0m\u001b[0m\n\u001b[1;32m    677\u001b[0m         \u001b[0;32mif\u001b[0m \u001b[0mreturn_value\u001b[0m \u001b[0;34m==\u001b[0m \u001b[0;36m0\u001b[0m\u001b[0;34m:\u001b[0m\u001b[0;34m\u001b[0m\u001b[0;34m\u001b[0m\u001b[0m\n",
      "\u001b[0;32m~/opt/miniconda3/envs/coenzyme_paper/lib/python3.8/site-packages/swiglpk/swiglpk.py\u001b[0m in \u001b[0;36mglp_simplex\u001b[0;34m(P, parm)\u001b[0m\n\u001b[1;32m    483\u001b[0m \u001b[0;34m\u001b[0m\u001b[0m\n\u001b[1;32m    484\u001b[0m \u001b[0;32mdef\u001b[0m \u001b[0mglp_simplex\u001b[0m\u001b[0;34m(\u001b[0m\u001b[0mP\u001b[0m\u001b[0;34m,\u001b[0m \u001b[0mparm\u001b[0m\u001b[0;34m)\u001b[0m\u001b[0;34m:\u001b[0m\u001b[0;34m\u001b[0m\u001b[0;34m\u001b[0m\u001b[0m\n\u001b[0;32m--> 485\u001b[0;31m     \u001b[0;32mreturn\u001b[0m \u001b[0m_swiglpk\u001b[0m\u001b[0;34m.\u001b[0m\u001b[0mglp_simplex\u001b[0m\u001b[0;34m(\u001b[0m\u001b[0mP\u001b[0m\u001b[0;34m,\u001b[0m \u001b[0mparm\u001b[0m\u001b[0;34m)\u001b[0m\u001b[0;34m\u001b[0m\u001b[0;34m\u001b[0m\u001b[0m\n\u001b[0m\u001b[1;32m    486\u001b[0m \u001b[0;34m\u001b[0m\u001b[0m\n\u001b[1;32m    487\u001b[0m \u001b[0;32mdef\u001b[0m \u001b[0mglp_exact\u001b[0m\u001b[0;34m(\u001b[0m\u001b[0mP\u001b[0m\u001b[0;34m,\u001b[0m \u001b[0mparm\u001b[0m\u001b[0;34m)\u001b[0m\u001b[0;34m:\u001b[0m\u001b[0;34m\u001b[0m\u001b[0;34m\u001b[0m\u001b[0m\n",
      "\u001b[0;31mKeyboardInterrupt\u001b[0m: "
     ]
    }
   ],
   "source": [
    "obj_values = []\n",
    "for idx,row in media.iterrows():\n",
    "    m = medium_base.copy();\n",
    "    m[row.carbon] = 10;\n",
    "    m[row.nitrogen] = 1000;\n",
    "    if row.electron != 'None':\n",
    "        m[row.electron] = 1000;\n",
    "    \n",
    "    model.medium = m;\n",
    "    f = model.slim_optimize()\n",
    "    obj_values.append(f)\n",
    "    \n",
    "media['model'] = model_name;\n",
    "media['growth_rate'] = obj_values;"
   ]
  },
  {
   "cell_type": "code",
   "execution_count": 74,
   "metadata": {},
   "outputs": [
    {
     "data": {
      "text/html": [
       "<div>\n",
       "<style scoped>\n",
       "    .dataframe tbody tr th:only-of-type {\n",
       "        vertical-align: middle;\n",
       "    }\n",
       "\n",
       "    .dataframe tbody tr th {\n",
       "        vertical-align: top;\n",
       "    }\n",
       "\n",
       "    .dataframe thead th {\n",
       "        text-align: right;\n",
       "    }\n",
       "</style>\n",
       "<table border=\"1\" class=\"dataframe\">\n",
       "  <thead>\n",
       "    <tr style=\"text-align: right;\">\n",
       "      <th></th>\n",
       "      <th>carbon</th>\n",
       "      <th>nitrogen</th>\n",
       "      <th>electron</th>\n",
       "    </tr>\n",
       "  </thead>\n",
       "  <tbody>\n",
       "    <tr>\n",
       "      <th>0</th>\n",
       "      <td>EX_12ppd__S_e</td>\n",
       "      <td>EX_23camp_e</td>\n",
       "      <td>EX_no2_e</td>\n",
       "    </tr>\n",
       "    <tr>\n",
       "      <th>1</th>\n",
       "      <td>EX_12ppd__S_e</td>\n",
       "      <td>EX_23camp_e</td>\n",
       "      <td>EX_no3_e</td>\n",
       "    </tr>\n",
       "    <tr>\n",
       "      <th>2</th>\n",
       "      <td>EX_12ppd__S_e</td>\n",
       "      <td>EX_23camp_e</td>\n",
       "      <td>EX_o2_e</td>\n",
       "    </tr>\n",
       "    <tr>\n",
       "      <th>3</th>\n",
       "      <td>EX_12ppd__S_e</td>\n",
       "      <td>EX_23camp_e</td>\n",
       "      <td>None</td>\n",
       "    </tr>\n",
       "    <tr>\n",
       "      <th>4</th>\n",
       "      <td>EX_12ppd__S_e</td>\n",
       "      <td>EX_23ccmp_e</td>\n",
       "      <td>EX_no2_e</td>\n",
       "    </tr>\n",
       "    <tr>\n",
       "      <th>...</th>\n",
       "      <td>...</td>\n",
       "      <td>...</td>\n",
       "      <td>...</td>\n",
       "    </tr>\n",
       "    <tr>\n",
       "      <th>66955</th>\n",
       "      <td>EX_xylu__L_e</td>\n",
       "      <td>EX_xmp_e</td>\n",
       "      <td>None</td>\n",
       "    </tr>\n",
       "    <tr>\n",
       "      <th>66956</th>\n",
       "      <td>EX_xylu__L_e</td>\n",
       "      <td>EX_xtsn_e</td>\n",
       "      <td>EX_no2_e</td>\n",
       "    </tr>\n",
       "    <tr>\n",
       "      <th>66957</th>\n",
       "      <td>EX_xylu__L_e</td>\n",
       "      <td>EX_xtsn_e</td>\n",
       "      <td>EX_no3_e</td>\n",
       "    </tr>\n",
       "    <tr>\n",
       "      <th>66958</th>\n",
       "      <td>EX_xylu__L_e</td>\n",
       "      <td>EX_xtsn_e</td>\n",
       "      <td>EX_o2_e</td>\n",
       "    </tr>\n",
       "    <tr>\n",
       "      <th>66959</th>\n",
       "      <td>EX_xylu__L_e</td>\n",
       "      <td>EX_xtsn_e</td>\n",
       "      <td>None</td>\n",
       "    </tr>\n",
       "  </tbody>\n",
       "</table>\n",
       "<p>66960 rows × 3 columns</p>\n",
       "</div>"
      ],
      "text/plain": [
       "              carbon     nitrogen  electron\n",
       "0      EX_12ppd__S_e  EX_23camp_e  EX_no2_e\n",
       "1      EX_12ppd__S_e  EX_23camp_e  EX_no3_e\n",
       "2      EX_12ppd__S_e  EX_23camp_e   EX_o2_e\n",
       "3      EX_12ppd__S_e  EX_23camp_e      None\n",
       "4      EX_12ppd__S_e  EX_23ccmp_e  EX_no2_e\n",
       "...              ...          ...       ...\n",
       "66955   EX_xylu__L_e     EX_xmp_e      None\n",
       "66956   EX_xylu__L_e    EX_xtsn_e  EX_no2_e\n",
       "66957   EX_xylu__L_e    EX_xtsn_e  EX_no3_e\n",
       "66958   EX_xylu__L_e    EX_xtsn_e   EX_o2_e\n",
       "66959   EX_xylu__L_e    EX_xtsn_e      None\n",
       "\n",
       "[66960 rows x 3 columns]"
      ]
     },
     "execution_count": 74,
     "metadata": {},
     "output_type": "execute_result"
    }
   ],
   "source": [
    "media"
   ]
  },
  {
   "cell_type": "code",
   "execution_count": 64,
   "metadata": {},
   "outputs": [
    {
     "data": {
      "text/plain": [
       "117180"
      ]
     },
     "execution_count": 64,
     "metadata": {},
     "output_type": "execute_result"
    }
   ],
   "source": [
    "len(media.nitrogen.unique()) * len(media.carbon.unique()) * 7"
   ]
  },
  {
   "cell_type": "code",
   "execution_count": 59,
   "metadata": {},
   "outputs": [],
   "source": [
    "#[x for x in model.exchanges if x.id == 'EX_no3_e']"
   ]
  },
  {
   "cell_type": "code",
   "execution_count": 77,
   "metadata": {},
   "outputs": [],
   "source": [
    "media_components = {}\n",
    "csources = media.carbon.unique().tolist()\n",
    "nsources = media.nitrogen.unique().tolist()\n",
    "\n",
    "media_components['electron_acceptors'] = ['EX_tmao_e','EX_dmso_e','EX_fum_e','EX_o2_e','EX_no2_e','EX_no3_e','None']\n",
    "media_components['nitrogen_sources'] = nsources;\n",
    "media_components['carbon_sources'] = csources;\n"
   ]
  },
  {
   "cell_type": "code",
   "execution_count": 78,
   "metadata": {},
   "outputs": [],
   "source": [
    "media_sets = {'carbon':[],'nitrogen':[],'electron':[]}\n",
    "for csource in media_components['carbon_sources']:\n",
    "    for nsource in media_components['nitrogen_sources']:\n",
    "        for eacceptor in media_components['electron_acceptors']:\n",
    "            media_sets['carbon'].append(csource)\n",
    "            media_sets['nitrogen'].append(nsource)\n",
    "            media_sets['electron'].append(eacceptor)"
   ]
  },
  {
   "cell_type": "code",
   "execution_count": 80,
   "metadata": {},
   "outputs": [],
   "source": [
    "media_new = pd.DataFrame(media_sets)"
   ]
  },
  {
   "cell_type": "code",
   "execution_count": 81,
   "metadata": {},
   "outputs": [],
   "source": [
    "media_new.to_csv('../assets/media.C180N93E7.txt',sep='\\t')"
   ]
  },
  {
   "cell_type": "code",
   "execution_count": 86,
   "metadata": {},
   "outputs": [],
   "source": [
    "media_new.sample(1000).to_csv('../tests/media.C180N93E7.sample1000.txt',sep='\\t')"
   ]
  },
  {
   "cell_type": "code",
   "execution_count": 88,
   "metadata": {},
   "outputs": [
    {
     "data": {
      "text/plain": [
       "93"
      ]
     },
     "execution_count": 88,
     "metadata": {},
     "output_type": "execute_result"
    }
   ],
   "source": [
    "len(nsources)"
   ]
  },
  {
   "cell_type": "code",
   "execution_count": 91,
   "metadata": {},
   "outputs": [],
   "source": [
    "r = pd.read_csv('../tests/iJO1366.txt',sep='\\t')"
   ]
  },
  {
   "cell_type": "code",
   "execution_count": 93,
   "metadata": {},
   "outputs": [
    {
     "data": {
      "text/plain": [
       "0         38.051294\n",
       "1         37.347595\n",
       "2         15.799150\n",
       "3         54.323464\n",
       "4         50.402517\n",
       "            ...    \n",
       "117175    30.103441\n",
       "117176    58.044068\n",
       "117177    54.734496\n",
       "117178    57.305369\n",
       "117179    26.388625\n",
       "Name: growth_rate, Length: 117180, dtype: float64"
      ]
     },
     "execution_count": 93,
     "metadata": {},
     "output_type": "execute_result"
    }
   ],
   "source": []
  },
  {
   "cell_type": "code",
   "execution_count": 94,
   "metadata": {},
   "outputs": [],
   "source": [
    "df = pd.read_csv('../scc/output/output/iJO1366.txt',sep='\\t')"
   ]
  },
  {
   "cell_type": "code",
   "execution_count": 95,
   "metadata": {},
   "outputs": [
    {
     "data": {
      "text/html": [
       "<div>\n",
       "<style scoped>\n",
       "    .dataframe tbody tr th:only-of-type {\n",
       "        vertical-align: middle;\n",
       "    }\n",
       "\n",
       "    .dataframe tbody tr th {\n",
       "        vertical-align: top;\n",
       "    }\n",
       "\n",
       "    .dataframe thead th {\n",
       "        text-align: right;\n",
       "    }\n",
       "</style>\n",
       "<table border=\"1\" class=\"dataframe\">\n",
       "  <thead>\n",
       "    <tr style=\"text-align: right;\">\n",
       "      <th></th>\n",
       "      <th>Unnamed: 0</th>\n",
       "      <th>Unnamed: 0.1</th>\n",
       "      <th>carbon</th>\n",
       "      <th>nitrogen</th>\n",
       "      <th>electron</th>\n",
       "      <th>growth_rate</th>\n",
       "    </tr>\n",
       "  </thead>\n",
       "  <tbody>\n",
       "    <tr>\n",
       "      <th>0</th>\n",
       "      <td>0</td>\n",
       "      <td>0</td>\n",
       "      <td>EX_12ppd__S_e</td>\n",
       "      <td>EX_23camp_e</td>\n",
       "      <td>EX_tmao_e</td>\n",
       "      <td>38.051294</td>\n",
       "    </tr>\n",
       "    <tr>\n",
       "      <th>1</th>\n",
       "      <td>1</td>\n",
       "      <td>1</td>\n",
       "      <td>EX_12ppd__S_e</td>\n",
       "      <td>EX_23camp_e</td>\n",
       "      <td>EX_dmso_e</td>\n",
       "      <td>37.347595</td>\n",
       "    </tr>\n",
       "    <tr>\n",
       "      <th>2</th>\n",
       "      <td>2</td>\n",
       "      <td>2</td>\n",
       "      <td>EX_12ppd__S_e</td>\n",
       "      <td>EX_23camp_e</td>\n",
       "      <td>EX_fum_e</td>\n",
       "      <td>15.799150</td>\n",
       "    </tr>\n",
       "    <tr>\n",
       "      <th>3</th>\n",
       "      <td>3</td>\n",
       "      <td>3</td>\n",
       "      <td>EX_12ppd__S_e</td>\n",
       "      <td>EX_23camp_e</td>\n",
       "      <td>EX_o2_e</td>\n",
       "      <td>54.323464</td>\n",
       "    </tr>\n",
       "    <tr>\n",
       "      <th>4</th>\n",
       "      <td>4</td>\n",
       "      <td>4</td>\n",
       "      <td>EX_12ppd__S_e</td>\n",
       "      <td>EX_23camp_e</td>\n",
       "      <td>EX_no2_e</td>\n",
       "      <td>50.402517</td>\n",
       "    </tr>\n",
       "    <tr>\n",
       "      <th>...</th>\n",
       "      <td>...</td>\n",
       "      <td>...</td>\n",
       "      <td>...</td>\n",
       "      <td>...</td>\n",
       "      <td>...</td>\n",
       "      <td>...</td>\n",
       "    </tr>\n",
       "    <tr>\n",
       "      <th>117175</th>\n",
       "      <td>117175</td>\n",
       "      <td>117175</td>\n",
       "      <td>EX_xylu__L_e</td>\n",
       "      <td>EX_xtsn_e</td>\n",
       "      <td>EX_fum_e</td>\n",
       "      <td>30.103441</td>\n",
       "    </tr>\n",
       "    <tr>\n",
       "      <th>117176</th>\n",
       "      <td>117176</td>\n",
       "      <td>117176</td>\n",
       "      <td>EX_xylu__L_e</td>\n",
       "      <td>EX_xtsn_e</td>\n",
       "      <td>EX_o2_e</td>\n",
       "      <td>58.044068</td>\n",
       "    </tr>\n",
       "    <tr>\n",
       "      <th>117177</th>\n",
       "      <td>117177</td>\n",
       "      <td>117177</td>\n",
       "      <td>EX_xylu__L_e</td>\n",
       "      <td>EX_xtsn_e</td>\n",
       "      <td>EX_no2_e</td>\n",
       "      <td>54.734496</td>\n",
       "    </tr>\n",
       "    <tr>\n",
       "      <th>117178</th>\n",
       "      <td>117178</td>\n",
       "      <td>117178</td>\n",
       "      <td>EX_xylu__L_e</td>\n",
       "      <td>EX_xtsn_e</td>\n",
       "      <td>EX_no3_e</td>\n",
       "      <td>57.305369</td>\n",
       "    </tr>\n",
       "    <tr>\n",
       "      <th>117179</th>\n",
       "      <td>117179</td>\n",
       "      <td>117179</td>\n",
       "      <td>EX_xylu__L_e</td>\n",
       "      <td>EX_xtsn_e</td>\n",
       "      <td>None</td>\n",
       "      <td>26.388625</td>\n",
       "    </tr>\n",
       "  </tbody>\n",
       "</table>\n",
       "<p>117180 rows × 6 columns</p>\n",
       "</div>"
      ],
      "text/plain": [
       "        Unnamed: 0  Unnamed: 0.1         carbon     nitrogen   electron  \\\n",
       "0                0             0  EX_12ppd__S_e  EX_23camp_e  EX_tmao_e   \n",
       "1                1             1  EX_12ppd__S_e  EX_23camp_e  EX_dmso_e   \n",
       "2                2             2  EX_12ppd__S_e  EX_23camp_e   EX_fum_e   \n",
       "3                3             3  EX_12ppd__S_e  EX_23camp_e    EX_o2_e   \n",
       "4                4             4  EX_12ppd__S_e  EX_23camp_e   EX_no2_e   \n",
       "...            ...           ...            ...          ...        ...   \n",
       "117175      117175        117175   EX_xylu__L_e    EX_xtsn_e   EX_fum_e   \n",
       "117176      117176        117176   EX_xylu__L_e    EX_xtsn_e    EX_o2_e   \n",
       "117177      117177        117177   EX_xylu__L_e    EX_xtsn_e   EX_no2_e   \n",
       "117178      117178        117178   EX_xylu__L_e    EX_xtsn_e   EX_no3_e   \n",
       "117179      117179        117179   EX_xylu__L_e    EX_xtsn_e       None   \n",
       "\n",
       "        growth_rate  \n",
       "0         38.051294  \n",
       "1         37.347595  \n",
       "2         15.799150  \n",
       "3         54.323464  \n",
       "4         50.402517  \n",
       "...             ...  \n",
       "117175    30.103441  \n",
       "117176    58.044068  \n",
       "117177    54.734496  \n",
       "117178    57.305369  \n",
       "117179    26.388625  \n",
       "\n",
       "[117180 rows x 6 columns]"
      ]
     },
     "execution_count": 95,
     "metadata": {},
     "output_type": "execute_result"
    }
   ],
   "source": [
    "df"
   ]
  },
  {
   "cell_type": "code",
   "execution_count": 96,
   "metadata": {},
   "outputs": [],
   "source": [
    "df2 = pd.read_csv('../scc/output/output/iJO1366_b0073_NADP_ST.txt',sep='\\t')"
   ]
  },
  {
   "cell_type": "code",
   "execution_count": 101,
   "metadata": {},
   "outputs": [
    {
     "data": {
      "text/plain": [
       "1.2166433883034718e-12"
      ]
     },
     "execution_count": 101,
     "metadata": {},
     "output_type": "execute_result"
    }
   ],
   "source": [
    "np.max(df2['growth_rate'])"
   ]
  },
  {
   "cell_type": "code",
   "execution_count": 102,
   "metadata": {},
   "outputs": [],
   "source": [
    "gene = 'b2320'\n",
    "df2 = pd.read_csv('../scc/output/output/iJO1366_b2320_NADP_ST.txt',sep='\\t')"
   ]
  },
  {
   "cell_type": "code",
   "execution_count": 104,
   "metadata": {},
   "outputs": [
    {
     "data": {
      "text/plain": [
       "2.0272772001227064e-09"
      ]
     },
     "execution_count": 104,
     "metadata": {},
     "output_type": "execute_result"
    }
   ],
   "source": [
    "df2['growth_rate'].max()"
   ]
  },
  {
   "cell_type": "code",
   "execution_count": null,
   "metadata": {},
   "outputs": [],
   "source": []
  }
 ],
 "metadata": {
  "kernelspec": {
   "display_name": "Python 3.8 (Coenzyme Paper)",
   "language": "python",
   "name": "coenzyme_paper"
  },
  "language_info": {
   "codemirror_mode": {
    "name": "ipython",
    "version": 3
   },
   "file_extension": ".py",
   "mimetype": "text/x-python",
   "name": "python",
   "nbconvert_exporter": "python",
   "pygments_lexer": "ipython3",
   "version": "3.8.5"
  }
 },
 "nbformat": 4,
 "nbformat_minor": 4
}
