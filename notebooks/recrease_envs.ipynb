{
 "cells": [
  {
   "cell_type": "code",
   "execution_count": 1,
   "metadata": {},
   "outputs": [],
   "source": [
    "import pandas as pd"
   ]
  },
  {
   "cell_type": "code",
   "execution_count": 2,
   "metadata": {},
   "outputs": [],
   "source": [
    "mdf = pd.read_csv('../assets/media.C180N93E7.txt',sep='\\t')"
   ]
  },
  {
   "cell_type": "code",
   "execution_count": 8,
   "metadata": {},
   "outputs": [],
   "source": [
    "csources = mdf.carbon.unique().tolist()\n",
    "nsources = mdf.nitrogen.unique().tolist()\n",
    "easources = mdf.electron.unique().tolist()\n",
    "\n",
    "# add CO2 to carbon sources\n",
    "csources = csources + ['EX_co2_e']"
   ]
  },
  {
   "cell_type": "code",
   "execution_count": 9,
   "metadata": {},
   "outputs": [],
   "source": [
    "media = {'carbon':[],'nitrogen':[],'electron':[]}\n",
    "for c in csources:\n",
    "    for n in nsources:\n",
    "        for ea in easources:\n",
    "            media['carbon'].append(c)\n",
    "            media['nitrogen'].append(n)\n",
    "            media['electron'].append(ea)\n",
    "            \n",
    "media = pd.DataFrame(media)"
   ]
  },
  {
   "cell_type": "code",
   "execution_count": 11,
   "metadata": {},
   "outputs": [],
   "source": [
    "media.to_csv('../assets/media.C181N93E7.txt',sep='\\t')"
   ]
  },
  {
   "cell_type": "code",
   "execution_count": null,
   "metadata": {},
   "outputs": [],
   "source": []
  }
 ],
 "metadata": {
  "kernelspec": {
   "display_name": "informatics",
   "language": "python",
   "name": "informatics"
  },
  "language_info": {
   "codemirror_mode": {
    "name": "ipython",
    "version": 3
   },
   "file_extension": ".py",
   "mimetype": "text/x-python",
   "name": "python",
   "nbconvert_exporter": "python",
   "pygments_lexer": "ipython3",
   "version": "3.6.2"
  }
 },
 "nbformat": 4,
 "nbformat_minor": 2
}
