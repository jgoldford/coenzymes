{
 "cells": [
  {
   "cell_type": "code",
   "execution_count": 8,
   "id": "discrete-destruction",
   "metadata": {},
   "outputs": [
    {
     "name": "stdout",
     "output_type": "stream",
     "text": [
      "Academic license - for non-commercial use only - expires 2022-08-19\n",
      "Using license file /Users/joshuagoldford/gurobi.lic\n"
     ]
    }
   ],
   "source": [
    "\n",
    "from cobra.io import load_matlab_model,load_json_model\n",
    "\n",
    "#from pytfa.io import load_thermoDB,                    \\\n",
    "#                        read_lexicon, annotate_from_lexicon,            \\\n",
    "#                        read_compartment_data, apply_compartment_data\n",
    "\n",
    "import pytfa\n",
    "import pickle"
   ]
  },
  {
   "cell_type": "code",
   "execution_count": 12,
   "id": "protected-eight",
   "metadata": {},
   "outputs": [
    {
     "name": "stdout",
     "output_type": "stream",
     "text": [
      "Read LP format model from file /var/folders/17/58pxvfhj0gb_wz2nzgrzc6pc0000gn/T/tmpw2cc6zjv.lp\n",
      "Reading time = 0.06 seconds\n",
      ": 15014 rows, 15518 columns, 52600 nonzeros\n",
      "Read LP format model from file /var/folders/17/58pxvfhj0gb_wz2nzgrzc6pc0000gn/T/tmpw8gkffsa.lp\n",
      "Reading time = 0.02 seconds\n",
      ": 1805 rows, 5164 columns, 20294 nonzeros\n",
      "Read LP format model from file /var/folders/17/58pxvfhj0gb_wz2nzgrzc6pc0000gn/T/tmpw4yn1s4j.lp\n",
      "Reading time = 0.06 seconds\n",
      ": 15014 rows, 19160 columns, 56242 nonzeros\n",
      "Read LP format model from file /var/folders/17/58pxvfhj0gb_wz2nzgrzc6pc0000gn/T/tmp80c_v5fy.lp\n",
      "Reading time = 0.04 seconds\n",
      ": 1805 rows, 5164 columns, 20264 nonzeros\n",
      "Read LP format model from file /var/folders/17/58pxvfhj0gb_wz2nzgrzc6pc0000gn/T/tmpm9h_4ar9.lp\n",
      "Reading time = 0.02 seconds\n",
      ": 1805 rows, 5164 columns, 20264 nonzeros\n",
      "Read LP format model from file /var/folders/17/58pxvfhj0gb_wz2nzgrzc6pc0000gn/T/tmp00ba8mtr.lp\n",
      "Reading time = 0.07 seconds\n",
      ": 15014 rows, 15518 columns, 52600 nonzeros\n"
     ]
    }
   ],
   "source": [
    "with open('tfa_results.pkl','rb') as file:\n",
    "    tfa_results = pickle.load(file)"
   ]
  },
  {
   "cell_type": "code",
   "execution_count": null,
   "id": "starting-remark",
   "metadata": {},
   "outputs": [],
   "source": [
    "tfa_results"
   ]
  }
 ],
 "metadata": {
  "kernelspec": {
   "display_name": "Python 3.8 (coenzymes)",
   "language": "python",
   "name": "coenzymes"
  },
  "language_info": {
   "codemirror_mode": {
    "name": "ipython",
    "version": 3
   },
   "file_extension": ".py",
   "mimetype": "text/x-python",
   "name": "python",
   "nbconvert_exporter": "python",
   "pygments_lexer": "ipython3",
   "version": "3.8.5"
  }
 },
 "nbformat": 4,
 "nbformat_minor": 5
}
