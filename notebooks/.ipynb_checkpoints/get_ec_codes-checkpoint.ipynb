{
 "cells": [
  {
   "cell_type": "code",
   "execution_count": 5,
   "metadata": {},
   "outputs": [],
   "source": [
    "import pandas as pd\n",
    "import requests"
   ]
  },
  {
   "cell_type": "code",
   "execution_count": 8,
   "metadata": {},
   "outputs": [],
   "source": [
    "def get_ec_codes():\n",
    "    url = 'http://rest.kegg.jp/link/ec/eco'\n",
    "    r = requests.get(url)\n",
    "    g = pd.DataFrame([x.split('\\t') for x in r.text.split('\\n')],columns=['gene','ec'])\n",
    "    g = g.iloc[0:-1]\n",
    "    \n",
    "    return g"
   ]
  },
  {
   "cell_type": "code",
   "execution_count": 38,
   "metadata": {},
   "outputs": [],
   "source": [
    "ec = get_ec_codes()"
   ]
  },
  {
   "cell_type": "code",
   "execution_count": 39,
   "metadata": {},
   "outputs": [],
   "source": [
    "ec['gene'] = ec['gene'].apply(lambda x: x.split(':')[1])\n",
    "ec['ec'] = ec['ec'].apply(lambda x: x.split(':')[1])"
   ]
  },
  {
   "cell_type": "code",
   "execution_count": 40,
   "metadata": {},
   "outputs": [],
   "source": [
    "ec_code  = pd.DataFrame(ec['ec'].apply(lambda x: x.split('.')).tolist())\n",
    "ec_code.columns = ['EC1','EC2','EC3','EC4']\n",
    "ec = ec.join(ec_code.astype('int'))"
   ]
  },
  {
   "cell_type": "code",
   "execution_count": 47,
   "metadata": {},
   "outputs": [],
   "source": [
    "nad_genes = ec[(ec['EC1'] == 1) & (ec['EC3'] == 1) & (ec['EC2'] != 6)]"
   ]
  },
  {
   "cell_type": "code",
   "execution_count": 58,
   "metadata": {},
   "outputs": [],
   "source": [
    "df = pd.read_csv('assets/uniqueGeneToCoenzymeRxns.csv')"
   ]
  },
  {
   "cell_type": "code",
   "execution_count": 59,
   "metadata": {},
   "outputs": [
    {
     "data": {
      "text/html": [
       "<div>\n",
       "<style scoped>\n",
       "    .dataframe tbody tr th:only-of-type {\n",
       "        vertical-align: middle;\n",
       "    }\n",
       "\n",
       "    .dataframe tbody tr th {\n",
       "        vertical-align: top;\n",
       "    }\n",
       "\n",
       "    .dataframe thead th {\n",
       "        text-align: right;\n",
       "    }\n",
       "</style>\n",
       "<table border=\"1\" class=\"dataframe\">\n",
       "  <thead>\n",
       "    <tr style=\"text-align: right;\">\n",
       "      <th></th>\n",
       "      <th>genes</th>\n",
       "      <th>rxns</th>\n",
       "      <th>gene_name</th>\n",
       "    </tr>\n",
       "  </thead>\n",
       "  <tbody>\n",
       "    <tr>\n",
       "      <th>0</th>\n",
       "      <td>b1539</td>\n",
       "      <td>ATHRDHr;DSERDHr;LSERDHr</td>\n",
       "      <td>ydfG</td>\n",
       "    </tr>\n",
       "    <tr>\n",
       "      <th>1</th>\n",
       "      <td>b3553</td>\n",
       "      <td>2DGULRGx;2DGULRGy;2DGULRx;2DGULRy;DKGLCNR2x;DK...</td>\n",
       "      <td>ghrB</td>\n",
       "    </tr>\n",
       "    <tr>\n",
       "      <th>2</th>\n",
       "      <td>b0347</td>\n",
       "      <td>3HCINNMH;3HPPPNH</td>\n",
       "      <td>mhpA</td>\n",
       "    </tr>\n",
       "    <tr>\n",
       "      <th>3</th>\n",
       "      <td>b0312</td>\n",
       "      <td>BETALDHx;BETALDHy</td>\n",
       "      <td>betB</td>\n",
       "    </tr>\n",
       "    <tr>\n",
       "      <th>4</th>\n",
       "      <td>b1093</td>\n",
       "      <td>3OAR100;3OAR120;3OAR121;3OAR140;3OAR141;3OAR16...</td>\n",
       "      <td>fabG</td>\n",
       "    </tr>\n",
       "    <tr>\n",
       "      <th>...</th>\n",
       "      <td>...</td>\n",
       "      <td>...</td>\n",
       "      <td>...</td>\n",
       "    </tr>\n",
       "    <tr>\n",
       "      <th>133</th>\n",
       "      <td>b2255</td>\n",
       "      <td>UDPGDC</td>\n",
       "      <td>arnA</td>\n",
       "    </tr>\n",
       "    <tr>\n",
       "      <th>134</th>\n",
       "      <td>b0517</td>\n",
       "      <td>URDGLYCD</td>\n",
       "      <td>allD</td>\n",
       "    </tr>\n",
       "    <tr>\n",
       "      <th>135</th>\n",
       "      <td>b1012</td>\n",
       "      <td>PYROX</td>\n",
       "      <td>rutA</td>\n",
       "    </tr>\n",
       "    <tr>\n",
       "      <th>136</th>\n",
       "      <td>b1007</td>\n",
       "      <td>PYROX</td>\n",
       "      <td>rutF</td>\n",
       "    </tr>\n",
       "    <tr>\n",
       "      <th>137</th>\n",
       "      <td>b1692</td>\n",
       "      <td>QUINDH</td>\n",
       "      <td>ydiB</td>\n",
       "    </tr>\n",
       "  </tbody>\n",
       "</table>\n",
       "<p>138 rows × 3 columns</p>\n",
       "</div>"
      ],
      "text/plain": [
       "     genes                                               rxns gene_name\n",
       "0    b1539                            ATHRDHr;DSERDHr;LSERDHr      ydfG\n",
       "1    b3553  2DGULRGx;2DGULRGy;2DGULRx;2DGULRy;DKGLCNR2x;DK...      ghrB\n",
       "2    b0347                                   3HCINNMH;3HPPPNH      mhpA\n",
       "3    b0312                                  BETALDHx;BETALDHy      betB\n",
       "4    b1093  3OAR100;3OAR120;3OAR121;3OAR140;3OAR141;3OAR16...      fabG\n",
       "..     ...                                                ...       ...\n",
       "133  b2255                                             UDPGDC      arnA\n",
       "134  b0517                                           URDGLYCD      allD\n",
       "135  b1012                                              PYROX      rutA\n",
       "136  b1007                                              PYROX      rutF\n",
       "137  b1692                                             QUINDH      ydiB\n",
       "\n",
       "[138 rows x 3 columns]"
      ]
     },
     "execution_count": 59,
     "metadata": {},
     "output_type": "execute_result"
    }
   ],
   "source": [
    "df"
   ]
  },
  {
   "cell_type": "code",
   "execution_count": 60,
   "metadata": {},
   "outputs": [],
   "source": [
    "dff = df[df['genes'].isin(nad_genes.gene.tolist())]"
   ]
  },
  {
   "cell_type": "code",
   "execution_count": 62,
   "metadata": {},
   "outputs": [],
   "source": [
    "dff.to_csv('EC_1.X.1.X.Unique_NAD(P)_Coupled.GeneSet.csv')"
   ]
  },
  {
   "cell_type": "code",
   "execution_count": 86,
   "metadata": {},
   "outputs": [],
   "source": [
    "V = []\n",
    "for idx,row in dff.iterrows():\n",
    "    V.append(pd.DataFrame({'gene': row.genes, 'gene_name': row.gene_name, 'rxn': row.rxns.split(';')}))\n",
    "dff_rxns = pd.concat(V,axis=0)"
   ]
  },
  {
   "cell_type": "code",
   "execution_count": 88,
   "metadata": {},
   "outputs": [],
   "source": [
    "thermo = pd.read_csv('deltaG.iJO1366.eQuilibiatorAPI.pH7p4.298,15T.IS0,25M.csv')"
   ]
  },
  {
   "cell_type": "code",
   "execution_count": 91,
   "metadata": {},
   "outputs": [
    {
     "data": {
      "text/html": [
       "<div>\n",
       "<style scoped>\n",
       "    .dataframe tbody tr th:only-of-type {\n",
       "        vertical-align: middle;\n",
       "    }\n",
       "\n",
       "    .dataframe tbody tr th {\n",
       "        vertical-align: top;\n",
       "    }\n",
       "\n",
       "    .dataframe thead th {\n",
       "        text-align: right;\n",
       "    }\n",
       "</style>\n",
       "<table border=\"1\" class=\"dataframe\">\n",
       "  <thead>\n",
       "    <tr style=\"text-align: right;\">\n",
       "      <th></th>\n",
       "      <th>deltaG_prime_m</th>\n",
       "      <th>deltaG_prime_m (error)</th>\n",
       "    </tr>\n",
       "    <tr>\n",
       "      <th>rn</th>\n",
       "      <th></th>\n",
       "      <th></th>\n",
       "    </tr>\n",
       "  </thead>\n",
       "  <tbody>\n",
       "    <tr>\n",
       "      <th>12DGR120tipp</th>\n",
       "      <td>0.000000</td>\n",
       "      <td>0.000000</td>\n",
       "    </tr>\n",
       "    <tr>\n",
       "      <th>12DGR140tipp</th>\n",
       "      <td>0.000000</td>\n",
       "      <td>0.000000</td>\n",
       "    </tr>\n",
       "    <tr>\n",
       "      <th>12DGR141tipp</th>\n",
       "      <td>0.000000</td>\n",
       "      <td>0.000000</td>\n",
       "    </tr>\n",
       "    <tr>\n",
       "      <th>12DGR160tipp</th>\n",
       "      <td>0.000000</td>\n",
       "      <td>0.000000</td>\n",
       "    </tr>\n",
       "    <tr>\n",
       "      <th>12DGR161tipp</th>\n",
       "      <td>0.000000</td>\n",
       "      <td>0.000000</td>\n",
       "    </tr>\n",
       "    <tr>\n",
       "      <th>...</th>\n",
       "      <td>...</td>\n",
       "      <td>...</td>\n",
       "    </tr>\n",
       "    <tr>\n",
       "      <th>URDGLYCD</th>\n",
       "      <td>-10.528255</td>\n",
       "      <td>5.435085</td>\n",
       "    </tr>\n",
       "    <tr>\n",
       "      <th>UREAtex</th>\n",
       "      <td>0.000000</td>\n",
       "      <td>0.000000</td>\n",
       "    </tr>\n",
       "    <tr>\n",
       "      <th>UREAtpp</th>\n",
       "      <td>0.000000</td>\n",
       "      <td>0.000000</td>\n",
       "    </tr>\n",
       "    <tr>\n",
       "      <th>RNDR3</th>\n",
       "      <td>-39.552038</td>\n",
       "      <td>2.943661</td>\n",
       "    </tr>\n",
       "    <tr>\n",
       "      <th>RNDR4</th>\n",
       "      <td>-41.485989</td>\n",
       "      <td>2.412063</td>\n",
       "    </tr>\n",
       "  </tbody>\n",
       "</table>\n",
       "<p>1760 rows × 2 columns</p>\n",
       "</div>"
      ],
      "text/plain": [
       "              deltaG_prime_m  deltaG_prime_m (error)\n",
       "rn                                                  \n",
       "12DGR120tipp        0.000000                0.000000\n",
       "12DGR140tipp        0.000000                0.000000\n",
       "12DGR141tipp        0.000000                0.000000\n",
       "12DGR160tipp        0.000000                0.000000\n",
       "12DGR161tipp        0.000000                0.000000\n",
       "...                      ...                     ...\n",
       "URDGLYCD          -10.528255                5.435085\n",
       "UREAtex             0.000000                0.000000\n",
       "UREAtpp             0.000000                0.000000\n",
       "RNDR3             -39.552038                2.943661\n",
       "RNDR4             -41.485989                2.412063\n",
       "\n",
       "[1760 rows x 2 columns]"
      ]
     },
     "execution_count": 91,
     "metadata": {},
     "output_type": "execute_result"
    }
   ],
   "source": [
    "thermo.set_index('rn')[['deltaG_prime_m','deltaG_prime_m (error)']]"
   ]
  },
  {
   "cell_type": "code",
   "execution_count": 95,
   "metadata": {},
   "outputs": [],
   "source": [
    "z = dff_rxns.set_index('rxn').join(thermo.set_index('rn')[['deltaG_prime_m','deltaG_prime_m (error)']])"
   ]
  },
  {
   "cell_type": "code",
   "execution_count": 99,
   "metadata": {},
   "outputs": [],
   "source": [
    "zz = z.reset_index().dropna()"
   ]
  },
  {
   "cell_type": "code",
   "execution_count": 101,
   "metadata": {},
   "outputs": [
    {
     "data": {
      "text/html": [
       "<div>\n",
       "<style scoped>\n",
       "    .dataframe tbody tr th:only-of-type {\n",
       "        vertical-align: middle;\n",
       "    }\n",
       "\n",
       "    .dataframe tbody tr th {\n",
       "        vertical-align: top;\n",
       "    }\n",
       "\n",
       "    .dataframe thead th {\n",
       "        text-align: right;\n",
       "    }\n",
       "</style>\n",
       "<table border=\"1\" class=\"dataframe\">\n",
       "  <thead>\n",
       "    <tr style=\"text-align: right;\">\n",
       "      <th></th>\n",
       "      <th>index</th>\n",
       "      <th>gene</th>\n",
       "      <th>gene_name</th>\n",
       "      <th>deltaG_prime_m</th>\n",
       "      <th>deltaG_prime_m (error)</th>\n",
       "    </tr>\n",
       "  </thead>\n",
       "  <tbody>\n",
       "    <tr>\n",
       "      <th>118</th>\n",
       "      <td>NTRIR2x</td>\n",
       "      <td>b3366</td>\n",
       "      <td>nirD</td>\n",
       "      <td>-381.056015</td>\n",
       "      <td>3.672047</td>\n",
       "    </tr>\n",
       "    <tr>\n",
       "      <th>119</th>\n",
       "      <td>NTRIR2x</td>\n",
       "      <td>b3365</td>\n",
       "      <td>nirB</td>\n",
       "      <td>-381.056015</td>\n",
       "      <td>3.672047</td>\n",
       "    </tr>\n",
       "    <tr>\n",
       "      <th>130</th>\n",
       "      <td>PPPNDO</td>\n",
       "      <td>b2542</td>\n",
       "      <td>hcaD</td>\n",
       "      <td>-350.466202</td>\n",
       "      <td>8.041879</td>\n",
       "    </tr>\n",
       "    <tr>\n",
       "      <th>31</th>\n",
       "      <td>CINNDO</td>\n",
       "      <td>b2542</td>\n",
       "      <td>hcaD</td>\n",
       "      <td>-343.950085</td>\n",
       "      <td>8.659310</td>\n",
       "    </tr>\n",
       "    <tr>\n",
       "      <th>126</th>\n",
       "      <td>PDX5PS</td>\n",
       "      <td>b0052</td>\n",
       "      <td>pdxA</td>\n",
       "      <td>-240.019365</td>\n",
       "      <td>5.527793</td>\n",
       "    </tr>\n",
       "    <tr>\n",
       "      <th>...</th>\n",
       "      <td>...</td>\n",
       "      <td>...</td>\n",
       "      <td>...</td>\n",
       "      <td>...</td>\n",
       "      <td>...</td>\n",
       "    </tr>\n",
       "    <tr>\n",
       "      <th>76</th>\n",
       "      <td>G3PD2</td>\n",
       "      <td>b3608</td>\n",
       "      <td>gpsA</td>\n",
       "      <td>23.216165</td>\n",
       "      <td>0.805351</td>\n",
       "    </tr>\n",
       "    <tr>\n",
       "      <th>113</th>\n",
       "      <td>MDH</td>\n",
       "      <td>b3236</td>\n",
       "      <td>mdh</td>\n",
       "      <td>27.098390</td>\n",
       "      <td>0.304888</td>\n",
       "    </tr>\n",
       "    <tr>\n",
       "      <th>128</th>\n",
       "      <td>PGCD</td>\n",
       "      <td>b2913</td>\n",
       "      <td>serA</td>\n",
       "      <td>31.441875</td>\n",
       "      <td>0.564070</td>\n",
       "    </tr>\n",
       "    <tr>\n",
       "      <th>30</th>\n",
       "      <td>CDGR</td>\n",
       "      <td>b2794</td>\n",
       "      <td>queF</td>\n",
       "      <td>80.358054</td>\n",
       "      <td>100004.190541</td>\n",
       "    </tr>\n",
       "    <tr>\n",
       "      <th>91</th>\n",
       "      <td>GMPR</td>\n",
       "      <td>b0104</td>\n",
       "      <td>guaC</td>\n",
       "      <td>240.271607</td>\n",
       "      <td>67665.825779</td>\n",
       "    </tr>\n",
       "  </tbody>\n",
       "</table>\n",
       "<p>102 rows × 5 columns</p>\n",
       "</div>"
      ],
      "text/plain": [
       "       index   gene gene_name  deltaG_prime_m  deltaG_prime_m (error)\n",
       "118  NTRIR2x  b3366      nirD     -381.056015                3.672047\n",
       "119  NTRIR2x  b3365      nirB     -381.056015                3.672047\n",
       "130   PPPNDO  b2542      hcaD     -350.466202                8.041879\n",
       "31    CINNDO  b2542      hcaD     -343.950085                8.659310\n",
       "126   PDX5PS  b0052      pdxA     -240.019365                5.527793\n",
       "..       ...    ...       ...             ...                     ...\n",
       "76     G3PD2  b3608      gpsA       23.216165                0.805351\n",
       "113      MDH  b3236       mdh       27.098390                0.304888\n",
       "128     PGCD  b2913      serA       31.441875                0.564070\n",
       "30      CDGR  b2794      queF       80.358054           100004.190541\n",
       "91      GMPR  b0104      guaC      240.271607            67665.825779\n",
       "\n",
       "[102 rows x 5 columns]"
      ]
     },
     "execution_count": 101,
     "metadata": {},
     "output_type": "execute_result"
    }
   ],
   "source": [
    "zz.sort_values('deltaG_prime_m')"
   ]
  },
  {
   "cell_type": "code",
   "execution_count": 103,
   "metadata": {},
   "outputs": [],
   "source": [
    "zz.to_csv('EC_1.X.1.X.Unique_NAD(P)_Coupled.GeneSet.Thermo.csv')"
   ]
  },
  {
   "cell_type": "code",
   "execution_count": 114,
   "metadata": {},
   "outputs": [],
   "source": [
    "ii = []\n",
    "ni = []\n",
    "for idx,rdf in zz.groupby('index'):\n",
    "    ii.append(idx)\n",
    "    ni.append(len(rdf))\n",
    "    "
   ]
  },
  {
   "cell_type": "code",
   "execution_count": 120,
   "metadata": {},
   "outputs": [],
   "source": [
    "gz = pd.DataFrame({'reaction': ii, 'n': ni})"
   ]
  },
  {
   "cell_type": "code",
   "execution_count": 124,
   "metadata": {},
   "outputs": [
    {
     "data": {
      "text/html": [
       "<div>\n",
       "<style scoped>\n",
       "    .dataframe tbody tr th:only-of-type {\n",
       "        vertical-align: middle;\n",
       "    }\n",
       "\n",
       "    .dataframe tbody tr th {\n",
       "        vertical-align: top;\n",
       "    }\n",
       "\n",
       "    .dataframe thead th {\n",
       "        text-align: right;\n",
       "    }\n",
       "</style>\n",
       "<table border=\"1\" class=\"dataframe\">\n",
       "  <thead>\n",
       "    <tr style=\"text-align: right;\">\n",
       "      <th></th>\n",
       "      <th>reaction</th>\n",
       "      <th>n</th>\n",
       "    </tr>\n",
       "  </thead>\n",
       "  <tbody>\n",
       "    <tr>\n",
       "      <th>24</th>\n",
       "      <td>DURADx</td>\n",
       "      <td>2</td>\n",
       "    </tr>\n",
       "    <tr>\n",
       "      <th>27</th>\n",
       "      <td>FADRx2</td>\n",
       "      <td>2</td>\n",
       "    </tr>\n",
       "    <tr>\n",
       "      <th>40</th>\n",
       "      <td>GLUSy</td>\n",
       "      <td>2</td>\n",
       "    </tr>\n",
       "    <tr>\n",
       "      <th>49</th>\n",
       "      <td>HXAND</td>\n",
       "      <td>2</td>\n",
       "    </tr>\n",
       "    <tr>\n",
       "      <th>69</th>\n",
       "      <td>NTRIR2x</td>\n",
       "      <td>2</td>\n",
       "    </tr>\n",
       "    <tr>\n",
       "      <th>84</th>\n",
       "      <td>SULR</td>\n",
       "      <td>2</td>\n",
       "    </tr>\n",
       "    <tr>\n",
       "      <th>94</th>\n",
       "      <td>XAND</td>\n",
       "      <td>2</td>\n",
       "    </tr>\n",
       "  </tbody>\n",
       "</table>\n",
       "</div>"
      ],
      "text/plain": [
       "   reaction  n\n",
       "24   DURADx  2\n",
       "27   FADRx2  2\n",
       "40    GLUSy  2\n",
       "49    HXAND  2\n",
       "69  NTRIR2x  2\n",
       "84     SULR  2\n",
       "94     XAND  2"
      ]
     },
     "execution_count": 124,
     "metadata": {},
     "output_type": "execute_result"
    }
   ],
   "source": [
    "gz[gz['n'] > 1]"
   ]
  },
  {
   "cell_type": "code",
   "execution_count": 125,
   "metadata": {},
   "outputs": [
    {
     "ename": "NameError",
     "evalue": "name 'model' is not defined",
     "output_type": "error",
     "traceback": [
      "\u001b[0;31m---------------------------------------------------------------------------\u001b[0m",
      "\u001b[0;31mNameError\u001b[0m                                 Traceback (most recent call last)",
      "\u001b[0;32m<ipython-input-125-1f8a688cae5d>\u001b[0m in \u001b[0;36m<module>\u001b[0;34m\u001b[0m\n\u001b[0;32m----> 1\u001b[0;31m \u001b[0mmodel\u001b[0m\u001b[0;34m\u001b[0m\u001b[0;34m\u001b[0m\u001b[0m\n\u001b[0m",
      "\u001b[0;31mNameError\u001b[0m: name 'model' is not defined"
     ]
    }
   ],
   "source": [
    "model"
   ]
  },
  {
   "cell_type": "code",
   "execution_count": null,
   "metadata": {},
   "outputs": [],
   "source": []
  }
 ],
 "metadata": {
  "kernelspec": {
   "display_name": "Python 3.8 (Coenzyme Paper)",
   "language": "python",
   "name": "coenzyme_paper"
  },
  "language_info": {
   "codemirror_mode": {
    "name": "ipython",
    "version": 3
   },
   "file_extension": ".py",
   "mimetype": "text/x-python",
   "name": "python",
   "nbconvert_exporter": "python",
   "pygments_lexer": "ipython3",
   "version": "3.8.5"
  }
 },
 "nbformat": 4,
 "nbformat_minor": 4
}
