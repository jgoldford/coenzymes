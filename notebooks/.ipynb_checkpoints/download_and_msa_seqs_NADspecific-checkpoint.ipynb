{
 "cells": [
  {
   "cell_type": "code",
   "execution_count": null,
   "metadata": {},
   "outputs": [],
   "source": [
    "import pandas as pd\n",
    "import numpy as np\n",
    "import requests\n",
    "import re\n",
    "from Bio import SeqIO\n",
    "import subprocess\n",
    "\n",
    "\n",
    "def ko2genes(ko):\n",
    "    url = 'http://rest.kegg.jp/link/genes/' + ko\n",
    "    r = requests.get(url)\n",
    "    geneKO = pd.DataFrame([x.split('\\t') for x in r.text.split('\\n')],columns=['ko','gene'])\n",
    "    geneKO = geneKO.iloc[0:-1]\n",
    "    return geneKO\n",
    "\n",
    "def download_seqs(geneList,fileName,batchSize):    \n",
    "    geneList_chunks = [geneList[i * batchSize:(i + 1) * batchSize] for i in range((len(geneList) + batchSize - 1) // batchSize )]\n",
    "    with open(fileName,'w') as fastafile:\n",
    "        for sglist in geneList_chunks:\n",
    "            url =  'http://rest.kegg.jp/get/' + \"+\".join(sglist) + '/aaseq'\n",
    "            fseqs = requests.get(url).text\n",
    "            fastafile.write(fseqs)\n",
    "\n",
    "            \n",
    "def msaSeq2df(seq,indexStart):\n",
    "    idx = []\n",
    "    resid = []\n",
    "    j = indexStart;\n",
    "    for i in seq:\n",
    "        resid.append(i)\n",
    "        if i == '-':\n",
    "            idx.append(np.nan)\n",
    "        else:\n",
    "            idx.append(j)\n",
    "            j = j+1\n",
    "    \n",
    "    return pd.DataFrame({'residue': resid, 'index': idx})\n",
    "\n",
    "def ecogenes():\n",
    "    url = 'http://rest.kegg.jp/link/ko/eco'\n",
    "    r = requests.get(url)\n",
    "    geneKO = pd.DataFrame([x.split('\\t') for x in r.text.split('\\n')],columns=['gene','ko'])\n",
    "    geneKO = geneKO.iloc[0:-1]\n",
    "    return geneKO\n",
    "\n",
    "get_resid = lambda x: [x for x in re.findall(r'\\D',x) if len(x)>0][0]\n",
    "get_resid_idx = lambda x: [int(x) for x in re.findall(r'\\d*',x) if len(x)>0][0]"
   ]
  }
 ],
 "metadata": {
  "kernelspec": {
   "display_name": "Python 3.8 (Coenzyme Paper)",
   "language": "python",
   "name": "coenzyme_paper"
  },
  "language_info": {
   "codemirror_mode": {
    "name": "ipython",
    "version": 3
   },
   "file_extension": ".py",
   "mimetype": "text/x-python",
   "name": "python",
   "nbconvert_exporter": "python",
   "pygments_lexer": "ipython3",
   "version": "3.8.5"
  }
 },
 "nbformat": 4,
 "nbformat_minor": 4
}
