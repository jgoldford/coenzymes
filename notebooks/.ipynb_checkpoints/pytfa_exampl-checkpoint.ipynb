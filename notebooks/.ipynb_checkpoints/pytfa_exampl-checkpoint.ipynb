{
 "cells": [
  {
   "cell_type": "code",
   "execution_count": 98,
   "id": "german-confidentiality",
   "metadata": {},
   "outputs": [],
   "source": [
    "from cobra.io import load_matlab_model\n",
    "\n",
    "from pytfa.io import load_thermoDB,                    \\\n",
    "                        read_lexicon, annotate_from_lexicon,            \\\n",
    "                        read_compartment_data, apply_compartment_data\n",
    "\n",
    "\n",
    "root_dir = '../../pytfa/'\n",
    "model_name = root_dir + 'models/'\n",
    "\n",
    "# Load the model\n",
    "cobra_model = load_matlab_model(root_dir + 'models/small_ecoli.mat')"
   ]
  },
  {
   "cell_type": "code",
   "execution_count": 119,
   "id": "differential-efficiency",
   "metadata": {},
   "outputs": [
    {
     "ename": "NameError",
     "evalue": "name 'cobra' is not defined",
     "output_type": "error",
     "traceback": [
      "\u001b[0;31m---------------------------------------------------------------------------\u001b[0m",
      "\u001b[0;31mNameError\u001b[0m                                 Traceback (most recent call last)",
      "\u001b[0;32m<ipython-input-119-bd7b266cd2cc>\u001b[0m in \u001b[0;36m<module>\u001b[0;34m\u001b[0m\n\u001b[0;32m----> 1\u001b[0;31m \u001b[0mhelp\u001b[0m\u001b[0;34m(\u001b[0m\u001b[0mcobra\u001b[0m\u001b[0;34m.\u001b[0m\u001b[0mio\u001b[0m\u001b[0;34m)\u001b[0m\u001b[0;34m\u001b[0m\u001b[0;34m\u001b[0m\u001b[0m\n\u001b[0m",
      "\u001b[0;31mNameError\u001b[0m: name 'cobra' is not defined"
     ]
    }
   ],
   "source": [
    "help(cobra.io)"
   ]
  },
  {
   "cell_type": "code",
   "execution_count": 99,
   "id": "organizational-ballet",
   "metadata": {},
   "outputs": [],
   "source": [
    "import pandas as pd\n",
    "import numpy as np"
   ]
  },
  {
   "cell_type": "code",
   "execution_count": 100,
   "id": "legislative-lambda",
   "metadata": {},
   "outputs": [],
   "source": [
    "def single_coenzyme_transform(model,reaction_id):\n",
    "    met = {}\n",
    "    met['nad'] = np.where([x.id == 'nad_c' for x in model.metabolites])[0][0]\n",
    "    met['nadp'] = np.where([x.id == 'nadp_c' for x in model.metabolites])[0][0]\n",
    "    met['nadh'] = np.where([x.id == 'nadh_c' for x in model.metabolites])[0][0]\n",
    "    met['nadph'] = np.where([x.id == 'nadph_c' for x in model.metabolites])[0][0]\n",
    "\n",
    "    met_objs = {}\n",
    "    met_objs['nad'] = [x for x in model.metabolites if x.id == 'nad_c'][0]\n",
    "    met_objs['nadh'] = [x for x in model.metabolites if x.id == 'nadh_c'][0]\n",
    "    met_objs['nadp'] = [x for x in model.metabolites if x.id == 'nadp_c'][0]\n",
    "    met_objs['nadph'] = [x for x in model.metabolites if x.id == 'nadph_c'][0]\n",
    "    \n",
    "    rxn = [x for x in model.reactions if x.id == reaction_id][0].copy()\n",
    "    # make a new dictionary with coenzyme swapped\n",
    "    v = {x:y for x,y in rxn.metabolites.items() if x.id in [x + '_c' for x in list(met)]}\n",
    "    \n",
    "    nad_stoich = 0;\n",
    "    nadh_stoich  = 0;\n",
    "    \n",
    "    if len(v) > 0:\n",
    "        v2 = {}\n",
    "        for x,y in v.items():\n",
    "            if x.id == 'nadph_c':\n",
    "                nadh_stoich = nadh_stoich + y \n",
    "                #v2[met_objs['nadh']] = y\n",
    "            elif x.id == 'nadp_c':\n",
    "                nad_stoich = nad_stoich + y \n",
    "                #v2[met_objs['nad']] = y\n",
    "            elif x.id == 'nadh_c':\n",
    "                nadh_stoich = nadh_stoich + y \n",
    "                #v2[met_objs['nadph']] = y\n",
    "            elif x.id == 'nad_c':\n",
    "                nad_stoich = nad_stoich + y \n",
    "                #v2[met_objs['nadp']] = y\n",
    "\n",
    "        v2[met_objs['nad']] = nad_stoich\n",
    "        v2[met_objs['nadh']] = nadh_stoich\n",
    "\n",
    "        rxn.subtract_metabolites(v)\n",
    "        rxn.add_metabolites(v2)\n",
    "        rxn.id = rxn.id + '[condensed]'\n",
    "        model.remove_reactions([x for x in model.reactions if x.id == reaction_id][0])\n",
    "        model.add_reaction(rxn)\n",
    "        \n",
    "    return model"
   ]
  },
  {
   "cell_type": "code",
   "execution_count": 101,
   "id": "confident-fundamental",
   "metadata": {},
   "outputs": [],
   "source": [
    "m  = cobra_model.copy()\n",
    "rxn_ids = [x.id for x in cobra_model.reactions]"
   ]
  },
  {
   "cell_type": "code",
   "execution_count": 104,
   "id": "grave-attention",
   "metadata": {},
   "outputs": [],
   "source": [
    "m  = cobra_model.copy()\n",
    "rxn_ids = [x.id for x in cobra_model.reactions]\n",
    "for rxnid in rxn_ids:\n",
    "    m = single_coenzyme_transform(m,rxnid)\n",
    "    \n",
    "m.remove_reactions([x for x in m.reactions if x.id == 'NADTRHD[condensed]'][0])\n",
    "m.objective = 'Ec_biomass_iJO1366_WT_53p95M[condensed]'"
   ]
  },
  {
   "cell_type": "code",
   "execution_count": 105,
   "id": "architectural-shield",
   "metadata": {},
   "outputs": [
    {
     "name": "stderr",
     "output_type": "stream",
     "text": [
      "2021-01-31 13:06:15,782 - thermomodel_None - INFO - # Model initialized with units kcal/mol and temperature 298.15 K\n",
      "2021-01-31 13:06:15,786 - thermomodel_None - INFO - # Model preparation starting...\n",
      "2021-01-31 13:06:15,941 - thermomodel_None - WARNING - Warning : NULL/U\n",
      "2021-01-31 13:06:15,942 - thermomodel_None - WARNING - Warning : NULL/L\n",
      "2021-01-31 13:06:15,943 - thermomodel_None - WARNING - Warning : NULL/L\n",
      "2021-01-31 13:06:15,944 - thermomodel_None - WARNING - Warning : NULL/U\n",
      "2021-01-31 13:06:15,947 - thermomodel_None - WARNING - Warning : NULL/L\n",
      "2021-01-31 13:06:15,948 - thermomodel_None - WARNING - Warning : NULL/L\n",
      "2021-01-31 13:06:16,007 - thermomodel_None - WARNING - Warning : NULL/U\n",
      "2021-01-31 13:06:16,012 - thermomodel_None - WARNING - Warning : NULL/L\n",
      "2021-01-31 13:06:16,016 - thermomodel_None - WARNING - Warning : NULL/L\n",
      "2021-01-31 13:06:16,018 - thermomodel_None - WARNING - Warning : NULL/U\n",
      "2021-01-31 13:06:16,019 - thermomodel_None - WARNING - Warning : NULL/L\n",
      "2021-01-31 13:06:16,020 - thermomodel_None - WARNING - Warning : NULL/L\n",
      "2021-01-31 13:06:16,044 - thermomodel_None - WARNING - Warning : NULL/U\n",
      "2021-01-31 13:06:16,070 - thermomodel_None - WARNING - Warning : NULL/L\n",
      "2021-01-31 13:06:16,082 - thermomodel_None - WARNING - Warning : NULL/L\n",
      "2021-01-31 13:06:16,083 - thermomodel_None - WARNING - Warning : NULL/U\n",
      "2021-01-31 13:06:16,086 - thermomodel_None - WARNING - Warning : NULL/L\n",
      "2021-01-31 13:06:16,088 - thermomodel_None - WARNING - Warning : NULL/L\n",
      "2021-01-31 13:06:16,144 - thermomodel_None - WARNING - Warning : NULL/U\n",
      "2021-01-31 13:06:16,168 - thermomodel_None - WARNING - Warning : NULL/L\n",
      "2021-01-31 13:06:16,169 - thermomodel_None - WARNING - Warning : NULL/L\n",
      "2021-01-31 13:06:16,171 - thermomodel_None - WARNING - Warning : NULL/U\n",
      "2021-01-31 13:06:16,176 - thermomodel_None - WARNING - Warning : NULL/L\n",
      "2021-01-31 13:06:16,182 - thermomodel_None - WARNING - Warning : NULL/L\n",
      "2021-01-31 13:06:16,403 - thermomodel_None - WARNING - Warning : NULL/U\n",
      "2021-01-31 13:06:16,404 - thermomodel_None - WARNING - Warning : NULL/L\n",
      "2021-01-31 13:06:16,405 - thermomodel_None - WARNING - Warning : NULL/L\n",
      "2021-01-31 13:06:16,406 - thermomodel_None - WARNING - Warning : NULL/U\n",
      "2021-01-31 13:06:16,408 - thermomodel_None - WARNING - Warning : NULL/L\n",
      "2021-01-31 13:06:16,410 - thermomodel_None - WARNING - Warning : NULL/L\n",
      "2021-01-31 13:06:16,413 - thermomodel_None - WARNING - Warning : NULL/U\n",
      "2021-01-31 13:06:16,427 - thermomodel_None - WARNING - Warning : NULL/L\n",
      "2021-01-31 13:06:16,429 - thermomodel_None - WARNING - Warning : NULL/L\n",
      "2021-01-31 13:06:16,430 - thermomodel_None - WARNING - Warning : NULL/U\n",
      "2021-01-31 13:06:16,433 - thermomodel_None - WARNING - Warning : NULL/L\n",
      "2021-01-31 13:06:16,449 - thermomodel_None - WARNING - Warning : NULL/L\n",
      "2021-01-31 13:06:16,451 - thermomodel_None - WARNING - Warning : NULL/U\n",
      "2021-01-31 13:06:16,464 - thermomodel_None - WARNING - Warning : NULL/L\n",
      "2021-01-31 13:06:16,466 - thermomodel_None - WARNING - Warning : NULL/L\n",
      "2021-01-31 13:06:16,467 - thermomodel_None - WARNING - Warning : NULL/U\n",
      "2021-01-31 13:06:16,483 - thermomodel_None - WARNING - Warning : NULL/L\n",
      "2021-01-31 13:06:16,485 - thermomodel_None - WARNING - Warning : NULL/L\n",
      "2021-01-31 13:06:16,494 - thermomodel_None - WARNING - Warning : NULL/U\n",
      "2021-01-31 13:06:16,505 - thermomodel_None - WARNING - Warning : NULL/L\n",
      "2021-01-31 13:06:16,513 - thermomodel_None - WARNING - Warning : NULL/L\n",
      "2021-01-31 13:06:16,534 - thermomodel_None - WARNING - Warning : NULL/U\n",
      "2021-01-31 13:06:16,541 - thermomodel_None - WARNING - Warning : NULL/L\n",
      "2021-01-31 13:06:16,547 - thermomodel_None - WARNING - Warning : NULL/L\n",
      "2021-01-31 13:06:16,561 - thermomodel_None - WARNING - Warning : NULL/U\n",
      "2021-01-31 13:06:16,563 - thermomodel_None - WARNING - Warning : NULL/L\n",
      "2021-01-31 13:06:16,566 - thermomodel_None - WARNING - Warning : NULL/L\n",
      "2021-01-31 13:06:16,576 - thermomodel_None - WARNING - Warning : NULL/U\n",
      "2021-01-31 13:06:16,584 - thermomodel_None - WARNING - Warning : NULL/L\n",
      "2021-01-31 13:06:16,585 - thermomodel_None - WARNING - Warning : NULL/L\n",
      "2021-01-31 13:06:16,588 - thermomodel_None - WARNING - Warning : NULL/U\n",
      "2021-01-31 13:06:16,595 - thermomodel_None - WARNING - Warning : NULL/L\n",
      "2021-01-31 13:06:16,598 - thermomodel_None - WARNING - Warning : NULL/L\n",
      "2021-01-31 13:06:16,600 - thermomodel_None - WARNING - Warning : NULL/U\n",
      "2021-01-31 13:06:16,601 - thermomodel_None - WARNING - Warning : NULL/L\n",
      "2021-01-31 13:06:16,604 - thermomodel_None - WARNING - Warning : NULL/L\n",
      "2021-01-31 13:06:16,611 - thermomodel_None - WARNING - Warning : NULL/U\n",
      "2021-01-31 13:06:16,615 - thermomodel_None - WARNING - Warning : NULL/L\n",
      "2021-01-31 13:06:16,617 - thermomodel_None - WARNING - Warning : NULL/L\n",
      "2021-01-31 13:06:16,625 - thermomodel_None - WARNING - Warning : NULL/U\n",
      "2021-01-31 13:06:16,627 - thermomodel_None - WARNING - Warning : NULL/L\n",
      "2021-01-31 13:06:16,629 - thermomodel_None - WARNING - Warning : NULL/L\n",
      "2021-01-31 13:06:16,633 - thermomodel_None - WARNING - Warning : NULL/U\n",
      "2021-01-31 13:06:16,636 - thermomodel_None - WARNING - Warning : NULL/L\n",
      "2021-01-31 13:06:16,639 - thermomodel_None - WARNING - Warning : NULL/L\n",
      "2021-01-31 13:06:16,643 - thermomodel_None - WARNING - Warning : NULL/U\n",
      "2021-01-31 13:06:16,653 - thermomodel_None - WARNING - Warning : NULL/L\n",
      "2021-01-31 13:06:16,655 - thermomodel_None - WARNING - Warning : NULL/L\n",
      "2021-01-31 13:06:16,661 - thermomodel_None - WARNING - Warning : NULL/U\n",
      "2021-01-31 13:06:16,665 - thermomodel_None - WARNING - Warning : NULL/L\n",
      "2021-01-31 13:06:16,667 - thermomodel_None - WARNING - Warning : NULL/L\n",
      "2021-01-31 13:06:16,671 - thermomodel_None - WARNING - Warning : NULL/U\n",
      "2021-01-31 13:06:16,677 - thermomodel_None - WARNING - Warning : NULL/L\n",
      "2021-01-31 13:06:16,681 - thermomodel_None - WARNING - Warning : NULL/L\n",
      "2021-01-31 13:06:16,747 - thermomodel_None - WARNING - Warning : NULL/U\n",
      "2021-01-31 13:06:16,751 - thermomodel_None - WARNING - Warning : NULL/L\n",
      "2021-01-31 13:06:16,764 - thermomodel_None - WARNING - Warning : NULL/L\n",
      "2021-01-31 13:06:16,766 - thermomodel_None - WARNING - Warning : NULL/U\n",
      "2021-01-31 13:06:16,770 - thermomodel_None - WARNING - Warning : NULL/L\n",
      "2021-01-31 13:06:16,773 - thermomodel_None - WARNING - Warning : NULL/L\n",
      "2021-01-31 13:06:16,781 - thermomodel_None - WARNING - Warning : NULL/U\n",
      "2021-01-31 13:06:16,785 - thermomodel_None - WARNING - Warning : NULL/L\n",
      "2021-01-31 13:06:16,787 - thermomodel_None - WARNING - Warning : NULL/L\n",
      "2021-01-31 13:06:16,793 - thermomodel_None - WARNING - Warning : NULL/U\n",
      "2021-01-31 13:06:16,798 - thermomodel_None - WARNING - Warning : NULL/L\n",
      "2021-01-31 13:06:16,800 - thermomodel_None - WARNING - Warning : NULL/L\n",
      "2021-01-31 13:06:16,864 - thermomodel_None - WARNING - Warning : NULL/U\n",
      "2021-01-31 13:06:16,867 - thermomodel_None - WARNING - Warning : NULL/L\n",
      "2021-01-31 13:06:16,870 - thermomodel_None - WARNING - Warning : NULL/L\n",
      "2021-01-31 13:06:16,877 - thermomodel_None - WARNING - Warning : NULL/U\n",
      "2021-01-31 13:06:16,886 - thermomodel_None - WARNING - Warning : NULL/L\n",
      "2021-01-31 13:06:16,896 - thermomodel_None - WARNING - Warning : NULL/L\n",
      "2021-01-31 13:06:17,177 - thermomodel_None - WARNING - Warning : NULL/U\n",
      "2021-01-31 13:06:17,178 - thermomodel_None - WARNING - Warning : NULL/L\n",
      "2021-01-31 13:06:17,179 - thermomodel_None - WARNING - Warning : NULL/L\n",
      "2021-01-31 13:06:17,180 - thermomodel_None - WARNING - Warning : NULL/U\n",
      "2021-01-31 13:06:17,183 - thermomodel_None - WARNING - Warning : NULL/L\n",
      "2021-01-31 13:06:17,188 - thermomodel_None - WARNING - Warning : NULL/L\n",
      "2021-01-31 13:06:17,191 - thermomodel_None - WARNING - Warning : NULL/U\n",
      "2021-01-31 13:06:17,194 - thermomodel_None - WARNING - Warning : NULL/L\n",
      "2021-01-31 13:06:17,197 - thermomodel_None - WARNING - Warning : NULL/L\n",
      "2021-01-31 13:06:17,199 - thermomodel_None - WARNING - Warning : NULL/U\n",
      "2021-01-31 13:06:17,201 - thermomodel_None - WARNING - Warning : NULL/L\n",
      "2021-01-31 13:06:17,204 - thermomodel_None - WARNING - Warning : NULL/L\n",
      "2021-01-31 13:06:17,208 - thermomodel_None - WARNING - Warning : NULL/U\n",
      "2021-01-31 13:06:17,210 - thermomodel_None - WARNING - Warning : NULL/L\n",
      "2021-01-31 13:06:17,212 - thermomodel_None - WARNING - Warning : NULL/L\n",
      "2021-01-31 13:06:17,215 - thermomodel_None - WARNING - Warning : NULL/U\n",
      "2021-01-31 13:06:17,217 - thermomodel_None - WARNING - Warning : NULL/L\n",
      "2021-01-31 13:06:17,223 - thermomodel_None - WARNING - Warning : NULL/L\n",
      "2021-01-31 13:06:17,227 - thermomodel_None - WARNING - Warning : NULL/U\n",
      "2021-01-31 13:06:17,230 - thermomodel_None - WARNING - Warning : NULL/L\n",
      "2021-01-31 13:06:17,233 - thermomodel_None - WARNING - Warning : NULL/L\n",
      "2021-01-31 13:06:17,236 - thermomodel_None - WARNING - Warning : NULL/U\n",
      "2021-01-31 13:06:17,239 - thermomodel_None - WARNING - Warning : NULL/L\n",
      "2021-01-31 13:06:17,242 - thermomodel_None - WARNING - Warning : NULL/L\n",
      "2021-01-31 13:06:17,246 - thermomodel_None - WARNING - Warning : NULL/U\n",
      "2021-01-31 13:06:17,248 - thermomodel_None - WARNING - Warning : NULL/L\n",
      "2021-01-31 13:06:17,251 - thermomodel_None - WARNING - Warning : NULL/L\n",
      "2021-01-31 13:06:17,254 - thermomodel_None - WARNING - Warning : NULL/U\n",
      "2021-01-31 13:06:17,255 - thermomodel_None - WARNING - Warning : NULL/L\n",
      "2021-01-31 13:06:17,260 - thermomodel_None - WARNING - Warning : NULL/L\n",
      "2021-01-31 13:06:17,264 - thermomodel_None - WARNING - Warning : NULL/U\n",
      "2021-01-31 13:06:17,267 - thermomodel_None - WARNING - Warning : NULL/L\n",
      "2021-01-31 13:06:17,278 - thermomodel_None - WARNING - Warning : NULL/L\n",
      "2021-01-31 13:06:17,285 - thermomodel_None - WARNING - Warning : NULL/U\n",
      "2021-01-31 13:06:17,287 - thermomodel_None - WARNING - Warning : NULL/L\n",
      "2021-01-31 13:06:17,301 - thermomodel_None - WARNING - Warning : NULL/L\n",
      "2021-01-31 13:06:17,317 - thermomodel_None - WARNING - Warning : NULL/U\n",
      "2021-01-31 13:06:17,337 - thermomodel_None - WARNING - Warning : NULL/L\n",
      "2021-01-31 13:06:17,346 - thermomodel_None - WARNING - Warning : NULL/L\n",
      "2021-01-31 13:06:17,368 - thermomodel_None - WARNING - Warning : NULL/U\n",
      "2021-01-31 13:06:17,381 - thermomodel_None - WARNING - Warning : NULL/L\n",
      "2021-01-31 13:06:17,384 - thermomodel_None - WARNING - Warning : NULL/L\n",
      "2021-01-31 13:06:17,386 - thermomodel_None - WARNING - Warning : NULL/U\n",
      "2021-01-31 13:06:17,395 - thermomodel_None - WARNING - Warning : NULL/L\n",
      "2021-01-31 13:06:17,404 - thermomodel_None - WARNING - Warning : NULL/L\n",
      "2021-01-31 13:06:17,410 - thermomodel_None - WARNING - Warning : NULL/U\n",
      "2021-01-31 13:06:17,416 - thermomodel_None - WARNING - Warning : NULL/L\n",
      "2021-01-31 13:06:17,419 - thermomodel_None - WARNING - Warning : NULL/L\n",
      "2021-01-31 13:06:17,425 - thermomodel_None - WARNING - Warning : NULL/U\n",
      "2021-01-31 13:06:17,437 - thermomodel_None - WARNING - Warning : NULL/L\n",
      "2021-01-31 13:06:17,441 - thermomodel_None - WARNING - Warning : NULL/L\n",
      "2021-01-31 13:06:17,446 - thermomodel_None - WARNING - Warning : NULL/U\n",
      "2021-01-31 13:06:17,449 - thermomodel_None - WARNING - Warning : NULL/L\n",
      "2021-01-31 13:06:17,452 - thermomodel_None - WARNING - Warning : NULL/L\n",
      "2021-01-31 13:06:17,456 - thermomodel_None - WARNING - Warning : NULL/U\n",
      "2021-01-31 13:06:17,458 - thermomodel_None - WARNING - Warning : NULL/L\n",
      "2021-01-31 13:06:17,463 - thermomodel_None - WARNING - Warning : NULL/L\n",
      "2021-01-31 13:06:17,467 - thermomodel_None - WARNING - Warning : NULL/U\n",
      "2021-01-31 13:06:17,469 - thermomodel_None - WARNING - Warning : NULL/L\n",
      "2021-01-31 13:06:17,473 - thermomodel_None - WARNING - Warning : NULL/L\n",
      "2021-01-31 13:06:17,477 - thermomodel_None - WARNING - Warning : NULL/U\n",
      "2021-01-31 13:06:17,479 - thermomodel_None - WARNING - Warning : NULL/L\n",
      "2021-01-31 13:06:17,483 - thermomodel_None - WARNING - Warning : NULL/L\n",
      "2021-01-31 13:06:17,484 - thermomodel_None - WARNING - Warning : NULL/U\n",
      "2021-01-31 13:06:17,487 - thermomodel_None - WARNING - Warning : NULL/L\n",
      "2021-01-31 13:06:17,488 - thermomodel_None - WARNING - Warning : NULL/L\n",
      "2021-01-31 13:06:17,554 - thermomodel_None - WARNING - Warning : NULL/U\n",
      "2021-01-31 13:06:17,565 - thermomodel_None - WARNING - Warning : NULL/L\n",
      "2021-01-31 13:06:17,568 - thermomodel_None - WARNING - Warning : NULL/L\n",
      "2021-01-31 13:06:17,572 - thermomodel_None - WARNING - Warning : NULL/U\n",
      "2021-01-31 13:06:17,575 - thermomodel_None - WARNING - Warning : NULL/L\n",
      "2021-01-31 13:06:17,577 - thermomodel_None - WARNING - Warning : NULL/L\n",
      "2021-01-31 13:06:17,580 - thermomodel_None - INFO - # Model preparation done.\n",
      "2021-01-31 13:06:17,583 - thermomodel_None - INFO - # Model conversion starting...\n",
      "2021-01-31 13:06:27,232 - thermomodel_None - INFO - # Model conversion done.\n",
      "2021-01-31 13:06:27,232 - thermomodel_None - INFO - # Updating cobra_model variables...\n",
      "2021-01-31 13:06:27,247 - thermomodel_None - INFO - # cobra_model variables are up-to-date\n"
     ]
    }
   ],
   "source": [
    "\n",
    "# Load reaction DB\n",
    "thermo_data = load_thermoDB(root_dir + 'data/thermo_data.thermodb')\n",
    "lexicon = read_lexicon(root_dir + 'models/small_ecoli/lexicon.csv')\n",
    "compartment_data = read_compartment_data(root_dir + 'models/small_ecoli/compartment_data.json')\n",
    "\n",
    "# Initialize the model\n",
    "tmodel = pytfa.ThermoModel(thermo_data, m)\n",
    "tmodel.name = 'NAD_only'\n",
    "\n",
    "# Annotate the model\n",
    "annotate_from_lexicon(tmodel, lexicon)\n",
    "apply_compartment_data(tmodel, compartment_data)\n",
    "\n",
    "## TFA conversion\n",
    "tmodel.prepare()\n",
    "tmodel.convert()"
   ]
  },
  {
   "cell_type": "code",
   "execution_count": 107,
   "id": "approved-diabetes",
   "metadata": {},
   "outputs": [
    {
     "name": "stdout",
     "output_type": "stream",
     "text": [
      "                    value\n",
      "key                      \n",
      "name             NAD_only\n",
      "description      NAD_only\n",
      "num constraints      3337\n",
      "num variables        3472\n",
      "num metabolites       304\n",
      "num reactions         598\n",
      "                             value\n",
      "key                               \n",
      "num metabolites(thermo)        254\n",
      "num reactions(thermo)          413\n",
      "pct metabolites(thermo)  83.552632\n",
      "pct reactions(thermo)    69.063545\n"
     ]
    }
   ],
   "source": [
    "## Info on the model\n",
    "tmodel.print_info()"
   ]
  },
  {
   "cell_type": "code",
   "execution_count": 108,
   "id": "outer-ukraine",
   "metadata": {},
   "outputs": [],
   "source": [
    "## Optimality\n",
    "tfa_solution = tmodel.optimize()"
   ]
  },
  {
   "cell_type": "code",
   "execution_count": 121,
   "id": "republican-lesbian",
   "metadata": {},
   "outputs": [],
   "source": [
    "m2 = cobra_model.copy()"
   ]
  },
  {
   "cell_type": "code",
   "execution_count": 122,
   "id": "moving-living",
   "metadata": {},
   "outputs": [
    {
     "data": {
      "text/plain": [
       "{}"
      ]
     },
     "execution_count": 122,
     "metadata": {},
     "output_type": "execute_result"
    }
   ],
   "source": [
    "m2.medium['EX_O']"
   ]
  },
  {
   "cell_type": "code",
   "execution_count": 130,
   "id": "chemical-regard",
   "metadata": {},
   "outputs": [
    {
     "data": {
      "text/html": [
       "\n",
       "        <table>\n",
       "            <tr>\n",
       "                <td><strong>Reaction identifier</strong></td><td>DM_ac_e</td>\n",
       "            </tr><tr>\n",
       "                <td><strong>Name</strong></td><td></td>\n",
       "            </tr><tr>\n",
       "                <td><strong>Memory address</strong></td>\n",
       "                <td>0x07f9df2333e80</td>\n",
       "            </tr><tr>\n",
       "                <td><strong>Stoichiometry</strong></td>\n",
       "                <td>\n",
       "                    <p style='text-align:right'>ac_e --></p>\n",
       "                    <p style='text-align:right'>Acetate --></p>\n",
       "                </td>\n",
       "            </tr><tr>\n",
       "                <td><strong>GPR</strong></td><td></td>\n",
       "            </tr><tr>\n",
       "                <td><strong>Lower bound</strong></td><td>0.0</td>\n",
       "            </tr><tr>\n",
       "                <td><strong>Upper bound</strong></td><td>1000.0</td>\n",
       "            </tr>\n",
       "        </table>\n",
       "        "
      ],
      "text/plain": [
       "<Reaction DM_ac_e at 0x7f9df2333e80>"
      ]
     },
     "execution_count": 130,
     "metadata": {},
     "output_type": "execute_result"
    }
   ],
   "source": [
    "m2.reactions[6]"
   ]
  },
  {
   "cell_type": "code",
   "execution_count": 131,
   "id": "agricultural-allen",
   "metadata": {},
   "outputs": [],
   "source": [
    "m2.medium['DM_ac_e'] = 1000"
   ]
  },
  {
   "cell_type": "code",
   "execution_count": 143,
   "id": "stable-entity",
   "metadata": {},
   "outputs": [],
   "source": [
    "m2.reactions.get_by_id('DM_glycogenn1_c').lower_bound = -"
   ]
  },
  {
   "cell_type": "code",
   "execution_count": 144,
   "id": "neither-jonathan",
   "metadata": {},
   "outputs": [
    {
     "data": {
      "text/html": [
       "<h3>Objective</h3><p>1.0 Ec_biomass_iJO1366_WT_53p95M = 0.0</p><h4>Uptake</h4><table border=\"1\" class=\"dataframe\">\n",
       "  <thead>\n",
       "    <tr style=\"text-align: right;\">\n",
       "      <th>Metabolite</th>\n",
       "      <th>Reaction</th>\n",
       "      <th>Flux</th>\n",
       "      <th>C-Number</th>\n",
       "      <th>C-Flux</th>\n",
       "    </tr>\n",
       "  </thead>\n",
       "  <tbody>\n",
       "  </tbody>\n",
       "</table><h4>Secretion</h4><table border=\"1\" class=\"dataframe\">\n",
       "  <thead>\n",
       "    <tr style=\"text-align: right;\">\n",
       "      <th>Metabolite</th>\n",
       "      <th>Reaction</th>\n",
       "      <th>Flux</th>\n",
       "      <th>C-Number</th>\n",
       "      <th>C-Flux</th>\n",
       "    </tr>\n",
       "  </thead>\n",
       "  <tbody>\n",
       "  </tbody>\n",
       "</table>"
      ],
      "text/plain": [
       "<cobra.summary.model_summary.ModelSummary at 0x7f9e08dd75b0>"
      ]
     },
     "execution_count": 144,
     "metadata": {},
     "output_type": "execute_result"
    }
   ],
   "source": [
    "m2.reactions.get_by_id('DM_glycogenn1_c').lower_bound = -"
   ]
  },
  {
   "cell_type": "code",
   "execution_count": null,
   "id": "hispanic-matrix",
   "metadata": {},
   "outputs": [],
   "source": []
  }
 ],
 "metadata": {
  "kernelspec": {
   "display_name": "Python (coenzymes)",
   "language": "python",
   "name": "coenzymes"
  },
  "language_info": {
   "codemirror_mode": {
    "name": "ipython",
    "version": 3
   },
   "file_extension": ".py",
   "mimetype": "text/x-python",
   "name": "python",
   "nbconvert_exporter": "python",
   "pygments_lexer": "ipython3",
   "version": "3.8.5"
  }
 },
 "nbformat": 4,
 "nbformat_minor": 5
}
