{
 "cells": [
  {
   "cell_type": "markdown",
   "metadata": {},
   "source": [
    "## Simplest $\\Delta G'^\\circ$ example"
   ]
  },
  {
   "cell_type": "code",
   "execution_count": 1,
   "metadata": {},
   "outputs": [],
   "source": [
    "import numpy\n",
    "import matplotlib.pyplot as plt\n",
    "from equilibrator_api import ComponentContribution, Q_"
   ]
  },
  {
   "cell_type": "code",
   "execution_count": null,
   "metadata": {},
   "outputs": [],
   "source": [
    "cc = ComponentContribution()\n",
    "reaction = cc.parse_reaction_formula(\"kegg:C00002 + kegg:C00001 = kegg:C00008 + kegg:C00009\")"
   ]
  },
  {
   "cell_type": "markdown",
   "metadata": {},
   "source": [
    "## Basic $\\Delta G'$ calculations"
   ]
  },
  {
   "cell_type": "code",
   "execution_count": null,
   "metadata": {},
   "outputs": [],
   "source": [
    "reaction = cc.parse_reaction_formula(\"kegg:C00002 + kegg:C00001 = kegg:C00008 + kegg:C00009\")\n",
    "cc.p_h = Q_(7.4)\n",
    "cc.p_mg = Q_(3.0)\n",
    "cc.ionic_strength = Q_(\"0.25M\")\n",
    "cc.temperature = Q_(\"298.15K\")\n",
    "\n",
    "dG0_prime = cc.standard_dg_prime(reaction)\n",
    "print(f\"ΔG'° = {dG0_prime}\")\n",
    "\n",
    "dGm_prime = cc.physiological_dg_prime(reaction)\n",
    "print(f\"ΔG'm = {dGm_prime}\")\n",
    "\n",
    "concentrations = [('kegg:C00002', 1.0),\n",
    "                  ('kegg:C00009', 0.1),\n",
    "                  ('kegg:C00008', 3.0)]\n",
    "for cid, conc in concentrations:\n",
    "    compound = cc.get_compound(cid)\n",
    "    abundance = Q_(conc, \"mM\")\n",
    "    reaction.set_abundance(compound, abundance)\n",
    "\n",
    "dG_prime = cc.dg_prime(reaction)\n",
    "print(f\"ΔG' = {dG_prime}\")"
   ]
  },
  {
   "cell_type": "markdown",
   "metadata": {},
   "source": [
    "## Response to pH example"
   ]
  },
  {
   "cell_type": "code",
   "execution_count": null,
   "metadata": {},
   "outputs": [],
   "source": [
    "def calc_dg(p_h, p_mg):\n",
    "    cc.p_h = Q_(p_h)\n",
    "    cc.p_mg = Q_(p_mg)\n",
    "    return cc.standard_dg_prime(reaction).value.m_as(\"kJ/mol\")\n",
    "\n",
    "fig, axs = plt.subplots(1, 2, figsize=(12, 5), sharey=True)\n",
    "\n",
    "ax = axs[0]\n",
    "ph_range = numpy.linspace(4, 10, 30)\n",
    "ax.plot(ph_range, [calc_dg(p_h, 1) for p_h in ph_range], '-', label=\"pMg = 1\")\n",
    "ax.plot(ph_range, [calc_dg(p_h, 3) for p_h in ph_range], '-', label=\"pMg = 3\")\n",
    "ax.plot(ph_range, [calc_dg(p_h, 5) for p_h in ph_range], '-', label=\"pMg = 5\")\n",
    "ax.set_xlabel('pH')\n",
    "ax.set_ylabel(r\"$\\Delta G'^\\circ$ [kJ/mol]\")\n",
    "ax.set_title(\"ATP hydrolysis\")\n",
    "ax.legend();\n",
    "\n",
    "ax = axs[1]\n",
    "pmg_range = numpy.linspace(0, 5, 30)\n",
    "ax.plot(pmg_range, [calc_dg(4, p_mg) for p_mg in pmg_range], '-', label=\"pH = 4\")\n",
    "ax.plot(pmg_range, [calc_dg(7, p_mg) for p_mg in pmg_range], '-', label=\"pH = 7\")\n",
    "ax.plot(pmg_range, [calc_dg(10, p_mg) for p_mg in pmg_range], '-', label=\"pH = 10\")\n",
    "ax.set_xlabel('pMg')\n",
    "ax.set_title(\"ATP hydrolysis\")\n",
    "ax.legend();"
   ]
  }
 ],
 "metadata": {
  "kernelspec": {
   "display_name": "Python 3",
   "language": "python",
   "name": "python3"
  },
  "language_info": {
   "codemirror_mode": {
    "name": "ipython",
    "version": 3
   },
   "file_extension": ".py",
   "mimetype": "text/x-python",
   "name": "python",
   "nbconvert_exporter": "python",
   "pygments_lexer": "ipython3",
   "version": "3.8.6"
  }
 },
 "nbformat": 4,
 "nbformat_minor": 4
}
