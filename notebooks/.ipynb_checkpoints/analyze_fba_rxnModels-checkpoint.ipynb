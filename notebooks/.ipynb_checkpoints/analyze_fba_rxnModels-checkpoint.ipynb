{
 "cells": [
  {
   "cell_type": "code",
   "execution_count": 2,
   "metadata": {},
   "outputs": [],
   "source": [
    "import pandas as pd\n",
    "import requests\n",
    "import numpy as np\n",
    "import seaborn as sns\n",
    "import matplotlib.pyplot as plt\n",
    "import matplotlib\n",
    "matplotlib.rcParams['font.family'] = \"Arial\"\n",
    "\n",
    "from matplotlib.pyplot import figure\n",
    "from sklearn import preprocessing\n",
    "import numpy as np\n",
    "from sklearn.decomposition import PCA\n",
    "import cobra"
   ]
  },
  {
   "cell_type": "code",
   "execution_count": 3,
   "metadata": {},
   "outputs": [],
   "source": [
    "# define functions for the estiamting delta G ranges\n",
    "RT = 8.31446261815324 * 10**-3 * 298.15\n",
    "\n",
    "def parse_reaction_to_df(reaction):\n",
    "    mdf = {'met_id': [], 'met_id_full':[],'s': [] }\n",
    "    for met in reaction.metabolites:\n",
    "        mdf['s'].append(reaction.metabolites[met])\n",
    "        ##mdf['met_id'].append(met.id.split('_')[0])\n",
    "        mdf['met_id'].append(met.id[:-2])\n",
    "        mdf['met_id_full'].append(met.id)\n",
    "    \n",
    "    mdf = pd.DataFrame(mdf)\n",
    "    mdf['met_id'] = mdf['met_id'].apply(lambda x: 'bigg.metabolite:' + x)\n",
    "    return mdf\n",
    "\n",
    "\n",
    "def get_concentrations(x,metConc):\n",
    "    if x == 'bigg.metabolite:nad':\n",
    "        return 2.6e-3\n",
    "    elif x == 'bigg.metabolite:nadh':\n",
    "        return 8.3e-5\n",
    "    elif x == 'bigg.metabolite:nadp':\n",
    "        return 2.1e-6\n",
    "    elif x == 'bigg.metabolite:nadph':\n",
    "        return 1.2e-4\n",
    "    elif x in ['bigg.metabolite:h','bigg.metabolite:h2o']:\n",
    "        return 1\n",
    "    else:\n",
    "        return metConc\n",
    "    \n",
    "    \n",
    "def rdf2metConcs(mdf,ub,lb):\n",
    "    maxG_conc = []\n",
    "    minG_conc = []\n",
    "    met_lb = lb;\n",
    "    met_ub = ub;\n",
    "\n",
    "    for i,row in mdf.iterrows():\n",
    "        if row.s < 0:\n",
    "            minG_conc.append(get_concentrations(row.met_id,met_ub))\n",
    "            maxG_conc.append(get_concentrations(row.met_id,met_lb))\n",
    "        else:\n",
    "            minG_conc.append(get_concentrations(row.met_id,met_lb))\n",
    "            maxG_conc.append(get_concentrations(row.met_id,met_ub))\n",
    "\n",
    "    mdf['conc_maxG'] =  maxG_conc;\n",
    "    mdf['conc_minG'] =  minG_conc;\n",
    "    return mdf\n",
    "\n",
    "def dg2dir(maxDg,minDg):\n",
    "    if (maxDg > 0) & (minDg < 0):\n",
    "        return 'reversible'\n",
    "    elif (maxDg > 0) & (minDg > 0):\n",
    "        return 'irreversible (backward)'\n",
    "    else:\n",
    "        return 'irreversible (forward)'\n",
    "    \n",
    "def append_gene_set_with_free_energy_range(model,dfff,lb,ub):\n",
    "\n",
    "    wt_coenzyme = []\n",
    "    mut_coenzyme = []\n",
    "\n",
    "    wt_max_dg = []\n",
    "    wt_min_dg = []\n",
    "\n",
    "    mut_max_dg = []\n",
    "    mut_min_dg = []\n",
    "\n",
    "    for idx,row in dfff.iterrows():\n",
    "        rsub = [x for x in model.reactions if row.reaction == x.id][0]\n",
    "        mdf = parse_reaction_to_df(rsub)\n",
    "        mdf_mut = mdf.copy()\n",
    "        if 'bigg.metabolite:nadph' in mdf['met_id'].tolist():\n",
    "            wt_coenzyme.append('NADP(H)')\n",
    "            mut_coenzyme.append('NAD(H)')\n",
    "            mdf_mut['met_id'] = mdf_mut.met_id.replace({'bigg.metabolite:nadph': 'bigg.metabolite:nadh', 'bigg.metabolite:nadp': 'bigg.metabolite:nad'})\n",
    "        else:\n",
    "            wt_coenzyme.append('NAD(H)')\n",
    "            mut_coenzyme.append('NADP(H)')\n",
    "            mdf_mut['met_id'] = mdf_mut.met_id.replace({'bigg.metabolite:nadh': 'bigg.metabolite:nadph', 'bigg.metabolite:nad': 'bigg.metabolite:nadp'})\n",
    "\n",
    "        mdf = rdf2metConcs(mdf,ub,lb)\n",
    "        mdf_mut = rdf2metConcs(mdf_mut,ub,lb)\n",
    "        wt_max_dg.append(row.deltaG_prime_m + RT * np.log(np.prod(mdf['conc_maxG'] ** mdf['s'])))\n",
    "        wt_min_dg.append(row.deltaG_prime_m + RT * np.log(np.prod(mdf['conc_minG'] ** mdf['s'])))\n",
    "\n",
    "        mut_max_dg.append(row.deltaG_prime_m + RT * np.log(np.prod(mdf_mut['conc_maxG'] ** mdf_mut['s'])))\n",
    "        mut_min_dg.append(row.deltaG_prime_m + RT * np.log(np.prod(mdf_mut['conc_minG'] ** mdf_mut['s'])))\n",
    "        \n",
    "    dfff['wild type coenzyme'] = wt_coenzyme\n",
    "    dfff['mutant coenzyme'] = mut_coenzyme\n",
    "\n",
    "    dfff['max_deltaG (WT)'] = wt_max_dg\n",
    "    dfff['min_deltaG (WT)'] = wt_min_dg\n",
    "\n",
    "    dfff['max_deltaG (mutant)'] = mut_max_dg\n",
    "    dfff['min_deltaG (mutant)'] = mut_min_dg\n",
    "        \n",
    "    mut_dir  = [];\n",
    "    wt_dir = []\n",
    "    for idx,row in dfff.iterrows():\n",
    "        wt_dir.append(dg2dir(row['max_deltaG (WT)'],row['min_deltaG (WT)']))\n",
    "        mut_dir.append(dg2dir(row['max_deltaG (mutant)'],row['min_deltaG (mutant)']))\n",
    "\n",
    "    dfff['direction (wild type)'] = wt_dir\n",
    "    dfff['direction (mutant)'] = mut_dir\n",
    "    return dfff\n",
    "\n",
    "\n",
    "def swap_reaction(model,reaction_index,thermo):\n",
    "    met = {}\n",
    "    met['nad'] = np.where([x.id == 'nad_c' for x in model.metabolites])[0][0]\n",
    "    met['nadp'] = np.where([x.id == 'nadp_c' for x in model.metabolites])[0][0]\n",
    "    met['nadh'] = np.where([x.id == 'nadh_c' for x in model.metabolites])[0][0]\n",
    "    met['nadph'] = np.where([x.id == 'nadph_c' for x in model.metabolites])[0][0]\n",
    "\n",
    "    met_objs = {}\n",
    "    met_objs['nad'] = [x for x in model.metabolites if x.id == 'nad_c'][0]\n",
    "    met_objs['nadh'] = [x for x in model.metabolites if x.id == 'nadh_c'][0]\n",
    "    met_objs['nadp'] = [x for x in model.metabolites if x.id == 'nadp_c'][0]\n",
    "    met_objs['nadph'] = [x for x in model.metabolites if x.id == 'nadph_c'][0]\n",
    "    \n",
    "    rxn = model.reactions[reaction_index].copy()\n",
    "    # make a new dictionary with coenzyme swapped\n",
    "    v = {x:y for x,y in rxn.metabolites.items() if x.id in [x + '_c' for x in list(met)]}\n",
    "\n",
    "    v2 = {}\n",
    "    for x,y in v.items():\n",
    "        if x.id == 'nadph_c':\n",
    "            v2[met_objs['nadh']] = y\n",
    "        elif x.id == 'nadp_c':\n",
    "            v2[met_objs['nad']] = y\n",
    "        elif x.id == 'nadh_c':\n",
    "            v2[met_objs['nadph']] = y\n",
    "        elif x.id == 'nad_c':\n",
    "            v2[met_objs['nadp']] = y\n",
    "            \n",
    "    rxn.subtract_metabolites(v)\n",
    "    rxn.add_metabolites(v2)\n",
    "    rxn.id = rxn.id + '[mutant]'\n",
    "    if thermo == 'irreversible (forward)':\n",
    "        rxn.lower_bound = 0;rxn.upper_bound = 1000;\n",
    "    elif thermo == 'irreversible (backward)':\n",
    "        rxn.lower_bound = -1000;rxn.upper_bound = 0;\n",
    "    elif thermo == 'reversible':\n",
    "        rxn.lower_bound = -1000;rxn.upper_bound = 1000;\n",
    "    \n",
    "        \n",
    "    model.remove_reactions(m.reactions[reaction_index])\n",
    "    model.add_reaction(rxn)\n",
    "    return model"
   ]
  },
  {
   "cell_type": "code",
   "execution_count": 4,
   "metadata": {},
   "outputs": [],
   "source": [
    "df = pd.read_hdf('../scc/growthRates.rxnBounds.hdf','df')"
   ]
  },
  {
   "cell_type": "code",
   "execution_count": 5,
   "metadata": {},
   "outputs": [],
   "source": [
    "# only keep WT growth rates\n",
    "#df = df.fillna(0)\n",
    "df = df.clip(0)\n",
    "wt_conds = [x for x in list(df) if x.split('_')[-1] == 'R']\n",
    "df_err = df[(df[wt_conds] == 0).T.sum() == 0]"
   ]
  },
  {
   "cell_type": "code",
   "execution_count": 6,
   "metadata": {},
   "outputs": [],
   "source": [
    "frac = (df_err < 1e-9).sum() / len(df_err)\n",
    "frac = pd.DataFrame(frac,columns=['lethal fraction'])"
   ]
  },
  {
   "cell_type": "code",
   "execution_count": 7,
   "metadata": {},
   "outputs": [],
   "source": [
    "frac['reaction'] = [x.split('_')[0] for x in frac.index.get_level_values(0)]\n",
    "frac['coenzyme'] = [x.split('_')[1] for x in frac.index.get_level_values(0)]\n",
    "frac['direction'] = [x.split('_')[2] for x in frac.index.get_level_values(0)]"
   ]
  },
  {
   "cell_type": "code",
   "execution_count": 8,
   "metadata": {},
   "outputs": [],
   "source": [
    "fr = frac[frac['direction'].isin(['F','B'])]"
   ]
  },
  {
   "cell_type": "code",
   "execution_count": 9,
   "metadata": {},
   "outputs": [],
   "source": [
    "#sns.catplot(y='lethal fraction',x='reaction',hue='coenzyme',data=fr)"
   ]
  },
  {
   "cell_type": "code",
   "execution_count": 10,
   "metadata": {},
   "outputs": [],
   "source": [
    "frr = fr.pivot_table(index='reaction',columns = ['coenzyme','direction'],values='lethal fraction' )"
   ]
  },
  {
   "cell_type": "code",
   "execution_count": 11,
   "metadata": {},
   "outputs": [
    {
     "data": {
      "text/html": [
       "<div>\n",
       "<style scoped>\n",
       "    .dataframe tbody tr th:only-of-type {\n",
       "        vertical-align: middle;\n",
       "    }\n",
       "\n",
       "    .dataframe tbody tr th {\n",
       "        vertical-align: top;\n",
       "    }\n",
       "\n",
       "    .dataframe thead tr th {\n",
       "        text-align: left;\n",
       "    }\n",
       "\n",
       "    .dataframe thead tr:last-of-type th {\n",
       "        text-align: right;\n",
       "    }\n",
       "</style>\n",
       "<table border=\"1\" class=\"dataframe\">\n",
       "  <thead>\n",
       "    <tr>\n",
       "      <th>coenzyme</th>\n",
       "      <th colspan=\"2\" halign=\"left\">NAD</th>\n",
       "      <th colspan=\"2\" halign=\"left\">NADP</th>\n",
       "    </tr>\n",
       "    <tr>\n",
       "      <th>direction</th>\n",
       "      <th>B</th>\n",
       "      <th>F</th>\n",
       "      <th>B</th>\n",
       "      <th>F</th>\n",
       "    </tr>\n",
       "    <tr>\n",
       "      <th>reaction</th>\n",
       "      <th></th>\n",
       "      <th></th>\n",
       "      <th></th>\n",
       "      <th></th>\n",
       "    </tr>\n",
       "  </thead>\n",
       "  <tbody>\n",
       "    <tr>\n",
       "      <th>5DGLCNR</th>\n",
       "      <td>0.000109</td>\n",
       "      <td>0.000000</td>\n",
       "      <td>0.000109</td>\n",
       "      <td>0.000000</td>\n",
       "    </tr>\n",
       "    <tr>\n",
       "      <th>ABUTD</th>\n",
       "      <td>0.000000</td>\n",
       "      <td>0.000000</td>\n",
       "      <td>0.000000</td>\n",
       "      <td>0.000000</td>\n",
       "    </tr>\n",
       "    <tr>\n",
       "      <th>AGPR</th>\n",
       "      <td>0.000000</td>\n",
       "      <td>0.961217</td>\n",
       "      <td>0.000000</td>\n",
       "      <td>0.961217</td>\n",
       "    </tr>\n",
       "    <tr>\n",
       "      <th>AKGDH</th>\n",
       "      <td>0.000000</td>\n",
       "      <td>0.000000</td>\n",
       "      <td>0.000000</td>\n",
       "      <td>0.000000</td>\n",
       "    </tr>\n",
       "    <tr>\n",
       "      <th>ALCD19</th>\n",
       "      <td>0.000109</td>\n",
       "      <td>0.000000</td>\n",
       "      <td>0.000109</td>\n",
       "      <td>0.000000</td>\n",
       "    </tr>\n",
       "    <tr>\n",
       "      <th>...</th>\n",
       "      <td>...</td>\n",
       "      <td>...</td>\n",
       "      <td>...</td>\n",
       "      <td>...</td>\n",
       "    </tr>\n",
       "    <tr>\n",
       "      <th>UAPGR</th>\n",
       "      <td>0.995378</td>\n",
       "      <td>0.000000</td>\n",
       "      <td>0.995378</td>\n",
       "      <td>0.000000</td>\n",
       "    </tr>\n",
       "    <tr>\n",
       "      <th>UDPGD</th>\n",
       "      <td>0.000000</td>\n",
       "      <td>0.000000</td>\n",
       "      <td>0.000000</td>\n",
       "      <td>0.000000</td>\n",
       "    </tr>\n",
       "    <tr>\n",
       "      <th>UDPGDC</th>\n",
       "      <td>0.000000</td>\n",
       "      <td>0.000000</td>\n",
       "      <td>0.000000</td>\n",
       "      <td>0.000000</td>\n",
       "    </tr>\n",
       "    <tr>\n",
       "      <th>URDGLYCD</th>\n",
       "      <td>0.000000</td>\n",
       "      <td>0.000000</td>\n",
       "      <td>0.000000</td>\n",
       "      <td>0.000000</td>\n",
       "    </tr>\n",
       "    <tr>\n",
       "      <th>XAND</th>\n",
       "      <td>0.045657</td>\n",
       "      <td>0.000000</td>\n",
       "      <td>0.045657</td>\n",
       "      <td>0.000000</td>\n",
       "    </tr>\n",
       "  </tbody>\n",
       "</table>\n",
       "<p>95 rows × 4 columns</p>\n",
       "</div>"
      ],
      "text/plain": [
       "coenzyme        NAD                NADP          \n",
       "direction         B         F         B         F\n",
       "reaction                                         \n",
       "5DGLCNR    0.000109  0.000000  0.000109  0.000000\n",
       "ABUTD      0.000000  0.000000  0.000000  0.000000\n",
       "AGPR       0.000000  0.961217  0.000000  0.961217\n",
       "AKGDH      0.000000  0.000000  0.000000  0.000000\n",
       "ALCD19     0.000109  0.000000  0.000109  0.000000\n",
       "...             ...       ...       ...       ...\n",
       "UAPGR      0.995378  0.000000  0.995378  0.000000\n",
       "UDPGD      0.000000  0.000000  0.000000  0.000000\n",
       "UDPGDC     0.000000  0.000000  0.000000  0.000000\n",
       "URDGLYCD   0.000000  0.000000  0.000000  0.000000\n",
       "XAND       0.045657  0.000000  0.045657  0.000000\n",
       "\n",
       "[95 rows x 4 columns]"
      ]
     },
     "execution_count": 11,
     "metadata": {},
     "output_type": "execute_result"
    }
   ],
   "source": [
    "frr"
   ]
  },
  {
   "cell_type": "code",
   "execution_count": 12,
   "metadata": {},
   "outputs": [
    {
     "data": {
      "text/plain": [
       "<seaborn.matrix.ClusterGrid at 0x7fa786d87dd8>"
      ]
     },
     "execution_count": 12,
     "metadata": {},
     "output_type": "execute_result"
    },
    {
     "data": {
      "image/png": "[encoded data removed]",
      "text/plain": [
       "<Figure size 1152x216 with 4 Axes>"
      ]
     },
     "metadata": {
      "needs_background": "light"
     },
     "output_type": "display_data"
    }
   ],
   "source": [
    "#rmap = {'NAD': 'r', 'NADP': 'b'}\n",
    "#row_colors = frr.T.index.get_level_values(0).map(rmap)\n",
    "\n",
    "sns.clustermap(frr.T,figsize =(16,3),cmap='RdBu',xticklabels=True)\n",
    "#plt.yticks(rotation=90)\n"
   ]
  },
  {
   "cell_type": "code",
   "execution_count": 14,
   "metadata": {},
   "outputs": [],
   "source": [
    "model = cobra.io.read_sbml_model('../assets/iJO1366.xml')\n",
    "mets_model = [x.id for x in model.metabolites]"
   ]
  },
  {
   "cell_type": "code",
   "execution_count": 366,
   "metadata": {},
   "outputs": [],
   "source": [
    "#met_conc = pd.read_csv('../assets/metabolite_abundances/ecoli_met_concs_Park_NatChemBio_2016.csv')\n",
    "#met_conc['met_id'] = met_conc['met'].apply(lambda x: x.replace(']','').replace('[','_').replace('-','__'))\n",
    "#m = met_conc[met_conc['conc_lb'] > 0]"
   ]
  },
  {
   "cell_type": "code",
   "execution_count": 15,
   "metadata": {},
   "outputs": [],
   "source": [
    "met_conc = pd.read_csv('../assets/metabolite_concs.csv')\n",
    "rxn_dg = pd.read_csv('../assets/EC_1.X.1.X.Unique_NAD(P)_Coupled.GeneSet.Thermo.csv')"
   ]
  },
  {
   "cell_type": "code",
   "execution_count": 16,
   "metadata": {},
   "outputs": [],
   "source": [
    "rxns = frr.index.get_level_values(0).tolist()"
   ]
  },
  {
   "cell_type": "code",
   "execution_count": null,
   "metadata": {},
   "outputs": [],
   "source": [
    "NumSims = 1000\n",
    "p_forward = []\n",
    "p_reverse = []\n",
    "coenzyme = []\n",
    "rns = []\n",
    "wt = []\n",
    "\n",
    "for idx,row in rxn_dg.iterrows():\n",
    "    rsub = [x for x in model.reactions if x.id == row.reaction][0].copy()\n",
    "    rdf = parse_reaction_to_df(rsub)\n",
    "    rdf.columns = ['eq_id','id','s']\n",
    "    #rdf['met'] = [x.split(':')[1] for x in rdf.met_id]\n",
    "    # np.random.rand(1)[0]\n",
    "    rdf_mc = rdf.set_index('id').join(met_conc.set_index('met_id'))\n",
    "    rdf_mc['conc_lb'] = rdf_mc['conc_lb'].fillna(1e-9)\n",
    "    rdf_mc['conc_ub'] = rdf_mc['conc_ub'].fillna(0.1)\n",
    "    directions = []\n",
    "    for i in range(0,NumSims):\n",
    "        u = np.random.rand(len(rdf_mc))\n",
    "        rdf_mc['u'] = u\n",
    "        rdf_mc['sample'] = 10**((np.log10(rdf_mc['conc_ub']) - np.log10(rdf_mc['conc_lb']))*u + np.log10(rdf_mc['conc_lb']))\n",
    "        dgg = RT*sum(rdf_mc['sample'].apply(np.log) * rdf_mc['s'])\n",
    "        deltaG = row['deltaG_prime_m'] + dgg\n",
    "        if deltaG < 0:\n",
    "            directions.append(1)\n",
    "        else:\n",
    "            directions.append(-1)\n",
    "            \n",
    "    # compute probability of forward reaction\n",
    "    p_forward.append(sum(np.array(directions)==1)/len(directions))\n",
    "    p_reverse.append(sum(np.array(directions)==-1)/len(directions))\n",
    "\n",
    "\n",
    "    if 'nadph_c' in rdf.id.tolist():\n",
    "        rdfm = rdf.copy(); rdfm['id'] = rdfm.id.replace({'nadph_c':'nadh_c','nadp_c':'nad_c'})\n",
    "        coenzyme.append('NADP');coenzyme.append('NAD');\n",
    "        wt.append('NADP'); wt.append('NADP')\n",
    "    else:\n",
    "        rdfm = rdf.copy(); rdfm['id'] = rdfm.id.replace({'nadh_c':'nadph_c','nad_c':'nadp_c'})\n",
    "        coenzyme.append('NAD');coenzyme.append('NADP');\n",
    "        wt.append('NAD'); wt.append('NAD')\n",
    "    \n",
    "    rdf_mc = rdfm.set_index('id').join(met_conc.set_index('met_id'))\n",
    "    rdf_mc['conc_lb'] = rdf_mc['conc_lb'].fillna(1e-9)\n",
    "    rdf_mc['conc_ub'] = rdf_mc['conc_ub'].fillna(0.1)\n",
    "    directions = []\n",
    "    for i in range(0,NumSims):\n",
    "        u = np.random.rand(len(rdf_mc))\n",
    "        rdf_mc['u'] = u\n",
    "        rdf_mc['sample'] = 10**((np.log10(rdf_mc['conc_ub']) - np.log10(rdf_mc['conc_lb']))*u + np.log10(rdf_mc['conc_lb']))\n",
    "        dgg = RT*sum(rdf_mc['sample'].apply(np.log) * rdf_mc['s'])\n",
    "        deltaG = row['deltaG_prime_m'] + dgg\n",
    "        if deltaG < 0:\n",
    "            directions.append(1)\n",
    "        else:\n",
    "            directions.append(-1)\n",
    "            \n",
    "    p_forward.append(sum(np.array(directions)==1)/len(directions))\n",
    "    p_reverse.append(sum(np.array(directions)==-1)/len(directions))\n",
    "    rns.append(row.reaction);\n",
    "    rns.append(row.reaction);\n",
    "    \n",
    "prob_dirs = pd.DataFrame({'reactions': rns, 'wt_coenzyme':wt, 'coenzyme': coenzyme, 'p_forward': p_forward, 'p_reverse': p_reverse})"
   ]
  },
  {
   "cell_type": "code",
   "execution_count": 18,
   "metadata": {},
   "outputs": [],
   "source": [
    "nad_lethal = []\n",
    "nadp_lethal = []\n",
    "\n",
    "for idx,row in frr.iterrows():\n",
    "    prob_j = prob_dirs[prob_dirs.reactions == idx]\n",
    "    prob_lethal_nad = prob_j[prob_j['coenzyme'] == 'NAD']['p_forward'] * row.loc['NAD'].loc['F'] + prob_j[prob_j['coenzyme'] == 'NAD']['p_reverse'] * row.loc['NAD'].loc['B']\n",
    "    \n",
    "    prob_lethal_nadp = prob_j[prob_j['coenzyme'] == 'NADP']['p_forward'] * row.loc['NADP'].loc['F'] + prob_j[prob_j['coenzyme'] == 'NADP']['p_reverse'] * row.loc['NADP'].loc['B']\n",
    "    nad_lethal.append(prob_lethal_nad.tolist()[0])\n",
    "    nadp_lethal.append(prob_lethal_nadp.tolist()[0])\n",
    "    \n",
    "    "
   ]
  },
  {
   "cell_type": "code",
   "execution_count": 19,
   "metadata": {},
   "outputs": [],
   "source": [
    "pl = pd.DataFrame({'p(lethal|NAD)': nad_lethal ,'p(lethal|NADP)': nadp_lethal },index=frr.index)"
   ]
  },
  {
   "cell_type": "code",
   "execution_count": 20,
   "metadata": {},
   "outputs": [
    {
     "data": {
      "text/plain": [
       "<AxesSubplot:xlabel='p(lethal|NAD)', ylabel='p(lethal|NADP)'>"
      ]
     },
     "execution_count": 20,
     "metadata": {},
     "output_type": "execute_result"
    },
    {
     "data": {
      "image/png": "[encoded data removed]",
      "text/plain": [
       "<Figure size 432x288 with 1 Axes>"
      ]
     },
     "metadata": {
      "needs_background": "light"
     },
     "output_type": "display_data"
    }
   ],
   "source": [
    "sns.scatterplot(x='p(lethal|NAD)',y='p(lethal|NADP)',data=pl)"
   ]
  },
  {
   "cell_type": "code",
   "execution_count": 24,
   "metadata": {},
   "outputs": [
    {
     "data": {
      "text/html": [
       "<div>\n",
       "<style scoped>\n",
       "    .dataframe tbody tr th:only-of-type {\n",
       "        vertical-align: middle;\n",
       "    }\n",
       "\n",
       "    .dataframe tbody tr th {\n",
       "        vertical-align: top;\n",
       "    }\n",
       "\n",
       "    .dataframe thead th {\n",
       "        text-align: right;\n",
       "    }\n",
       "</style>\n",
       "<table border=\"1\" class=\"dataframe\">\n",
       "  <thead>\n",
       "    <tr style=\"text-align: right;\">\n",
       "      <th></th>\n",
       "      <th>p(lethal|NAD)</th>\n",
       "      <th>p(lethal|NADP)</th>\n",
       "    </tr>\n",
       "    <tr>\n",
       "      <th>reaction</th>\n",
       "      <th></th>\n",
       "      <th></th>\n",
       "    </tr>\n",
       "  </thead>\n",
       "  <tbody>\n",
       "    <tr>\n",
       "      <th>GGGABADr</th>\n",
       "      <td>0.000000</td>\n",
       "      <td>0.000000</td>\n",
       "    </tr>\n",
       "    <tr>\n",
       "      <th>GHBDHx</th>\n",
       "      <td>0.000000</td>\n",
       "      <td>0.000000</td>\n",
       "    </tr>\n",
       "    <tr>\n",
       "      <th>GLUDy</th>\n",
       "      <td>0.000000</td>\n",
       "      <td>0.000000</td>\n",
       "    </tr>\n",
       "    <tr>\n",
       "      <th>GLUSy</th>\n",
       "      <td>0.000000</td>\n",
       "      <td>0.000000</td>\n",
       "    </tr>\n",
       "    <tr>\n",
       "      <th>GLYCDx</th>\n",
       "      <td>0.000000</td>\n",
       "      <td>0.000000</td>\n",
       "    </tr>\n",
       "    <tr>\n",
       "      <th>...</th>\n",
       "      <td>...</td>\n",
       "      <td>...</td>\n",
       "    </tr>\n",
       "    <tr>\n",
       "      <th>DXPRIi</th>\n",
       "      <td>0.392179</td>\n",
       "      <td>0.129399</td>\n",
       "    </tr>\n",
       "    <tr>\n",
       "      <th>P5CR</th>\n",
       "      <td>0.512719</td>\n",
       "      <td>0.126015</td>\n",
       "    </tr>\n",
       "    <tr>\n",
       "      <th>ASAD</th>\n",
       "      <td>0.605190</td>\n",
       "      <td>0.251831</td>\n",
       "    </tr>\n",
       "    <tr>\n",
       "      <th>IPMD</th>\n",
       "      <td>0.652968</td>\n",
       "      <td>0.880910</td>\n",
       "    </tr>\n",
       "    <tr>\n",
       "      <th>PERD</th>\n",
       "      <td>0.673865</td>\n",
       "      <td>0.905794</td>\n",
       "    </tr>\n",
       "  </tbody>\n",
       "</table>\n",
       "<p>95 rows × 2 columns</p>\n",
       "</div>"
      ],
      "text/plain": [
       "          p(lethal|NAD)  p(lethal|NADP)\n",
       "reaction                               \n",
       "GGGABADr       0.000000        0.000000\n",
       "GHBDHx         0.000000        0.000000\n",
       "GLUDy          0.000000        0.000000\n",
       "GLUSy          0.000000        0.000000\n",
       "GLYCDx         0.000000        0.000000\n",
       "...                 ...             ...\n",
       "DXPRIi         0.392179        0.129399\n",
       "P5CR           0.512719        0.126015\n",
       "ASAD           0.605190        0.251831\n",
       "IPMD           0.652968        0.880910\n",
       "PERD           0.673865        0.905794\n",
       "\n",
       "[95 rows x 2 columns]"
      ]
     },
     "execution_count": 24,
     "metadata": {},
     "output_type": "execute_result"
    }
   ],
   "source": [
    "pl.sort_values('p(lethal|NAD)')"
   ]
  },
  {
   "cell_type": "code",
   "execution_count": 1,
   "metadata": {},
   "outputs": [
    {
     "ename": "NameError",
     "evalue": "name 'sns' is not defined",
     "output_type": "error",
     "traceback": [
      "\u001b[0;31m---------------------------------------------------------------------------\u001b[0m",
      "\u001b[0;31mNameError\u001b[0m                                 Traceback (most recent call last)",
      "\u001b[0;32m<ipython-input-1-6a9b3d55d92b>\u001b[0m in \u001b[0;36m<module>\u001b[0;34m\u001b[0m\n\u001b[1;32m      1\u001b[0m \u001b[0;31m#sns.displot(pl['p(lethal|NAD)'] - pl['p(lethal|NADP)'])\u001b[0m\u001b[0;34m\u001b[0m\u001b[0;34m\u001b[0m\u001b[0;34m\u001b[0m\u001b[0m\n\u001b[0;32m----> 2\u001b[0;31m \u001b[0msns\u001b[0m\u001b[0;34m.\u001b[0m\u001b[0mdisplot\u001b[0m\u001b[0;34m(\u001b[0m\u001b[0mx\u001b[0m\u001b[0;34m=\u001b[0m\u001b[0;34m'p(lethal|NAD)'\u001b[0m\u001b[0;34m,\u001b[0m\u001b[0my\u001b[0m\u001b[0;34m=\u001b[0m\u001b[0;34m'p(lethal|NADP)'\u001b[0m\u001b[0;34m,\u001b[0m\u001b[0mdata\u001b[0m\u001b[0;34m=\u001b[0m\u001b[0mpl\u001b[0m\u001b[0;34m)\u001b[0m\u001b[0;34m\u001b[0m\u001b[0;34m\u001b[0m\u001b[0m\n\u001b[0m",
      "\u001b[0;31mNameError\u001b[0m: name 'sns' is not defined"
     ]
    }
   ],
   "source": [
    "#sns.displot(pl['p(lethal|NAD)'] - pl['p(lethal|NADP)'])\n",
    "sns.displot(x='p(lethal|NAD)',y='p(lethal|NADP)',data=pl,)"
   ]
  },
  {
   "cell_type": "code",
   "execution_count": 128,
   "metadata": {},
   "outputs": [],
   "source": [
    "labels = ['PC' + str(x[0]) + ' [' + str(round(x[1],2)*100)+'%]' for x in list(zip(range(1,3),pca.explained_variance_ratio_))]"
   ]
  },
  {
   "cell_type": "code",
   "execution_count": 130,
   "metadata": {},
   "outputs": [],
   "source": [
    "pdf = pd.DataFrame(pca.transform(X),columns = labels,index=dfn.T.index)"
   ]
  },
  {
   "cell_type": "code",
   "execution_count": 135,
   "metadata": {},
   "outputs": [],
   "source": [
    "pdf = pd.DataFrame(pca.transform(X),columns = labels,index=dfn.T.index)\n",
    "\n",
    "z = pd.DataFrame(dfn.mean(),columns = ['mean_ngrowth_rate'])\n",
    "z2 = pd.DataFrame(dfn.min(),columns = ['min_ngrowth_rate'])\n",
    "pdf['gene'] = [x.split('_')[0] for x in pdf.index.get_level_values(0)]\n",
    "pdf['coenzyme'] = [x.split('_')[1] for x in pdf.index.get_level_values(0)]\n",
    "pdf['direction'] = [x.split('_')[2] for x in pdf.index.get_level_values(0)]\n",
    "pdf = pdf.join(z).join(z2)"
   ]
  },
  {
   "cell_type": "code",
   "execution_count": 271,
   "metadata": {},
   "outputs": [
    {
     "data": {
      "text/html": [
       "<div>\n",
       "<style scoped>\n",
       "    .dataframe tbody tr th:only-of-type {\n",
       "        vertical-align: middle;\n",
       "    }\n",
       "\n",
       "    .dataframe tbody tr th {\n",
       "        vertical-align: top;\n",
       "    }\n",
       "\n",
       "    .dataframe thead th {\n",
       "        text-align: right;\n",
       "    }\n",
       "</style>\n",
       "<table border=\"1\" class=\"dataframe\">\n",
       "  <thead>\n",
       "    <tr style=\"text-align: right;\">\n",
       "      <th></th>\n",
       "      <th>PC1 [91.0%]</th>\n",
       "      <th>PC2 [7.000000000000001%]</th>\n",
       "      <th>gene</th>\n",
       "      <th>coenzyme</th>\n",
       "      <th>direction</th>\n",
       "      <th>mean_ngrowth_rate</th>\n",
       "      <th>min_ngrowth_rate</th>\n",
       "    </tr>\n",
       "  </thead>\n",
       "  <tbody>\n",
       "    <tr>\n",
       "      <th>PGCD_NADP_F</th>\n",
       "      <td>-173.783845</td>\n",
       "      <td>-22.651543</td>\n",
       "      <td>PGCD</td>\n",
       "      <td>NADP</td>\n",
       "      <td>F</td>\n",
       "      <td>0.991488</td>\n",
       "      <td>-16.551616</td>\n",
       "    </tr>\n",
       "    <tr>\n",
       "      <th>KARA1_NAD_B</th>\n",
       "      <td>-173.656250</td>\n",
       "      <td>-22.515988</td>\n",
       "      <td>KARA1</td>\n",
       "      <td>NAD</td>\n",
       "      <td>B</td>\n",
       "      <td>1.002189</td>\n",
       "      <td>-43.231863</td>\n",
       "    </tr>\n",
       "    <tr>\n",
       "      <th>PDH_NADP_R</th>\n",
       "      <td>-170.983422</td>\n",
       "      <td>-24.752036</td>\n",
       "      <td>PDH</td>\n",
       "      <td>NADP</td>\n",
       "      <td>R</td>\n",
       "      <td>1.019639</td>\n",
       "      <td>-19.185398</td>\n",
       "    </tr>\n",
       "    <tr>\n",
       "      <th>HISTD_NAD_B</th>\n",
       "      <td>-194.868541</td>\n",
       "      <td>-12.084450</td>\n",
       "      <td>HISTD</td>\n",
       "      <td>NAD</td>\n",
       "      <td>B</td>\n",
       "      <td>0.000000</td>\n",
       "      <td>0.000000</td>\n",
       "    </tr>\n",
       "    <tr>\n",
       "      <th>G6PDH2r_NADP_R</th>\n",
       "      <td>-173.849084</td>\n",
       "      <td>-22.779248</td>\n",
       "      <td>G6PDH2r</td>\n",
       "      <td>NADP</td>\n",
       "      <td>R</td>\n",
       "      <td>0.988611</td>\n",
       "      <td>-23.640029</td>\n",
       "    </tr>\n",
       "    <tr>\n",
       "      <th>...</th>\n",
       "      <td>...</td>\n",
       "      <td>...</td>\n",
       "      <td>...</td>\n",
       "      <td>...</td>\n",
       "      <td>...</td>\n",
       "      <td>...</td>\n",
       "      <td>...</td>\n",
       "    </tr>\n",
       "    <tr>\n",
       "      <th>PDH_NADP_B</th>\n",
       "      <td>-174.765322</td>\n",
       "      <td>-22.350268</td>\n",
       "      <td>PDH</td>\n",
       "      <td>NADP</td>\n",
       "      <td>B</td>\n",
       "      <td>0.939422</td>\n",
       "      <td>-22.004470</td>\n",
       "    </tr>\n",
       "    <tr>\n",
       "      <th>TAGURr_NAD_B</th>\n",
       "      <td>-173.852865</td>\n",
       "      <td>-22.476207</td>\n",
       "      <td>TAGURr</td>\n",
       "      <td>NAD</td>\n",
       "      <td>B</td>\n",
       "      <td>0.989393</td>\n",
       "      <td>-26.053451</td>\n",
       "    </tr>\n",
       "    <tr>\n",
       "      <th>FADRx_NADP_R</th>\n",
       "      <td>-137.485918</td>\n",
       "      <td>-40.013039</td>\n",
       "      <td>FADRx</td>\n",
       "      <td>NADP</td>\n",
       "      <td>R</td>\n",
       "      <td>1.015885</td>\n",
       "      <td>-25.037236</td>\n",
       "    </tr>\n",
       "    <tr>\n",
       "      <th>LALDO2x_NAD_B</th>\n",
       "      <td>-173.857303</td>\n",
       "      <td>-22.648973</td>\n",
       "      <td>LALDO2x</td>\n",
       "      <td>NAD</td>\n",
       "      <td>B</td>\n",
       "      <td>0.990330</td>\n",
       "      <td>-23.924105</td>\n",
       "    </tr>\n",
       "    <tr>\n",
       "      <th>G3PD2_NADP_R</th>\n",
       "      <td>-173.892290</td>\n",
       "      <td>-22.638271</td>\n",
       "      <td>G3PD2</td>\n",
       "      <td>NADP</td>\n",
       "      <td>R</td>\n",
       "      <td>0.991776</td>\n",
       "      <td>-16.090690</td>\n",
       "    </tr>\n",
       "  </tbody>\n",
       "</table>\n",
       "<p>570 rows × 7 columns</p>\n",
       "</div>"
      ],
      "text/plain": [
       "                PC1 [91.0%]  PC2 [7.000000000000001%]     gene coenzyme  \\\n",
       "PGCD_NADP_F     -173.783845                -22.651543     PGCD     NADP   \n",
       "KARA1_NAD_B     -173.656250                -22.515988    KARA1      NAD   \n",
       "PDH_NADP_R      -170.983422                -24.752036      PDH     NADP   \n",
       "HISTD_NAD_B     -194.868541                -12.084450    HISTD      NAD   \n",
       "G6PDH2r_NADP_R  -173.849084                -22.779248  G6PDH2r     NADP   \n",
       "...                     ...                       ...      ...      ...   \n",
       "PDH_NADP_B      -174.765322                -22.350268      PDH     NADP   \n",
       "TAGURr_NAD_B    -173.852865                -22.476207   TAGURr      NAD   \n",
       "FADRx_NADP_R    -137.485918                -40.013039    FADRx     NADP   \n",
       "LALDO2x_NAD_B   -173.857303                -22.648973  LALDO2x      NAD   \n",
       "G3PD2_NADP_R    -173.892290                -22.638271    G3PD2     NADP   \n",
       "\n",
       "               direction  mean_ngrowth_rate  min_ngrowth_rate  \n",
       "PGCD_NADP_F            F           0.991488        -16.551616  \n",
       "KARA1_NAD_B            B           1.002189        -43.231863  \n",
       "PDH_NADP_R             R           1.019639        -19.185398  \n",
       "HISTD_NAD_B            B           0.000000          0.000000  \n",
       "G6PDH2r_NADP_R         R           0.988611        -23.640029  \n",
       "...                  ...                ...               ...  \n",
       "PDH_NADP_B             B           0.939422        -22.004470  \n",
       "TAGURr_NAD_B           B           0.989393        -26.053451  \n",
       "FADRx_NADP_R           R           1.015885        -25.037236  \n",
       "LALDO2x_NAD_B          B           0.990330        -23.924105  \n",
       "G3PD2_NADP_R           R           0.991776        -16.090690  \n",
       "\n",
       "[570 rows x 7 columns]"
      ]
     },
     "execution_count": 271,
     "metadata": {},
     "output_type": "execute_result"
    }
   ],
   "source": []
  },
  {
   "cell_type": "code",
   "execution_count": 269,
   "metadata": {},
   "outputs": [],
   "source": [
    "#sns.scatterplot(x=labels[0],y=labels[1],data=pdf,hue='direction',size='mean_ngrowth_rate')"
   ]
  },
  {
   "cell_type": "code",
   "execution_count": 270,
   "metadata": {},
   "outputs": [],
   "source": [
    "#sns.scatterplot(x=labels[0],y='mean_ngrowth_rate',data=pdf)"
   ]
  },
  {
   "cell_type": "code",
   "execution_count": 139,
   "metadata": {},
   "outputs": [
    {
     "data": {
      "text/plain": [
       "<seaborn.matrix.ClusterGrid at 0x7f8ac8b59eb8>"
      ]
     },
     "execution_count": 139,
     "metadata": {},
     "output_type": "execute_result"
    },
    {
     "data": {
      "image/png": "[encoded data removed]",
      "text/plain": [
       "<Figure size 720x720 with 4 Axes>"
      ]
     },
     "metadata": {
      "needs_background": "light"
     },
     "output_type": "display_data"
    }
   ],
   "source": [
    "sns.clustermap(pdf.pivot_table(index='gene',columns=['direction'],values='mean_ngrowth_rate'))"
   ]
  },
  {
   "cell_type": "code",
   "execution_count": 146,
   "metadata": {},
   "outputs": [
    {
     "data": {
      "text/plain": [
       "KARA1_NADP_R           0\n",
       "ME1_NAD_B            816\n",
       "ALDD2x_NAD_B         817\n",
       "ATHRDHr_NADP_F       824\n",
       "G6PDH2r_NAD_F        828\n",
       "                   ...  \n",
       "HISTD_NADP_B      111157\n",
       "ASAD_NAD_F        111157\n",
       "IPMD_NADP_B       111157\n",
       "IPMD_NAD_B        111157\n",
       "KARA1_NAD_F       111157\n",
       "Length: 570, dtype: int64"
      ]
     },
     "execution_count": 146,
     "metadata": {},
     "output_type": "execute_result"
    }
   ],
   "source": [
    "(dfn < 1e-3).sum().sort_values()"
   ]
  },
  {
   "cell_type": "code",
   "execution_count": 147,
   "metadata": {},
   "outputs": [],
   "source": [
    "e = (dfn < 1e-3).sum()"
   ]
  },
  {
   "cell_type": "code",
   "execution_count": 153,
   "metadata": {},
   "outputs": [
    {
     "data": {
      "text/plain": [
       "<seaborn.axisgrid.FacetGrid at 0x7f8ad42b74a8>"
      ]
     },
     "execution_count": 153,
     "metadata": {},
     "output_type": "execute_result"
    },
    {
     "data": {
      "image/png": "[encoded data removed]",
      "text/plain": [
       "<Figure size 360x360 with 1 Axes>"
      ]
     },
     "metadata": {
      "needs_background": "light"
     },
     "output_type": "display_data"
    }
   ],
   "source": [
    "sns.displot(e.apply(np.log10),kind='ecdf')"
   ]
  },
  {
   "cell_type": "code",
   "execution_count": 160,
   "metadata": {},
   "outputs": [],
   "source": [
    "zg = pd.DataFrame([x.split('_') for  x in e[e > 1e4].index.tolist()],columns = ['gene','coenzyme','direction'])"
   ]
  },
  {
   "cell_type": "code",
   "execution_count": 162,
   "metadata": {},
   "outputs": [
    {
     "data": {
      "text/html": [
       "<div>\n",
       "<style scoped>\n",
       "    .dataframe tbody tr th:only-of-type {\n",
       "        vertical-align: middle;\n",
       "    }\n",
       "\n",
       "    .dataframe tbody tr th {\n",
       "        vertical-align: top;\n",
       "    }\n",
       "\n",
       "    .dataframe thead th {\n",
       "        text-align: right;\n",
       "    }\n",
       "</style>\n",
       "<table border=\"1\" class=\"dataframe\">\n",
       "  <thead>\n",
       "    <tr style=\"text-align: right;\">\n",
       "      <th></th>\n",
       "      <th>gene</th>\n",
       "      <th>coenzyme</th>\n",
       "      <th>direction</th>\n",
       "    </tr>\n",
       "  </thead>\n",
       "  <tbody>\n",
       "    <tr>\n",
       "      <th>32</th>\n",
       "      <td>AGPR</td>\n",
       "      <td>NADP</td>\n",
       "      <td>F</td>\n",
       "    </tr>\n",
       "    <tr>\n",
       "      <th>35</th>\n",
       "      <td>AGPR</td>\n",
       "      <td>NAD</td>\n",
       "      <td>F</td>\n",
       "    </tr>\n",
       "    <tr>\n",
       "      <th>5</th>\n",
       "      <td>APRAUR</td>\n",
       "      <td>NADP</td>\n",
       "      <td>B</td>\n",
       "    </tr>\n",
       "    <tr>\n",
       "      <th>6</th>\n",
       "      <td>APRAUR</td>\n",
       "      <td>NAD</td>\n",
       "      <td>B</td>\n",
       "    </tr>\n",
       "    <tr>\n",
       "      <th>24</th>\n",
       "      <td>ASAD</td>\n",
       "      <td>NADP</td>\n",
       "      <td>F</td>\n",
       "    </tr>\n",
       "    <tr>\n",
       "      <th>10</th>\n",
       "      <td>ASAD</td>\n",
       "      <td>NAD</td>\n",
       "      <td>F</td>\n",
       "    </tr>\n",
       "    <tr>\n",
       "      <th>8</th>\n",
       "      <td>DHDPRy</td>\n",
       "      <td>NAD</td>\n",
       "      <td>B</td>\n",
       "    </tr>\n",
       "    <tr>\n",
       "      <th>15</th>\n",
       "      <td>DHDPRy</td>\n",
       "      <td>NADP</td>\n",
       "      <td>B</td>\n",
       "    </tr>\n",
       "    <tr>\n",
       "      <th>3</th>\n",
       "      <td>DXPRIi</td>\n",
       "      <td>NAD</td>\n",
       "      <td>B</td>\n",
       "    </tr>\n",
       "    <tr>\n",
       "      <th>23</th>\n",
       "      <td>DXPRIi</td>\n",
       "      <td>NADP</td>\n",
       "      <td>B</td>\n",
       "    </tr>\n",
       "    <tr>\n",
       "      <th>29</th>\n",
       "      <td>G3PD2</td>\n",
       "      <td>NADP</td>\n",
       "      <td>F</td>\n",
       "    </tr>\n",
       "    <tr>\n",
       "      <th>21</th>\n",
       "      <td>G3PD2</td>\n",
       "      <td>NAD</td>\n",
       "      <td>F</td>\n",
       "    </tr>\n",
       "    <tr>\n",
       "      <th>12</th>\n",
       "      <td>GAPD</td>\n",
       "      <td>NADP</td>\n",
       "      <td>F</td>\n",
       "    </tr>\n",
       "    <tr>\n",
       "      <th>30</th>\n",
       "      <td>GAPD</td>\n",
       "      <td>NAD</td>\n",
       "      <td>F</td>\n",
       "    </tr>\n",
       "    <tr>\n",
       "      <th>9</th>\n",
       "      <td>GCALDD</td>\n",
       "      <td>NADP</td>\n",
       "      <td>B</td>\n",
       "    </tr>\n",
       "    <tr>\n",
       "      <th>2</th>\n",
       "      <td>GCALDD</td>\n",
       "      <td>NAD</td>\n",
       "      <td>B</td>\n",
       "    </tr>\n",
       "    <tr>\n",
       "      <th>0</th>\n",
       "      <td>HISTD</td>\n",
       "      <td>NAD</td>\n",
       "      <td>B</td>\n",
       "    </tr>\n",
       "    <tr>\n",
       "      <th>7</th>\n",
       "      <td>HISTD</td>\n",
       "      <td>NADP</td>\n",
       "      <td>B</td>\n",
       "    </tr>\n",
       "    <tr>\n",
       "      <th>38</th>\n",
       "      <td>ICDHyr</td>\n",
       "      <td>NAD</td>\n",
       "      <td>B</td>\n",
       "    </tr>\n",
       "    <tr>\n",
       "      <th>1</th>\n",
       "      <td>ICDHyr</td>\n",
       "      <td>NADP</td>\n",
       "      <td>B</td>\n",
       "    </tr>\n",
       "    <tr>\n",
       "      <th>11</th>\n",
       "      <td>IPMD</td>\n",
       "      <td>NADP</td>\n",
       "      <td>B</td>\n",
       "    </tr>\n",
       "    <tr>\n",
       "      <th>28</th>\n",
       "      <td>IPMD</td>\n",
       "      <td>NAD</td>\n",
       "      <td>B</td>\n",
       "    </tr>\n",
       "    <tr>\n",
       "      <th>33</th>\n",
       "      <td>KARA1</td>\n",
       "      <td>NAD</td>\n",
       "      <td>F</td>\n",
       "    </tr>\n",
       "    <tr>\n",
       "      <th>34</th>\n",
       "      <td>KARA1</td>\n",
       "      <td>NADP</td>\n",
       "      <td>F</td>\n",
       "    </tr>\n",
       "    <tr>\n",
       "      <th>39</th>\n",
       "      <td>KARA2</td>\n",
       "      <td>NADP</td>\n",
       "      <td>B</td>\n",
       "    </tr>\n",
       "    <tr>\n",
       "      <th>19</th>\n",
       "      <td>KARA2</td>\n",
       "      <td>NAD</td>\n",
       "      <td>B</td>\n",
       "    </tr>\n",
       "    <tr>\n",
       "      <th>13</th>\n",
       "      <td>MTHFR2</td>\n",
       "      <td>NAD</td>\n",
       "      <td>B</td>\n",
       "    </tr>\n",
       "    <tr>\n",
       "      <th>22</th>\n",
       "      <td>MTHFR2</td>\n",
       "      <td>NADP</td>\n",
       "      <td>B</td>\n",
       "    </tr>\n",
       "    <tr>\n",
       "      <th>37</th>\n",
       "      <td>P5CR</td>\n",
       "      <td>NAD</td>\n",
       "      <td>B</td>\n",
       "    </tr>\n",
       "    <tr>\n",
       "      <th>27</th>\n",
       "      <td>P5CR</td>\n",
       "      <td>NADP</td>\n",
       "      <td>B</td>\n",
       "    </tr>\n",
       "    <tr>\n",
       "      <th>36</th>\n",
       "      <td>PDX5PS</td>\n",
       "      <td>NAD</td>\n",
       "      <td>B</td>\n",
       "    </tr>\n",
       "    <tr>\n",
       "      <th>14</th>\n",
       "      <td>PDX5PS</td>\n",
       "      <td>NADP</td>\n",
       "      <td>B</td>\n",
       "    </tr>\n",
       "    <tr>\n",
       "      <th>41</th>\n",
       "      <td>PERD</td>\n",
       "      <td>NAD</td>\n",
       "      <td>B</td>\n",
       "    </tr>\n",
       "    <tr>\n",
       "      <th>25</th>\n",
       "      <td>PERD</td>\n",
       "      <td>NADP</td>\n",
       "      <td>B</td>\n",
       "    </tr>\n",
       "    <tr>\n",
       "      <th>18</th>\n",
       "      <td>PPND</td>\n",
       "      <td>NADP</td>\n",
       "      <td>B</td>\n",
       "    </tr>\n",
       "    <tr>\n",
       "      <th>31</th>\n",
       "      <td>PPND</td>\n",
       "      <td>NAD</td>\n",
       "      <td>B</td>\n",
       "    </tr>\n",
       "    <tr>\n",
       "      <th>17</th>\n",
       "      <td>SHCHD2</td>\n",
       "      <td>NADP</td>\n",
       "      <td>B</td>\n",
       "    </tr>\n",
       "    <tr>\n",
       "      <th>16</th>\n",
       "      <td>SHCHD2</td>\n",
       "      <td>NAD</td>\n",
       "      <td>B</td>\n",
       "    </tr>\n",
       "    <tr>\n",
       "      <th>4</th>\n",
       "      <td>SULR</td>\n",
       "      <td>NADP</td>\n",
       "      <td>B</td>\n",
       "    </tr>\n",
       "    <tr>\n",
       "      <th>20</th>\n",
       "      <td>SULR</td>\n",
       "      <td>NAD</td>\n",
       "      <td>B</td>\n",
       "    </tr>\n",
       "    <tr>\n",
       "      <th>26</th>\n",
       "      <td>UAPGR</td>\n",
       "      <td>NADP</td>\n",
       "      <td>B</td>\n",
       "    </tr>\n",
       "    <tr>\n",
       "      <th>40</th>\n",
       "      <td>UAPGR</td>\n",
       "      <td>NAD</td>\n",
       "      <td>B</td>\n",
       "    </tr>\n",
       "  </tbody>\n",
       "</table>\n",
       "</div>"
      ],
      "text/plain": [
       "      gene coenzyme direction\n",
       "32    AGPR     NADP         F\n",
       "35    AGPR      NAD         F\n",
       "5   APRAUR     NADP         B\n",
       "6   APRAUR      NAD         B\n",
       "24    ASAD     NADP         F\n",
       "10    ASAD      NAD         F\n",
       "8   DHDPRy      NAD         B\n",
       "15  DHDPRy     NADP         B\n",
       "3   DXPRIi      NAD         B\n",
       "23  DXPRIi     NADP         B\n",
       "29   G3PD2     NADP         F\n",
       "21   G3PD2      NAD         F\n",
       "12    GAPD     NADP         F\n",
       "30    GAPD      NAD         F\n",
       "9   GCALDD     NADP         B\n",
       "2   GCALDD      NAD         B\n",
       "0    HISTD      NAD         B\n",
       "7    HISTD     NADP         B\n",
       "38  ICDHyr      NAD         B\n",
       "1   ICDHyr     NADP         B\n",
       "11    IPMD     NADP         B\n",
       "28    IPMD      NAD         B\n",
       "33   KARA1      NAD         F\n",
       "34   KARA1     NADP         F\n",
       "39   KARA2     NADP         B\n",
       "19   KARA2      NAD         B\n",
       "13  MTHFR2      NAD         B\n",
       "22  MTHFR2     NADP         B\n",
       "37    P5CR      NAD         B\n",
       "27    P5CR     NADP         B\n",
       "36  PDX5PS      NAD         B\n",
       "14  PDX5PS     NADP         B\n",
       "41    PERD      NAD         B\n",
       "25    PERD     NADP         B\n",
       "18    PPND     NADP         B\n",
       "31    PPND      NAD         B\n",
       "17  SHCHD2     NADP         B\n",
       "16  SHCHD2      NAD         B\n",
       "4     SULR     NADP         B\n",
       "20    SULR      NAD         B\n",
       "26   UAPGR     NADP         B\n",
       "40   UAPGR      NAD         B"
      ]
     },
     "execution_count": 162,
     "metadata": {},
     "output_type": "execute_result"
    }
   ],
   "source": [
    "zg.sort_values('gene')"
   ]
  },
  {
   "cell_type": "code",
   "execution_count": 166,
   "metadata": {},
   "outputs": [
    {
     "data": {
      "text/plain": [
       "21"
      ]
     },
     "execution_count": 166,
     "metadata": {},
     "output_type": "execute_result"
    }
   ],
   "source": [
    "len(zg.gene.unique())"
   ]
  },
  {
   "cell_type": "code",
   "execution_count": 167,
   "metadata": {},
   "outputs": [
    {
     "data": {
      "text/plain": [
       "array(['HISTD', 'ICDHyr', 'GCALDD', 'DXPRIi', 'SULR', 'APRAUR', 'DHDPRy',\n",
       "       'ASAD', 'IPMD', 'GAPD', 'MTHFR2', 'PDX5PS', 'SHCHD2', 'PPND',\n",
       "       'KARA2', 'G3PD2', 'PERD', 'UAPGR', 'P5CR', 'AGPR', 'KARA1'],\n",
       "      dtype=object)"
      ]
     },
     "execution_count": 167,
     "metadata": {},
     "output_type": "execute_result"
    }
   ],
   "source": [
    "zg.gene.unique()"
   ]
  },
  {
   "cell_type": "code",
   "execution_count": 169,
   "metadata": {},
   "outputs": [],
   "source": [
    "gs = pd.read_csv('../assets/EC_1.X.1.X.Unique_NAD(P)_Coupled.GeneSet.Thermo.csv')"
   ]
  },
  {
   "cell_type": "code",
   "execution_count": 227,
   "metadata": {},
   "outputs": [],
   "source": [
    "essential = gs[gs.reaction.isin(rxn_w_zero)].gene.unique()"
   ]
  },
  {
   "cell_type": "code",
   "execution_count": 235,
   "metadata": {},
   "outputs": [
    {
     "data": {
      "text/plain": [
       "48"
      ]
     },
     "execution_count": 235,
     "metadata": {},
     "output_type": "execute_result"
    }
   ],
   "source": [
    "len(list(set(rxn_w_zero)))"
   ]
  },
  {
   "cell_type": "code",
   "execution_count": 229,
   "metadata": {},
   "outputs": [],
   "source": [
    "cofactory_ecoli = pd.read_csv('../assets/structure/cofactory_results.csv')"
   ]
  },
  {
   "cell_type": "code",
   "execution_count": 236,
   "metadata": {},
   "outputs": [],
   "source": [
    "cofactory_ecoli['essential_alo'] = cofactory_ecoli.gene.isin(essential)"
   ]
  },
  {
   "cell_type": "code",
   "execution_count": 259,
   "metadata": {},
   "outputs": [
    {
     "data": {
      "text/plain": [
       "<AxesSubplot:xlabel='nad', ylabel='nadp'>"
      ]
     },
     "execution_count": 259,
     "metadata": {},
     "output_type": "execute_result"
    },
    {
     "data": {
      "image/png": "[encoded data removed]",
      "text/plain": [
       "<Figure size 432x288 with 1 Axes>"
      ]
     },
     "metadata": {
      "needs_background": "light"
     },
     "output_type": "display_data"
    }
   ],
   "source": [
    "sns.scatterplot(x='nad',y='nadp',hue='essential_alo',data=cofactory_ecol_sub)"
   ]
  },
  {
   "cell_type": "code",
   "execution_count": 245,
   "metadata": {},
   "outputs": [],
   "source": [
    "cofactory_ecoli['score'] = np.abs(np.log10(cofactory_ecoli.nad / cofactory_ecoli.nadp))"
   ]
  },
  {
   "cell_type": "code",
   "execution_count": 258,
   "metadata": {},
   "outputs": [],
   "source": [
    "cofactory_ecol_sub = cofactory_ecoli[cofactory_ecoli['coenzyme'].isin(['NAD/NADP','NAD','NADP'])]"
   ]
  },
  {
   "cell_type": "code",
   "execution_count": 260,
   "metadata": {},
   "outputs": [
    {
     "data": {
      "text/plain": [
       "<seaborn.axisgrid.FacetGrid at 0x7f8acb1480f0>"
      ]
     },
     "execution_count": 260,
     "metadata": {},
     "output_type": "execute_result"
    },
    {
     "data": {
      "image/png": "[encoded data removed]",
      "text/plain": [
       "<Figure size 427x360 with 1 Axes>"
      ]
     },
     "metadata": {
      "needs_background": "light"
     },
     "output_type": "display_data"
    }
   ],
   "source": [
    "sns.displot(cofactory_ecol_sub,x='score',hue='essential_alo',kind='ecdf')"
   ]
  },
  {
   "cell_type": "code",
   "execution_count": 249,
   "metadata": {},
   "outputs": [],
   "source": [
    "from scipy.stats import kstest,ranksums"
   ]
  },
  {
   "cell_type": "code",
   "execution_count": 261,
   "metadata": {},
   "outputs": [],
   "source": [
    "x = cofactory_ecol_sub[cofactory_ecol_sub['essential_alo']]['score'].values\n",
    "y = cofactory_ecol_sub[~cofactory_ecol_sub['essential_alo']]['score'].values\n"
   ]
  },
  {
   "cell_type": "code",
   "execution_count": 263,
   "metadata": {},
   "outputs": [
    {
     "data": {
      "text/plain": [
       "KstestResult(statistic=0.3416149068322981, pvalue=0.05514350752777941)"
      ]
     },
     "execution_count": 263,
     "metadata": {},
     "output_type": "execute_result"
    }
   ],
   "source": [
    "kstest(x,y)"
   ]
  },
  {
   "cell_type": "code",
   "execution_count": 198,
   "metadata": {},
   "outputs": [],
   "source": [
    "media = pd.read_csv('../assets/media.C180N93E7.txt',sep='\\t',index_col=0)"
   ]
  },
  {
   "cell_type": "code",
   "execution_count": 202,
   "metadata": {},
   "outputs": [
    {
     "data": {
      "text/plain": [
       "array(['EX_23camp_e', 'EX_23ccmp_e', 'EX_23cgmp_e', 'EX_23cump_e',\n",
       "       'EX_23dappa_e', 'EX_3amp_e', 'EX_3cmp_e', 'EX_3gmp_e', 'EX_3ump_e',\n",
       "       'EX_4abut_e', 'EX_LalaDgluMdapDala_e', 'EX_LalaDgluMdap_e',\n",
       "       'EX_LalaDglu_e', 'EX_LalaLglu_e', 'EX_acgam1p_e', 'EX_acgam_e',\n",
       "       'EX_acmana_e', 'EX_acmum_e', 'EX_acnam_e', 'EX_ade_e', 'EX_adn_e',\n",
       "       'EX_agm_e', 'EX_ala__D_e', 'EX_ala__L_e', 'EX_alaala_e',\n",
       "       'EX_alltn_e', 'EX_amp_e', 'EX_anhgm_e', 'EX_arg__L_e',\n",
       "       'EX_asn__L_e', 'EX_asp__L_e', 'EX_cgly_e', 'EX_chtbs_e',\n",
       "       'EX_cmp_e', 'EX_csn_e', 'EX_cynt_e', 'EX_cys__D_e', 'EX_cys__L_e',\n",
       "       'EX_cytd_e', 'EX_dad_2_e', 'EX_damp_e', 'EX_dcmp_e', 'EX_dcyt_e',\n",
       "       'EX_dgmp_e', 'EX_dgsn_e', 'EX_dimp_e', 'EX_din_e', 'EX_dopa_e',\n",
       "       'EX_dump_e', 'EX_duri_e', 'EX_etha_e', 'EX_g3pe_e', 'EX_g3ps_e',\n",
       "       'EX_gam6p_e', 'EX_gam_e', 'EX_gln__L_e', 'EX_glu__L_e', 'EX_gly_e',\n",
       "       'EX_gmp_e', 'EX_gsn_e', 'EX_gthrd_e', 'EX_gua_e', 'EX_hxan_e',\n",
       "       'EX_imp_e', 'EX_ins_e', 'EX_nh4_e', 'EX_no2_e', 'EX_no3_e',\n",
       "       'EX_no_e', 'EX_orn_e', 'EX_orot_e', 'EX_peamn_e', 'EX_pro__L_e',\n",
       "       'EX_progly_e', 'EX_pser__L_e', 'EX_ptrc_e', 'EX_ser__D_e',\n",
       "       'EX_ser__L_e', 'EX_thr__L_e', 'EX_thrp_e', 'EX_trp__L_e',\n",
       "       'EX_tym_e', 'EX_uacgam_e', 'EX_udpacgal_e', 'EX_udpg_e',\n",
       "       'EX_udpgal_e', 'EX_udpglcur_e', 'EX_ump_e', 'EX_ura_e', 'EX_uri_e',\n",
       "       'EX_xan_e', 'EX_xmp_e', 'EX_xtsn_e'], dtype=object)"
      ]
     },
     "execution_count": 202,
     "metadata": {},
     "output_type": "execute_result"
    }
   ],
   "source": [
    "media.nitrogen.unique()"
   ]
  },
  {
   "cell_type": "code",
   "execution_count": null,
   "metadata": {},
   "outputs": [],
   "source": [
    "nsources = []"
   ]
  }
 ],
 "metadata": {
  "kernelspec": {
   "display_name": "Python (informatics3)",
   "language": "python",
   "name": "informatics3"
  },
  "language_info": {
   "codemirror_mode": {
    "name": "ipython",
    "version": 3
   },
   "file_extension": ".py",
   "mimetype": "text/x-python",
   "name": "python",
   "nbconvert_exporter": "python",
   "pygments_lexer": "ipython3",
   "version": "3.6.12"
  }
 },
 "nbformat": 4,
 "nbformat_minor": 4
}
