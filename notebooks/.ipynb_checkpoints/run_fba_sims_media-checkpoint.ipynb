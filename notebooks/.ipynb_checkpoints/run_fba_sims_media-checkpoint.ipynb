{
 "cells": [
  {
   "cell_type": "code",
   "execution_count": 1,
   "metadata": {},
   "outputs": [],
   "source": [
    "import cobra\n",
    "import pandas as pd"
   ]
  },
  {
   "cell_type": "code",
   "execution_count": 2,
   "metadata": {},
   "outputs": [],
   "source": [
    "model = cobra.io.read_sbml_model('../assets/iJO1366.xml')\n",
    "model_name = 'iJO1366'\n",
    "media = pd.read_csv('../assets/media_sets_names.txt',sep='\\t')"
   ]
  },
  {
   "cell_type": "code",
   "execution_count": 21,
   "metadata": {},
   "outputs": [],
   "source": [
    "# get the base medium\n",
    "medium = model.medium\n",
    "medium.pop('EX_glc__D_e')\n",
    "medium.pop('EX_nh4_e')\n",
    "medium.pop('EX_o2_e')\n",
    "medium_base = medium.copy()"
   ]
  },
  {
   "cell_type": "code",
   "execution_count": 31,
   "metadata": {},
   "outputs": [],
   "source": [
    "obj_values = []\n",
    "for idx,row in media.iterrows():\n",
    "    m = medium_base.copy();\n",
    "    m[row.carbon] = 10;\n",
    "    m[row.nitrogen] = 1000;\n",
    "    m[row.electron] = 1000;\n",
    "    model.medium = m;\n",
    "    f = model.slim_optimize()\n",
    "    obj_values.append(f)"
   ]
  },
  {
   "cell_type": "code",
   "execution_count": 33,
   "metadata": {},
   "outputs": [
    {
     "data": {
      "text/html": [
       "<div>\n",
       "<style scoped>\n",
       "    .dataframe tbody tr th:only-of-type {\n",
       "        vertical-align: middle;\n",
       "    }\n",
       "\n",
       "    .dataframe tbody tr th {\n",
       "        vertical-align: top;\n",
       "    }\n",
       "\n",
       "    .dataframe thead th {\n",
       "        text-align: right;\n",
       "    }\n",
       "</style>\n",
       "<table border=\"1\" class=\"dataframe\">\n",
       "  <thead>\n",
       "    <tr style=\"text-align: right;\">\n",
       "      <th></th>\n",
       "      <th>carbon</th>\n",
       "      <th>nitrogen</th>\n",
       "      <th>electron</th>\n",
       "    </tr>\n",
       "  </thead>\n",
       "  <tbody>\n",
       "    <tr>\n",
       "      <th>0</th>\n",
       "      <td>EX_12ppd__S_e</td>\n",
       "      <td>EX_23camp_e</td>\n",
       "      <td>EX_no2_e</td>\n",
       "    </tr>\n",
       "    <tr>\n",
       "      <th>1</th>\n",
       "      <td>EX_12ppd__S_e</td>\n",
       "      <td>EX_23camp_e</td>\n",
       "      <td>EX_no3_e</td>\n",
       "    </tr>\n",
       "    <tr>\n",
       "      <th>2</th>\n",
       "      <td>EX_12ppd__S_e</td>\n",
       "      <td>EX_23camp_e</td>\n",
       "      <td>EX_o2_e</td>\n",
       "    </tr>\n",
       "    <tr>\n",
       "      <th>3</th>\n",
       "      <td>EX_12ppd__S_e</td>\n",
       "      <td>EX_23camp_e</td>\n",
       "      <td>None</td>\n",
       "    </tr>\n",
       "    <tr>\n",
       "      <th>4</th>\n",
       "      <td>EX_12ppd__S_e</td>\n",
       "      <td>EX_23ccmp_e</td>\n",
       "      <td>EX_no2_e</td>\n",
       "    </tr>\n",
       "    <tr>\n",
       "      <th>...</th>\n",
       "      <td>...</td>\n",
       "      <td>...</td>\n",
       "      <td>...</td>\n",
       "    </tr>\n",
       "    <tr>\n",
       "      <th>66955</th>\n",
       "      <td>EX_xylu__L_e</td>\n",
       "      <td>EX_xmp_e</td>\n",
       "      <td>None</td>\n",
       "    </tr>\n",
       "    <tr>\n",
       "      <th>66956</th>\n",
       "      <td>EX_xylu__L_e</td>\n",
       "      <td>EX_xtsn_e</td>\n",
       "      <td>EX_no2_e</td>\n",
       "    </tr>\n",
       "    <tr>\n",
       "      <th>66957</th>\n",
       "      <td>EX_xylu__L_e</td>\n",
       "      <td>EX_xtsn_e</td>\n",
       "      <td>EX_no3_e</td>\n",
       "    </tr>\n",
       "    <tr>\n",
       "      <th>66958</th>\n",
       "      <td>EX_xylu__L_e</td>\n",
       "      <td>EX_xtsn_e</td>\n",
       "      <td>EX_o2_e</td>\n",
       "    </tr>\n",
       "    <tr>\n",
       "      <th>66959</th>\n",
       "      <td>EX_xylu__L_e</td>\n",
       "      <td>EX_xtsn_e</td>\n",
       "      <td>None</td>\n",
       "    </tr>\n",
       "  </tbody>\n",
       "</table>\n",
       "<p>66960 rows × 3 columns</p>\n",
       "</div>"
      ],
      "text/plain": [
       "              carbon     nitrogen  electron\n",
       "0      EX_12ppd__S_e  EX_23camp_e  EX_no2_e\n",
       "1      EX_12ppd__S_e  EX_23camp_e  EX_no3_e\n",
       "2      EX_12ppd__S_e  EX_23camp_e   EX_o2_e\n",
       "3      EX_12ppd__S_e  EX_23camp_e      None\n",
       "4      EX_12ppd__S_e  EX_23ccmp_e  EX_no2_e\n",
       "...              ...          ...       ...\n",
       "66955   EX_xylu__L_e     EX_xmp_e      None\n",
       "66956   EX_xylu__L_e    EX_xtsn_e  EX_no2_e\n",
       "66957   EX_xylu__L_e    EX_xtsn_e  EX_no3_e\n",
       "66958   EX_xylu__L_e    EX_xtsn_e   EX_o2_e\n",
       "66959   EX_xylu__L_e    EX_xtsn_e      None\n",
       "\n",
       "[66960 rows x 3 columns]"
      ]
     },
     "execution_count": 33,
     "metadata": {},
     "output_type": "execute_result"
    }
   ],
   "source": [
    "media['model'] = model_name;\n",
    "media['growth_rate'] = obj_values;"
   ]
  },
  {
   "cell_type": "code",
   "execution_count": null,
   "metadata": {},
   "outputs": [],
   "source": []
  }
 ],
 "metadata": {
  "kernelspec": {
   "display_name": "Python 3.8 (Coenzyme Paper)",
   "language": "python",
   "name": "coenzyme_paper"
  },
  "language_info": {
   "codemirror_mode": {
    "name": "ipython",
    "version": 3
   },
   "file_extension": ".py",
   "mimetype": "text/x-python",
   "name": "python",
   "nbconvert_exporter": "python",
   "pygments_lexer": "ipython3",
   "version": "3.8.5"
  }
 },
 "nbformat": 4,
 "nbformat_minor": 4
}
