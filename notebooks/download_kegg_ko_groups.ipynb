{
 "cells": [
  {
   "cell_type": "code",
   "execution_count": 4,
   "metadata": {},
   "outputs": [],
   "source": [
    "import pandas as pd\n",
    "import requests\n"
   ]
  },
  {
   "cell_type": "code",
   "execution_count": 25,
   "metadata": {},
   "outputs": [],
   "source": [
    "def get_ec_ko_map():\n",
    "    url = 'http://rest.kegg.jp/link/ko/ec'\n",
    "    r = requests.get(url)\n",
    "    g = pd.DataFrame([x.split('\\t') for x in r.text.split('\\n')],columns=['ec','ko'])\n",
    "    g = g.iloc[0:-1]\n",
    "    g['ec'] = g['ec'].apply(lambda x: x.split(':')[1])\n",
    "    return g"
   ]
  },
  {
   "cell_type": "code",
   "execution_count": 7,
   "metadata": {},
   "outputs": [],
   "source": [
    "def get_ec_codes():\n",
    "    url = 'http://rest.kegg.jp/list/ec'\n",
    "    r = requests.get(url)\n",
    "    g = pd.DataFrame([x.split('\\t') for x in r.text.split('\\n')],columns=['ec','description'])\n",
    "    g = g.iloc[0:-1]\n",
    "    g['ec'] = g['ec'].apply(lambda x: x.split(':')[1])\n",
    "    ec_code  = pd.DataFrame(g['ec'].apply(lambda x: x.split('.')).tolist())\n",
    "    ec_code.columns = ['EC1','EC2','EC3','EC4']\n",
    "    g = g.join(ec_code.astype('int'))\n",
    "    return g"
   ]
  },
  {
   "cell_type": "code",
   "execution_count": 8,
   "metadata": {},
   "outputs": [],
   "source": [
    "# download EC codes\n",
    "ec = get_ec_codes()"
   ]
  },
  {
   "cell_type": "code",
   "execution_count": 11,
   "metadata": {},
   "outputs": [],
   "source": [
    "ec_nad = ec[(ec['EC1'] == 1) & (ec['EC3'] == 1) & (ec['EC2'] != 6)]"
   ]
  },
  {
   "cell_type": "code",
   "execution_count": 27,
   "metadata": {},
   "outputs": [],
   "source": [
    "ec2ko = get_ec_ko_map()"
   ]
  },
  {
   "cell_type": "code",
   "execution_count": 35,
   "metadata": {},
   "outputs": [],
   "source": [
    "ec_nad_genes = ec_nad.set_index('ec').join(ec2ko.set_index('ec')).dropna()[['ko','description']]"
   ]
  },
  {
   "cell_type": "code",
   "execution_count": 36,
   "metadata": {},
   "outputs": [
    {
     "data": {
      "text/html": [
       "<div>\n",
       "<style scoped>\n",
       "    .dataframe tbody tr th:only-of-type {\n",
       "        vertical-align: middle;\n",
       "    }\n",
       "\n",
       "    .dataframe tbody tr th {\n",
       "        vertical-align: top;\n",
       "    }\n",
       "\n",
       "    .dataframe thead th {\n",
       "        text-align: right;\n",
       "    }\n",
       "</style>\n",
       "<table border=\"1\" class=\"dataframe\">\n",
       "  <thead>\n",
       "    <tr style=\"text-align: right;\">\n",
       "      <th></th>\n",
       "      <th>ko</th>\n",
       "      <th>description</th>\n",
       "    </tr>\n",
       "    <tr>\n",
       "      <th>ec</th>\n",
       "      <th></th>\n",
       "      <th></th>\n",
       "    </tr>\n",
       "  </thead>\n",
       "  <tbody>\n",
       "    <tr>\n",
       "      <th>1.1.1.1</th>\n",
       "      <td>ko:K00001</td>\n",
       "      <td>alcohol dehydrogenase; aldehyde reductase; ADH...</td>\n",
       "    </tr>\n",
       "    <tr>\n",
       "      <th>1.1.1.1</th>\n",
       "      <td>ko:K00121</td>\n",
       "      <td>alcohol dehydrogenase; aldehyde reductase; ADH...</td>\n",
       "    </tr>\n",
       "    <tr>\n",
       "      <th>1.1.1.1</th>\n",
       "      <td>ko:K04072</td>\n",
       "      <td>alcohol dehydrogenase; aldehyde reductase; ADH...</td>\n",
       "    </tr>\n",
       "    <tr>\n",
       "      <th>1.1.1.1</th>\n",
       "      <td>ko:K11440</td>\n",
       "      <td>alcohol dehydrogenase; aldehyde reductase; ADH...</td>\n",
       "    </tr>\n",
       "    <tr>\n",
       "      <th>1.1.1.1</th>\n",
       "      <td>ko:K13951</td>\n",
       "      <td>alcohol dehydrogenase; aldehyde reductase; ADH...</td>\n",
       "    </tr>\n",
       "    <tr>\n",
       "      <th>...</th>\n",
       "      <td>...</td>\n",
       "      <td>...</td>\n",
       "    </tr>\n",
       "    <tr>\n",
       "      <th>1.97.1.9</th>\n",
       "      <td>ko:K07310</td>\n",
       "      <td>selenate reductase</td>\n",
       "    </tr>\n",
       "    <tr>\n",
       "      <th>1.97.1.9</th>\n",
       "      <td>ko:K12527</td>\n",
       "      <td>selenate reductase</td>\n",
       "    </tr>\n",
       "    <tr>\n",
       "      <th>1.97.1.9</th>\n",
       "      <td>ko:K17050</td>\n",
       "      <td>selenate reductase</td>\n",
       "    </tr>\n",
       "    <tr>\n",
       "      <th>1.97.1.9</th>\n",
       "      <td>ko:K17051</td>\n",
       "      <td>selenate reductase</td>\n",
       "    </tr>\n",
       "    <tr>\n",
       "      <th>1.97.1.9</th>\n",
       "      <td>ko:K17052</td>\n",
       "      <td>selenate reductase</td>\n",
       "    </tr>\n",
       "  </tbody>\n",
       "</table>\n",
       "<p>834 rows × 2 columns</p>\n",
       "</div>"
      ],
      "text/plain": [
       "                 ko                                        description\n",
       "ec                                                                    \n",
       "1.1.1.1   ko:K00001  alcohol dehydrogenase; aldehyde reductase; ADH...\n",
       "1.1.1.1   ko:K00121  alcohol dehydrogenase; aldehyde reductase; ADH...\n",
       "1.1.1.1   ko:K04072  alcohol dehydrogenase; aldehyde reductase; ADH...\n",
       "1.1.1.1   ko:K11440  alcohol dehydrogenase; aldehyde reductase; ADH...\n",
       "1.1.1.1   ko:K13951  alcohol dehydrogenase; aldehyde reductase; ADH...\n",
       "...             ...                                                ...\n",
       "1.97.1.9  ko:K07310                                 selenate reductase\n",
       "1.97.1.9  ko:K12527                                 selenate reductase\n",
       "1.97.1.9  ko:K17050                                 selenate reductase\n",
       "1.97.1.9  ko:K17051                                 selenate reductase\n",
       "1.97.1.9  ko:K17052                                 selenate reductase\n",
       "\n",
       "[834 rows x 2 columns]"
      ]
     },
     "execution_count": 36,
     "metadata": {},
     "output_type": "execute_result"
    }
   ],
   "source": [
    "ec_nad_genes"
   ]
  },
  {
   "cell_type": "code",
   "execution_count": null,
   "metadata": {},
   "outputs": [],
   "source": []
  }
 ],
 "metadata": {
  "kernelspec": {
   "display_name": "informatics",
   "language": "python",
   "name": "informatics"
  },
  "language_info": {
   "codemirror_mode": {
    "name": "ipython",
    "version": 3
   },
   "file_extension": ".py",
   "mimetype": "text/x-python",
   "name": "python",
   "nbconvert_exporter": "python",
   "pygments_lexer": "ipython3",
   "version": "3.6.2"
  }
 },
 "nbformat": 4,
 "nbformat_minor": 4
}
