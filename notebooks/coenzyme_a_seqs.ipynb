{
 "cells": [
  {
   "cell_type": "code",
   "execution_count": 12,
   "id": "british-heaven",
   "metadata": {},
   "outputs": [],
   "source": [
    "import pandas as pd\n",
    "import numpy as np\n",
    "import requests\n",
    "import re\n",
    "from Bio import SeqIO\n",
    "import subprocess\n",
    "import cobra\n",
    "\n",
    "def ko2genes(ko):\n",
    "    url = 'http://rest.kegg.jp/link/genes/' + ko\n",
    "    r = requests.get(url)\n",
    "    geneKO = pd.DataFrame([x.split('\\t') for x in r.text.split('\\n')],columns=['ko','gene'])\n",
    "    geneKO = geneKO.iloc[0:-1]\n",
    "    return geneKO\n",
    "\n",
    "def download_seqs(geneList,fileName,batchSize):    \n",
    "    geneList_chunks = [geneList[i * batchSize:(i + 1) * batchSize] for i in range((len(geneList) + batchSize - 1) // batchSize )]\n",
    "    with open(fileName,'w') as fastafile:\n",
    "        for sglist in geneList_chunks:\n",
    "            url =  'http://rest.kegg.jp/get/' + \"+\".join(sglist) + '/aaseq'\n",
    "            fseqs = requests.get(url).text\n",
    "            fastafile.write(fseqs)\n",
    "\n",
    "            \n",
    "def msaSeq2df(seq,indexStart):\n",
    "    idx = []\n",
    "    resid = []\n",
    "    j = indexStart;\n",
    "    for i in seq:\n",
    "        resid.append(i)\n",
    "        if i == '-':\n",
    "            idx.append(np.nan)\n",
    "        else:\n",
    "            idx.append(j)\n",
    "            j = j+1\n",
    "    \n",
    "    return pd.DataFrame({'residue': resid, 'index': idx})\n",
    "\n",
    "def ecogenes():\n",
    "    url = 'http://rest.kegg.jp/link/ko/eco'\n",
    "    r = requests.get(url)\n",
    "    geneKO = pd.DataFrame([x.split('\\t') for x in r.text.split('\\n')],columns=['gene','ko'])\n",
    "    geneKO = geneKO.iloc[0:-1]\n",
    "    return geneKO\n",
    "\n",
    "\n",
    "def get_cpd_kos(cpd,kind):\n",
    "    # download all ecs associated with cpds\n",
    "    url = 'http://rest.kegg.jp/link/ec/cpd:' + cpd;\n",
    "    r = requests.get(url)\n",
    "    cpd2ec = pd.DataFrame([x.split('\\t') for x in r.text.split('\\n')],columns=['cpd','ec'])\n",
    "    \n",
    "    url = 'http://rest.kegg.jp/link/ec/ko'\n",
    "    r = requests.get(url)\n",
    "    ko2ec = pd.DataFrame([x.split('\\t') for x in r.text.split('\\n')],columns=['ko','ec'])\n",
    "    \n",
    "    if kind == 'unique':\n",
    "        ecs = []\n",
    "        for ec,dff in ko2ec.groupby('ec'):\n",
    "            if len(dff) < 2:\n",
    "                ecs.append(ec)\n",
    "        ko2ec = ko2ec[ko2ec.ec.isin(ecs)]\n",
    "    \n",
    "    ko2ec = ko2ec[ko2ec.ec.isin(cpd2ec.ec.tolist())]\n",
    "    ko2ec['cpd'] = cpd;\n",
    "    return ko2ec\n",
    "    \n",
    "get_resid = lambda x: [x for x in re.findall(r'\\D',x) if len(x)>0][0]\n",
    "get_resid_idx = lambda x: [int(x) for x in re.findall(r'\\d*',x) if len(x)>0][0]\n",
    "\n",
    "\n",
    "#taxonomy = pd.read_csv('../assets/kegg/KEGG_taxonomy_final.csv')\n",
    "\n"
   ]
  },
  {
   "cell_type": "code",
   "execution_count": 13,
   "id": "insured-clinton",
   "metadata": {},
   "outputs": [],
   "source": [
    "c24 = get_cpd_kos('C00024','unique')\n",
    "c10 = get_cpd_kos('C00010','unique')\n",
    "c24 = c24[c24.ko.isin(c10.ko)]"
   ]
  },
  {
   "cell_type": "code",
   "execution_count": 21,
   "id": "numeric-heather",
   "metadata": {},
   "outputs": [],
   "source": [
    "nad = get_cpd_kos('C00003','all')\n",
    "nadh = get_cpd_kos('C00004','all')\n",
    "nadp = get_cpd_kos('C00006','all')\n",
    "nadph = get_cpd_kos('C00005','all')\n"
   ]
  },
  {
   "cell_type": "code",
   "execution_count": 27,
   "id": "analyzed-disabled",
   "metadata": {},
   "outputs": [],
   "source": [
    "kos = list(set(nad[nad.ko.isin(nadh.ko.tolist())].ko.tolist() + nadp[nadp.ko.isin(nadph.ko.tolist())].ko.tolist()))"
   ]
  },
  {
   "cell_type": "code",
   "execution_count": 32,
   "id": "accepted-dover",
   "metadata": {},
   "outputs": [],
   "source": [
    "c24_nrd = c24[~c24.ko.isin(kos)]"
   ]
  },
  {
   "cell_type": "code",
   "execution_count": 42,
   "id": "studied-breakfast",
   "metadata": {},
   "outputs": [],
   "source": [
    "gls = []\n",
    "for idx,row in c24_nrd.iterrows():\n",
    "    ko = row.ko.split(\":\")[1]\n",
    "    genes  = ko2genes(ko)\n",
    "    if len(genes) > 10:\n",
    "        gl = genes.sample(10)\n",
    "    else:\n",
    "        gl = genes.copy()\n",
    "    gls.append(gl)"
   ]
  },
  {
   "cell_type": "code",
   "execution_count": 54,
   "id": "temporal-distributor",
   "metadata": {},
   "outputs": [],
   "source": [
    "gls = []\n",
    "for idx,row in c24_nrd.iterrows():\n",
    "    ko = row.ko.split(\":\")[1]\n",
    "    genes  = ko2genes(ko)\n",
    "    gls.append(genes)\n",
    "    \n",
    "g_all = pd.concat(gls,axis=0)"
   ]
  },
  {
   "cell_type": "code",
   "execution_count": 55,
   "id": "declared-travel",
   "metadata": {},
   "outputs": [
    {
     "data": {
      "text/plain": [
       "79919"
      ]
     },
     "execution_count": 55,
     "metadata": {},
     "output_type": "execute_result"
    }
   ],
   "source": [
    "len(g_all)"
   ]
  },
  {
   "cell_type": "code",
   "execution_count": 44,
   "id": "attended-conversion",
   "metadata": {},
   "outputs": [],
   "source": [
    "g = pd.concat(gls,axis=0)"
   ]
  },
  {
   "cell_type": "code",
   "execution_count": 49,
   "id": "competitive-arrest",
   "metadata": {},
   "outputs": [],
   "source": [
    "genes = g.gene.tolist()"
   ]
  },
  {
   "cell_type": "code",
   "execution_count": 52,
   "id": "involved-press",
   "metadata": {},
   "outputs": [
    {
     "data": {
      "text/plain": [
       "66"
      ]
     },
     "execution_count": 52,
     "metadata": {},
     "output_type": "execute_result"
    }
   ],
   "source": [
    "len(g.ko.unique())"
   ]
  },
  {
   "cell_type": "code",
   "execution_count": 53,
   "id": "technological-excellence",
   "metadata": {},
   "outputs": [],
   "source": [
    "download_seqs(genes,'../assets/coa_seqs/coa_binding_ko_subsample.fasta',10)"
   ]
  },
  {
   "cell_type": "code",
   "execution_count": 56,
   "id": "informal-character",
   "metadata": {},
   "outputs": [],
   "source": [
    "genes = g_all.gene.tolist()\n",
    "download_seqs(genes,'../assets/coa_seqs/coa_binding.fasta',10)"
   ]
  },
  {
   "cell_type": "code",
   "execution_count": 58,
   "id": "synthetic-waste",
   "metadata": {},
   "outputs": [],
   "source": [
    "g_all.to_csv('../assets/coa_seqs/coa_binding_ko_df.csv')"
   ]
  },
  {
   "cell_type": "code",
   "execution_count": 59,
   "id": "southern-squad",
   "metadata": {},
   "outputs": [
    {
     "data": {
      "text/plain": [
       "79919"
      ]
     },
     "execution_count": 59,
     "metadata": {},
     "output_type": "execute_result"
    }
   ],
   "source": [
    "len(g_all)"
   ]
  },
  {
   "cell_type": "code",
   "execution_count": null,
   "id": "flexible-virginia",
   "metadata": {},
   "outputs": [],
   "source": []
  }
 ],
 "metadata": {
  "kernelspec": {
   "display_name": "Python (informatics3)",
   "language": "python",
   "name": "informatics3"
  },
  "language_info": {
   "codemirror_mode": {
    "name": "ipython",
    "version": 3
   },
   "file_extension": ".py",
   "mimetype": "text/x-python",
   "name": "python",
   "nbconvert_exporter": "python",
   "pygments_lexer": "ipython3",
   "version": "3.6.12"
  }
 },
 "nbformat": 4,
 "nbformat_minor": 5
}
