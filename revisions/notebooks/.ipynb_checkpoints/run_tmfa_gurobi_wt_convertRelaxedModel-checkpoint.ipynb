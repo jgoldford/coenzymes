{
 "cells": [
  {
   "cell_type": "code",
   "execution_count": 1,
   "id": "attended-football",
   "metadata": {},
   "outputs": [
    {
     "name": "stdout",
     "output_type": "stream",
     "text": [
      "Academic license - for non-commercial use only - expires 2022-08-19\n",
      "Using license file /Users/joshuagoldford/gurobi.lic\n",
      "Loading thermo data...\n",
      "Done !\n",
      "Read LP format model from file /var/folders/17/58pxvfhj0gb_wz2nzgrzc6pc0000gn/T/tmpuy7d75po.lp\n",
      "Reading time = 0.02 seconds\n",
      ": 1807 rows, 5170 columns, 20334 nonzeros\n"
     ]
    },
    {
     "name": "stderr",
     "output_type": "stream",
     "text": [
      "2021-10-12 13:01:32,888 - thermomodel_None - INFO - # Model initialized with units kcal/mol and temperature 298.15 K\n",
      "2021-10-12 13:01:33,095 - thermomodel_None - INFO - # Model preparation starting...\n"
     ]
    },
    {
     "name": "stdout",
     "output_type": "stream",
     "text": [
      "FBA Solution found : 24.714\n"
     ]
    },
    {
     "name": "stderr",
     "output_type": "stream",
     "text": [
      "2021-10-12 13:01:35,352 - thermomodel_None - WARNING - Warning : NULL/U\n",
      "2021-10-12 13:01:35,353 - thermomodel_None - WARNING - Warning : NULL/L\n",
      "2021-10-12 13:01:35,354 - thermomodel_None - WARNING - Warning : NULL/L\n",
      "2021-10-12 13:01:35,355 - thermomodel_None - WARNING - Warning : NULL/U\n",
      "2021-10-12 13:01:35,356 - thermomodel_None - WARNING - Warning : NULL/L\n",
      "2021-10-12 13:01:35,357 - thermomodel_None - WARNING - Warning : NULL/L\n",
      "2021-10-12 13:01:35,567 - thermomodel_None - WARNING - Warning : NULL/U\n",
      "2021-10-12 13:01:35,567 - thermomodel_None - WARNING - Warning : NULL/L\n",
      "2021-10-12 13:01:35,568 - thermomodel_None - WARNING - Warning : NULL/L\n",
      "2021-10-12 13:01:35,568 - thermomodel_None - WARNING - Warning : NULL/U\n",
      "2021-10-12 13:01:35,569 - thermomodel_None - WARNING - Warning : NULL/L\n",
      "2021-10-12 13:01:35,570 - thermomodel_None - WARNING - Warning : NULL/L\n",
      "2021-10-12 13:01:35,701 - thermomodel_None - WARNING - Warning : NULL/U\n",
      "2021-10-12 13:01:35,702 - thermomodel_None - WARNING - Warning : NULL/L\n",
      "2021-10-12 13:01:35,702 - thermomodel_None - WARNING - Warning : NULL/L\n",
      "2021-10-12 13:01:35,703 - thermomodel_None - WARNING - Warning : NULL/U\n",
      "2021-10-12 13:01:35,703 - thermomodel_None - WARNING - Warning : NULL/L\n",
      "2021-10-12 13:01:35,704 - thermomodel_None - WARNING - Warning : NULL/L\n",
      "2021-10-12 13:01:35,755 - thermomodel_None - WARNING - Warning : NULL/U\n",
      "2021-10-12 13:01:35,756 - thermomodel_None - WARNING - Warning : NULL/L\n",
      "2021-10-12 13:01:35,756 - thermomodel_None - WARNING - Warning : NULL/L\n",
      "2021-10-12 13:01:35,757 - thermomodel_None - WARNING - Warning : NULL/U\n",
      "2021-10-12 13:01:35,758 - thermomodel_None - WARNING - Warning : NULL/L\n",
      "2021-10-12 13:01:35,759 - thermomodel_None - WARNING - Warning : NULL/L\n",
      "2021-10-12 13:01:35,760 - thermomodel_None - WARNING - Warning : NULL/U\n",
      "2021-10-12 13:01:35,760 - thermomodel_None - WARNING - Warning : NULL/L\n",
      "2021-10-12 13:01:35,761 - thermomodel_None - WARNING - Warning : NULL/L\n",
      "2021-10-12 13:01:35,762 - thermomodel_None - WARNING - Warning : NULL/U\n",
      "2021-10-12 13:01:35,763 - thermomodel_None - WARNING - Warning : NULL/L\n",
      "2021-10-12 13:01:35,763 - thermomodel_None - WARNING - Warning : NULL/L\n",
      "2021-10-12 13:01:35,764 - thermomodel_None - WARNING - Warning : NULL/U\n",
      "2021-10-12 13:01:35,765 - thermomodel_None - WARNING - Warning : NULL/L\n",
      "2021-10-12 13:01:35,766 - thermomodel_None - WARNING - Warning : NULL/L\n",
      "2021-10-12 13:01:35,766 - thermomodel_None - WARNING - Warning : NULL/U\n",
      "2021-10-12 13:01:35,767 - thermomodel_None - WARNING - Warning : NULL/L\n",
      "2021-10-12 13:01:35,768 - thermomodel_None - WARNING - Warning : NULL/L\n",
      "2021-10-12 13:01:35,769 - thermomodel_None - WARNING - Warning : NULL/U\n",
      "2021-10-12 13:01:35,770 - thermomodel_None - WARNING - Warning : NULL/L\n",
      "2021-10-12 13:01:35,771 - thermomodel_None - WARNING - Warning : NULL/L\n",
      "2021-10-12 13:01:35,771 - thermomodel_None - WARNING - Warning : NULL/U\n",
      "2021-10-12 13:01:35,772 - thermomodel_None - WARNING - Warning : NULL/L\n",
      "2021-10-12 13:01:35,772 - thermomodel_None - WARNING - Warning : NULL/L\n",
      "2021-10-12 13:01:35,887 - thermomodel_None - INFO - # Model preparation done.\n",
      "2021-10-12 13:01:35,888 - thermomodel_None - INFO - # Model conversion starting...\n",
      "2021-10-12 13:02:24,181 - thermomodel_None - INFO - # Model conversion done.\n",
      "2021-10-12 13:02:24,182 - thermomodel_None - INFO - # Updating cobra_model variables...\n",
      "2021-10-12 13:02:24,222 - thermomodel_None - INFO - # cobra_model variables are up-to-date\n"
     ]
    },
    {
     "name": "stdout",
     "output_type": "stream",
     "text": [
      "                       value\n",
      "key                         \n",
      "name             iJO1366[WT]\n",
      "description      iJO1366[WT]\n",
      "num constraints        15034\n",
      "num variables          15538\n",
      "num metabolites         1807\n",
      "num reactions           2585\n",
      "                             value\n",
      "key                               \n",
      "num metabolites(thermo)       1550\n",
      "num reactions(thermo)         1824\n",
      "pct metabolites(thermo)  85.777532\n",
      "pct reactions(thermo)    70.560928\n",
      "TFA Solution found : 0\n",
      "Read LP format model from file /var/folders/17/58pxvfhj0gb_wz2nzgrzc6pc0000gn/T/tmpzapg4s5o.lp\n",
      "Reading time = 0.02 seconds\n",
      ": 1807 rows, 5170 columns, 20304 nonzeros\n"
     ]
    },
    {
     "name": "stderr",
     "output_type": "stream",
     "text": [
      "2021-10-12 13:02:34,062 - thermomodel_iJO1366[WT] - INFO - # Model initialized with units kcal/mol and temperature 298.15 K\n"
     ]
    },
    {
     "name": "stdout",
     "output_type": "stream",
     "text": [
      "Read LP format model from file /var/folders/17/58pxvfhj0gb_wz2nzgrzc6pc0000gn/T/tmpplks9_o6.lp\n",
      "Reading time = 0.02 seconds\n",
      ": 1807 rows, 5170 columns, 20304 nonzeros\n"
     ]
    },
    {
     "name": "stderr",
     "output_type": "stream",
     "text": [
      "2021-10-12 13:02:51,107 - thermomodel_iJO1366[WT] - INFO - # Model initialized with units kcal/mol and temperature 298.15 K\n",
      "2021-10-12 13:02:59,522 - thermomodel_iJO1366[WT] - INFO - Adding slack constraints\n",
      "adding slacks: 100%|██████████| 1824/1824 [00:45<00:00, 39.98it/s]\n",
      "2021-10-12 13:03:47,089 - thermomodel_iJO1366[WT] - INFO - Optimizing slack model\n",
      "2021-10-12 13:03:56,797 - thermomodel_iJO1366[WT] - INFO - Extracting relaxation\n",
      "applying slack: 100%|██████████| 2585/2585 [00:00<00:00, 84770.84it/s]\n",
      "2021-10-12 13:03:56,973 - thermomodel_iJO1366[WT] - INFO - Testing relaxation\n"
     ]
    },
    {
     "name": "stdout",
     "output_type": "stream",
     "text": [
      "Relaxation: \n",
      "              lb_in      ub_in  lb_change  ub_change     lb_out     ub_out\n",
      "AIRC3    -11.941085  -8.988685   0.000000   2.582409 -11.941085  -6.406276\n",
      "ARGSL     16.770653  18.636729   2.184361   0.000000  14.586293  18.636729\n",
      "ATPS4rpp  -9.518201  -8.083092   1.452217   0.000000 -10.970418  -8.083092\n",
      "GALT1     67.754735  69.018800  54.942183   0.000000  12.812552  69.018800\n",
      "HEPK2     44.872230  45.345690  32.059679   0.000000  12.812552  45.345690\n",
      "HEPT1     25.810459  27.074524  13.693847   0.000000  12.116612  27.074524\n",
      "MECDPS    26.135683  30.646876  11.549390   0.000000  14.586293  30.646876\n",
      "MTHTHFSs  13.297862  14.814659   6.891586   0.000000   6.406276  14.814659\n",
      "PRAIS     17.442418  22.161249   0.065725   0.000000  17.376694  22.161249\n",
      "relaxed TFA Solution found : 0.838\n",
      "FBA Solution found : 24.714\n",
      "TFA Solution found : 0.838\n",
      "Read LP format model from file /var/folders/17/58pxvfhj0gb_wz2nzgrzc6pc0000gn/T/tmpufoa2p_y.lp\n",
      "Reading time = 0.02 seconds\n",
      ": 1807 rows, 5170 columns, 20304 nonzeros\n"
     ]
    },
    {
     "name": "stderr",
     "output_type": "stream",
     "text": [
      "2021-10-12 13:04:51,284 - thermomodel_RelaxedModel iJO1366[WT] - INFO - # Model initialized with units kcal/mol and temperature 298.15 K\n"
     ]
    }
   ],
   "source": [
    "#!/usr/bin/env python\n",
    "# -*- coding: utf-8 -*-\n",
    "import pandas as pd\n",
    "import cobra\n",
    "import pytfa\n",
    "import numpy as np\n",
    "from optlang.exceptions import SolverError\n",
    "\n",
    "#from cobra.core.model import SolverNotFound\n",
    "from cobra.flux_analysis import flux_variability_analysis\n",
    "from cobra.io import load_matlab_model, load_json_model\n",
    "\n",
    "\n",
    "from pytfa.io import import_matlab_model, load_thermoDB,                    \\\n",
    "                            read_lexicon, annotate_from_lexicon,            \\\n",
    "                            read_compartment_data, apply_compartment_data\n",
    "from pytfa.optim.relaxation import relax_dgo\n",
    "\n",
    "import pickle\n",
    "from pytfa.optim.variables import LogConcentration\n",
    "#thermo_database = '/projectnb2/bioinfor/SEGRE/goldford/CoenzymeSpecificity/pytfa/data/thermo_data.thermodb'\n",
    "#root_dir = '/projectnb/bioinfor/SEGRE/goldford/CoenzymeSpecificity/pytfa/tests/singleCoenzymeModel.08272021.v2'\n",
    "thermo_database = '../assets/thermo_data.thermodb'\n",
    "model_path = '../assets'\n",
    "\n",
    "CPLEX = 'optlang-cplex'\n",
    "GUROBI = 'optlang-gurobi'\n",
    "GLPK = 'optlang-glpk'\n",
    "solver = GUROBI\n",
    "\n",
    "# Load reaction DB\n",
    "print(\"Loading thermo data...\")\n",
    "thermo_data = load_thermoDB(thermo_database)\n",
    "\n",
    "print(\"Done !\")\n",
    "#biomass_rxn = 'BIOMASS_Ec_iJO1366_WT_53p95M'\n",
    "biomass_rxn = 'Ec_biomass_iJO1366_WT_53p95M'\n",
    "\n",
    "\n",
    "model_id = 'iJO1366_WT_semi-unconstrained.json'\n",
    "#model_id = 'iJO1366.json'\n",
    "\n",
    "# We import pre-compiled data as it is faster for bigger models\n",
    "cobra_model = load_json_model(model_path + '/' + model_id)\n",
    "\n",
    "lexicon = read_lexicon(model_path + '/iJO1366/lexicon.csv')\n",
    "compartment_data = read_compartment_data(model_path + '/iJO1366/compartment_data.json')\n",
    "\n",
    "# Initialize the cobra_model\n",
    "mytfa = pytfa.ThermoModel(thermo_data, cobra_model)\n",
    "\n",
    "# Annotate the cobra_model\n",
    "annotate_from_lexicon(mytfa, lexicon)\n",
    "apply_compartment_data(mytfa, compartment_data)\n",
    "\n",
    "\n",
    "mytfa.name = 'iJO1366[WT]'\n",
    "mytfa.solver = solver\n",
    "mytfa.objective = biomass_rxn\n",
    "\n",
    "# Solver settings\n",
    "\n",
    "def apply_solver_settings(model, solver = solver):\n",
    "    model.solver = solver\n",
    "    # model.solver.configuration.verbosity = 1\n",
    "    model.solver.configuration.tolerances.feasibility = 1e-9\n",
    "    if solver == 'optlang_gurobi':\n",
    "        model.solver.problem.Params.NumericFocus = 3\n",
    "    model.solver.configuration.presolve = True\n",
    "\n",
    "apply_solver_settings(mytfa)\n",
    "\n",
    "\n",
    "## FBA\n",
    "fba_solution = cobra_model.optimize()\n",
    "fba_value = fba_solution.objective_value\n",
    "print('FBA Solution found : {0:.5g}'.format(fba_value))\n",
    "\n",
    "# fva = flux_variability_analysis(mytfa)\n",
    "\n",
    "## TFA conversion\n",
    "mytfa.prepare()\n",
    "mytfa.convert()#add_displacement = True)\n",
    "\n",
    "## Info on the cobra_model\n",
    "mytfa.print_info()\n",
    "\n",
    "## Optimality\n",
    "tfa_solution = mytfa.optimize()\n",
    "tfa_value = tfa_solution.objective_value\n",
    "print('TFA Solution found : {0:.5g}'.format(tfa_value))\n",
    "\n",
    "# It might happen that the model is infeasible. In this case, we can relax \n",
    "# thermodynamics constraints:\n",
    "\n",
    "if tfa_value < 0.1:\n",
    "    \n",
    "    from pytfa.optim.relaxation import relax_dgo\n",
    "    #mytfa.reactions.get_by_id(biomass_rxn).lower_bound = 0.5*fba_value\n",
    "    mytfa.reactions.get_by_id(biomass_rxn).lower_bound = 0.5\n",
    "    relaxed_model, slack_model, relax_table = relax_dgo(mytfa)\n",
    "    original_model, mytfa = mytfa, relaxed_model\n",
    "    print('Relaxation: ')\n",
    "    print(relax_table)\n",
    "    \n",
    "    tfa_solution = mytfa.optimize()\n",
    "    tfa_value = tfa_solution.objective_value\n",
    "\n",
    "    print('relaxed TFA Solution found : {0:.5g}'.format(tfa_value))\n",
    "\n",
    "# Report\n",
    "print('FBA Solution found : {0:.5g}'.format(fba_value))\n",
    "print('TFA Solution found : {0:.5g}'.format(tfa_value))\n",
    "\n",
    "double_coenzyme_models = {}\n",
    "z = mytfa.copy()\n",
    "double_coenzyme_models['tmodel'] = z\n",
    "double_coenzyme_models['tmodel-maxGrowth'] = tfa_value\n",
    "double_coenzyme_models['tmodel-solution'] = tfa_solution"
   ]
  },
  {
   "cell_type": "code",
   "execution_count": 4,
   "id": "neither-novel",
   "metadata": {},
   "outputs": [],
   "source": [
    "import cobra"
   ]
  },
  {
   "cell_type": "code",
   "execution_count": 2,
   "id": "minor-newspaper",
   "metadata": {},
   "outputs": [],
   "source": [
    "def single_coenzyme_transform(model,reaction_id):\n",
    "    \n",
    "    met = {}\n",
    "    met['nad'] = np.where([x.id == 'nad_c' for x in model.metabolites])[0][0]\n",
    "    met['nadp'] = np.where([x.id == 'nadp_c' for x in model.metabolites])[0][0]\n",
    "    met['nadh'] = np.where([x.id == 'nadh_c' for x in model.metabolites])[0][0]\n",
    "    met['nadph'] = np.where([x.id == 'nadph_c' for x in model.metabolites])[0][0]\n",
    "\n",
    "    met_objs = {}\n",
    "    met_objs['nad'] = [x for x in model.metabolites if x.id == 'nad_c'][0]\n",
    "    met_objs['nadh'] = [x for x in model.metabolites if x.id == 'nadh_c'][0]\n",
    "    met_objs['nadp'] = [x for x in model.metabolites if x.id == 'nadp_c'][0]\n",
    "    met_objs['nadph'] = [x for x in model.metabolites if x.id == 'nadph_c'][0]\n",
    "    \n",
    "    rxn = [x for x in model.reactions if x.id == reaction_id][0].copy()\n",
    "    # make a new dictionary with coenzyme swapped\n",
    "    v = {x:y for x,y in rxn.metabolites.items() if x.id in [x + '_c' for x in list(met)]}\n",
    "    \n",
    "    nad_stoich = 0;\n",
    "    nadh_stoich  = 0;\n",
    "    set([x.id for x in m.reactions.get_by_id(rxnid).metabolites])\n",
    "    if len(v) > 1:\n",
    "        v2 = {}\n",
    "        for x,y in v.items():\n",
    "            if x.id == 'nadph_c':\n",
    "                nadh_stoich = nadh_stoich + y \n",
    "                #v2[met_objs['nadh']] = y\n",
    "            elif x.id == 'nadp_c':\n",
    "                nad_stoich = nad_stoich + y \n",
    "                #v2[met_objs['nad']] = y\n",
    "            elif x.id == 'nadh_c':\n",
    "                nadh_stoich = nadh_stoich + y \n",
    "                #v2[met_objs['nadph']] = y\n",
    "            elif x.id == 'nad_c':\n",
    "                nad_stoich = nad_stoich + y \n",
    "                #v2[met_objs['nadp']] = y\n",
    "\n",
    "        v2[met_objs['nad']] = nad_stoich\n",
    "        v2[met_objs['nadh']] = nadh_stoich\n",
    "\n",
    "        rxn.subtract_metabolites(v)\n",
    "        rxn.add_metabolites(v2)\n",
    "        #rxn.id = rxn.id + '[condensed]'\n",
    "        # keep old reaction ID\n",
    "        #print('adding new reaction '+ rxn.id)\n",
    "        model.remove_reactions([x for x in model.reactions if x.id == reaction_id][0])\n",
    "        model.add_reaction(rxn)\n",
    "        coverted = True\n",
    "        return model,coverted\n",
    "    else:\n",
    "        coverted = False\n",
    "        return model,coverted"
   ]
  },
  {
   "cell_type": "code",
   "execution_count": 5,
   "id": "composite-consumption",
   "metadata": {},
   "outputs": [
    {
     "name": "stdout",
     "output_type": "stream",
     "text": [
      "Read LP format model from file /var/folders/17/58pxvfhj0gb_wz2nzgrzc6pc0000gn/T/tmp2y13579j.lp\n",
      "Reading time = 0.02 seconds\n",
      ": 1807 rows, 5170 columns, 20304 nonzeros\n"
     ]
    },
    {
     "name": "stderr",
     "output_type": "stream",
     "text": [
      "2021-10-12 13:13:40,355 - thermomodel_RelaxedModel iJO1366[WT] - INFO - # Model initialized with units kcal/mol and temperature 298.15 K\n"
     ]
    },
    {
     "name": "stdout",
     "output_type": "stream",
     "text": [
      "Read LP format model from file /var/folders/17/58pxvfhj0gb_wz2nzgrzc6pc0000gn/T/tmpr865r4n6.lp\n",
      "Reading time = 0.01 seconds\n",
      ": 1807 rows, 5164 columns, 20264 nonzeros\n"
     ]
    },
    {
     "name": "stderr",
     "output_type": "stream",
     "text": [
      "2021-10-12 13:14:28,913 - thermomodel_RelaxedModel iJO1366[WT] - INFO - # Model initialized with units kcal/mol and temperature 298.15 K\n"
     ]
    }
   ],
   "source": [
    "m  = z.copy()\n",
    "\n",
    "rxns_to_remove = ['NADTRHD','NADPPPS','NADK']\n",
    "rxn_ids = [x.id for x in m.reactions]\n",
    "\n",
    "#m.remove_reactions([x for x in m.reactions if x.id == 'NADTRHD'][0])\n",
    "#m.remove_reactions([x for x in m.reactions if x.id == 'NADPPPS'][0])\n",
    "#m.remove_reactions([x for x in m.reactions if x.id == 'NADK'][0])\n",
    "#m.remove_reactions([x for x in m.reactions if x.id in rxns_to_remove][0])\n",
    "\n",
    "m.remove_reactions(rxns_to_remove)\n",
    "\n",
    "rxn_ids = [x for x in rxn_ids if x not in rxns_to_remove]\n",
    "#rxn_ids = [x for x in rxn_ids if x not in ['Ec_biomass_iJO1366_WT_53p95M','Ec_biomass_iJO1366_core_53p95M']]\n",
    "\n",
    "converted_rxns = []\n",
    "for rxnid in rxn_ids:\n",
    "    m,conv = single_coenzyme_transform(m,rxnid)\n",
    "    if conv:\n",
    "        converted_rxns.append(rxnid)\n",
    "\n",
    "        \n",
    "#m.remove_reactions([x for x in m.reactions if x.id == 'NADTRHD[condensed]'][0])\n",
    "#m.remove_reactions([x for x in m.reactions if x.id == 'NADPPPS[condensed]'][0])\n",
    "#m.remove_reactions([x for x in m.reactions if x.id == 'NADK[condensed]'][0])\n",
    "#m.remove_reactions([x for x in m.reactions if x.id == 'NADDP'][0])\n",
    "\n",
    "m.id = 'iJO1366[NAD]'\n",
    "#m.objective = 'BIOMASS_Ec_iJO1366_WT_53p95M'\n",
    "m.objective = 'Ec_biomass_iJO1366_WT_53p95M'\n",
    "m.name = 'RelaxedModel iJO1366[NAD]'\n",
    "m.description = 'RelaxedModel iJO1366[NAD]'\n",
    "\n",
    "met_objs = {}\n",
    "met_objs['nad'] = [x for x in m.metabolites if x.id == 'nad_c'][0]\n",
    "met_objs['nadh'] = [x for x in m.metabolites if x.id == 'nadh_c'][0]\n",
    "met_objs['nadp'] = [x for x in m.metabolites if x.id == 'nadp_c'][0]\n",
    "met_objs['nadph'] = [x for x in m.metabolites if x.id == 'nadph_c'][0]\n",
    "#m.remove_metabolites([met_objs['nadp'],met_objs['nadph']])\n",
    "m,unusedmets = cobra.manipulation.delete.prune_unused_metabolites(m)"
   ]
  },
  {
   "cell_type": "code",
   "execution_count": 10,
   "id": "eight-bleeding",
   "metadata": {},
   "outputs": [
    {
     "name": "stderr",
     "output_type": "stream",
     "text": [
      "2021-10-12 13:16:22,951 - thermomodel_RelaxedModel iJO1366[WT] - INFO - # Model preparation starting...\n",
      "2021-10-12 13:16:24,988 - thermomodel_RelaxedModel iJO1366[WT] - WARNING - Warning : NULL/U\n",
      "2021-10-12 13:16:24,989 - thermomodel_RelaxedModel iJO1366[WT] - WARNING - Warning : NULL/L\n",
      "2021-10-12 13:16:24,990 - thermomodel_RelaxedModel iJO1366[WT] - WARNING - Warning : NULL/L\n",
      "2021-10-12 13:16:24,991 - thermomodel_RelaxedModel iJO1366[WT] - WARNING - Warning : NULL/U\n",
      "2021-10-12 13:16:24,992 - thermomodel_RelaxedModel iJO1366[WT] - WARNING - Warning : NULL/L\n",
      "2021-10-12 13:16:24,993 - thermomodel_RelaxedModel iJO1366[WT] - WARNING - Warning : NULL/L\n",
      "2021-10-12 13:16:25,091 - thermomodel_RelaxedModel iJO1366[WT] - WARNING - Warning : NULL/U\n",
      "2021-10-12 13:16:25,092 - thermomodel_RelaxedModel iJO1366[WT] - WARNING - Warning : NULL/L\n",
      "2021-10-12 13:16:25,093 - thermomodel_RelaxedModel iJO1366[WT] - WARNING - Warning : NULL/L\n",
      "2021-10-12 13:16:25,094 - thermomodel_RelaxedModel iJO1366[WT] - WARNING - Warning : NULL/U\n",
      "2021-10-12 13:16:25,095 - thermomodel_RelaxedModel iJO1366[WT] - WARNING - Warning : NULL/L\n",
      "2021-10-12 13:16:25,096 - thermomodel_RelaxedModel iJO1366[WT] - WARNING - Warning : NULL/L\n",
      "2021-10-12 13:16:25,146 - thermomodel_RelaxedModel iJO1366[WT] - WARNING - Warning : NULL/U\n",
      "2021-10-12 13:16:25,147 - thermomodel_RelaxedModel iJO1366[WT] - WARNING - Warning : NULL/L\n",
      "2021-10-12 13:16:25,147 - thermomodel_RelaxedModel iJO1366[WT] - WARNING - Warning : NULL/L\n",
      "2021-10-12 13:16:25,148 - thermomodel_RelaxedModel iJO1366[WT] - WARNING - Warning : NULL/U\n",
      "2021-10-12 13:16:25,148 - thermomodel_RelaxedModel iJO1366[WT] - WARNING - Warning : NULL/L\n",
      "2021-10-12 13:16:25,149 - thermomodel_RelaxedModel iJO1366[WT] - WARNING - Warning : NULL/L\n",
      "2021-10-12 13:16:25,150 - thermomodel_RelaxedModel iJO1366[WT] - WARNING - Warning : NULL/U\n",
      "2021-10-12 13:16:25,150 - thermomodel_RelaxedModel iJO1366[WT] - WARNING - Warning : NULL/L\n",
      "2021-10-12 13:16:25,151 - thermomodel_RelaxedModel iJO1366[WT] - WARNING - Warning : NULL/L\n",
      "2021-10-12 13:16:25,152 - thermomodel_RelaxedModel iJO1366[WT] - WARNING - Warning : NULL/U\n",
      "2021-10-12 13:16:25,152 - thermomodel_RelaxedModel iJO1366[WT] - WARNING - Warning : NULL/L\n",
      "2021-10-12 13:16:25,153 - thermomodel_RelaxedModel iJO1366[WT] - WARNING - Warning : NULL/L\n",
      "2021-10-12 13:16:25,154 - thermomodel_RelaxedModel iJO1366[WT] - WARNING - Warning : NULL/U\n",
      "2021-10-12 13:16:25,155 - thermomodel_RelaxedModel iJO1366[WT] - WARNING - Warning : NULL/L\n",
      "2021-10-12 13:16:25,155 - thermomodel_RelaxedModel iJO1366[WT] - WARNING - Warning : NULL/L\n",
      "2021-10-12 13:16:25,156 - thermomodel_RelaxedModel iJO1366[WT] - WARNING - Warning : NULL/U\n",
      "2021-10-12 13:16:25,157 - thermomodel_RelaxedModel iJO1366[WT] - WARNING - Warning : NULL/L\n",
      "2021-10-12 13:16:25,157 - thermomodel_RelaxedModel iJO1366[WT] - WARNING - Warning : NULL/L\n",
      "2021-10-12 13:16:25,158 - thermomodel_RelaxedModel iJO1366[WT] - WARNING - Warning : NULL/U\n",
      "2021-10-12 13:16:25,159 - thermomodel_RelaxedModel iJO1366[WT] - WARNING - Warning : NULL/L\n",
      "2021-10-12 13:16:25,159 - thermomodel_RelaxedModel iJO1366[WT] - WARNING - Warning : NULL/L\n",
      "2021-10-12 13:16:25,160 - thermomodel_RelaxedModel iJO1366[WT] - WARNING - Warning : NULL/U\n",
      "2021-10-12 13:16:25,161 - thermomodel_RelaxedModel iJO1366[WT] - WARNING - Warning : NULL/L\n",
      "2021-10-12 13:16:25,161 - thermomodel_RelaxedModel iJO1366[WT] - WARNING - Warning : NULL/L\n",
      "2021-10-12 13:16:25,275 - thermomodel_RelaxedModel iJO1366[WT] - WARNING - Warning : NULL/U\n",
      "2021-10-12 13:16:25,276 - thermomodel_RelaxedModel iJO1366[WT] - WARNING - Warning : NULL/L\n",
      "2021-10-12 13:16:25,276 - thermomodel_RelaxedModel iJO1366[WT] - WARNING - Warning : NULL/L\n",
      "2021-10-12 13:16:25,277 - thermomodel_RelaxedModel iJO1366[WT] - WARNING - Warning : NULL/U\n",
      "2021-10-12 13:16:25,278 - thermomodel_RelaxedModel iJO1366[WT] - WARNING - Warning : NULL/L\n",
      "2021-10-12 13:16:25,279 - thermomodel_RelaxedModel iJO1366[WT] - WARNING - Warning : NULL/L\n",
      "2021-10-12 13:16:25,317 - thermomodel_RelaxedModel iJO1366[WT] - INFO - # Model preparation done.\n",
      "2021-10-12 13:16:25,318 - thermomodel_RelaxedModel iJO1366[WT] - INFO - # Model conversion starting...\n",
      "2021-10-12 13:16:38,799 - thermomodel_RelaxedModel iJO1366[WT] - INFO - # Model conversion done.\n",
      "2021-10-12 13:16:38,800 - thermomodel_RelaxedModel iJO1366[WT] - INFO - # Updating cobra_model variables...\n",
      "2021-10-12 13:16:38,848 - thermomodel_RelaxedModel iJO1366[WT] - INFO - # cobra_model variables are up-to-date\n"
     ]
    },
    {
     "name": "stdout",
     "output_type": "stream",
     "text": [
      "                                    value\n",
      "key                                      \n",
      "name             RelaxedModel iJO1366[WT]\n",
      "description      RelaxedModel iJO1366[WT]\n",
      "num constraints                     15014\n",
      "num variables                       15518\n",
      "num metabolites                      1805\n",
      "num reactions                        2582\n",
      "                             value\n",
      "key                               \n",
      "num metabolites(thermo)       1548\n",
      "num reactions(thermo)         1821\n",
      "pct metabolites(thermo)  85.761773\n",
      "pct reactions(thermo)    70.526723\n"
     ]
    }
   ],
   "source": [
    "## re-prepare the TFA model\n",
    "m.prepare()\n",
    "m.convert()#add_displacement = True)\n",
    "## Info on the cobra_model\n",
    "m.print_info()"
   ]
  },
  {
   "cell_type": "code",
   "execution_count": 15,
   "id": "structured-wages",
   "metadata": {},
   "outputs": [
    {
     "name": "stdout",
     "output_type": "stream",
     "text": [
      "TFA Solution found : 0.72479\n"
     ]
    }
   ],
   "source": [
    "tfa_solution_sc = m.optimize()\n",
    "tfa_value_sc = tfa_solution_sc.objective_value\n",
    "# Report\n",
    "print('TFA Solution found : {0:.5g}'.format(tfa_value_sc))"
   ]
  },
  {
   "cell_type": "code",
   "execution_count": 20,
   "id": "later-denver",
   "metadata": {},
   "outputs": [],
   "source": [
    "m.description = 'RelaxedModel iJO1366[NAD]'"
   ]
  },
  {
   "cell_type": "code",
   "execution_count": 30,
   "id": "affecting-shaft",
   "metadata": {},
   "outputs": [],
   "source": [
    "wt_fluxes = pd.DataFrame(tfa_solution.fluxes)\n",
    "sc_fluxes = pd.DataFrame(tfa_solution_sc.fluxes)\n",
    "wt_fluxes.columns = ['WT']\n",
    "sc_fluxes.columns = ['SC']"
   ]
  },
  {
   "cell_type": "code",
   "execution_count": 34,
   "id": "embedded-groove",
   "metadata": {},
   "outputs": [],
   "source": [
    "res = wt_fluxes.join(sc_fluxes)"
   ]
  },
  {
   "cell_type": "code",
   "execution_count": 37,
   "id": "refined-distributor",
   "metadata": {},
   "outputs": [],
   "source": [
    "\n",
    "import matplotlib.pyplot as plt\n",
    "plt.rcParams[\"font.family\"] = \"Arial\"\n",
    "plt.rcParams[\"font.size\"] = 12\n",
    "import seaborn as sns\n"
   ]
  },
  {
   "cell_type": "code",
   "execution_count": 49,
   "id": "conscious-singles",
   "metadata": {},
   "outputs": [
    {
     "data": {
      "text/plain": [
       "(-40.0, 40.0)"
      ]
     },
     "execution_count": 49,
     "metadata": {},
     "output_type": "execute_result"
    },
    {
     "data": {
      "image/png": "[encoded data removed]",
      "text/plain": [
       "<Figure size 432x288 with 1 Axes>"
      ]
     },
     "metadata": {
      "needs_background": "light"
     },
     "output_type": "display_data"
    }
   ],
   "source": [
    "sns.scatterplot(x='WT',y='SC',data=res)\n",
    "plt.xlim([-40,40])\n",
    "plt.ylim([-40,40])"
   ]
  },
  {
   "cell_type": "code",
   "execution_count": 52,
   "id": "distinct-diving",
   "metadata": {},
   "outputs": [
    {
     "data": {
      "text/html": [
       "<div>\n",
       "<style scoped>\n",
       "    .dataframe tbody tr th:only-of-type {\n",
       "        vertical-align: middle;\n",
       "    }\n",
       "\n",
       "    .dataframe tbody tr th {\n",
       "        vertical-align: top;\n",
       "    }\n",
       "\n",
       "    .dataframe thead th {\n",
       "        text-align: right;\n",
       "    }\n",
       "</style>\n",
       "<table border=\"1\" class=\"dataframe\">\n",
       "  <thead>\n",
       "    <tr style=\"text-align: right;\">\n",
       "      <th></th>\n",
       "      <th>WT</th>\n",
       "      <th>SC</th>\n",
       "    </tr>\n",
       "  </thead>\n",
       "  <tbody>\n",
       "    <tr>\n",
       "      <th>DM_h2o_e</th>\n",
       "      <td>40.114284</td>\n",
       "      <td>41.309162</td>\n",
       "    </tr>\n",
       "    <tr>\n",
       "      <th>ATPS4rpp</th>\n",
       "      <td>51.982916</td>\n",
       "      <td>60.928046</td>\n",
       "    </tr>\n",
       "    <tr>\n",
       "      <th>CYTBO3_4pp</th>\n",
       "      <td>25.963359</td>\n",
       "      <td>35.684566</td>\n",
       "    </tr>\n",
       "    <tr>\n",
       "      <th>NADH16pp</th>\n",
       "      <td>25.693889</td>\n",
       "      <td>0.000000</td>\n",
       "    </tr>\n",
       "  </tbody>\n",
       "</table>\n",
       "</div>"
      ],
      "text/plain": [
       "                   WT         SC\n",
       "DM_h2o_e    40.114284  41.309162\n",
       "ATPS4rpp    51.982916  60.928046\n",
       "CYTBO3_4pp  25.963359  35.684566\n",
       "NADH16pp    25.693889   0.000000"
      ]
     },
     "execution_count": 52,
     "metadata": {},
     "output_type": "execute_result"
    }
   ],
   "source": [
    "res[res['WT'] > 20]"
   ]
  },
  {
   "cell_type": "code",
   "execution_count": 53,
   "id": "informal-ethernet",
   "metadata": {},
   "outputs": [
    {
     "data": {
      "text/html": [
       "<div>\n",
       "<style scoped>\n",
       "    .dataframe tbody tr th:only-of-type {\n",
       "        vertical-align: middle;\n",
       "    }\n",
       "\n",
       "    .dataframe tbody tr th {\n",
       "        vertical-align: top;\n",
       "    }\n",
       "\n",
       "    .dataframe thead th {\n",
       "        text-align: right;\n",
       "    }\n",
       "</style>\n",
       "<table border=\"1\" class=\"dataframe\">\n",
       "  <thead>\n",
       "    <tr style=\"text-align: right;\">\n",
       "      <th></th>\n",
       "      <th>WT</th>\n",
       "      <th>SC</th>\n",
       "    </tr>\n",
       "  </thead>\n",
       "  <tbody>\n",
       "    <tr>\n",
       "      <th>DM_o2_e</th>\n",
       "      <td>-14.892452</td>\n",
       "      <td>-19.494994</td>\n",
       "    </tr>\n",
       "    <tr>\n",
       "      <th>CO2tex</th>\n",
       "      <td>-14.690493</td>\n",
       "      <td>-19.320239</td>\n",
       "    </tr>\n",
       "    <tr>\n",
       "      <th>CO2tpp</th>\n",
       "      <td>-14.690493</td>\n",
       "      <td>-19.320239</td>\n",
       "    </tr>\n",
       "    <tr>\n",
       "      <th>H2Otex</th>\n",
       "      <td>-40.114284</td>\n",
       "      <td>-41.309162</td>\n",
       "    </tr>\n",
       "    <tr>\n",
       "      <th>H2Otpp</th>\n",
       "      <td>-36.333242</td>\n",
       "      <td>-38.024879</td>\n",
       "    </tr>\n",
       "    <tr>\n",
       "      <th>PGK</th>\n",
       "      <td>-10.027444</td>\n",
       "      <td>0.000000</td>\n",
       "    </tr>\n",
       "    <tr>\n",
       "      <th>THD2pp</th>\n",
       "      <td>-17.881561</td>\n",
       "      <td>0.000000</td>\n",
       "    </tr>\n",
       "  </tbody>\n",
       "</table>\n",
       "</div>"
      ],
      "text/plain": [
       "                WT         SC\n",
       "DM_o2_e -14.892452 -19.494994\n",
       "CO2tex  -14.690493 -19.320239\n",
       "CO2tpp  -14.690493 -19.320239\n",
       "H2Otex  -40.114284 -41.309162\n",
       "H2Otpp  -36.333242 -38.024879\n",
       "PGK     -10.027444   0.000000\n",
       "THD2pp  -17.881561   0.000000"
      ]
     },
     "execution_count": 53,
     "metadata": {},
     "output_type": "execute_result"
    }
   ],
   "source": [
    "res[res['WT'] <-10]"
   ]
  },
  {
   "cell_type": "markdown",
   "id": "split-dance",
   "metadata": {},
   "source": [
    "(res[\"WT\"] - res[\"SC\"]).sort_values().iloc[0:20]"
   ]
  },
  {
   "cell_type": "code",
   "execution_count": 67,
   "id": "racial-personal",
   "metadata": {},
   "outputs": [
    {
     "data": {
      "text/plain": [
       "'Oxidative Phosphorylation'"
      ]
     },
     "execution_count": 67,
     "metadata": {},
     "output_type": "execute_result"
    }
   ],
   "source": [
    "# compute which parts of the network are most affected\n"
   ]
  },
  {
   "cell_type": "code",
   "execution_count": 74,
   "id": "extensive-possibility",
   "metadata": {},
   "outputs": [],
   "source": [
    "score = abs(res['WT'] - res['SC'])"
   ]
  },
  {
   "cell_type": "code",
   "execution_count": 79,
   "id": "foreign-provision",
   "metadata": {},
   "outputs": [],
   "source": [
    "subsystem = [z.reactions.get_by_id(x).subsystem for x in score.index.tolist()]"
   ]
  },
  {
   "cell_type": "code",
   "execution_count": 86,
   "id": "guided-warner",
   "metadata": {},
   "outputs": [],
   "source": [
    "res_score = pd.DataFrame(score,columns=['score']).join(pd.DataFrame(pd.Series(subsystem,index= score.index),columns=['subsystem']))"
   ]
  },
  {
   "cell_type": "code",
   "execution_count": 93,
   "id": "vocal-expert",
   "metadata": {},
   "outputs": [
    {
     "data": {
      "text/plain": [
       "<seaborn.axisgrid.FacetGrid at 0x7ff651d57af0>"
      ]
     },
     "execution_count": 93,
     "metadata": {},
     "output_type": "execute_result"
    },
    {
     "data": {
      "image/png": "[encoded data removed]",
      "text/plain": [
       "<Figure size 360x360 with 1 Axes>"
      ]
     },
     "metadata": {
      "needs_background": "light"
     },
     "output_type": "display_data"
    }
   ],
   "source": [
    "sns.catplot(y='subsystem',x='score',data=res_score[res_score['score'] < 800])"
   ]
  },
  {
   "cell_type": "code",
   "execution_count": 99,
   "id": "biblical-processing",
   "metadata": {},
   "outputs": [
    {
     "data": {
      "text/html": [
       "<div>\n",
       "<style scoped>\n",
       "    .dataframe tbody tr th:only-of-type {\n",
       "        vertical-align: middle;\n",
       "    }\n",
       "\n",
       "    .dataframe tbody tr th {\n",
       "        vertical-align: top;\n",
       "    }\n",
       "\n",
       "    .dataframe thead th {\n",
       "        text-align: right;\n",
       "    }\n",
       "</style>\n",
       "<table border=\"1\" class=\"dataframe\">\n",
       "  <thead>\n",
       "    <tr style=\"text-align: right;\">\n",
       "      <th></th>\n",
       "      <th>score</th>\n",
       "    </tr>\n",
       "    <tr>\n",
       "      <th>subsystem</th>\n",
       "      <th></th>\n",
       "    </tr>\n",
       "  </thead>\n",
       "  <tbody>\n",
       "    <tr>\n",
       "      <th>Alanine and Aspartate Metabolism</th>\n",
       "      <td>0.000000</td>\n",
       "    </tr>\n",
       "    <tr>\n",
       "      <th>Unassigned</th>\n",
       "      <td>0.000000</td>\n",
       "    </tr>\n",
       "    <tr>\n",
       "      <th>Transport, Outer Membrane Porin</th>\n",
       "      <td>0.000000</td>\n",
       "    </tr>\n",
       "    <tr>\n",
       "      <th>Transport, Outer Membrane</th>\n",
       "      <td>0.000000</td>\n",
       "    </tr>\n",
       "    <tr>\n",
       "      <th>Transport, Inner Membrane</th>\n",
       "      <td>0.000000</td>\n",
       "    </tr>\n",
       "    <tr>\n",
       "      <th>Pyruvate Metabolism</th>\n",
       "      <td>0.000000</td>\n",
       "    </tr>\n",
       "    <tr>\n",
       "      <th>Oxidative Phosphorylation</th>\n",
       "      <td>0.000000</td>\n",
       "    </tr>\n",
       "    <tr>\n",
       "      <th>Nucleotide Salvage Pathway</th>\n",
       "      <td>0.000000</td>\n",
       "    </tr>\n",
       "    <tr>\n",
       "      <th>Nitrogen Metabolism</th>\n",
       "      <td>0.000000</td>\n",
       "    </tr>\n",
       "    <tr>\n",
       "      <th>Murein Recycling</th>\n",
       "      <td>0.000000</td>\n",
       "    </tr>\n",
       "    <tr>\n",
       "      <th>Methylglyoxal Metabolism</th>\n",
       "      <td>0.000000</td>\n",
       "    </tr>\n",
       "    <tr>\n",
       "      <th>Lipopolysaccharide Biosynthesis / Recycling</th>\n",
       "      <td>0.000000</td>\n",
       "    </tr>\n",
       "    <tr>\n",
       "      <th>Inorganic Ion Transport and Metabolism</th>\n",
       "      <td>0.000000</td>\n",
       "    </tr>\n",
       "    <tr>\n",
       "      <th>tRNA Charging</th>\n",
       "      <td>0.000000</td>\n",
       "    </tr>\n",
       "    <tr>\n",
       "      <th>Alternate Carbon Metabolism</th>\n",
       "      <td>0.000000</td>\n",
       "    </tr>\n",
       "    <tr>\n",
       "      <th>Anaplerotic Reactions</th>\n",
       "      <td>0.000000</td>\n",
       "    </tr>\n",
       "    <tr>\n",
       "      <th>Glycerophospholipid Metabolism</th>\n",
       "      <td>0.000000</td>\n",
       "    </tr>\n",
       "    <tr>\n",
       "      <th>Arginine and Proline Metabolism</th>\n",
       "      <td>0.000000</td>\n",
       "    </tr>\n",
       "    <tr>\n",
       "      <th>Cell Envelope Biosynthesis</th>\n",
       "      <td>0.000000</td>\n",
       "    </tr>\n",
       "    <tr>\n",
       "      <th>Glutamate Metabolism</th>\n",
       "      <td>0.000000</td>\n",
       "    </tr>\n",
       "    <tr>\n",
       "      <th>Exchange</th>\n",
       "      <td>0.000000</td>\n",
       "    </tr>\n",
       "    <tr>\n",
       "      <th>Cofactor and Prosthetic Group Biosynthesis</th>\n",
       "      <td>0.000025</td>\n",
       "    </tr>\n",
       "    <tr>\n",
       "      <th>Glyoxylate Metabolism</th>\n",
       "      <td>0.000076</td>\n",
       "    </tr>\n",
       "    <tr>\n",
       "      <th>Murein Biosynthesis</th>\n",
       "      <td>0.000076</td>\n",
       "    </tr>\n",
       "    <tr>\n",
       "      <th>Methionine Metabolism</th>\n",
       "      <td>0.000152</td>\n",
       "    </tr>\n",
       "    <tr>\n",
       "      <th>Glycine and Serine Metabolism</th>\n",
       "      <td>0.000162</td>\n",
       "    </tr>\n",
       "    <tr>\n",
       "      <th>Histidine Metabolism</th>\n",
       "      <td>0.010422</td>\n",
       "    </tr>\n",
       "    <tr>\n",
       "      <th>Tyrosine, Tryptophan, and Phenylalanine Metabolism</th>\n",
       "      <td>0.015195</td>\n",
       "    </tr>\n",
       "    <tr>\n",
       "      <th>Threonine and Lysine Metabolism</th>\n",
       "      <td>0.017696</td>\n",
       "    </tr>\n",
       "    <tr>\n",
       "      <th>Folate Metabolism</th>\n",
       "      <td>0.017873</td>\n",
       "    </tr>\n",
       "    <tr>\n",
       "      <th>Cysteine Metabolism</th>\n",
       "      <td>0.028060</td>\n",
       "    </tr>\n",
       "    <tr>\n",
       "      <th>Membrane Lipid Metabolism</th>\n",
       "      <td>0.030842</td>\n",
       "    </tr>\n",
       "    <tr>\n",
       "      <th>Purine and Pyrimidine Biosynthesis</th>\n",
       "      <td>0.036265</td>\n",
       "    </tr>\n",
       "    <tr>\n",
       "      <th>Valine, Leucine, and Isoleucine Metabolism</th>\n",
       "      <td>0.049562</td>\n",
       "    </tr>\n",
       "    <tr>\n",
       "      <th>Glycolysis/Gluconeogenesis</th>\n",
       "      <td>0.189389</td>\n",
       "    </tr>\n",
       "    <tr>\n",
       "      <th>Citric Acid Cycle</th>\n",
       "      <td>0.791195</td>\n",
       "    </tr>\n",
       "    <tr>\n",
       "      <th>Pentose Phosphate Pathway</th>\n",
       "      <td>3.160276</td>\n",
       "    </tr>\n",
       "  </tbody>\n",
       "</table>\n",
       "</div>"
      ],
      "text/plain": [
       "                                                       score\n",
       "subsystem                                                   \n",
       "Alanine and Aspartate Metabolism                    0.000000\n",
       "Unassigned                                          0.000000\n",
       "Transport, Outer Membrane Porin                     0.000000\n",
       "Transport, Outer Membrane                           0.000000\n",
       "Transport, Inner Membrane                           0.000000\n",
       "Pyruvate Metabolism                                 0.000000\n",
       "Oxidative Phosphorylation                           0.000000\n",
       "Nucleotide Salvage Pathway                          0.000000\n",
       "Nitrogen Metabolism                                 0.000000\n",
       "Murein Recycling                                    0.000000\n",
       "Methylglyoxal Metabolism                            0.000000\n",
       "Lipopolysaccharide Biosynthesis / Recycling         0.000000\n",
       "Inorganic Ion Transport and Metabolism              0.000000\n",
       "tRNA Charging                                       0.000000\n",
       "Alternate Carbon Metabolism                         0.000000\n",
       "Anaplerotic Reactions                               0.000000\n",
       "Glycerophospholipid Metabolism                      0.000000\n",
       "Arginine and Proline Metabolism                     0.000000\n",
       "Cell Envelope Biosynthesis                          0.000000\n",
       "Glutamate Metabolism                                0.000000\n",
       "Exchange                                            0.000000\n",
       "Cofactor and Prosthetic Group Biosynthesis          0.000025\n",
       "Glyoxylate Metabolism                               0.000076\n",
       "Murein Biosynthesis                                 0.000076\n",
       "Methionine Metabolism                               0.000152\n",
       "Glycine and Serine Metabolism                       0.000162\n",
       "Histidine Metabolism                                0.010422\n",
       "Tyrosine, Tryptophan, and Phenylalanine Metabolism  0.015195\n",
       "Threonine and Lysine Metabolism                     0.017696\n",
       "Folate Metabolism                                   0.017873\n",
       "Cysteine Metabolism                                 0.028060\n",
       "Membrane Lipid Metabolism                           0.030842\n",
       "Purine and Pyrimidine Biosynthesis                  0.036265\n",
       "Valine, Leucine, and Isoleucine Metabolism          0.049562\n",
       "Glycolysis/Gluconeogenesis                          0.189389\n",
       "Citric Acid Cycle                                   0.791195\n",
       "Pentose Phosphate Pathway                           3.160276"
      ]
     },
     "execution_count": 99,
     "metadata": {},
     "output_type": "execute_result"
    }
   ],
   "source": [
    "res_score.groupby('subsystem').median().sort_values('score')"
   ]
  },
  {
   "cell_type": "code",
   "execution_count": null,
   "id": "unnecessary-september",
   "metadata": {},
   "outputs": [],
   "source": []
  }
 ],
 "metadata": {
  "kernelspec": {
   "display_name": "Python 3.8 (coenzymes)",
   "language": "python",
   "name": "coenzymes"
  },
  "language_info": {
   "codemirror_mode": {
    "name": "ipython",
    "version": 3
   },
   "file_extension": ".py",
   "mimetype": "text/x-python",
   "name": "python",
   "nbconvert_exporter": "python",
   "pygments_lexer": "ipython3",
   "version": "3.8.5"
  }
 },
 "nbformat": 4,
 "nbformat_minor": 5
}
