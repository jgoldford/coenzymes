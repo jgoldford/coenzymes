{
 "cells": [
  {
   "cell_type": "code",
   "execution_count": 1,
   "id": "prescription-fleet",
   "metadata": {},
   "outputs": [
    {
     "name": "stdout",
     "output_type": "stream",
     "text": [
      "Academic license - for non-commercial use only - expires 2022-08-19\n",
      "Using license file /Users/joshuagoldford/gurobi.lic\n",
      "Loading thermo data...\n",
      "Done !\n",
      "Read LP format model from file /var/folders/17/58pxvfhj0gb_wz2nzgrzc6pc0000gn/T/tmpuy7d75po.lp\n",
      "Reading time = 0.02 seconds\n",
      ": 1807 rows, 5170 columns, 20334 nonzeros\n"
     ]
    },
    {
     "name": "stderr",
     "output_type": "stream",
     "text": [
      "2021-10-12 13:01:32,888 - thermomodel_None - INFO - # Model initialized with units kcal/mol and temperature 298.15 K\n",
      "2021-10-12 13:01:33,095 - thermomodel_None - INFO - # Model preparation starting...\n"
     ]
    },
    {
     "name": "stdout",
     "output_type": "stream",
     "text": [
      "FBA Solution found : 24.714\n"
     ]
    },
    {
     "name": "stderr",
     "output_type": "stream",
     "text": [
      "2021-10-12 13:01:35,352 - thermomodel_None - WARNING - Warning : NULL/U\n",
      "2021-10-12 13:01:35,353 - thermomodel_None - WARNING - Warning : NULL/L\n",
      "2021-10-12 13:01:35,354 - thermomodel_None - WARNING - Warning : NULL/L\n",
      "2021-10-12 13:01:35,355 - thermomodel_None - WARNING - Warning : NULL/U\n",
      "2021-10-12 13:01:35,356 - thermomodel_None - WARNING - Warning : NULL/L\n",
      "2021-10-12 13:01:35,357 - thermomodel_None - WARNING - Warning : NULL/L\n",
      "2021-10-12 13:01:35,567 - thermomodel_None - WARNING - Warning : NULL/U\n",
      "2021-10-12 13:01:35,567 - thermomodel_None - WARNING - Warning : NULL/L\n",
      "2021-10-12 13:01:35,568 - thermomodel_None - WARNING - Warning : NULL/L\n",
      "2021-10-12 13:01:35,568 - thermomodel_None - WARNING - Warning : NULL/U\n",
      "2021-10-12 13:01:35,569 - thermomodel_None - WARNING - Warning : NULL/L\n",
      "2021-10-12 13:01:35,570 - thermomodel_None - WARNING - Warning : NULL/L\n",
      "2021-10-12 13:01:35,701 - thermomodel_None - WARNING - Warning : NULL/U\n",
      "2021-10-12 13:01:35,702 - thermomodel_None - WARNING - Warning : NULL/L\n",
      "2021-10-12 13:01:35,702 - thermomodel_None - WARNING - Warning : NULL/L\n",
      "2021-10-12 13:01:35,703 - thermomodel_None - WARNING - Warning : NULL/U\n",
      "2021-10-12 13:01:35,703 - thermomodel_None - WARNING - Warning : NULL/L\n",
      "2021-10-12 13:01:35,704 - thermomodel_None - WARNING - Warning : NULL/L\n",
      "2021-10-12 13:01:35,755 - thermomodel_None - WARNING - Warning : NULL/U\n",
      "2021-10-12 13:01:35,756 - thermomodel_None - WARNING - Warning : NULL/L\n",
      "2021-10-12 13:01:35,756 - thermomodel_None - WARNING - Warning : NULL/L\n",
      "2021-10-12 13:01:35,757 - thermomodel_None - WARNING - Warning : NULL/U\n",
      "2021-10-12 13:01:35,758 - thermomodel_None - WARNING - Warning : NULL/L\n",
      "2021-10-12 13:01:35,759 - thermomodel_None - WARNING - Warning : NULL/L\n",
      "2021-10-12 13:01:35,760 - thermomodel_None - WARNING - Warning : NULL/U\n",
      "2021-10-12 13:01:35,760 - thermomodel_None - WARNING - Warning : NULL/L\n",
      "2021-10-12 13:01:35,761 - thermomodel_None - WARNING - Warning : NULL/L\n",
      "2021-10-12 13:01:35,762 - thermomodel_None - WARNING - Warning : NULL/U\n",
      "2021-10-12 13:01:35,763 - thermomodel_None - WARNING - Warning : NULL/L\n",
      "2021-10-12 13:01:35,763 - thermomodel_None - WARNING - Warning : NULL/L\n",
      "2021-10-12 13:01:35,764 - thermomodel_None - WARNING - Warning : NULL/U\n",
      "2021-10-12 13:01:35,765 - thermomodel_None - WARNING - Warning : NULL/L\n",
      "2021-10-12 13:01:35,766 - thermomodel_None - WARNING - Warning : NULL/L\n",
      "2021-10-12 13:01:35,766 - thermomodel_None - WARNING - Warning : NULL/U\n",
      "2021-10-12 13:01:35,767 - thermomodel_None - WARNING - Warning : NULL/L\n",
      "2021-10-12 13:01:35,768 - thermomodel_None - WARNING - Warning : NULL/L\n",
      "2021-10-12 13:01:35,769 - thermomodel_None - WARNING - Warning : NULL/U\n",
      "2021-10-12 13:01:35,770 - thermomodel_None - WARNING - Warning : NULL/L\n",
      "2021-10-12 13:01:35,771 - thermomodel_None - WARNING - Warning : NULL/L\n",
      "2021-10-12 13:01:35,771 - thermomodel_None - WARNING - Warning : NULL/U\n",
      "2021-10-12 13:01:35,772 - thermomodel_None - WARNING - Warning : NULL/L\n",
      "2021-10-12 13:01:35,772 - thermomodel_None - WARNING - Warning : NULL/L\n",
      "2021-10-12 13:01:35,887 - thermomodel_None - INFO - # Model preparation done.\n",
      "2021-10-12 13:01:35,888 - thermomodel_None - INFO - # Model conversion starting...\n",
      "2021-10-12 13:02:24,181 - thermomodel_None - INFO - # Model conversion done.\n",
      "2021-10-12 13:02:24,182 - thermomodel_None - INFO - # Updating cobra_model variables...\n",
      "2021-10-12 13:02:24,222 - thermomodel_None - INFO - # cobra_model variables are up-to-date\n"
     ]
    },
    {
     "name": "stdout",
     "output_type": "stream",
     "text": [
      "                       value\n",
      "key                         \n",
      "name             iJO1366[WT]\n",
      "description      iJO1366[WT]\n",
      "num constraints        15034\n",
      "num variables          15538\n",
      "num metabolites         1807\n",
      "num reactions           2585\n",
      "                             value\n",
      "key                               \n",
      "num metabolites(thermo)       1550\n",
      "num reactions(thermo)         1824\n",
      "pct metabolites(thermo)  85.777532\n",
      "pct reactions(thermo)    70.560928\n",
      "TFA Solution found : 0\n",
      "Read LP format model from file /var/folders/17/58pxvfhj0gb_wz2nzgrzc6pc0000gn/T/tmpzapg4s5o.lp\n",
      "Reading time = 0.02 seconds\n",
      ": 1807 rows, 5170 columns, 20304 nonzeros\n"
     ]
    },
    {
     "name": "stderr",
     "output_type": "stream",
     "text": [
      "2021-10-12 13:02:34,062 - thermomodel_iJO1366[WT] - INFO - # Model initialized with units kcal/mol and temperature 298.15 K\n"
     ]
    },
    {
     "name": "stdout",
     "output_type": "stream",
     "text": [
      "Read LP format model from file /var/folders/17/58pxvfhj0gb_wz2nzgrzc6pc0000gn/T/tmpplks9_o6.lp\n",
      "Reading time = 0.02 seconds\n",
      ": 1807 rows, 5170 columns, 20304 nonzeros\n"
     ]
    },
    {
     "name": "stderr",
     "output_type": "stream",
     "text": [
      "2021-10-12 13:02:51,107 - thermomodel_iJO1366[WT] - INFO - # Model initialized with units kcal/mol and temperature 298.15 K\n",
      "2021-10-12 13:02:59,522 - thermomodel_iJO1366[WT] - INFO - Adding slack constraints\n",
      "adding slacks: 100%|██████████| 1824/1824 [00:45<00:00, 39.98it/s]\n",
      "2021-10-12 13:03:47,089 - thermomodel_iJO1366[WT] - INFO - Optimizing slack model\n",
      "2021-10-12 13:03:56,797 - thermomodel_iJO1366[WT] - INFO - Extracting relaxation\n",
      "applying slack: 100%|██████████| 2585/2585 [00:00<00:00, 84770.84it/s]\n",
      "2021-10-12 13:03:56,973 - thermomodel_iJO1366[WT] - INFO - Testing relaxation\n"
     ]
    },
    {
     "name": "stdout",
     "output_type": "stream",
     "text": [
      "Relaxation: \n",
      "              lb_in      ub_in  lb_change  ub_change     lb_out     ub_out\n",
      "AIRC3    -11.941085  -8.988685   0.000000   2.582409 -11.941085  -6.406276\n",
      "ARGSL     16.770653  18.636729   2.184361   0.000000  14.586293  18.636729\n",
      "ATPS4rpp  -9.518201  -8.083092   1.452217   0.000000 -10.970418  -8.083092\n",
      "GALT1     67.754735  69.018800  54.942183   0.000000  12.812552  69.018800\n",
      "HEPK2     44.872230  45.345690  32.059679   0.000000  12.812552  45.345690\n",
      "HEPT1     25.810459  27.074524  13.693847   0.000000  12.116612  27.074524\n",
      "MECDPS    26.135683  30.646876  11.549390   0.000000  14.586293  30.646876\n",
      "MTHTHFSs  13.297862  14.814659   6.891586   0.000000   6.406276  14.814659\n",
      "PRAIS     17.442418  22.161249   0.065725   0.000000  17.376694  22.161249\n",
      "relaxed TFA Solution found : 0.838\n",
      "FBA Solution found : 24.714\n",
      "TFA Solution found : 0.838\n",
      "Read LP format model from file /var/folders/17/58pxvfhj0gb_wz2nzgrzc6pc0000gn/T/tmpufoa2p_y.lp\n",
      "Reading time = 0.02 seconds\n",
      ": 1807 rows, 5170 columns, 20304 nonzeros\n"
     ]
    },
    {
     "name": "stderr",
     "output_type": "stream",
     "text": [
      "2021-10-12 13:04:51,284 - thermomodel_RelaxedModel iJO1366[WT] - INFO - # Model initialized with units kcal/mol and temperature 298.15 K\n"
     ]
    }
   ],
   "source": [
    "#!/usr/bin/env python\n",
    "# -*- coding: utf-8 -*-\n",
    "import pandas as pd\n",
    "import cobra\n",
    "import pytfa\n",
    "import numpy as np\n",
    "\n",
    "from optlang.exceptions import SolverError\n",
    "\n",
    "#from cobra.core.model import SolverNotFound\n",
    "from cobra.flux_analysis import flux_variability_analysis\n",
    "from cobra.io import load_matlab_model, load_json_model\n",
    "\n",
    "\n",
    "from pytfa.io import import_matlab_model, load_thermoDB,                    \\\n",
    "                            read_lexicon, annotate_from_lexicon,            \\\n",
    "                            read_compartment_data, apply_compartment_data\n",
    "from pytfa.optim.relaxation import relax_dgo\n",
    "\n",
    "import pickle\n",
    "from pytfa.optim.variables import LogConcentration\n",
    "#thermo_database = '/projectnb2/bioinfor/SEGRE/goldford/CoenzymeSpecificity/pytfa/data/thermo_data.thermodb'\n",
    "#root_dir = '/projectnb/bioinfor/SEGRE/goldford/CoenzymeSpecificity/pytfa/tests/singleCoenzymeModel.08272021.v2'\n",
    "thermo_database = '../assets/thermo_data.thermodb'\n",
    "model_path = '../assets'\n",
    "\n",
    "CPLEX = 'optlang-cplex'\n",
    "GUROBI = 'optlang-gurobi'\n",
    "GLPK = 'optlang-glpk'\n",
    "solver = GUROBI\n",
    "\n",
    "# Load reaction DB\n",
    "print(\"Loading thermo data...\")\n",
    "thermo_data = load_thermoDB(thermo_database)\n",
    "\n",
    "print(\"Done !\")\n",
    "#biomass_rxn = 'BIOMASS_Ec_iJO1366_WT_53p95M'\n",
    "biomass_rxn = 'Ec_biomass_iJO1366_WT_53p95M'\n",
    "\n",
    "\n",
    "model_id = 'iJO1366_WT_semi-unconstrained.json'\n",
    "#model_id = 'iJO1366.json'\n",
    "\n",
    "# We import pre-compiled data as it is faster for bigger models\n",
    "cobra_model = load_json_model(model_path + '/' + model_id)\n",
    "\n",
    "lexicon = read_lexicon(model_path + '/iJO1366/lexicon.csv')\n",
    "compartment_data = read_compartment_data(model_path + '/iJO1366/compartment_data.json')\n",
    "\n",
    "# Initialize the cobra_model\n",
    "mytfa = pytfa.ThermoModel(thermo_data, cobra_model)\n",
    "\n",
    "# Annotate the cobra_model\n",
    "annotate_from_lexicon(mytfa, lexicon)\n",
    "apply_compartment_data(mytfa, compartment_data)\n",
    "\n",
    "\n",
    "mytfa.name = 'iJO1366[WT]'\n",
    "mytfa.solver = solver\n",
    "mytfa.objective = biomass_rxn\n",
    "\n",
    "# Solver settings\n",
    "\n",
    "def apply_solver_settings(model, solver = solver):\n",
    "    model.solver = solver\n",
    "    # model.solver.configuration.verbosity = 1\n",
    "    model.solver.configuration.tolerances.feasibility = 1e-9\n",
    "    if solver == 'optlang_gurobi':\n",
    "        model.solver.problem.Params.NumericFocus = 3\n",
    "    model.solver.configuration.presolve = True\n",
    "\n",
    "apply_solver_settings(mytfa)\n",
    "\n",
    "\n",
    "## FBA\n",
    "fba_solution = cobra_model.optimize()\n",
    "fba_value = fba_solution.objective_value\n",
    "print('FBA Solution found : {0:.5g}'.format(fba_value))\n",
    "\n",
    "# fva = flux_variability_analysis(mytfa)\n",
    "\n",
    "## TFA conversion\n",
    "mytfa.prepare()\n",
    "mytfa.convert()#add_displacement = True)\n",
    "\n",
    "## Info on the cobra_model\n",
    "mytfa.print_info()\n",
    "\n",
    "## Optimality\n",
    "tfa_solution = mytfa.optimize()\n",
    "tfa_value = tfa_solution.objective_value\n",
    "print('TFA Solution found : {0:.5g}'.format(tfa_value))\n",
    "\n",
    "# It might happen that the model is infeasible. In this case, we can relax \n",
    "# thermodynamics constraints:\n",
    "\n",
    "if tfa_value < 0.1:\n",
    "    \n",
    "    from pytfa.optim.relaxation import relax_dgo\n",
    "    #mytfa.reactions.get_by_id(biomass_rxn).lower_bound = 0.5*fba_value\n",
    "    mytfa.reactions.get_by_id(biomass_rxn).lower_bound = 0.5\n",
    "    relaxed_model, slack_model, relax_table = relax_dgo(mytfa)\n",
    "    original_model, mytfa = mytfa, relaxed_model\n",
    "    print('Relaxation: ')\n",
    "    print(relax_table)\n",
    "    \n",
    "    tfa_solution = mytfa.optimize()\n",
    "    tfa_value = tfa_solution.objective_value\n",
    "\n",
    "    print('relaxed TFA Solution found : {0:.5g}'.format(tfa_value))\n",
    "\n",
    "# Report\n",
    "print('FBA Solution found : {0:.5g}'.format(fba_value))\n",
    "print('TFA Solution found : {0:.5g}'.format(tfa_value))\n",
    "\n",
    "double_coenzyme_models = {}\n",
    "z = mytfa.copy()\n",
    "double_coenzyme_models['tmodel'] = z\n",
    "double_coenzyme_models['tmodel-maxGrowth'] = tfa_value\n",
    "double_coenzyme_models['tmodel-solution'] = tfa_solution"
   ]
  },
  {
   "cell_type": "code",
   "execution_count": 2,
   "id": "norwegian-latest",
   "metadata": {},
   "outputs": [],
   "source": [
    "def single_coenzyme_transform(model,reaction_id):\n",
    "    \n",
    "    met = {}\n",
    "    met['nad'] = np.where([x.id == 'nad_c' for x in model.metabolites])[0][0]\n",
    "    met['nadp'] = np.where([x.id == 'nadp_c' for x in model.metabolites])[0][0]\n",
    "    met['nadh'] = np.where([x.id == 'nadh_c' for x in model.metabolites])[0][0]\n",
    "    met['nadph'] = np.where([x.id == 'nadph_c' for x in model.metabolites])[0][0]\n",
    "\n",
    "    met_objs = {}\n",
    "    met_objs['nad'] = [x for x in model.metabolites if x.id == 'nad_c'][0]\n",
    "    met_objs['nadh'] = [x for x in model.metabolites if x.id == 'nadh_c'][0]\n",
    "    met_objs['nadp'] = [x for x in model.metabolites if x.id == 'nadp_c'][0]\n",
    "    met_objs['nadph'] = [x for x in model.metabolites if x.id == 'nadph_c'][0]\n",
    "    \n",
    "    rxn = [x for x in model.reactions if x.id == reaction_id][0].copy()\n",
    "    # make a new dictionary with coenzyme swapped\n",
    "    v = {x:y for x,y in rxn.metabolites.items() if x.id in [x + '_c' for x in list(met)]}\n",
    "    \n",
    "    nad_stoich = 0;\n",
    "    nadh_stoich  = 0;\n",
    "    set([x.id for x in m.reactions.get_by_id(rxnid).metabolites])\n",
    "    if len(v) > 1:\n",
    "        v2 = {}\n",
    "        for x,y in v.items():\n",
    "            if x.id == 'nadph_c':\n",
    "                nadh_stoich = nadh_stoich + y \n",
    "                #v2[met_objs['nadh']] = y\n",
    "            elif x.id == 'nadp_c':\n",
    "                nad_stoich = nad_stoich + y \n",
    "                #v2[met_objs['nad']] = y\n",
    "            elif x.id == 'nadh_c':\n",
    "                nadh_stoich = nadh_stoich + y \n",
    "                #v2[met_objs['nadph']] = y\n",
    "            elif x.id == 'nad_c':\n",
    "                nad_stoich = nad_stoich + y \n",
    "                #v2[met_objs['nadp']] = y\n",
    "\n",
    "        v2[met_objs['nad']] = nad_stoich\n",
    "        v2[met_objs['nadh']] = nadh_stoich\n",
    "\n",
    "        rxn.subtract_metabolites(v)\n",
    "        rxn.add_metabolites(v2)\n",
    "        #rxn.id = rxn.id + '[condensed]'\n",
    "        # keep old reaction ID\n",
    "        #print('adding new reaction '+ rxn.id)\n",
    "        model.remove_reactions([x for x in model.reactions if x.id == reaction_id][0])\n",
    "        model.add_reaction(rxn)\n",
    "        coverted = True\n",
    "        return model,coverted\n",
    "    else:\n",
    "        coverted = False\n",
    "        return model,coverted"
   ]
  },
  {
   "cell_type": "code",
   "execution_count": 105,
   "id": "anonymous-touch",
   "metadata": {},
   "outputs": [
    {
     "name": "stdout",
     "output_type": "stream",
     "text": [
      "Read LP format model from file /var/folders/17/58pxvfhj0gb_wz2nzgrzc6pc0000gn/T/tmp8t1ib_7g.lp\n",
      "Reading time = 0.02 seconds\n",
      ": 1807 rows, 5170 columns, 20304 nonzeros\n"
     ]
    },
    {
     "name": "stderr",
     "output_type": "stream",
     "text": [
      "2021-10-19 09:58:48,926 - thermomodel_RelaxedModel iJO1366[WT] - INFO - # Model initialized with units kcal/mol and temperature 298.15 K\n",
      "/Users/joshuagoldford/opt/miniconda3/envs/coenzymes/lib/python3.8/site-packages/cobra/core/model.py:745: UserWarning: need to pass in a list\n",
      "  warn(\"need to pass in a list\")\n"
     ]
    },
    {
     "name": "stdout",
     "output_type": "stream",
     "text": [
      "Read LP format model from file /var/folders/17/58pxvfhj0gb_wz2nzgrzc6pc0000gn/T/tmpfy4r8p9x.lp\n",
      "Reading time = 0.02 seconds\n",
      ": 1807 rows, 5162 columns, 20260 nonzeros\n"
     ]
    },
    {
     "name": "stderr",
     "output_type": "stream",
     "text": [
      "2021-10-19 09:59:47,708 - thermomodel_RelaxedModel iJO1366[NAD] - INFO - # Model initialized with units kcal/mol and temperature 298.15 K\n"
     ]
    }
   ],
   "source": [
    "m  = z.copy()\n",
    "\n",
    "rxns_to_remove = ['NADTRHD','NADPPPS','NADK','THD2pp']\n",
    "rxn_ids = [x.id for x in m.reactions]\n",
    "\n",
    "#m.remove_reactions([x for x in m.reactions if x.id == 'NADTRHD'][0])\n",
    "#m.remove_reactions([x for x in m.reactions if x.id == 'NADPPPS'][0])\n",
    "#m.remove_reactions([x for x in m.reactions if x.id == 'NADK'][0])\n",
    "#m.remove_reactions([x for x in m.reactions if x.id in rxns_to_remove][0])\n",
    "\n",
    "m.remove_reactions(rxns_to_remove)\n",
    "\n",
    "rxn_ids = [x for x in rxn_ids if x not in rxns_to_remove]\n",
    "#rxn_ids = [x for x in rxn_ids if x not in ['Ec_biomass_iJO1366_WT_53p95M','Ec_biomass_iJO1366_core_53p95M']]\n",
    "\n",
    "converted_rxns = []\n",
    "for rxnid in rxn_ids:\n",
    "    m,conv = single_coenzyme_transform(m,rxnid)\n",
    "    if conv:\n",
    "        converted_rxns.append(rxnid)\n",
    "\n",
    "        \n",
    "#m.remove_reactions([x for x in m.reactions if x.id == 'NADTRHD[condensed]'][0])\n",
    "#m.remove_reactions([x for x in m.reactions if x.id == 'NADPPPS[condensed]'][0])\n",
    "#m.remove_reactions([x for x in m.reactions if x.id == 'NADK[condensed]'][0])\n",
    "#m.remove_reactions([x for x in m.reactions if x.id == 'NADDP'][0])\n",
    "\n",
    "m.id = 'iJO1366[NAD]'\n",
    "#m.objective = 'BIOMASS_Ec_iJO1366_WT_53p95M'\n",
    "m.objective = 'Ec_biomass_iJO1366_WT_53p95M'\n",
    "m.name = 'RelaxedModel iJO1366[NAD]'\n",
    "m.description = 'RelaxedModel iJO1366[NAD]'\n",
    "\n",
    "met_objs = {}\n",
    "met_objs['nad'] = [x for x in m.metabolites if x.id == 'nad_c'][0]\n",
    "met_objs['nadh'] = [x for x in m.metabolites if x.id == 'nadh_c'][0]\n",
    "met_objs['nadp'] = [x for x in m.metabolites if x.id == 'nadp_c'][0]\n",
    "met_objs['nadph'] = [x for x in m.metabolites if x.id == 'nadph_c'][0]\n",
    "#m.remove_metabolites([met_objs['nadp'],met_objs['nadph']])\n",
    "m,unusedmets = cobra.manipulation.delete.prune_unused_metabolites(m)"
   ]
  },
  {
   "cell_type": "code",
   "execution_count": 106,
   "id": "steady-smart",
   "metadata": {
    "collapsed": true,
    "jupyter": {
     "outputs_hidden": true
    }
   },
   "outputs": [
    {
     "name": "stderr",
     "output_type": "stream",
     "text": [
      "2021-10-19 10:00:14,361 - thermomodel_RelaxedModel iJO1366[NAD] - INFO - # Model preparation starting...\n",
      "2021-10-19 10:00:16,640 - thermomodel_RelaxedModel iJO1366[NAD] - WARNING - Warning : NULL/U\n",
      "2021-10-19 10:00:16,641 - thermomodel_RelaxedModel iJO1366[NAD] - WARNING - Warning : NULL/L\n",
      "2021-10-19 10:00:16,642 - thermomodel_RelaxedModel iJO1366[NAD] - WARNING - Warning : NULL/L\n",
      "2021-10-19 10:00:16,643 - thermomodel_RelaxedModel iJO1366[NAD] - WARNING - Warning : NULL/U\n",
      "2021-10-19 10:00:16,644 - thermomodel_RelaxedModel iJO1366[NAD] - WARNING - Warning : NULL/L\n",
      "2021-10-19 10:00:16,645 - thermomodel_RelaxedModel iJO1366[NAD] - WARNING - Warning : NULL/L\n",
      "2021-10-19 10:00:16,763 - thermomodel_RelaxedModel iJO1366[NAD] - WARNING - Warning : NULL/U\n",
      "2021-10-19 10:00:16,763 - thermomodel_RelaxedModel iJO1366[NAD] - WARNING - Warning : NULL/L\n",
      "2021-10-19 10:00:16,764 - thermomodel_RelaxedModel iJO1366[NAD] - WARNING - Warning : NULL/L\n",
      "2021-10-19 10:00:16,765 - thermomodel_RelaxedModel iJO1366[NAD] - WARNING - Warning : NULL/U\n",
      "2021-10-19 10:00:16,766 - thermomodel_RelaxedModel iJO1366[NAD] - WARNING - Warning : NULL/L\n",
      "2021-10-19 10:00:16,766 - thermomodel_RelaxedModel iJO1366[NAD] - WARNING - Warning : NULL/L\n",
      "2021-10-19 10:00:16,813 - thermomodel_RelaxedModel iJO1366[NAD] - WARNING - Warning : NULL/U\n",
      "2021-10-19 10:00:16,815 - thermomodel_RelaxedModel iJO1366[NAD] - WARNING - Warning : NULL/L\n",
      "2021-10-19 10:00:16,816 - thermomodel_RelaxedModel iJO1366[NAD] - WARNING - Warning : NULL/L\n",
      "2021-10-19 10:00:16,817 - thermomodel_RelaxedModel iJO1366[NAD] - WARNING - Warning : NULL/U\n",
      "2021-10-19 10:00:16,817 - thermomodel_RelaxedModel iJO1366[NAD] - WARNING - Warning : NULL/L\n",
      "2021-10-19 10:00:16,818 - thermomodel_RelaxedModel iJO1366[NAD] - WARNING - Warning : NULL/L\n",
      "2021-10-19 10:00:16,819 - thermomodel_RelaxedModel iJO1366[NAD] - WARNING - Warning : NULL/U\n",
      "2021-10-19 10:00:16,819 - thermomodel_RelaxedModel iJO1366[NAD] - WARNING - Warning : NULL/L\n",
      "2021-10-19 10:00:16,820 - thermomodel_RelaxedModel iJO1366[NAD] - WARNING - Warning : NULL/L\n",
      "2021-10-19 10:00:16,821 - thermomodel_RelaxedModel iJO1366[NAD] - WARNING - Warning : NULL/U\n",
      "2021-10-19 10:00:16,821 - thermomodel_RelaxedModel iJO1366[NAD] - WARNING - Warning : NULL/L\n",
      "2021-10-19 10:00:16,822 - thermomodel_RelaxedModel iJO1366[NAD] - WARNING - Warning : NULL/L\n",
      "2021-10-19 10:00:16,823 - thermomodel_RelaxedModel iJO1366[NAD] - WARNING - Warning : NULL/U\n",
      "2021-10-19 10:00:16,824 - thermomodel_RelaxedModel iJO1366[NAD] - WARNING - Warning : NULL/L\n",
      "2021-10-19 10:00:16,825 - thermomodel_RelaxedModel iJO1366[NAD] - WARNING - Warning : NULL/L\n",
      "2021-10-19 10:00:16,826 - thermomodel_RelaxedModel iJO1366[NAD] - WARNING - Warning : NULL/U\n",
      "2021-10-19 10:00:16,827 - thermomodel_RelaxedModel iJO1366[NAD] - WARNING - Warning : NULL/L\n",
      "2021-10-19 10:00:16,828 - thermomodel_RelaxedModel iJO1366[NAD] - WARNING - Warning : NULL/L\n",
      "2021-10-19 10:00:16,829 - thermomodel_RelaxedModel iJO1366[NAD] - WARNING - Warning : NULL/U\n",
      "2021-10-19 10:00:16,829 - thermomodel_RelaxedModel iJO1366[NAD] - WARNING - Warning : NULL/L\n",
      "2021-10-19 10:00:16,830 - thermomodel_RelaxedModel iJO1366[NAD] - WARNING - Warning : NULL/L\n",
      "2021-10-19 10:00:16,830 - thermomodel_RelaxedModel iJO1366[NAD] - WARNING - Warning : NULL/U\n",
      "2021-10-19 10:00:16,831 - thermomodel_RelaxedModel iJO1366[NAD] - WARNING - Warning : NULL/L\n",
      "2021-10-19 10:00:16,832 - thermomodel_RelaxedModel iJO1366[NAD] - WARNING - Warning : NULL/L\n",
      "2021-10-19 10:00:16,954 - thermomodel_RelaxedModel iJO1366[NAD] - WARNING - Warning : NULL/U\n",
      "2021-10-19 10:00:16,955 - thermomodel_RelaxedModel iJO1366[NAD] - WARNING - Warning : NULL/L\n",
      "2021-10-19 10:00:16,956 - thermomodel_RelaxedModel iJO1366[NAD] - WARNING - Warning : NULL/L\n",
      "2021-10-19 10:00:16,956 - thermomodel_RelaxedModel iJO1366[NAD] - WARNING - Warning : NULL/U\n",
      "2021-10-19 10:00:16,957 - thermomodel_RelaxedModel iJO1366[NAD] - WARNING - Warning : NULL/L\n",
      "2021-10-19 10:00:16,958 - thermomodel_RelaxedModel iJO1366[NAD] - WARNING - Warning : NULL/L\n",
      "2021-10-19 10:00:16,996 - thermomodel_RelaxedModel iJO1366[NAD] - INFO - # Model preparation done.\n",
      "2021-10-19 10:00:16,996 - thermomodel_RelaxedModel iJO1366[NAD] - INFO - # Model conversion starting...\n",
      "2021-10-19 10:00:29,966 - thermomodel_RelaxedModel iJO1366[NAD] - INFO - # Model conversion done.\n",
      "2021-10-19 10:00:29,966 - thermomodel_RelaxedModel iJO1366[NAD] - INFO - # Updating cobra_model variables...\n",
      "2021-10-19 10:00:30,011 - thermomodel_RelaxedModel iJO1366[NAD] - INFO - # cobra_model variables are up-to-date\n"
     ]
    },
    {
     "name": "stdout",
     "output_type": "stream",
     "text": [
      "                                     value\n",
      "key                                       \n",
      "name             RelaxedModel iJO1366[NAD]\n",
      "description      RelaxedModel iJO1366[NAD]\n",
      "num constraints                      15008\n",
      "num variables                        15512\n",
      "num metabolites                       1805\n",
      "num reactions                         2581\n",
      "                             value\n",
      "key                               \n",
      "num metabolites(thermo)       1548\n",
      "num reactions(thermo)         1820\n",
      "pct metabolites(thermo)  85.761773\n",
      "pct reactions(thermo)    70.515304\n"
     ]
    }
   ],
   "source": [
    "## re-prepare the TFA model\n",
    "m.prepare()\n",
    "m.convert()#add_displacement = True)\n",
    "## Info on the cobra_model\n",
    "m.print_info()"
   ]
  },
  {
   "cell_type": "code",
   "execution_count": 107,
   "id": "sporting-dictionary",
   "metadata": {},
   "outputs": [
    {
     "name": "stdout",
     "output_type": "stream",
     "text": [
      "TFA Solution found : 0.72479\n"
     ]
    }
   ],
   "source": [
    "tfa_solution_sc = m.optimize()\n",
    "tfa_value_sc = tfa_solution_sc.objective_value\n",
    "# Report\n",
    "print('TFA Solution found : {0:.5g}'.format(tfa_value_sc))"
   ]
  },
  {
   "cell_type": "code",
   "execution_count": 108,
   "id": "framed-allergy",
   "metadata": {},
   "outputs": [
    {
     "name": "stdout",
     "output_type": "stream",
     "text": [
      "TFA Solution found : 0.838\n"
     ]
    }
   ],
   "source": [
    "tfa_solution_wt = z.optimize()\n",
    "tfa_value_wt = tfa_solution_wt.objective_value\n",
    "# Report\n",
    "print('TFA Solution found : {0:.5g}'.format(tfa_value_wt))"
   ]
  },
  {
   "cell_type": "code",
   "execution_count": 110,
   "id": "exclusive-blink",
   "metadata": {},
   "outputs": [],
   "source": [
    "tfa_res = pd.DataFrame({'model': ['WT','SC'], 'max growth rate' : [tfa_value_wt,tfa_value_sc]})"
   ]
  },
  {
   "cell_type": "code",
   "execution_count": 312,
   "id": "civilian-desperate",
   "metadata": {},
   "outputs": [
    {
     "data": {
      "image/png": "[encoded data removed]",
      "text/plain": [
       "<Figure size 432x288 with 1 Axes>"
      ]
     },
     "metadata": {
      "needs_background": "light"
     },
     "output_type": "display_data"
    }
   ],
   "source": [
    "sns.barplot(x='model',y='max growth rate',data=tfa_res,palette='Set1')\n",
    "plt.title('iJO1366')\n",
    "plt.savefig('iJO1366.wt_sc.barplot.svg')"
   ]
  },
  {
   "cell_type": "code",
   "execution_count": 103,
   "id": "civil-opening",
   "metadata": {},
   "outputs": [],
   "source": [
    "#help(m.optimize())\n",
    "sol_pfba = cobra.flux_analysis.pfba(m)"
   ]
  },
  {
   "cell_type": "code",
   "execution_count": 20,
   "id": "statistical-fluid",
   "metadata": {},
   "outputs": [],
   "source": [
    "m.description = 'RelaxedModel iJO1366[NAD]'"
   ]
  },
  {
   "cell_type": "code",
   "execution_count": 30,
   "id": "dependent-reverse",
   "metadata": {},
   "outputs": [],
   "source": [
    "wt_fluxes = pd.DataFrame(tfa_solution.fluxes)\n",
    "sc_fluxes = pd.DataFrame(tfa_solution_sc.fluxes)\n",
    "wt_fluxes.columns = ['WT']\n",
    "sc_fluxes.columns = ['SC']"
   ]
  },
  {
   "cell_type": "code",
   "execution_count": 34,
   "id": "closing-consensus",
   "metadata": {},
   "outputs": [],
   "source": [
    "res = wt_fluxes.join(sc_fluxes)"
   ]
  },
  {
   "cell_type": "code",
   "execution_count": 139,
   "id": "commercial-runner",
   "metadata": {},
   "outputs": [],
   "source": [
    "reaction_ids = pd.DataFrame(tfa_solution.fluxes).index.tolist()\n",
    "reaction_ids = [x for x in reaction_ids if x[0:2] != 'DM']\n",
    "reaction_ids = [x for x in reaction_ids if x not in ['Ec_biomass_iJO1366_WT_53p95M','Ec_biomass_iJO1366_core_53p95M']]\n"
   ]
  },
  {
   "cell_type": "code",
   "execution_count": 144,
   "id": "constant-arrangement",
   "metadata": {},
   "outputs": [
    {
     "name": "stdout",
     "output_type": "stream",
     "text": [
      "Read LP format model from file /var/folders/17/58pxvfhj0gb_wz2nzgrzc6pc0000gn/T/tmppy921hyg.lp\n",
      "Reading time = 0.02 seconds\n",
      ": 1807 rows, 5170 columns, 20304 nonzeros\n"
     ]
    },
    {
     "name": "stderr",
     "output_type": "stream",
     "text": [
      "2021-10-19 11:01:57,670 - thermomodel_RelaxedModel iJO1366[WT] - INFO - # Model initialized with units kcal/mol and temperature 298.15 K\n"
     ]
    },
    {
     "name": "stdout",
     "output_type": "stream",
     "text": [
      "Read LP format model from file /var/folders/17/58pxvfhj0gb_wz2nzgrzc6pc0000gn/T/tmpx305l9wn.lp\n",
      "Reading time = 0.01 seconds\n",
      ": 1805 rows, 5162 columns, 20260 nonzeros\n"
     ]
    },
    {
     "name": "stderr",
     "output_type": "stream",
     "text": [
      "2021-10-19 11:02:12,830 - thermomodel_RelaxedModel iJO1366[NAD] - INFO - # Model initialized with units kcal/mol and temperature 298.15 K\n"
     ]
    }
   ],
   "source": [
    "# change flux bounds to 100\n",
    "wt_model = z.copy()\n",
    "sc_model = m.copy()"
   ]
  },
  {
   "cell_type": "code",
   "execution_count": 156,
   "id": "equal-juice",
   "metadata": {},
   "outputs": [],
   "source": [
    "fb = 100\n",
    "wt_rxns = [x.id for x in wt_model.reactions]\n",
    "sc_rxns = [x.id for x in sc_model.reactions]\n",
    "\n",
    "for r in reaction_ids:\n",
    "    if r in wt_rxns:\n",
    "        lb = wt_model.reactions.get_by_id(r).lower_bound\n",
    "        ub = wt_model.reactions.get_by_id(r).upper_bound\n",
    "        if ub > fb:\n",
    "            ub = fb\n",
    "        if lb < -fb:\n",
    "            lb = -fb\n",
    "            \n",
    "        wt_model.reactions.get_by_id(r).lower_bound = lb\n",
    "        wt_model.reactions.get_by_id(r).upper_bound = ub\n",
    "        \n",
    "    if r in sc_rxns:\n",
    "        lb = sc_model.reactions.get_by_id(r).lower_bound\n",
    "        ub = sc_model.reactions.get_by_id(r).upper_bound\n",
    "        if ub > fb:\n",
    "            ub = fb\n",
    "        if lb < -fb:\n",
    "            lb = -fb\n",
    "            \n",
    "        sc_model.reactions.get_by_id(r).lower_bound = lb\n",
    "        sc_model.reactions.get_by_id(r).upper_bound = ub"
   ]
  },
  {
   "cell_type": "code",
   "execution_count": 197,
   "id": "friendly-gauge",
   "metadata": {},
   "outputs": [],
   "source": [
    "wt_model.reactions.get_by_id('ATPM').lower_bound = 0\n",
    "sc_model.reactions.get_by_id('ATPM').lower_bound = 0"
   ]
  },
  {
   "cell_type": "code",
   "execution_count": 198,
   "id": "competent-european",
   "metadata": {},
   "outputs": [
    {
     "name": "stdout",
     "output_type": "stream",
     "text": [
      "TFA Solution found for WT model : 0.83799\n",
      "TFA Solution found for SC model : 0.72478\n"
     ]
    }
   ],
   "source": [
    "tfa_solution_wt = wt_model.optimize()\n",
    "tfa_value_wt = tfa_solution_wt.objective_value\n",
    "# Report\n",
    "print('TFA Solution found for WT model : {0:.5g}'.format(tfa_value_wt))\n",
    "\n",
    "tfa_solution_sc = sc_model.optimize()\n",
    "tfa_value_sc = tfa_solution_sc.objective_value\n",
    "# Report\n",
    "print('TFA Solution found for SC model : {0:.5g}'.format(tfa_value_sc))"
   ]
  },
  {
   "cell_type": "code",
   "execution_count": 251,
   "id": "inappropriate-permit",
   "metadata": {},
   "outputs": [],
   "source": [
    "gene_set = pd.read_csv('../../assets/EC_1.X.1.X.Unique_NAD(P)_Coupled.GeneSet.Thermo.csv')"
   ]
  },
  {
   "cell_type": "code",
   "execution_count": 280,
   "id": "efficient-article",
   "metadata": {},
   "outputs": [],
   "source": [
    "def swap_reaction_rid(model,reaction_id):\n",
    "    met = {}\n",
    "    met['nad'] = np.where([x.id == 'nad_c' for x in model.metabolites])[0][0]\n",
    "    met['nadp'] = np.where([x.id == 'nadp_c' for x in model.metabolites])[0][0]\n",
    "    met['nadh'] = np.where([x.id == 'nadh_c' for x in model.metabolites])[0][0]\n",
    "    met['nadph'] = np.where([x.id == 'nadph_c' for x in model.metabolites])[0][0]\n",
    "\n",
    "    met_objs = {}\n",
    "    met_objs['nad'] = [x for x in model.metabolites if x.id == 'nad_c'][0]\n",
    "    met_objs['nadh'] = [x for x in model.metabolites if x.id == 'nadh_c'][0]\n",
    "    met_objs['nadp'] = [x for x in model.metabolites if x.id == 'nadp_c'][0]\n",
    "    met_objs['nadph'] = [x for x in model.metabolites if x.id == 'nadph_c'][0]\n",
    "    \n",
    "    rxn = model.reactions.get_by_id(reaction_id).copy()\n",
    "    # make a new dictionary with coenzyme swapped\n",
    "    v = {x:y for x,y in rxn.metabolites.items() if x.id in [x + '_c' for x in list(met)]}\n",
    "\n",
    "    v2 = {}\n",
    "    for x,y in v.items():\n",
    "        if x.id == 'nadph_c':\n",
    "            v2[met_objs['nadh']] = y\n",
    "        elif x.id == 'nadp_c':\n",
    "            v2[met_objs['nad']] = y\n",
    "        elif x.id == 'nadh_c':\n",
    "            v2[met_objs['nadph']] = y\n",
    "        elif x.id == 'nad_c':\n",
    "            v2[met_objs['nadp']] = y\n",
    "            \n",
    "    rxn.subtract_metabolites(v)\n",
    "    rxn.add_metabolites(v2)\n",
    "    rxn.id = rxn.id + '[mutant]'\n",
    "    model.remove_reactions([reaction_id])\n",
    "    model.add_reaction(rxn)\n",
    "    return model"
   ]
  },
  {
   "cell_type": "code",
   "execution_count": 257,
   "id": "lightweight-adjustment",
   "metadata": {},
   "outputs": [
    {
     "name": "stdout",
     "output_type": "stream",
     "text": [
      "Read LP format model from file /var/folders/17/58pxvfhj0gb_wz2nzgrzc6pc0000gn/T/tmp19uumv5e.lp\n",
      "Reading time = 0.02 seconds\n",
      ": 1807 rows, 5170 columns, 20304 nonzeros\n"
     ]
    },
    {
     "name": "stderr",
     "output_type": "stream",
     "text": [
      "2021-10-20 14:52:45,193 - thermomodel_RelaxedModel iJO1366[WT] - INFO - # Model initialized with units kcal/mol and temperature 298.15 K\n"
     ]
    }
   ],
   "source": [
    "wt = wt_model.copy()"
   ]
  },
  {
   "cell_type": "code",
   "execution_count": 282,
   "id": "vertical-corruption",
   "metadata": {
    "collapsed": true,
    "jupyter": {
     "outputs_hidden": true
    }
   },
   "outputs": [
    {
     "name": "stdout",
     "output_type": "stream",
     "text": [
      "Read LP format model from file /var/folders/17/58pxvfhj0gb_wz2nzgrzc6pc0000gn/T/tmpn7d96vfj.lp\n",
      "Reading time = 0.02 seconds\n",
      ": 1807 rows, 5170 columns, 20304 nonzeros\n"
     ]
    },
    {
     "name": "stderr",
     "output_type": "stream",
     "text": [
      "2021-10-20 16:14:55,639 - thermomodel_RelaxedModel iJO1366[WT] - INFO - # Model initialized with units kcal/mol and temperature 298.15 K\n"
     ]
    },
    {
     "name": "stdout",
     "output_type": "stream",
     "text": [
      "done with gene: dapB\n",
      "Read LP format model from file /var/folders/17/58pxvfhj0gb_wz2nzgrzc6pc0000gn/T/tmp8_9lpq6_.lp\n",
      "Reading time = 0.02 seconds\n",
      ": 1807 rows, 5170 columns, 20304 nonzeros\n"
     ]
    },
    {
     "name": "stderr",
     "output_type": "stream",
     "text": [
      "2021-10-20 16:15:25,362 - thermomodel_RelaxedModel iJO1366[WT] - INFO - # Model initialized with units kcal/mol and temperature 298.15 K\n"
     ]
    },
    {
     "name": "stdout",
     "output_type": "stream",
     "text": [
      "done with gene: pdxA\n",
      "Read LP format model from file /var/folders/17/58pxvfhj0gb_wz2nzgrzc6pc0000gn/T/tmp4wd7umbd.lp\n",
      "Reading time = 0.02 seconds\n",
      ": 1807 rows, 5170 columns, 20304 nonzeros\n"
     ]
    },
    {
     "name": "stderr",
     "output_type": "stream",
     "text": [
      "2021-10-20 16:16:42,332 - thermomodel_RelaxedModel iJO1366[WT] - INFO - # Model initialized with units kcal/mol and temperature 298.15 K\n"
     ]
    },
    {
     "name": "stdout",
     "output_type": "stream",
     "text": [
      "done with gene: leuB\n",
      "Read LP format model from file /var/folders/17/58pxvfhj0gb_wz2nzgrzc6pc0000gn/T/tmp2avi9l88.lp\n",
      "Reading time = 0.02 seconds\n",
      ": 1807 rows, 5170 columns, 20304 nonzeros\n"
     ]
    },
    {
     "name": "stderr",
     "output_type": "stream",
     "text": [
      "2021-10-20 16:19:09,145 - thermomodel_RelaxedModel iJO1366[WT] - INFO - # Model initialized with units kcal/mol and temperature 298.15 K\n"
     ]
    },
    {
     "name": "stdout",
     "output_type": "stream",
     "text": [
      "done with gene: guaC\n",
      "Read LP format model from file /var/folders/17/58pxvfhj0gb_wz2nzgrzc6pc0000gn/T/tmpqj89h4yp.lp\n",
      "Reading time = 0.01 seconds\n",
      ": 1807 rows, 5170 columns, 20304 nonzeros\n"
     ]
    },
    {
     "name": "stderr",
     "output_type": "stream",
     "text": [
      "2021-10-20 16:19:32,190 - thermomodel_RelaxedModel iJO1366[WT] - INFO - # Model initialized with units kcal/mol and temperature 298.15 K\n"
     ]
    },
    {
     "name": "stdout",
     "output_type": "stream",
     "text": [
      "done with gene: lpd\n",
      "Read LP format model from file /var/folders/17/58pxvfhj0gb_wz2nzgrzc6pc0000gn/T/tmptdgw8tsp.lp\n",
      "Reading time = 0.02 seconds\n",
      ": 1807 rows, 5170 columns, 20304 nonzeros\n"
     ]
    },
    {
     "name": "stderr",
     "output_type": "stream",
     "text": [
      "2021-10-20 16:19:51,805 - thermomodel_RelaxedModel iJO1366[WT] - INFO - # Model initialized with units kcal/mol and temperature 298.15 K\n"
     ]
    },
    {
     "name": "stdout",
     "output_type": "stream",
     "text": [
      "done with gene: dxr\n",
      "Read LP format model from file /var/folders/17/58pxvfhj0gb_wz2nzgrzc6pc0000gn/T/tmpozrqpfur.lp\n",
      "Reading time = 0.02 seconds\n",
      ": 1807 rows, 5170 columns, 20304 nonzeros\n"
     ]
    },
    {
     "name": "stderr",
     "output_type": "stream",
     "text": [
      "2021-10-20 16:21:06,620 - thermomodel_RelaxedModel iJO1366[WT] - INFO - # Model initialized with units kcal/mol and temperature 298.15 K\n"
     ]
    },
    {
     "name": "stdout",
     "output_type": "stream",
     "text": [
      "done with gene: proA\n",
      "Read LP format model from file /var/folders/17/58pxvfhj0gb_wz2nzgrzc6pc0000gn/T/tmposco9ua1.lp\n",
      "Reading time = 0.02 seconds\n",
      ": 1807 rows, 5170 columns, 20304 nonzeros\n"
     ]
    },
    {
     "name": "stderr",
     "output_type": "stream",
     "text": [
      "2021-10-20 16:21:51,936 - thermomodel_RelaxedModel iJO1366[WT] - INFO - # Model initialized with units kcal/mol and temperature 298.15 K\n"
     ]
    },
    {
     "name": "stdout",
     "output_type": "stream",
     "text": [
      "done with gene: betB\n",
      "Read LP format model from file /var/folders/17/58pxvfhj0gb_wz2nzgrzc6pc0000gn/T/tmpifokj861.lp\n",
      "Reading time = 0.02 seconds\n",
      ": 1807 rows, 5170 columns, 20304 nonzeros\n"
     ]
    },
    {
     "name": "stderr",
     "output_type": "stream",
     "text": [
      "2021-10-20 16:22:17,289 - thermomodel_RelaxedModel iJO1366[WT] - INFO - # Model initialized with units kcal/mol and temperature 298.15 K\n"
     ]
    },
    {
     "name": "stdout",
     "output_type": "stream",
     "text": [
      "done with gene: frmA\n",
      "Read LP format model from file /var/folders/17/58pxvfhj0gb_wz2nzgrzc6pc0000gn/T/tmpks8b842x.lp\n",
      "Reading time = 0.02 seconds\n",
      ": 1807 rows, 5170 columns, 20304 nonzeros\n"
     ]
    },
    {
     "name": "stderr",
     "output_type": "stream",
     "text": [
      "2021-10-20 16:22:39,249 - thermomodel_RelaxedModel iJO1366[WT] - INFO - # Model initialized with units kcal/mol and temperature 298.15 K\n"
     ]
    },
    {
     "name": "stdout",
     "output_type": "stream",
     "text": [
      "done with gene: proC\n",
      "Read LP format model from file /var/folders/17/58pxvfhj0gb_wz2nzgrzc6pc0000gn/T/tmpepdmr4b0.lp\n",
      "Reading time = 0.01 seconds\n",
      ": 1807 rows, 5170 columns, 20304 nonzeros\n"
     ]
    },
    {
     "name": "stderr",
     "output_type": "stream",
     "text": [
      "2021-10-20 16:23:08,391 - thermomodel_RelaxedModel iJO1366[WT] - INFO - # Model initialized with units kcal/mol and temperature 298.15 K\n"
     ]
    },
    {
     "name": "stdout",
     "output_type": "stream",
     "text": [
      "done with gene: ribD\n",
      "Read LP format model from file /var/folders/17/58pxvfhj0gb_wz2nzgrzc6pc0000gn/T/tmp25esro6a.lp\n",
      "Reading time = 0.02 seconds\n",
      ": 1807 rows, 5170 columns, 20304 nonzeros\n"
     ]
    },
    {
     "name": "stderr",
     "output_type": "stream",
     "text": [
      "2021-10-20 16:23:47,760 - thermomodel_RelaxedModel iJO1366[WT] - INFO - # Model initialized with units kcal/mol and temperature 298.15 K\n"
     ]
    },
    {
     "name": "stdout",
     "output_type": "stream",
     "text": [
      "done with gene: allD\n",
      "Read LP format model from file /var/folders/17/58pxvfhj0gb_wz2nzgrzc6pc0000gn/T/tmplmitb9pw.lp\n",
      "Reading time = 0.01 seconds\n",
      ": 1807 rows, 5170 columns, 20304 nonzeros\n"
     ]
    },
    {
     "name": "stderr",
     "output_type": "stream",
     "text": [
      "2021-10-20 16:24:11,180 - thermomodel_RelaxedModel iJO1366[WT] - INFO - # Model initialized with units kcal/mol and temperature 298.15 K\n"
     ]
    },
    {
     "name": "stdout",
     "output_type": "stream",
     "text": [
      "done with gene: folD\n",
      "Read LP format model from file /var/folders/17/58pxvfhj0gb_wz2nzgrzc6pc0000gn/T/tmp8e9_1684.lp\n",
      "Reading time = 0.01 seconds\n",
      ": 1807 rows, 5170 columns, 20304 nonzeros\n"
     ]
    },
    {
     "name": "stderr",
     "output_type": "stream",
     "text": [
      "2021-10-20 16:24:29,529 - thermomodel_RelaxedModel iJO1366[WT] - INFO - # Model initialized with units kcal/mol and temperature 298.15 K\n"
     ]
    },
    {
     "name": "stdout",
     "output_type": "stream",
     "text": [
      "done with gene: entA\n",
      "Read LP format model from file /var/folders/17/58pxvfhj0gb_wz2nzgrzc6pc0000gn/T/tmp086uyzry.lp\n",
      "Reading time = 0.01 seconds\n",
      ": 1807 rows, 5170 columns, 20304 nonzeros\n"
     ]
    },
    {
     "name": "stderr",
     "output_type": "stream",
     "text": [
      "2021-10-20 16:24:51,142 - thermomodel_RelaxedModel iJO1366[WT] - INFO - # Model initialized with units kcal/mol and temperature 298.15 K\n"
     ]
    },
    {
     "name": "stdout",
     "output_type": "stream",
     "text": [
      "done with gene: trxB\n",
      "Read LP format model from file /var/folders/17/58pxvfhj0gb_wz2nzgrzc6pc0000gn/T/tmp1o4uyadt.lp\n",
      "Reading time = 0.02 seconds\n",
      ": 1807 rows, 5170 columns, 20304 nonzeros\n"
     ]
    },
    {
     "name": "stderr",
     "output_type": "stream",
     "text": [
      "2021-10-20 16:25:09,272 - thermomodel_RelaxedModel iJO1366[WT] - INFO - # Model initialized with units kcal/mol and temperature 298.15 K\n"
     ]
    },
    {
     "name": "stdout",
     "output_type": "stream",
     "text": [
      "done with gene: putA\n",
      "Read LP format model from file /var/folders/17/58pxvfhj0gb_wz2nzgrzc6pc0000gn/T/tmpormg6gwn.lp\n",
      "Reading time = 0.01 seconds\n",
      ": 1807 rows, 5170 columns, 20304 nonzeros\n"
     ]
    },
    {
     "name": "stderr",
     "output_type": "stream",
     "text": [
      "2021-10-20 16:25:35,635 - thermomodel_RelaxedModel iJO1366[WT] - INFO - # Model initialized with units kcal/mol and temperature 298.15 K\n"
     ]
    },
    {
     "name": "stdout",
     "output_type": "stream",
     "text": [
      "done with gene: icd\n",
      "Read LP format model from file /var/folders/17/58pxvfhj0gb_wz2nzgrzc6pc0000gn/T/tmp2exb7cma.lp\n",
      "Reading time = 0.01 seconds\n",
      ": 1807 rows, 5170 columns, 20304 nonzeros\n"
     ]
    },
    {
     "name": "stderr",
     "output_type": "stream",
     "text": [
      "2021-10-20 16:26:06,445 - thermomodel_RelaxedModel iJO1366[WT] - INFO - # Model initialized with units kcal/mol and temperature 298.15 K\n"
     ]
    },
    {
     "name": "stdout",
     "output_type": "stream",
     "text": [
      "done with gene: puuC\n",
      "Read LP format model from file /var/folders/17/58pxvfhj0gb_wz2nzgrzc6pc0000gn/T/tmp2q_imxbj.lp\n",
      "Reading time = 0.02 seconds\n",
      ": 1807 rows, 5170 columns, 20304 nonzeros\n"
     ]
    },
    {
     "name": "stderr",
     "output_type": "stream",
     "text": [
      "2021-10-20 16:26:20,578 - thermomodel_RelaxedModel iJO1366[WT] - INFO - # Model initialized with units kcal/mol and temperature 298.15 K\n"
     ]
    },
    {
     "name": "stdout",
     "output_type": "stream",
     "text": [
      "done with gene: feaB\n",
      "Read LP format model from file /var/folders/17/58pxvfhj0gb_wz2nzgrzc6pc0000gn/T/tmpb1h1s_cj.lp\n",
      "Reading time = 0.02 seconds\n",
      ": 1807 rows, 5170 columns, 20304 nonzeros\n"
     ]
    },
    {
     "name": "stderr",
     "output_type": "stream",
     "text": [
      "2021-10-20 16:26:40,343 - thermomodel_RelaxedModel iJO1366[WT] - INFO - # Model initialized with units kcal/mol and temperature 298.15 K\n"
     ]
    },
    {
     "name": "stdout",
     "output_type": "stream",
     "text": [
      "done with gene: paaZ\n",
      "Read LP format model from file /var/folders/17/58pxvfhj0gb_wz2nzgrzc6pc0000gn/T/tmpqtxqxdvr.lp\n",
      "Reading time = 0.01 seconds\n",
      ": 1807 rows, 5170 columns, 20304 nonzeros\n"
     ]
    },
    {
     "name": "stderr",
     "output_type": "stream",
     "text": [
      "2021-10-20 16:27:02,171 - thermomodel_RelaxedModel iJO1366[WT] - INFO - # Model initialized with units kcal/mol and temperature 298.15 K\n"
     ]
    },
    {
     "name": "stdout",
     "output_type": "stream",
     "text": [
      "done with gene: paaH\n",
      "Read LP format model from file /var/folders/17/58pxvfhj0gb_wz2nzgrzc6pc0000gn/T/tmpya8tsa48.lp\n",
      "Reading time = 0.02 seconds\n",
      ": 1807 rows, 5170 columns, 20304 nonzeros\n"
     ]
    },
    {
     "name": "stderr",
     "output_type": "stream",
     "text": [
      "2021-10-20 16:27:49,896 - thermomodel_RelaxedModel iJO1366[WT] - INFO - # Model initialized with units kcal/mol and temperature 298.15 K\n"
     ]
    },
    {
     "name": "stdout",
     "output_type": "stream",
     "text": [
      "done with gene: aldA\n",
      "Read LP format model from file /var/folders/17/58pxvfhj0gb_wz2nzgrzc6pc0000gn/T/tmpt1bnimu8.lp\n",
      "Reading time = 0.02 seconds\n",
      ": 1807 rows, 5170 columns, 20304 nonzeros\n"
     ]
    },
    {
     "name": "stderr",
     "output_type": "stream",
     "text": [
      "2021-10-20 16:28:12,412 - thermomodel_RelaxedModel iJO1366[WT] - INFO - # Model initialized with units kcal/mol and temperature 298.15 K\n"
     ]
    },
    {
     "name": "stdout",
     "output_type": "stream",
     "text": [
      "done with gene: patD\n",
      "Read LP format model from file /var/folders/17/58pxvfhj0gb_wz2nzgrzc6pc0000gn/T/tmp1hlb8hmc.lp\n",
      "Reading time = 0.01 seconds\n",
      ": 1807 rows, 5170 columns, 20304 nonzeros\n"
     ]
    },
    {
     "name": "stderr",
     "output_type": "stream",
     "text": [
      "2021-10-20 16:28:46,207 - thermomodel_RelaxedModel iJO1366[WT] - INFO - # Model initialized with units kcal/mol and temperature 298.15 K\n"
     ]
    },
    {
     "name": "stdout",
     "output_type": "stream",
     "text": [
      "done with gene: maeA\n",
      "Read LP format model from file /var/folders/17/58pxvfhj0gb_wz2nzgrzc6pc0000gn/T/tmpwz3oapjh.lp\n",
      "Reading time = 0.01 seconds\n",
      ": 1807 rows, 5170 columns, 20304 nonzeros\n"
     ]
    },
    {
     "name": "stderr",
     "output_type": "stream",
     "text": [
      "2021-10-20 16:29:03,577 - thermomodel_RelaxedModel iJO1366[WT] - INFO - # Model initialized with units kcal/mol and temperature 298.15 K\n"
     ]
    },
    {
     "name": "stdout",
     "output_type": "stream",
     "text": [
      "done with gene: uxaB\n",
      "Read LP format model from file /var/folders/17/58pxvfhj0gb_wz2nzgrzc6pc0000gn/T/tmp51p443xr.lp\n",
      "Reading time = 0.01 seconds\n",
      ": 1807 rows, 5170 columns, 20304 nonzeros\n"
     ]
    },
    {
     "name": "stderr",
     "output_type": "stream",
     "text": [
      "2021-10-20 16:29:25,993 - thermomodel_RelaxedModel iJO1366[WT] - INFO - # Model initialized with units kcal/mol and temperature 298.15 K\n"
     ]
    },
    {
     "name": "stdout",
     "output_type": "stream",
     "text": [
      "done with gene: sad\n",
      "Read LP format model from file /var/folders/17/58pxvfhj0gb_wz2nzgrzc6pc0000gn/T/tmp71z87t43.lp\n",
      "Reading time = 0.02 seconds\n",
      ": 1807 rows, 5170 columns, 20304 nonzeros\n"
     ]
    },
    {
     "name": "stderr",
     "output_type": "stream",
     "text": [
      "2021-10-20 16:29:51,154 - thermomodel_RelaxedModel iJO1366[WT] - INFO - # Model initialized with units kcal/mol and temperature 298.15 K\n"
     ]
    },
    {
     "name": "stdout",
     "output_type": "stream",
     "text": [
      "done with gene: ydfG\n",
      "Read LP format model from file /var/folders/17/58pxvfhj0gb_wz2nzgrzc6pc0000gn/T/tmp_82bnomc.lp\n",
      "Reading time = 0.01 seconds\n",
      ": 1807 rows, 5170 columns, 20304 nonzeros\n"
     ]
    },
    {
     "name": "stderr",
     "output_type": "stream",
     "text": [
      "2021-10-20 16:30:20,546 - thermomodel_RelaxedModel iJO1366[WT] - INFO - # Model initialized with units kcal/mol and temperature 298.15 K\n"
     ]
    },
    {
     "name": "stdout",
     "output_type": "stream",
     "text": [
      "done with gene: ydiB\n",
      "Read LP format model from file /var/folders/17/58pxvfhj0gb_wz2nzgrzc6pc0000gn/T/tmpj8baxwck.lp\n",
      "Reading time = 0.01 seconds\n",
      ": 1807 rows, 5170 columns, 20304 nonzeros\n"
     ]
    },
    {
     "name": "stderr",
     "output_type": "stream",
     "text": [
      "2021-10-20 16:30:40,546 - thermomodel_RelaxedModel iJO1366[WT] - INFO - # Model initialized with units kcal/mol and temperature 298.15 K\n"
     ]
    },
    {
     "name": "stdout",
     "output_type": "stream",
     "text": [
      "done with gene: astD\n",
      "Read LP format model from file /var/folders/17/58pxvfhj0gb_wz2nzgrzc6pc0000gn/T/tmpz2ilspgo.lp\n",
      "Reading time = 0.02 seconds\n",
      ": 1807 rows, 5170 columns, 20304 nonzeros\n"
     ]
    },
    {
     "name": "stderr",
     "output_type": "stream",
     "text": [
      "2021-10-20 16:31:16,694 - thermomodel_RelaxedModel iJO1366[WT] - INFO - # Model initialized with units kcal/mol and temperature 298.15 K\n"
     ]
    },
    {
     "name": "stdout",
     "output_type": "stream",
     "text": [
      "done with gene: gdhA\n",
      "Read LP format model from file /var/folders/17/58pxvfhj0gb_wz2nzgrzc6pc0000gn/T/tmp25x4eqv_.lp\n",
      "Reading time = 0.01 seconds\n",
      ": 1807 rows, 5170 columns, 20304 nonzeros\n"
     ]
    },
    {
     "name": "stderr",
     "output_type": "stream",
     "text": [
      "2021-10-20 16:31:53,199 - thermomodel_RelaxedModel iJO1366[WT] - INFO - # Model initialized with units kcal/mol and temperature 298.15 K\n"
     ]
    },
    {
     "name": "stdout",
     "output_type": "stream",
     "text": [
      "done with gene: gapA\n",
      "Read LP format model from file /var/folders/17/58pxvfhj0gb_wz2nzgrzc6pc0000gn/T/tmpu4e_l2ub.lp\n",
      "Reading time = 0.02 seconds\n",
      ": 1807 rows, 5170 columns, 20304 nonzeros\n"
     ]
    },
    {
     "name": "stderr",
     "output_type": "stream",
     "text": [
      "2021-10-20 16:32:10,642 - thermomodel_RelaxedModel iJO1366[WT] - INFO - # Model initialized with units kcal/mol and temperature 298.15 K\n"
     ]
    },
    {
     "name": "stdout",
     "output_type": "stream",
     "text": [
      "done with gene: dmlA\n",
      "Read LP format model from file /var/folders/17/58pxvfhj0gb_wz2nzgrzc6pc0000gn/T/tmp5z711fng.lp\n",
      "Reading time = 0.01 seconds\n",
      ": 1807 rows, 5170 columns, 20304 nonzeros\n"
     ]
    },
    {
     "name": "stderr",
     "output_type": "stream",
     "text": [
      "2021-10-20 16:33:01,453 - thermomodel_RelaxedModel iJO1366[WT] - INFO - # Model initialized with units kcal/mol and temperature 298.15 K\n"
     ]
    },
    {
     "name": "stdout",
     "output_type": "stream",
     "text": [
      "done with gene: zwf\n",
      "Read LP format model from file /var/folders/17/58pxvfhj0gb_wz2nzgrzc6pc0000gn/T/tmp8xgb9ho3.lp\n",
      "Reading time = 0.01 seconds\n",
      ": 1807 rows, 5170 columns, 20304 nonzeros\n"
     ]
    },
    {
     "name": "stderr",
     "output_type": "stream",
     "text": [
      "2021-10-20 16:33:22,890 - thermomodel_RelaxedModel iJO1366[WT] - INFO - # Model initialized with units kcal/mol and temperature 298.15 K\n"
     ]
    },
    {
     "name": "stdout",
     "output_type": "stream",
     "text": [
      "done with gene: hisD\n",
      "Read LP format model from file /var/folders/17/58pxvfhj0gb_wz2nzgrzc6pc0000gn/T/tmpe50tim3z.lp\n",
      "Reading time = 0.02 seconds\n",
      ": 1807 rows, 5170 columns, 20304 nonzeros\n"
     ]
    },
    {
     "name": "stderr",
     "output_type": "stream",
     "text": [
      "2021-10-20 16:33:43,787 - thermomodel_RelaxedModel iJO1366[WT] - INFO - # Model initialized with units kcal/mol and temperature 298.15 K\n"
     ]
    },
    {
     "name": "stdout",
     "output_type": "stream",
     "text": [
      "done with gene: ugd\n",
      "Read LP format model from file /var/folders/17/58pxvfhj0gb_wz2nzgrzc6pc0000gn/T/tmpht27v0qo.lp\n",
      "Reading time = 0.01 seconds\n",
      ": 1807 rows, 5170 columns, 20304 nonzeros\n"
     ]
    },
    {
     "name": "stderr",
     "output_type": "stream",
     "text": [
      "2021-10-20 16:34:07,984 - thermomodel_RelaxedModel iJO1366[WT] - INFO - # Model initialized with units kcal/mol and temperature 298.15 K\n"
     ]
    },
    {
     "name": "stdout",
     "output_type": "stream",
     "text": [
      "done with gene: gnd\n",
      "Read LP format model from file /var/folders/17/58pxvfhj0gb_wz2nzgrzc6pc0000gn/T/tmpmha6_xtb.lp\n",
      "Reading time = 0.01 seconds\n",
      ": 1807 rows, 5170 columns, 20304 nonzeros\n"
     ]
    },
    {
     "name": "stderr",
     "output_type": "stream",
     "text": [
      "2021-10-20 16:34:47,240 - thermomodel_RelaxedModel iJO1366[WT] - INFO - # Model initialized with units kcal/mol and temperature 298.15 K\n"
     ]
    },
    {
     "name": "stdout",
     "output_type": "stream",
     "text": [
      "done with gene: rfbD\n",
      "Read LP format model from file /var/folders/17/58pxvfhj0gb_wz2nzgrzc6pc0000gn/T/tmp0a14di_7.lp\n",
      "Reading time = 0.02 seconds\n",
      ": 1807 rows, 5170 columns, 20304 nonzeros\n"
     ]
    },
    {
     "name": "stderr",
     "output_type": "stream",
     "text": [
      "2021-10-20 16:37:33,020 - thermomodel_RelaxedModel iJO1366[WT] - INFO - # Model initialized with units kcal/mol and temperature 298.15 K\n"
     ]
    },
    {
     "name": "stdout",
     "output_type": "stream",
     "text": [
      "done with gene: wcaG\n",
      "Read LP format model from file /var/folders/17/58pxvfhj0gb_wz2nzgrzc6pc0000gn/T/tmpj86jn28t.lp\n",
      "Reading time = 0.01 seconds\n",
      ": 1807 rows, 5170 columns, 20304 nonzeros\n"
     ]
    },
    {
     "name": "stderr",
     "output_type": "stream",
     "text": [
      "2021-10-20 16:37:55,908 - thermomodel_RelaxedModel iJO1366[WT] - INFO - # Model initialized with units kcal/mol and temperature 298.15 K\n"
     ]
    },
    {
     "name": "stdout",
     "output_type": "stream",
     "text": [
      "done with gene: gatD\n",
      "Read LP format model from file /var/folders/17/58pxvfhj0gb_wz2nzgrzc6pc0000gn/T/tmp0cuye0o1.lp\n",
      "Reading time = 0.01 seconds\n",
      ": 1807 rows, 5170 columns, 20304 nonzeros\n"
     ]
    },
    {
     "name": "stderr",
     "output_type": "stream",
     "text": [
      "2021-10-20 16:38:13,939 - thermomodel_RelaxedModel iJO1366[WT] - INFO - # Model initialized with units kcal/mol and temperature 298.15 K\n"
     ]
    },
    {
     "name": "stdout",
     "output_type": "stream",
     "text": [
      "done with gene: preT\n",
      "Read LP format model from file /var/folders/17/58pxvfhj0gb_wz2nzgrzc6pc0000gn/T/tmpapazkw1b.lp\n",
      "Reading time = 0.01 seconds\n",
      ": 1807 rows, 5170 columns, 20304 nonzeros\n"
     ]
    },
    {
     "name": "stderr",
     "output_type": "stream",
     "text": [
      "2021-10-20 16:38:32,068 - thermomodel_RelaxedModel iJO1366[WT] - INFO - # Model initialized with units kcal/mol and temperature 298.15 K\n"
     ]
    },
    {
     "name": "stdout",
     "output_type": "stream",
     "text": [
      "done with gene: arnA\n",
      "Read LP format model from file /var/folders/17/58pxvfhj0gb_wz2nzgrzc6pc0000gn/T/tmp9k746eb2.lp\n",
      "Reading time = 0.02 seconds\n",
      ": 1807 rows, 5170 columns, 20304 nonzeros\n"
     ]
    },
    {
     "name": "stderr",
     "output_type": "stream",
     "text": [
      "2021-10-20 16:38:56,202 - thermomodel_RelaxedModel iJO1366[WT] - INFO - # Model initialized with units kcal/mol and temperature 298.15 K\n"
     ]
    },
    {
     "name": "stdout",
     "output_type": "stream",
     "text": [
      "done with gene: pdxB\n",
      "Read LP format model from file /var/folders/17/58pxvfhj0gb_wz2nzgrzc6pc0000gn/T/tmpkamdkky0.lp\n",
      "Reading time = 0.01 seconds\n",
      ": 1807 rows, 5170 columns, 20304 nonzeros\n"
     ]
    },
    {
     "name": "stderr",
     "output_type": "stream",
     "text": [
      "2021-10-20 16:39:17,091 - thermomodel_RelaxedModel iJO1366[WT] - INFO - # Model initialized with units kcal/mol and temperature 298.15 K\n"
     ]
    },
    {
     "name": "stdout",
     "output_type": "stream",
     "text": [
      "done with gene: maeB\n",
      "Read LP format model from file /var/folders/17/58pxvfhj0gb_wz2nzgrzc6pc0000gn/T/tmpjac8z8zl.lp\n",
      "Reading time = 0.01 seconds\n",
      ": 1807 rows, 5170 columns, 20304 nonzeros\n"
     ]
    },
    {
     "name": "stderr",
     "output_type": "stream",
     "text": [
      "2021-10-20 16:39:38,352 - thermomodel_RelaxedModel iJO1366[WT] - INFO - # Model initialized with units kcal/mol and temperature 298.15 K\n"
     ]
    },
    {
     "name": "stdout",
     "output_type": "stream",
     "text": [
      "done with gene: guaB\n",
      "Read LP format model from file /var/folders/17/58pxvfhj0gb_wz2nzgrzc6pc0000gn/T/tmpvhvuee7n.lp\n",
      "Reading time = 0.02 seconds\n",
      ": 1807 rows, 5170 columns, 20304 nonzeros\n"
     ]
    },
    {
     "name": "stderr",
     "output_type": "stream",
     "text": [
      "2021-10-20 16:39:57,737 - thermomodel_RelaxedModel iJO1366[WT] - INFO - # Model initialized with units kcal/mol and temperature 298.15 K\n"
     ]
    },
    {
     "name": "stdout",
     "output_type": "stream",
     "text": [
      "done with gene: hcaB\n",
      "Read LP format model from file /var/folders/17/58pxvfhj0gb_wz2nzgrzc6pc0000gn/T/tmpmaka72zj.lp\n",
      "Reading time = 0.02 seconds\n",
      ": 1807 rows, 5170 columns, 20304 nonzeros\n"
     ]
    },
    {
     "name": "stderr",
     "output_type": "stream",
     "text": [
      "2021-10-20 16:42:50,160 - thermomodel_RelaxedModel iJO1366[WT] - INFO - # Model initialized with units kcal/mol and temperature 298.15 K\n"
     ]
    },
    {
     "name": "stdout",
     "output_type": "stream",
     "text": [
      "done with gene: hcaD\n",
      "Read LP format model from file /var/folders/17/58pxvfhj0gb_wz2nzgrzc6pc0000gn/T/tmpn27wmtt6.lp\n",
      "Reading time = 0.01 seconds\n",
      ": 1807 rows, 5170 columns, 20304 nonzeros\n"
     ]
    },
    {
     "name": "stderr",
     "output_type": "stream",
     "text": [
      "2021-10-20 16:43:14,838 - thermomodel_RelaxedModel iJO1366[WT] - INFO - # Model initialized with units kcal/mol and temperature 298.15 K\n"
     ]
    },
    {
     "name": "stdout",
     "output_type": "stream",
     "text": [
      "done with gene: tyrA\n",
      "Read LP format model from file /var/folders/17/58pxvfhj0gb_wz2nzgrzc6pc0000gn/T/tmpw22b9uoh.lp\n",
      "Reading time = 0.01 seconds\n",
      ": 1807 rows, 5170 columns, 20304 nonzeros\n"
     ]
    },
    {
     "name": "stderr",
     "output_type": "stream",
     "text": [
      "2021-10-20 16:43:35,647 - thermomodel_RelaxedModel iJO1366[WT] - INFO - # Model initialized with units kcal/mol and temperature 298.15 K\n"
     ]
    },
    {
     "name": "stdout",
     "output_type": "stream",
     "text": [
      "done with gene: srlD\n",
      "Read LP format model from file /var/folders/17/58pxvfhj0gb_wz2nzgrzc6pc0000gn/T/tmphs8s2h4a.lp\n",
      "Reading time = 0.02 seconds\n",
      ": 1807 rows, 5170 columns, 20304 nonzeros\n"
     ]
    },
    {
     "name": "stderr",
     "output_type": "stream",
     "text": [
      "2021-10-20 16:43:59,392 - thermomodel_RelaxedModel iJO1366[WT] - INFO - # Model initialized with units kcal/mol and temperature 298.15 K\n"
     ]
    },
    {
     "name": "stdout",
     "output_type": "stream",
     "text": [
      "done with gene: cysJ\n",
      "Read LP format model from file /var/folders/17/58pxvfhj0gb_wz2nzgrzc6pc0000gn/T/tmp33rg5bgm.lp\n",
      "Reading time = 0.02 seconds\n",
      ": 1807 rows, 5170 columns, 20304 nonzeros\n"
     ]
    },
    {
     "name": "stderr",
     "output_type": "stream",
     "text": [
      "2021-10-20 16:44:18,427 - thermomodel_RelaxedModel iJO1366[WT] - INFO - # Model initialized with units kcal/mol and temperature 298.15 K\n"
     ]
    },
    {
     "name": "stdout",
     "output_type": "stream",
     "text": [
      "done with gene: queF\n",
      "Read LP format model from file /var/folders/17/58pxvfhj0gb_wz2nzgrzc6pc0000gn/T/tmpgvlqjldi.lp\n",
      "Reading time = 0.02 seconds\n",
      ": 1807 rows, 5170 columns, 20304 nonzeros\n"
     ]
    },
    {
     "name": "stderr",
     "output_type": "stream",
     "text": [
      "2021-10-20 16:44:37,543 - thermomodel_RelaxedModel iJO1366[WT] - INFO - # Model initialized with units kcal/mol and temperature 298.15 K\n"
     ]
    },
    {
     "name": "stdout",
     "output_type": "stream",
     "text": [
      "done with gene: fucO\n",
      "Read LP format model from file /var/folders/17/58pxvfhj0gb_wz2nzgrzc6pc0000gn/T/tmpxblk44ds.lp\n",
      "Reading time = 0.02 seconds\n",
      ": 1807 rows, 5170 columns, 20304 nonzeros\n"
     ]
    },
    {
     "name": "stderr",
     "output_type": "stream",
     "text": [
      "2021-10-20 16:45:08,849 - thermomodel_RelaxedModel iJO1366[WT] - INFO - # Model initialized with units kcal/mol and temperature 298.15 K\n"
     ]
    },
    {
     "name": "stdout",
     "output_type": "stream",
     "text": [
      "done with gene: xdhB\n",
      "Read LP format model from file /var/folders/17/58pxvfhj0gb_wz2nzgrzc6pc0000gn/T/tmphjfz033r.lp\n",
      "Reading time = 0.01 seconds\n",
      ": 1807 rows, 5170 columns, 20304 nonzeros\n"
     ]
    },
    {
     "name": "stderr",
     "output_type": "stream",
     "text": [
      "2021-10-20 16:45:28,444 - thermomodel_RelaxedModel iJO1366[WT] - INFO - # Model initialized with units kcal/mol and temperature 298.15 K\n"
     ]
    },
    {
     "name": "stdout",
     "output_type": "stream",
     "text": [
      "done with gene: serA\n",
      "Read LP format model from file /var/folders/17/58pxvfhj0gb_wz2nzgrzc6pc0000gn/T/tmpsmx7pibl.lp\n",
      "Reading time = 0.02 seconds\n",
      ": 1807 rows, 5170 columns, 20304 nonzeros\n"
     ]
    },
    {
     "name": "stderr",
     "output_type": "stream",
     "text": [
      "2021-10-20 16:45:48,366 - thermomodel_RelaxedModel iJO1366[WT] - INFO - # Model initialized with units kcal/mol and temperature 298.15 K\n"
     ]
    },
    {
     "name": "stdout",
     "output_type": "stream",
     "text": [
      "done with gene: gltD\n",
      "Read LP format model from file /var/folders/17/58pxvfhj0gb_wz2nzgrzc6pc0000gn/T/tmps522hmjw.lp\n",
      "Reading time = 0.01 seconds\n",
      ": 1807 rows, 5170 columns, 20304 nonzeros\n"
     ]
    },
    {
     "name": "stderr",
     "output_type": "stream",
     "text": [
      "2021-10-20 16:46:12,434 - thermomodel_RelaxedModel iJO1366[WT] - INFO - # Model initialized with units kcal/mol and temperature 298.15 K\n"
     ]
    },
    {
     "name": "stdout",
     "output_type": "stream",
     "text": [
      "done with gene: mdh\n",
      "Read LP format model from file /var/folders/17/58pxvfhj0gb_wz2nzgrzc6pc0000gn/T/tmpe9y1icm7.lp\n",
      "Reading time = 0.02 seconds\n",
      ": 1807 rows, 5170 columns, 20304 nonzeros\n"
     ]
    },
    {
     "name": "stderr",
     "output_type": "stream",
     "text": [
      "2021-10-20 16:46:39,060 - thermomodel_RelaxedModel iJO1366[WT] - INFO - # Model initialized with units kcal/mol and temperature 298.15 K\n"
     ]
    },
    {
     "name": "stdout",
     "output_type": "stream",
     "text": [
      "done with gene: nirB\n",
      "Read LP format model from file /var/folders/17/58pxvfhj0gb_wz2nzgrzc6pc0000gn/T/tmpor_awg4v.lp\n",
      "Reading time = 0.01 seconds\n",
      ": 1807 rows, 5170 columns, 20304 nonzeros\n"
     ]
    },
    {
     "name": "stderr",
     "output_type": "stream",
     "text": [
      "2021-10-20 16:46:57,620 - thermomodel_RelaxedModel iJO1366[WT] - INFO - # Model initialized with units kcal/mol and temperature 298.15 K\n"
     ]
    },
    {
     "name": "stdout",
     "output_type": "stream",
     "text": [
      "done with gene: cysG\n",
      "Read LP format model from file /var/folders/17/58pxvfhj0gb_wz2nzgrzc6pc0000gn/T/tmpaazdm22w.lp\n",
      "Reading time = 0.02 seconds\n",
      ": 1807 rows, 5170 columns, 20304 nonzeros\n"
     ]
    },
    {
     "name": "stderr",
     "output_type": "stream",
     "text": [
      "2021-10-20 16:47:20,753 - thermomodel_RelaxedModel iJO1366[WT] - INFO - # Model initialized with units kcal/mol and temperature 298.15 K\n"
     ]
    },
    {
     "name": "stdout",
     "output_type": "stream",
     "text": [
      "done with gene: asd\n",
      "Read LP format model from file /var/folders/17/58pxvfhj0gb_wz2nzgrzc6pc0000gn/T/tmpxa_s2dun.lp\n",
      "Reading time = 0.01 seconds\n",
      ": 1807 rows, 5170 columns, 20304 nonzeros\n"
     ]
    },
    {
     "name": "stderr",
     "output_type": "stream",
     "text": [
      "2021-10-20 16:47:42,414 - thermomodel_RelaxedModel iJO1366[WT] - INFO - # Model initialized with units kcal/mol and temperature 298.15 K\n"
     ]
    },
    {
     "name": "stdout",
     "output_type": "stream",
     "text": [
      "done with gene: gor\n",
      "Read LP format model from file /var/folders/17/58pxvfhj0gb_wz2nzgrzc6pc0000gn/T/tmpd4vfhqjk.lp\n",
      "Reading time = 0.01 seconds\n",
      ": 1807 rows, 5170 columns, 20304 nonzeros\n"
     ]
    },
    {
     "name": "stderr",
     "output_type": "stream",
     "text": [
      "2021-10-20 16:48:05,033 - thermomodel_RelaxedModel iJO1366[WT] - INFO - # Model initialized with units kcal/mol and temperature 298.15 K\n"
     ]
    },
    {
     "name": "stdout",
     "output_type": "stream",
     "text": [
      "done with gene: ghrB\n",
      "Read LP format model from file /var/folders/17/58pxvfhj0gb_wz2nzgrzc6pc0000gn/T/tmpeepsk79y.lp\n",
      "Reading time = 0.01 seconds\n",
      ": 1807 rows, 5170 columns, 20304 nonzeros\n"
     ]
    },
    {
     "name": "stderr",
     "output_type": "stream",
     "text": [
      "2021-10-20 16:48:24,225 - thermomodel_RelaxedModel iJO1366[WT] - INFO - # Model initialized with units kcal/mol and temperature 298.15 K\n"
     ]
    },
    {
     "name": "stdout",
     "output_type": "stream",
     "text": [
      "done with gene: yiaK\n",
      "Read LP format model from file /var/folders/17/58pxvfhj0gb_wz2nzgrzc6pc0000gn/T/tmpgjky4z6b.lp\n",
      "Reading time = 0.02 seconds\n",
      ": 1807 rows, 5170 columns, 20304 nonzeros\n"
     ]
    },
    {
     "name": "stderr",
     "output_type": "stream",
     "text": [
      "2021-10-20 16:48:47,719 - thermomodel_RelaxedModel iJO1366[WT] - INFO - # Model initialized with units kcal/mol and temperature 298.15 K\n"
     ]
    },
    {
     "name": "stdout",
     "output_type": "stream",
     "text": [
      "done with gene: mtlD\n",
      "Read LP format model from file /var/folders/17/58pxvfhj0gb_wz2nzgrzc6pc0000gn/T/tmp_zh10xbl.lp\n",
      "Reading time = 0.01 seconds\n",
      ": 1807 rows, 5170 columns, 20304 nonzeros\n"
     ]
    },
    {
     "name": "stderr",
     "output_type": "stream",
     "text": [
      "2021-10-20 16:49:11,009 - thermomodel_RelaxedModel iJO1366[WT] - INFO - # Model initialized with units kcal/mol and temperature 298.15 K\n"
     ]
    },
    {
     "name": "stdout",
     "output_type": "stream",
     "text": [
      "done with gene: gpsA\n",
      "Read LP format model from file /var/folders/17/58pxvfhj0gb_wz2nzgrzc6pc0000gn/T/tmpfvm3jag8.lp\n",
      "Reading time = 0.01 seconds\n",
      ": 1807 rows, 5170 columns, 20304 nonzeros\n"
     ]
    },
    {
     "name": "stderr",
     "output_type": "stream",
     "text": [
      "2021-10-20 16:49:39,587 - thermomodel_RelaxedModel iJO1366[WT] - INFO - # Model initialized with units kcal/mol and temperature 298.15 K\n"
     ]
    },
    {
     "name": "stdout",
     "output_type": "stream",
     "text": [
      "done with gene: tdh\n",
      "Read LP format model from file /var/folders/17/58pxvfhj0gb_wz2nzgrzc6pc0000gn/T/tmp9320gvj_.lp\n",
      "Reading time = 0.02 seconds\n",
      ": 1807 rows, 5170 columns, 20304 nonzeros\n"
     ]
    },
    {
     "name": "stderr",
     "output_type": "stream",
     "text": [
      "2021-10-20 16:50:02,279 - thermomodel_RelaxedModel iJO1366[WT] - INFO - # Model initialized with units kcal/mol and temperature 298.15 K\n"
     ]
    },
    {
     "name": "stdout",
     "output_type": "stream",
     "text": [
      "done with gene: ilvC\n",
      "Read LP format model from file /var/folders/17/58pxvfhj0gb_wz2nzgrzc6pc0000gn/T/tmpc6u2j7cu.lp\n",
      "Reading time = 0.02 seconds\n",
      ": 1807 rows, 5170 columns, 20304 nonzeros\n"
     ]
    },
    {
     "name": "stderr",
     "output_type": "stream",
     "text": [
      "2021-10-20 16:50:45,764 - thermomodel_RelaxedModel iJO1366[WT] - INFO - # Model initialized with units kcal/mol and temperature 298.15 K\n"
     ]
    },
    {
     "name": "stdout",
     "output_type": "stream",
     "text": [
      "done with gene: wecC\n",
      "Read LP format model from file /var/folders/17/58pxvfhj0gb_wz2nzgrzc6pc0000gn/T/tmp3j74j6ug.lp\n",
      "Reading time = 0.01 seconds\n",
      ": 1807 rows, 5170 columns, 20304 nonzeros\n"
     ]
    },
    {
     "name": "stderr",
     "output_type": "stream",
     "text": [
      "2021-10-20 16:51:06,224 - thermomodel_RelaxedModel iJO1366[WT] - INFO - # Model initialized with units kcal/mol and temperature 298.15 K\n"
     ]
    },
    {
     "name": "stdout",
     "output_type": "stream",
     "text": [
      "done with gene: fre\n",
      "Read LP format model from file /var/folders/17/58pxvfhj0gb_wz2nzgrzc6pc0000gn/T/tmplsa0cgmf.lp\n",
      "Reading time = 0.01 seconds\n",
      ": 1807 rows, 5170 columns, 20304 nonzeros\n"
     ]
    },
    {
     "name": "stderr",
     "output_type": "stream",
     "text": [
      "2021-10-20 16:51:30,037 - thermomodel_RelaxedModel iJO1366[WT] - INFO - # Model initialized with units kcal/mol and temperature 298.15 K\n"
     ]
    },
    {
     "name": "stdout",
     "output_type": "stream",
     "text": [
      "done with gene: yihU\n",
      "Read LP format model from file /var/folders/17/58pxvfhj0gb_wz2nzgrzc6pc0000gn/T/tmpom92k8n2.lp\n",
      "Reading time = 0.01 seconds\n",
      ": 1807 rows, 5170 columns, 20304 nonzeros\n"
     ]
    },
    {
     "name": "stderr",
     "output_type": "stream",
     "text": [
      "2021-10-20 16:51:50,106 - thermomodel_RelaxedModel iJO1366[WT] - INFO - # Model initialized with units kcal/mol and temperature 298.15 K\n"
     ]
    },
    {
     "name": "stdout",
     "output_type": "stream",
     "text": [
      "done with gene: metF\n",
      "Read LP format model from file /var/folders/17/58pxvfhj0gb_wz2nzgrzc6pc0000gn/T/tmpdwdjaeqt.lp\n",
      "Reading time = 0.02 seconds\n",
      ": 1807 rows, 5170 columns, 20304 nonzeros\n"
     ]
    },
    {
     "name": "stderr",
     "output_type": "stream",
     "text": [
      "2021-10-20 16:52:24,156 - thermomodel_RelaxedModel iJO1366[WT] - INFO - # Model initialized with units kcal/mol and temperature 298.15 K\n"
     ]
    },
    {
     "name": "stdout",
     "output_type": "stream",
     "text": [
      "done with gene: gldA\n",
      "Read LP format model from file /var/folders/17/58pxvfhj0gb_wz2nzgrzc6pc0000gn/T/tmpwlnngnxq.lp\n",
      "Reading time = 0.01 seconds\n",
      ": 1807 rows, 5170 columns, 20304 nonzeros\n"
     ]
    },
    {
     "name": "stderr",
     "output_type": "stream",
     "text": [
      "2021-10-20 16:52:41,943 - thermomodel_RelaxedModel iJO1366[WT] - INFO - # Model initialized with units kcal/mol and temperature 298.15 K\n"
     ]
    },
    {
     "name": "stdout",
     "output_type": "stream",
     "text": [
      "done with gene: argC\n",
      "Read LP format model from file /var/folders/17/58pxvfhj0gb_wz2nzgrzc6pc0000gn/T/tmpzx6l7rty.lp\n",
      "Reading time = 0.02 seconds\n",
      ": 1807 rows, 5170 columns, 20304 nonzeros\n"
     ]
    },
    {
     "name": "stderr",
     "output_type": "stream",
     "text": [
      "2021-10-20 16:53:13,018 - thermomodel_RelaxedModel iJO1366[WT] - INFO - # Model initialized with units kcal/mol and temperature 298.15 K\n"
     ]
    },
    {
     "name": "stdout",
     "output_type": "stream",
     "text": [
      "done with gene: murB\n",
      "Read LP format model from file /var/folders/17/58pxvfhj0gb_wz2nzgrzc6pc0000gn/T/tmph95kh3zj.lp\n",
      "Reading time = 0.02 seconds\n",
      ": 1807 rows, 5170 columns, 20304 nonzeros\n"
     ]
    },
    {
     "name": "stderr",
     "output_type": "stream",
     "text": [
      "2021-10-20 16:53:34,823 - thermomodel_RelaxedModel iJO1366[WT] - INFO - # Model initialized with units kcal/mol and temperature 298.15 K\n"
     ]
    },
    {
     "name": "stdout",
     "output_type": "stream",
     "text": [
      "done with gene: idnO\n",
      "Read LP format model from file /var/folders/17/58pxvfhj0gb_wz2nzgrzc6pc0000gn/T/tmps2xf_zpe.lp\n",
      "Reading time = 0.02 seconds\n",
      ": 1807 rows, 5170 columns, 20304 nonzeros\n"
     ]
    },
    {
     "name": "stderr",
     "output_type": "stream",
     "text": [
      "2021-10-20 16:53:50,286 - thermomodel_RelaxedModel iJO1366[WT] - INFO - # Model initialized with units kcal/mol and temperature 298.15 K\n"
     ]
    },
    {
     "name": "stdout",
     "output_type": "stream",
     "text": [
      "done with gene: idnD\n",
      "Read LP format model from file /var/folders/17/58pxvfhj0gb_wz2nzgrzc6pc0000gn/T/tmpi852mpfe.lp\n",
      "Reading time = 0.01 seconds\n",
      ": 1807 rows, 5170 columns, 20304 nonzeros\n"
     ]
    },
    {
     "name": "stderr",
     "output_type": "stream",
     "text": [
      "2021-10-20 16:54:06,670 - thermomodel_RelaxedModel iJO1366[WT] - INFO - # Model initialized with units kcal/mol and temperature 298.15 K\n"
     ]
    },
    {
     "name": "stdout",
     "output_type": "stream",
     "text": [
      "done with gene: uxuB\n",
      "Read LP format model from file /var/folders/17/58pxvfhj0gb_wz2nzgrzc6pc0000gn/T/tmpzmitlmwz.lp\n",
      "Reading time = 0.02 seconds\n",
      ": 1807 rows, 5170 columns, 20304 nonzeros\n"
     ]
    },
    {
     "name": "stderr",
     "output_type": "stream",
     "text": [
      "2021-10-20 16:54:29,457 - thermomodel_RelaxedModel iJO1366[WT] - INFO - # Model initialized with units kcal/mol and temperature 298.15 K\n"
     ]
    },
    {
     "name": "stdout",
     "output_type": "stream",
     "text": [
      "done with gene: lgoD\n"
     ]
    }
   ],
   "source": [
    "results_sgm_tfa = {'gene': [], 'growth_rate': []}\n",
    "for gene,dfn in gene_set.groupby('gene'):\n",
    "    m = wt_model.copy()\n",
    "    for idx,row in dfn.iterrows():\n",
    "        if row.reaction in [x.id for x in m.reactions]:\n",
    "            #j = np.where([x.id == row.reaction for x in m.reactions])[0][0]\n",
    "            # swap reaction, keep direction from wild type reaction\n",
    "            m = swap_reaction_rid(m,row.reaction)\n",
    "            \n",
    "    #m.id = m.id + '_' + gene + '_' + dfn['mutant coenzyme'].tolist()[0].split('(')[0]\n",
    "    v = m.slim_optimize()\n",
    "    results_sgm_tfa['gene'].append(gene)\n",
    "    results_sgm_tfa['growth_rate'].append(v)\n",
    "    print('done with gene: ' + dfn.gene_name.tolist()[0])"
   ]
  },
  {
   "cell_type": "code",
   "execution_count": 285,
   "id": "infectious-printer",
   "metadata": {},
   "outputs": [],
   "source": [
    "gr = pd.DataFrame(results_sgm_tfa)\n",
    "gr = gene_set[['gene','gene_name']].drop_duplicates().set_index('gene').join(gr.set_index('gene'))\n",
    "gr['rel_growth_rate'] = gr['growth_rate'] / tfa_solution_wt.objective_value"
   ]
  },
  {
   "cell_type": "code",
   "execution_count": 311,
   "id": "moderate-motorcycle",
   "metadata": {},
   "outputs": [
    {
     "data": {
      "text/plain": [
       "<seaborn.axisgrid.FacetGrid at 0x7ff5bd37c3d0>"
      ]
     },
     "execution_count": 311,
     "metadata": {},
     "output_type": "execute_result"
    },
    {
     "data": {
      "image/png": "[encoded data removed]",
      "text/plain": [
       "<Figure size 360x360 with 1 Axes>"
      ]
     },
     "metadata": {
      "needs_background": "light"
     },
     "output_type": "display_data"
    }
   ],
   "source": [
    "sns.displot(x='rel_growth_rate',data=gr,kind='ecdf')"
   ]
  },
  {
   "cell_type": "code",
   "execution_count": 300,
   "id": "solid-fundamentals",
   "metadata": {},
   "outputs": [
    {
     "data": {
      "text/html": [
       "<div>\n",
       "<style scoped>\n",
       "    .dataframe tbody tr th:only-of-type {\n",
       "        vertical-align: middle;\n",
       "    }\n",
       "\n",
       "    .dataframe tbody tr th {\n",
       "        vertical-align: top;\n",
       "    }\n",
       "\n",
       "    .dataframe thead th {\n",
       "        text-align: right;\n",
       "    }\n",
       "</style>\n",
       "<table border=\"1\" class=\"dataframe\">\n",
       "  <thead>\n",
       "    <tr style=\"text-align: right;\">\n",
       "      <th></th>\n",
       "      <th>gene_name</th>\n",
       "      <th>growth_rate</th>\n",
       "      <th>rel_growth_rate</th>\n",
       "    </tr>\n",
       "    <tr>\n",
       "      <th>gene</th>\n",
       "      <th></th>\n",
       "      <th></th>\n",
       "      <th></th>\n",
       "    </tr>\n",
       "  </thead>\n",
       "  <tbody>\n",
       "    <tr>\n",
       "      <th>b2320</th>\n",
       "      <td>pdxB</td>\n",
       "      <td>0.837987</td>\n",
       "      <td>1.0</td>\n",
       "    </tr>\n",
       "  </tbody>\n",
       "</table>\n",
       "</div>"
      ],
      "text/plain": [
       "      gene_name  growth_rate  rel_growth_rate\n",
       "gene                                         \n",
       "b2320      pdxB     0.837987              1.0"
      ]
     },
     "execution_count": 300,
     "metadata": {},
     "output_type": "execute_result"
    }
   ],
   "source": [
    "gr[gr.gene_name == 'pdxB']"
   ]
  },
  {
   "cell_type": "code",
   "execution_count": 218,
   "id": "shaped-crown",
   "metadata": {},
   "outputs": [],
   "source": [
    "wt_fluxes = pd.DataFrame(tfa_solution_wt.fluxes)\n",
    "sc_fluxes = pd.DataFrame(tfa_solution_sc_trimmed.fluxes)\n",
    "wt_fluxes.columns = ['WT']\n",
    "sc_fluxes.columns = ['SC']\n",
    "res = wt_fluxes.join(sc_fluxes)"
   ]
  },
  {
   "cell_type": "code",
   "execution_count": 247,
   "id": "difficult-preliminary",
   "metadata": {},
   "outputs": [
    {
     "name": "stdout",
     "output_type": "stream",
     "text": [
      "Read LP format model from file /var/folders/17/58pxvfhj0gb_wz2nzgrzc6pc0000gn/T/tmpoocf_1g2.lp\n",
      "Reading time = 0.02 seconds\n",
      ": 1807 rows, 5170 columns, 20304 nonzeros\n"
     ]
    },
    {
     "name": "stderr",
     "output_type": "stream",
     "text": [
      "2021-10-20 09:53:21,494 - thermomodel_RelaxedModel iJO1366[WT] - INFO - # Model initialized with units kcal/mol and temperature 298.15 K\n"
     ]
    }
   ],
   "source": [
    "wt_model_dl = wt_model.copy()"
   ]
  },
  {
   "cell_type": "code",
   "execution_count": 248,
   "id": "possible-combat",
   "metadata": {},
   "outputs": [],
   "source": [
    "rxn_to_remove = ['GAPD']\n",
    "wt_model_dl.remove_reactions(rxn_to_remove)"
   ]
  },
  {
   "cell_type": "code",
   "execution_count": 249,
   "id": "muslim-liverpool",
   "metadata": {},
   "outputs": [
    {
     "data": {
      "text/plain": [
       "0.8171423679661247"
      ]
     },
     "execution_count": 249,
     "metadata": {},
     "output_type": "execute_result"
    }
   ],
   "source": [
    "wt_model_dl.slim_optimize()"
   ]
  },
  {
   "cell_type": "code",
   "execution_count": 186,
   "id": "empirical-sixth",
   "metadata": {},
   "outputs": [
    {
     "name": "stdout",
     "output_type": "stream",
     "text": [
      "Read LP format model from file /var/folders/17/58pxvfhj0gb_wz2nzgrzc6pc0000gn/T/tmp37gkhr8p.lp\n",
      "Reading time = 0.02 seconds\n",
      ": 1805 rows, 5162 columns, 20260 nonzeros\n"
     ]
    },
    {
     "name": "stderr",
     "output_type": "stream",
     "text": [
      "2021-10-19 11:34:50,256 - thermomodel_RelaxedModel iJO1366[NAD] - INFO - # Model initialized with units kcal/mol and temperature 298.15 K\n"
     ]
    }
   ],
   "source": [
    "sc_model_trimmed, removedReactions = removeDuplicateRxn(sc_model)"
   ]
  },
  {
   "cell_type": "code",
   "execution_count": 189,
   "id": "extra-cambodia",
   "metadata": {},
   "outputs": [
    {
     "name": "stdout",
     "output_type": "stream",
     "text": [
      "TFA Solution found for SC model : 0.72479\n"
     ]
    }
   ],
   "source": [
    "#removedReactions\n",
    "tfa_solution_sc_trimmed = sc_model_trimmed.optimize()\n",
    "tfa_value_sc_trimmed = tfa_solution_sc_trimmed.objective_value\n",
    "# Report\n",
    "print('TFA Solution found for SC model : {0:.5g}'.format(tfa_value_sc_trimmed))\n"
   ]
  },
  {
   "cell_type": "code",
   "execution_count": 191,
   "id": "placed-sponsorship",
   "metadata": {},
   "outputs": [],
   "source": [
    "tfa_solution_wt.fluxes.to_csv('tfa.wt.fluxes.19Oct2021.csv')\n",
    "#tfa_solution_sc.fluxes.to_csv('tfa.sc.fluxes.19Oct2021.csv')\n",
    "tfa_solution_sc_trimmed.fluxes.to_csv('tfa.sc.removedRedundantRxns.fluxes.19Oct2021.csv')\n"
   ]
  },
  {
   "cell_type": "code",
   "execution_count": 219,
   "id": "weighted-michael",
   "metadata": {},
   "outputs": [
    {
     "data": {
      "text/plain": [
       "<AxesSubplot:xlabel='WT', ylabel='SC'>"
      ]
     },
     "execution_count": 219,
     "metadata": {},
     "output_type": "execute_result"
    },
    {
     "data": {
      "image/png": "[encoded data removed]",
      "text/plain": [
       "<Figure size 432x288 with 1 Axes>"
      ]
     },
     "metadata": {
      "needs_background": "light"
     },
     "output_type": "display_data"
    }
   ],
   "source": [
    "sns.scatterplot(x='WT',y='SC',data=res)\n",
    "#plt.xlim([-40,40])\n",
    "#plt.ylim([-40,40])"
   ]
  },
  {
   "cell_type": "code",
   "execution_count": 220,
   "id": "korean-above",
   "metadata": {},
   "outputs": [],
   "source": [
    "score = abs(res['WT'] - res['SC'])"
   ]
  },
  {
   "cell_type": "code",
   "execution_count": 221,
   "id": "reverse-diary",
   "metadata": {},
   "outputs": [],
   "source": [
    "subsystem = [wt_model.reactions.get_by_id(x).subsystem for x in score.index.tolist()]"
   ]
  },
  {
   "cell_type": "code",
   "execution_count": 222,
   "id": "roman-raleigh",
   "metadata": {},
   "outputs": [],
   "source": [
    "res_score = pd.DataFrame(score,columns=['score']).join(pd.DataFrame(pd.Series(subsystem,index= score.index),columns=['subsystem']))"
   ]
  },
  {
   "cell_type": "code",
   "execution_count": 224,
   "id": "worst-radius",
   "metadata": {},
   "outputs": [
    {
     "data": {
      "text/plain": [
       "<seaborn.axisgrid.FacetGrid at 0x7ff6705c3730>"
      ]
     },
     "execution_count": 224,
     "metadata": {},
     "output_type": "execute_result"
    },
    {
     "data": {
      "image/png": "[encoded data removed]",
      "text/plain": [
       "<Figure size 360x360 with 1 Axes>"
      ]
     },
     "metadata": {
      "needs_background": "light"
     },
     "output_type": "display_data"
    }
   ],
   "source": [
    "sns.catplot(y='subsystem',x='score',data=res_score)"
   ]
  },
  {
   "cell_type": "code",
   "execution_count": 234,
   "id": "vital-breast",
   "metadata": {},
   "outputs": [
    {
     "data": {
      "text/plain": [
       "GALBDtex        0.000000\n",
       "GLCURtex        0.000000\n",
       "GLCURt2rpp      0.000000\n",
       "GLCUR1Ptex      0.000000\n",
       "QUIN2tpp        0.000000\n",
       "                 ...    \n",
       "THRt4pp       100.000000\n",
       "ASPt2rpp      100.000000\n",
       "NAt3pp        100.000000\n",
       "THRt2rpp      100.000000\n",
       "FADRx         100.061063\n",
       "Name: score, Length: 2523, dtype: float64"
      ]
     },
     "execution_count": 234,
     "metadata": {},
     "output_type": "execute_result"
    }
   ],
   "source": []
  },
  {
   "cell_type": "code",
   "execution_count": 185,
   "id": "casual-programming",
   "metadata": {},
   "outputs": [],
   "source": [
    "from copy import deepcopy\n",
    "def removeDuplicateRxn(model):\n",
    "\tmodel2 = deepcopy(model)\n",
    "\ttoRemove = []\n",
    "\tfor eachReaction in model2.reactions:\n",
    "\n",
    "\t\tif eachReaction.id in toRemove:\n",
    "\t\t\tcontinue\n",
    "\n",
    "\t\tids = []\n",
    "\t\tstechiometry = []\n",
    "\t\tfor eachMet in eachReaction.metabolites:\n",
    "\t\t\tids.append(eachMet.id)\n",
    "\t\t\tstechiometry.append(eachReaction.metabolites[eachMet])\n",
    "\n",
    "\t\tremovedEachReaction = 0\n",
    "\t\tfor eachReaction2 in model2.reactions:\n",
    "\t\t\tif eachReaction2 == eachReaction or eachReaction2.id in toRemove or len(eachReaction2.metabolites) != len(eachReaction.metabolites):\n",
    "\t\t\t\tcontinue\n",
    "\t\t\t\n",
    "\t\t\tduplicate = 1\n",
    "\t\t\tfor eachMet in eachReaction2.metabolites:\n",
    "\t\t\t\n",
    "\t\t\t\tif eachMet.id not in ids:\n",
    "\t\t\t\t\tduplicate = 0\n",
    "\t\t\t\t\tbreak\n",
    "\t\t\t\t\t\n",
    "\t\t\t\tif abs(eachReaction2.metabolites[eachMet]) != abs(stechiometry[ids.index(eachMet.id)]):\n",
    "\t\t\t\t\tduplicate = 0\n",
    "\t\t\t\t\tbreak\n",
    "\t\t\t\n",
    "\t\t\tif duplicate == 1:\n",
    "\t\t\t\t\n",
    "\t\t\t\tif len(eachReaction2.genes) == 0 and len(eachReaction.genes) == 0:\n",
    "\t\t\t\t\tif eachReaction2.lower_bound < eachReaction.lower_bound:\n",
    "\t\t\t\t\t\ttoRemove.append(eachReaction.id)\n",
    "\t\t\t\t\t\tremovedEachReaction = 1\n",
    "\t\t\t\t\telse:\n",
    "\t\t\t\t\t\ttoRemove.append(eachReaction2.id)\n",
    "\t\t\t\t\n",
    "\t\t\t\telif len(eachReaction2.genes) == 0 and len(eachReaction.genes) != 0:\n",
    "\t\t\t\t\ttoRemove.append(eachReaction.id)\n",
    "\t\t\t\t\tremovedEachReaction = 1\n",
    "\t\t\t\t\t\n",
    "\t\t\t\telif len(eachReaction2.genes) != 0 and len(eachReaction.genes) == 0:\n",
    "\t\t\t\t\ttoRemove.append(eachReaction2.id)\n",
    "\t\t\t\t\n",
    "\t\t\t\telif len(eachReaction2.genes) != 0 and len(eachReaction.genes) != 0:\n",
    "\t\t\t\t\t\n",
    "\t\t\t\t\ttotalGenes = []\n",
    "\t\t\t\t\tfor eachGene in eachReaction2.genes:\n",
    "\t\t\t\t\t\ttotalGenes.append(eachGene.id)\n",
    "\t\t\t\t\tfor eachGene in eachReaction.genes:\n",
    "\t\t\t\t\t\tif eachGene.id not in totalGenes:\n",
    "\t\t\t\t\t\t\ttotalGenes.append(eachGene.id)\n",
    "\t\t\t\t\n",
    "\t\t\t\t\tif eachReaction2.lower_bound < eachReaction.lower_bound:\n",
    "\t\t\t\t\t\ttoRemove.append(eachReaction.id)\n",
    "\t\t\t\t\t\tif len(eachReaction2.genes) != len(totalGenes):\n",
    "\t\t\t\t\t\t\tstring = ''\n",
    "\t\t\t\t\t\t\tfor i in range(len(totalGenes)):\n",
    "\t\t\t\t\t\t\t\tstring = string + totalGenes[i]\n",
    "\t\t\t\t\t\t\t\tif i != len(totalGenes) -1:\n",
    "\t\t\t\t\t\t\t\t\tstring = string + \" or \"\n",
    "\t\t\t\t\t\t\teachReaction2.gene_reaction_rule = '( ' + string +' )'\n",
    "\t\t\t\t\t\tremovedEachReaction = 1\n",
    "\t\t\t\t\telse:\n",
    "\t\t\t\t\t\ttoRemove.append(eachReaction2.id)\n",
    "\t\t\t\t\t\tif len(eachReaction.genes) != len(totalGenes):\n",
    "\t\t\t\t\t\t\tstring = ''\n",
    "\t\t\t\t\t\t\tfor i in range(len(totalGenes)):\n",
    "\t\t\t\t\t\t\t\tstring = string + totalGenes[i]\n",
    "\t\t\t\t\t\t\t\tif i != len(totalGenes) -1:\n",
    "\t\t\t\t\t\t\t\t\tstring = string + \" or \"\n",
    "\t\t\t\t\t\t\teachReaction.gene_reaction_rule = '( ' + string +' )'\n",
    "\t\t\t\t\t\t\t\n",
    "\t\t\t\t\n",
    "\t\t\tif removedEachReaction == 1:\n",
    "\t\t\t\tbreak\n",
    "\t\t\n",
    "\n",
    "\tmodel2.remove_reactions(toRemove)\n",
    "\t\n",
    "\treturn [model2, toRemove]"
   ]
  },
  {
   "cell_type": "code",
   "execution_count": null,
   "id": "antique-antigua",
   "metadata": {},
   "outputs": [],
   "source": []
  }
 ],
 "metadata": {
  "kernelspec": {
   "display_name": "Python 3.8 (coenzymes)",
   "language": "python",
   "name": "coenzymes"
  },
  "language_info": {
   "codemirror_mode": {
    "name": "ipython",
    "version": 3
   },
   "file_extension": ".py",
   "mimetype": "text/x-python",
   "name": "python",
   "nbconvert_exporter": "python",
   "pygments_lexer": "ipython3",
   "version": "3.8.5"
  }
 },
 "nbformat": 4,
 "nbformat_minor": 5
}
