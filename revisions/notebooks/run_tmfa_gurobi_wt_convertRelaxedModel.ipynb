{
 "cells": [
  {
   "cell_type": "code",
   "execution_count": 146,
   "id": "centered-mayor",
   "metadata": {},
   "outputs": [
    {
     "name": "stdout",
     "output_type": "stream",
     "text": [
      "Loading thermo data...\n",
      "Done !\n",
      "Read LP format model from file /var/folders/17/58pxvfhj0gb_wz2nzgrzc6pc0000gn/T/tmpypokks7m.lp\n",
      "Reading time = 0.02 seconds\n",
      ": 1807 rows, 5170 columns, 20334 nonzeros\n"
     ]
    },
    {
     "name": "stderr",
     "output_type": "stream",
     "text": [
      "2021-10-24 22:18:13,334 - thermomodel_None - INFO - # Model initialized with units kcal/mol and temperature 298.15 K\n",
      "2021-10-24 22:18:13,597 - thermomodel_None - INFO - # Model preparation starting...\n"
     ]
    },
    {
     "name": "stdout",
     "output_type": "stream",
     "text": [
      "FBA Solution found : 24.714\n"
     ]
    },
    {
     "name": "stderr",
     "output_type": "stream",
     "text": [
      "2021-10-24 22:18:15,560 - thermomodel_None - WARNING - Warning : NULL/U\n",
      "2021-10-24 22:18:15,561 - thermomodel_None - WARNING - Warning : NULL/L\n",
      "2021-10-24 22:18:15,562 - thermomodel_None - WARNING - Warning : NULL/L\n",
      "2021-10-24 22:18:15,562 - thermomodel_None - WARNING - Warning : NULL/U\n",
      "2021-10-24 22:18:15,563 - thermomodel_None - WARNING - Warning : NULL/L\n",
      "2021-10-24 22:18:15,564 - thermomodel_None - WARNING - Warning : NULL/L\n",
      "2021-10-24 22:18:15,761 - thermomodel_None - WARNING - Warning : NULL/U\n",
      "2021-10-24 22:18:15,762 - thermomodel_None - WARNING - Warning : NULL/L\n",
      "2021-10-24 22:18:15,763 - thermomodel_None - WARNING - Warning : NULL/L\n",
      "2021-10-24 22:18:15,764 - thermomodel_None - WARNING - Warning : NULL/U\n",
      "2021-10-24 22:18:15,765 - thermomodel_None - WARNING - Warning : NULL/L\n",
      "2021-10-24 22:18:15,766 - thermomodel_None - WARNING - Warning : NULL/L\n",
      "2021-10-24 22:18:15,921 - thermomodel_None - WARNING - Warning : NULL/U\n",
      "2021-10-24 22:18:15,922 - thermomodel_None - WARNING - Warning : NULL/L\n",
      "2021-10-24 22:18:15,922 - thermomodel_None - WARNING - Warning : NULL/L\n",
      "2021-10-24 22:18:15,923 - thermomodel_None - WARNING - Warning : NULL/U\n",
      "2021-10-24 22:18:15,924 - thermomodel_None - WARNING - Warning : NULL/L\n",
      "2021-10-24 22:18:15,925 - thermomodel_None - WARNING - Warning : NULL/L\n",
      "2021-10-24 22:18:15,985 - thermomodel_None - WARNING - Warning : NULL/U\n",
      "2021-10-24 22:18:15,986 - thermomodel_None - WARNING - Warning : NULL/L\n",
      "2021-10-24 22:18:15,987 - thermomodel_None - WARNING - Warning : NULL/L\n",
      "2021-10-24 22:18:15,988 - thermomodel_None - WARNING - Warning : NULL/U\n",
      "2021-10-24 22:18:15,988 - thermomodel_None - WARNING - Warning : NULL/L\n",
      "2021-10-24 22:18:15,989 - thermomodel_None - WARNING - Warning : NULL/L\n",
      "2021-10-24 22:18:15,990 - thermomodel_None - WARNING - Warning : NULL/U\n",
      "2021-10-24 22:18:15,990 - thermomodel_None - WARNING - Warning : NULL/L\n",
      "2021-10-24 22:18:15,991 - thermomodel_None - WARNING - Warning : NULL/L\n",
      "2021-10-24 22:18:15,992 - thermomodel_None - WARNING - Warning : NULL/U\n",
      "2021-10-24 22:18:15,992 - thermomodel_None - WARNING - Warning : NULL/L\n",
      "2021-10-24 22:18:15,993 - thermomodel_None - WARNING - Warning : NULL/L\n",
      "2021-10-24 22:18:15,994 - thermomodel_None - WARNING - Warning : NULL/U\n",
      "2021-10-24 22:18:15,995 - thermomodel_None - WARNING - Warning : NULL/L\n",
      "2021-10-24 22:18:15,996 - thermomodel_None - WARNING - Warning : NULL/L\n",
      "2021-10-24 22:18:15,996 - thermomodel_None - WARNING - Warning : NULL/U\n",
      "2021-10-24 22:18:15,997 - thermomodel_None - WARNING - Warning : NULL/L\n",
      "2021-10-24 22:18:15,998 - thermomodel_None - WARNING - Warning : NULL/L\n",
      "2021-10-24 22:18:15,999 - thermomodel_None - WARNING - Warning : NULL/U\n",
      "2021-10-24 22:18:16,000 - thermomodel_None - WARNING - Warning : NULL/L\n",
      "2021-10-24 22:18:16,001 - thermomodel_None - WARNING - Warning : NULL/L\n",
      "2021-10-24 22:18:16,002 - thermomodel_None - WARNING - Warning : NULL/U\n",
      "2021-10-24 22:18:16,002 - thermomodel_None - WARNING - Warning : NULL/L\n",
      "2021-10-24 22:18:16,003 - thermomodel_None - WARNING - Warning : NULL/L\n",
      "2021-10-24 22:18:16,137 - thermomodel_None - INFO - # Model preparation done.\n",
      "2021-10-24 22:18:16,139 - thermomodel_None - INFO - # Model conversion starting...\n",
      "2021-10-24 22:19:00,684 - thermomodel_None - INFO - # Model conversion done.\n",
      "2021-10-24 22:19:00,685 - thermomodel_None - INFO - # Updating cobra_model variables...\n",
      "2021-10-24 22:19:00,729 - thermomodel_None - INFO - # cobra_model variables are up-to-date\n"
     ]
    },
    {
     "name": "stdout",
     "output_type": "stream",
     "text": [
      "                       value\n",
      "key                         \n",
      "name             iJO1366[WT]\n",
      "description      iJO1366[WT]\n",
      "num constraints        15034\n",
      "num variables          15538\n",
      "num metabolites         1807\n",
      "num reactions           2585\n",
      "                             value\n",
      "key                               \n",
      "num metabolites(thermo)       1550\n",
      "num reactions(thermo)         1824\n",
      "pct metabolites(thermo)  85.777532\n",
      "pct reactions(thermo)    70.560928\n",
      "TFA Solution found : 0\n",
      "Read LP format model from file /var/folders/17/58pxvfhj0gb_wz2nzgrzc6pc0000gn/T/tmpf87_xclw.lp\n",
      "Reading time = 0.02 seconds\n",
      ": 1807 rows, 5170 columns, 20304 nonzeros\n"
     ]
    },
    {
     "name": "stderr",
     "output_type": "stream",
     "text": [
      "2021-10-24 22:19:09,559 - thermomodel_iJO1366[WT] - INFO - # Model initialized with units kcal/mol and temperature 298.15 K\n"
     ]
    },
    {
     "name": "stdout",
     "output_type": "stream",
     "text": [
      "Read LP format model from file /var/folders/17/58pxvfhj0gb_wz2nzgrzc6pc0000gn/T/tmperxpcoyn.lp\n",
      "Reading time = 0.01 seconds\n",
      ": 1807 rows, 5170 columns, 20304 nonzeros\n"
     ]
    },
    {
     "name": "stderr",
     "output_type": "stream",
     "text": [
      "2021-10-24 22:19:32,424 - thermomodel_iJO1366[WT] - INFO - # Model initialized with units kcal/mol and temperature 298.15 K\n",
      "2021-10-24 22:19:38,974 - thermomodel_iJO1366[WT] - INFO - Adding slack constraints\n",
      "adding slacks: 100%|██████████| 1824/1824 [00:48<00:00, 37.40it/s]\n",
      "2021-10-24 22:20:29,045 - thermomodel_iJO1366[WT] - INFO - Optimizing slack model\n",
      "2021-10-24 22:20:35,697 - thermomodel_iJO1366[WT] - INFO - Extracting relaxation\n",
      "applying slack: 100%|██████████| 2585/2585 [00:00<00:00, 105755.60it/s]\n",
      "2021-10-24 22:20:35,806 - thermomodel_iJO1366[WT] - INFO - Testing relaxation\n"
     ]
    },
    {
     "name": "stdout",
     "output_type": "stream",
     "text": [
      "Relaxation: \n",
      "              lb_in      ub_in  lb_change  ub_change     lb_out     ub_out\n",
      "AIRC3    -11.941085  -8.988685   0.000000   2.582409 -11.941085  -6.406276\n",
      "ARGSL     16.770653  18.636729   2.184361   0.000000  14.586293  18.636729\n",
      "ATPS4rpp  -9.518201  -8.083092   1.452217   0.000000 -10.970418  -8.083092\n",
      "GALT1     67.754735  69.018800  54.942183   0.000000  12.812552  69.018800\n",
      "HEPK2     44.872230  45.345690  32.059679   0.000000  12.812552  45.345690\n",
      "HEPT1     25.810459  27.074524  13.693847   0.000000  12.116612  27.074524\n",
      "MECDPS    26.135683  30.646876  11.549390   0.000000  14.586293  30.646876\n",
      "MTHTHFSs  13.297862  14.814659   6.891586   0.000000   6.406276  14.814659\n",
      "PRAIS     17.442418  22.161249   0.065725   0.000000  17.376694  22.161249\n",
      "relaxed TFA Solution found : 0.838\n",
      "FBA Solution found : 24.714\n",
      "TFA Solution found : 0.838\n",
      "Read LP format model from file /var/folders/17/58pxvfhj0gb_wz2nzgrzc6pc0000gn/T/tmpbib2ahjz.lp\n",
      "Reading time = 0.02 seconds\n",
      ": 1807 rows, 5170 columns, 20304 nonzeros\n"
     ]
    },
    {
     "name": "stderr",
     "output_type": "stream",
     "text": [
      "2021-10-24 22:21:03,762 - thermomodel_RelaxedModel iJO1366[WT] - INFO - # Model initialized with units kcal/mol and temperature 298.15 K\n"
     ]
    }
   ],
   "source": [
    "#!/usr/bin/env python\n",
    "# -*- coding: utf-8 -*-\n",
    "import pandas as pd\n",
    "import cobra\n",
    "import pytfa\n",
    "import numpy as np\n",
    "\n",
    "from optlang.exceptions import SolverError\n",
    "from pytfa.thermo import LogConcentration\n",
    "\n",
    "#from cobra.core.model import SolverNotFound\n",
    "from cobra.flux_analysis import flux_variability_analysis\n",
    "from cobra.io import load_matlab_model, load_json_model\n",
    "\n",
    "\n",
    "from pytfa.io import import_matlab_model, load_thermoDB,                    \\\n",
    "                            read_lexicon, annotate_from_lexicon,            \\\n",
    "                            read_compartment_data, apply_compartment_data\n",
    "from pytfa.optim.relaxation import relax_dgo\n",
    "\n",
    "import pickle\n",
    "from pytfa.optim.variables import LogConcentration\n",
    "#thermo_database = '/projectnb2/bioinfor/SEGRE/goldford/CoenzymeSpecificity/pytfa/data/thermo_data.thermodb'\n",
    "#root_dir = '/projectnb/bioinfor/SEGRE/goldford/CoenzymeSpecificity/pytfa/tests/singleCoenzymeModel.08272021.v2'\n",
    "thermo_database = '../assets/thermo_data.thermodb'\n",
    "model_path = '../assets'\n",
    "\n",
    "CPLEX = 'optlang-cplex'\n",
    "GUROBI = 'optlang-gurobi'\n",
    "GLPK = 'optlang-glpk'\n",
    "solver = GUROBI\n",
    "\n",
    "# Load reaction DB\n",
    "print(\"Loading thermo data...\")\n",
    "thermo_data = load_thermoDB(thermo_database)\n",
    "\n",
    "print(\"Done !\")\n",
    "#biomass_rxn = 'BIOMASS_Ec_iJO1366_WT_53p95M'\n",
    "biomass_rxn = 'Ec_biomass_iJO1366_WT_53p95M'\n",
    "\n",
    "\n",
    "model_id = 'iJO1366_WT_semi-unconstrained.json'\n",
    "#model_id = 'iJO1366.json'\n",
    "\n",
    "# We import pre-compiled data as it is faster for bigger models\n",
    "cobra_model = load_json_model(model_path + '/' + model_id)\n",
    "\n",
    "lexicon = read_lexicon(model_path + '/iJO1366/lexicon.csv')\n",
    "compartment_data = read_compartment_data(model_path + '/iJO1366/compartment_data.json')\n",
    "\n",
    "# Initialize the cobra_model\n",
    "mytfa = pytfa.ThermoModel(thermo_data, cobra_model)\n",
    "\n",
    "# Annotate the cobra_model\n",
    "annotate_from_lexicon(mytfa, lexicon)\n",
    "apply_compartment_data(mytfa, compartment_data)\n",
    "\n",
    "\n",
    "mytfa.name = 'iJO1366[WT]'\n",
    "mytfa.solver = solver\n",
    "mytfa.objective = biomass_rxn\n",
    "\n",
    "# Solver settings\n",
    "\n",
    "def apply_solver_settings(model, solver = solver):\n",
    "    model.solver = solver\n",
    "    # model.solver.configuration.verbosity = 1\n",
    "    model.solver.configuration.tolerances.feasibility = 1e-9\n",
    "    if solver == 'optlang_gurobi':\n",
    "        model.solver.problem.Params.NumericFocus = 3\n",
    "    model.solver.configuration.presolve = True\n",
    "\n",
    "apply_solver_settings(mytfa)\n",
    "\n",
    "\n",
    "## FBA\n",
    "fba_solution = cobra_model.optimize()\n",
    "fba_value = fba_solution.objective_value\n",
    "print('FBA Solution found : {0:.5g}'.format(fba_value))\n",
    "\n",
    "# fva = flux_variability_analysis(mytfa)\n",
    "\n",
    "## TFA conversion\n",
    "mytfa.prepare()\n",
    "mytfa.convert()#add_displacement = True)\n",
    "\n",
    "## Info on the cobra_model\n",
    "mytfa.print_info()\n",
    "\n",
    "#met_ub = np.log(1e-3)\n",
    "\n",
    "#for lc in mytfa.get_variables_of_type(LogConcentration):\n",
    "#    if lc.variable.ub < 0:\n",
    "#        lc.variable.ub = np.min([lc.variable.ub,met_ub])\n",
    "\n",
    "\n",
    "## Optimality\n",
    "tfa_solution = mytfa.optimize()\n",
    "tfa_value = tfa_solution.objective_value\n",
    "print('TFA Solution found : {0:.5g}'.format(tfa_value))\n",
    "\n",
    "# It might happen that the model is infeasible. In this case, we can relax \n",
    "# thermodynamics constraints:\n",
    "\n",
    "\n",
    "\n",
    "\n",
    "\n",
    "if tfa_value < 0.1:\n",
    "    \n",
    "    from pytfa.optim.relaxation import relax_dgo\n",
    "    #mytfa.reactions.get_by_id(biomass_rxn).lower_bound = 0.5*fba_value\n",
    "    mytfa.reactions.get_by_id(biomass_rxn).lower_bound = 0.5\n",
    "    relaxed_model, slack_model, relax_table = relax_dgo(mytfa)\n",
    "    original_model, mytfa = mytfa, relaxed_model\n",
    "    print('Relaxation: ')\n",
    "    print(relax_table)\n",
    "    \n",
    "    tfa_solution = mytfa.optimize()\n",
    "    tfa_value = tfa_solution.objective_value\n",
    "\n",
    "    print('relaxed TFA Solution found : {0:.5g}'.format(tfa_value))\n",
    "\n",
    "# Report\n",
    "print('FBA Solution found : {0:.5g}'.format(fba_value))\n",
    "print('TFA Solution found : {0:.5g}'.format(tfa_value))\n",
    "\n",
    "double_coenzyme_models = {}\n",
    "z = mytfa.copy()\n",
    "double_coenzyme_models['tmodel'] = z\n",
    "double_coenzyme_models['tmodel-maxGrowth'] = tfa_value\n",
    "double_coenzyme_models['tmodel-solution'] = tfa_solution"
   ]
  },
  {
   "cell_type": "code",
   "execution_count": 133,
   "id": "governing-boating",
   "metadata": {},
   "outputs": [],
   "source": [
    "def single_coenzyme_transform(model,reaction_id):\n",
    "    \n",
    "    met = {}\n",
    "    met['nad'] = np.where([x.id == 'nad_c' for x in model.metabolites])[0][0]\n",
    "    met['nadp'] = np.where([x.id == 'nadp_c' for x in model.metabolites])[0][0]\n",
    "    met['nadh'] = np.where([x.id == 'nadh_c' for x in model.metabolites])[0][0]\n",
    "    met['nadph'] = np.where([x.id == 'nadph_c' for x in model.metabolites])[0][0]\n",
    "\n",
    "    met_objs = {}\n",
    "    met_objs['nad'] = [x for x in model.metabolites if x.id == 'nad_c'][0]\n",
    "    met_objs['nadh'] = [x for x in model.metabolites if x.id == 'nadh_c'][0]\n",
    "    met_objs['nadp'] = [x for x in model.metabolites if x.id == 'nadp_c'][0]\n",
    "    met_objs['nadph'] = [x for x in model.metabolites if x.id == 'nadph_c'][0]\n",
    "    \n",
    "    rxn = [x for x in model.reactions if x.id == reaction_id][0].copy()\n",
    "    # make a new dictionary with coenzyme swapped\n",
    "    v = {x:y for x,y in rxn.metabolites.items() if x.id in [x + '_c' for x in list(met)]}\n",
    "    \n",
    "    nad_stoich = 0;\n",
    "    nadh_stoich  = 0;\n",
    "    set([x.id for x in m.reactions.get_by_id(rxnid).metabolites])\n",
    "    if len(v) > 1:\n",
    "        v2 = {}\n",
    "        for x,y in v.items():\n",
    "            if x.id == 'nadph_c':\n",
    "                nadh_stoich = nadh_stoich + y \n",
    "                #v2[met_objs['nadh']] = y\n",
    "            elif x.id == 'nadp_c':\n",
    "                nad_stoich = nad_stoich + y \n",
    "                #v2[met_objs['nad']] = y\n",
    "            elif x.id == 'nadh_c':\n",
    "                nadh_stoich = nadh_stoich + y \n",
    "                #v2[met_objs['nadph']] = y\n",
    "            elif x.id == 'nad_c':\n",
    "                nad_stoich = nad_stoich + y \n",
    "                #v2[met_objs['nadp']] = y\n",
    "\n",
    "        v2[met_objs['nad']] = nad_stoich\n",
    "        v2[met_objs['nadh']] = nadh_stoich\n",
    "\n",
    "        rxn.subtract_metabolites(v)\n",
    "        rxn.add_metabolites(v2)\n",
    "        #rxn.id = rxn.id + '[condensed]'\n",
    "        # keep old reaction ID\n",
    "        #print('adding new reaction '+ rxn.id)\n",
    "        model.remove_reactions([x for x in model.reactions if x.id == reaction_id][0])\n",
    "        model.add_reaction(rxn)\n",
    "        coverted = True\n",
    "        return model,coverted\n",
    "    else:\n",
    "        coverted = False\n",
    "        return model,coverted"
   ]
  },
  {
   "cell_type": "code",
   "execution_count": 134,
   "id": "curious-russian",
   "metadata": {},
   "outputs": [
    {
     "name": "stdout",
     "output_type": "stream",
     "text": [
      "Read LP format model from file /var/folders/17/58pxvfhj0gb_wz2nzgrzc6pc0000gn/T/tmp9puivcua.lp\n",
      "Reading time = 0.02 seconds\n",
      ": 1807 rows, 5170 columns, 20304 nonzeros\n"
     ]
    },
    {
     "name": "stderr",
     "output_type": "stream",
     "text": [
      "2021-10-22 14:46:27,760 - thermomodel_RelaxedModel iJO1366[WT] - INFO - # Model initialized with units kcal/mol and temperature 298.15 K\n",
      "/Users/joshuagoldford/opt/miniconda3/envs/coenzymes/lib/python3.8/site-packages/cobra/core/model.py:745: UserWarning: need to pass in a list\n",
      "  warn(\"need to pass in a list\")\n"
     ]
    },
    {
     "name": "stdout",
     "output_type": "stream",
     "text": [
      "Read LP format model from file /var/folders/17/58pxvfhj0gb_wz2nzgrzc6pc0000gn/T/tmp11_xdv4x.lp\n",
      "Reading time = 0.02 seconds\n",
      ": 1807 rows, 5162 columns, 20260 nonzeros\n"
     ]
    },
    {
     "name": "stderr",
     "output_type": "stream",
     "text": [
      "2021-10-22 14:47:33,308 - thermomodel_RelaxedModel iJO1366[NAD] - INFO - # Model initialized with units kcal/mol and temperature 298.15 K\n"
     ]
    }
   ],
   "source": [
    "m  = z.copy()\n",
    "\n",
    "rxns_to_remove = ['NADTRHD','NADPPPS','NADK','THD2pp']\n",
    "rxn_ids = [x.id for x in m.reactions]\n",
    "\n",
    "#m.remove_reactions([x for x in m.reactions if x.id == 'NADTRHD'][0])\n",
    "#m.remove_reactions([x for x in m.reactions if x.id == 'NADPPPS'][0])\n",
    "#m.remove_reactions([x for x in m.reactions if x.id == 'NADK'][0])\n",
    "#m.remove_reactions([x for x in m.reactions if x.id in rxns_to_remove][0])\n",
    "\n",
    "m.remove_reactions(rxns_to_remove)\n",
    "\n",
    "rxn_ids = [x for x in rxn_ids if x not in rxns_to_remove]\n",
    "#rxn_ids = [x for x in rxn_ids if x not in ['Ec_biomass_iJO1366_WT_53p95M','Ec_biomass_iJO1366_core_53p95M']]\n",
    "\n",
    "converted_rxns = []\n",
    "for rxnid in rxn_ids:\n",
    "    m,conv = single_coenzyme_transform(m,rxnid)\n",
    "    if conv:\n",
    "        converted_rxns.append(rxnid)\n",
    "\n",
    "        \n",
    "#m.remove_reactions([x for x in m.reactions if x.id == 'NADTRHD[condensed]'][0])\n",
    "#m.remove_reactions([x for x in m.reactions if x.id == 'NADPPPS[condensed]'][0])\n",
    "#m.remove_reactions([x for x in m.reactions if x.id == 'NADK[condensed]'][0])\n",
    "#m.remove_reactions([x for x in m.reactions if x.id == 'NADDP'][0])\n",
    "\n",
    "m.id = 'iJO1366[NAD]'\n",
    "#m.objective = 'BIOMASS_Ec_iJO1366_WT_53p95M'\n",
    "m.objective = 'Ec_biomass_iJO1366_WT_53p95M'\n",
    "m.name = 'RelaxedModel iJO1366[NAD]'\n",
    "m.description = 'RelaxedModel iJO1366[NAD]'\n",
    "\n",
    "met_objs = {}\n",
    "met_objs['nad'] = [x for x in m.metabolites if x.id == 'nad_c'][0]\n",
    "met_objs['nadh'] = [x for x in m.metabolites if x.id == 'nadh_c'][0]\n",
    "met_objs['nadp'] = [x for x in m.metabolites if x.id == 'nadp_c'][0]\n",
    "met_objs['nadph'] = [x for x in m.metabolites if x.id == 'nadph_c'][0]\n",
    "#m.remove_metabolites([met_objs['nadp'],met_objs['nadph']])\n",
    "m,unusedmets = cobra.manipulation.delete.prune_unused_metabolites(m)"
   ]
  },
  {
   "cell_type": "code",
   "execution_count": 135,
   "id": "coupled-script",
   "metadata": {},
   "outputs": [
    {
     "name": "stdout",
     "output_type": "stream",
     "text": [
      "Read LP format model from file /var/folders/17/58pxvfhj0gb_wz2nzgrzc6pc0000gn/T/tmphmxbeeki.lp\n",
      "Reading time = 0.02 seconds\n",
      ": 1805 rows, 5162 columns, 20260 nonzeros\n"
     ]
    },
    {
     "name": "stderr",
     "output_type": "stream",
     "text": [
      "2021-10-22 14:47:50,844 - thermomodel_RelaxedModel iJO1366[NAD] - INFO - # Model initialized with units kcal/mol and temperature 298.15 K\n"
     ]
    }
   ],
   "source": [
    "sc_model_trimmed, removedReactions = removeDuplicateRxn(m)"
   ]
  },
  {
   "cell_type": "code",
   "execution_count": 138,
   "id": "nuclear-creature",
   "metadata": {},
   "outputs": [
    {
     "name": "stderr",
     "output_type": "stream",
     "text": [
      "2021-10-22 14:50:24,245 - thermomodel_RelaxedModel iJO1366[NAD] - INFO - # Model preparation starting...\n",
      "2021-10-22 14:50:26,509 - thermomodel_RelaxedModel iJO1366[NAD] - WARNING - Warning : NULL/U\n",
      "2021-10-22 14:50:26,510 - thermomodel_RelaxedModel iJO1366[NAD] - WARNING - Warning : NULL/L\n",
      "2021-10-22 14:50:26,510 - thermomodel_RelaxedModel iJO1366[NAD] - WARNING - Warning : NULL/L\n",
      "2021-10-22 14:50:26,511 - thermomodel_RelaxedModel iJO1366[NAD] - WARNING - Warning : NULL/U\n",
      "2021-10-22 14:50:26,512 - thermomodel_RelaxedModel iJO1366[NAD] - WARNING - Warning : NULL/L\n",
      "2021-10-22 14:50:26,513 - thermomodel_RelaxedModel iJO1366[NAD] - WARNING - Warning : NULL/L\n",
      "2021-10-22 14:50:26,626 - thermomodel_RelaxedModel iJO1366[NAD] - WARNING - Warning : NULL/U\n",
      "2021-10-22 14:50:26,627 - thermomodel_RelaxedModel iJO1366[NAD] - WARNING - Warning : NULL/L\n",
      "2021-10-22 14:50:26,627 - thermomodel_RelaxedModel iJO1366[NAD] - WARNING - Warning : NULL/L\n",
      "2021-10-22 14:50:26,628 - thermomodel_RelaxedModel iJO1366[NAD] - WARNING - Warning : NULL/U\n",
      "2021-10-22 14:50:26,629 - thermomodel_RelaxedModel iJO1366[NAD] - WARNING - Warning : NULL/L\n",
      "2021-10-22 14:50:26,630 - thermomodel_RelaxedModel iJO1366[NAD] - WARNING - Warning : NULL/L\n",
      "2021-10-22 14:50:26,681 - thermomodel_RelaxedModel iJO1366[NAD] - WARNING - Warning : NULL/U\n",
      "2021-10-22 14:50:26,681 - thermomodel_RelaxedModel iJO1366[NAD] - WARNING - Warning : NULL/L\n",
      "2021-10-22 14:50:26,682 - thermomodel_RelaxedModel iJO1366[NAD] - WARNING - Warning : NULL/L\n",
      "2021-10-22 14:50:26,683 - thermomodel_RelaxedModel iJO1366[NAD] - WARNING - Warning : NULL/U\n",
      "2021-10-22 14:50:26,684 - thermomodel_RelaxedModel iJO1366[NAD] - WARNING - Warning : NULL/L\n",
      "2021-10-22 14:50:26,685 - thermomodel_RelaxedModel iJO1366[NAD] - WARNING - Warning : NULL/L\n",
      "2021-10-22 14:50:26,686 - thermomodel_RelaxedModel iJO1366[NAD] - WARNING - Warning : NULL/U\n",
      "2021-10-22 14:50:26,687 - thermomodel_RelaxedModel iJO1366[NAD] - WARNING - Warning : NULL/L\n",
      "2021-10-22 14:50:26,687 - thermomodel_RelaxedModel iJO1366[NAD] - WARNING - Warning : NULL/L\n",
      "2021-10-22 14:50:26,688 - thermomodel_RelaxedModel iJO1366[NAD] - WARNING - Warning : NULL/U\n",
      "2021-10-22 14:50:26,689 - thermomodel_RelaxedModel iJO1366[NAD] - WARNING - Warning : NULL/L\n",
      "2021-10-22 14:50:26,689 - thermomodel_RelaxedModel iJO1366[NAD] - WARNING - Warning : NULL/L\n",
      "2021-10-22 14:50:26,690 - thermomodel_RelaxedModel iJO1366[NAD] - WARNING - Warning : NULL/U\n",
      "2021-10-22 14:50:26,691 - thermomodel_RelaxedModel iJO1366[NAD] - WARNING - Warning : NULL/L\n",
      "2021-10-22 14:50:26,691 - thermomodel_RelaxedModel iJO1366[NAD] - WARNING - Warning : NULL/L\n",
      "2021-10-22 14:50:26,692 - thermomodel_RelaxedModel iJO1366[NAD] - WARNING - Warning : NULL/U\n",
      "2021-10-22 14:50:26,693 - thermomodel_RelaxedModel iJO1366[NAD] - WARNING - Warning : NULL/L\n",
      "2021-10-22 14:50:26,693 - thermomodel_RelaxedModel iJO1366[NAD] - WARNING - Warning : NULL/L\n",
      "2021-10-22 14:50:26,694 - thermomodel_RelaxedModel iJO1366[NAD] - WARNING - Warning : NULL/U\n",
      "2021-10-22 14:50:26,695 - thermomodel_RelaxedModel iJO1366[NAD] - WARNING - Warning : NULL/L\n",
      "2021-10-22 14:50:26,695 - thermomodel_RelaxedModel iJO1366[NAD] - WARNING - Warning : NULL/L\n",
      "2021-10-22 14:50:26,696 - thermomodel_RelaxedModel iJO1366[NAD] - WARNING - Warning : NULL/U\n",
      "2021-10-22 14:50:26,697 - thermomodel_RelaxedModel iJO1366[NAD] - WARNING - Warning : NULL/L\n",
      "2021-10-22 14:50:26,697 - thermomodel_RelaxedModel iJO1366[NAD] - WARNING - Warning : NULL/L\n",
      "2021-10-22 14:50:26,819 - thermomodel_RelaxedModel iJO1366[NAD] - WARNING - Warning : NULL/U\n",
      "2021-10-22 14:50:26,820 - thermomodel_RelaxedModel iJO1366[NAD] - WARNING - Warning : NULL/L\n",
      "2021-10-22 14:50:26,821 - thermomodel_RelaxedModel iJO1366[NAD] - WARNING - Warning : NULL/L\n",
      "2021-10-22 14:50:26,822 - thermomodel_RelaxedModel iJO1366[NAD] - WARNING - Warning : NULL/U\n",
      "2021-10-22 14:50:26,822 - thermomodel_RelaxedModel iJO1366[NAD] - WARNING - Warning : NULL/L\n",
      "2021-10-22 14:50:26,823 - thermomodel_RelaxedModel iJO1366[NAD] - WARNING - Warning : NULL/L\n",
      "2021-10-22 14:50:26,856 - thermomodel_RelaxedModel iJO1366[NAD] - INFO - # Model preparation done.\n",
      "2021-10-22 14:50:26,857 - thermomodel_RelaxedModel iJO1366[NAD] - INFO - # Model conversion starting...\n",
      "2021-10-22 14:50:42,073 - thermomodel_RelaxedModel iJO1366[NAD] - INFO - # Model conversion done.\n",
      "2021-10-22 14:50:42,074 - thermomodel_RelaxedModel iJO1366[NAD] - INFO - # Updating cobra_model variables...\n",
      "2021-10-22 14:50:42,134 - thermomodel_RelaxedModel iJO1366[NAD] - INFO - # cobra_model variables are up-to-date\n"
     ]
    },
    {
     "name": "stdout",
     "output_type": "stream",
     "text": [
      "                                     value\n",
      "key                                       \n",
      "name             RelaxedModel iJO1366[NAD]\n",
      "description      RelaxedModel iJO1366[NAD]\n",
      "num constraints                      14714\n",
      "num variables                        15200\n",
      "num metabolites                       1805\n",
      "num reactions                         2523\n",
      "                             value\n",
      "key                               \n",
      "num metabolites(thermo)       1548\n",
      "num reactions(thermo)         1780\n",
      "pct metabolites(thermo)  85.761773\n",
      "pct reactions(thermo)    70.550931\n"
     ]
    }
   ],
   "source": [
    "## TFA conversion\n",
    "sc_model_trimmed.prepare()\n",
    "sc_model_trimmed.convert()#add_displacement = True)\n",
    "\n",
    "## Info on the cobra_model\n",
    "sc_model_trimmed.print_info()\n"
   ]
  },
  {
   "cell_type": "code",
   "execution_count": 136,
   "id": "ignored-digit",
   "metadata": {
    "collapsed": true,
    "jupyter": {
     "outputs_hidden": true,
     "source_hidden": true
    }
   },
   "outputs": [
    {
     "name": "stderr",
     "output_type": "stream",
     "text": [
      "2021-10-22 14:48:17,807 - thermomodel_RelaxedModel iJO1366[NAD] - INFO - # Model preparation starting...\n",
      "2021-10-22 14:48:20,209 - thermomodel_RelaxedModel iJO1366[NAD] - WARNING - Warning : NULL/U\n",
      "2021-10-22 14:48:20,210 - thermomodel_RelaxedModel iJO1366[NAD] - WARNING - Warning : NULL/L\n",
      "2021-10-22 14:48:20,211 - thermomodel_RelaxedModel iJO1366[NAD] - WARNING - Warning : NULL/L\n",
      "2021-10-22 14:48:20,212 - thermomodel_RelaxedModel iJO1366[NAD] - WARNING - Warning : NULL/U\n",
      "2021-10-22 14:48:20,213 - thermomodel_RelaxedModel iJO1366[NAD] - WARNING - Warning : NULL/L\n",
      "2021-10-22 14:48:20,214 - thermomodel_RelaxedModel iJO1366[NAD] - WARNING - Warning : NULL/L\n",
      "2021-10-22 14:48:20,324 - thermomodel_RelaxedModel iJO1366[NAD] - WARNING - Warning : NULL/U\n",
      "2021-10-22 14:48:20,324 - thermomodel_RelaxedModel iJO1366[NAD] - WARNING - Warning : NULL/L\n",
      "2021-10-22 14:48:20,325 - thermomodel_RelaxedModel iJO1366[NAD] - WARNING - Warning : NULL/L\n",
      "2021-10-22 14:48:20,326 - thermomodel_RelaxedModel iJO1366[NAD] - WARNING - Warning : NULL/U\n",
      "2021-10-22 14:48:20,327 - thermomodel_RelaxedModel iJO1366[NAD] - WARNING - Warning : NULL/L\n",
      "2021-10-22 14:48:20,328 - thermomodel_RelaxedModel iJO1366[NAD] - WARNING - Warning : NULL/L\n",
      "2021-10-22 14:48:20,377 - thermomodel_RelaxedModel iJO1366[NAD] - WARNING - Warning : NULL/U\n",
      "2021-10-22 14:48:20,378 - thermomodel_RelaxedModel iJO1366[NAD] - WARNING - Warning : NULL/L\n",
      "2021-10-22 14:48:20,379 - thermomodel_RelaxedModel iJO1366[NAD] - WARNING - Warning : NULL/L\n",
      "2021-10-22 14:48:20,379 - thermomodel_RelaxedModel iJO1366[NAD] - WARNING - Warning : NULL/U\n",
      "2021-10-22 14:48:20,380 - thermomodel_RelaxedModel iJO1366[NAD] - WARNING - Warning : NULL/L\n",
      "2021-10-22 14:48:20,381 - thermomodel_RelaxedModel iJO1366[NAD] - WARNING - Warning : NULL/L\n",
      "2021-10-22 14:48:20,382 - thermomodel_RelaxedModel iJO1366[NAD] - WARNING - Warning : NULL/U\n",
      "2021-10-22 14:48:20,382 - thermomodel_RelaxedModel iJO1366[NAD] - WARNING - Warning : NULL/L\n",
      "2021-10-22 14:48:20,383 - thermomodel_RelaxedModel iJO1366[NAD] - WARNING - Warning : NULL/L\n",
      "2021-10-22 14:48:20,384 - thermomodel_RelaxedModel iJO1366[NAD] - WARNING - Warning : NULL/U\n",
      "2021-10-22 14:48:20,385 - thermomodel_RelaxedModel iJO1366[NAD] - WARNING - Warning : NULL/L\n",
      "2021-10-22 14:48:20,386 - thermomodel_RelaxedModel iJO1366[NAD] - WARNING - Warning : NULL/L\n",
      "2021-10-22 14:48:20,388 - thermomodel_RelaxedModel iJO1366[NAD] - WARNING - Warning : NULL/U\n",
      "2021-10-22 14:48:20,388 - thermomodel_RelaxedModel iJO1366[NAD] - WARNING - Warning : NULL/L\n",
      "2021-10-22 14:48:20,389 - thermomodel_RelaxedModel iJO1366[NAD] - WARNING - Warning : NULL/L\n",
      "2021-10-22 14:48:20,390 - thermomodel_RelaxedModel iJO1366[NAD] - WARNING - Warning : NULL/U\n",
      "2021-10-22 14:48:20,390 - thermomodel_RelaxedModel iJO1366[NAD] - WARNING - Warning : NULL/L\n",
      "2021-10-22 14:48:20,391 - thermomodel_RelaxedModel iJO1366[NAD] - WARNING - Warning : NULL/L\n",
      "2021-10-22 14:48:20,392 - thermomodel_RelaxedModel iJO1366[NAD] - WARNING - Warning : NULL/U\n",
      "2021-10-22 14:48:20,393 - thermomodel_RelaxedModel iJO1366[NAD] - WARNING - Warning : NULL/L\n",
      "2021-10-22 14:48:20,394 - thermomodel_RelaxedModel iJO1366[NAD] - WARNING - Warning : NULL/L\n",
      "2021-10-22 14:48:20,394 - thermomodel_RelaxedModel iJO1366[NAD] - WARNING - Warning : NULL/U\n",
      "2021-10-22 14:48:20,395 - thermomodel_RelaxedModel iJO1366[NAD] - WARNING - Warning : NULL/L\n",
      "2021-10-22 14:48:20,396 - thermomodel_RelaxedModel iJO1366[NAD] - WARNING - Warning : NULL/L\n",
      "2021-10-22 14:48:20,543 - thermomodel_RelaxedModel iJO1366[NAD] - WARNING - Warning : NULL/U\n",
      "2021-10-22 14:48:20,544 - thermomodel_RelaxedModel iJO1366[NAD] - WARNING - Warning : NULL/L\n",
      "2021-10-22 14:48:20,545 - thermomodel_RelaxedModel iJO1366[NAD] - WARNING - Warning : NULL/L\n",
      "2021-10-22 14:48:20,546 - thermomodel_RelaxedModel iJO1366[NAD] - WARNING - Warning : NULL/U\n",
      "2021-10-22 14:48:20,546 - thermomodel_RelaxedModel iJO1366[NAD] - WARNING - Warning : NULL/L\n",
      "2021-10-22 14:48:20,547 - thermomodel_RelaxedModel iJO1366[NAD] - WARNING - Warning : NULL/L\n",
      "2021-10-22 14:48:20,589 - thermomodel_RelaxedModel iJO1366[NAD] - INFO - # Model preparation done.\n",
      "2021-10-22 14:48:20,593 - thermomodel_RelaxedModel iJO1366[NAD] - INFO - # Model conversion starting...\n",
      "2021-10-22 14:48:38,866 - thermomodel_RelaxedModel iJO1366[NAD] - INFO - # Model conversion done.\n",
      "2021-10-22 14:48:38,866 - thermomodel_RelaxedModel iJO1366[NAD] - INFO - # Updating cobra_model variables...\n",
      "2021-10-22 14:48:38,922 - thermomodel_RelaxedModel iJO1366[NAD] - INFO - # cobra_model variables are up-to-date\n"
     ]
    },
    {
     "name": "stdout",
     "output_type": "stream",
     "text": [
      "                                     value\n",
      "key                                       \n",
      "name             RelaxedModel iJO1366[NAD]\n",
      "description      RelaxedModel iJO1366[NAD]\n",
      "num constraints                      15008\n",
      "num variables                        15512\n",
      "num metabolites                       1805\n",
      "num reactions                         2581\n",
      "                             value\n",
      "key                               \n",
      "num metabolites(thermo)       1548\n",
      "num reactions(thermo)         1820\n",
      "pct metabolites(thermo)  85.761773\n",
      "pct reactions(thermo)    70.515304\n"
     ]
    }
   ],
   "source": [
    "## re-prepare the TFA model\n",
    "m.prepare()\n",
    "m.convert()#add_displacement = True)\n",
    "## Info on the cobra_model\n",
    "m.print_info()"
   ]
  },
  {
   "cell_type": "code",
   "execution_count": 139,
   "id": "elder-gravity",
   "metadata": {},
   "outputs": [
    {
     "name": "stdout",
     "output_type": "stream",
     "text": [
      "TFA Solution found : 0.69989\n"
     ]
    }
   ],
   "source": [
    "tfa_solution_sc = sc_model_trimmed.optimize()\n",
    "tfa_value_sc = tfa_solution_sc.objective_value\n",
    "# Report\n",
    "print('TFA Solution found : {0:.5g}'.format(tfa_value_sc))"
   ]
  },
  {
   "cell_type": "code",
   "execution_count": 140,
   "id": "signed-belize",
   "metadata": {},
   "outputs": [
    {
     "name": "stdout",
     "output_type": "stream",
     "text": [
      "TFA Solution found : 0.82175\n"
     ]
    }
   ],
   "source": [
    "tfa_solution_wt = z.optimize()\n",
    "tfa_value_wt = tfa_solution_wt.objective_value\n",
    "# Report\n",
    "print('TFA Solution found : {0:.5g}'.format(tfa_value_wt))"
   ]
  },
  {
   "cell_type": "code",
   "execution_count": 119,
   "id": "ideal-manual",
   "metadata": {},
   "outputs": [],
   "source": [
    "tfa_res = pd.DataFrame({'model': ['WT','SC'], 'max growth rate' : [tfa_value_wt,tfa_value_sc]})"
   ]
  },
  {
   "cell_type": "code",
   "execution_count": 121,
   "id": "tropical-sacrifice",
   "metadata": {},
   "outputs": [
    {
     "data": {
      "text/plain": [
       "<AxesSubplot:xlabel='model', ylabel='max growth rate'>"
      ]
     },
     "execution_count": 121,
     "metadata": {},
     "output_type": "execute_result"
    },
    {
     "data": {
      "image/png": "[encoded data removed]",
      "text/plain": [
       "<Figure size 432x288 with 1 Axes>"
      ]
     },
     "metadata": {
      "needs_background": "light"
     },
     "output_type": "display_data"
    }
   ],
   "source": [
    "sns.barplot(x='model',y='max growth rate',data=tfa_res,palette='Set1')\n",
    "#plt.title('iJO1366')\n",
    "#plt.savefig('iJO1366.wt_sc.barplot.svg')"
   ]
  },
  {
   "cell_type": "code",
   "execution_count": 103,
   "id": "noted-safety",
   "metadata": {},
   "outputs": [],
   "source": [
    "#help(m.optimize())\n",
    "sol_pfba = cobra.flux_analysis.pfba(m)"
   ]
  },
  {
   "cell_type": "code",
   "execution_count": 20,
   "id": "respective-hopkins",
   "metadata": {},
   "outputs": [],
   "source": [
    "m.description = 'RelaxedModel iJO1366[NAD]'"
   ]
  },
  {
   "cell_type": "code",
   "execution_count": 30,
   "id": "alpha-korean",
   "metadata": {},
   "outputs": [],
   "source": [
    "wt_fluxes = pd.DataFrame(tfa_solution.fluxes)\n",
    "sc_fluxes = pd.DataFrame(tfa_solution_sc.fluxes)\n",
    "wt_fluxes.columns = ['WT']\n",
    "sc_fluxes.columns = ['SC']"
   ]
  },
  {
   "cell_type": "code",
   "execution_count": 34,
   "id": "familiar-recommendation",
   "metadata": {},
   "outputs": [],
   "source": [
    "res = wt_fluxes.join(sc_fluxes)"
   ]
  },
  {
   "cell_type": "code",
   "execution_count": 139,
   "id": "cosmetic-pierce",
   "metadata": {},
   "outputs": [],
   "source": [
    "reaction_ids = pd.DataFrame(tfa_solution.fluxes).index.tolist()\n",
    "reaction_ids = [x for x in reaction_ids if x[0:2] != 'DM']\n",
    "reaction_ids = [x for x in reaction_ids if x not in ['Ec_biomass_iJO1366_WT_53p95M','Ec_biomass_iJO1366_core_53p95M']]\n"
   ]
  },
  {
   "cell_type": "code",
   "execution_count": 144,
   "id": "frozen-appliance",
   "metadata": {},
   "outputs": [
    {
     "name": "stdout",
     "output_type": "stream",
     "text": [
      "Read LP format model from file /var/folders/17/58pxvfhj0gb_wz2nzgrzc6pc0000gn/T/tmppy921hyg.lp\n",
      "Reading time = 0.02 seconds\n",
      ": 1807 rows, 5170 columns, 20304 nonzeros\n"
     ]
    },
    {
     "name": "stderr",
     "output_type": "stream",
     "text": [
      "2021-10-19 11:01:57,670 - thermomodel_RelaxedModel iJO1366[WT] - INFO - # Model initialized with units kcal/mol and temperature 298.15 K\n"
     ]
    },
    {
     "name": "stdout",
     "output_type": "stream",
     "text": [
      "Read LP format model from file /var/folders/17/58pxvfhj0gb_wz2nzgrzc6pc0000gn/T/tmpx305l9wn.lp\n",
      "Reading time = 0.01 seconds\n",
      ": 1805 rows, 5162 columns, 20260 nonzeros\n"
     ]
    },
    {
     "name": "stderr",
     "output_type": "stream",
     "text": [
      "2021-10-19 11:02:12,830 - thermomodel_RelaxedModel iJO1366[NAD] - INFO - # Model initialized with units kcal/mol and temperature 298.15 K\n"
     ]
    }
   ],
   "source": [
    "# change flux bounds to 100\n",
    "wt_model = z.copy()\n",
    "sc_model = m.copy()"
   ]
  },
  {
   "cell_type": "code",
   "execution_count": 156,
   "id": "inclusive-adapter",
   "metadata": {},
   "outputs": [],
   "source": [
    "fb = 100\n",
    "wt_rxns = [x.id for x in wt_model.reactions]\n",
    "sc_rxns = [x.id for x in sc_model.reactions]\n",
    "\n",
    "for r in reaction_ids:\n",
    "    if r in wt_rxns:\n",
    "        lb = wt_model.reactions.get_by_id(r).lower_bound\n",
    "        ub = wt_model.reactions.get_by_id(r).upper_bound\n",
    "        if ub > fb:\n",
    "            ub = fb\n",
    "        if lb < -fb:\n",
    "            lb = -fb\n",
    "            \n",
    "        wt_model.reactions.get_by_id(r).lower_bound = lb\n",
    "        wt_model.reactions.get_by_id(r).upper_bound = ub\n",
    "        \n",
    "    if r in sc_rxns:\n",
    "        lb = sc_model.reactions.get_by_id(r).lower_bound\n",
    "        ub = sc_model.reactions.get_by_id(r).upper_bound\n",
    "        if ub > fb:\n",
    "            ub = fb\n",
    "        if lb < -fb:\n",
    "            lb = -fb\n",
    "            \n",
    "        sc_model.reactions.get_by_id(r).lower_bound = lb\n",
    "        sc_model.reactions.get_by_id(r).upper_bound = ub"
   ]
  },
  {
   "cell_type": "code",
   "execution_count": 197,
   "id": "based-match",
   "metadata": {},
   "outputs": [],
   "source": [
    "wt_model.reactions.get_by_id('ATPM').lower_bound = 0\n",
    "sc_model.reactions.get_by_id('ATPM').lower_bound = 0"
   ]
  },
  {
   "cell_type": "code",
   "execution_count": 198,
   "id": "ideal-hanging",
   "metadata": {},
   "outputs": [
    {
     "name": "stdout",
     "output_type": "stream",
     "text": [
      "TFA Solution found for WT model : 0.83799\n",
      "TFA Solution found for SC model : 0.72478\n"
     ]
    }
   ],
   "source": [
    "tfa_solution_wt = wt_model.optimize()\n",
    "tfa_value_wt = tfa_solution_wt.objective_value\n",
    "# Report\n",
    "print('TFA Solution found for WT model : {0:.5g}'.format(tfa_value_wt))\n",
    "\n",
    "tfa_solution_sc = sc_model.optimize()\n",
    "tfa_value_sc = tfa_solution_sc.objective_value\n",
    "# Report\n",
    "print('TFA Solution found for SC model : {0:.5g}'.format(tfa_value_sc))"
   ]
  },
  {
   "cell_type": "code",
   "execution_count": 122,
   "id": "contained-failure",
   "metadata": {},
   "outputs": [],
   "source": [
    "gene_set = pd.read_csv('../../assets/EC_1.X.1.X.Unique_NAD(P)_Coupled.GeneSet.Thermo.csv')"
   ]
  },
  {
   "cell_type": "code",
   "execution_count": 141,
   "id": "specified-extent",
   "metadata": {},
   "outputs": [],
   "source": [
    "def swap_reaction_rid(model,reaction_id):\n",
    "    met = {}\n",
    "    met['nad'] = np.where([x.id == 'nad_c' for x in model.metabolites])[0][0]\n",
    "    met['nadp'] = np.where([x.id == 'nadp_c' for x in model.metabolites])[0][0]\n",
    "    met['nadh'] = np.where([x.id == 'nadh_c' for x in model.metabolites])[0][0]\n",
    "    met['nadph'] = np.where([x.id == 'nadph_c' for x in model.metabolites])[0][0]\n",
    "\n",
    "    met_objs = {}\n",
    "    met_objs['nad'] = [x for x in model.metabolites if x.id == 'nad_c'][0]\n",
    "    met_objs['nadh'] = [x for x in model.metabolites if x.id == 'nadh_c'][0]\n",
    "    met_objs['nadp'] = [x for x in model.metabolites if x.id == 'nadp_c'][0]\n",
    "    met_objs['nadph'] = [x for x in model.metabolites if x.id == 'nadph_c'][0]\n",
    "    \n",
    "    rxn = model.reactions.get_by_id(reaction_id).copy()\n",
    "    # make a new dictionary with coenzyme swapped\n",
    "    v = {x:y for x,y in rxn.metabolites.items() if x.id in [x + '_c' for x in list(met)]}\n",
    "\n",
    "    v2 = {}\n",
    "    for x,y in v.items():\n",
    "        if x.id == 'nadph_c':\n",
    "            v2[met_objs['nadh']] = y\n",
    "        elif x.id == 'nadp_c':\n",
    "            v2[met_objs['nad']] = y\n",
    "        elif x.id == 'nadh_c':\n",
    "            v2[met_objs['nadph']] = y\n",
    "        elif x.id == 'nad_c':\n",
    "            v2[met_objs['nadp']] = y\n",
    "            \n",
    "    rxn.subtract_metabolites(v)\n",
    "    rxn.add_metabolites(v2)\n",
    "    rxn.id = rxn.id + '[mutant]'\n",
    "    model.remove_reactions([reaction_id])\n",
    "    model.add_reaction(rxn)\n",
    "    return model"
   ]
  },
  {
   "cell_type": "code",
   "execution_count": 142,
   "id": "sixth-insertion",
   "metadata": {},
   "outputs": [
    {
     "name": "stdout",
     "output_type": "stream",
     "text": [
      "Read LP format model from file /var/folders/17/58pxvfhj0gb_wz2nzgrzc6pc0000gn/T/tmpvl66qh8o.lp\n",
      "Reading time = 0.02 seconds\n",
      ": 1807 rows, 5170 columns, 20304 nonzeros\n"
     ]
    },
    {
     "name": "stderr",
     "output_type": "stream",
     "text": [
      "2021-10-22 14:51:20,177 - thermomodel_RelaxedModel iJO1366[WT] - INFO - # Model initialized with units kcal/mol and temperature 298.15 K\n"
     ]
    }
   ],
   "source": [
    "#wt = z.copy()\n",
    "wt_model = z.copy()"
   ]
  },
  {
   "cell_type": "code",
   "execution_count": 143,
   "id": "administrative-blake",
   "metadata": {
    "collapsed": true,
    "jupyter": {
     "outputs_hidden": true
    }
   },
   "outputs": [
    {
     "name": "stdout",
     "output_type": "stream",
     "text": [
      "Read LP format model from file /var/folders/17/58pxvfhj0gb_wz2nzgrzc6pc0000gn/T/tmpeoo9mgkc.lp\n",
      "Reading time = 0.02 seconds\n",
      ": 1807 rows, 5170 columns, 20304 nonzeros\n"
     ]
    },
    {
     "name": "stderr",
     "output_type": "stream",
     "text": [
      "2021-10-22 14:51:43,824 - thermomodel_RelaxedModel iJO1366[WT] - INFO - # Model initialized with units kcal/mol and temperature 298.15 K\n"
     ]
    },
    {
     "name": "stdout",
     "output_type": "stream",
     "text": [
      "done with gene: dapB\n",
      "Read LP format model from file /var/folders/17/58pxvfhj0gb_wz2nzgrzc6pc0000gn/T/tmpssqa7ams.lp\n",
      "Reading time = 0.02 seconds\n",
      ": 1807 rows, 5170 columns, 20304 nonzeros\n"
     ]
    },
    {
     "name": "stderr",
     "output_type": "stream",
     "text": [
      "2021-10-22 14:52:04,664 - thermomodel_RelaxedModel iJO1366[WT] - INFO - # Model initialized with units kcal/mol and temperature 298.15 K\n"
     ]
    },
    {
     "name": "stdout",
     "output_type": "stream",
     "text": [
      "done with gene: pdxA\n",
      "Read LP format model from file /var/folders/17/58pxvfhj0gb_wz2nzgrzc6pc0000gn/T/tmpm2ix2uml.lp\n",
      "Reading time = 0.02 seconds\n",
      ": 1807 rows, 5170 columns, 20304 nonzeros\n"
     ]
    },
    {
     "name": "stderr",
     "output_type": "stream",
     "text": [
      "2021-10-22 14:52:22,174 - thermomodel_RelaxedModel iJO1366[WT] - INFO - # Model initialized with units kcal/mol and temperature 298.15 K\n"
     ]
    },
    {
     "name": "stdout",
     "output_type": "stream",
     "text": [
      "done with gene: leuB\n",
      "Read LP format model from file /var/folders/17/58pxvfhj0gb_wz2nzgrzc6pc0000gn/T/tmp1il_rbl9.lp\n",
      "Reading time = 0.02 seconds\n",
      ": 1807 rows, 5170 columns, 20304 nonzeros\n"
     ]
    },
    {
     "name": "stderr",
     "output_type": "stream",
     "text": [
      "2021-10-22 14:52:48,963 - thermomodel_RelaxedModel iJO1366[WT] - INFO - # Model initialized with units kcal/mol and temperature 298.15 K\n"
     ]
    },
    {
     "name": "stdout",
     "output_type": "stream",
     "text": [
      "done with gene: guaC\n",
      "Read LP format model from file /var/folders/17/58pxvfhj0gb_wz2nzgrzc6pc0000gn/T/tmpczz2wzdo.lp\n",
      "Reading time = 0.02 seconds\n",
      ": 1807 rows, 5170 columns, 20304 nonzeros\n"
     ]
    },
    {
     "name": "stderr",
     "output_type": "stream",
     "text": [
      "2021-10-22 14:53:08,599 - thermomodel_RelaxedModel iJO1366[WT] - INFO - # Model initialized with units kcal/mol and temperature 298.15 K\n"
     ]
    },
    {
     "name": "stdout",
     "output_type": "stream",
     "text": [
      "done with gene: lpd\n",
      "Read LP format model from file /var/folders/17/58pxvfhj0gb_wz2nzgrzc6pc0000gn/T/tmp0zneimdv.lp\n",
      "Reading time = 0.03 seconds\n",
      ": 1807 rows, 5170 columns, 20304 nonzeros\n"
     ]
    },
    {
     "name": "stderr",
     "output_type": "stream",
     "text": [
      "2021-10-22 14:53:36,859 - thermomodel_RelaxedModel iJO1366[WT] - INFO - # Model initialized with units kcal/mol and temperature 298.15 K\n"
     ]
    },
    {
     "name": "stdout",
     "output_type": "stream",
     "text": [
      "done with gene: dxr\n",
      "Read LP format model from file /var/folders/17/58pxvfhj0gb_wz2nzgrzc6pc0000gn/T/tmpqtdjqjgj.lp\n",
      "Reading time = 0.02 seconds\n",
      ": 1807 rows, 5170 columns, 20304 nonzeros\n"
     ]
    },
    {
     "name": "stderr",
     "output_type": "stream",
     "text": [
      "2021-10-22 14:53:59,131 - thermomodel_RelaxedModel iJO1366[WT] - INFO - # Model initialized with units kcal/mol and temperature 298.15 K\n"
     ]
    },
    {
     "name": "stdout",
     "output_type": "stream",
     "text": [
      "done with gene: proA\n",
      "Read LP format model from file /var/folders/17/58pxvfhj0gb_wz2nzgrzc6pc0000gn/T/tmp1lkl6v8w.lp\n",
      "Reading time = 0.02 seconds\n",
      ": 1807 rows, 5170 columns, 20304 nonzeros\n"
     ]
    },
    {
     "name": "stderr",
     "output_type": "stream",
     "text": [
      "2021-10-22 14:54:23,756 - thermomodel_RelaxedModel iJO1366[WT] - INFO - # Model initialized with units kcal/mol and temperature 298.15 K\n"
     ]
    },
    {
     "name": "stdout",
     "output_type": "stream",
     "text": [
      "done with gene: betB\n",
      "Read LP format model from file /var/folders/17/58pxvfhj0gb_wz2nzgrzc6pc0000gn/T/tmp_4z4tm6g.lp\n",
      "Reading time = 0.02 seconds\n",
      ": 1807 rows, 5170 columns, 20304 nonzeros\n"
     ]
    },
    {
     "name": "stderr",
     "output_type": "stream",
     "text": [
      "2021-10-22 14:54:42,384 - thermomodel_RelaxedModel iJO1366[WT] - INFO - # Model initialized with units kcal/mol and temperature 298.15 K\n"
     ]
    },
    {
     "name": "stdout",
     "output_type": "stream",
     "text": [
      "done with gene: frmA\n",
      "Read LP format model from file /var/folders/17/58pxvfhj0gb_wz2nzgrzc6pc0000gn/T/tmpn2cm19fu.lp\n",
      "Reading time = 0.04 seconds\n",
      ": 1807 rows, 5170 columns, 20304 nonzeros\n"
     ]
    },
    {
     "name": "stderr",
     "output_type": "stream",
     "text": [
      "2021-10-22 14:55:11,511 - thermomodel_RelaxedModel iJO1366[WT] - INFO - # Model initialized with units kcal/mol and temperature 298.15 K\n"
     ]
    },
    {
     "name": "stdout",
     "output_type": "stream",
     "text": [
      "done with gene: proC\n",
      "Read LP format model from file /var/folders/17/58pxvfhj0gb_wz2nzgrzc6pc0000gn/T/tmprbypgigi.lp\n",
      "Reading time = 0.02 seconds\n",
      ": 1807 rows, 5170 columns, 20304 nonzeros\n"
     ]
    },
    {
     "name": "stderr",
     "output_type": "stream",
     "text": [
      "2021-10-22 14:55:28,634 - thermomodel_RelaxedModel iJO1366[WT] - INFO - # Model initialized with units kcal/mol and temperature 298.15 K\n"
     ]
    },
    {
     "name": "stdout",
     "output_type": "stream",
     "text": [
      "done with gene: ribD\n",
      "Read LP format model from file /var/folders/17/58pxvfhj0gb_wz2nzgrzc6pc0000gn/T/tmp4yih6mx9.lp\n",
      "Reading time = 0.02 seconds\n",
      ": 1807 rows, 5170 columns, 20304 nonzeros\n"
     ]
    },
    {
     "name": "stderr",
     "output_type": "stream",
     "text": [
      "2021-10-22 14:55:51,212 - thermomodel_RelaxedModel iJO1366[WT] - INFO - # Model initialized with units kcal/mol and temperature 298.15 K\n"
     ]
    },
    {
     "name": "stdout",
     "output_type": "stream",
     "text": [
      "done with gene: allD\n",
      "Read LP format model from file /var/folders/17/58pxvfhj0gb_wz2nzgrzc6pc0000gn/T/tmpod6h4zkl.lp\n",
      "Reading time = 0.02 seconds\n",
      ": 1807 rows, 5170 columns, 20304 nonzeros\n"
     ]
    },
    {
     "name": "stderr",
     "output_type": "stream",
     "text": [
      "2021-10-22 14:56:08,378 - thermomodel_RelaxedModel iJO1366[WT] - INFO - # Model initialized with units kcal/mol and temperature 298.15 K\n"
     ]
    },
    {
     "name": "stdout",
     "output_type": "stream",
     "text": [
      "done with gene: folD\n",
      "Read LP format model from file /var/folders/17/58pxvfhj0gb_wz2nzgrzc6pc0000gn/T/tmpe5z5jrjs.lp\n",
      "Reading time = 0.02 seconds\n",
      ": 1807 rows, 5170 columns, 20304 nonzeros\n"
     ]
    },
    {
     "name": "stderr",
     "output_type": "stream",
     "text": [
      "2021-10-22 14:56:28,384 - thermomodel_RelaxedModel iJO1366[WT] - INFO - # Model initialized with units kcal/mol and temperature 298.15 K\n"
     ]
    },
    {
     "name": "stdout",
     "output_type": "stream",
     "text": [
      "done with gene: entA\n",
      "Read LP format model from file /var/folders/17/58pxvfhj0gb_wz2nzgrzc6pc0000gn/T/tmpv0cszge9.lp\n",
      "Reading time = 0.02 seconds\n",
      ": 1807 rows, 5170 columns, 20304 nonzeros\n"
     ]
    },
    {
     "name": "stderr",
     "output_type": "stream",
     "text": [
      "2021-10-22 14:56:54,230 - thermomodel_RelaxedModel iJO1366[WT] - INFO - # Model initialized with units kcal/mol and temperature 298.15 K\n"
     ]
    },
    {
     "name": "stdout",
     "output_type": "stream",
     "text": [
      "done with gene: trxB\n",
      "Read LP format model from file /var/folders/17/58pxvfhj0gb_wz2nzgrzc6pc0000gn/T/tmpghvxwm7o.lp\n",
      "Reading time = 0.02 seconds\n",
      ": 1807 rows, 5170 columns, 20304 nonzeros\n"
     ]
    },
    {
     "name": "stderr",
     "output_type": "stream",
     "text": [
      "2021-10-22 14:57:14,158 - thermomodel_RelaxedModel iJO1366[WT] - INFO - # Model initialized with units kcal/mol and temperature 298.15 K\n"
     ]
    },
    {
     "name": "stdout",
     "output_type": "stream",
     "text": [
      "done with gene: putA\n",
      "Read LP format model from file /var/folders/17/58pxvfhj0gb_wz2nzgrzc6pc0000gn/T/tmpxm6bo33x.lp\n",
      "Reading time = 0.02 seconds\n",
      ": 1807 rows, 5170 columns, 20304 nonzeros\n"
     ]
    },
    {
     "name": "stderr",
     "output_type": "stream",
     "text": [
      "2021-10-22 14:57:37,988 - thermomodel_RelaxedModel iJO1366[WT] - INFO - # Model initialized with units kcal/mol and temperature 298.15 K\n"
     ]
    },
    {
     "name": "stdout",
     "output_type": "stream",
     "text": [
      "done with gene: icd\n",
      "Read LP format model from file /var/folders/17/58pxvfhj0gb_wz2nzgrzc6pc0000gn/T/tmpmftb17q1.lp\n",
      "Reading time = 0.02 seconds\n",
      ": 1807 rows, 5170 columns, 20304 nonzeros\n"
     ]
    },
    {
     "name": "stderr",
     "output_type": "stream",
     "text": [
      "2021-10-22 14:57:55,366 - thermomodel_RelaxedModel iJO1366[WT] - INFO - # Model initialized with units kcal/mol and temperature 298.15 K\n"
     ]
    },
    {
     "name": "stdout",
     "output_type": "stream",
     "text": [
      "done with gene: puuC\n",
      "Read LP format model from file /var/folders/17/58pxvfhj0gb_wz2nzgrzc6pc0000gn/T/tmpptfskyz1.lp\n",
      "Reading time = 0.02 seconds\n",
      ": 1807 rows, 5170 columns, 20304 nonzeros\n"
     ]
    },
    {
     "name": "stderr",
     "output_type": "stream",
     "text": [
      "2021-10-22 14:58:17,241 - thermomodel_RelaxedModel iJO1366[WT] - INFO - # Model initialized with units kcal/mol and temperature 298.15 K\n"
     ]
    },
    {
     "name": "stdout",
     "output_type": "stream",
     "text": [
      "done with gene: feaB\n",
      "Read LP format model from file /var/folders/17/58pxvfhj0gb_wz2nzgrzc6pc0000gn/T/tmpc3_2gtpy.lp\n",
      "Reading time = 0.02 seconds\n",
      ": 1807 rows, 5170 columns, 20304 nonzeros\n"
     ]
    },
    {
     "name": "stderr",
     "output_type": "stream",
     "text": [
      "2021-10-22 14:58:34,910 - thermomodel_RelaxedModel iJO1366[WT] - INFO - # Model initialized with units kcal/mol and temperature 298.15 K\n"
     ]
    },
    {
     "name": "stdout",
     "output_type": "stream",
     "text": [
      "done with gene: paaZ\n",
      "Read LP format model from file /var/folders/17/58pxvfhj0gb_wz2nzgrzc6pc0000gn/T/tmpyd7uykr1.lp\n",
      "Reading time = 0.02 seconds\n",
      ": 1807 rows, 5170 columns, 20304 nonzeros\n"
     ]
    },
    {
     "name": "stderr",
     "output_type": "stream",
     "text": [
      "2021-10-22 14:58:57,392 - thermomodel_RelaxedModel iJO1366[WT] - INFO - # Model initialized with units kcal/mol and temperature 298.15 K\n"
     ]
    },
    {
     "name": "stdout",
     "output_type": "stream",
     "text": [
      "done with gene: paaH\n",
      "Read LP format model from file /var/folders/17/58pxvfhj0gb_wz2nzgrzc6pc0000gn/T/tmp1yc2jnfb.lp\n",
      "Reading time = 0.02 seconds\n",
      ": 1807 rows, 5170 columns, 20304 nonzeros\n"
     ]
    },
    {
     "name": "stderr",
     "output_type": "stream",
     "text": [
      "2021-10-22 14:59:19,055 - thermomodel_RelaxedModel iJO1366[WT] - INFO - # Model initialized with units kcal/mol and temperature 298.15 K\n"
     ]
    },
    {
     "name": "stdout",
     "output_type": "stream",
     "text": [
      "done with gene: aldA\n",
      "Read LP format model from file /var/folders/17/58pxvfhj0gb_wz2nzgrzc6pc0000gn/T/tmpyx57zc0n.lp\n",
      "Reading time = 0.03 seconds\n",
      ": 1807 rows, 5170 columns, 20304 nonzeros\n"
     ]
    },
    {
     "name": "stderr",
     "output_type": "stream",
     "text": [
      "2021-10-22 14:59:42,489 - thermomodel_RelaxedModel iJO1366[WT] - INFO - # Model initialized with units kcal/mol and temperature 298.15 K\n"
     ]
    },
    {
     "name": "stdout",
     "output_type": "stream",
     "text": [
      "done with gene: patD\n",
      "Read LP format model from file /var/folders/17/58pxvfhj0gb_wz2nzgrzc6pc0000gn/T/tmpjao21mnv.lp\n",
      "Reading time = 0.02 seconds\n",
      ": 1807 rows, 5170 columns, 20304 nonzeros\n"
     ]
    },
    {
     "name": "stderr",
     "output_type": "stream",
     "text": [
      "2021-10-22 15:00:00,493 - thermomodel_RelaxedModel iJO1366[WT] - INFO - # Model initialized with units kcal/mol and temperature 298.15 K\n"
     ]
    },
    {
     "name": "stdout",
     "output_type": "stream",
     "text": [
      "done with gene: maeA\n",
      "Read LP format model from file /var/folders/17/58pxvfhj0gb_wz2nzgrzc6pc0000gn/T/tmpv4oyohne.lp\n",
      "Reading time = 0.02 seconds\n",
      ": 1807 rows, 5170 columns, 20304 nonzeros\n"
     ]
    },
    {
     "name": "stderr",
     "output_type": "stream",
     "text": [
      "2021-10-22 15:00:17,643 - thermomodel_RelaxedModel iJO1366[WT] - INFO - # Model initialized with units kcal/mol and temperature 298.15 K\n"
     ]
    },
    {
     "name": "stdout",
     "output_type": "stream",
     "text": [
      "done with gene: uxaB\n",
      "Read LP format model from file /var/folders/17/58pxvfhj0gb_wz2nzgrzc6pc0000gn/T/tmplxfgxvpt.lp\n",
      "Reading time = 0.02 seconds\n",
      ": 1807 rows, 5170 columns, 20304 nonzeros\n"
     ]
    },
    {
     "name": "stderr",
     "output_type": "stream",
     "text": [
      "2021-10-22 15:00:39,898 - thermomodel_RelaxedModel iJO1366[WT] - INFO - # Model initialized with units kcal/mol and temperature 298.15 K\n"
     ]
    },
    {
     "name": "stdout",
     "output_type": "stream",
     "text": [
      "done with gene: sad\n",
      "Read LP format model from file /var/folders/17/58pxvfhj0gb_wz2nzgrzc6pc0000gn/T/tmpyg2zb23d.lp\n",
      "Reading time = 0.02 seconds\n",
      ": 1807 rows, 5170 columns, 20304 nonzeros\n"
     ]
    },
    {
     "name": "stderr",
     "output_type": "stream",
     "text": [
      "2021-10-22 15:00:58,544 - thermomodel_RelaxedModel iJO1366[WT] - INFO - # Model initialized with units kcal/mol and temperature 298.15 K\n"
     ]
    },
    {
     "name": "stdout",
     "output_type": "stream",
     "text": [
      "done with gene: ydfG\n",
      "Read LP format model from file /var/folders/17/58pxvfhj0gb_wz2nzgrzc6pc0000gn/T/tmpttxqf3dl.lp\n",
      "Reading time = 0.02 seconds\n",
      ": 1807 rows, 5170 columns, 20304 nonzeros\n"
     ]
    },
    {
     "name": "stderr",
     "output_type": "stream",
     "text": [
      "2021-10-22 15:01:22,571 - thermomodel_RelaxedModel iJO1366[WT] - INFO - # Model initialized with units kcal/mol and temperature 298.15 K\n"
     ]
    },
    {
     "name": "stdout",
     "output_type": "stream",
     "text": [
      "done with gene: ydiB\n",
      "Read LP format model from file /var/folders/17/58pxvfhj0gb_wz2nzgrzc6pc0000gn/T/tmpm3lhfgol.lp\n",
      "Reading time = 0.02 seconds\n",
      ": 1807 rows, 5170 columns, 20304 nonzeros\n"
     ]
    },
    {
     "name": "stderr",
     "output_type": "stream",
     "text": [
      "2021-10-22 15:01:44,449 - thermomodel_RelaxedModel iJO1366[WT] - INFO - # Model initialized with units kcal/mol and temperature 298.15 K\n"
     ]
    },
    {
     "name": "stdout",
     "output_type": "stream",
     "text": [
      "done with gene: astD\n",
      "Read LP format model from file /var/folders/17/58pxvfhj0gb_wz2nzgrzc6pc0000gn/T/tmp9eve_ltk.lp\n",
      "Reading time = 0.02 seconds\n",
      ": 1807 rows, 5170 columns, 20304 nonzeros\n"
     ]
    },
    {
     "name": "stderr",
     "output_type": "stream",
     "text": [
      "2021-10-22 15:02:07,758 - thermomodel_RelaxedModel iJO1366[WT] - INFO - # Model initialized with units kcal/mol and temperature 298.15 K\n"
     ]
    },
    {
     "name": "stdout",
     "output_type": "stream",
     "text": [
      "done with gene: gdhA\n",
      "Read LP format model from file /var/folders/17/58pxvfhj0gb_wz2nzgrzc6pc0000gn/T/tmp5hqo19_c.lp\n",
      "Reading time = 0.02 seconds\n",
      ": 1807 rows, 5170 columns, 20304 nonzeros\n"
     ]
    },
    {
     "name": "stderr",
     "output_type": "stream",
     "text": [
      "2021-10-22 15:02:35,182 - thermomodel_RelaxedModel iJO1366[WT] - INFO - # Model initialized with units kcal/mol and temperature 298.15 K\n"
     ]
    },
    {
     "name": "stdout",
     "output_type": "stream",
     "text": [
      "done with gene: gapA\n",
      "Read LP format model from file /var/folders/17/58pxvfhj0gb_wz2nzgrzc6pc0000gn/T/tmpqfncthg5.lp\n",
      "Reading time = 0.03 seconds\n",
      ": 1807 rows, 5170 columns, 20304 nonzeros\n"
     ]
    },
    {
     "name": "stderr",
     "output_type": "stream",
     "text": [
      "2021-10-22 15:03:02,324 - thermomodel_RelaxedModel iJO1366[WT] - INFO - # Model initialized with units kcal/mol and temperature 298.15 K\n"
     ]
    },
    {
     "name": "stdout",
     "output_type": "stream",
     "text": [
      "done with gene: dmlA\n",
      "Read LP format model from file /var/folders/17/58pxvfhj0gb_wz2nzgrzc6pc0000gn/T/tmpsogb1jjk.lp\n",
      "Reading time = 0.02 seconds\n",
      ": 1807 rows, 5170 columns, 20304 nonzeros\n"
     ]
    },
    {
     "name": "stderr",
     "output_type": "stream",
     "text": [
      "2021-10-22 15:03:21,762 - thermomodel_RelaxedModel iJO1366[WT] - INFO - # Model initialized with units kcal/mol and temperature 298.15 K\n"
     ]
    },
    {
     "name": "stdout",
     "output_type": "stream",
     "text": [
      "done with gene: zwf\n",
      "Read LP format model from file /var/folders/17/58pxvfhj0gb_wz2nzgrzc6pc0000gn/T/tmpyfmxmhfj.lp\n",
      "Reading time = 0.02 seconds\n",
      ": 1807 rows, 5170 columns, 20304 nonzeros\n"
     ]
    },
    {
     "name": "stderr",
     "output_type": "stream",
     "text": [
      "2021-10-22 15:03:45,508 - thermomodel_RelaxedModel iJO1366[WT] - INFO - # Model initialized with units kcal/mol and temperature 298.15 K\n"
     ]
    },
    {
     "name": "stdout",
     "output_type": "stream",
     "text": [
      "done with gene: hisD\n",
      "Read LP format model from file /var/folders/17/58pxvfhj0gb_wz2nzgrzc6pc0000gn/T/tmpzdm8kjhw.lp\n",
      "Reading time = 0.02 seconds\n",
      ": 1807 rows, 5170 columns, 20304 nonzeros\n"
     ]
    },
    {
     "name": "stderr",
     "output_type": "stream",
     "text": [
      "2021-10-22 15:04:06,741 - thermomodel_RelaxedModel iJO1366[WT] - INFO - # Model initialized with units kcal/mol and temperature 298.15 K\n"
     ]
    },
    {
     "name": "stdout",
     "output_type": "stream",
     "text": [
      "done with gene: ugd\n",
      "Read LP format model from file /var/folders/17/58pxvfhj0gb_wz2nzgrzc6pc0000gn/T/tmpw6joi722.lp\n",
      "Reading time = 0.02 seconds\n",
      ": 1807 rows, 5170 columns, 20304 nonzeros\n"
     ]
    },
    {
     "name": "stderr",
     "output_type": "stream",
     "text": [
      "2021-10-22 15:04:27,357 - thermomodel_RelaxedModel iJO1366[WT] - INFO - # Model initialized with units kcal/mol and temperature 298.15 K\n"
     ]
    },
    {
     "name": "stdout",
     "output_type": "stream",
     "text": [
      "done with gene: gnd\n",
      "Read LP format model from file /var/folders/17/58pxvfhj0gb_wz2nzgrzc6pc0000gn/T/tmprzho0cc7.lp\n",
      "Reading time = 0.02 seconds\n",
      ": 1807 rows, 5170 columns, 20304 nonzeros\n"
     ]
    },
    {
     "name": "stderr",
     "output_type": "stream",
     "text": [
      "2021-10-22 15:04:49,802 - thermomodel_RelaxedModel iJO1366[WT] - INFO - # Model initialized with units kcal/mol and temperature 298.15 K\n"
     ]
    },
    {
     "name": "stdout",
     "output_type": "stream",
     "text": [
      "done with gene: rfbD\n",
      "Read LP format model from file /var/folders/17/58pxvfhj0gb_wz2nzgrzc6pc0000gn/T/tmp_fp0wj4e.lp\n",
      "Reading time = 0.02 seconds\n",
      ": 1807 rows, 5170 columns, 20304 nonzeros\n"
     ]
    },
    {
     "name": "stderr",
     "output_type": "stream",
     "text": [
      "2021-10-22 15:05:07,616 - thermomodel_RelaxedModel iJO1366[WT] - INFO - # Model initialized with units kcal/mol and temperature 298.15 K\n"
     ]
    },
    {
     "name": "stdout",
     "output_type": "stream",
     "text": [
      "done with gene: wcaG\n",
      "Read LP format model from file /var/folders/17/58pxvfhj0gb_wz2nzgrzc6pc0000gn/T/tmpwgzl4kbw.lp\n",
      "Reading time = 0.02 seconds\n",
      ": 1807 rows, 5170 columns, 20304 nonzeros\n"
     ]
    },
    {
     "name": "stderr",
     "output_type": "stream",
     "text": [
      "2021-10-22 15:05:29,535 - thermomodel_RelaxedModel iJO1366[WT] - INFO - # Model initialized with units kcal/mol and temperature 298.15 K\n"
     ]
    },
    {
     "name": "stdout",
     "output_type": "stream",
     "text": [
      "done with gene: gatD\n",
      "Read LP format model from file /var/folders/17/58pxvfhj0gb_wz2nzgrzc6pc0000gn/T/tmp5ry2denz.lp\n",
      "Reading time = 0.02 seconds\n",
      ": 1807 rows, 5170 columns, 20304 nonzeros\n"
     ]
    },
    {
     "name": "stderr",
     "output_type": "stream",
     "text": [
      "2021-10-22 15:05:46,417 - thermomodel_RelaxedModel iJO1366[WT] - INFO - # Model initialized with units kcal/mol and temperature 298.15 K\n"
     ]
    },
    {
     "name": "stdout",
     "output_type": "stream",
     "text": [
      "done with gene: preT\n",
      "Read LP format model from file /var/folders/17/58pxvfhj0gb_wz2nzgrzc6pc0000gn/T/tmpzyzg2f20.lp\n",
      "Reading time = 0.02 seconds\n",
      ": 1807 rows, 5170 columns, 20304 nonzeros\n"
     ]
    },
    {
     "name": "stderr",
     "output_type": "stream",
     "text": [
      "2021-10-22 15:06:08,036 - thermomodel_RelaxedModel iJO1366[WT] - INFO - # Model initialized with units kcal/mol and temperature 298.15 K\n"
     ]
    },
    {
     "name": "stdout",
     "output_type": "stream",
     "text": [
      "done with gene: arnA\n",
      "Read LP format model from file /var/folders/17/58pxvfhj0gb_wz2nzgrzc6pc0000gn/T/tmpohqpqh2i.lp\n",
      "Reading time = 0.02 seconds\n",
      ": 1807 rows, 5170 columns, 20304 nonzeros\n"
     ]
    },
    {
     "name": "stderr",
     "output_type": "stream",
     "text": [
      "2021-10-22 15:06:26,477 - thermomodel_RelaxedModel iJO1366[WT] - INFO - # Model initialized with units kcal/mol and temperature 298.15 K\n"
     ]
    },
    {
     "name": "stdout",
     "output_type": "stream",
     "text": [
      "done with gene: pdxB\n",
      "Read LP format model from file /var/folders/17/58pxvfhj0gb_wz2nzgrzc6pc0000gn/T/tmpf239noh7.lp\n",
      "Reading time = 0.02 seconds\n",
      ": 1807 rows, 5170 columns, 20304 nonzeros\n"
     ]
    },
    {
     "name": "stderr",
     "output_type": "stream",
     "text": [
      "2021-10-22 15:06:48,535 - thermomodel_RelaxedModel iJO1366[WT] - INFO - # Model initialized with units kcal/mol and temperature 298.15 K\n"
     ]
    },
    {
     "name": "stdout",
     "output_type": "stream",
     "text": [
      "done with gene: maeB\n",
      "Read LP format model from file /var/folders/17/58pxvfhj0gb_wz2nzgrzc6pc0000gn/T/tmpc7h_u_nz.lp\n",
      "Reading time = 0.02 seconds\n",
      ": 1807 rows, 5170 columns, 20304 nonzeros\n"
     ]
    },
    {
     "name": "stderr",
     "output_type": "stream",
     "text": [
      "2021-10-22 15:07:06,635 - thermomodel_RelaxedModel iJO1366[WT] - INFO - # Model initialized with units kcal/mol and temperature 298.15 K\n"
     ]
    },
    {
     "name": "stdout",
     "output_type": "stream",
     "text": [
      "done with gene: guaB\n",
      "Read LP format model from file /var/folders/17/58pxvfhj0gb_wz2nzgrzc6pc0000gn/T/tmp9tcvkev5.lp\n",
      "Reading time = 0.02 seconds\n",
      ": 1807 rows, 5170 columns, 20304 nonzeros\n"
     ]
    },
    {
     "name": "stderr",
     "output_type": "stream",
     "text": [
      "2021-10-22 15:07:27,962 - thermomodel_RelaxedModel iJO1366[WT] - INFO - # Model initialized with units kcal/mol and temperature 298.15 K\n"
     ]
    },
    {
     "name": "stdout",
     "output_type": "stream",
     "text": [
      "done with gene: hcaB\n",
      "Read LP format model from file /var/folders/17/58pxvfhj0gb_wz2nzgrzc6pc0000gn/T/tmpg84p7usv.lp\n",
      "Reading time = 0.02 seconds\n",
      ": 1807 rows, 5170 columns, 20304 nonzeros\n"
     ]
    },
    {
     "name": "stderr",
     "output_type": "stream",
     "text": [
      "2021-10-22 15:07:44,393 - thermomodel_RelaxedModel iJO1366[WT] - INFO - # Model initialized with units kcal/mol and temperature 298.15 K\n"
     ]
    },
    {
     "name": "stdout",
     "output_type": "stream",
     "text": [
      "done with gene: hcaD\n",
      "Read LP format model from file /var/folders/17/58pxvfhj0gb_wz2nzgrzc6pc0000gn/T/tmp6v3lfwvx.lp\n",
      "Reading time = 0.02 seconds\n",
      ": 1807 rows, 5170 columns, 20304 nonzeros\n"
     ]
    },
    {
     "name": "stderr",
     "output_type": "stream",
     "text": [
      "2021-10-22 15:08:02,960 - thermomodel_RelaxedModel iJO1366[WT] - INFO - # Model initialized with units kcal/mol and temperature 298.15 K\n"
     ]
    },
    {
     "name": "stdout",
     "output_type": "stream",
     "text": [
      "done with gene: tyrA\n",
      "Read LP format model from file /var/folders/17/58pxvfhj0gb_wz2nzgrzc6pc0000gn/T/tmpaj1vjae5.lp\n",
      "Reading time = 0.02 seconds\n",
      ": 1807 rows, 5170 columns, 20304 nonzeros\n"
     ]
    },
    {
     "name": "stderr",
     "output_type": "stream",
     "text": [
      "2021-10-22 15:08:25,235 - thermomodel_RelaxedModel iJO1366[WT] - INFO - # Model initialized with units kcal/mol and temperature 298.15 K\n"
     ]
    },
    {
     "name": "stdout",
     "output_type": "stream",
     "text": [
      "done with gene: srlD\n",
      "Read LP format model from file /var/folders/17/58pxvfhj0gb_wz2nzgrzc6pc0000gn/T/tmp8k7whfox.lp\n",
      "Reading time = 0.02 seconds\n",
      ": 1807 rows, 5170 columns, 20304 nonzeros\n"
     ]
    },
    {
     "name": "stderr",
     "output_type": "stream",
     "text": [
      "2021-10-22 15:08:43,085 - thermomodel_RelaxedModel iJO1366[WT] - INFO - # Model initialized with units kcal/mol and temperature 298.15 K\n"
     ]
    },
    {
     "name": "stdout",
     "output_type": "stream",
     "text": [
      "done with gene: cysJ\n",
      "Read LP format model from file /var/folders/17/58pxvfhj0gb_wz2nzgrzc6pc0000gn/T/tmprxzuvalv.lp\n",
      "Reading time = 0.02 seconds\n",
      ": 1807 rows, 5170 columns, 20304 nonzeros\n"
     ]
    },
    {
     "name": "stderr",
     "output_type": "stream",
     "text": [
      "2021-10-22 15:09:06,833 - thermomodel_RelaxedModel iJO1366[WT] - INFO - # Model initialized with units kcal/mol and temperature 298.15 K\n"
     ]
    },
    {
     "name": "stdout",
     "output_type": "stream",
     "text": [
      "done with gene: queF\n",
      "Read LP format model from file /var/folders/17/58pxvfhj0gb_wz2nzgrzc6pc0000gn/T/tmpk0t99i1p.lp\n",
      "Reading time = 0.02 seconds\n",
      ": 1807 rows, 5170 columns, 20304 nonzeros\n"
     ]
    },
    {
     "name": "stderr",
     "output_type": "stream",
     "text": [
      "2021-10-22 15:09:25,987 - thermomodel_RelaxedModel iJO1366[WT] - INFO - # Model initialized with units kcal/mol and temperature 298.15 K\n"
     ]
    },
    {
     "name": "stdout",
     "output_type": "stream",
     "text": [
      "done with gene: fucO\n",
      "Read LP format model from file /var/folders/17/58pxvfhj0gb_wz2nzgrzc6pc0000gn/T/tmpmhvaehep.lp\n",
      "Reading time = 0.02 seconds\n",
      ": 1807 rows, 5170 columns, 20304 nonzeros\n"
     ]
    },
    {
     "name": "stderr",
     "output_type": "stream",
     "text": [
      "2021-10-22 15:09:49,147 - thermomodel_RelaxedModel iJO1366[WT] - INFO - # Model initialized with units kcal/mol and temperature 298.15 K\n"
     ]
    },
    {
     "name": "stdout",
     "output_type": "stream",
     "text": [
      "done with gene: xdhB\n",
      "Read LP format model from file /var/folders/17/58pxvfhj0gb_wz2nzgrzc6pc0000gn/T/tmp57jjtkb0.lp\n",
      "Reading time = 0.02 seconds\n",
      ": 1807 rows, 5170 columns, 20304 nonzeros\n"
     ]
    },
    {
     "name": "stderr",
     "output_type": "stream",
     "text": [
      "2021-10-22 15:10:07,014 - thermomodel_RelaxedModel iJO1366[WT] - INFO - # Model initialized with units kcal/mol and temperature 298.15 K\n"
     ]
    },
    {
     "name": "stdout",
     "output_type": "stream",
     "text": [
      "done with gene: serA\n",
      "Read LP format model from file /var/folders/17/58pxvfhj0gb_wz2nzgrzc6pc0000gn/T/tmp3aqpjp99.lp\n",
      "Reading time = 0.02 seconds\n",
      ": 1807 rows, 5170 columns, 20304 nonzeros\n"
     ]
    },
    {
     "name": "stderr",
     "output_type": "stream",
     "text": [
      "2021-10-22 15:10:29,167 - thermomodel_RelaxedModel iJO1366[WT] - INFO - # Model initialized with units kcal/mol and temperature 298.15 K\n"
     ]
    },
    {
     "name": "stdout",
     "output_type": "stream",
     "text": [
      "done with gene: gltD\n",
      "Read LP format model from file /var/folders/17/58pxvfhj0gb_wz2nzgrzc6pc0000gn/T/tmppw_q0kyb.lp\n",
      "Reading time = 0.02 seconds\n",
      ": 1807 rows, 5170 columns, 20304 nonzeros\n"
     ]
    },
    {
     "name": "stderr",
     "output_type": "stream",
     "text": [
      "2021-10-22 15:10:48,558 - thermomodel_RelaxedModel iJO1366[WT] - INFO - # Model initialized with units kcal/mol and temperature 298.15 K\n"
     ]
    },
    {
     "name": "stdout",
     "output_type": "stream",
     "text": [
      "done with gene: mdh\n",
      "Read LP format model from file /var/folders/17/58pxvfhj0gb_wz2nzgrzc6pc0000gn/T/tmpgqz69qhi.lp\n",
      "Reading time = 0.02 seconds\n",
      ": 1807 rows, 5170 columns, 20304 nonzeros\n"
     ]
    },
    {
     "name": "stderr",
     "output_type": "stream",
     "text": [
      "2021-10-22 15:11:11,056 - thermomodel_RelaxedModel iJO1366[WT] - INFO - # Model initialized with units kcal/mol and temperature 298.15 K\n"
     ]
    },
    {
     "name": "stdout",
     "output_type": "stream",
     "text": [
      "done with gene: nirB\n",
      "Read LP format model from file /var/folders/17/58pxvfhj0gb_wz2nzgrzc6pc0000gn/T/tmpy91a0b4n.lp\n",
      "Reading time = 0.02 seconds\n",
      ": 1807 rows, 5170 columns, 20304 nonzeros\n"
     ]
    },
    {
     "name": "stderr",
     "output_type": "stream",
     "text": [
      "2021-10-22 15:11:30,698 - thermomodel_RelaxedModel iJO1366[WT] - INFO - # Model initialized with units kcal/mol and temperature 298.15 K\n"
     ]
    },
    {
     "name": "stdout",
     "output_type": "stream",
     "text": [
      "done with gene: cysG\n",
      "Read LP format model from file /var/folders/17/58pxvfhj0gb_wz2nzgrzc6pc0000gn/T/tmpm21xc0h1.lp\n",
      "Reading time = 0.02 seconds\n",
      ": 1807 rows, 5170 columns, 20304 nonzeros\n"
     ]
    },
    {
     "name": "stderr",
     "output_type": "stream",
     "text": [
      "2021-10-22 15:11:48,107 - thermomodel_RelaxedModel iJO1366[WT] - INFO - # Model initialized with units kcal/mol and temperature 298.15 K\n"
     ]
    },
    {
     "name": "stdout",
     "output_type": "stream",
     "text": [
      "done with gene: asd\n",
      "Read LP format model from file /var/folders/17/58pxvfhj0gb_wz2nzgrzc6pc0000gn/T/tmpvm36z9zc.lp\n",
      "Reading time = 0.02 seconds\n",
      ": 1807 rows, 5170 columns, 20304 nonzeros\n"
     ]
    },
    {
     "name": "stderr",
     "output_type": "stream",
     "text": [
      "2021-10-22 15:12:09,822 - thermomodel_RelaxedModel iJO1366[WT] - INFO - # Model initialized with units kcal/mol and temperature 298.15 K\n"
     ]
    },
    {
     "name": "stdout",
     "output_type": "stream",
     "text": [
      "done with gene: gor\n",
      "Read LP format model from file /var/folders/17/58pxvfhj0gb_wz2nzgrzc6pc0000gn/T/tmp6qtmpt_n.lp\n",
      "Reading time = 0.02 seconds\n",
      ": 1807 rows, 5170 columns, 20304 nonzeros\n"
     ]
    },
    {
     "name": "stderr",
     "output_type": "stream",
     "text": [
      "2021-10-22 15:12:27,151 - thermomodel_RelaxedModel iJO1366[WT] - INFO - # Model initialized with units kcal/mol and temperature 298.15 K\n"
     ]
    },
    {
     "name": "stdout",
     "output_type": "stream",
     "text": [
      "done with gene: ghrB\n",
      "Read LP format model from file /var/folders/17/58pxvfhj0gb_wz2nzgrzc6pc0000gn/T/tmpal0bg5md.lp\n",
      "Reading time = 0.02 seconds\n",
      ": 1807 rows, 5170 columns, 20304 nonzeros\n"
     ]
    },
    {
     "name": "stderr",
     "output_type": "stream",
     "text": [
      "2021-10-22 15:12:48,377 - thermomodel_RelaxedModel iJO1366[WT] - INFO - # Model initialized with units kcal/mol and temperature 298.15 K\n"
     ]
    },
    {
     "name": "stdout",
     "output_type": "stream",
     "text": [
      "done with gene: yiaK\n",
      "Read LP format model from file /var/folders/17/58pxvfhj0gb_wz2nzgrzc6pc0000gn/T/tmpzsmpvwrc.lp\n",
      "Reading time = 0.01 seconds\n",
      ": 1807 rows, 5170 columns, 20304 nonzeros\n"
     ]
    },
    {
     "name": "stderr",
     "output_type": "stream",
     "text": [
      "2021-10-22 15:13:03,480 - thermomodel_RelaxedModel iJO1366[WT] - INFO - # Model initialized with units kcal/mol and temperature 298.15 K\n"
     ]
    },
    {
     "name": "stdout",
     "output_type": "stream",
     "text": [
      "done with gene: mtlD\n",
      "Read LP format model from file /var/folders/17/58pxvfhj0gb_wz2nzgrzc6pc0000gn/T/tmpie93jkay.lp\n",
      "Reading time = 0.01 seconds\n",
      ": 1807 rows, 5170 columns, 20304 nonzeros\n"
     ]
    },
    {
     "name": "stderr",
     "output_type": "stream",
     "text": [
      "2021-10-22 15:13:25,555 - thermomodel_RelaxedModel iJO1366[WT] - INFO - # Model initialized with units kcal/mol and temperature 298.15 K\n"
     ]
    },
    {
     "name": "stdout",
     "output_type": "stream",
     "text": [
      "done with gene: gpsA\n",
      "Read LP format model from file /var/folders/17/58pxvfhj0gb_wz2nzgrzc6pc0000gn/T/tmpkf1pu421.lp\n",
      "Reading time = 0.02 seconds\n",
      ": 1807 rows, 5170 columns, 20304 nonzeros\n"
     ]
    },
    {
     "name": "stderr",
     "output_type": "stream",
     "text": [
      "2021-10-22 15:13:40,960 - thermomodel_RelaxedModel iJO1366[WT] - INFO - # Model initialized with units kcal/mol and temperature 298.15 K\n"
     ]
    },
    {
     "name": "stdout",
     "output_type": "stream",
     "text": [
      "done with gene: tdh\n",
      "Read LP format model from file /var/folders/17/58pxvfhj0gb_wz2nzgrzc6pc0000gn/T/tmpr8wxtd3z.lp\n",
      "Reading time = 0.02 seconds\n",
      ": 1807 rows, 5170 columns, 20304 nonzeros\n"
     ]
    },
    {
     "name": "stderr",
     "output_type": "stream",
     "text": [
      "2021-10-22 15:14:03,608 - thermomodel_RelaxedModel iJO1366[WT] - INFO - # Model initialized with units kcal/mol and temperature 298.15 K\n"
     ]
    },
    {
     "name": "stdout",
     "output_type": "stream",
     "text": [
      "done with gene: ilvC\n",
      "Read LP format model from file /var/folders/17/58pxvfhj0gb_wz2nzgrzc6pc0000gn/T/tmpkfvz5y9q.lp\n",
      "Reading time = 0.02 seconds\n",
      ": 1807 rows, 5170 columns, 20304 nonzeros\n"
     ]
    },
    {
     "name": "stderr",
     "output_type": "stream",
     "text": [
      "2021-10-22 15:14:27,694 - thermomodel_RelaxedModel iJO1366[WT] - INFO - # Model initialized with units kcal/mol and temperature 298.15 K\n"
     ]
    },
    {
     "name": "stdout",
     "output_type": "stream",
     "text": [
      "done with gene: wecC\n",
      "Read LP format model from file /var/folders/17/58pxvfhj0gb_wz2nzgrzc6pc0000gn/T/tmpdy_815f9.lp\n",
      "Reading time = 0.02 seconds\n",
      ": 1807 rows, 5170 columns, 20304 nonzeros\n"
     ]
    },
    {
     "name": "stderr",
     "output_type": "stream",
     "text": [
      "2021-10-22 15:14:57,345 - thermomodel_RelaxedModel iJO1366[WT] - INFO - # Model initialized with units kcal/mol and temperature 298.15 K\n"
     ]
    },
    {
     "name": "stdout",
     "output_type": "stream",
     "text": [
      "done with gene: fre\n",
      "Read LP format model from file /var/folders/17/58pxvfhj0gb_wz2nzgrzc6pc0000gn/T/tmpzmfy3i5f.lp\n",
      "Reading time = 0.02 seconds\n",
      ": 1807 rows, 5170 columns, 20304 nonzeros\n"
     ]
    },
    {
     "name": "stderr",
     "output_type": "stream",
     "text": [
      "2021-10-22 15:15:18,754 - thermomodel_RelaxedModel iJO1366[WT] - INFO - # Model initialized with units kcal/mol and temperature 298.15 K\n"
     ]
    },
    {
     "name": "stdout",
     "output_type": "stream",
     "text": [
      "done with gene: yihU\n",
      "Read LP format model from file /var/folders/17/58pxvfhj0gb_wz2nzgrzc6pc0000gn/T/tmpkjxmborz.lp\n",
      "Reading time = 0.01 seconds\n",
      ": 1807 rows, 5170 columns, 20304 nonzeros\n"
     ]
    },
    {
     "name": "stderr",
     "output_type": "stream",
     "text": [
      "2021-10-22 15:15:38,173 - thermomodel_RelaxedModel iJO1366[WT] - INFO - # Model initialized with units kcal/mol and temperature 298.15 K\n"
     ]
    },
    {
     "name": "stdout",
     "output_type": "stream",
     "text": [
      "done with gene: metF\n",
      "Read LP format model from file /var/folders/17/58pxvfhj0gb_wz2nzgrzc6pc0000gn/T/tmpdvdalkc0.lp\n",
      "Reading time = 0.02 seconds\n",
      ": 1807 rows, 5170 columns, 20304 nonzeros\n"
     ]
    },
    {
     "name": "stderr",
     "output_type": "stream",
     "text": [
      "2021-10-22 15:16:01,378 - thermomodel_RelaxedModel iJO1366[WT] - INFO - # Model initialized with units kcal/mol and temperature 298.15 K\n"
     ]
    },
    {
     "name": "stdout",
     "output_type": "stream",
     "text": [
      "done with gene: gldA\n",
      "Read LP format model from file /var/folders/17/58pxvfhj0gb_wz2nzgrzc6pc0000gn/T/tmp4qb4jlkg.lp\n",
      "Reading time = 0.02 seconds\n",
      ": 1807 rows, 5170 columns, 20304 nonzeros\n"
     ]
    },
    {
     "name": "stderr",
     "output_type": "stream",
     "text": [
      "2021-10-22 15:16:22,624 - thermomodel_RelaxedModel iJO1366[WT] - INFO - # Model initialized with units kcal/mol and temperature 298.15 K\n"
     ]
    },
    {
     "name": "stdout",
     "output_type": "stream",
     "text": [
      "done with gene: argC\n",
      "Read LP format model from file /var/folders/17/58pxvfhj0gb_wz2nzgrzc6pc0000gn/T/tmpwononlcz.lp\n",
      "Reading time = 0.02 seconds\n",
      ": 1807 rows, 5170 columns, 20304 nonzeros\n"
     ]
    },
    {
     "name": "stderr",
     "output_type": "stream",
     "text": [
      "2021-10-22 15:16:45,728 - thermomodel_RelaxedModel iJO1366[WT] - INFO - # Model initialized with units kcal/mol and temperature 298.15 K\n"
     ]
    },
    {
     "name": "stdout",
     "output_type": "stream",
     "text": [
      "done with gene: murB\n",
      "Read LP format model from file /var/folders/17/58pxvfhj0gb_wz2nzgrzc6pc0000gn/T/tmpohtuwfgh.lp\n",
      "Reading time = 0.02 seconds\n",
      ": 1807 rows, 5170 columns, 20304 nonzeros\n"
     ]
    },
    {
     "name": "stderr",
     "output_type": "stream",
     "text": [
      "2021-10-22 15:17:03,873 - thermomodel_RelaxedModel iJO1366[WT] - INFO - # Model initialized with units kcal/mol and temperature 298.15 K\n"
     ]
    },
    {
     "name": "stdout",
     "output_type": "stream",
     "text": [
      "done with gene: idnO\n",
      "Read LP format model from file /var/folders/17/58pxvfhj0gb_wz2nzgrzc6pc0000gn/T/tmp66sclmpc.lp\n",
      "Reading time = 0.02 seconds\n",
      ": 1807 rows, 5170 columns, 20304 nonzeros\n"
     ]
    },
    {
     "name": "stderr",
     "output_type": "stream",
     "text": [
      "2021-10-22 15:17:25,672 - thermomodel_RelaxedModel iJO1366[WT] - INFO - # Model initialized with units kcal/mol and temperature 298.15 K\n"
     ]
    },
    {
     "name": "stdout",
     "output_type": "stream",
     "text": [
      "done with gene: idnD\n",
      "Read LP format model from file /var/folders/17/58pxvfhj0gb_wz2nzgrzc6pc0000gn/T/tmpy37og9wv.lp\n",
      "Reading time = 0.02 seconds\n",
      ": 1807 rows, 5170 columns, 20304 nonzeros\n"
     ]
    },
    {
     "name": "stderr",
     "output_type": "stream",
     "text": [
      "2021-10-22 15:17:42,015 - thermomodel_RelaxedModel iJO1366[WT] - INFO - # Model initialized with units kcal/mol and temperature 298.15 K\n"
     ]
    },
    {
     "name": "stdout",
     "output_type": "stream",
     "text": [
      "done with gene: uxuB\n",
      "Read LP format model from file /var/folders/17/58pxvfhj0gb_wz2nzgrzc6pc0000gn/T/tmptghbx3p_.lp\n",
      "Reading time = 0.02 seconds\n",
      ": 1807 rows, 5170 columns, 20304 nonzeros\n"
     ]
    },
    {
     "name": "stderr",
     "output_type": "stream",
     "text": [
      "2021-10-22 15:18:04,529 - thermomodel_RelaxedModel iJO1366[WT] - INFO - # Model initialized with units kcal/mol and temperature 298.15 K\n"
     ]
    },
    {
     "name": "stdout",
     "output_type": "stream",
     "text": [
      "done with gene: lgoD\n"
     ]
    }
   ],
   "source": [
    "results_sgm_tfa = {'gene': [], 'growth_rate': []}\n",
    "model_reactions = [x.id for x in wt_model.reactions]\n",
    "for gene,dfn in gene_set.groupby('gene'):\n",
    "    mut_model = wt_model.copy()\n",
    "    rxn_list = list(set(dfn.reaction.tolist()).intersection(set(model_reactions)))\n",
    "    if len(rxn_list)>0:\n",
    "        for rxn in rxn_list:\n",
    "            #j = np.where([x.id == row.reaction for x in m.reactions])[0][0]\n",
    "            # swap reaction, keep direction from wild type reaction\n",
    "            mut_model = swap_reaction_rid(mut_model,rxn)\n",
    "        #m.id = m.id + '_' + gene + '_' + dfn['mutant coenzyme'].tolist()[0].split('(')[0]\n",
    "        v = mut_model.slim_optimize()\n",
    "        results_sgm_tfa['gene'].append(gene)\n",
    "        results_sgm_tfa['growth_rate'].append(v)\n",
    "        print('done with gene: ' + dfn.gene_name.tolist()[0])\n",
    "    else:\n",
    "        print('no reactions for gene: ' + dfn.gene_name.tolist()[0])"
   ]
  },
  {
   "cell_type": "code",
   "execution_count": 144,
   "id": "monetary-pearl",
   "metadata": {},
   "outputs": [],
   "source": [
    "gr = pd.DataFrame(results_sgm_tfa)\n",
    "gr = gene_set[['gene','gene_name']].drop_duplicates().set_index('gene').join(gr.set_index('gene'))\n",
    "gr['rel_growth_rate'] = gr['growth_rate'] / tfa_solution_wt.objective_value"
   ]
  },
  {
   "cell_type": "code",
   "execution_count": 145,
   "id": "associate-australia",
   "metadata": {},
   "outputs": [
    {
     "data": {
      "text/html": [
       "<div>\n",
       "<style scoped>\n",
       "    .dataframe tbody tr th:only-of-type {\n",
       "        vertical-align: middle;\n",
       "    }\n",
       "\n",
       "    .dataframe tbody tr th {\n",
       "        vertical-align: top;\n",
       "    }\n",
       "\n",
       "    .dataframe thead th {\n",
       "        text-align: right;\n",
       "    }\n",
       "</style>\n",
       "<table border=\"1\" class=\"dataframe\">\n",
       "  <thead>\n",
       "    <tr style=\"text-align: right;\">\n",
       "      <th></th>\n",
       "      <th>gene_name</th>\n",
       "      <th>growth_rate</th>\n",
       "      <th>rel_growth_rate</th>\n",
       "    </tr>\n",
       "    <tr>\n",
       "      <th>gene</th>\n",
       "      <th></th>\n",
       "      <th></th>\n",
       "      <th></th>\n",
       "    </tr>\n",
       "  </thead>\n",
       "  <tbody>\n",
       "    <tr>\n",
       "      <th>b1852</th>\n",
       "      <td>zwf</td>\n",
       "      <td>0.799716</td>\n",
       "      <td>0.973183</td>\n",
       "    </tr>\n",
       "    <tr>\n",
       "      <th>b2029</th>\n",
       "      <td>gnd</td>\n",
       "      <td>0.799716</td>\n",
       "      <td>0.973183</td>\n",
       "    </tr>\n",
       "    <tr>\n",
       "      <th>b1136</th>\n",
       "      <td>icd</td>\n",
       "      <td>0.820074</td>\n",
       "      <td>0.997956</td>\n",
       "    </tr>\n",
       "    <tr>\n",
       "      <th>b3616</th>\n",
       "      <td>tdh</td>\n",
       "      <td>0.820936</td>\n",
       "      <td>0.999006</td>\n",
       "    </tr>\n",
       "    <tr>\n",
       "      <th>b3945</th>\n",
       "      <td>gldA</td>\n",
       "      <td>0.821504</td>\n",
       "      <td>0.999696</td>\n",
       "    </tr>\n",
       "    <tr>\n",
       "      <th>...</th>\n",
       "      <td>...</td>\n",
       "      <td>...</td>\n",
       "      <td>...</td>\n",
       "    </tr>\n",
       "    <tr>\n",
       "      <th>b4266</th>\n",
       "      <td>idnO</td>\n",
       "      <td>1.140422</td>\n",
       "      <td>1.387791</td>\n",
       "    </tr>\n",
       "    <tr>\n",
       "      <th>b3553</th>\n",
       "      <td>ghrB</td>\n",
       "      <td>1.140422</td>\n",
       "      <td>1.387791</td>\n",
       "    </tr>\n",
       "    <tr>\n",
       "      <th>b0312</th>\n",
       "      <td>betB</td>\n",
       "      <td>1.140422</td>\n",
       "      <td>1.387791</td>\n",
       "    </tr>\n",
       "    <tr>\n",
       "      <th>b0386</th>\n",
       "      <td>proC</td>\n",
       "      <td>1.140422</td>\n",
       "      <td>1.387791</td>\n",
       "    </tr>\n",
       "    <tr>\n",
       "      <th>b3365</th>\n",
       "      <td>nirB</td>\n",
       "      <td>9.908238</td>\n",
       "      <td>12.057431</td>\n",
       "    </tr>\n",
       "  </tbody>\n",
       "</table>\n",
       "<p>76 rows × 3 columns</p>\n",
       "</div>"
      ],
      "text/plain": [
       "      gene_name  growth_rate  rel_growth_rate\n",
       "gene                                         \n",
       "b1852       zwf     0.799716         0.973183\n",
       "b2029       gnd     0.799716         0.973183\n",
       "b1136       icd     0.820074         0.997956\n",
       "b3616       tdh     0.820936         0.999006\n",
       "b3945      gldA     0.821504         0.999696\n",
       "...         ...          ...              ...\n",
       "b4266      idnO     1.140422         1.387791\n",
       "b3553      ghrB     1.140422         1.387791\n",
       "b0312      betB     1.140422         1.387791\n",
       "b0386      proC     1.140422         1.387791\n",
       "b3365      nirB     9.908238        12.057431\n",
       "\n",
       "[76 rows x 3 columns]"
      ]
     },
     "execution_count": 145,
     "metadata": {},
     "output_type": "execute_result"
    }
   ],
   "source": [
    "gr.sort_values('rel_growth_rate')"
   ]
  },
  {
   "cell_type": "code",
   "execution_count": 128,
   "id": "continued-conflict",
   "metadata": {},
   "outputs": [],
   "source": [
    "import seaborn as sns"
   ]
  },
  {
   "cell_type": "code",
   "execution_count": 64,
   "id": "pacific-giving",
   "metadata": {},
   "outputs": [],
   "source": [
    "gene = 'pdxB'\n",
    "dfn = gene_set[gene_set.gene_name == gene]"
   ]
  },
  {
   "cell_type": "code",
   "execution_count": 80,
   "id": "daily-values",
   "metadata": {},
   "outputs": [],
   "source": [
    "import numpy as np"
   ]
  },
  {
   "cell_type": "code",
   "execution_count": 82,
   "id": "electrical-cambridge",
   "metadata": {},
   "outputs": [
    {
     "data": {
      "text/plain": [
       "1.0000000000000004e-06"
      ]
     },
     "execution_count": 82,
     "metadata": {},
     "output_type": "execute_result"
    }
   ],
   "source": [
    "np.exp(-13.815510557964274)"
   ]
  },
  {
   "cell_type": "code",
   "execution_count": 90,
   "id": "painful-defeat",
   "metadata": {},
   "outputs": [
    {
     "data": {
      "text/plain": [
       "49999.99999999999"
      ]
     },
     "execution_count": 90,
     "metadata": {},
     "output_type": "execute_result"
    }
   ],
   "source": [
    "np.exp(-2.995732273553991) / np.exp(-13.815510557964274)"
   ]
  },
  {
   "cell_type": "code",
   "execution_count": 94,
   "id": "unnecessary-institution",
   "metadata": {},
   "outputs": [],
   "source": [
    "met_ub = np.log(1e-2)"
   ]
  },
  {
   "cell_type": "code",
   "execution_count": 78,
   "id": "tutorial-hollow",
   "metadata": {},
   "outputs": [],
   "source": [
    "from pytfa.thermo import LogConcentration"
   ]
  },
  {
   "cell_type": "code",
   "execution_count": 110,
   "id": "junior-reputation",
   "metadata": {},
   "outputs": [],
   "source": [
    "for lc in wt_model.get_variables_of_type(LogConcentration):\n",
    "    if lc.variable.ub < 0:\n",
    "        lc.variable.ub = np.min([lc.variable.ub,met_ub])"
   ]
  },
  {
   "cell_type": "code",
   "execution_count": 112,
   "id": "breathing-repeat",
   "metadata": {},
   "outputs": [],
   "source": [
    "#wt_model.get_variables_of_type(LogConcentration)"
   ]
  },
  {
   "cell_type": "code",
   "execution_count": 113,
   "id": "intelligent-drove",
   "metadata": {},
   "outputs": [
    {
     "data": {
      "text/plain": [
       "nan"
      ]
     },
     "execution_count": 113,
     "metadata": {},
     "output_type": "execute_result"
    }
   ],
   "source": [
    "wt_model.slim_optimize()"
   ]
  },
  {
   "cell_type": "code",
   "execution_count": 44,
   "id": "distinct-garden",
   "metadata": {},
   "outputs": [
    {
     "data": {
      "text/plain": [
       "<seaborn.axisgrid.FacetGrid at 0x7ff29b275760>"
      ]
     },
     "execution_count": 44,
     "metadata": {},
     "output_type": "execute_result"
    },
    {
     "data": {
      "image/png": "[encoded data removed]",
      "text/plain": [
       "<Figure size 360x360 with 1 Axes>"
      ]
     },
     "metadata": {
      "needs_background": "light"
     },
     "output_type": "display_data"
    }
   ],
   "source": [
    "sns.displot(x='rel_growth_rate',data=gr,kind='ecdf')"
   ]
  },
  {
   "cell_type": "code",
   "execution_count": 300,
   "id": "essential-clone",
   "metadata": {},
   "outputs": [
    {
     "data": {
      "text/html": [
       "<div>\n",
       "<style scoped>\n",
       "    .dataframe tbody tr th:only-of-type {\n",
       "        vertical-align: middle;\n",
       "    }\n",
       "\n",
       "    .dataframe tbody tr th {\n",
       "        vertical-align: top;\n",
       "    }\n",
       "\n",
       "    .dataframe thead th {\n",
       "        text-align: right;\n",
       "    }\n",
       "</style>\n",
       "<table border=\"1\" class=\"dataframe\">\n",
       "  <thead>\n",
       "    <tr style=\"text-align: right;\">\n",
       "      <th></th>\n",
       "      <th>gene_name</th>\n",
       "      <th>growth_rate</th>\n",
       "      <th>rel_growth_rate</th>\n",
       "    </tr>\n",
       "    <tr>\n",
       "      <th>gene</th>\n",
       "      <th></th>\n",
       "      <th></th>\n",
       "      <th></th>\n",
       "    </tr>\n",
       "  </thead>\n",
       "  <tbody>\n",
       "    <tr>\n",
       "      <th>b2320</th>\n",
       "      <td>pdxB</td>\n",
       "      <td>0.837987</td>\n",
       "      <td>1.0</td>\n",
       "    </tr>\n",
       "  </tbody>\n",
       "</table>\n",
       "</div>"
      ],
      "text/plain": [
       "      gene_name  growth_rate  rel_growth_rate\n",
       "gene                                         \n",
       "b2320      pdxB     0.837987              1.0"
      ]
     },
     "execution_count": 300,
     "metadata": {},
     "output_type": "execute_result"
    }
   ],
   "source": [
    "gr[gr.gene_name == 'pdxB']"
   ]
  },
  {
   "cell_type": "code",
   "execution_count": 218,
   "id": "proprietary-mouth",
   "metadata": {},
   "outputs": [],
   "source": [
    "wt_fluxes = pd.DataFrame(tfa_solution_wt.fluxes)\n",
    "sc_fluxes = pd.DataFrame(tfa_solution_sc_trimmed.fluxes)\n",
    "wt_fluxes.columns = ['WT']\n",
    "sc_fluxes.columns = ['SC']\n",
    "res = wt_fluxes.join(sc_fluxes)"
   ]
  },
  {
   "cell_type": "code",
   "execution_count": 247,
   "id": "assured-first",
   "metadata": {},
   "outputs": [
    {
     "name": "stdout",
     "output_type": "stream",
     "text": [
      "Read LP format model from file /var/folders/17/58pxvfhj0gb_wz2nzgrzc6pc0000gn/T/tmpoocf_1g2.lp\n",
      "Reading time = 0.02 seconds\n",
      ": 1807 rows, 5170 columns, 20304 nonzeros\n"
     ]
    },
    {
     "name": "stderr",
     "output_type": "stream",
     "text": [
      "2021-10-20 09:53:21,494 - thermomodel_RelaxedModel iJO1366[WT] - INFO - # Model initialized with units kcal/mol and temperature 298.15 K\n"
     ]
    }
   ],
   "source": [
    "wt_model_dl = wt_model.copy()"
   ]
  },
  {
   "cell_type": "code",
   "execution_count": 248,
   "id": "explicit-wrestling",
   "metadata": {},
   "outputs": [],
   "source": [
    "rxn_to_remove = ['GAPD']\n",
    "wt_model_dl.remove_reactions(rxn_to_remove)"
   ]
  },
  {
   "cell_type": "code",
   "execution_count": 249,
   "id": "short-bikini",
   "metadata": {},
   "outputs": [
    {
     "data": {
      "text/plain": [
       "0.8171423679661247"
      ]
     },
     "execution_count": 249,
     "metadata": {},
     "output_type": "execute_result"
    }
   ],
   "source": [
    "wt_model_dl.slim_optimize()"
   ]
  },
  {
   "cell_type": "code",
   "execution_count": 11,
   "id": "modular-visiting",
   "metadata": {},
   "outputs": [
    {
     "name": "stdout",
     "output_type": "stream",
     "text": [
      "Read LP format model from file /var/folders/17/58pxvfhj0gb_wz2nzgrzc6pc0000gn/T/tmpw3bkw_j8.lp\n",
      "Reading time = 0.02 seconds\n",
      ": 1805 rows, 5162 columns, 20260 nonzeros\n"
     ]
    },
    {
     "name": "stderr",
     "output_type": "stream",
     "text": [
      "2021-10-22 10:39:53,063 - thermomodel_RelaxedModel iJO1366[NAD] - INFO - # Model initialized with units kcal/mol and temperature 298.15 K\n"
     ]
    }
   ],
   "source": [
    "sc_model_trimmed, removedReactions = removeDuplicateRxn(m)"
   ]
  },
  {
   "cell_type": "code",
   "execution_count": 189,
   "id": "capable-processing",
   "metadata": {},
   "outputs": [
    {
     "name": "stdout",
     "output_type": "stream",
     "text": [
      "TFA Solution found for SC model : 0.72479\n"
     ]
    }
   ],
   "source": [
    "#removedReactions\n",
    "tfa_solution_sc_trimmed = sc_model_trimmed.optimize()\n",
    "tfa_value_sc_trimmed = tfa_solution_sc_trimmed.objective_value\n",
    "# Report\n",
    "print('TFA Solution found for SC model : {0:.5g}'.format(tfa_value_sc_trimmed))\n"
   ]
  },
  {
   "cell_type": "code",
   "execution_count": 191,
   "id": "graduate-happiness",
   "metadata": {},
   "outputs": [],
   "source": [
    "tfa_solution_wt.fluxes.to_csv('tfa.wt.fluxes.19Oct2021.csv')\n",
    "#tfa_solution_sc.fluxes.to_csv('tfa.sc.fluxes.19Oct2021.csv')\n",
    "tfa_solution_sc_trimmed.fluxes.to_csv('tfa.sc.removedRedundantRxns.fluxes.19Oct2021.csv')\n"
   ]
  },
  {
   "cell_type": "code",
   "execution_count": 219,
   "id": "south-initial",
   "metadata": {},
   "outputs": [
    {
     "data": {
      "text/plain": [
       "<AxesSubplot:xlabel='WT', ylabel='SC'>"
      ]
     },
     "execution_count": 219,
     "metadata": {},
     "output_type": "execute_result"
    },
    {
     "data": {
      "image/png": "[encoded data removed]",
      "text/plain": [
       "<Figure size 432x288 with 1 Axes>"
      ]
     },
     "metadata": {
      "needs_background": "light"
     },
     "output_type": "display_data"
    }
   ],
   "source": [
    "sns.scatterplot(x='WT',y='SC',data=res)\n",
    "#plt.xlim([-40,40])\n",
    "#plt.ylim([-40,40])"
   ]
  },
  {
   "cell_type": "code",
   "execution_count": 220,
   "id": "english-shepherd",
   "metadata": {},
   "outputs": [],
   "source": [
    "score = abs(res['WT'] - res['SC'])"
   ]
  },
  {
   "cell_type": "code",
   "execution_count": 221,
   "id": "southern-interface",
   "metadata": {},
   "outputs": [],
   "source": [
    "subsystem = [wt_model.reactions.get_by_id(x).subsystem for x in score.index.tolist()]"
   ]
  },
  {
   "cell_type": "code",
   "execution_count": 222,
   "id": "smooth-retirement",
   "metadata": {},
   "outputs": [],
   "source": [
    "res_score = pd.DataFrame(score,columns=['score']).join(pd.DataFrame(pd.Series(subsystem,index= score.index),columns=['subsystem']))"
   ]
  },
  {
   "cell_type": "code",
   "execution_count": 224,
   "id": "postal-session",
   "metadata": {},
   "outputs": [
    {
     "data": {
      "text/plain": [
       "<seaborn.axisgrid.FacetGrid at 0x7ff6705c3730>"
      ]
     },
     "execution_count": 224,
     "metadata": {},
     "output_type": "execute_result"
    },
    {
     "data": {
      "image/png": "[encoded data removed]",
      "text/plain": [
       "<Figure size 360x360 with 1 Axes>"
      ]
     },
     "metadata": {
      "needs_background": "light"
     },
     "output_type": "display_data"
    }
   ],
   "source": [
    "sns.catplot(y='subsystem',x='score',data=res_score)"
   ]
  },
  {
   "cell_type": "code",
   "execution_count": 234,
   "id": "ruled-yugoslavia",
   "metadata": {},
   "outputs": [
    {
     "data": {
      "text/plain": [
       "GALBDtex        0.000000\n",
       "GLCURtex        0.000000\n",
       "GLCURt2rpp      0.000000\n",
       "GLCUR1Ptex      0.000000\n",
       "QUIN2tpp        0.000000\n",
       "                 ...    \n",
       "THRt4pp       100.000000\n",
       "ASPt2rpp      100.000000\n",
       "NAt3pp        100.000000\n",
       "THRt2rpp      100.000000\n",
       "FADRx         100.061063\n",
       "Name: score, Length: 2523, dtype: float64"
      ]
     },
     "execution_count": 234,
     "metadata": {},
     "output_type": "execute_result"
    }
   ],
   "source": []
  },
  {
   "cell_type": "code",
   "execution_count": 9,
   "id": "prostate-reasoning",
   "metadata": {},
   "outputs": [],
   "source": [
    "from copy import deepcopy\n",
    "def removeDuplicateRxn(model):\n",
    "\tmodel2 = deepcopy(model)\n",
    "\ttoRemove = []\n",
    "\tfor eachReaction in model2.reactions:\n",
    "\n",
    "\t\tif eachReaction.id in toRemove:\n",
    "\t\t\tcontinue\n",
    "\n",
    "\t\tids = []\n",
    "\t\tstechiometry = []\n",
    "\t\tfor eachMet in eachReaction.metabolites:\n",
    "\t\t\tids.append(eachMet.id)\n",
    "\t\t\tstechiometry.append(eachReaction.metabolites[eachMet])\n",
    "\n",
    "\t\tremovedEachReaction = 0\n",
    "\t\tfor eachReaction2 in model2.reactions:\n",
    "\t\t\tif eachReaction2 == eachReaction or eachReaction2.id in toRemove or len(eachReaction2.metabolites) != len(eachReaction.metabolites):\n",
    "\t\t\t\tcontinue\n",
    "\t\t\t\n",
    "\t\t\tduplicate = 1\n",
    "\t\t\tfor eachMet in eachReaction2.metabolites:\n",
    "\t\t\t\n",
    "\t\t\t\tif eachMet.id not in ids:\n",
    "\t\t\t\t\tduplicate = 0\n",
    "\t\t\t\t\tbreak\n",
    "\t\t\t\t\t\n",
    "\t\t\t\tif abs(eachReaction2.metabolites[eachMet]) != abs(stechiometry[ids.index(eachMet.id)]):\n",
    "\t\t\t\t\tduplicate = 0\n",
    "\t\t\t\t\tbreak\n",
    "\t\t\t\n",
    "\t\t\tif duplicate == 1:\n",
    "\t\t\t\t\n",
    "\t\t\t\tif len(eachReaction2.genes) == 0 and len(eachReaction.genes) == 0:\n",
    "\t\t\t\t\tif eachReaction2.lower_bound < eachReaction.lower_bound:\n",
    "\t\t\t\t\t\ttoRemove.append(eachReaction.id)\n",
    "\t\t\t\t\t\tremovedEachReaction = 1\n",
    "\t\t\t\t\telse:\n",
    "\t\t\t\t\t\ttoRemove.append(eachReaction2.id)\n",
    "\t\t\t\t\n",
    "\t\t\t\telif len(eachReaction2.genes) == 0 and len(eachReaction.genes) != 0:\n",
    "\t\t\t\t\ttoRemove.append(eachReaction.id)\n",
    "\t\t\t\t\tremovedEachReaction = 1\n",
    "\t\t\t\t\t\n",
    "\t\t\t\telif len(eachReaction2.genes) != 0 and len(eachReaction.genes) == 0:\n",
    "\t\t\t\t\ttoRemove.append(eachReaction2.id)\n",
    "\t\t\t\t\n",
    "\t\t\t\telif len(eachReaction2.genes) != 0 and len(eachReaction.genes) != 0:\n",
    "\t\t\t\t\t\n",
    "\t\t\t\t\ttotalGenes = []\n",
    "\t\t\t\t\tfor eachGene in eachReaction2.genes:\n",
    "\t\t\t\t\t\ttotalGenes.append(eachGene.id)\n",
    "\t\t\t\t\tfor eachGene in eachReaction.genes:\n",
    "\t\t\t\t\t\tif eachGene.id not in totalGenes:\n",
    "\t\t\t\t\t\t\ttotalGenes.append(eachGene.id)\n",
    "\t\t\t\t\n",
    "\t\t\t\t\tif eachReaction2.lower_bound < eachReaction.lower_bound:\n",
    "\t\t\t\t\t\ttoRemove.append(eachReaction.id)\n",
    "\t\t\t\t\t\tif len(eachReaction2.genes) != len(totalGenes):\n",
    "\t\t\t\t\t\t\tstring = ''\n",
    "\t\t\t\t\t\t\tfor i in range(len(totalGenes)):\n",
    "\t\t\t\t\t\t\t\tstring = string + totalGenes[i]\n",
    "\t\t\t\t\t\t\t\tif i != len(totalGenes) -1:\n",
    "\t\t\t\t\t\t\t\t\tstring = string + \" or \"\n",
    "\t\t\t\t\t\t\teachReaction2.gene_reaction_rule = '( ' + string +' )'\n",
    "\t\t\t\t\t\tremovedEachReaction = 1\n",
    "\t\t\t\t\telse:\n",
    "\t\t\t\t\t\ttoRemove.append(eachReaction2.id)\n",
    "\t\t\t\t\t\tif len(eachReaction.genes) != len(totalGenes):\n",
    "\t\t\t\t\t\t\tstring = ''\n",
    "\t\t\t\t\t\t\tfor i in range(len(totalGenes)):\n",
    "\t\t\t\t\t\t\t\tstring = string + totalGenes[i]\n",
    "\t\t\t\t\t\t\t\tif i != len(totalGenes) -1:\n",
    "\t\t\t\t\t\t\t\t\tstring = string + \" or \"\n",
    "\t\t\t\t\t\t\teachReaction.gene_reaction_rule = '( ' + string +' )'\n",
    "\t\t\t\t\t\t\t\n",
    "\t\t\t\t\n",
    "\t\t\tif removedEachReaction == 1:\n",
    "\t\t\t\tbreak\n",
    "\t\t\n",
    "\n",
    "\tmodel2.remove_reactions(toRemove)\n",
    "\t\n",
    "\treturn [model2, toRemove]"
   ]
  },
  {
   "cell_type": "code",
   "execution_count": null,
   "id": "universal-digit",
   "metadata": {},
   "outputs": [],
   "source": []
  }
 ],
 "metadata": {
  "kernelspec": {
   "display_name": "Python 3.8 (coenzymes)",
   "language": "python",
   "name": "coenzymes"
  },
  "language_info": {
   "codemirror_mode": {
    "name": "ipython",
    "version": 3
   },
   "file_extension": ".py",
   "mimetype": "text/x-python",
   "name": "python",
   "nbconvert_exporter": "python",
   "pygments_lexer": "ipython3",
   "version": "3.8.5"
  }
 },
 "nbformat": 4,
 "nbformat_minor": 5
}
