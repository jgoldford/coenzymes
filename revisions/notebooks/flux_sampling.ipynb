{
 "cells": [
  {
   "cell_type": "code",
   "execution_count": 1,
   "id": "opposed-ceramic",
   "metadata": {},
   "outputs": [],
   "source": [
    "import cobra\n",
    "import pandas as pd\n",
    "import numpy as np\n",
    "import matplotlib.pyplot as plt\n",
    "plt.rcParams[\"font.family\"] = \"Arial\"\n",
    "plt.rcParams[\"font.size\"] = 12"
   ]
  },
  {
   "cell_type": "code",
   "execution_count": 2,
   "id": "accepting-elements",
   "metadata": {},
   "outputs": [],
   "source": [
    "model = cobra.io.read_sbml_model('../assets/iJO1366.xml')\n",
    "gene_set = pd.read_csv('../assets/EC_1.X.1.X.Unique_NAD(P)_Coupled.GeneSet.Thermo.csv')"
   ]
  },
  {
   "cell_type": "code",
   "execution_count": 4,
   "id": "equipped-scientist",
   "metadata": {},
   "outputs": [],
   "source": [
    "from cobra.sampling import sample\n"
   ]
  },
  {
   "cell_type": "code",
   "execution_count": 10,
   "id": "animal-mercury",
   "metadata": {},
   "outputs": [
    {
     "data": {
      "text/html": [
       "<div>\n",
       "<style scoped>\n",
       "    .dataframe tbody tr th:only-of-type {\n",
       "        vertical-align: middle;\n",
       "    }\n",
       "\n",
       "    .dataframe tbody tr th {\n",
       "        vertical-align: top;\n",
       "    }\n",
       "\n",
       "    .dataframe thead th {\n",
       "        text-align: right;\n",
       "    }\n",
       "</style>\n",
       "<table border=\"1\" class=\"dataframe\">\n",
       "  <thead>\n",
       "    <tr style=\"text-align: right;\">\n",
       "      <th></th>\n",
       "      <th>EX_cm_e</th>\n",
       "      <th>EX_cmp_e</th>\n",
       "      <th>EX_co2_e</th>\n",
       "      <th>EX_cobalt2_e</th>\n",
       "      <th>DM_4crsol_c</th>\n",
       "      <th>DM_5drib_c</th>\n",
       "      <th>DM_aacald_c</th>\n",
       "      <th>DM_amob_c</th>\n",
       "      <th>DM_mththf_c</th>\n",
       "      <th>EX_colipa_e</th>\n",
       "      <th>...</th>\n",
       "      <th>UREAtex</th>\n",
       "      <th>RNDR2b</th>\n",
       "      <th>UREAtpp</th>\n",
       "      <th>RNDR3</th>\n",
       "      <th>RNDR3b</th>\n",
       "      <th>RNDR4</th>\n",
       "      <th>RNDR4b</th>\n",
       "      <th>RNTR1c2</th>\n",
       "      <th>RNTR2c2</th>\n",
       "      <th>RNTR3c2</th>\n",
       "    </tr>\n",
       "  </thead>\n",
       "  <tbody>\n",
       "    <tr>\n",
       "      <th>0</th>\n",
       "      <td>0.0</td>\n",
       "      <td>0.0</td>\n",
       "      <td>53.612064</td>\n",
       "      <td>-5.617429e-11</td>\n",
       "      <td>5.190706e-10</td>\n",
       "      <td>1.379198e-07</td>\n",
       "      <td>8.682255e-15</td>\n",
       "      <td>4.655342e-12</td>\n",
       "      <td>0.000002</td>\n",
       "      <td>0.000001</td>\n",
       "      <td>...</td>\n",
       "      <td>-0.000056</td>\n",
       "      <td>0.000003</td>\n",
       "      <td>-0.000056</td>\n",
       "      <td>0.000001</td>\n",
       "      <td>1.058350e-06</td>\n",
       "      <td>0.000004</td>\n",
       "      <td>0.000001</td>\n",
       "      <td>0.000027</td>\n",
       "      <td>0.000029</td>\n",
       "      <td>0.000006</td>\n",
       "    </tr>\n",
       "    <tr>\n",
       "      <th>1</th>\n",
       "      <td>0.0</td>\n",
       "      <td>0.0</td>\n",
       "      <td>53.571777</td>\n",
       "      <td>-5.107710e-11</td>\n",
       "      <td>4.652032e-10</td>\n",
       "      <td>1.378510e-07</td>\n",
       "      <td>8.680239e-15</td>\n",
       "      <td>4.172226e-12</td>\n",
       "      <td>0.000002</td>\n",
       "      <td>0.000001</td>\n",
       "      <td>...</td>\n",
       "      <td>-0.000088</td>\n",
       "      <td>0.000003</td>\n",
       "      <td>-0.000088</td>\n",
       "      <td>0.000001</td>\n",
       "      <td>1.058283e-06</td>\n",
       "      <td>0.000004</td>\n",
       "      <td>0.000001</td>\n",
       "      <td>0.000009</td>\n",
       "      <td>0.000029</td>\n",
       "      <td>0.000006</td>\n",
       "    </tr>\n",
       "    <tr>\n",
       "      <th>2</th>\n",
       "      <td>0.0</td>\n",
       "      <td>0.0</td>\n",
       "      <td>56.387756</td>\n",
       "      <td>-2.545799e-09</td>\n",
       "      <td>2.339595e-08</td>\n",
       "      <td>1.483854e-07</td>\n",
       "      <td>9.764437e-15</td>\n",
       "      <td>2.098291e-10</td>\n",
       "      <td>0.008892</td>\n",
       "      <td>0.000001</td>\n",
       "      <td>...</td>\n",
       "      <td>-0.005921</td>\n",
       "      <td>0.000003</td>\n",
       "      <td>-0.005921</td>\n",
       "      <td>0.000001</td>\n",
       "      <td>9.576900e-07</td>\n",
       "      <td>1.497398</td>\n",
       "      <td>0.000001</td>\n",
       "      <td>0.000298</td>\n",
       "      <td>0.021882</td>\n",
       "      <td>0.000008</td>\n",
       "    </tr>\n",
       "    <tr>\n",
       "      <th>3</th>\n",
       "      <td>0.0</td>\n",
       "      <td>0.0</td>\n",
       "      <td>56.208347</td>\n",
       "      <td>-2.891694e-09</td>\n",
       "      <td>2.660967e-08</td>\n",
       "      <td>1.619423e-07</td>\n",
       "      <td>1.051779e-14</td>\n",
       "      <td>2.386518e-10</td>\n",
       "      <td>0.008892</td>\n",
       "      <td>0.000001</td>\n",
       "      <td>...</td>\n",
       "      <td>-0.005922</td>\n",
       "      <td>0.000003</td>\n",
       "      <td>-0.005922</td>\n",
       "      <td>0.000001</td>\n",
       "      <td>1.036482e-06</td>\n",
       "      <td>1.497461</td>\n",
       "      <td>0.000001</td>\n",
       "      <td>0.019098</td>\n",
       "      <td>0.021978</td>\n",
       "      <td>0.012055</td>\n",
       "    </tr>\n",
       "    <tr>\n",
       "      <th>4</th>\n",
       "      <td>0.0</td>\n",
       "      <td>0.0</td>\n",
       "      <td>56.186537</td>\n",
       "      <td>-2.888749e-09</td>\n",
       "      <td>2.658259e-08</td>\n",
       "      <td>1.515602e-07</td>\n",
       "      <td>1.069458e-14</td>\n",
       "      <td>2.384089e-10</td>\n",
       "      <td>0.008635</td>\n",
       "      <td>0.000004</td>\n",
       "      <td>...</td>\n",
       "      <td>-0.011359</td>\n",
       "      <td>0.000003</td>\n",
       "      <td>-0.011359</td>\n",
       "      <td>0.000001</td>\n",
       "      <td>9.567178e-07</td>\n",
       "      <td>1.497066</td>\n",
       "      <td>0.000001</td>\n",
       "      <td>0.019396</td>\n",
       "      <td>0.022983</td>\n",
       "      <td>0.038100</td>\n",
       "    </tr>\n",
       "  </tbody>\n",
       "</table>\n",
       "<p>5 rows × 2583 columns</p>\n",
       "</div>"
      ],
      "text/plain": [
       "   EX_cm_e  EX_cmp_e   EX_co2_e  EX_cobalt2_e   DM_4crsol_c    DM_5drib_c  \\\n",
       "0      0.0       0.0  53.612064 -5.617429e-11  5.190706e-10  1.379198e-07   \n",
       "1      0.0       0.0  53.571777 -5.107710e-11  4.652032e-10  1.378510e-07   \n",
       "2      0.0       0.0  56.387756 -2.545799e-09  2.339595e-08  1.483854e-07   \n",
       "3      0.0       0.0  56.208347 -2.891694e-09  2.660967e-08  1.619423e-07   \n",
       "4      0.0       0.0  56.186537 -2.888749e-09  2.658259e-08  1.515602e-07   \n",
       "\n",
       "    DM_aacald_c     DM_amob_c  DM_mththf_c  EX_colipa_e  ...   UREAtex  \\\n",
       "0  8.682255e-15  4.655342e-12     0.000002     0.000001  ... -0.000056   \n",
       "1  8.680239e-15  4.172226e-12     0.000002     0.000001  ... -0.000088   \n",
       "2  9.764437e-15  2.098291e-10     0.008892     0.000001  ... -0.005921   \n",
       "3  1.051779e-14  2.386518e-10     0.008892     0.000001  ... -0.005922   \n",
       "4  1.069458e-14  2.384089e-10     0.008635     0.000004  ... -0.011359   \n",
       "\n",
       "     RNDR2b   UREAtpp     RNDR3        RNDR3b     RNDR4    RNDR4b   RNTR1c2  \\\n",
       "0  0.000003 -0.000056  0.000001  1.058350e-06  0.000004  0.000001  0.000027   \n",
       "1  0.000003 -0.000088  0.000001  1.058283e-06  0.000004  0.000001  0.000009   \n",
       "2  0.000003 -0.005921  0.000001  9.576900e-07  1.497398  0.000001  0.000298   \n",
       "3  0.000003 -0.005922  0.000001  1.036482e-06  1.497461  0.000001  0.019098   \n",
       "4  0.000003 -0.011359  0.000001  9.567178e-07  1.497066  0.000001  0.019396   \n",
       "\n",
       "    RNTR2c2   RNTR3c2  \n",
       "0  0.000029  0.000006  \n",
       "1  0.000029  0.000006  \n",
       "2  0.021882  0.000008  \n",
       "3  0.021978  0.012055  \n",
       "4  0.022983  0.038100  \n",
       "\n",
       "[5 rows x 2583 columns]"
      ]
     },
     "execution_count": 10,
     "metadata": {},
     "output_type": "execute_result"
    }
   ],
   "source": [
    "\n",
    "\n",
    "s2 = sample(model,1000,method='achr')\n",
    "s2.head()"
   ]
  },
  {
   "cell_type": "code",
   "execution_count": 36,
   "id": "curious-harvey",
   "metadata": {},
   "outputs": [],
   "source": [
    "def compute_pn(s2):\n",
    "    eplsion = 1e-2\n",
    "    df = {'rn': [], 'type':[], 'val': []}\n",
    "    for flux in list(s2):\n",
    "        g = sum(s2[flux] < -eplsion)\n",
    "        g2 = sum(s2[flux] > eplsion)\n",
    "        df['rn'].append(flux)\n",
    "        df['type'].append('negative')\n",
    "        df['val'].append(g)\n",
    "\n",
    "        df['rn'].append(flux)\n",
    "        df['type'].append('positive')\n",
    "        df['val'].append(g2)\n",
    "    \n",
    "    df = pd.DataFrame(df)\n",
    "    return df"
   ]
  },
  {
   "cell_type": "code",
   "execution_count": 29,
   "id": "defined-white",
   "metadata": {},
   "outputs": [],
   "source": [
    "dfp = df.pivot_table(index='rn',columns = ['type'],values='val')"
   ]
  },
  {
   "cell_type": "code",
   "execution_count": 34,
   "id": "impaired-scotland",
   "metadata": {},
   "outputs": [
    {
     "data": {
      "text/plain": [
       "60"
      ]
     },
     "execution_count": 34,
     "metadata": {},
     "output_type": "execute_result"
    }
   ],
   "source": [
    "\n",
    "len(dfp[(dfp['negative'] > 0) & (dfp['positive'] > 0)])"
   ]
  },
  {
   "cell_type": "code",
   "execution_count": 39,
   "id": "brazilian-optimum",
   "metadata": {},
   "outputs": [],
   "source": [
    "sample_sizes = [10,50,100,500,1000,5000,10000]\n",
    "res = {'N': [], 'flips': []}\n",
    "for N in sample_sizes:\n",
    "    S = sample(model,N,method='achr')\n",
    "    dg = compute_pn(S)\n",
    "    dgp = dg.pivot_table(index='rn',columns = ['type'],values='val')\n",
    "    q = len(dgp[(dgp['negative'] > 0) & (dgp['positive'] > 0)])\n",
    "    res['N'].append(N)\n",
    "    res['flips'].append(q)"
   ]
  },
  {
   "cell_type": "code",
   "execution_count": 45,
   "id": "behind-opportunity",
   "metadata": {},
   "outputs": [
    {
     "data": {
      "image/png": "[encoded data removed]",
      "text/plain": [
       "<Figure size 432x288 with 1 Axes>"
      ]
     },
     "metadata": {
      "needs_background": "light"
     },
     "output_type": "display_data"
    }
   ],
   "source": [
    "sns.lineplot(x='N',y='flips',data=pd.DataFrame(res))\n",
    "plt.xscale('log')"
   ]
  },
  {
   "cell_type": "code",
   "execution_count": 42,
   "id": "forty-sheffield",
   "metadata": {},
   "outputs": [],
   "source": [
    "import seaborn as sns"
   ]
  },
  {
   "cell_type": "code",
   "execution_count": 44,
   "id": "qualified-signal",
   "metadata": {},
   "outputs": [],
   "source": [
    "import matplotlib.pyplot as plt"
   ]
  },
  {
   "cell_type": "code",
   "execution_count": null,
   "id": "oriental-chase",
   "metadata": {},
   "outputs": [],
   "source": []
  }
 ],
 "metadata": {
  "kernelspec": {
   "display_name": "Python 3.8 (coenzymes)",
   "language": "python",
   "name": "coenzymes"
  },
  "language_info": {
   "codemirror_mode": {
    "name": "ipython",
    "version": 3
   },
   "file_extension": ".py",
   "mimetype": "text/x-python",
   "name": "python",
   "nbconvert_exporter": "python",
   "pygments_lexer": "ipython3",
   "version": "3.8.5"
  }
 },
 "nbformat": 4,
 "nbformat_minor": 5
}
