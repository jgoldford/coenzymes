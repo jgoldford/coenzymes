{
 "cells": [
  {
   "cell_type": "code",
   "execution_count": 10,
   "id": "alternative-kingston",
   "metadata": {},
   "outputs": [],
   "source": [
    "import cobra\n",
    "import pandas as pd\n",
    "import numpy as np\n",
    "import matplotlib.pyplot as plt\n",
    "plt.rcParams[\"font.family\"] = \"Arial\"\n",
    "plt.rcParams[\"font.size\"] = 12"
   ]
  },
  {
   "cell_type": "code",
   "execution_count": 2,
   "id": "stretch-valuation",
   "metadata": {},
   "outputs": [
    {
     "name": "stdout",
     "output_type": "stream",
     "text": [
      "Loading thermo data...\n",
      "Done !\n",
      "Read LP format model from file /var/folders/17/58pxvfhj0gb_wz2nzgrzc6pc0000gn/T/tmpqoqr0bw7.lp\n",
      "Reading time = 0.02 seconds\n",
      ": 1807 rows, 5170 columns, 20334 nonzeros\n"
     ]
    },
    {
     "name": "stderr",
     "output_type": "stream",
     "text": [
      "2021-08-29 17:11:59,181 - thermomodel_None - INFO - # Model initialized with units kcal/mol and temperature 298.15 K\n"
     ]
    }
   ],
   "source": [
    "import pytfa\n",
    "from optlang.exceptions import SolverError\n",
    "\n",
    "#from cobra.core.model import SolverNotFound\n",
    "from cobra.flux_analysis import flux_variability_analysis\n",
    "from cobra.io import load_matlab_model, load_json_model\n",
    "\n",
    "\n",
    "from pytfa.io import import_matlab_model, load_thermoDB,                    \\\n",
    "                            read_lexicon, annotate_from_lexicon,            \\\n",
    "                            read_compartment_data, apply_compartment_data\n",
    "from pytfa.optim.relaxation import relax_dgo\n",
    "import pickle\n",
    "from pytfa.optim.variables import LogConcentration\n",
    "#thermo_database = '/projectnb2/bioinfor/SEGRE/goldford/CoenzymeSpecificity/pytfa/data/thermo_data.thermodb'\n",
    "#root_dir = '/projectnb/bioinfor/SEGRE/goldford/CoenzymeSpecificity/pytfa/tests/singleCoenzymeModel.08272021.v2'\n",
    "thermo_database = '../assets/thermo_data.thermodb'\n",
    "model_path = '../assets'\n",
    "\n",
    "CPLEX = 'optlang-cplex'\n",
    "GUROBI = 'optlang-gurobi'\n",
    "GLPK = 'optlang-glpk'\n",
    "solver = GUROBI\n",
    "\n",
    "# Load reaction DB\n",
    "print(\"Loading thermo data...\")\n",
    "thermo_data = load_thermoDB(thermo_database)\n",
    "\n",
    "print(\"Done !\")\n",
    "#biomass_rxn = 'BIOMASS_Ec_iJO1366_WT_53p95M'\n",
    "biomass_rxn = 'Ec_biomass_iJO1366_WT_53p95M'\n",
    "\n",
    "\n",
    "model_id = 'iJO1366.json'\n",
    "\n",
    "# We import pre-compiled data as it is faster for bigger models\n",
    "cobra_model = load_json_model(model_path + '/' + model_id)\n",
    "\n",
    "lexicon = read_lexicon(model_path + '/iJO1366/lexicon.csv')\n",
    "compartment_data = read_compartment_data(model_path + '/iJO1366/compartment_data.json')\n",
    "\n",
    "# Initialize the cobra_model\n",
    "mytfa = pytfa.ThermoModel(thermo_data, cobra_model)\n",
    "\n",
    "# Annotate the cobra_model\n",
    "annotate_from_lexicon(mytfa, lexicon)\n",
    "apply_compartment_data(mytfa, compartment_data)\n",
    "\n",
    "\n",
    "mytfa.name = 'iJO1366'\n",
    "mytfa.solver = solver\n",
    "mytfa.objective = biomass_rxn\n"
   ]
  },
  {
   "cell_type": "code",
   "execution_count": 3,
   "id": "large-aaron",
   "metadata": {},
   "outputs": [],
   "source": [
    "def single_coenzyme_transform(model,reaction_id):\n",
    "    \n",
    "    met = {}\n",
    "    met['nad'] = np.where([x.id == 'nad_c' for x in model.metabolites])[0][0]\n",
    "    met['nadp'] = np.where([x.id == 'nadp_c' for x in model.metabolites])[0][0]\n",
    "    met['nadh'] = np.where([x.id == 'nadh_c' for x in model.metabolites])[0][0]\n",
    "    met['nadph'] = np.where([x.id == 'nadph_c' for x in model.metabolites])[0][0]\n",
    "\n",
    "    met_objs = {}\n",
    "    met_objs['nad'] = [x for x in model.metabolites if x.id == 'nad_c'][0]\n",
    "    met_objs['nadh'] = [x for x in model.metabolites if x.id == 'nadh_c'][0]\n",
    "    met_objs['nadp'] = [x for x in model.metabolites if x.id == 'nadp_c'][0]\n",
    "    met_objs['nadph'] = [x for x in model.metabolites if x.id == 'nadph_c'][0]\n",
    "    \n",
    "    rxn = [x for x in model.reactions if x.id == reaction_id][0].copy()\n",
    "    # make a new dictionary with coenzyme swapped\n",
    "    v = {x:y for x,y in rxn.metabolites.items() if x.id in [x + '_c' for x in list(met)]}\n",
    "    \n",
    "    nad_stoich = 0;\n",
    "    nadh_stoich  = 0;\n",
    "    set([x.id for x in m.reactions.get_by_id(rxnid).metabolites])\n",
    "    if len(v) > 1:\n",
    "        v2 = {}\n",
    "        for x,y in v.items():\n",
    "            if x.id == 'nadph_c':\n",
    "                nadh_stoich = nadh_stoich + y \n",
    "                #v2[met_objs['nadh']] = y\n",
    "            elif x.id == 'nadp_c':\n",
    "                nad_stoich = nad_stoich + y \n",
    "                #v2[met_objs['nad']] = y\n",
    "            elif x.id == 'nadh_c':\n",
    "                nadh_stoich = nadh_stoich + y \n",
    "                #v2[met_objs['nadph']] = y\n",
    "            elif x.id == 'nad_c':\n",
    "                nad_stoich = nad_stoich + y \n",
    "                #v2[met_objs['nadp']] = y\n",
    "\n",
    "        v2[met_objs['nad']] = nad_stoich\n",
    "        v2[met_objs['nadh']] = nadh_stoich\n",
    "\n",
    "        rxn.subtract_metabolites(v)\n",
    "        rxn.add_metabolites(v2)\n",
    "        #rxn.id = rxn.id + '[condensed]'\n",
    "        # keep old reaction ID\n",
    "        #print('adding new reaction '+ rxn.id)\n",
    "        model.remove_reactions([x for x in model.reactions if x.id == reaction_id][0])\n",
    "        model.add_reaction(rxn)\n",
    "        coverted = True\n",
    "        return model,coverted\n",
    "    else:\n",
    "        coverted = False\n",
    "        return model,coverted"
   ]
  },
  {
   "cell_type": "code",
   "execution_count": 8,
   "id": "specific-school",
   "metadata": {},
   "outputs": [],
   "source": [
    "#cobra_model.summary()"
   ]
  },
  {
   "cell_type": "code",
   "execution_count": 11,
   "id": "exact-departure",
   "metadata": {},
   "outputs": [
    {
     "name": "stdout",
     "output_type": "stream",
     "text": [
      "Read LP format model from file /var/folders/17/58pxvfhj0gb_wz2nzgrzc6pc0000gn/T/tmp4fxaduj7.lp\n",
      "Reading time = 0.02 seconds\n",
      ": 1807 rows, 5170 columns, 20334 nonzeros\n"
     ]
    },
    {
     "name": "stderr",
     "output_type": "stream",
     "text": [
      "/Users/joshuagoldford/opt/miniconda3/envs/coenzymes/lib/python3.8/site-packages/cobra/core/model.py:745: UserWarning: need to pass in a list\n",
      "  warn(\"need to pass in a list\")\n"
     ]
    },
    {
     "name": "stdout",
     "output_type": "stream",
     "text": [
      "Read LP format model from file /var/folders/17/58pxvfhj0gb_wz2nzgrzc6pc0000gn/T/tmpnb5icx1v.lp\n",
      "Reading time = 0.02 seconds\n",
      ": 1807 rows, 5164 columns, 20294 nonzeros\n"
     ]
    }
   ],
   "source": [
    "m  = cobra_model.copy()\n",
    "\n",
    "rxns_to_remove = ['NADTRHD','NADPPPS','NADK']\n",
    "rxn_ids = [x.id for x in cobra_model.reactions]\n",
    "\n",
    "#m.remove_reactions([x for x in m.reactions if x.id == 'NADTRHD'][0])\n",
    "#m.remove_reactions([x for x in m.reactions if x.id == 'NADPPPS'][0])\n",
    "#m.remove_reactions([x for x in m.reactions if x.id == 'NADK'][0])\n",
    "#m.remove_reactions([x for x in m.reactions if x.id in rxns_to_remove][0])\n",
    "\n",
    "m.remove_reactions(rxns_to_remove)\n",
    "\n",
    "rxn_ids = [x for x in rxn_ids if x not in rxns_to_remove]\n",
    "#rxn_ids = [x for x in rxn_ids if x not in ['Ec_biomass_iJO1366_WT_53p95M','Ec_biomass_iJO1366_core_53p95M']]\n",
    "\n",
    "converted_rxns = []\n",
    "for rxnid in rxn_ids:\n",
    "    m,conv = single_coenzyme_transform(m,rxnid)\n",
    "    if conv:\n",
    "        converted_rxns.append(rxnid)\n",
    "\n",
    "        \n",
    "#m.remove_reactions([x for x in m.reactions if x.id == 'NADTRHD[condensed]'][0])\n",
    "#m.remove_reactions([x for x in m.reactions if x.id == 'NADPPPS[condensed]'][0])\n",
    "#m.remove_reactions([x for x in m.reactions if x.id == 'NADK[condensed]'][0])\n",
    "#m.remove_reactions([x for x in m.reactions if x.id == 'NADDP'][0])\n",
    "\n",
    "m.id = 'iJO1366[NAD]'\n",
    "#m.objective = 'BIOMASS_Ec_iJO1366_WT_53p95M'\n",
    "m.objective = 'Ec_biomass_iJO1366_WT_53p95M'\n",
    "\n",
    "met_objs = {}\n",
    "met_objs['nad'] = [x for x in m.metabolites if x.id == 'nad_c'][0]\n",
    "met_objs['nadh'] = [x for x in m.metabolites if x.id == 'nadh_c'][0]\n",
    "met_objs['nadp'] = [x for x in m.metabolites if x.id == 'nadp_c'][0]\n",
    "met_objs['nadph'] = [x for x in m.metabolites if x.id == 'nadph_c'][0]\n",
    "#m.remove_metabolites([met_objs['nadp'],met_objs['nadph']])\n",
    "m,unusedmets = cobra.manipulation.delete.prune_unused_metabolites(m)"
   ]
  },
  {
   "cell_type": "code",
   "execution_count": 16,
   "id": "hearing-production",
   "metadata": {},
   "outputs": [
    {
     "name": "stderr",
     "output_type": "stream",
     "text": [
      "2021-08-29 17:19:00,844 - thermomodel_None - INFO - # Model preparation starting...\n"
     ]
    },
    {
     "name": "stdout",
     "output_type": "stream",
     "text": [
      "FBA Solution found : 0.814\n"
     ]
    },
    {
     "name": "stderr",
     "output_type": "stream",
     "text": [
      "2021-08-29 17:19:03,030 - thermomodel_None - WARNING - Warning : NULL/U\n",
      "2021-08-29 17:19:03,031 - thermomodel_None - WARNING - Warning : NULL/L\n",
      "2021-08-29 17:19:03,032 - thermomodel_None - WARNING - Warning : NULL/L\n",
      "2021-08-29 17:19:03,032 - thermomodel_None - WARNING - Warning : NULL/U\n",
      "2021-08-29 17:19:03,034 - thermomodel_None - WARNING - Warning : NULL/L\n",
      "2021-08-29 17:19:03,035 - thermomodel_None - WARNING - Warning : NULL/L\n",
      "2021-08-29 17:19:03,218 - thermomodel_None - WARNING - Warning : NULL/U\n",
      "2021-08-29 17:19:03,219 - thermomodel_None - WARNING - Warning : NULL/L\n",
      "2021-08-29 17:19:03,220 - thermomodel_None - WARNING - Warning : NULL/L\n",
      "2021-08-29 17:19:03,220 - thermomodel_None - WARNING - Warning : NULL/U\n",
      "2021-08-29 17:19:03,221 - thermomodel_None - WARNING - Warning : NULL/L\n",
      "2021-08-29 17:19:03,222 - thermomodel_None - WARNING - Warning : NULL/L\n",
      "2021-08-29 17:19:03,342 - thermomodel_None - WARNING - Warning : NULL/U\n",
      "2021-08-29 17:19:03,343 - thermomodel_None - WARNING - Warning : NULL/L\n",
      "2021-08-29 17:19:03,344 - thermomodel_None - WARNING - Warning : NULL/L\n",
      "2021-08-29 17:19:03,345 - thermomodel_None - WARNING - Warning : NULL/U\n",
      "2021-08-29 17:19:03,345 - thermomodel_None - WARNING - Warning : NULL/L\n",
      "2021-08-29 17:19:03,346 - thermomodel_None - WARNING - Warning : NULL/L\n",
      "2021-08-29 17:19:03,405 - thermomodel_None - WARNING - Warning : NULL/U\n",
      "2021-08-29 17:19:03,405 - thermomodel_None - WARNING - Warning : NULL/L\n",
      "2021-08-29 17:19:03,406 - thermomodel_None - WARNING - Warning : NULL/L\n",
      "2021-08-29 17:19:03,407 - thermomodel_None - WARNING - Warning : NULL/U\n",
      "2021-08-29 17:19:03,408 - thermomodel_None - WARNING - Warning : NULL/L\n",
      "2021-08-29 17:19:03,408 - thermomodel_None - WARNING - Warning : NULL/L\n",
      "2021-08-29 17:19:03,415 - thermomodel_None - WARNING - Warning : NULL/U\n",
      "2021-08-29 17:19:03,416 - thermomodel_None - WARNING - Warning : NULL/L\n",
      "2021-08-29 17:19:03,417 - thermomodel_None - WARNING - Warning : NULL/L\n",
      "2021-08-29 17:19:03,418 - thermomodel_None - WARNING - Warning : NULL/U\n",
      "2021-08-29 17:19:03,419 - thermomodel_None - WARNING - Warning : NULL/L\n",
      "2021-08-29 17:19:03,420 - thermomodel_None - WARNING - Warning : NULL/L\n",
      "2021-08-29 17:19:03,421 - thermomodel_None - WARNING - Warning : NULL/U\n",
      "2021-08-29 17:19:03,422 - thermomodel_None - WARNING - Warning : NULL/L\n",
      "2021-08-29 17:19:03,422 - thermomodel_None - WARNING - Warning : NULL/L\n",
      "2021-08-29 17:19:03,423 - thermomodel_None - WARNING - Warning : NULL/U\n",
      "2021-08-29 17:19:03,424 - thermomodel_None - WARNING - Warning : NULL/L\n",
      "2021-08-29 17:19:03,425 - thermomodel_None - WARNING - Warning : NULL/L\n",
      "2021-08-29 17:19:03,426 - thermomodel_None - WARNING - Warning : NULL/U\n",
      "2021-08-29 17:19:03,426 - thermomodel_None - WARNING - Warning : NULL/L\n",
      "2021-08-29 17:19:03,427 - thermomodel_None - WARNING - Warning : NULL/L\n",
      "2021-08-29 17:19:03,428 - thermomodel_None - WARNING - Warning : NULL/U\n",
      "2021-08-29 17:19:03,429 - thermomodel_None - WARNING - Warning : NULL/L\n",
      "2021-08-29 17:19:03,429 - thermomodel_None - WARNING - Warning : NULL/L\n",
      "2021-08-29 17:19:03,558 - thermomodel_None - INFO - # Model preparation done.\n",
      "2021-08-29 17:19:03,559 - thermomodel_None - INFO - # Model conversion starting...\n",
      "2021-08-29 17:19:49,137 - thermomodel_None - INFO - # Model conversion done.\n",
      "2021-08-29 17:19:49,138 - thermomodel_None - INFO - # Updating cobra_model variables...\n",
      "2021-08-29 17:19:49,174 - thermomodel_None - INFO - # cobra_model variables are up-to-date\n"
     ]
    },
    {
     "name": "stdout",
     "output_type": "stream",
     "text": [
      "                   value\n",
      "key                     \n",
      "name             iJO1366\n",
      "description      iJO1366\n",
      "num constraints    15034\n",
      "num variables      15538\n",
      "num metabolites     1807\n",
      "num reactions       2585\n",
      "                             value\n",
      "key                               \n",
      "num metabolites(thermo)       1550\n",
      "num reactions(thermo)         1824\n",
      "pct metabolites(thermo)  85.777532\n",
      "pct reactions(thermo)    70.560928\n"
     ]
    }
   ],
   "source": [
    "def apply_solver_settings(model, solver = solver):\n",
    "    model.solver = solver\n",
    "    # model.solver.configuration.verbosity = 1\n",
    "    model.solver.configuration.tolerances.feasibility = 1e-9\n",
    "    if solver == 'optlang_gurobi':\n",
    "        model.solver.problem.Params.NumericFocus = 3\n",
    "    model.solver.configuration.presolve = True\n",
    "\n",
    "apply_solver_settings(mytfa)\n",
    "\n",
    "\n",
    "## FBA\n",
    "fba_solution = cobra_model.optimize()\n",
    "fba_value = fba_solution.objective_value\n",
    "print('FBA Solution found : {0:.5g}'.format(fba_value))\n",
    "\n",
    "# fva = flux_variability_analysis(mytfa)\n",
    "\n",
    "## TFA conversion\n",
    "mytfa.prepare()\n",
    "mytfa.convert()#add_displacement = True)\n",
    "\n",
    "## Info on the cobra_model\n",
    "mytfa.print_info()"
   ]
  },
  {
   "cell_type": "code",
   "execution_count": 18,
   "id": "useful-worker",
   "metadata": {},
   "outputs": [],
   "source": [
    "computed_rxns = [x.id for x in mytfa.reactions if x.thermo['computed']]"
   ]
  },
  {
   "cell_type": "code",
   "execution_count": 26,
   "id": "hairy-roller",
   "metadata": {},
   "outputs": [
    {
     "data": {
      "text/plain": [
       "0.7230046948356808"
      ]
     },
     "execution_count": 26,
     "metadata": {},
     "output_type": "execute_result"
    }
   ],
   "source": [
    "len(set(converted_rxns).intersection(set(computed_rxns))) / len(converted_rxns)"
   ]
  },
  {
   "cell_type": "code",
   "execution_count": 44,
   "id": "therapeutic-turtle",
   "metadata": {},
   "outputs": [
    {
     "data": {
      "text/plain": [
       "{'3OAR100',\n",
       " '3OAR120',\n",
       " '3OAR121',\n",
       " '3OAR140',\n",
       " '3OAR141',\n",
       " '3OAR160',\n",
       " '3OAR161',\n",
       " '3OAR180',\n",
       " '3OAR181',\n",
       " '3OAR40',\n",
       " '3OAR60',\n",
       " '3OAR80',\n",
       " 'BSORx',\n",
       " 'BSORy',\n",
       " 'CDGR',\n",
       " 'EAR100x',\n",
       " 'EAR100y',\n",
       " 'EAR120x',\n",
       " 'EAR120y',\n",
       " 'EAR121x',\n",
       " 'EAR121y',\n",
       " 'EAR140x',\n",
       " 'EAR140y',\n",
       " 'EAR141x',\n",
       " 'EAR141y',\n",
       " 'EAR160x',\n",
       " 'EAR160y',\n",
       " 'EAR161x',\n",
       " 'EAR161y',\n",
       " 'EAR180x',\n",
       " 'EAR180y',\n",
       " 'EAR181x',\n",
       " 'EAR181y',\n",
       " 'EAR40x',\n",
       " 'EAR40y',\n",
       " 'EAR60x',\n",
       " 'EAR60y',\n",
       " 'EAR80x',\n",
       " 'EAR80y',\n",
       " 'EGMEACPR',\n",
       " 'EPMEACPR',\n",
       " 'Ec_biomass_iJO1366_WT_53p95M',\n",
       " 'Ec_biomass_iJO1366_core_53p95M',\n",
       " 'FLDR2',\n",
       " 'GLUTRR',\n",
       " 'LIPOS',\n",
       " 'MOADSUx',\n",
       " 'NHFRBO',\n",
       " 'NODOx',\n",
       " 'NODOy',\n",
       " 'OGMEACPR',\n",
       " 'OPMEACPR',\n",
       " 'OXCOAHDH',\n",
       " 'PACCOAE',\n",
       " 'POAACR',\n",
       " 'SELGTHR2',\n",
       " 'SELGTHR3',\n",
       " 'SHCHD2',\n",
       " 'THZPSN3'}"
      ]
     },
     "execution_count": 44,
     "metadata": {},
     "output_type": "execute_result"
    }
   ],
   "source": [
    "set(converted_rxns) - (set(computed_rxns))"
   ]
  },
  {
   "cell_type": "code",
   "execution_count": 38,
   "id": "successful-nirvana",
   "metadata": {},
   "outputs": [
    {
     "name": "stdout",
     "output_type": "stream",
     "text": [
      "Read LP format model from file /var/folders/17/58pxvfhj0gb_wz2nzgrzc6pc0000gn/T/tmpo_sxt2gx.lp\n",
      "Reading time = 0.02 seconds\n",
      ": 1807 rows, 5170 columns, 20334 nonzeros\n",
      "Read LP format model from file /var/folders/17/58pxvfhj0gb_wz2nzgrzc6pc0000gn/T/tmpzrvpe_zt.lp\n",
      "Reading time = 0.02 seconds\n",
      ": 1805 rows, 5164 columns, 20294 nonzeros\n"
     ]
    }
   ],
   "source": [
    "rxns = [x for x in converted_rxns if x not in ['Ec_biomass_iJO1366_WT_53p95M','Ec_biomass_iJO1366_core_53p95M']]\n",
    "\n",
    "wt_model = cobra_model.copy()\n",
    "nad_only_model = m.copy()\n",
    "\n",
    "for r in rxns:\n",
    "    if r in computed_rxns:\n",
    "        nad_only_model.reactions.get_by_id(r).lower_bound = -1000\n",
    "        nad_only_model.reactions.get_by_id(r).upper_bound = 1000\n",
    "        wt_model.reactions.get_by_id(r).lower_bound = -1000\n",
    "        wt_model.reactions.get_by_id(r).upper_bound = 1000\n"
   ]
  },
  {
   "cell_type": "code",
   "execution_count": 42,
   "id": "dried-laundry",
   "metadata": {},
   "outputs": [
    {
     "data": {
      "text/plain": [
       "1.0000013385537698"
      ]
     },
     "execution_count": 42,
     "metadata": {},
     "output_type": "execute_result"
    }
   ],
   "source": [
    "nad_only_model.slim_optimize() / wt_model.slim_optimize()"
   ]
  },
  {
   "cell_type": "code",
   "execution_count": 43,
   "id": "loving-pattern",
   "metadata": {},
   "outputs": [],
   "source": [
    "#m_unconstrained.summary()\n",
    "cobra.io.json.save_json_model(nad_only_model,'../assets/iJO1366_NAD_semi-unconstrained.json')\n",
    "cobra.io.json.save_json_model(wt_model,'../assets/iJO1366_WT_semi-unconstrained.json')"
   ]
  },
  {
   "cell_type": "code",
   "execution_count": 1,
   "id": "velvet-distance",
   "metadata": {},
   "outputs": [
    {
     "ename": "NameError",
     "evalue": "name 'r' is not defined",
     "output_type": "error",
     "traceback": [
      "\u001b[0;31m---------------------------------------------------------------------------\u001b[0m",
      "\u001b[0;31mNameError\u001b[0m                                 Traceback (most recent call last)",
      "\u001b[0;32m<ipython-input-1-d17ca1acc36c>\u001b[0m in \u001b[0;36m<module>\u001b[0;34m\u001b[0m\n\u001b[0;32m----> 1\u001b[0;31m \u001b[0mr\u001b[0m\u001b[0;34m\u001b[0m\u001b[0;34m\u001b[0m\u001b[0m\n\u001b[0m",
      "\u001b[0;31mNameError\u001b[0m: name 'r' is not defined"
     ]
    }
   ],
   "source": [
    "r"
   ]
  },
  {
   "cell_type": "code",
   "execution_count": null,
   "id": "random-reservoir",
   "metadata": {},
   "outputs": [],
   "source": []
  }
 ],
 "metadata": {
  "kernelspec": {
   "display_name": "Python 3.8 (coenzymes)",
   "language": "python",
   "name": "coenzymes"
  },
  "language_info": {
   "codemirror_mode": {
    "name": "ipython",
    "version": 3
   },
   "file_extension": ".py",
   "mimetype": "text/x-python",
   "name": "python",
   "nbconvert_exporter": "python",
   "pygments_lexer": "ipython3",
   "version": "3.8.5"
  }
 },
 "nbformat": 4,
 "nbformat_minor": 5
}
