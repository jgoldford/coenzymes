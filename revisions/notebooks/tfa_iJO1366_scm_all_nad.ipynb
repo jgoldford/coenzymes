{
 "cells": [
  {
   "cell_type": "code",
   "execution_count": 1,
   "id": "adult-attitude",
   "metadata": {},
   "outputs": [
    {
     "name": "stdout",
     "output_type": "stream",
     "text": [
      "Academic license - for non-commercial use only - expires 2022-08-19\n",
      "Using license file /Users/joshuagoldford/gurobi.lic\n",
      "Loading thermo data...\n",
      "Done !\n"
     ]
    }
   ],
   "source": [
    "#!/usr/bin/env python\n",
    "# -*- coding: utf-8 -*-\n",
    "import pandas as pd\n",
    "import cobra\n",
    "import pytfa\n",
    "import numpy as np\n",
    "\n",
    "from optlang.exceptions import SolverError\n",
    "\n",
    "#from cobra.core.model import SolverNotFound\n",
    "from cobra.flux_analysis import flux_variability_analysis\n",
    "from cobra.io import load_matlab_model, load_json_model\n",
    "\n",
    "\n",
    "from pytfa.io import import_matlab_model, load_thermoDB,                    \\\n",
    "                            read_lexicon, annotate_from_lexicon,            \\\n",
    "                            read_compartment_data, apply_compartment_data\n",
    "from pytfa.optim.relaxation import relax_dgo\n",
    "\n",
    "import pickle\n",
    "from pytfa.optim.variables import LogConcentration\n",
    "#thermo_database = '/projectnb2/bioinfor/SEGRE/goldford/CoenzymeSpecificity/pytfa/data/thermo_data.thermodb'\n",
    "#root_dir = '/projectnb/bioinfor/SEGRE/goldford/CoenzymeSpecificity/pytfa/tests/singleCoenzymeModel.08272021.v2'\n",
    "thermo_database = '../assets/thermo_data.thermodb'\n",
    "model_path = '../assets'\n",
    "\n",
    "CPLEX = 'optlang-cplex'\n",
    "GUROBI = 'optlang-gurobi'\n",
    "GLPK = 'optlang-glpk'\n",
    "solver = GUROBI\n",
    "\n",
    "# Load reaction DB\n",
    "print(\"Loading thermo data...\")\n",
    "thermo_data = load_thermoDB(thermo_database)\n",
    "\n",
    "print(\"Done !\")\n",
    "#biomass_rxn = 'BIOMASS_Ec_iJO1366_WT_53p95M'\n",
    "biomass_rxn = 'Ec_biomass_iJO1366_WT_53p95M'\n",
    "\n",
    "\n",
    "model_id = 'iJO1366_WT_semi-unconstrained.json'\n",
    "#model_id = 'iJO1366.json'\n",
    "\n",
    "# We import pre-compiled data as it is faster for bigger models\n",
    "cobra_model = load_json_model(model_path + '/' + model_id)\n",
    "\n"
   ]
  },
  {
   "cell_type": "code",
   "execution_count": 2,
   "id": "direct-strap",
   "metadata": {},
   "outputs": [],
   "source": [
    "from copy import deepcopy\n",
    "def removeDuplicateRxn(model):\n",
    "\tmodel2 = deepcopy(model)\n",
    "\ttoRemove = []\n",
    "\tfor eachReaction in model2.reactions:\n",
    "\n",
    "\t\tif eachReaction.id in toRemove:\n",
    "\t\t\tcontinue\n",
    "\n",
    "\t\tids = []\n",
    "\t\tstechiometry = []\n",
    "\t\tfor eachMet in eachReaction.metabolites:\n",
    "\t\t\tids.append(eachMet.id)\n",
    "\t\t\tstechiometry.append(eachReaction.metabolites[eachMet])\n",
    "\n",
    "\t\tremovedEachReaction = 0\n",
    "\t\tfor eachReaction2 in model2.reactions:\n",
    "\t\t\tif eachReaction2 == eachReaction or eachReaction2.id in toRemove or len(eachReaction2.metabolites) != len(eachReaction.metabolites):\n",
    "\t\t\t\tcontinue\n",
    "\t\t\t\n",
    "\t\t\tduplicate = 1\n",
    "\t\t\tfor eachMet in eachReaction2.metabolites:\n",
    "\t\t\t\n",
    "\t\t\t\tif eachMet.id not in ids:\n",
    "\t\t\t\t\tduplicate = 0\n",
    "\t\t\t\t\tbreak\n",
    "\t\t\t\t\t\n",
    "\t\t\t\tif abs(eachReaction2.metabolites[eachMet]) != abs(stechiometry[ids.index(eachMet.id)]):\n",
    "\t\t\t\t\tduplicate = 0\n",
    "\t\t\t\t\tbreak\n",
    "\t\t\t\n",
    "\t\t\tif duplicate == 1:\n",
    "\t\t\t\t\n",
    "\t\t\t\tif len(eachReaction2.genes) == 0 and len(eachReaction.genes) == 0:\n",
    "\t\t\t\t\tif eachReaction2.lower_bound < eachReaction.lower_bound:\n",
    "\t\t\t\t\t\ttoRemove.append(eachReaction.id)\n",
    "\t\t\t\t\t\tremovedEachReaction = 1\n",
    "\t\t\t\t\telse:\n",
    "\t\t\t\t\t\ttoRemove.append(eachReaction2.id)\n",
    "\t\t\t\t\n",
    "\t\t\t\telif len(eachReaction2.genes) == 0 and len(eachReaction.genes) != 0:\n",
    "\t\t\t\t\ttoRemove.append(eachReaction.id)\n",
    "\t\t\t\t\tremovedEachReaction = 1\n",
    "\t\t\t\t\t\n",
    "\t\t\t\telif len(eachReaction2.genes) != 0 and len(eachReaction.genes) == 0:\n",
    "\t\t\t\t\ttoRemove.append(eachReaction2.id)\n",
    "\t\t\t\t\n",
    "\t\t\t\telif len(eachReaction2.genes) != 0 and len(eachReaction.genes) != 0:\n",
    "\t\t\t\t\t\n",
    "\t\t\t\t\ttotalGenes = []\n",
    "\t\t\t\t\tfor eachGene in eachReaction2.genes:\n",
    "\t\t\t\t\t\ttotalGenes.append(eachGene.id)\n",
    "\t\t\t\t\tfor eachGene in eachReaction.genes:\n",
    "\t\t\t\t\t\tif eachGene.id not in totalGenes:\n",
    "\t\t\t\t\t\t\ttotalGenes.append(eachGene.id)\n",
    "\t\t\t\t\n",
    "\t\t\t\t\tif eachReaction2.lower_bound < eachReaction.lower_bound:\n",
    "\t\t\t\t\t\ttoRemove.append(eachReaction.id)\n",
    "\t\t\t\t\t\tif len(eachReaction2.genes) != len(totalGenes):\n",
    "\t\t\t\t\t\t\tstring = ''\n",
    "\t\t\t\t\t\t\tfor i in range(len(totalGenes)):\n",
    "\t\t\t\t\t\t\t\tstring = string + totalGenes[i]\n",
    "\t\t\t\t\t\t\t\tif i != len(totalGenes) -1:\n",
    "\t\t\t\t\t\t\t\t\tstring = string + \" or \"\n",
    "\t\t\t\t\t\t\teachReaction2.gene_reaction_rule = '( ' + string +' )'\n",
    "\t\t\t\t\t\tremovedEachReaction = 1\n",
    "\t\t\t\t\telse:\n",
    "\t\t\t\t\t\ttoRemove.append(eachReaction2.id)\n",
    "\t\t\t\t\t\tif len(eachReaction.genes) != len(totalGenes):\n",
    "\t\t\t\t\t\t\tstring = ''\n",
    "\t\t\t\t\t\t\tfor i in range(len(totalGenes)):\n",
    "\t\t\t\t\t\t\t\tstring = string + totalGenes[i]\n",
    "\t\t\t\t\t\t\t\tif i != len(totalGenes) -1:\n",
    "\t\t\t\t\t\t\t\t\tstring = string + \" or \"\n",
    "\t\t\t\t\t\t\teachReaction.gene_reaction_rule = '( ' + string +' )'\n",
    "\t\t\t\t\t\t\t\n",
    "\t\t\t\t\n",
    "\t\t\tif removedEachReaction == 1:\n",
    "\t\t\t\tbreak\n",
    "\t\t\n",
    "\n",
    "\tmodel2.remove_reactions(toRemove)\n",
    "\t\n",
    "\treturn [model2, toRemove]"
   ]
  },
  {
   "cell_type": "code",
   "execution_count": 4,
   "id": "respective-validity",
   "metadata": {},
   "outputs": [],
   "source": [
    "#cobra_model = load_json_model(model_path + '/' + model_id)\n",
    "exchange_rxns = [x.id for x in  cobra_model.reactions if x.id[0:3] == 'DM_']\n",
    "lb = []\n",
    "ub = []\n",
    "for e in exchange_rxns:\n",
    "    #cobra_model.reactions.get_by_id(e).lower_bound = 0\n",
    "    lb.append(cobra_model.reactions.get_by_id(e).lower_bound )\n",
    "    ub.append(cobra_model.reactions.get_by_id(e).upper_bound )\n",
    "    \n",
    "bounds = pd.DataFrame({'exchange': exchange_rxns, 'lb': lb, 'ub':ub})"
   ]
  },
  {
   "cell_type": "code",
   "execution_count": 5,
   "id": "stable-western",
   "metadata": {},
   "outputs": [],
   "source": [
    "changeMedia = False\n",
    "if changeMedia:\n",
    "    carbon_source = 'DM_glc_e'\n",
    "    oxygen = True\n",
    "    carbon_flux = 10\n",
    "    cobra_model.reactions.get_by_id('DM_glc_e').lower_bound = 0\n",
    "\n",
    "    cobra_model.reactions.get_by_id(carbon_source).lower_bound = -carbon_flux\n",
    "    if oxygen:\n",
    "        cobra_model.reactions.get_by_id('DM_o2_e').lower_bound = -1000\n",
    "    else:\n",
    "        cobra_model.reactions.get_by_id('DM_o2_e').lower_bound = 0\n"
   ]
  },
  {
   "cell_type": "code",
   "execution_count": 6,
   "id": "technical-credits",
   "metadata": {},
   "outputs": [],
   "source": [
    "lb = []\n",
    "ub = []\n",
    "exchange_rxns = [x.id for x in  cobra_model.reactions if x.id[0:3] == 'DM_']\n",
    "\n",
    "for e in exchange_rxns:\n",
    "    #cobra_model.reactions.get_by_id(e).lower_bound = 0\n",
    "    lb.append(cobra_model.reactions.get_by_id(e).lower_bound )\n",
    "    ub.append(cobra_model.reactions.get_by_id(e).upper_bound )\n",
    "    \n",
    "bounds = pd.DataFrame({'exchange': exchange_rxns, 'lb': lb, 'ub':ub})"
   ]
  },
  {
   "cell_type": "code",
   "execution_count": 7,
   "id": "continuing-edmonton",
   "metadata": {},
   "outputs": [],
   "source": [
    "#bounds.iloc[21:40]"
   ]
  },
  {
   "cell_type": "code",
   "execution_count": 8,
   "id": "cellular-helicopter",
   "metadata": {},
   "outputs": [],
   "source": [
    "#.slim_optimize()\n"
   ]
  },
  {
   "cell_type": "code",
   "execution_count": 9,
   "id": "prime-music",
   "metadata": {},
   "outputs": [],
   "source": [
    "#medium = ecoli.medium\n",
    "#medium.pop('EX_glc__D_e')\n",
    "#medium['EX_pyr_e'] = 10\n",
    "#ecoli.medium = medium"
   ]
  },
  {
   "cell_type": "code",
   "execution_count": 10,
   "id": "typical-scholar",
   "metadata": {},
   "outputs": [
    {
     "data": {
      "text/plain": [
       "24.71368225863309"
      ]
     },
     "execution_count": 10,
     "metadata": {},
     "output_type": "execute_result"
    }
   ],
   "source": [
    "cobra_model.slim_optimize()"
   ]
  },
  {
   "cell_type": "code",
   "execution_count": 11,
   "id": "harmful-truck",
   "metadata": {},
   "outputs": [
    {
     "name": "stdout",
     "output_type": "stream",
     "text": [
      "Read LP format model from file /var/folders/17/58pxvfhj0gb_wz2nzgrzc6pc0000gn/T/tmpo2t3cy95.lp\n",
      "Reading time = 0.02 seconds\n",
      ": 1807 rows, 5170 columns, 20334 nonzeros\n"
     ]
    },
    {
     "name": "stderr",
     "output_type": "stream",
     "text": [
      "2021-12-03 20:27:46,020 - thermomodel_None - INFO - # Model initialized with units kcal/mol and temperature 298.15 K\n",
      "2021-12-03 20:27:46,124 - thermomodel_None - INFO - # Model preparation starting...\n"
     ]
    },
    {
     "name": "stdout",
     "output_type": "stream",
     "text": [
      "FBA Solution found : 24.714\n"
     ]
    },
    {
     "name": "stderr",
     "output_type": "stream",
     "text": [
      "2021-12-03 20:27:48,300 - thermomodel_None - WARNING - Warning : NULL/U\n",
      "2021-12-03 20:27:48,301 - thermomodel_None - WARNING - Warning : NULL/L\n",
      "2021-12-03 20:27:48,302 - thermomodel_None - WARNING - Warning : NULL/L\n",
      "2021-12-03 20:27:48,303 - thermomodel_None - WARNING - Warning : NULL/U\n",
      "2021-12-03 20:27:48,304 - thermomodel_None - WARNING - Warning : NULL/L\n",
      "2021-12-03 20:27:48,305 - thermomodel_None - WARNING - Warning : NULL/L\n",
      "2021-12-03 20:27:48,494 - thermomodel_None - WARNING - Warning : NULL/U\n",
      "2021-12-03 20:27:48,495 - thermomodel_None - WARNING - Warning : NULL/L\n",
      "2021-12-03 20:27:48,496 - thermomodel_None - WARNING - Warning : NULL/L\n",
      "2021-12-03 20:27:48,496 - thermomodel_None - WARNING - Warning : NULL/U\n",
      "2021-12-03 20:27:48,498 - thermomodel_None - WARNING - Warning : NULL/L\n",
      "2021-12-03 20:27:48,498 - thermomodel_None - WARNING - Warning : NULL/L\n",
      "2021-12-03 20:27:48,627 - thermomodel_None - WARNING - Warning : NULL/U\n",
      "2021-12-03 20:27:48,627 - thermomodel_None - WARNING - Warning : NULL/L\n",
      "2021-12-03 20:27:48,628 - thermomodel_None - WARNING - Warning : NULL/L\n",
      "2021-12-03 20:27:48,629 - thermomodel_None - WARNING - Warning : NULL/U\n",
      "2021-12-03 20:27:48,630 - thermomodel_None - WARNING - Warning : NULL/L\n",
      "2021-12-03 20:27:48,631 - thermomodel_None - WARNING - Warning : NULL/L\n",
      "2021-12-03 20:27:48,685 - thermomodel_None - WARNING - Warning : NULL/U\n",
      "2021-12-03 20:27:48,686 - thermomodel_None - WARNING - Warning : NULL/L\n",
      "2021-12-03 20:27:48,687 - thermomodel_None - WARNING - Warning : NULL/L\n",
      "2021-12-03 20:27:48,688 - thermomodel_None - WARNING - Warning : NULL/U\n",
      "2021-12-03 20:27:48,688 - thermomodel_None - WARNING - Warning : NULL/L\n",
      "2021-12-03 20:27:48,689 - thermomodel_None - WARNING - Warning : NULL/L\n",
      "2021-12-03 20:27:48,690 - thermomodel_None - WARNING - Warning : NULL/U\n",
      "2021-12-03 20:27:48,690 - thermomodel_None - WARNING - Warning : NULL/L\n",
      "2021-12-03 20:27:48,692 - thermomodel_None - WARNING - Warning : NULL/L\n",
      "2021-12-03 20:27:48,693 - thermomodel_None - WARNING - Warning : NULL/U\n",
      "2021-12-03 20:27:48,693 - thermomodel_None - WARNING - Warning : NULL/L\n",
      "2021-12-03 20:27:48,694 - thermomodel_None - WARNING - Warning : NULL/L\n",
      "2021-12-03 20:27:48,696 - thermomodel_None - WARNING - Warning : NULL/U\n",
      "2021-12-03 20:27:48,697 - thermomodel_None - WARNING - Warning : NULL/L\n",
      "2021-12-03 20:27:48,698 - thermomodel_None - WARNING - Warning : NULL/L\n",
      "2021-12-03 20:27:48,699 - thermomodel_None - WARNING - Warning : NULL/U\n",
      "2021-12-03 20:27:48,699 - thermomodel_None - WARNING - Warning : NULL/L\n",
      "2021-12-03 20:27:48,700 - thermomodel_None - WARNING - Warning : NULL/L\n",
      "2021-12-03 20:27:48,701 - thermomodel_None - WARNING - Warning : NULL/U\n",
      "2021-12-03 20:27:48,701 - thermomodel_None - WARNING - Warning : NULL/L\n",
      "2021-12-03 20:27:48,702 - thermomodel_None - WARNING - Warning : NULL/L\n",
      "2021-12-03 20:27:48,703 - thermomodel_None - WARNING - Warning : NULL/U\n",
      "2021-12-03 20:27:48,703 - thermomodel_None - WARNING - Warning : NULL/L\n",
      "2021-12-03 20:27:48,704 - thermomodel_None - WARNING - Warning : NULL/L\n",
      "2021-12-03 20:27:48,817 - thermomodel_None - INFO - # Model preparation done.\n",
      "2021-12-03 20:27:48,818 - thermomodel_None - INFO - # Model conversion starting...\n",
      "2021-12-03 20:28:28,860 - thermomodel_None - INFO - # Model conversion done.\n",
      "2021-12-03 20:28:28,861 - thermomodel_None - INFO - # Updating cobra_model variables...\n",
      "2021-12-03 20:28:28,899 - thermomodel_None - INFO - # cobra_model variables are up-to-date\n"
     ]
    },
    {
     "name": "stdout",
     "output_type": "stream",
     "text": [
      "                       value\n",
      "key                         \n",
      "name             iJO1366[WT]\n",
      "description      iJO1366[WT]\n",
      "num constraints        15034\n",
      "num variables          15538\n",
      "num metabolites         1807\n",
      "num reactions           2585\n",
      "                             value\n",
      "key                               \n",
      "num metabolites(thermo)       1550\n",
      "num reactions(thermo)         1824\n",
      "pct metabolites(thermo)  85.777532\n",
      "pct reactions(thermo)    70.560928\n",
      "TFA Solution found : 0\n",
      "Read LP format model from file /var/folders/17/58pxvfhj0gb_wz2nzgrzc6pc0000gn/T/tmp2rbhe8xd.lp\n",
      "Reading time = 0.01 seconds\n",
      ": 1807 rows, 5170 columns, 20304 nonzeros\n"
     ]
    },
    {
     "name": "stderr",
     "output_type": "stream",
     "text": [
      "2021-12-03 20:28:38,298 - thermomodel_iJO1366[WT] - INFO - # Model initialized with units kcal/mol and temperature 298.15 K\n"
     ]
    },
    {
     "name": "stdout",
     "output_type": "stream",
     "text": [
      "Read LP format model from file /var/folders/17/58pxvfhj0gb_wz2nzgrzc6pc0000gn/T/tmpjt6gn_3h.lp\n",
      "Reading time = 0.02 seconds\n",
      ": 1807 rows, 5170 columns, 20304 nonzeros\n"
     ]
    },
    {
     "name": "stderr",
     "output_type": "stream",
     "text": [
      "2021-12-03 20:28:55,158 - thermomodel_iJO1366[WT] - INFO - # Model initialized with units kcal/mol and temperature 298.15 K\n",
      "2021-12-03 20:29:05,001 - thermomodel_iJO1366[WT] - INFO - Adding slack constraints\n",
      "adding slacks: 100%|██████████| 1824/1824 [00:46<00:00, 39.10it/s]\n",
      "2021-12-03 20:29:53,052 - thermomodel_iJO1366[WT] - INFO - Optimizing slack model\n",
      "2021-12-03 20:30:00,007 - thermomodel_iJO1366[WT] - INFO - Extracting relaxation\n",
      "applying slack: 100%|██████████| 2585/2585 [00:00<00:00, 116968.48it/s]\n",
      "2021-12-03 20:30:00,113 - thermomodel_iJO1366[WT] - INFO - Testing relaxation\n"
     ]
    },
    {
     "name": "stdout",
     "output_type": "stream",
     "text": [
      "Relaxation: \n",
      "              lb_in      ub_in  lb_change  ub_change     lb_out     ub_out\n",
      "AIRC3    -11.941085  -8.988685   0.000000   2.582409 -11.941085  -6.406276\n",
      "ARGSL     16.770653  18.636729   2.184361   0.000000  14.586293  18.636729\n",
      "ATPS4rpp  -9.518201  -8.083092   1.452217   0.000000 -10.970418  -8.083092\n",
      "GALT1     67.754735  69.018800  54.942183   0.000000  12.812552  69.018800\n",
      "HEPK2     44.872230  45.345690  32.059679   0.000000  12.812552  45.345690\n",
      "HEPT1     25.810459  27.074524  13.693847   0.000000  12.116612  27.074524\n",
      "MECDPS    26.135683  30.646876  11.549390   0.000000  14.586293  30.646876\n",
      "MTHTHFSs  13.297862  14.814659   6.891586   0.000000   6.406276  14.814659\n",
      "PRAIS     17.442418  22.161249   0.065725   0.000000  17.376694  22.161249\n",
      "relaxed TFA Solution found : 0.838\n",
      "FBA Solution found : 24.714\n",
      "TFA Solution found : 0.838\n",
      "Read LP format model from file /var/folders/17/58pxvfhj0gb_wz2nzgrzc6pc0000gn/T/tmpnb2xfsmd.lp\n",
      "Reading time = 0.02 seconds\n",
      ": 1807 rows, 5170 columns, 20304 nonzeros\n"
     ]
    },
    {
     "name": "stderr",
     "output_type": "stream",
     "text": [
      "2021-12-03 20:30:31,550 - thermomodel_RelaxedModel iJO1366[WT] - INFO - # Model initialized with units kcal/mol and temperature 298.15 K\n"
     ]
    }
   ],
   "source": [
    "lexicon = read_lexicon(model_path + '/iJO1366/lexicon.csv')\n",
    "compartment_data = read_compartment_data(model_path + '/iJO1366/compartment_data.json')\n",
    "\n",
    "# Initialize the cobra_model\n",
    "mytfa = pytfa.ThermoModel(thermo_data, cobra_model)\n",
    "\n",
    "# Annotate the cobra_model\n",
    "annotate_from_lexicon(mytfa, lexicon)\n",
    "apply_compartment_data(mytfa, compartment_data)\n",
    "\n",
    "\n",
    "mytfa.name = 'iJO1366[WT]'\n",
    "mytfa.solver = solver\n",
    "mytfa.objective = biomass_rxn\n",
    "\n",
    "# Solver settings\n",
    "\n",
    "def apply_solver_settings(model, solver = solver):\n",
    "    model.solver = solver\n",
    "    # model.solver.configuration.verbosity = 1\n",
    "    model.solver.configuration.tolerances.feasibility = 1e-9\n",
    "    if solver == 'optlang_gurobi':\n",
    "        model.solver.problem.Params.NumericFocus = 3\n",
    "    model.solver.configuration.presolve = True\n",
    "\n",
    "apply_solver_settings(mytfa)\n",
    "\n",
    "\n",
    "## FBA\n",
    "fba_solution = cobra_model.optimize()\n",
    "fba_value = fba_solution.objective_value\n",
    "print('FBA Solution found : {0:.5g}'.format(fba_value))\n",
    "\n",
    "# fva = flux_variability_analysis(mytfa)\n",
    "\n",
    "## TFA conversion\n",
    "mytfa.prepare()\n",
    "mytfa.convert()#add_displacement = True)\n",
    "\n",
    "## Info on the cobra_model\n",
    "mytfa.print_info()\n",
    "\n",
    "## Optimality\n",
    "tfa_solution = mytfa.optimize()\n",
    "tfa_value = tfa_solution.objective_value\n",
    "print('TFA Solution found : {0:.5g}'.format(tfa_value))\n",
    "\n",
    "# It might happen that the model is infeasible. In this case, we can relax \n",
    "# thermodynamics constraints:\n",
    "\n",
    "if tfa_value < 0.01:\n",
    "    \n",
    "    from pytfa.optim.relaxation import relax_dgo\n",
    "    #mytfa.reactions.get_by_id(biomass_rxn).lower_bound = 0.5*fba_value\n",
    "    mytfa.reactions.get_by_id(biomass_rxn).lower_bound = 0.5\n",
    "    relaxed_model, slack_model, relax_table = relax_dgo(mytfa)\n",
    "    original_model, mytfa = mytfa, relaxed_model\n",
    "    print('Relaxation: ')\n",
    "    print(relax_table)\n",
    "    \n",
    "    tfa_solution = mytfa.optimize()\n",
    "    tfa_value = tfa_solution.objective_value\n",
    "\n",
    "    print('relaxed TFA Solution found : {0:.5g}'.format(tfa_value))\n",
    "\n",
    "# Report\n",
    "print('FBA Solution found : {0:.5g}'.format(fba_value))\n",
    "print('TFA Solution found : {0:.5g}'.format(tfa_value))\n",
    "\n",
    "double_coenzyme_models = {}\n",
    "z = mytfa.copy()\n",
    "double_coenzyme_models['tmodel'] = z\n",
    "double_coenzyme_models['tmodel-maxGrowth'] = tfa_value\n",
    "double_coenzyme_models['tmodel-solution'] = tfa_solution"
   ]
  },
  {
   "cell_type": "code",
   "execution_count": 13,
   "id": "macro-mexican",
   "metadata": {},
   "outputs": [],
   "source": [
    "relax_table.to_csv('pyTFA.relaxation.csv')"
   ]
  },
  {
   "cell_type": "markdown",
   "id": "specified-dryer",
   "metadata": {},
   "source": [
    "              lb_in      ub_in  lb_change  ub_change     lb_out     ub_out\n",
    "AIRC3    -11.941085  -8.988685   0.000000   2.582409 -11.941085  -6.406276\n",
    "ARGSL     16.770653  18.636729   2.184361   0.000000  14.586293  18.636729\n",
    "ATPS4rpp  -9.518201  -8.083092   1.452217   0.000000 -10.970418  -8.083092\n",
    "GALT1     67.754735  69.018800  54.942183   0.000000  12.812552  69.018800\n",
    "HEPK2     44.872230  45.345690  32.059679   0.000000  12.812552  45.345690\n",
    "HEPT1     25.810459  27.074524  13.693847   0.000000  12.116612  27.074524\n",
    "MECDPS    26.135683  30.646876  11.549390   0.000000  14.586293  30.646876\n",
    "MTHTHFSs  13.297862  14.814659   6.891586   0.000000   6.406276  14.814659\n",
    "PRAIS     17.442418  22.161249   0.065725   0.000000  17.376694  22.161249\n",
    "relaxed TFA Solution found : 0.838\n",
    "FBA Solution found : 24.714\n",
    "TFA Solution found : 0.838\n",
    "Read LP format model from file /var/folders/17/58pxvfhj0gb_wz2nzgrzc6"
   ]
  },
  {
   "cell_type": "code",
   "execution_count": 73,
   "id": "laden-child",
   "metadata": {},
   "outputs": [],
   "source": [
    "rxn_nad = [x for x in gene_set.reaction.tolist() if x in tfa_solution_wt.fluxes.index]"
   ]
  },
  {
   "cell_type": "code",
   "execution_count": 77,
   "id": "resident-buffer",
   "metadata": {},
   "outputs": [
    {
     "data": {
      "text/html": [
       "<div>\n",
       "<style scoped>\n",
       "    .dataframe tbody tr th:only-of-type {\n",
       "        vertical-align: middle;\n",
       "    }\n",
       "\n",
       "    .dataframe tbody tr th {\n",
       "        vertical-align: top;\n",
       "    }\n",
       "\n",
       "    .dataframe thead th {\n",
       "        text-align: right;\n",
       "    }\n",
       "</style>\n",
       "<table border=\"1\" class=\"dataframe\">\n",
       "  <thead>\n",
       "    <tr style=\"text-align: right;\">\n",
       "      <th></th>\n",
       "      <th>fluxes</th>\n",
       "    </tr>\n",
       "  </thead>\n",
       "  <tbody>\n",
       "    <tr>\n",
       "      <th>GLUDy</th>\n",
       "      <td>-6.377732</td>\n",
       "    </tr>\n",
       "    <tr>\n",
       "      <th>GLYCDx</th>\n",
       "      <td>-3.313450</td>\n",
       "    </tr>\n",
       "    <tr>\n",
       "      <th>ME1</th>\n",
       "      <td>-2.008863</td>\n",
       "    </tr>\n",
       "    <tr>\n",
       "      <th>KARA1</th>\n",
       "      <td>-0.711911</td>\n",
       "    </tr>\n",
       "    <tr>\n",
       "      <th>GLYCL</th>\n",
       "      <td>-0.576520</td>\n",
       "    </tr>\n",
       "    <tr>\n",
       "      <th>...</th>\n",
       "      <td>...</td>\n",
       "    </tr>\n",
       "    <tr>\n",
       "      <th>PDH</th>\n",
       "      <td>2.966708</td>\n",
       "    </tr>\n",
       "    <tr>\n",
       "      <th>G3PD2</th>\n",
       "      <td>3.177993</td>\n",
       "    </tr>\n",
       "    <tr>\n",
       "      <th>GAPD</th>\n",
       "      <td>10.027444</td>\n",
       "    </tr>\n",
       "    <tr>\n",
       "      <th>GND</th>\n",
       "      <td>11.875626</td>\n",
       "    </tr>\n",
       "    <tr>\n",
       "      <th>G6PDH2r</th>\n",
       "      <td>11.875626</td>\n",
       "    </tr>\n",
       "  </tbody>\n",
       "</table>\n",
       "<p>94 rows × 1 columns</p>\n",
       "</div>"
      ],
      "text/plain": [
       "            fluxes\n",
       "GLUDy    -6.377732\n",
       "GLYCDx   -3.313450\n",
       "ME1      -2.008863\n",
       "KARA1    -0.711911\n",
       "GLYCL    -0.576520\n",
       "...            ...\n",
       "PDH       2.966708\n",
       "G3PD2     3.177993\n",
       "GAPD     10.027444\n",
       "GND      11.875626\n",
       "G6PDH2r  11.875626\n",
       "\n",
       "[94 rows x 1 columns]"
      ]
     },
     "execution_count": 77,
     "metadata": {},
     "output_type": "execute_result"
    }
   ],
   "source": [
    "pd.DataFrame(tfa_solution_wt.fluxes.loc[rxn_nad]).sort_values('fluxes')"
   ]
  },
  {
   "cell_type": "code",
   "execution_count": 102,
   "id": "latin-provider",
   "metadata": {},
   "outputs": [],
   "source": [
    "S = cobra.util.array.create_stoichiometric_matrix(cobra_model)\n",
    "met_names = [x.id for x in cobra_model.metabolites]\n",
    "rxn_names = [x.id for x in cobra_model.reactions]\n",
    "S = pd.DataFrame(S,index=met_names,columns=rxn_names)"
   ]
  },
  {
   "cell_type": "code",
   "execution_count": 112,
   "id": "cellular-latin",
   "metadata": {},
   "outputs": [],
   "source": [
    "g = S[rxn_nad].T.any()\n",
    "mets_involved = g[g].index.tolist()\n",
    "S_n = S.loc[mets_involved][rxn_nad]"
   ]
  },
  {
   "cell_type": "code",
   "execution_count": 119,
   "id": "unavailable-owner",
   "metadata": {},
   "outputs": [
    {
     "data": {
      "text/plain": [
       "<AxesSubplot:>"
      ]
     },
     "execution_count": 119,
     "metadata": {},
     "output_type": "execute_result"
    },
    {
     "data": {
      "image/png": "[encoded data removed]",
      "text/plain": [
       "<Figure size 432x288 with 2 Axes>"
      ]
     },
     "metadata": {
      "needs_background": "light"
     },
     "output_type": "display_data"
    }
   ],
   "source": [
    "sns.heatmap(S_n)"
   ]
  },
  {
   "cell_type": "code",
   "execution_count": 9,
   "id": "yellow-bleeding",
   "metadata": {},
   "outputs": [],
   "source": [
    "def single_coenzyme_transform(model,reaction_id):\n",
    "    \n",
    "    met = {}\n",
    "    met['nad'] = np.where([x.id == 'nad_c' for x in model.metabolites])[0][0]\n",
    "    met['nadp'] = np.where([x.id == 'nadp_c' for x in model.metabolites])[0][0]\n",
    "    met['nadh'] = np.where([x.id == 'nadh_c' for x in model.metabolites])[0][0]\n",
    "    met['nadph'] = np.where([x.id == 'nadph_c' for x in model.metabolites])[0][0]\n",
    "\n",
    "    met_objs = {}\n",
    "    met_objs['nad'] = [x for x in model.metabolites if x.id == 'nad_c'][0]\n",
    "    met_objs['nadh'] = [x for x in model.metabolites if x.id == 'nadh_c'][0]\n",
    "    met_objs['nadp'] = [x for x in model.metabolites if x.id == 'nadp_c'][0]\n",
    "    met_objs['nadph'] = [x for x in model.metabolites if x.id == 'nadph_c'][0]\n",
    "    \n",
    "    rxn = [x for x in model.reactions if x.id == reaction_id][0].copy()\n",
    "    # make a new dictionary with coenzyme swapped\n",
    "    v = {x:y for x,y in rxn.metabolites.items() if x.id in [x + '_c' for x in list(met)]}\n",
    "    \n",
    "    nad_stoich = 0;\n",
    "    nadh_stoich  = 0;\n",
    "    set([x.id for x in m.reactions.get_by_id(rxnid).metabolites])\n",
    "    if len(v) > 1:\n",
    "        v2 = {}\n",
    "        for x,y in v.items():\n",
    "            if x.id == 'nadph_c':\n",
    "                nadh_stoich = nadh_stoich + y \n",
    "                #v2[met_objs['nadh']] = y\n",
    "            elif x.id == 'nadp_c':\n",
    "                nad_stoich = nad_stoich + y \n",
    "                #v2[met_objs['nad']] = y\n",
    "            elif x.id == 'nadh_c':\n",
    "                nadh_stoich = nadh_stoich + y \n",
    "                #v2[met_objs['nadph']] = y\n",
    "            elif x.id == 'nad_c':\n",
    "                nad_stoich = nad_stoich + y \n",
    "                #v2[met_objs['nadp']] = y\n",
    "\n",
    "        v2[met_objs['nad']] = nad_stoich\n",
    "        v2[met_objs['nadh']] = nadh_stoich\n",
    "\n",
    "        rxn.subtract_metabolites(v)\n",
    "        rxn.add_metabolites(v2)\n",
    "        #rxn.id = rxn.id + '[condensed]'\n",
    "        # keep old reaction ID\n",
    "        #print('adding new reaction '+ rxn.id)\n",
    "        model.remove_reactions([x for x in model.reactions if x.id == reaction_id][0])\n",
    "        model.add_reaction(rxn)\n",
    "        coverted = True\n",
    "        return model,coverted\n",
    "    else:\n",
    "        coverted = False\n",
    "        return model,coverted"
   ]
  },
  {
   "cell_type": "code",
   "execution_count": 10,
   "id": "cloudy-confusion",
   "metadata": {},
   "outputs": [
    {
     "name": "stdout",
     "output_type": "stream",
     "text": [
      "Read LP format model from file /var/folders/17/58pxvfhj0gb_wz2nzgrzc6pc0000gn/T/tmplrqrdvxl.lp\n",
      "Reading time = 0.02 seconds\n",
      ": 1807 rows, 5170 columns, 20304 nonzeros\n"
     ]
    },
    {
     "name": "stderr",
     "output_type": "stream",
     "text": [
      "2021-10-28 15:56:12,583 - thermomodel_RelaxedModel iJO1366[WT] - INFO - # Model initialized with units kcal/mol and temperature 298.15 K\n",
      "/Users/joshuagoldford/opt/miniconda3/envs/coenzymes/lib/python3.8/site-packages/cobra/core/model.py:745: UserWarning: need to pass in a list\n",
      "  warn(\"need to pass in a list\")\n"
     ]
    },
    {
     "name": "stdout",
     "output_type": "stream",
     "text": [
      "Read LP format model from file /var/folders/17/58pxvfhj0gb_wz2nzgrzc6pc0000gn/T/tmp4eyfzg7_.lp\n",
      "Reading time = 0.02 seconds\n",
      ": 1807 rows, 5162 columns, 20260 nonzeros\n"
     ]
    },
    {
     "name": "stderr",
     "output_type": "stream",
     "text": [
      "2021-10-28 15:57:09,520 - thermomodel_RelaxedModel iJO1366[NAD] - INFO - # Model initialized with units kcal/mol and temperature 298.15 K\n"
     ]
    }
   ],
   "source": [
    "m  = z.copy()\n",
    "\n",
    "rxns_to_remove = ['NADTRHD','NADPPPS','NADK','THD2pp']\n",
    "rxn_ids = [x.id for x in m.reactions]\n",
    "\n",
    "#m.remove_reactions([x for x in m.reactions if x.id == 'NADTRHD'][0])\n",
    "#m.remove_reactions([x for x in m.reactions if x.id == 'NADPPPS'][0])\n",
    "#m.remove_reactions([x for x in m.reactions if x.id == 'NADK'][0])\n",
    "#m.remove_reactions([x for x in m.reactions if x.id in rxns_to_remove][0])\n",
    "\n",
    "m.remove_reactions(rxns_to_remove)\n",
    "\n",
    "rxn_ids = [x for x in rxn_ids if x not in rxns_to_remove]\n",
    "#rxn_ids = [x for x in rxn_ids if x not in ['Ec_biomass_iJO1366_WT_53p95M','Ec_biomass_iJO1366_core_53p95M']]\n",
    "\n",
    "converted_rxns = []\n",
    "for rxnid in rxn_ids:\n",
    "    m,conv = single_coenzyme_transform(m,rxnid)\n",
    "    if conv:\n",
    "        converted_rxns.append(rxnid)\n",
    "\n",
    "        \n",
    "#m.remove_reactions([x for x in m.reactions if x.id == 'NADTRHD[condensed]'][0])\n",
    "#m.remove_reactions([x for x in m.reactions if x.id == 'NADPPPS[condensed]'][0])\n",
    "#m.remove_reactions([x for x in m.reactions if x.id == 'NADK[condensed]'][0])\n",
    "#m.remove_reactions([x for x in m.reactions if x.id == 'NADDP'][0])\n",
    "\n",
    "m.id = 'iJO1366[NAD]'\n",
    "#m.objective = 'BIOMASS_Ec_iJO1366_WT_53p95M'\n",
    "m.objective = 'Ec_biomass_iJO1366_WT_53p95M'\n",
    "m.name = 'RelaxedModel iJO1366[NAD]'\n",
    "m.description = 'RelaxedModel iJO1366[NAD]'\n",
    "\n",
    "met_objs = {}\n",
    "met_objs['nad'] = [x for x in m.metabolites if x.id == 'nad_c'][0]\n",
    "met_objs['nadh'] = [x for x in m.metabolites if x.id == 'nadh_c'][0]\n",
    "met_objs['nadp'] = [x for x in m.metabolites if x.id == 'nadp_c'][0]\n",
    "met_objs['nadph'] = [x for x in m.metabolites if x.id == 'nadph_c'][0]\n",
    "#m.remove_metabolites([met_objs['nadp'],met_objs['nadph']])\n",
    "m,unusedmets = cobra.manipulation.delete.prune_unused_metabolites(m)"
   ]
  },
  {
   "cell_type": "code",
   "execution_count": 11,
   "id": "persistent-system",
   "metadata": {},
   "outputs": [
    {
     "name": "stdout",
     "output_type": "stream",
     "text": [
      "Read LP format model from file /var/folders/17/58pxvfhj0gb_wz2nzgrzc6pc0000gn/T/tmpy6ji62wv.lp\n",
      "Reading time = 0.02 seconds\n",
      ": 1805 rows, 5162 columns, 20260 nonzeros\n"
     ]
    },
    {
     "name": "stderr",
     "output_type": "stream",
     "text": [
      "2021-10-28 16:03:05,111 - thermomodel_RelaxedModel iJO1366[NAD] - INFO - # Model initialized with units kcal/mol and temperature 298.15 K\n"
     ]
    }
   ],
   "source": [
    "sc_model, removedReactions = removeDuplicateRxn(m)"
   ]
  },
  {
   "cell_type": "code",
   "execution_count": 12,
   "id": "intensive-billion",
   "metadata": {
    "collapsed": true,
    "jupyter": {
     "outputs_hidden": true
    }
   },
   "outputs": [
    {
     "name": "stderr",
     "output_type": "stream",
     "text": [
      "2021-10-28 16:03:21,621 - thermomodel_RelaxedModel iJO1366[NAD] - INFO - # Model preparation starting...\n",
      "2021-10-28 16:03:23,753 - thermomodel_RelaxedModel iJO1366[NAD] - WARNING - Warning : NULL/U\n",
      "2021-10-28 16:03:23,753 - thermomodel_RelaxedModel iJO1366[NAD] - WARNING - Warning : NULL/L\n",
      "2021-10-28 16:03:23,754 - thermomodel_RelaxedModel iJO1366[NAD] - WARNING - Warning : NULL/L\n",
      "2021-10-28 16:03:23,755 - thermomodel_RelaxedModel iJO1366[NAD] - WARNING - Warning : NULL/U\n",
      "2021-10-28 16:03:23,755 - thermomodel_RelaxedModel iJO1366[NAD] - WARNING - Warning : NULL/L\n",
      "2021-10-28 16:03:23,756 - thermomodel_RelaxedModel iJO1366[NAD] - WARNING - Warning : NULL/L\n",
      "2021-10-28 16:03:23,870 - thermomodel_RelaxedModel iJO1366[NAD] - WARNING - Warning : NULL/U\n",
      "2021-10-28 16:03:23,871 - thermomodel_RelaxedModel iJO1366[NAD] - WARNING - Warning : NULL/L\n",
      "2021-10-28 16:03:23,871 - thermomodel_RelaxedModel iJO1366[NAD] - WARNING - Warning : NULL/L\n",
      "2021-10-28 16:03:23,872 - thermomodel_RelaxedModel iJO1366[NAD] - WARNING - Warning : NULL/U\n",
      "2021-10-28 16:03:23,873 - thermomodel_RelaxedModel iJO1366[NAD] - WARNING - Warning : NULL/L\n",
      "2021-10-28 16:03:23,874 - thermomodel_RelaxedModel iJO1366[NAD] - WARNING - Warning : NULL/L\n",
      "2021-10-28 16:03:23,920 - thermomodel_RelaxedModel iJO1366[NAD] - WARNING - Warning : NULL/U\n",
      "2021-10-28 16:03:23,921 - thermomodel_RelaxedModel iJO1366[NAD] - WARNING - Warning : NULL/L\n",
      "2021-10-28 16:03:23,921 - thermomodel_RelaxedModel iJO1366[NAD] - WARNING - Warning : NULL/L\n",
      "2021-10-28 16:03:23,922 - thermomodel_RelaxedModel iJO1366[NAD] - WARNING - Warning : NULL/U\n",
      "2021-10-28 16:03:23,923 - thermomodel_RelaxedModel iJO1366[NAD] - WARNING - Warning : NULL/L\n",
      "2021-10-28 16:03:23,923 - thermomodel_RelaxedModel iJO1366[NAD] - WARNING - Warning : NULL/L\n",
      "2021-10-28 16:03:23,924 - thermomodel_RelaxedModel iJO1366[NAD] - WARNING - Warning : NULL/U\n",
      "2021-10-28 16:03:23,925 - thermomodel_RelaxedModel iJO1366[NAD] - WARNING - Warning : NULL/L\n",
      "2021-10-28 16:03:23,925 - thermomodel_RelaxedModel iJO1366[NAD] - WARNING - Warning : NULL/L\n",
      "2021-10-28 16:03:23,926 - thermomodel_RelaxedModel iJO1366[NAD] - WARNING - Warning : NULL/U\n",
      "2021-10-28 16:03:23,926 - thermomodel_RelaxedModel iJO1366[NAD] - WARNING - Warning : NULL/L\n",
      "2021-10-28 16:03:23,927 - thermomodel_RelaxedModel iJO1366[NAD] - WARNING - Warning : NULL/L\n",
      "2021-10-28 16:03:23,928 - thermomodel_RelaxedModel iJO1366[NAD] - WARNING - Warning : NULL/U\n",
      "2021-10-28 16:03:23,928 - thermomodel_RelaxedModel iJO1366[NAD] - WARNING - Warning : NULL/L\n",
      "2021-10-28 16:03:23,929 - thermomodel_RelaxedModel iJO1366[NAD] - WARNING - Warning : NULL/L\n",
      "2021-10-28 16:03:23,930 - thermomodel_RelaxedModel iJO1366[NAD] - WARNING - Warning : NULL/U\n",
      "2021-10-28 16:03:23,930 - thermomodel_RelaxedModel iJO1366[NAD] - WARNING - Warning : NULL/L\n",
      "2021-10-28 16:03:23,931 - thermomodel_RelaxedModel iJO1366[NAD] - WARNING - Warning : NULL/L\n",
      "2021-10-28 16:03:23,932 - thermomodel_RelaxedModel iJO1366[NAD] - WARNING - Warning : NULL/U\n",
      "2021-10-28 16:03:23,933 - thermomodel_RelaxedModel iJO1366[NAD] - WARNING - Warning : NULL/L\n",
      "2021-10-28 16:03:23,934 - thermomodel_RelaxedModel iJO1366[NAD] - WARNING - Warning : NULL/L\n",
      "2021-10-28 16:03:23,935 - thermomodel_RelaxedModel iJO1366[NAD] - WARNING - Warning : NULL/U\n",
      "2021-10-28 16:03:23,936 - thermomodel_RelaxedModel iJO1366[NAD] - WARNING - Warning : NULL/L\n",
      "2021-10-28 16:03:23,937 - thermomodel_RelaxedModel iJO1366[NAD] - WARNING - Warning : NULL/L\n",
      "2021-10-28 16:03:24,055 - thermomodel_RelaxedModel iJO1366[NAD] - WARNING - Warning : NULL/U\n",
      "2021-10-28 16:03:24,055 - thermomodel_RelaxedModel iJO1366[NAD] - WARNING - Warning : NULL/L\n",
      "2021-10-28 16:03:24,056 - thermomodel_RelaxedModel iJO1366[NAD] - WARNING - Warning : NULL/L\n",
      "2021-10-28 16:03:24,057 - thermomodel_RelaxedModel iJO1366[NAD] - WARNING - Warning : NULL/U\n",
      "2021-10-28 16:03:24,058 - thermomodel_RelaxedModel iJO1366[NAD] - WARNING - Warning : NULL/L\n",
      "2021-10-28 16:03:24,058 - thermomodel_RelaxedModel iJO1366[NAD] - WARNING - Warning : NULL/L\n",
      "2021-10-28 16:03:24,096 - thermomodel_RelaxedModel iJO1366[NAD] - INFO - # Model preparation done.\n",
      "2021-10-28 16:03:24,097 - thermomodel_RelaxedModel iJO1366[NAD] - INFO - # Model conversion starting...\n",
      "2021-10-28 16:03:37,472 - thermomodel_RelaxedModel iJO1366[NAD] - INFO - # Model conversion done.\n",
      "2021-10-28 16:03:37,473 - thermomodel_RelaxedModel iJO1366[NAD] - INFO - # Updating cobra_model variables...\n",
      "2021-10-28 16:03:37,520 - thermomodel_RelaxedModel iJO1366[NAD] - INFO - # cobra_model variables are up-to-date\n"
     ]
    },
    {
     "name": "stdout",
     "output_type": "stream",
     "text": [
      "                                     value\n",
      "key                                       \n",
      "name             RelaxedModel iJO1366[NAD]\n",
      "description      RelaxedModel iJO1366[NAD]\n",
      "num constraints                      14714\n",
      "num variables                        15200\n",
      "num metabolites                       1805\n",
      "num reactions                         2523\n",
      "                             value\n",
      "key                               \n",
      "num metabolites(thermo)       1548\n",
      "num reactions(thermo)         1780\n",
      "pct metabolites(thermo)  85.761773\n",
      "pct reactions(thermo)    70.550931\n"
     ]
    }
   ],
   "source": [
    "## re-prepare the TFA model\n",
    "sc_model.prepare()\n",
    "sc_model.convert()#add_displacement = True)\n",
    "## Info on the cobra_model\n",
    "sc_model.print_info()"
   ]
  },
  {
   "cell_type": "code",
   "execution_count": 13,
   "id": "optimum-nomination",
   "metadata": {},
   "outputs": [
    {
     "name": "stdout",
     "output_type": "stream",
     "text": [
      "TFA Solution found : 0.72479\n"
     ]
    }
   ],
   "source": [
    "tfa_solution_sc = sc_model.optimize()\n",
    "tfa_value_sc = tfa_solution_sc.objective_value\n",
    "# Report\n",
    "print('TFA Solution found : {0:.5g}'.format(tfa_value_sc))"
   ]
  },
  {
   "cell_type": "code",
   "execution_count": 14,
   "id": "turkish-jacket",
   "metadata": {},
   "outputs": [
    {
     "name": "stdout",
     "output_type": "stream",
     "text": [
      "TFA Solution found : 0.838\n"
     ]
    }
   ],
   "source": [
    "tfa_solution_wt = z.optimize()\n",
    "tfa_value_wt = tfa_solution_wt.objective_value\n",
    "# Report\n",
    "print('TFA Solution found : {0:.5g}'.format(tfa_value_wt))"
   ]
  },
  {
   "cell_type": "code",
   "execution_count": 53,
   "id": "fallen-valuation",
   "metadata": {},
   "outputs": [],
   "source": [
    "#tfa_solution_sc.fluxes.to_csv('tfa.sc.pyruvate.fluxes.21Oct2021.csv')\n",
    "#tfa_solution_wt.fluxes.to_csv('tfa.wt.pyruvate.fluxes.21Oct2021.csv')"
   ]
  },
  {
   "cell_type": "code",
   "execution_count": 15,
   "id": "interpreted-nitrogen",
   "metadata": {},
   "outputs": [],
   "source": [
    "tfa_res = pd.DataFrame({'model': ['WT','SC'], 'max growth rate' : [tfa_value_wt,tfa_value_sc]})"
   ]
  },
  {
   "cell_type": "code",
   "execution_count": 18,
   "id": "wired-consequence",
   "metadata": {},
   "outputs": [],
   "source": [
    "import seaborn as sns\n",
    "import matplotlib.pyplot as plt\n",
    "plt.rcParams['font.family'] = 'Arial'\n",
    "plt.rcParams['font.size'] = 10"
   ]
  },
  {
   "cell_type": "code",
   "execution_count": 20,
   "id": "biological-marker",
   "metadata": {},
   "outputs": [
    {
     "data": {
      "image/png": "[encoded data removed]",
      "text/plain": [
       "<Figure size 432x288 with 1 Axes>"
      ]
     },
     "metadata": {
      "needs_background": "light"
     },
     "output_type": "display_data"
    }
   ],
   "source": [
    "sns.barplot(x='model',y='max growth rate',data=tfa_res,palette='Set1')\n",
    "#plt.title('iJO1366')\n",
    "plt.savefig('iJO1366.wt_sc.glucose.barplot.svg')"
   ]
  },
  {
   "cell_type": "code",
   "execution_count": 103,
   "id": "improving-simpson",
   "metadata": {},
   "outputs": [],
   "source": [
    "#help(m.optimize())\n",
    "sol_pfba = cobra.flux_analysis.pfba(m)"
   ]
  },
  {
   "cell_type": "code",
   "execution_count": 21,
   "id": "everyday-nomination",
   "metadata": {},
   "outputs": [],
   "source": [
    "m.description = 'RelaxedModel iJO1366[NAD]'"
   ]
  },
  {
   "cell_type": "code",
   "execution_count": 54,
   "id": "apart-joining",
   "metadata": {},
   "outputs": [
    {
     "data": {
      "text/plain": [
       "<AxesSubplot:xlabel='WT', ylabel='SC'>"
      ]
     },
     "execution_count": 54,
     "metadata": {},
     "output_type": "execute_result"
    },
    {
     "data": {
      "image/png": "[encoded data removed]",
      "text/plain": [
       "<Figure size 432x288 with 1 Axes>"
      ]
     },
     "metadata": {
      "needs_background": "light"
     },
     "output_type": "display_data"
    }
   ],
   "source": [
    "wt_fluxes = pd.DataFrame(tfa_solution_wt.fluxes)\n",
    "sc_fluxes = pd.DataFrame(tfa_solution_sc.fluxes)\n",
    "wt_fluxes.columns = ['WT']\n",
    "sc_fluxes.columns = ['SC']\n",
    "res = wt_fluxes.join(sc_fluxes)\n",
    "sns.scatterplot(x='WT',y='SC',data=res)\n",
    "#plt.xlim([-40,40])\n",
    "#plt.ylim([-40,40])\n"
   ]
  },
  {
   "cell_type": "code",
   "execution_count": 34,
   "id": "spiritual-people",
   "metadata": {},
   "outputs": [],
   "source": [
    "res = wt_fluxes.join(sc_fluxes)"
   ]
  },
  {
   "cell_type": "code",
   "execution_count": 139,
   "id": "protecting-berlin",
   "metadata": {},
   "outputs": [],
   "source": [
    "reaction_ids = pd.DataFrame(tfa_solution.fluxes).index.tolist()\n",
    "reaction_ids = [x for x in reaction_ids if x[0:2] != 'DM']\n",
    "reaction_ids = [x for x in reaction_ids if x not in ['Ec_biomass_iJO1366_WT_53p95M','Ec_biomass_iJO1366_core_53p95M']]\n"
   ]
  },
  {
   "cell_type": "code",
   "execution_count": 144,
   "id": "latin-array",
   "metadata": {},
   "outputs": [
    {
     "name": "stdout",
     "output_type": "stream",
     "text": [
      "Read LP format model from file /var/folders/17/58pxvfhj0gb_wz2nzgrzc6pc0000gn/T/tmppy921hyg.lp\n",
      "Reading time = 0.02 seconds\n",
      ": 1807 rows, 5170 columns, 20304 nonzeros\n"
     ]
    },
    {
     "name": "stderr",
     "output_type": "stream",
     "text": [
      "2021-10-19 11:01:57,670 - thermomodel_RelaxedModel iJO1366[WT] - INFO - # Model initialized with units kcal/mol and temperature 298.15 K\n"
     ]
    },
    {
     "name": "stdout",
     "output_type": "stream",
     "text": [
      "Read LP format model from file /var/folders/17/58pxvfhj0gb_wz2nzgrzc6pc0000gn/T/tmpx305l9wn.lp\n",
      "Reading time = 0.01 seconds\n",
      ": 1805 rows, 5162 columns, 20260 nonzeros\n"
     ]
    },
    {
     "name": "stderr",
     "output_type": "stream",
     "text": [
      "2021-10-19 11:02:12,830 - thermomodel_RelaxedModel iJO1366[NAD] - INFO - # Model initialized with units kcal/mol and temperature 298.15 K\n"
     ]
    }
   ],
   "source": [
    "# change flux bounds to 100\n",
    "wt_model = z.copy()\n",
    "sc_model = m.copy()"
   ]
  },
  {
   "cell_type": "code",
   "execution_count": 156,
   "id": "under-contractor",
   "metadata": {},
   "outputs": [],
   "source": [
    "fb = 100\n",
    "wt_rxns = [x.id for x in wt_model.reactions]\n",
    "sc_rxns = [x.id for x in sc_model.reactions]\n",
    "\n",
    "for r in reaction_ids:\n",
    "    if r in wt_rxns:\n",
    "        lb = wt_model.reactions.get_by_id(r).lower_bound\n",
    "        ub = wt_model.reactions.get_by_id(r).upper_bound\n",
    "        if ub > fb:\n",
    "            ub = fb\n",
    "        if lb < -fb:\n",
    "            lb = -fb\n",
    "            \n",
    "        wt_model.reactions.get_by_id(r).lower_bound = lb\n",
    "        wt_model.reactions.get_by_id(r).upper_bound = ub\n",
    "        \n",
    "    if r in sc_rxns:\n",
    "        lb = sc_model.reactions.get_by_id(r).lower_bound\n",
    "        ub = sc_model.reactions.get_by_id(r).upper_bound\n",
    "        if ub > fb:\n",
    "            ub = fb\n",
    "        if lb < -fb:\n",
    "            lb = -fb\n",
    "            \n",
    "        sc_model.reactions.get_by_id(r).lower_bound = lb\n",
    "        sc_model.reactions.get_by_id(r).upper_bound = ub"
   ]
  },
  {
   "cell_type": "code",
   "execution_count": 197,
   "id": "grave-binding",
   "metadata": {},
   "outputs": [],
   "source": [
    "wt_model.reactions.get_by_id('ATPM').lower_bound = 0\n",
    "sc_model.reactions.get_by_id('ATPM').lower_bound = 0"
   ]
  },
  {
   "cell_type": "code",
   "execution_count": 198,
   "id": "handmade-lover",
   "metadata": {},
   "outputs": [
    {
     "name": "stdout",
     "output_type": "stream",
     "text": [
      "TFA Solution found for WT model : 0.83799\n",
      "TFA Solution found for SC model : 0.72478\n"
     ]
    }
   ],
   "source": [
    "tfa_solution_wt = wt_model.optimize()\n",
    "tfa_value_wt = tfa_solution_wt.objective_value\n",
    "# Report\n",
    "print('TFA Solution found for WT model : {0:.5g}'.format(tfa_value_wt))\n",
    "\n",
    "tfa_solution_sc = sc_model.optimize()\n",
    "tfa_value_sc = tfa_solution_sc.objective_value\n",
    "# Report\n",
    "print('TFA Solution found for SC model : {0:.5g}'.format(tfa_value_sc))"
   ]
  },
  {
   "cell_type": "code",
   "execution_count": 22,
   "id": "swiss-vanilla",
   "metadata": {},
   "outputs": [],
   "source": [
    "gene_set = pd.read_csv('../../assets/EC_1.X.1.X.Unique_NAD(P)_Coupled.GeneSet.Thermo.csv')"
   ]
  },
  {
   "cell_type": "code",
   "execution_count": 23,
   "id": "engaged-david",
   "metadata": {},
   "outputs": [],
   "source": [
    "def swap_reaction_rid(model,reaction_id):\n",
    "    met = {}\n",
    "    met['nad'] = np.where([x.id == 'nad_c' for x in model.metabolites])[0][0]\n",
    "    met['nadp'] = np.where([x.id == 'nadp_c' for x in model.metabolites])[0][0]\n",
    "    met['nadh'] = np.where([x.id == 'nadh_c' for x in model.metabolites])[0][0]\n",
    "    met['nadph'] = np.where([x.id == 'nadph_c' for x in model.metabolites])[0][0]\n",
    "\n",
    "    met_objs = {}\n",
    "    met_objs['nad'] = [x for x in model.metabolites if x.id == 'nad_c'][0]\n",
    "    met_objs['nadh'] = [x for x in model.metabolites if x.id == 'nadh_c'][0]\n",
    "    met_objs['nadp'] = [x for x in model.metabolites if x.id == 'nadp_c'][0]\n",
    "    met_objs['nadph'] = [x for x in model.metabolites if x.id == 'nadph_c'][0]\n",
    "    \n",
    "    rxn = model.reactions.get_by_id(reaction_id).copy()\n",
    "    # make a new dictionary with coenzyme swapped\n",
    "    v = {x:y for x,y in rxn.metabolites.items() if x.id in [x + '_c' for x in list(met)]}\n",
    "\n",
    "    v2 = {}\n",
    "    for x,y in v.items():\n",
    "        if x.id == 'nadph_c':\n",
    "            v2[met_objs['nadh']] = y\n",
    "        elif x.id == 'nadp_c':\n",
    "            v2[met_objs['nad']] = y\n",
    "        elif x.id == 'nadh_c':\n",
    "            v2[met_objs['nadph']] = y\n",
    "        elif x.id == 'nad_c':\n",
    "            v2[met_objs['nadp']] = y\n",
    "            \n",
    "    rxn.subtract_metabolites(v)\n",
    "    rxn.add_metabolites(v2)\n",
    "    rxn.id = rxn.id + '[mutant]'\n",
    "    model.remove_reactions([reaction_id])\n",
    "    model.add_reaction(rxn)\n",
    "    return model"
   ]
  },
  {
   "cell_type": "code",
   "execution_count": 25,
   "id": "leading-cement",
   "metadata": {},
   "outputs": [
    {
     "name": "stdout",
     "output_type": "stream",
     "text": [
      "Read LP format model from file /var/folders/17/58pxvfhj0gb_wz2nzgrzc6pc0000gn/T/tmplpckdxlu.lp\n",
      "Reading time = 0.02 seconds\n",
      ": 1807 rows, 5170 columns, 20304 nonzeros\n"
     ]
    },
    {
     "name": "stderr",
     "output_type": "stream",
     "text": [
      "2021-10-28 16:08:51,044 - thermomodel_RelaxedModel iJO1366[WT] - INFO - # Model initialized with units kcal/mol and temperature 298.15 K\n"
     ]
    },
    {
     "name": "stdout",
     "output_type": "stream",
     "text": [
      "Read LP format model from file /var/folders/17/58pxvfhj0gb_wz2nzgrzc6pc0000gn/T/tmpynsc2za1.lp\n",
      "Reading time = 0.02 seconds\n",
      ": 1807 rows, 5170 columns, 20304 nonzeros\n"
     ]
    },
    {
     "name": "stderr",
     "output_type": "stream",
     "text": [
      "2021-10-28 16:09:10,618 - thermomodel_RelaxedModel iJO1366[WT] - INFO - # Model initialized with units kcal/mol and temperature 298.15 K\n"
     ]
    }
   ],
   "source": [
    "wt_model = z.copy()\n",
    "wt = wt_model.copy()"
   ]
  },
  {
   "cell_type": "code",
   "execution_count": 26,
   "id": "graphic-florence",
   "metadata": {},
   "outputs": [
    {
     "name": "stdout",
     "output_type": "stream",
     "text": [
      "Read LP format model from file /var/folders/17/58pxvfhj0gb_wz2nzgrzc6pc0000gn/T/tmpcgzs3x9v.lp\n",
      "Reading time = 0.02 seconds\n",
      ": 1807 rows, 5170 columns, 20304 nonzeros\n"
     ]
    },
    {
     "name": "stderr",
     "output_type": "stream",
     "text": [
      "2021-10-28 16:09:43,154 - thermomodel_RelaxedModel iJO1366[WT] - INFO - # Model initialized with units kcal/mol and temperature 298.15 K\n"
     ]
    },
    {
     "name": "stdout",
     "output_type": "stream",
     "text": [
      "done with gene: dapB\n",
      "Read LP format model from file /var/folders/17/58pxvfhj0gb_wz2nzgrzc6pc0000gn/T/tmptdortaoa.lp\n",
      "Reading time = 0.02 seconds\n",
      ": 1807 rows, 5170 columns, 20304 nonzeros\n"
     ]
    },
    {
     "name": "stderr",
     "output_type": "stream",
     "text": [
      "2021-10-28 16:10:35,186 - thermomodel_RelaxedModel iJO1366[WT] - INFO - # Model initialized with units kcal/mol and temperature 298.15 K\n"
     ]
    },
    {
     "name": "stdout",
     "output_type": "stream",
     "text": [
      "done with gene: pdxA\n",
      "Read LP format model from file /var/folders/17/58pxvfhj0gb_wz2nzgrzc6pc0000gn/T/tmpyd2k2tl7.lp\n",
      "Reading time = 0.02 seconds\n",
      ": 1807 rows, 5170 columns, 20304 nonzeros\n"
     ]
    },
    {
     "name": "stderr",
     "output_type": "stream",
     "text": [
      "2021-10-28 16:12:45,484 - thermomodel_RelaxedModel iJO1366[WT] - INFO - # Model initialized with units kcal/mol and temperature 298.15 K\n"
     ]
    },
    {
     "name": "stdout",
     "output_type": "stream",
     "text": [
      "done with gene: leuB\n",
      "Read LP format model from file /var/folders/17/58pxvfhj0gb_wz2nzgrzc6pc0000gn/T/tmpfgp8guqp.lp\n",
      "Reading time = 0.01 seconds\n",
      ": 1807 rows, 5170 columns, 20304 nonzeros\n"
     ]
    },
    {
     "name": "stderr",
     "output_type": "stream",
     "text": [
      "2021-10-28 16:15:15,902 - thermomodel_RelaxedModel iJO1366[WT] - INFO - # Model initialized with units kcal/mol and temperature 298.15 K\n"
     ]
    },
    {
     "name": "stdout",
     "output_type": "stream",
     "text": [
      "done with gene: guaC\n",
      "Read LP format model from file /var/folders/17/58pxvfhj0gb_wz2nzgrzc6pc0000gn/T/tmp3o1b7dhb.lp\n",
      "Reading time = 0.03 seconds\n",
      ": 1807 rows, 5170 columns, 20304 nonzeros\n"
     ]
    },
    {
     "name": "stderr",
     "output_type": "stream",
     "text": [
      "2021-10-28 16:16:04,894 - thermomodel_RelaxedModel iJO1366[WT] - INFO - # Model initialized with units kcal/mol and temperature 298.15 K\n"
     ]
    },
    {
     "name": "stdout",
     "output_type": "stream",
     "text": [
      "done with gene: lpd\n",
      "Read LP format model from file /var/folders/17/58pxvfhj0gb_wz2nzgrzc6pc0000gn/T/tmpfvn3w96z.lp\n",
      "Reading time = 0.02 seconds\n",
      ": 1807 rows, 5170 columns, 20304 nonzeros\n"
     ]
    },
    {
     "name": "stderr",
     "output_type": "stream",
     "text": [
      "2021-10-28 16:16:40,015 - thermomodel_RelaxedModel iJO1366[WT] - INFO - # Model initialized with units kcal/mol and temperature 298.15 K\n"
     ]
    },
    {
     "name": "stdout",
     "output_type": "stream",
     "text": [
      "done with gene: dxr\n",
      "Read LP format model from file /var/folders/17/58pxvfhj0gb_wz2nzgrzc6pc0000gn/T/tmpfmd25bpo.lp\n",
      "Reading time = 0.01 seconds\n",
      ": 1807 rows, 5170 columns, 20304 nonzeros\n"
     ]
    },
    {
     "name": "stderr",
     "output_type": "stream",
     "text": [
      "2021-10-28 16:17:08,152 - thermomodel_RelaxedModel iJO1366[WT] - INFO - # Model initialized with units kcal/mol and temperature 298.15 K\n"
     ]
    },
    {
     "name": "stdout",
     "output_type": "stream",
     "text": [
      "done with gene: proA\n",
      "Read LP format model from file /var/folders/17/58pxvfhj0gb_wz2nzgrzc6pc0000gn/T/tmpv4dxpze_.lp\n",
      "Reading time = 0.01 seconds\n",
      ": 1807 rows, 5170 columns, 20304 nonzeros\n"
     ]
    },
    {
     "name": "stderr",
     "output_type": "stream",
     "text": [
      "2021-10-28 16:17:42,224 - thermomodel_RelaxedModel iJO1366[WT] - INFO - # Model initialized with units kcal/mol and temperature 298.15 K\n"
     ]
    },
    {
     "name": "stdout",
     "output_type": "stream",
     "text": [
      "done with gene: betB\n",
      "Read LP format model from file /var/folders/17/58pxvfhj0gb_wz2nzgrzc6pc0000gn/T/tmp9kyfgms4.lp\n",
      "Reading time = 0.02 seconds\n",
      ": 1807 rows, 5170 columns, 20304 nonzeros\n"
     ]
    },
    {
     "name": "stderr",
     "output_type": "stream",
     "text": [
      "2021-10-28 16:18:00,197 - thermomodel_RelaxedModel iJO1366[WT] - INFO - # Model initialized with units kcal/mol and temperature 298.15 K\n"
     ]
    },
    {
     "name": "stdout",
     "output_type": "stream",
     "text": [
      "done with gene: frmA\n",
      "Read LP format model from file /var/folders/17/58pxvfhj0gb_wz2nzgrzc6pc0000gn/T/tmpgaii4gnw.lp\n",
      "Reading time = 0.02 seconds\n",
      ": 1807 rows, 5170 columns, 20304 nonzeros\n"
     ]
    },
    {
     "name": "stderr",
     "output_type": "stream",
     "text": [
      "2021-10-28 16:18:35,591 - thermomodel_RelaxedModel iJO1366[WT] - INFO - # Model initialized with units kcal/mol and temperature 298.15 K\n"
     ]
    },
    {
     "name": "stdout",
     "output_type": "stream",
     "text": [
      "done with gene: proC\n",
      "Read LP format model from file /var/folders/17/58pxvfhj0gb_wz2nzgrzc6pc0000gn/T/tmp_klog86o.lp\n",
      "Reading time = 0.02 seconds\n",
      ": 1807 rows, 5170 columns, 20304 nonzeros\n"
     ]
    },
    {
     "name": "stderr",
     "output_type": "stream",
     "text": [
      "2021-10-28 16:18:53,688 - thermomodel_RelaxedModel iJO1366[WT] - INFO - # Model initialized with units kcal/mol and temperature 298.15 K\n"
     ]
    },
    {
     "name": "stdout",
     "output_type": "stream",
     "text": [
      "done with gene: ribD\n",
      "Read LP format model from file /var/folders/17/58pxvfhj0gb_wz2nzgrzc6pc0000gn/T/tmpmz5a5bxe.lp\n",
      "Reading time = 0.02 seconds\n",
      ": 1807 rows, 5170 columns, 20304 nonzeros\n"
     ]
    },
    {
     "name": "stderr",
     "output_type": "stream",
     "text": [
      "2021-10-28 16:19:38,276 - thermomodel_RelaxedModel iJO1366[WT] - INFO - # Model initialized with units kcal/mol and temperature 298.15 K\n"
     ]
    },
    {
     "name": "stdout",
     "output_type": "stream",
     "text": [
      "done with gene: allD\n",
      "Read LP format model from file /var/folders/17/58pxvfhj0gb_wz2nzgrzc6pc0000gn/T/tmpbh21g14f.lp\n",
      "Reading time = 0.02 seconds\n",
      ": 1807 rows, 5170 columns, 20304 nonzeros\n"
     ]
    },
    {
     "name": "stderr",
     "output_type": "stream",
     "text": [
      "2021-10-28 16:20:05,490 - thermomodel_RelaxedModel iJO1366[WT] - INFO - # Model initialized with units kcal/mol and temperature 298.15 K\n"
     ]
    },
    {
     "name": "stdout",
     "output_type": "stream",
     "text": [
      "done with gene: folD\n",
      "Read LP format model from file /var/folders/17/58pxvfhj0gb_wz2nzgrzc6pc0000gn/T/tmplf3offzl.lp\n",
      "Reading time = 0.02 seconds\n",
      ": 1807 rows, 5170 columns, 20304 nonzeros\n"
     ]
    },
    {
     "name": "stderr",
     "output_type": "stream",
     "text": [
      "2021-10-28 16:20:54,259 - thermomodel_RelaxedModel iJO1366[WT] - INFO - # Model initialized with units kcal/mol and temperature 298.15 K\n"
     ]
    },
    {
     "name": "stdout",
     "output_type": "stream",
     "text": [
      "done with gene: entA\n",
      "Read LP format model from file /var/folders/17/58pxvfhj0gb_wz2nzgrzc6pc0000gn/T/tmpmqz4dp9z.lp\n",
      "Reading time = 0.02 seconds\n",
      ": 1807 rows, 5170 columns, 20304 nonzeros\n"
     ]
    },
    {
     "name": "stderr",
     "output_type": "stream",
     "text": [
      "2021-10-28 16:22:37,487 - thermomodel_RelaxedModel iJO1366[WT] - INFO - # Model initialized with units kcal/mol and temperature 298.15 K\n"
     ]
    },
    {
     "name": "stdout",
     "output_type": "stream",
     "text": [
      "done with gene: trxB\n",
      "Read LP format model from file /var/folders/17/58pxvfhj0gb_wz2nzgrzc6pc0000gn/T/tmp3p2rocvf.lp\n",
      "Reading time = 0.02 seconds\n",
      ": 1807 rows, 5170 columns, 20304 nonzeros\n"
     ]
    },
    {
     "name": "stderr",
     "output_type": "stream",
     "text": [
      "2021-10-28 16:25:09,984 - thermomodel_RelaxedModel iJO1366[WT] - INFO - # Model initialized with units kcal/mol and temperature 298.15 K\n"
     ]
    },
    {
     "name": "stdout",
     "output_type": "stream",
     "text": [
      "done with gene: putA\n",
      "Read LP format model from file /var/folders/17/58pxvfhj0gb_wz2nzgrzc6pc0000gn/T/tmpw8eetcqq.lp\n",
      "Reading time = 0.02 seconds\n",
      ": 1807 rows, 5170 columns, 20304 nonzeros\n"
     ]
    },
    {
     "name": "stderr",
     "output_type": "stream",
     "text": [
      "2021-10-28 16:25:43,552 - thermomodel_RelaxedModel iJO1366[WT] - INFO - # Model initialized with units kcal/mol and temperature 298.15 K\n"
     ]
    },
    {
     "name": "stdout",
     "output_type": "stream",
     "text": [
      "done with gene: icd\n",
      "Read LP format model from file /var/folders/17/58pxvfhj0gb_wz2nzgrzc6pc0000gn/T/tmpgnt_li8f.lp\n",
      "Reading time = 0.02 seconds\n",
      ": 1807 rows, 5170 columns, 20304 nonzeros\n"
     ]
    },
    {
     "name": "stderr",
     "output_type": "stream",
     "text": [
      "2021-10-28 16:26:56,224 - thermomodel_RelaxedModel iJO1366[WT] - INFO - # Model initialized with units kcal/mol and temperature 298.15 K\n"
     ]
    },
    {
     "name": "stdout",
     "output_type": "stream",
     "text": [
      "done with gene: puuC\n",
      "Read LP format model from file /var/folders/17/58pxvfhj0gb_wz2nzgrzc6pc0000gn/T/tmp5mpcbua2.lp\n",
      "Reading time = 0.02 seconds\n",
      ": 1807 rows, 5170 columns, 20304 nonzeros\n"
     ]
    },
    {
     "name": "stderr",
     "output_type": "stream",
     "text": [
      "2021-10-28 16:27:15,822 - thermomodel_RelaxedModel iJO1366[WT] - INFO - # Model initialized with units kcal/mol and temperature 298.15 K\n"
     ]
    },
    {
     "name": "stdout",
     "output_type": "stream",
     "text": [
      "done with gene: feaB\n",
      "Read LP format model from file /var/folders/17/58pxvfhj0gb_wz2nzgrzc6pc0000gn/T/tmpr1zym6mi.lp\n",
      "Reading time = 0.01 seconds\n",
      ": 1807 rows, 5170 columns, 20304 nonzeros\n"
     ]
    },
    {
     "name": "stderr",
     "output_type": "stream",
     "text": [
      "2021-10-28 16:28:06,217 - thermomodel_RelaxedModel iJO1366[WT] - INFO - # Model initialized with units kcal/mol and temperature 298.15 K\n"
     ]
    },
    {
     "name": "stdout",
     "output_type": "stream",
     "text": [
      "done with gene: paaZ\n",
      "Read LP format model from file /var/folders/17/58pxvfhj0gb_wz2nzgrzc6pc0000gn/T/tmp7nus2_f_.lp\n",
      "Reading time = 0.02 seconds\n",
      ": 1807 rows, 5170 columns, 20304 nonzeros\n"
     ]
    },
    {
     "name": "stderr",
     "output_type": "stream",
     "text": [
      "2021-10-28 16:29:04,695 - thermomodel_RelaxedModel iJO1366[WT] - INFO - # Model initialized with units kcal/mol and temperature 298.15 K\n"
     ]
    },
    {
     "name": "stdout",
     "output_type": "stream",
     "text": [
      "done with gene: paaH\n",
      "Read LP format model from file /var/folders/17/58pxvfhj0gb_wz2nzgrzc6pc0000gn/T/tmpx4mgrbl4.lp\n",
      "Reading time = 0.02 seconds\n",
      ": 1807 rows, 5170 columns, 20304 nonzeros\n"
     ]
    },
    {
     "name": "stderr",
     "output_type": "stream",
     "text": [
      "2021-10-28 16:30:53,410 - thermomodel_RelaxedModel iJO1366[WT] - INFO - # Model initialized with units kcal/mol and temperature 298.15 K\n"
     ]
    },
    {
     "name": "stdout",
     "output_type": "stream",
     "text": [
      "done with gene: aldA\n",
      "Read LP format model from file /var/folders/17/58pxvfhj0gb_wz2nzgrzc6pc0000gn/T/tmp72x3coik.lp\n",
      "Reading time = 0.02 seconds\n",
      ": 1807 rows, 5170 columns, 20304 nonzeros\n"
     ]
    },
    {
     "name": "stderr",
     "output_type": "stream",
     "text": [
      "2021-10-28 16:31:41,809 - thermomodel_RelaxedModel iJO1366[WT] - INFO - # Model initialized with units kcal/mol and temperature 298.15 K\n"
     ]
    },
    {
     "name": "stdout",
     "output_type": "stream",
     "text": [
      "done with gene: patD\n",
      "Read LP format model from file /var/folders/17/58pxvfhj0gb_wz2nzgrzc6pc0000gn/T/tmpa0gyyi3r.lp\n",
      "Reading time = 0.02 seconds\n",
      ": 1807 rows, 5170 columns, 20304 nonzeros\n"
     ]
    },
    {
     "name": "stderr",
     "output_type": "stream",
     "text": [
      "2021-10-28 16:32:46,574 - thermomodel_RelaxedModel iJO1366[WT] - INFO - # Model initialized with units kcal/mol and temperature 298.15 K\n"
     ]
    },
    {
     "name": "stdout",
     "output_type": "stream",
     "text": [
      "done with gene: maeA\n",
      "Read LP format model from file /var/folders/17/58pxvfhj0gb_wz2nzgrzc6pc0000gn/T/tmp1g_bd7yl.lp\n",
      "Reading time = 0.02 seconds\n",
      ": 1807 rows, 5170 columns, 20304 nonzeros\n"
     ]
    },
    {
     "name": "stderr",
     "output_type": "stream",
     "text": [
      "2021-10-28 16:33:30,336 - thermomodel_RelaxedModel iJO1366[WT] - INFO - # Model initialized with units kcal/mol and temperature 298.15 K\n"
     ]
    },
    {
     "name": "stdout",
     "output_type": "stream",
     "text": [
      "done with gene: uxaB\n",
      "Read LP format model from file /var/folders/17/58pxvfhj0gb_wz2nzgrzc6pc0000gn/T/tmpzjw722z3.lp\n",
      "Reading time = 0.02 seconds\n",
      ": 1807 rows, 5170 columns, 20304 nonzeros\n"
     ]
    },
    {
     "name": "stderr",
     "output_type": "stream",
     "text": [
      "2021-10-28 16:34:48,872 - thermomodel_RelaxedModel iJO1366[WT] - INFO - # Model initialized with units kcal/mol and temperature 298.15 K\n"
     ]
    },
    {
     "name": "stdout",
     "output_type": "stream",
     "text": [
      "done with gene: sad\n",
      "Read LP format model from file /var/folders/17/58pxvfhj0gb_wz2nzgrzc6pc0000gn/T/tmpta_6zjc3.lp\n",
      "Reading time = 0.01 seconds\n",
      ": 1807 rows, 5170 columns, 20304 nonzeros\n"
     ]
    },
    {
     "name": "stderr",
     "output_type": "stream",
     "text": [
      "2021-10-28 16:35:35,756 - thermomodel_RelaxedModel iJO1366[WT] - INFO - # Model initialized with units kcal/mol and temperature 298.15 K\n"
     ]
    },
    {
     "name": "stdout",
     "output_type": "stream",
     "text": [
      "done with gene: ydfG\n",
      "Read LP format model from file /var/folders/17/58pxvfhj0gb_wz2nzgrzc6pc0000gn/T/tmpy46f6oxr.lp\n",
      "Reading time = 0.02 seconds\n",
      ": 1807 rows, 5170 columns, 20304 nonzeros\n"
     ]
    },
    {
     "name": "stderr",
     "output_type": "stream",
     "text": [
      "2021-10-28 16:36:09,992 - thermomodel_RelaxedModel iJO1366[WT] - INFO - # Model initialized with units kcal/mol and temperature 298.15 K\n"
     ]
    },
    {
     "name": "stdout",
     "output_type": "stream",
     "text": [
      "done with gene: ydiB\n",
      "Read LP format model from file /var/folders/17/58pxvfhj0gb_wz2nzgrzc6pc0000gn/T/tmpoctk_y5d.lp\n",
      "Reading time = 0.02 seconds\n",
      ": 1807 rows, 5170 columns, 20304 nonzeros\n"
     ]
    },
    {
     "name": "stderr",
     "output_type": "stream",
     "text": [
      "2021-10-28 16:37:04,063 - thermomodel_RelaxedModel iJO1366[WT] - INFO - # Model initialized with units kcal/mol and temperature 298.15 K\n"
     ]
    },
    {
     "name": "stdout",
     "output_type": "stream",
     "text": [
      "done with gene: astD\n",
      "Read LP format model from file /var/folders/17/58pxvfhj0gb_wz2nzgrzc6pc0000gn/T/tmpala0w2do.lp\n",
      "Reading time = 0.02 seconds\n",
      ": 1807 rows, 5170 columns, 20304 nonzeros\n"
     ]
    },
    {
     "name": "stderr",
     "output_type": "stream",
     "text": [
      "2021-10-28 16:37:47,055 - thermomodel_RelaxedModel iJO1366[WT] - INFO - # Model initialized with units kcal/mol and temperature 298.15 K\n"
     ]
    },
    {
     "name": "stdout",
     "output_type": "stream",
     "text": [
      "done with gene: gdhA\n",
      "Read LP format model from file /var/folders/17/58pxvfhj0gb_wz2nzgrzc6pc0000gn/T/tmpmo7yk8ik.lp\n",
      "Reading time = 0.02 seconds\n",
      ": 1807 rows, 5170 columns, 20304 nonzeros\n"
     ]
    },
    {
     "name": "stderr",
     "output_type": "stream",
     "text": [
      "2021-10-28 16:38:08,090 - thermomodel_RelaxedModel iJO1366[WT] - INFO - # Model initialized with units kcal/mol and temperature 298.15 K\n"
     ]
    },
    {
     "name": "stdout",
     "output_type": "stream",
     "text": [
      "done with gene: gapA\n",
      "Read LP format model from file /var/folders/17/58pxvfhj0gb_wz2nzgrzc6pc0000gn/T/tmpjrhy1f61.lp\n",
      "Reading time = 0.02 seconds\n",
      ": 1807 rows, 5170 columns, 20304 nonzeros\n"
     ]
    },
    {
     "name": "stderr",
     "output_type": "stream",
     "text": [
      "2021-10-28 16:38:50,005 - thermomodel_RelaxedModel iJO1366[WT] - INFO - # Model initialized with units kcal/mol and temperature 298.15 K\n"
     ]
    },
    {
     "name": "stdout",
     "output_type": "stream",
     "text": [
      "done with gene: dmlA\n",
      "Read LP format model from file /var/folders/17/58pxvfhj0gb_wz2nzgrzc6pc0000gn/T/tmp61nlfr21.lp\n",
      "Reading time = 0.02 seconds\n",
      ": 1807 rows, 5170 columns, 20304 nonzeros\n"
     ]
    },
    {
     "name": "stderr",
     "output_type": "stream",
     "text": [
      "2021-10-28 16:39:57,760 - thermomodel_RelaxedModel iJO1366[WT] - INFO - # Model initialized with units kcal/mol and temperature 298.15 K\n"
     ]
    },
    {
     "name": "stdout",
     "output_type": "stream",
     "text": [
      "done with gene: zwf\n",
      "Read LP format model from file /var/folders/17/58pxvfhj0gb_wz2nzgrzc6pc0000gn/T/tmp5lyg__h9.lp\n",
      "Reading time = 0.01 seconds\n",
      ": 1807 rows, 5170 columns, 20304 nonzeros\n"
     ]
    },
    {
     "name": "stderr",
     "output_type": "stream",
     "text": [
      "2021-10-28 16:40:35,185 - thermomodel_RelaxedModel iJO1366[WT] - INFO - # Model initialized with units kcal/mol and temperature 298.15 K\n"
     ]
    },
    {
     "name": "stdout",
     "output_type": "stream",
     "text": [
      "done with gene: hisD\n",
      "Read LP format model from file /var/folders/17/58pxvfhj0gb_wz2nzgrzc6pc0000gn/T/tmp3avbl4rm.lp\n",
      "Reading time = 0.02 seconds\n",
      ": 1807 rows, 5170 columns, 20304 nonzeros\n"
     ]
    },
    {
     "name": "stderr",
     "output_type": "stream",
     "text": [
      "2021-10-28 16:41:21,114 - thermomodel_RelaxedModel iJO1366[WT] - INFO - # Model initialized with units kcal/mol and temperature 298.15 K\n"
     ]
    },
    {
     "name": "stdout",
     "output_type": "stream",
     "text": [
      "done with gene: ugd\n",
      "Read LP format model from file /var/folders/17/58pxvfhj0gb_wz2nzgrzc6pc0000gn/T/tmpwjdkzdj9.lp\n",
      "Reading time = 0.02 seconds\n",
      ": 1807 rows, 5170 columns, 20304 nonzeros\n"
     ]
    },
    {
     "name": "stderr",
     "output_type": "stream",
     "text": [
      "2021-10-28 16:42:22,482 - thermomodel_RelaxedModel iJO1366[WT] - INFO - # Model initialized with units kcal/mol and temperature 298.15 K\n"
     ]
    },
    {
     "name": "stdout",
     "output_type": "stream",
     "text": [
      "done with gene: gnd\n",
      "Read LP format model from file /var/folders/17/58pxvfhj0gb_wz2nzgrzc6pc0000gn/T/tmpv07s5ntu.lp\n",
      "Reading time = 0.02 seconds\n",
      ": 1807 rows, 5170 columns, 20304 nonzeros\n"
     ]
    },
    {
     "name": "stderr",
     "output_type": "stream",
     "text": [
      "2021-10-28 16:43:11,911 - thermomodel_RelaxedModel iJO1366[WT] - INFO - # Model initialized with units kcal/mol and temperature 298.15 K\n"
     ]
    },
    {
     "name": "stdout",
     "output_type": "stream",
     "text": [
      "done with gene: rfbD\n",
      "Read LP format model from file /var/folders/17/58pxvfhj0gb_wz2nzgrzc6pc0000gn/T/tmp32eb82r8.lp\n",
      "Reading time = 0.02 seconds\n",
      ": 1807 rows, 5170 columns, 20304 nonzeros\n"
     ]
    },
    {
     "name": "stderr",
     "output_type": "stream",
     "text": [
      "2021-10-28 16:44:31,470 - thermomodel_RelaxedModel iJO1366[WT] - INFO - # Model initialized with units kcal/mol and temperature 298.15 K\n"
     ]
    },
    {
     "name": "stdout",
     "output_type": "stream",
     "text": [
      "done with gene: wcaG\n",
      "Read LP format model from file /var/folders/17/58pxvfhj0gb_wz2nzgrzc6pc0000gn/T/tmpyuzxsa1f.lp\n",
      "Reading time = 0.02 seconds\n",
      ": 1807 rows, 5170 columns, 20304 nonzeros\n"
     ]
    },
    {
     "name": "stderr",
     "output_type": "stream",
     "text": [
      "2021-10-28 16:45:11,205 - thermomodel_RelaxedModel iJO1366[WT] - INFO - # Model initialized with units kcal/mol and temperature 298.15 K\n"
     ]
    },
    {
     "name": "stdout",
     "output_type": "stream",
     "text": [
      "done with gene: gatD\n",
      "Read LP format model from file /var/folders/17/58pxvfhj0gb_wz2nzgrzc6pc0000gn/T/tmpe9_px9hi.lp\n",
      "Reading time = 0.02 seconds\n",
      ": 1807 rows, 5170 columns, 20304 nonzeros\n"
     ]
    },
    {
     "name": "stderr",
     "output_type": "stream",
     "text": [
      "2021-10-28 16:46:17,065 - thermomodel_RelaxedModel iJO1366[WT] - INFO - # Model initialized with units kcal/mol and temperature 298.15 K\n"
     ]
    },
    {
     "name": "stdout",
     "output_type": "stream",
     "text": [
      "done with gene: preT\n",
      "Read LP format model from file /var/folders/17/58pxvfhj0gb_wz2nzgrzc6pc0000gn/T/tmpjdm61n29.lp\n",
      "Reading time = 0.02 seconds\n",
      ": 1807 rows, 5170 columns, 20304 nonzeros\n"
     ]
    },
    {
     "name": "stderr",
     "output_type": "stream",
     "text": [
      "2021-10-28 16:46:58,069 - thermomodel_RelaxedModel iJO1366[WT] - INFO - # Model initialized with units kcal/mol and temperature 298.15 K\n"
     ]
    },
    {
     "name": "stdout",
     "output_type": "stream",
     "text": [
      "done with gene: arnA\n",
      "Read LP format model from file /var/folders/17/58pxvfhj0gb_wz2nzgrzc6pc0000gn/T/tmppt1yx28z.lp\n",
      "Reading time = 0.02 seconds\n",
      ": 1807 rows, 5170 columns, 20304 nonzeros\n"
     ]
    },
    {
     "name": "stderr",
     "output_type": "stream",
     "text": [
      "2021-10-28 16:47:27,013 - thermomodel_RelaxedModel iJO1366[WT] - INFO - # Model initialized with units kcal/mol and temperature 298.15 K\n"
     ]
    },
    {
     "name": "stdout",
     "output_type": "stream",
     "text": [
      "done with gene: pdxB\n",
      "Read LP format model from file /var/folders/17/58pxvfhj0gb_wz2nzgrzc6pc0000gn/T/tmpz_n3dyjd.lp\n",
      "Reading time = 0.02 seconds\n",
      ": 1807 rows, 5170 columns, 20304 nonzeros\n"
     ]
    },
    {
     "name": "stderr",
     "output_type": "stream",
     "text": [
      "2021-10-28 16:51:09,688 - thermomodel_RelaxedModel iJO1366[WT] - INFO - # Model initialized with units kcal/mol and temperature 298.15 K\n"
     ]
    },
    {
     "name": "stdout",
     "output_type": "stream",
     "text": [
      "done with gene: maeB\n",
      "Read LP format model from file /var/folders/17/58pxvfhj0gb_wz2nzgrzc6pc0000gn/T/tmpq1ksyt1n.lp\n",
      "Reading time = 0.02 seconds\n",
      ": 1807 rows, 5170 columns, 20304 nonzeros\n"
     ]
    },
    {
     "name": "stderr",
     "output_type": "stream",
     "text": [
      "2021-10-28 16:51:38,903 - thermomodel_RelaxedModel iJO1366[WT] - INFO - # Model initialized with units kcal/mol and temperature 298.15 K\n"
     ]
    },
    {
     "name": "stdout",
     "output_type": "stream",
     "text": [
      "done with gene: guaB\n",
      "Read LP format model from file /var/folders/17/58pxvfhj0gb_wz2nzgrzc6pc0000gn/T/tmplzspeq24.lp\n",
      "Reading time = 0.02 seconds\n",
      ": 1807 rows, 5170 columns, 20304 nonzeros\n"
     ]
    },
    {
     "name": "stderr",
     "output_type": "stream",
     "text": [
      "2021-10-28 16:52:44,308 - thermomodel_RelaxedModel iJO1366[WT] - INFO - # Model initialized with units kcal/mol and temperature 298.15 K\n"
     ]
    },
    {
     "name": "stdout",
     "output_type": "stream",
     "text": [
      "done with gene: hcaB\n",
      "Read LP format model from file /var/folders/17/58pxvfhj0gb_wz2nzgrzc6pc0000gn/T/tmp_e18nxdz.lp\n",
      "Reading time = 0.02 seconds\n",
      ": 1807 rows, 5170 columns, 20304 nonzeros\n"
     ]
    },
    {
     "name": "stderr",
     "output_type": "stream",
     "text": [
      "2021-10-28 16:53:32,861 - thermomodel_RelaxedModel iJO1366[WT] - INFO - # Model initialized with units kcal/mol and temperature 298.15 K\n"
     ]
    },
    {
     "name": "stdout",
     "output_type": "stream",
     "text": [
      "done with gene: hcaD\n",
      "Read LP format model from file /var/folders/17/58pxvfhj0gb_wz2nzgrzc6pc0000gn/T/tmpwf7wanb3.lp\n",
      "Reading time = 0.02 seconds\n",
      ": 1807 rows, 5170 columns, 20304 nonzeros\n"
     ]
    },
    {
     "name": "stderr",
     "output_type": "stream",
     "text": [
      "2021-10-28 16:54:04,237 - thermomodel_RelaxedModel iJO1366[WT] - INFO - # Model initialized with units kcal/mol and temperature 298.15 K\n"
     ]
    },
    {
     "name": "stdout",
     "output_type": "stream",
     "text": [
      "done with gene: tyrA\n",
      "Read LP format model from file /var/folders/17/58pxvfhj0gb_wz2nzgrzc6pc0000gn/T/tmpn2gghy80.lp\n",
      "Reading time = 0.02 seconds\n",
      ": 1807 rows, 5170 columns, 20304 nonzeros\n"
     ]
    },
    {
     "name": "stderr",
     "output_type": "stream",
     "text": [
      "2021-10-28 16:54:50,205 - thermomodel_RelaxedModel iJO1366[WT] - INFO - # Model initialized with units kcal/mol and temperature 298.15 K\n"
     ]
    },
    {
     "name": "stdout",
     "output_type": "stream",
     "text": [
      "done with gene: srlD\n",
      "Read LP format model from file /var/folders/17/58pxvfhj0gb_wz2nzgrzc6pc0000gn/T/tmp0emvfb73.lp\n",
      "Reading time = 0.02 seconds\n",
      ": 1807 rows, 5170 columns, 20304 nonzeros\n"
     ]
    },
    {
     "name": "stderr",
     "output_type": "stream",
     "text": [
      "2021-10-28 16:55:30,969 - thermomodel_RelaxedModel iJO1366[WT] - INFO - # Model initialized with units kcal/mol and temperature 298.15 K\n"
     ]
    },
    {
     "name": "stdout",
     "output_type": "stream",
     "text": [
      "done with gene: cysJ\n",
      "Read LP format model from file /var/folders/17/58pxvfhj0gb_wz2nzgrzc6pc0000gn/T/tmpylhkbvl4.lp\n",
      "Reading time = 0.02 seconds\n",
      ": 1807 rows, 5170 columns, 20304 nonzeros\n"
     ]
    },
    {
     "name": "stderr",
     "output_type": "stream",
     "text": [
      "2021-10-28 16:55:56,943 - thermomodel_RelaxedModel iJO1366[WT] - INFO - # Model initialized with units kcal/mol and temperature 298.15 K\n"
     ]
    },
    {
     "name": "stdout",
     "output_type": "stream",
     "text": [
      "done with gene: queF\n",
      "Read LP format model from file /var/folders/17/58pxvfhj0gb_wz2nzgrzc6pc0000gn/T/tmpqvjyeezv.lp\n",
      "Reading time = 0.02 seconds\n",
      ": 1807 rows, 5170 columns, 20304 nonzeros\n"
     ]
    },
    {
     "name": "stderr",
     "output_type": "stream",
     "text": [
      "2021-10-28 16:57:02,479 - thermomodel_RelaxedModel iJO1366[WT] - INFO - # Model initialized with units kcal/mol and temperature 298.15 K\n"
     ]
    },
    {
     "name": "stdout",
     "output_type": "stream",
     "text": [
      "done with gene: fucO\n",
      "Read LP format model from file /var/folders/17/58pxvfhj0gb_wz2nzgrzc6pc0000gn/T/tmp6a72y148.lp\n",
      "Reading time = 0.02 seconds\n",
      ": 1807 rows, 5170 columns, 20304 nonzeros\n"
     ]
    },
    {
     "name": "stderr",
     "output_type": "stream",
     "text": [
      "2021-10-28 16:58:10,350 - thermomodel_RelaxedModel iJO1366[WT] - INFO - # Model initialized with units kcal/mol and temperature 298.15 K\n"
     ]
    },
    {
     "name": "stdout",
     "output_type": "stream",
     "text": [
      "done with gene: xdhB\n",
      "Read LP format model from file /var/folders/17/58pxvfhj0gb_wz2nzgrzc6pc0000gn/T/tmpzbgbm8b_.lp\n",
      "Reading time = 0.02 seconds\n",
      ": 1807 rows, 5170 columns, 20304 nonzeros\n"
     ]
    },
    {
     "name": "stderr",
     "output_type": "stream",
     "text": [
      "2021-10-28 16:58:54,902 - thermomodel_RelaxedModel iJO1366[WT] - INFO - # Model initialized with units kcal/mol and temperature 298.15 K\n"
     ]
    },
    {
     "name": "stdout",
     "output_type": "stream",
     "text": [
      "done with gene: serA\n",
      "Read LP format model from file /var/folders/17/58pxvfhj0gb_wz2nzgrzc6pc0000gn/T/tmpbor34gov.lp\n",
      "Reading time = 0.02 seconds\n",
      ": 1807 rows, 5170 columns, 20304 nonzeros\n"
     ]
    },
    {
     "name": "stderr",
     "output_type": "stream",
     "text": [
      "2021-10-28 16:59:26,288 - thermomodel_RelaxedModel iJO1366[WT] - INFO - # Model initialized with units kcal/mol and temperature 298.15 K\n"
     ]
    },
    {
     "name": "stdout",
     "output_type": "stream",
     "text": [
      "done with gene: gltD\n",
      "Read LP format model from file /var/folders/17/58pxvfhj0gb_wz2nzgrzc6pc0000gn/T/tmp_c3m2la3.lp\n",
      "Reading time = 0.02 seconds\n",
      ": 1807 rows, 5170 columns, 20304 nonzeros\n"
     ]
    },
    {
     "name": "stderr",
     "output_type": "stream",
     "text": [
      "2021-10-28 17:00:31,181 - thermomodel_RelaxedModel iJO1366[WT] - INFO - # Model initialized with units kcal/mol and temperature 298.15 K\n"
     ]
    },
    {
     "name": "stdout",
     "output_type": "stream",
     "text": [
      "done with gene: mdh\n",
      "Read LP format model from file /var/folders/17/58pxvfhj0gb_wz2nzgrzc6pc0000gn/T/tmpzzposnr4.lp\n",
      "Reading time = 0.02 seconds\n",
      ": 1807 rows, 5170 columns, 20304 nonzeros\n"
     ]
    },
    {
     "name": "stderr",
     "output_type": "stream",
     "text": [
      "2021-10-28 17:00:50,123 - thermomodel_RelaxedModel iJO1366[WT] - INFO - # Model initialized with units kcal/mol and temperature 298.15 K\n"
     ]
    },
    {
     "name": "stdout",
     "output_type": "stream",
     "text": [
      "done with gene: nirB\n",
      "Read LP format model from file /var/folders/17/58pxvfhj0gb_wz2nzgrzc6pc0000gn/T/tmpkm82a99x.lp\n",
      "Reading time = 0.02 seconds\n",
      ": 1807 rows, 5170 columns, 20304 nonzeros\n"
     ]
    },
    {
     "name": "stderr",
     "output_type": "stream",
     "text": [
      "2021-10-28 17:01:08,092 - thermomodel_RelaxedModel iJO1366[WT] - INFO - # Model initialized with units kcal/mol and temperature 298.15 K\n"
     ]
    },
    {
     "name": "stdout",
     "output_type": "stream",
     "text": [
      "done with gene: cysG\n",
      "Read LP format model from file /var/folders/17/58pxvfhj0gb_wz2nzgrzc6pc0000gn/T/tmp04dn77fp.lp\n",
      "Reading time = 0.01 seconds\n",
      ": 1807 rows, 5170 columns, 20304 nonzeros\n"
     ]
    },
    {
     "name": "stderr",
     "output_type": "stream",
     "text": [
      "2021-10-28 17:01:44,386 - thermomodel_RelaxedModel iJO1366[WT] - INFO - # Model initialized with units kcal/mol and temperature 298.15 K\n"
     ]
    },
    {
     "name": "stdout",
     "output_type": "stream",
     "text": [
      "done with gene: asd\n",
      "Read LP format model from file /var/folders/17/58pxvfhj0gb_wz2nzgrzc6pc0000gn/T/tmp6pq0em5c.lp\n",
      "Reading time = 0.02 seconds\n",
      ": 1807 rows, 5170 columns, 20304 nonzeros\n"
     ]
    },
    {
     "name": "stderr",
     "output_type": "stream",
     "text": [
      "2021-10-28 17:02:33,703 - thermomodel_RelaxedModel iJO1366[WT] - INFO - # Model initialized with units kcal/mol and temperature 298.15 K\n"
     ]
    },
    {
     "name": "stdout",
     "output_type": "stream",
     "text": [
      "done with gene: gor\n",
      "Read LP format model from file /var/folders/17/58pxvfhj0gb_wz2nzgrzc6pc0000gn/T/tmp080p7ioy.lp\n",
      "Reading time = 0.02 seconds\n",
      ": 1807 rows, 5170 columns, 20304 nonzeros\n"
     ]
    },
    {
     "name": "stderr",
     "output_type": "stream",
     "text": [
      "2021-10-28 17:07:21,252 - thermomodel_RelaxedModel iJO1366[WT] - INFO - # Model initialized with units kcal/mol and temperature 298.15 K\n"
     ]
    },
    {
     "name": "stdout",
     "output_type": "stream",
     "text": [
      "done with gene: ghrB\n",
      "Read LP format model from file /var/folders/17/58pxvfhj0gb_wz2nzgrzc6pc0000gn/T/tmpctmluqjl.lp\n",
      "Reading time = 0.02 seconds\n",
      ": 1807 rows, 5170 columns, 20304 nonzeros\n"
     ]
    },
    {
     "name": "stderr",
     "output_type": "stream",
     "text": [
      "2021-10-28 17:07:36,630 - thermomodel_RelaxedModel iJO1366[WT] - INFO - # Model initialized with units kcal/mol and temperature 298.15 K\n"
     ]
    },
    {
     "name": "stdout",
     "output_type": "stream",
     "text": [
      "done with gene: yiaK\n",
      "Read LP format model from file /var/folders/17/58pxvfhj0gb_wz2nzgrzc6pc0000gn/T/tmp6avpldfq.lp\n",
      "Reading time = 0.02 seconds\n",
      ": 1807 rows, 5170 columns, 20304 nonzeros\n"
     ]
    },
    {
     "name": "stderr",
     "output_type": "stream",
     "text": [
      "2021-10-28 17:08:10,710 - thermomodel_RelaxedModel iJO1366[WT] - INFO - # Model initialized with units kcal/mol and temperature 298.15 K\n"
     ]
    },
    {
     "name": "stdout",
     "output_type": "stream",
     "text": [
      "done with gene: mtlD\n",
      "Read LP format model from file /var/folders/17/58pxvfhj0gb_wz2nzgrzc6pc0000gn/T/tmpijh6vsga.lp\n",
      "Reading time = 0.02 seconds\n",
      ": 1807 rows, 5170 columns, 20304 nonzeros\n"
     ]
    },
    {
     "name": "stderr",
     "output_type": "stream",
     "text": [
      "2021-10-28 17:08:45,529 - thermomodel_RelaxedModel iJO1366[WT] - INFO - # Model initialized with units kcal/mol and temperature 298.15 K\n"
     ]
    },
    {
     "name": "stdout",
     "output_type": "stream",
     "text": [
      "done with gene: gpsA\n",
      "Read LP format model from file /var/folders/17/58pxvfhj0gb_wz2nzgrzc6pc0000gn/T/tmp5gh14x73.lp\n",
      "Reading time = 0.02 seconds\n",
      ": 1807 rows, 5170 columns, 20304 nonzeros\n"
     ]
    },
    {
     "name": "stderr",
     "output_type": "stream",
     "text": [
      "2021-10-28 17:09:13,441 - thermomodel_RelaxedModel iJO1366[WT] - INFO - # Model initialized with units kcal/mol and temperature 298.15 K\n"
     ]
    },
    {
     "name": "stdout",
     "output_type": "stream",
     "text": [
      "done with gene: tdh\n",
      "Read LP format model from file /var/folders/17/58pxvfhj0gb_wz2nzgrzc6pc0000gn/T/tmphfz3u5y8.lp\n",
      "Reading time = 0.02 seconds\n",
      ": 1807 rows, 5170 columns, 20304 nonzeros\n"
     ]
    },
    {
     "name": "stderr",
     "output_type": "stream",
     "text": [
      "2021-10-28 17:09:58,589 - thermomodel_RelaxedModel iJO1366[WT] - INFO - # Model initialized with units kcal/mol and temperature 298.15 K\n"
     ]
    },
    {
     "name": "stdout",
     "output_type": "stream",
     "text": [
      "done with gene: ilvC\n",
      "Read LP format model from file /var/folders/17/58pxvfhj0gb_wz2nzgrzc6pc0000gn/T/tmpynd_kp2o.lp\n",
      "Reading time = 0.02 seconds\n",
      ": 1807 rows, 5170 columns, 20304 nonzeros\n"
     ]
    },
    {
     "name": "stderr",
     "output_type": "stream",
     "text": [
      "2021-10-28 17:10:54,720 - thermomodel_RelaxedModel iJO1366[WT] - INFO - # Model initialized with units kcal/mol and temperature 298.15 K\n"
     ]
    },
    {
     "name": "stdout",
     "output_type": "stream",
     "text": [
      "done with gene: wecC\n",
      "Read LP format model from file /var/folders/17/58pxvfhj0gb_wz2nzgrzc6pc0000gn/T/tmpy9xqieet.lp\n",
      "Reading time = 0.02 seconds\n",
      ": 1807 rows, 5170 columns, 20304 nonzeros\n"
     ]
    },
    {
     "name": "stderr",
     "output_type": "stream",
     "text": [
      "2021-10-28 17:11:48,594 - thermomodel_RelaxedModel iJO1366[WT] - INFO - # Model initialized with units kcal/mol and temperature 298.15 K\n"
     ]
    },
    {
     "name": "stdout",
     "output_type": "stream",
     "text": [
      "done with gene: fre\n",
      "Read LP format model from file /var/folders/17/58pxvfhj0gb_wz2nzgrzc6pc0000gn/T/tmpuggr_ha1.lp\n",
      "Reading time = 0.01 seconds\n",
      ": 1807 rows, 5170 columns, 20304 nonzeros\n"
     ]
    },
    {
     "name": "stderr",
     "output_type": "stream",
     "text": [
      "2021-10-28 17:12:13,408 - thermomodel_RelaxedModel iJO1366[WT] - INFO - # Model initialized with units kcal/mol and temperature 298.15 K\n"
     ]
    },
    {
     "name": "stdout",
     "output_type": "stream",
     "text": [
      "done with gene: yihU\n",
      "Read LP format model from file /var/folders/17/58pxvfhj0gb_wz2nzgrzc6pc0000gn/T/tmp4r7iiz1t.lp\n",
      "Reading time = 0.02 seconds\n",
      ": 1807 rows, 5170 columns, 20304 nonzeros\n"
     ]
    },
    {
     "name": "stderr",
     "output_type": "stream",
     "text": [
      "2021-10-28 17:12:49,108 - thermomodel_RelaxedModel iJO1366[WT] - INFO - # Model initialized with units kcal/mol and temperature 298.15 K\n"
     ]
    },
    {
     "name": "stdout",
     "output_type": "stream",
     "text": [
      "done with gene: metF\n",
      "Read LP format model from file /var/folders/17/58pxvfhj0gb_wz2nzgrzc6pc0000gn/T/tmpmfbcfpf8.lp\n",
      "Reading time = 0.02 seconds\n",
      ": 1807 rows, 5170 columns, 20304 nonzeros\n"
     ]
    },
    {
     "name": "stderr",
     "output_type": "stream",
     "text": [
      "2021-10-28 17:13:41,554 - thermomodel_RelaxedModel iJO1366[WT] - INFO - # Model initialized with units kcal/mol and temperature 298.15 K\n"
     ]
    },
    {
     "name": "stdout",
     "output_type": "stream",
     "text": [
      "done with gene: gldA\n",
      "Read LP format model from file /var/folders/17/58pxvfhj0gb_wz2nzgrzc6pc0000gn/T/tmpapjxx3rs.lp\n",
      "Reading time = 0.01 seconds\n",
      ": 1807 rows, 5170 columns, 20304 nonzeros\n"
     ]
    },
    {
     "name": "stderr",
     "output_type": "stream",
     "text": [
      "2021-10-28 17:13:57,893 - thermomodel_RelaxedModel iJO1366[WT] - INFO - # Model initialized with units kcal/mol and temperature 298.15 K\n"
     ]
    },
    {
     "name": "stdout",
     "output_type": "stream",
     "text": [
      "done with gene: argC\n",
      "Read LP format model from file /var/folders/17/58pxvfhj0gb_wz2nzgrzc6pc0000gn/T/tmpa3nq_ro3.lp\n",
      "Reading time = 0.02 seconds\n",
      ": 1807 rows, 5170 columns, 20304 nonzeros\n"
     ]
    },
    {
     "name": "stderr",
     "output_type": "stream",
     "text": [
      "2021-10-28 17:14:33,911 - thermomodel_RelaxedModel iJO1366[WT] - INFO - # Model initialized with units kcal/mol and temperature 298.15 K\n"
     ]
    },
    {
     "name": "stdout",
     "output_type": "stream",
     "text": [
      "done with gene: murB\n",
      "Read LP format model from file /var/folders/17/58pxvfhj0gb_wz2nzgrzc6pc0000gn/T/tmpqta22rp1.lp\n",
      "Reading time = 0.01 seconds\n",
      ": 1807 rows, 5170 columns, 20304 nonzeros\n"
     ]
    },
    {
     "name": "stderr",
     "output_type": "stream",
     "text": [
      "2021-10-28 17:15:53,877 - thermomodel_RelaxedModel iJO1366[WT] - INFO - # Model initialized with units kcal/mol and temperature 298.15 K\n"
     ]
    },
    {
     "name": "stdout",
     "output_type": "stream",
     "text": [
      "done with gene: idnO\n",
      "Read LP format model from file /var/folders/17/58pxvfhj0gb_wz2nzgrzc6pc0000gn/T/tmpcb2hd3un.lp\n",
      "Reading time = 0.02 seconds\n",
      ": 1807 rows, 5170 columns, 20304 nonzeros\n"
     ]
    },
    {
     "name": "stderr",
     "output_type": "stream",
     "text": [
      "2021-10-28 17:16:10,549 - thermomodel_RelaxedModel iJO1366[WT] - INFO - # Model initialized with units kcal/mol and temperature 298.15 K\n"
     ]
    },
    {
     "name": "stdout",
     "output_type": "stream",
     "text": [
      "done with gene: idnD\n",
      "Read LP format model from file /var/folders/17/58pxvfhj0gb_wz2nzgrzc6pc0000gn/T/tmpsn6k5coz.lp\n",
      "Reading time = 0.01 seconds\n",
      ": 1807 rows, 5170 columns, 20304 nonzeros\n"
     ]
    },
    {
     "name": "stderr",
     "output_type": "stream",
     "text": [
      "2021-10-28 17:16:25,075 - thermomodel_RelaxedModel iJO1366[WT] - INFO - # Model initialized with units kcal/mol and temperature 298.15 K\n"
     ]
    },
    {
     "name": "stdout",
     "output_type": "stream",
     "text": [
      "done with gene: uxuB\n",
      "Read LP format model from file /var/folders/17/58pxvfhj0gb_wz2nzgrzc6pc0000gn/T/tmpgy1i7xzd.lp\n",
      "Reading time = 0.03 seconds\n",
      ": 1807 rows, 5170 columns, 20304 nonzeros\n"
     ]
    },
    {
     "name": "stderr",
     "output_type": "stream",
     "text": [
      "2021-10-28 17:17:42,000 - thermomodel_RelaxedModel iJO1366[WT] - INFO - # Model initialized with units kcal/mol and temperature 298.15 K\n"
     ]
    },
    {
     "name": "stdout",
     "output_type": "stream",
     "text": [
      "done with gene: lgoD\n"
     ]
    }
   ],
   "source": [
    "results_sgm_tfa = {'gene': [], 'growth_rate': []}\n",
    "for gene,dfn in gene_set.groupby('gene'):\n",
    "    m = wt_model.copy()\n",
    "    for idx,row in dfn.iterrows():\n",
    "        if row.reaction in [x.id for x in m.reactions]:\n",
    "            #j = np.where([x.id == row.reaction for x in m.reactions])[0][0]\n",
    "            # swap reaction, keep direction from wild type reaction\n",
    "            m = swap_reaction_rid(m,row.reaction)\n",
    "            \n",
    "    #m.id = m.id + '_' + gene + '_' + dfn['mutant coenzyme'].tolist()[0].split('(')[0]\n",
    "    v = m.slim_optimize()\n",
    "    results_sgm_tfa['gene'].append(gene)\n",
    "    results_sgm_tfa['growth_rate'].append(v)\n",
    "    print('done with gene: ' + dfn.gene_name.tolist()[0])"
   ]
  },
  {
   "cell_type": "code",
   "execution_count": 27,
   "id": "injured-replacement",
   "metadata": {},
   "outputs": [],
   "source": [
    "gr = pd.DataFrame(results_sgm_tfa)\n",
    "gr = gene_set[['gene','gene_name']].drop_duplicates().set_index('gene').join(gr.set_index('gene'))\n",
    "gr['rel_growth_rate'] = gr['growth_rate'] / tfa_solution_wt.objective_value"
   ]
  },
  {
   "cell_type": "code",
   "execution_count": 28,
   "id": "inside-death",
   "metadata": {},
   "outputs": [
    {
     "data": {
      "text/plain": [
       "<seaborn.axisgrid.FacetGrid at 0x7fb4ea130460>"
      ]
     },
     "execution_count": 28,
     "metadata": {},
     "output_type": "execute_result"
    },
    {
     "data": {
      "image/png": "[encoded data removed]",
      "text/plain": [
       "<Figure size 360x360 with 1 Axes>"
      ]
     },
     "metadata": {
      "needs_background": "light"
     },
     "output_type": "display_data"
    }
   ],
   "source": [
    "sns.displot(x='rel_growth_rate',data=gr,kind='ecdf')"
   ]
  },
  {
   "cell_type": "code",
   "execution_count": 31,
   "id": "continued-school",
   "metadata": {},
   "outputs": [],
   "source": [
    "gr.to_csv('sgm.iJO1366.pyTFA.glucoseOxygen.76genes.28Oct2021.csv')"
   ]
  },
  {
   "cell_type": "code",
   "execution_count": 58,
   "id": "corresponding-spider",
   "metadata": {},
   "outputs": [
    {
     "data": {
      "text/html": [
       "<div>\n",
       "<style scoped>\n",
       "    .dataframe tbody tr th:only-of-type {\n",
       "        vertical-align: middle;\n",
       "    }\n",
       "\n",
       "    .dataframe tbody tr th {\n",
       "        vertical-align: top;\n",
       "    }\n",
       "\n",
       "    .dataframe thead th {\n",
       "        text-align: right;\n",
       "    }\n",
       "</style>\n",
       "<table border=\"1\" class=\"dataframe\">\n",
       "  <thead>\n",
       "    <tr style=\"text-align: right;\">\n",
       "      <th></th>\n",
       "      <th>gene_name</th>\n",
       "      <th>growth_rate</th>\n",
       "      <th>rel_growth_rate</th>\n",
       "      <th>mu (relative)</th>\n",
       "    </tr>\n",
       "    <tr>\n",
       "      <th>gene</th>\n",
       "      <th></th>\n",
       "      <th></th>\n",
       "      <th></th>\n",
       "      <th></th>\n",
       "    </tr>\n",
       "  </thead>\n",
       "  <tbody>\n",
       "    <tr>\n",
       "      <th>b2029</th>\n",
       "      <td>gnd</td>\n",
       "      <td>0.823182</td>\n",
       "      <td>0.982320</td>\n",
       "      <td>0.982320</td>\n",
       "    </tr>\n",
       "    <tr>\n",
       "      <th>b1852</th>\n",
       "      <td>zwf</td>\n",
       "      <td>0.823183</td>\n",
       "      <td>0.982321</td>\n",
       "      <td>0.982321</td>\n",
       "    </tr>\n",
       "    <tr>\n",
       "      <th>b1479</th>\n",
       "      <td>maeA</td>\n",
       "      <td>0.834095</td>\n",
       "      <td>0.995342</td>\n",
       "      <td>0.995342</td>\n",
       "    </tr>\n",
       "    <tr>\n",
       "      <th>b3844</th>\n",
       "      <td>fre</td>\n",
       "      <td>0.834902</td>\n",
       "      <td>0.996306</td>\n",
       "      <td>0.996306</td>\n",
       "    </tr>\n",
       "    <tr>\n",
       "      <th>b3616</th>\n",
       "      <td>tdh</td>\n",
       "      <td>0.837142</td>\n",
       "      <td>0.998979</td>\n",
       "      <td>0.998979</td>\n",
       "    </tr>\n",
       "    <tr>\n",
       "      <th>...</th>\n",
       "      <td>...</td>\n",
       "      <td>...</td>\n",
       "      <td>...</td>\n",
       "      <td>...</td>\n",
       "    </tr>\n",
       "    <tr>\n",
       "      <th>b1761</th>\n",
       "      <td>gdhA</td>\n",
       "      <td>1.140422</td>\n",
       "      <td>1.360889</td>\n",
       "      <td>1.360889</td>\n",
       "    </tr>\n",
       "    <tr>\n",
       "      <th>b0312</th>\n",
       "      <td>betB</td>\n",
       "      <td>1.140422</td>\n",
       "      <td>1.360889</td>\n",
       "      <td>1.360889</td>\n",
       "    </tr>\n",
       "    <tr>\n",
       "      <th>b0386</th>\n",
       "      <td>proC</td>\n",
       "      <td>1.140422</td>\n",
       "      <td>1.360889</td>\n",
       "      <td>1.360889</td>\n",
       "    </tr>\n",
       "    <tr>\n",
       "      <th>b3553</th>\n",
       "      <td>ghrB</td>\n",
       "      <td>1.140422</td>\n",
       "      <td>1.360889</td>\n",
       "      <td>1.360889</td>\n",
       "    </tr>\n",
       "    <tr>\n",
       "      <th>b3365</th>\n",
       "      <td>nirB</td>\n",
       "      <td>10.083812</td>\n",
       "      <td>12.033218</td>\n",
       "      <td>2.000000</td>\n",
       "    </tr>\n",
       "  </tbody>\n",
       "</table>\n",
       "<p>76 rows × 4 columns</p>\n",
       "</div>"
      ],
      "text/plain": [
       "      gene_name  growth_rate  rel_growth_rate  mu (relative)\n",
       "gene                                                        \n",
       "b2029       gnd     0.823182         0.982320       0.982320\n",
       "b1852       zwf     0.823183         0.982321       0.982321\n",
       "b1479      maeA     0.834095         0.995342       0.995342\n",
       "b3844       fre     0.834902         0.996306       0.996306\n",
       "b3616       tdh     0.837142         0.998979       0.998979\n",
       "...         ...          ...              ...            ...\n",
       "b1761      gdhA     1.140422         1.360889       1.360889\n",
       "b0312      betB     1.140422         1.360889       1.360889\n",
       "b0386      proC     1.140422         1.360889       1.360889\n",
       "b3553      ghrB     1.140422         1.360889       1.360889\n",
       "b3365      nirB    10.083812        12.033218       2.000000\n",
       "\n",
       "[76 rows x 4 columns]"
      ]
     },
     "execution_count": 58,
     "metadata": {},
     "output_type": "execute_result"
    }
   ],
   "source": [
    "gr.sort_values('rel_growth_rate')"
   ]
  },
  {
   "cell_type": "code",
   "execution_count": 46,
   "id": "mobile-cooper",
   "metadata": {},
   "outputs": [
    {
     "data": {
      "text/plain": [
       "(array([ 0,  1,  2,  3,  4,  5,  6,  7,  8,  9, 10, 11, 12, 13, 14, 15, 16,\n",
       "        17, 18, 19, 20, 21, 22, 23, 24, 25, 26, 27, 28, 29, 30, 31, 32, 33,\n",
       "        34, 35, 36, 37, 38, 39, 40, 41, 42, 43, 44, 45, 46, 47, 48, 49, 50,\n",
       "        51, 52, 53, 54, 55, 56, 57, 58, 59, 60, 61, 62, 63, 64, 65, 66, 67,\n",
       "        68, 69, 70, 71, 72, 73, 74]),\n",
       " [Text(0, 0, 'gnd'),\n",
       "  Text(1, 0, 'zwf'),\n",
       "  Text(2, 0, 'maeA'),\n",
       "  Text(3, 0, 'fre'),\n",
       "  Text(4, 0, 'tdh'),\n",
       "  Text(5, 0, 'putA'),\n",
       "  Text(6, 0, 'metF'),\n",
       "  Text(7, 0, 'gpsA'),\n",
       "  Text(8, 0, 'gatD'),\n",
       "  Text(9, 0, 'hcaD'),\n",
       "  Text(10, 0, 'queF'),\n",
       "  Text(11, 0, 'uxaB'),\n",
       "  Text(12, 0, 'paaZ'),\n",
       "  Text(13, 0, 'srlD'),\n",
       "  Text(14, 0, 'frmA'),\n",
       "  Text(15, 0, 'proA'),\n",
       "  Text(16, 0, 'arnA'),\n",
       "  Text(17, 0, 'yihU'),\n",
       "  Text(18, 0, 'patD'),\n",
       "  Text(19, 0, 'xdhB'),\n",
       "  Text(20, 0, 'yiaK'),\n",
       "  Text(21, 0, 'wecC'),\n",
       "  Text(22, 0, 'ugd'),\n",
       "  Text(23, 0, 'cysJ'),\n",
       "  Text(24, 0, 'ydiB'),\n",
       "  Text(25, 0, 'dmlA'),\n",
       "  Text(26, 0, 'allD'),\n",
       "  Text(27, 0, 'wcaG'),\n",
       "  Text(28, 0, 'mtlD'),\n",
       "  Text(29, 0, 'feaB'),\n",
       "  Text(30, 0, 'uxuB'),\n",
       "  Text(31, 0, 'pdxA'),\n",
       "  Text(32, 0, 'cysG'),\n",
       "  Text(33, 0, 'ribD'),\n",
       "  Text(34, 0, 'entA'),\n",
       "  Text(35, 0, 'pdxB'),\n",
       "  Text(36, 0, 'aldA'),\n",
       "  Text(37, 0, 'preT'),\n",
       "  Text(38, 0, 'hcaB'),\n",
       "  Text(39, 0, 'paaH'),\n",
       "  Text(40, 0, 'ydfG'),\n",
       "  Text(41, 0, 'astD'),\n",
       "  Text(42, 0, 'lgoD'),\n",
       "  Text(43, 0, 'sad'),\n",
       "  Text(44, 0, 'fucO'),\n",
       "  Text(45, 0, 'rfbD'),\n",
       "  Text(46, 0, 'dxr'),\n",
       "  Text(47, 0, 'murB'),\n",
       "  Text(48, 0, 'tyrA'),\n",
       "  Text(49, 0, 'hisD'),\n",
       "  Text(50, 0, 'guaB'),\n",
       "  Text(51, 0, 'trxB'),\n",
       "  Text(52, 0, 'gor'),\n",
       "  Text(53, 0, 'argC'),\n",
       "  Text(54, 0, 'dapB'),\n",
       "  Text(55, 0, 'leuB'),\n",
       "  Text(56, 0, 'asd'),\n",
       "  Text(57, 0, 'icd'),\n",
       "  Text(58, 0, 'maeB'),\n",
       "  Text(59, 0, 'ilvC'),\n",
       "  Text(60, 0, 'guaC'),\n",
       "  Text(61, 0, 'gltD'),\n",
       "  Text(62, 0, 'serA'),\n",
       "  Text(63, 0, 'folD'),\n",
       "  Text(64, 0, 'lpd'),\n",
       "  Text(65, 0, 'gapA'),\n",
       "  Text(66, 0, 'puuC'),\n",
       "  Text(67, 0, 'idnO'),\n",
       "  Text(68, 0, 'idnD'),\n",
       "  Text(69, 0, 'mdh'),\n",
       "  Text(70, 0, 'gldA'),\n",
       "  Text(71, 0, 'gdhA'),\n",
       "  Text(72, 0, 'betB'),\n",
       "  Text(73, 0, 'proC'),\n",
       "  Text(74, 0, 'ghrB')])"
      ]
     },
     "execution_count": 46,
     "metadata": {},
     "output_type": "execute_result"
    },
    {
     "data": {
      "image/png": "[encoded data removed]",
      "text/plain": [
       "<Figure size 1152x216 with 1 Axes>"
      ]
     },
     "metadata": {
      "needs_background": "light"
     },
     "output_type": "display_data"
    }
   ],
   "source": [
    "plt.figure(figsize=(16,3))\n",
    "sns.barplot(x='gene_name',y='rel_growth_rate',data=gr.sort_values('rel_growth_rate').iloc[0:75],color='grey')\n",
    "plt.xticks(rotation=60)"
   ]
  },
  {
   "cell_type": "code",
   "execution_count": 55,
   "id": "regional-award",
   "metadata": {},
   "outputs": [
    {
     "data": {
      "image/png": "[encoded data removed]",
      "text/plain": [
       "<Figure size 216x1152 with 1 Axes>"
      ]
     },
     "metadata": {
      "needs_background": "light"
     },
     "output_type": "display_data"
    }
   ],
   "source": [
    "gr['mu (relative)'] = gr['rel_growth_rate'].clip(upper=2)\n",
    "plt.figure(figsize=(3,16))\n",
    "sns.barplot(y='gene_name',x='mu (relative)',data=gr.sort_values('rel_growth_rate'),color='grey')\n",
    "#plt.xticks(rotation=60)\n",
    "#plt.savefig('barchart.sgm.iJO1366.pyTFA.glucoseOxygen.76genes.28Oct2021.svg')"
   ]
  },
  {
   "cell_type": "code",
   "execution_count": 218,
   "id": "suited-teach",
   "metadata": {},
   "outputs": [],
   "source": [
    "wt_fluxes = pd.DataFrame(tfa_solution_wt.fluxes)\n",
    "sc_fluxes = pd.DataFrame(tfa_solution_sc_trimmed.fluxes)\n",
    "wt_fluxes.columns = ['WT']\n",
    "sc_fluxes.columns = ['SC']\n",
    "res = wt_fluxes.join(sc_fluxes)"
   ]
  },
  {
   "cell_type": "code",
   "execution_count": 247,
   "id": "modular-strategy",
   "metadata": {},
   "outputs": [
    {
     "name": "stdout",
     "output_type": "stream",
     "text": [
      "Read LP format model from file /var/folders/17/58pxvfhj0gb_wz2nzgrzc6pc0000gn/T/tmpoocf_1g2.lp\n",
      "Reading time = 0.02 seconds\n",
      ": 1807 rows, 5170 columns, 20304 nonzeros\n"
     ]
    },
    {
     "name": "stderr",
     "output_type": "stream",
     "text": [
      "2021-10-20 09:53:21,494 - thermomodel_RelaxedModel iJO1366[WT] - INFO - # Model initialized with units kcal/mol and temperature 298.15 K\n"
     ]
    }
   ],
   "source": [
    "wt_model_dl = wt_model.copy()"
   ]
  },
  {
   "cell_type": "code",
   "execution_count": 248,
   "id": "retired-eight",
   "metadata": {},
   "outputs": [],
   "source": [
    "rxn_to_remove = ['GAPD']\n",
    "wt_model_dl.remove_reactions(rxn_to_remove)"
   ]
  },
  {
   "cell_type": "code",
   "execution_count": 249,
   "id": "governmental-circle",
   "metadata": {},
   "outputs": [
    {
     "data": {
      "text/plain": [
       "0.8171423679661247"
      ]
     },
     "execution_count": 249,
     "metadata": {},
     "output_type": "execute_result"
    }
   ],
   "source": [
    "wt_model_dl.slim_optimize()"
   ]
  },
  {
   "cell_type": "code",
   "execution_count": 186,
   "id": "sealed-calendar",
   "metadata": {},
   "outputs": [
    {
     "name": "stdout",
     "output_type": "stream",
     "text": [
      "Read LP format model from file /var/folders/17/58pxvfhj0gb_wz2nzgrzc6pc0000gn/T/tmp37gkhr8p.lp\n",
      "Reading time = 0.02 seconds\n",
      ": 1805 rows, 5162 columns, 20260 nonzeros\n"
     ]
    },
    {
     "name": "stderr",
     "output_type": "stream",
     "text": [
      "2021-10-19 11:34:50,256 - thermomodel_RelaxedModel iJO1366[NAD] - INFO - # Model initialized with units kcal/mol and temperature 298.15 K\n"
     ]
    }
   ],
   "source": [
    "sc_model_trimmed, removedReactions = removeDuplicateRxn(sc_model)"
   ]
  },
  {
   "cell_type": "code",
   "execution_count": 189,
   "id": "commercial-combat",
   "metadata": {},
   "outputs": [
    {
     "name": "stdout",
     "output_type": "stream",
     "text": [
      "TFA Solution found for SC model : 0.72479\n"
     ]
    }
   ],
   "source": [
    "#removedReactions\n",
    "tfa_solution_sc_trimmed = sc_model_trimmed.optimize()\n",
    "tfa_value_sc_trimmed = tfa_solution_sc_trimmed.objective_value\n",
    "# Report\n",
    "print('TFA Solution found for SC model : {0:.5g}'.format(tfa_value_sc_trimmed))\n"
   ]
  },
  {
   "cell_type": "code",
   "execution_count": 191,
   "id": "capable-theme",
   "metadata": {},
   "outputs": [],
   "source": [
    "tfa_solution_wt.fluxes.to_csv('tfa.wt.fluxes.19Oct2021.csv')\n",
    "#tfa_solution_sc.fluxes.to_csv('tfa.sc.fluxes.19Oct2021.csv')\n",
    "tfa_solution_sc_trimmed.fluxes.to_csv('tfa.sc.removedRedundantRxns.fluxes.19Oct2021.csv')\n"
   ]
  },
  {
   "cell_type": "code",
   "execution_count": 219,
   "id": "appropriate-column",
   "metadata": {},
   "outputs": [
    {
     "data": {
      "text/plain": [
       "<AxesSubplot:xlabel='WT', ylabel='SC'>"
      ]
     },
     "execution_count": 219,
     "metadata": {},
     "output_type": "execute_result"
    },
    {
     "data": {
      "image/png": "[encoded data removed]",
      "text/plain": [
       "<Figure size 432x288 with 1 Axes>"
      ]
     },
     "metadata": {
      "needs_background": "light"
     },
     "output_type": "display_data"
    }
   ],
   "source": [
    "sns.scatterplot(x='WT',y='SC',data=res)\n",
    "#plt.xlim([-40,40])\n",
    "#plt.ylim([-40,40])"
   ]
  },
  {
   "cell_type": "code",
   "execution_count": 220,
   "id": "injured-roberts",
   "metadata": {},
   "outputs": [],
   "source": [
    "score = abs(res['WT'] - res['SC'])"
   ]
  },
  {
   "cell_type": "code",
   "execution_count": 221,
   "id": "endangered-courtesy",
   "metadata": {},
   "outputs": [],
   "source": [
    "subsystem = [wt_model.reactions.get_by_id(x).subsystem for x in score.index.tolist()]"
   ]
  },
  {
   "cell_type": "code",
   "execution_count": 222,
   "id": "treated-control",
   "metadata": {},
   "outputs": [],
   "source": [
    "res_score = pd.DataFrame(score,columns=['score']).join(pd.DataFrame(pd.Series(subsystem,index= score.index),columns=['subsystem']))"
   ]
  },
  {
   "cell_type": "code",
   "execution_count": 224,
   "id": "reasonable-consent",
   "metadata": {},
   "outputs": [
    {
     "data": {
      "text/plain": [
       "<seaborn.axisgrid.FacetGrid at 0x7ff6705c3730>"
      ]
     },
     "execution_count": 224,
     "metadata": {},
     "output_type": "execute_result"
    },
    {
     "data": {
      "image/png": "[encoded data removed]",
      "text/plain": [
       "<Figure size 360x360 with 1 Axes>"
      ]
     },
     "metadata": {
      "needs_background": "light"
     },
     "output_type": "display_data"
    }
   ],
   "source": [
    "sns.catplot(y='subsystem',x='score',data=res_score)"
   ]
  },
  {
   "cell_type": "code",
   "execution_count": 234,
   "id": "activated-paintball",
   "metadata": {},
   "outputs": [
    {
     "data": {
      "text/plain": [
       "GALBDtex        0.000000\n",
       "GLCURtex        0.000000\n",
       "GLCURt2rpp      0.000000\n",
       "GLCUR1Ptex      0.000000\n",
       "QUIN2tpp        0.000000\n",
       "                 ...    \n",
       "THRt4pp       100.000000\n",
       "ASPt2rpp      100.000000\n",
       "NAt3pp        100.000000\n",
       "THRt2rpp      100.000000\n",
       "FADRx         100.061063\n",
       "Name: score, Length: 2523, dtype: float64"
      ]
     },
     "execution_count": 234,
     "metadata": {},
     "output_type": "execute_result"
    }
   ],
   "source": []
  },
  {
   "cell_type": "code",
   "execution_count": 185,
   "id": "related-angola",
   "metadata": {},
   "outputs": [],
   "source": [
    "from copy import deepcopy\n",
    "def removeDuplicateRxn(model):\n",
    "\tmodel2 = deepcopy(model)\n",
    "\ttoRemove = []\n",
    "\tfor eachReaction in model2.reactions:\n",
    "\n",
    "\t\tif eachReaction.id in toRemove:\n",
    "\t\t\tcontinue\n",
    "\n",
    "\t\tids = []\n",
    "\t\tstechiometry = []\n",
    "\t\tfor eachMet in eachReaction.metabolites:\n",
    "\t\t\tids.append(eachMet.id)\n",
    "\t\t\tstechiometry.append(eachReaction.metabolites[eachMet])\n",
    "\n",
    "\t\tremovedEachReaction = 0\n",
    "\t\tfor eachReaction2 in model2.reactions:\n",
    "\t\t\tif eachReaction2 == eachReaction or eachReaction2.id in toRemove or len(eachReaction2.metabolites) != len(eachReaction.metabolites):\n",
    "\t\t\t\tcontinue\n",
    "\t\t\t\n",
    "\t\t\tduplicate = 1\n",
    "\t\t\tfor eachMet in eachReaction2.metabolites:\n",
    "\t\t\t\n",
    "\t\t\t\tif eachMet.id not in ids:\n",
    "\t\t\t\t\tduplicate = 0\n",
    "\t\t\t\t\tbreak\n",
    "\t\t\t\t\t\n",
    "\t\t\t\tif abs(eachReaction2.metabolites[eachMet]) != abs(stechiometry[ids.index(eachMet.id)]):\n",
    "\t\t\t\t\tduplicate = 0\n",
    "\t\t\t\t\tbreak\n",
    "\t\t\t\n",
    "\t\t\tif duplicate == 1:\n",
    "\t\t\t\t\n",
    "\t\t\t\tif len(eachReaction2.genes) == 0 and len(eachReaction.genes) == 0:\n",
    "\t\t\t\t\tif eachReaction2.lower_bound < eachReaction.lower_bound:\n",
    "\t\t\t\t\t\ttoRemove.append(eachReaction.id)\n",
    "\t\t\t\t\t\tremovedEachReaction = 1\n",
    "\t\t\t\t\telse:\n",
    "\t\t\t\t\t\ttoRemove.append(eachReaction2.id)\n",
    "\t\t\t\t\n",
    "\t\t\t\telif len(eachReaction2.genes) == 0 and len(eachReaction.genes) != 0:\n",
    "\t\t\t\t\ttoRemove.append(eachReaction.id)\n",
    "\t\t\t\t\tremovedEachReaction = 1\n",
    "\t\t\t\t\t\n",
    "\t\t\t\telif len(eachReaction2.genes) != 0 and len(eachReaction.genes) == 0:\n",
    "\t\t\t\t\ttoRemove.append(eachReaction2.id)\n",
    "\t\t\t\t\n",
    "\t\t\t\telif len(eachReaction2.genes) != 0 and len(eachReaction.genes) != 0:\n",
    "\t\t\t\t\t\n",
    "\t\t\t\t\ttotalGenes = []\n",
    "\t\t\t\t\tfor eachGene in eachReaction2.genes:\n",
    "\t\t\t\t\t\ttotalGenes.append(eachGene.id)\n",
    "\t\t\t\t\tfor eachGene in eachReaction.genes:\n",
    "\t\t\t\t\t\tif eachGene.id not in totalGenes:\n",
    "\t\t\t\t\t\t\ttotalGenes.append(eachGene.id)\n",
    "\t\t\t\t\n",
    "\t\t\t\t\tif eachReaction2.lower_bound < eachReaction.lower_bound:\n",
    "\t\t\t\t\t\ttoRemove.append(eachReaction.id)\n",
    "\t\t\t\t\t\tif len(eachReaction2.genes) != len(totalGenes):\n",
    "\t\t\t\t\t\t\tstring = ''\n",
    "\t\t\t\t\t\t\tfor i in range(len(totalGenes)):\n",
    "\t\t\t\t\t\t\t\tstring = string + totalGenes[i]\n",
    "\t\t\t\t\t\t\t\tif i != len(totalGenes) -1:\n",
    "\t\t\t\t\t\t\t\t\tstring = string + \" or \"\n",
    "\t\t\t\t\t\t\teachReaction2.gene_reaction_rule = '( ' + string +' )'\n",
    "\t\t\t\t\t\tremovedEachReaction = 1\n",
    "\t\t\t\t\telse:\n",
    "\t\t\t\t\t\ttoRemove.append(eachReaction2.id)\n",
    "\t\t\t\t\t\tif len(eachReaction.genes) != len(totalGenes):\n",
    "\t\t\t\t\t\t\tstring = ''\n",
    "\t\t\t\t\t\t\tfor i in range(len(totalGenes)):\n",
    "\t\t\t\t\t\t\t\tstring = string + totalGenes[i]\n",
    "\t\t\t\t\t\t\t\tif i != len(totalGenes) -1:\n",
    "\t\t\t\t\t\t\t\t\tstring = string + \" or \"\n",
    "\t\t\t\t\t\t\teachReaction.gene_reaction_rule = '( ' + string +' )'\n",
    "\t\t\t\t\t\t\t\n",
    "\t\t\t\t\n",
    "\t\t\tif removedEachReaction == 1:\n",
    "\t\t\t\tbreak\n",
    "\t\t\n",
    "\n",
    "\tmodel2.remove_reactions(toRemove)\n",
    "\t\n",
    "\treturn [model2, toRemove]"
   ]
  },
  {
   "cell_type": "code",
   "execution_count": null,
   "id": "assisted-taxation",
   "metadata": {},
   "outputs": [],
   "source": []
  }
 ],
 "metadata": {
  "kernelspec": {
   "display_name": "Python 3.8 (coenzymes)",
   "language": "python",
   "name": "coenzymes"
  },
  "language_info": {
   "codemirror_mode": {
    "name": "ipython",
    "version": 3
   },
   "file_extension": ".py",
   "mimetype": "text/x-python",
   "name": "python",
   "nbconvert_exporter": "python",
   "pygments_lexer": "ipython3",
   "version": "3.8.5"
  }
 },
 "nbformat": 4,
 "nbformat_minor": 5
}
