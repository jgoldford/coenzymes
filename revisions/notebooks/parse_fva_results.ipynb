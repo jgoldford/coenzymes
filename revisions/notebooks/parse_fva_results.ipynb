{
 "cells": [
  {
   "cell_type": "code",
   "execution_count": 16,
   "id": "protecting-pacific",
   "metadata": {},
   "outputs": [],
   "source": [
    "import pandas as pd\n",
    "import numpy as np\n",
    "import matplotlib.pyplot as plt\n",
    "plt.rcParams[\"font.family\"] = \"Arial\"\n",
    "plt.rcParams[\"font.size\"] = 12\n",
    "import seaborn as sns\n",
    "from cobra.io import load_json_model\n"
   ]
  },
  {
   "cell_type": "code",
   "execution_count": null,
   "id": "opposite-swaziland",
   "metadata": {},
   "outputs": [],
   "source": [
    "model_path = '../assets'\n",
    "model_id = 'iJO1366_WT_semi-unconstrained.json'\n",
    "# We import pre-compiled data as it is faster for bigger models\n",
    "wt_model = load_json_model(model_path + '/' + model_id)\n",
    "\n",
    "model_id = 'iJO1366_NAD_semi-unconstrained.json'\n",
    "# We import pre-compiled data as it is faster for bigger models\n",
    "sc_model = load_json_model(model_path + '/' + model_id)\n"
   ]
  },
  {
   "cell_type": "code",
   "execution_count": 47,
   "id": "entire-webmaster",
   "metadata": {},
   "outputs": [],
   "source": [
    "#fva_wt = pd.read_csv('FVA.wt.results.optim.09Oct2021.csv',index_col=0)\n",
    "#fva_sc = pd.read_csv('FVA.sc.results.optim.09Oct2021.csv',index_col=0)\n",
    "\n",
    "fva_wt = pd.read_csv('../results/FVA/11Oct2021_v2/WT/FVA.wt.results.optimal.csv',index_col=0)\n",
    "fva_sc = pd.read_csv('../results/FVA/11Oct2021_v2/SC/FVA.sc.results.optimal.csv',index_col=0)\n"
   ]
  },
  {
   "cell_type": "code",
   "execution_count": 48,
   "id": "stopped-bookmark",
   "metadata": {},
   "outputs": [],
   "source": [
    "fva_sc.columns = ['min (SC)','max (SC)']\n",
    "fva_wt.columns = ['min (WT)','max (WT)']\n",
    "df = fva_sc.join(fva_wt)\n",
    "\n",
    "\n",
    "rxns = []\n",
    "rtype = []\n",
    "for rn,row in df.iterrows():\n",
    "    if (row['min (WT)'] > 0) & (row['max (SC)'] < 0) :\n",
    "        rxns.append(rn)\n",
    "        rtype.append('positive to negative')\n",
    "    elif (row['max (WT)'] < 0) & (row['min (SC)'] > 0) :\n",
    "        rxns.append(rn)\n",
    "        rtype.append('negative to positive')\n",
    "        \n",
    "res = pd.DataFrame({'rxn':rxns,'rtype':rtype})"
   ]
  },
  {
   "cell_type": "code",
   "execution_count": 50,
   "id": "romantic-block",
   "metadata": {},
   "outputs": [
    {
     "data": {
      "text/html": [
       "<div>\n",
       "<style scoped>\n",
       "    .dataframe tbody tr th:only-of-type {\n",
       "        vertical-align: middle;\n",
       "    }\n",
       "\n",
       "    .dataframe tbody tr th {\n",
       "        vertical-align: top;\n",
       "    }\n",
       "\n",
       "    .dataframe thead th {\n",
       "        text-align: right;\n",
       "    }\n",
       "</style>\n",
       "<table border=\"1\" class=\"dataframe\">\n",
       "  <thead>\n",
       "    <tr style=\"text-align: right;\">\n",
       "      <th></th>\n",
       "      <th>rxn</th>\n",
       "      <th>rtype</th>\n",
       "    </tr>\n",
       "  </thead>\n",
       "  <tbody>\n",
       "    <tr>\n",
       "      <th>0</th>\n",
       "      <td>DM_co2_e</td>\n",
       "      <td>negative to positive</td>\n",
       "    </tr>\n",
       "    <tr>\n",
       "      <th>1</th>\n",
       "      <td>ACKr</td>\n",
       "      <td>negative to positive</td>\n",
       "    </tr>\n",
       "    <tr>\n",
       "      <th>2</th>\n",
       "      <td>CO2tex</td>\n",
       "      <td>positive to negative</td>\n",
       "    </tr>\n",
       "    <tr>\n",
       "      <th>3</th>\n",
       "      <td>CO2tpp</td>\n",
       "      <td>positive to negative</td>\n",
       "    </tr>\n",
       "    <tr>\n",
       "      <th>4</th>\n",
       "      <td>GHMT2r</td>\n",
       "      <td>negative to positive</td>\n",
       "    </tr>\n",
       "    <tr>\n",
       "      <th>5</th>\n",
       "      <td>MTHFC</td>\n",
       "      <td>negative to positive</td>\n",
       "    </tr>\n",
       "    <tr>\n",
       "      <th>6</th>\n",
       "      <td>PTAr</td>\n",
       "      <td>positive to negative</td>\n",
       "    </tr>\n",
       "    <tr>\n",
       "      <th>7</th>\n",
       "      <td>RPE</td>\n",
       "      <td>negative to positive</td>\n",
       "    </tr>\n",
       "    <tr>\n",
       "      <th>8</th>\n",
       "      <td>TALA</td>\n",
       "      <td>negative to positive</td>\n",
       "    </tr>\n",
       "    <tr>\n",
       "      <th>9</th>\n",
       "      <td>TKT1</td>\n",
       "      <td>negative to positive</td>\n",
       "    </tr>\n",
       "    <tr>\n",
       "      <th>10</th>\n",
       "      <td>TKT2</td>\n",
       "      <td>negative to positive</td>\n",
       "    </tr>\n",
       "    <tr>\n",
       "      <th>11</th>\n",
       "      <td>MTHFD</td>\n",
       "      <td>negative to positive</td>\n",
       "    </tr>\n",
       "  </tbody>\n",
       "</table>\n",
       "</div>"
      ],
      "text/plain": [
       "         rxn                 rtype\n",
       "0   DM_co2_e  negative to positive\n",
       "1       ACKr  negative to positive\n",
       "2     CO2tex  positive to negative\n",
       "3     CO2tpp  positive to negative\n",
       "4     GHMT2r  negative to positive\n",
       "5      MTHFC  negative to positive\n",
       "6       PTAr  positive to negative\n",
       "7        RPE  negative to positive\n",
       "8       TALA  negative to positive\n",
       "9       TKT1  negative to positive\n",
       "10      TKT2  negative to positive\n",
       "11     MTHFD  negative to positive"
      ]
     },
     "execution_count": 50,
     "metadata": {},
     "output_type": "execute_result"
    }
   ],
   "source": [
    "res"
   ]
  },
  {
   "cell_type": "code",
   "execution_count": 49,
   "id": "known-citizen",
   "metadata": {},
   "outputs": [
    {
     "data": {
      "text/html": [
       "<div>\n",
       "<style scoped>\n",
       "    .dataframe tbody tr th:only-of-type {\n",
       "        vertical-align: middle;\n",
       "    }\n",
       "\n",
       "    .dataframe tbody tr th {\n",
       "        vertical-align: top;\n",
       "    }\n",
       "\n",
       "    .dataframe thead th {\n",
       "        text-align: right;\n",
       "    }\n",
       "</style>\n",
       "<table border=\"1\" class=\"dataframe\">\n",
       "  <thead>\n",
       "    <tr style=\"text-align: right;\">\n",
       "      <th></th>\n",
       "      <th>min (SC)</th>\n",
       "      <th>max (SC)</th>\n",
       "      <th>min (WT)</th>\n",
       "      <th>max (WT)</th>\n",
       "    </tr>\n",
       "  </thead>\n",
       "  <tbody>\n",
       "    <tr>\n",
       "      <th>DM_h_e</th>\n",
       "      <td>-993.391069</td>\n",
       "      <td>6.598408</td>\n",
       "      <td>100.887256</td>\n",
       "      <td>1000.000000</td>\n",
       "    </tr>\n",
       "    <tr>\n",
       "      <th>DM_no2_e</th>\n",
       "      <td>0.000000</td>\n",
       "      <td>0.000000</td>\n",
       "      <td>494.336650</td>\n",
       "      <td>870.010338</td>\n",
       "    </tr>\n",
       "    <tr>\n",
       "      <th>ARBt2rpp</th>\n",
       "      <td>-0.000300</td>\n",
       "      <td>0.000450</td>\n",
       "      <td>-0.000172</td>\n",
       "      <td>1000.000000</td>\n",
       "    </tr>\n",
       "    <tr>\n",
       "      <th>ARBt3ipp</th>\n",
       "      <td>0.000000</td>\n",
       "      <td>0.000450</td>\n",
       "      <td>0.000000</td>\n",
       "      <td>1000.000000</td>\n",
       "    </tr>\n",
       "    <tr>\n",
       "      <th>ARGORNt7pp</th>\n",
       "      <td>0.000000</td>\n",
       "      <td>0.000450</td>\n",
       "      <td>0.000000</td>\n",
       "      <td>1000.000000</td>\n",
       "    </tr>\n",
       "    <tr>\n",
       "      <th>...</th>\n",
       "      <td>...</td>\n",
       "      <td>...</td>\n",
       "      <td>...</td>\n",
       "      <td>...</td>\n",
       "    </tr>\n",
       "    <tr>\n",
       "      <th>NADH17pp</th>\n",
       "      <td>0.000000</td>\n",
       "      <td>0.000450</td>\n",
       "      <td>-299.022409</td>\n",
       "      <td>1000.000000</td>\n",
       "    </tr>\n",
       "    <tr>\n",
       "      <th>NADH5</th>\n",
       "      <td>0.000000</td>\n",
       "      <td>0.000300</td>\n",
       "      <td>0.000000</td>\n",
       "      <td>914.238124</td>\n",
       "    </tr>\n",
       "    <tr>\n",
       "      <th>NADH9</th>\n",
       "      <td>0.000000</td>\n",
       "      <td>0.000301</td>\n",
       "      <td>0.000000</td>\n",
       "      <td>914.249160</td>\n",
       "    </tr>\n",
       "    <tr>\n",
       "      <th>NHFRBO</th>\n",
       "      <td>0.000000</td>\n",
       "      <td>0.000069</td>\n",
       "      <td>0.000000</td>\n",
       "      <td>346.775711</td>\n",
       "    </tr>\n",
       "    <tr>\n",
       "      <th>THD2pp</th>\n",
       "      <td>0.000000</td>\n",
       "      <td>0.000450</td>\n",
       "      <td>999.999828</td>\n",
       "      <td>1000.000000</td>\n",
       "    </tr>\n",
       "  </tbody>\n",
       "</table>\n",
       "<p>103 rows × 4 columns</p>\n",
       "</div>"
      ],
      "text/plain": [
       "              min (SC)  max (SC)    min (WT)     max (WT)\n",
       "DM_h_e     -993.391069  6.598408  100.887256  1000.000000\n",
       "DM_no2_e      0.000000  0.000000  494.336650   870.010338\n",
       "ARBt2rpp     -0.000300  0.000450   -0.000172  1000.000000\n",
       "ARBt3ipp      0.000000  0.000450    0.000000  1000.000000\n",
       "ARGORNt7pp    0.000000  0.000450    0.000000  1000.000000\n",
       "...                ...       ...         ...          ...\n",
       "NADH17pp      0.000000  0.000450 -299.022409  1000.000000\n",
       "NADH5         0.000000  0.000300    0.000000   914.238124\n",
       "NADH9         0.000000  0.000301    0.000000   914.249160\n",
       "NHFRBO        0.000000  0.000069    0.000000   346.775711\n",
       "THD2pp        0.000000  0.000450  999.999828  1000.000000\n",
       "\n",
       "[103 rows x 4 columns]"
      ]
     },
     "execution_count": 49,
     "metadata": {},
     "output_type": "execute_result"
    }
   ],
   "source": [
    "#df[(df['max (WT)'] > 100) & (df['max (SC)'] < 100)]"
   ]
  },
  {
   "cell_type": "code",
   "execution_count": 45,
   "id": "behind-shape",
   "metadata": {},
   "outputs": [
    {
     "data": {
      "text/html": [
       "<div>\n",
       "<style scoped>\n",
       "    .dataframe tbody tr th:only-of-type {\n",
       "        vertical-align: middle;\n",
       "    }\n",
       "\n",
       "    .dataframe tbody tr th {\n",
       "        vertical-align: top;\n",
       "    }\n",
       "\n",
       "    .dataframe thead th {\n",
       "        text-align: right;\n",
       "    }\n",
       "</style>\n",
       "<table border=\"1\" class=\"dataframe\">\n",
       "  <thead>\n",
       "    <tr style=\"text-align: right;\">\n",
       "      <th></th>\n",
       "      <th>min (SC)</th>\n",
       "      <th>max (SC)</th>\n",
       "      <th>min (WT)</th>\n",
       "      <th>max (WT)</th>\n",
       "    </tr>\n",
       "  </thead>\n",
       "  <tbody>\n",
       "    <tr>\n",
       "      <th>DM_4CRSOL</th>\n",
       "      <td>0.003446</td>\n",
       "      <td>0.003446</td>\n",
       "      <td>0.002759</td>\n",
       "      <td>0.002759</td>\n",
       "    </tr>\n",
       "    <tr>\n",
       "      <th>DM_5DRIB</th>\n",
       "      <td>0.003570</td>\n",
       "      <td>0.003580</td>\n",
       "      <td>0.002858</td>\n",
       "      <td>0.002869</td>\n",
       "    </tr>\n",
       "    <tr>\n",
       "      <th>DM_AACALD</th>\n",
       "      <td>0.000000</td>\n",
       "      <td>0.000000</td>\n",
       "      <td>0.000000</td>\n",
       "      <td>0.000000</td>\n",
       "    </tr>\n",
       "    <tr>\n",
       "      <th>DM_AMOB</th>\n",
       "      <td>0.000031</td>\n",
       "      <td>0.000031</td>\n",
       "      <td>0.000025</td>\n",
       "      <td>0.000025</td>\n",
       "    </tr>\n",
       "    <tr>\n",
       "      <th>DM_MTHTHF</th>\n",
       "      <td>0.020707</td>\n",
       "      <td>0.020718</td>\n",
       "      <td>0.016579</td>\n",
       "      <td>0.016590</td>\n",
       "    </tr>\n",
       "    <tr>\n",
       "      <th>...</th>\n",
       "      <td>...</td>\n",
       "      <td>...</td>\n",
       "      <td>...</td>\n",
       "      <td>...</td>\n",
       "    </tr>\n",
       "    <tr>\n",
       "      <th>UAPGR</th>\n",
       "      <td>0.426150</td>\n",
       "      <td>0.426162</td>\n",
       "      <td>0.341198</td>\n",
       "      <td>0.341212</td>\n",
       "    </tr>\n",
       "    <tr>\n",
       "      <th>UDPGD</th>\n",
       "      <td>0.000000</td>\n",
       "      <td>0.000000</td>\n",
       "      <td>0.000000</td>\n",
       "      <td>0.000000</td>\n",
       "    </tr>\n",
       "    <tr>\n",
       "      <th>UDPGDC</th>\n",
       "      <td>0.000000</td>\n",
       "      <td>0.000000</td>\n",
       "      <td>0.000000</td>\n",
       "      <td>0.000000</td>\n",
       "    </tr>\n",
       "    <tr>\n",
       "      <th>URDGLYCD</th>\n",
       "      <td>0.000000</td>\n",
       "      <td>0.000012</td>\n",
       "      <td>0.000000</td>\n",
       "      <td>0.000011</td>\n",
       "    </tr>\n",
       "    <tr>\n",
       "      <th>XAND</th>\n",
       "      <td>0.000000</td>\n",
       "      <td>0.000014</td>\n",
       "      <td>0.000000</td>\n",
       "      <td>0.000012</td>\n",
       "    </tr>\n",
       "  </tbody>\n",
       "</table>\n",
       "<p>2582 rows × 4 columns</p>\n",
       "</div>"
      ],
      "text/plain": [
       "           min (SC)  max (SC)  min (WT)  max (WT)\n",
       "DM_4CRSOL  0.003446  0.003446  0.002759  0.002759\n",
       "DM_5DRIB   0.003570  0.003580  0.002858  0.002869\n",
       "DM_AACALD  0.000000  0.000000  0.000000  0.000000\n",
       "DM_AMOB    0.000031  0.000031  0.000025  0.000025\n",
       "DM_MTHTHF  0.020707  0.020718  0.016579  0.016590\n",
       "...             ...       ...       ...       ...\n",
       "UAPGR      0.426150  0.426162  0.341198  0.341212\n",
       "UDPGD      0.000000  0.000000  0.000000  0.000000\n",
       "UDPGDC     0.000000  0.000000  0.000000  0.000000\n",
       "URDGLYCD   0.000000  0.000012  0.000000  0.000011\n",
       "XAND       0.000000  0.000014  0.000000  0.000012\n",
       "\n",
       "[2582 rows x 4 columns]"
      ]
     },
     "execution_count": 45,
     "metadata": {},
     "output_type": "execute_result"
    }
   ],
   "source": [
    "# the single coenzyme model is restricted to negative flux, because the coenzyme is not sufficiently oxidized to push the reaction forward. "
   ]
  },
  {
   "cell_type": "code",
   "execution_count": 38,
   "id": "right-height",
   "metadata": {},
   "outputs": [
    {
     "data": {
      "text/plain": [
       "<AxesSubplot:xlabel='max (WT)', ylabel='max (SC)'>"
      ]
     },
     "execution_count": 38,
     "metadata": {},
     "output_type": "execute_result"
    },
    {
     "data": {
      "image/png": "[encoded data removed]",
      "text/plain": [
       "<Figure size 432x288 with 1 Axes>"
      ]
     },
     "metadata": {
      "needs_background": "light"
     },
     "output_type": "display_data"
    }
   ],
   "source": [
    "sns.scatterplot(data=df,x='max (WT)',y='max (SC)')"
   ]
  },
  {
   "cell_type": "code",
   "execution_count": 39,
   "id": "empirical-lindsay",
   "metadata": {},
   "outputs": [
    {
     "data": {
      "text/plain": [
       "<AxesSubplot:xlabel='min (WT)', ylabel='min (SC)'>"
      ]
     },
     "execution_count": 39,
     "metadata": {},
     "output_type": "execute_result"
    },
    {
     "data": {
      "image/png": "[encoded data removed]",
      "text/plain": [
       "<Figure size 432x288 with 1 Axes>"
      ]
     },
     "metadata": {
      "needs_background": "light"
     },
     "output_type": "display_data"
    }
   ],
   "source": [
    "sns.scatterplot(data=df,x='min (WT)',y='min (SC)')"
   ]
  },
  {
   "cell_type": "code",
   "execution_count": 10,
   "id": "extraordinary-allergy",
   "metadata": {},
   "outputs": [
    {
     "data": {
      "text/html": [
       "<div>\n",
       "<style scoped>\n",
       "    .dataframe tbody tr th:only-of-type {\n",
       "        vertical-align: middle;\n",
       "    }\n",
       "\n",
       "    .dataframe tbody tr th {\n",
       "        vertical-align: top;\n",
       "    }\n",
       "\n",
       "    .dataframe thead th {\n",
       "        text-align: right;\n",
       "    }\n",
       "</style>\n",
       "<table border=\"1\" class=\"dataframe\">\n",
       "  <thead>\n",
       "    <tr style=\"text-align: right;\">\n",
       "      <th></th>\n",
       "      <th>min (SC)</th>\n",
       "      <th>max (SC)</th>\n",
       "      <th>min (WT)</th>\n",
       "      <th>max (WT)</th>\n",
       "    </tr>\n",
       "  </thead>\n",
       "  <tbody>\n",
       "    <tr>\n",
       "      <th>ALAt4pp</th>\n",
       "      <td>0.0</td>\n",
       "      <td>1000.0</td>\n",
       "      <td>1000.0</td>\n",
       "      <td>1000.0</td>\n",
       "    </tr>\n",
       "  </tbody>\n",
       "</table>\n",
       "</div>"
      ],
      "text/plain": [
       "         min (SC)  max (SC)  min (WT)  max (WT)\n",
       "ALAt4pp       0.0    1000.0    1000.0    1000.0"
      ]
     },
     "execution_count": 10,
     "metadata": {},
     "output_type": "execute_result"
    }
   ],
   "source": [
    "df[df['min (WT)'] > 500]"
   ]
  },
  {
   "cell_type": "code",
   "execution_count": null,
   "id": "negative-december",
   "metadata": {},
   "outputs": [],
   "source": []
  }
 ],
 "metadata": {
  "kernelspec": {
   "display_name": "Python 3.8 (coenzymes)",
   "language": "python",
   "name": "coenzymes"
  },
  "language_info": {
   "codemirror_mode": {
    "name": "ipython",
    "version": 3
   },
   "file_extension": ".py",
   "mimetype": "text/x-python",
   "name": "python",
   "nbconvert_exporter": "python",
   "pygments_lexer": "ipython3",
   "version": "3.8.5"
  }
 },
 "nbformat": 4,
 "nbformat_minor": 5
}
