{
 "cells": [
  {
   "cell_type": "code",
   "execution_count": 2,
   "id": "opposed-contact",
   "metadata": {},
   "outputs": [],
   "source": [
    "import json\n",
    "import pandas as pd"
   ]
  },
  {
   "cell_type": "code",
   "execution_count": 3,
   "id": "ignored-cardiff",
   "metadata": {},
   "outputs": [],
   "source": [
    "with open('br08001.json','r') as jsonFile:\n",
    "    cpd_brite =json.load(jsonFile)"
   ]
  },
  {
   "cell_type": "code",
   "execution_count": 4,
   "id": "functioning-communication",
   "metadata": {},
   "outputs": [
    {
     "data": {
      "text/plain": [
       "['name', 'children']"
      ]
     },
     "execution_count": 4,
     "metadata": {},
     "output_type": "execute_result"
    }
   ],
   "source": [
    "list(cpd_brite)"
   ]
  },
  {
   "cell_type": "code",
   "execution_count": 9,
   "id": "swedish-excitement",
   "metadata": {},
   "outputs": [],
   "source": [
    "cpd_data_struct = {'cpd': [], 'level1': [], 'level2': [] , 'level3': [],'level4':[]}\n",
    "\n",
    "for i in range(len(cpd_brite['children'])):\n",
    "    first_level = cpd_brite['children'][i]['name']\n",
    "    for j in range(len(cpd_brite['children'][i]['children'])):\n",
    "        second_level = cpd_brite['children'][i]['children'][j]['name']\n",
    "        for k in range(len(cpd_brite['children'][i]['children'][j]['children'])):\n",
    "            third_level = cpd_brite['children'][i]['children'][j]['children'][k]['name']\n",
    "            for l in range(len(cpd_brite['children'][i]['children'][j]['children'][k]['children'])):\n",
    "                forth_level = cpd_brite['children'][i]['children'][j]['children'][k]['children'][l]['name']\n",
    "                cpd = forth_level.split(' ')[0]\n",
    "                cpd_data_struct['cpd'].append(cpd)\n",
    "                cpd_data_struct['level1'].append(first_level)\n",
    "                cpd_data_struct['level2'].append(second_level)\n",
    "                cpd_data_struct['level3'].append(third_level)\n",
    "                cpd_data_struct['level4'].append(forth_level)"
   ]
  },
  {
   "cell_type": "code",
   "execution_count": 13,
   "id": "aware-oriental",
   "metadata": {},
   "outputs": [],
   "source": [
    "cpd_data_struct = pd.DataFrame(cpd_data_struct)"
   ]
  },
  {
   "cell_type": "code",
   "execution_count": 14,
   "id": "built-conservative",
   "metadata": {},
   "outputs": [
    {
     "data": {
      "text/html": [
       "<div>\n",
       "<style scoped>\n",
       "    .dataframe tbody tr th:only-of-type {\n",
       "        vertical-align: middle;\n",
       "    }\n",
       "\n",
       "    .dataframe tbody tr th {\n",
       "        vertical-align: top;\n",
       "    }\n",
       "\n",
       "    .dataframe thead th {\n",
       "        text-align: right;\n",
       "    }\n",
       "</style>\n",
       "<table border=\"1\" class=\"dataframe\">\n",
       "  <thead>\n",
       "    <tr style=\"text-align: right;\">\n",
       "      <th></th>\n",
       "      <th>cpd</th>\n",
       "      <th>level1</th>\n",
       "      <th>level2</th>\n",
       "      <th>level3</th>\n",
       "      <th>level4</th>\n",
       "    </tr>\n",
       "  </thead>\n",
       "  <tbody>\n",
       "    <tr>\n",
       "      <th>0</th>\n",
       "      <td>C00058</td>\n",
       "      <td>Organic acids</td>\n",
       "      <td>Carboxylic acids [Fig]</td>\n",
       "      <td>Monocarboxylic acids</td>\n",
       "      <td>C00058  Formate; Methanoate</td>\n",
       "    </tr>\n",
       "    <tr>\n",
       "      <th>1</th>\n",
       "      <td>C00033</td>\n",
       "      <td>Organic acids</td>\n",
       "      <td>Carboxylic acids [Fig]</td>\n",
       "      <td>Monocarboxylic acids</td>\n",
       "      <td>C00033  Acetate; Ethanoate</td>\n",
       "    </tr>\n",
       "    <tr>\n",
       "      <th>2</th>\n",
       "      <td>C00163</td>\n",
       "      <td>Organic acids</td>\n",
       "      <td>Carboxylic acids [Fig]</td>\n",
       "      <td>Monocarboxylic acids</td>\n",
       "      <td>C00163  Propionate; Propanoate</td>\n",
       "    </tr>\n",
       "    <tr>\n",
       "      <th>3</th>\n",
       "      <td>C00246</td>\n",
       "      <td>Organic acids</td>\n",
       "      <td>Carboxylic acids [Fig]</td>\n",
       "      <td>Monocarboxylic acids</td>\n",
       "      <td>C00246  Butyrate; Butanoate</td>\n",
       "    </tr>\n",
       "    <tr>\n",
       "      <th>4</th>\n",
       "      <td>C00803</td>\n",
       "      <td>Organic acids</td>\n",
       "      <td>Carboxylic acids [Fig]</td>\n",
       "      <td>Monocarboxylic acids</td>\n",
       "      <td>C00803  Valerate; Pentanoate</td>\n",
       "    </tr>\n",
       "    <tr>\n",
       "      <th>...</th>\n",
       "      <td>...</td>\n",
       "      <td>...</td>\n",
       "      <td>...</td>\n",
       "      <td>...</td>\n",
       "      <td>...</td>\n",
       "    </tr>\n",
       "    <tr>\n",
       "      <th>653</th>\n",
       "      <td>C00918</td>\n",
       "      <td>Antibiotics</td>\n",
       "      <td>Others [Fig]</td>\n",
       "      <td>Aromatic compounds</td>\n",
       "      <td>C00918  Chloramphenicol</td>\n",
       "    </tr>\n",
       "    <tr>\n",
       "      <th>654</th>\n",
       "      <td>C05080</td>\n",
       "      <td>Antibiotics</td>\n",
       "      <td>Others [Fig]</td>\n",
       "      <td>Aromatic compounds</td>\n",
       "      <td>C05080  Novobiocin</td>\n",
       "    </tr>\n",
       "    <tr>\n",
       "      <th>655</th>\n",
       "      <td>C06454</td>\n",
       "      <td>Antibiotics</td>\n",
       "      <td>Others [Fig]</td>\n",
       "      <td>Aliphatic compounds</td>\n",
       "      <td>C06454  Fosfomycin</td>\n",
       "    </tr>\n",
       "    <tr>\n",
       "      <th>656</th>\n",
       "      <td>C06681</td>\n",
       "      <td>Antibiotics</td>\n",
       "      <td>Others [Fig]</td>\n",
       "      <td>Quinones</td>\n",
       "      <td>C06681  Mitomycin</td>\n",
       "    </tr>\n",
       "    <tr>\n",
       "      <th>657</th>\n",
       "      <td>C06695</td>\n",
       "      <td>Antibiotics</td>\n",
       "      <td>Others [Fig]</td>\n",
       "      <td>Cyclic lactones</td>\n",
       "      <td>C06695  2-Oxazolidinone</td>\n",
       "    </tr>\n",
       "  </tbody>\n",
       "</table>\n",
       "<p>658 rows × 5 columns</p>\n",
       "</div>"
      ],
      "text/plain": [
       "        cpd         level1                  level2                level3  \\\n",
       "0    C00058  Organic acids  Carboxylic acids [Fig]  Monocarboxylic acids   \n",
       "1    C00033  Organic acids  Carboxylic acids [Fig]  Monocarboxylic acids   \n",
       "2    C00163  Organic acids  Carboxylic acids [Fig]  Monocarboxylic acids   \n",
       "3    C00246  Organic acids  Carboxylic acids [Fig]  Monocarboxylic acids   \n",
       "4    C00803  Organic acids  Carboxylic acids [Fig]  Monocarboxylic acids   \n",
       "..      ...            ...                     ...                   ...   \n",
       "653  C00918    Antibiotics            Others [Fig]    Aromatic compounds   \n",
       "654  C05080    Antibiotics            Others [Fig]    Aromatic compounds   \n",
       "655  C06454    Antibiotics            Others [Fig]   Aliphatic compounds   \n",
       "656  C06681    Antibiotics            Others [Fig]              Quinones   \n",
       "657  C06695    Antibiotics            Others [Fig]       Cyclic lactones   \n",
       "\n",
       "                             level4  \n",
       "0       C00058  Formate; Methanoate  \n",
       "1        C00033  Acetate; Ethanoate  \n",
       "2    C00163  Propionate; Propanoate  \n",
       "3       C00246  Butyrate; Butanoate  \n",
       "4      C00803  Valerate; Pentanoate  \n",
       "..                              ...  \n",
       "653         C00918  Chloramphenicol  \n",
       "654              C05080  Novobiocin  \n",
       "655              C06454  Fosfomycin  \n",
       "656               C06681  Mitomycin  \n",
       "657         C06695  2-Oxazolidinone  \n",
       "\n",
       "[658 rows x 5 columns]"
      ]
     },
     "execution_count": 14,
     "metadata": {},
     "output_type": "execute_result"
    }
   ],
   "source": [
    "cpd_data_struct.set_index('cpd')"
   ]
  },
  {
   "cell_type": "code",
   "execution_count": 22,
   "id": "confidential-banking",
   "metadata": {},
   "outputs": [],
   "source": [
    "cpd_data_struct.columns = ['KEGG','Compound class (level 1)','Compound class (level 2)','Compound class (level 3)','Compound class (level 4)']"
   ]
  },
  {
   "cell_type": "code",
   "execution_count": 77,
   "id": "unique-wright",
   "metadata": {},
   "outputs": [],
   "source": [
    "c = cpd_data_struct.groupby(['KEGG']).first().reset_index()"
   ]
  },
  {
   "cell_type": "code",
   "execution_count": 23,
   "id": "critical-colors",
   "metadata": {},
   "outputs": [],
   "source": [
    "kegg_map = pd.read_csv('SI_tables.xlsx - compound map.csv')"
   ]
  },
  {
   "cell_type": "code",
   "execution_count": 78,
   "id": "fifty-money",
   "metadata": {},
   "outputs": [],
   "source": [
    "kda = kegg_map.set_index('KEGG').join(c.set_index('KEGG')).reset_index().sort_values('BIGG ID')"
   ]
  },
  {
   "cell_type": "code",
   "execution_count": 79,
   "id": "imported-adams",
   "metadata": {},
   "outputs": [],
   "source": [
    "kda['Compound class (level 1)'] = kda['Compound class (level 1)'].replace({'[Fig]': ''})\n",
    "kda['Compound class (level 2)'] = kda['Compound class (level 2)'].replace({'[Fig]': ''})\n",
    "kda['Compound class (level 3)'] = kda['Compound class (level 3)'].replace({'[Fig]': ''})\n",
    "kda['Compound class (level 4)'] = kda['Compound class (level 4)'].replace({'[Fig]': ''})"
   ]
  },
  {
   "cell_type": "code",
   "execution_count": 80,
   "id": "outdoor-measurement",
   "metadata": {},
   "outputs": [
    {
     "data": {
      "text/plain": [
       "153                    nan\n",
       "184                    nan\n",
       "148    Cyclic nucleotides \n",
       "149    Cyclic nucleotides \n",
       "167    Cyclic nucleotides \n",
       "              ...         \n",
       "93                     nan\n",
       "109                    nan\n",
       "143                    nan\n",
       "56         Monosaccharides\n",
       "83         Monosaccharides\n",
       "Name: Compound class (level 2), Length: 193, dtype: object"
      ]
     },
     "execution_count": 80,
     "metadata": {},
     "output_type": "execute_result"
    }
   ],
   "source": [
    "kda['Compound class (level 2)'].apply(lambda x: str(x).replace('[Fig]',''))"
   ]
  },
  {
   "cell_type": "code",
   "execution_count": 81,
   "id": "impossible-morning",
   "metadata": {},
   "outputs": [],
   "source": [
    "z = pd.read_csv('../../assets/metabolite.names.csv',sep=',',index_col=2)[['Metabolite','Source']].join(kda.set_index('Exchange Reaction'))"
   ]
  },
  {
   "cell_type": "code",
   "execution_count": 88,
   "id": "solid-framework",
   "metadata": {},
   "outputs": [],
   "source": [
    "smap = {}\n",
    "smap['Carbon'] = 0\n",
    "smap['Nitrogen'] = 1\n",
    "smap['Electron'] = 2\n",
    "\n",
    "z['smap'] = z.Source.apply(lambda x: smap[x])"
   ]
  },
  {
   "cell_type": "code",
   "execution_count": 91,
   "id": "durable-quest",
   "metadata": {},
   "outputs": [],
   "source": [
    "z.sort_values('smap').to_csv('media.components.22Nov2021.csv')"
   ]
  },
  {
   "cell_type": "code",
   "execution_count": null,
   "id": "revised-cable",
   "metadata": {},
   "outputs": [],
   "source": []
  }
 ],
 "metadata": {
  "kernelspec": {
   "display_name": "Python (network expansion)",
   "language": "python",
   "name": "network_expansion"
  },
  "language_info": {
   "codemirror_mode": {
    "name": "ipython",
    "version": 3
   },
   "file_extension": ".py",
   "mimetype": "text/x-python",
   "name": "python",
   "nbconvert_exporter": "python",
   "pygments_lexer": "ipython3",
   "version": "3.8.5"
  }
 },
 "nbformat": 4,
 "nbformat_minor": 5
}
