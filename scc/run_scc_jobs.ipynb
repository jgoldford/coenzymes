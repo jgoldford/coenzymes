{
 "cells": [
  {
   "cell_type": "code",
   "execution_count": 1,
   "metadata": {},
   "outputs": [],
   "source": [
    "import glob\n",
    "import subprocess as sb"
   ]
  },
  {
   "cell_type": "code",
   "execution_count": 26,
   "metadata": {},
   "outputs": [],
   "source": [
    "def make_qsub(job_name,eFBAcall,modelFile,mediaFile,outFile):\n",
    "    out_string = f\"\"\"#!/bin/bash -l\n",
    "# Set SCC project\n",
    "#$ -P bioinfor\n",
    "\n",
    "# Specify hard time limit for the job. \n",
    "#   The job will be aborted if it runs longer than this time.\n",
    "#   The default time, also selected here, is 12 hours.  You can increase this up to 720:00:00 for single processor jobs but your job will take longer to start.\n",
    "#$ -l h_rt=80:00:00\n",
    "\n",
    "# Send an email when the job finishes or if it is aborted (by default no email is sent).\n",
    "#$ -m ea\n",
    "\n",
    "# Give job a name\n",
    "#$ -N {job_name}\n",
    "\n",
    "# Combine output and error files into a single file\n",
    "#$ -j y\n",
    "\n",
    "module load miniconda\n",
    "conda activate coenzymes\n",
    "\n",
    "\"\"\"\n",
    "    python_call = 'python ' + eFBAcall + ' -m ' + modelFile + ' -e ' + mediaFile + ' -o ' + outFile;\n",
    "    out_string = out_string + python_call\n",
    "    return out_string"
   ]
  },
  {
   "cell_type": "code",
   "execution_count": 21,
   "metadata": {},
   "outputs": [],
   "source": [
    "root_dir = '/Users/Joshua.Goldford/Documents/GitHub/coenzymes/'\n",
    "#root_dir = '/projectnb/bioinfor/SEGRE/goldford/CoenzymeSpecificity/coenzymes/'\n",
    "python_efba_path = root_dir + 'lib/run_eFBA.py'\n",
    "media_file = root_dir + 'assets/media.C180N93E7.txt'"
   ]
  },
  {
   "cell_type": "code",
   "execution_count": null,
   "metadata": {},
   "outputs": [],
   "source": [
    "# submit job for wildtype iJO1366\n",
    "model =  root_dir + 'assets/iJO1366.xml'\n",
    "name = model.split('/')[-1].split('.')[0]\n",
    "outFile = root_dir + 'scc/output/' + name + '.txt'\n",
    "qsub = make_qsub(name,python_efba_path,model,media_file,outFile)\n",
    "sh_file = root_dir + 'scc/qsub/' + name + '.qsub'\n",
    "\n",
    "with open(sh_file,'w') as f:\n",
    "    f.write(qsub)\n",
    "\n",
    "# call qsub file to submit job\n",
    "sb.call('qsub ' + sh_file,shell=True)\n"
   ]
  },
  {
   "cell_type": "code",
   "execution_count": 27,
   "metadata": {},
   "outputs": [],
   "source": [
    "# make and submit jobs for stoich only models\n",
    "\n",
    "models = glob.glob(root_dir + 'assets/models/stoich/*.xml')\n",
    "\n",
    "for model in models:\n",
    "    name = model.split('/')[-1].split('.')[0]\n",
    "    name = name + '_S'\n",
    "    outFile = root_dir + 'scc/output/' + name + '.txt'\n",
    "    qsub = make_qsub(name,python_efba_path,model,media_file,outFile)\n",
    "    sh_file = root_dir + 'scc/qsub/' + name + '.qsub'\n",
    "    \n",
    "    with open(sh_file,'w') as f:\n",
    "        f.write(qsub)\n",
    "\n",
    "    # call qsub file to submit job\n",
    "    sb.call('qsub ' + sh_file,shell=True)\n",
    "    \n",
    "# make and submit jobs for stoich + thermo models\n",
    "\n",
    "models = glob.glob(root_dir + 'assets/models/stoich_thermo/*.xml')\n",
    "\n",
    "for model in models:\n",
    "    name = model.split('/')[-1].split('.')[0]\n",
    "    name = name + '_S'\n",
    "    outFile = root_dir + 'scc/output/' + name + '.txt'\n",
    "    qsub = make_qsub(name,python_efba_path,model,media_file,outFile)\n",
    "    sh_file = root_dir + 'scc/qsub/' + name + '.qsub'\n",
    "    \n",
    "    with open(sh_file,'w') as f:\n",
    "        f.write(qsub)\n",
    "\n",
    "    # call qsub file to submit job\n",
    "    sb.call('qsub ' + sh_file,shell=True)"
   ]
  },
  {
   "cell_type": "code",
   "execution_count": null,
   "metadata": {},
   "outputs": [],
   "source": []
  }
 ],
 "metadata": {
  "kernelspec": {
   "display_name": "Python 3.8 (Coenzyme Paper)",
   "language": "python",
   "name": "coenzyme_paper"
  },
  "language_info": {
   "codemirror_mode": {
    "name": "ipython",
    "version": 3
   },
   "file_extension": ".py",
   "mimetype": "text/x-python",
   "name": "python",
   "nbconvert_exporter": "python",
   "pygments_lexer": "ipython3",
   "version": "3.8.5"
  }
 },
 "nbformat": 4,
 "nbformat_minor": 4
}
