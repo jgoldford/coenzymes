{
 "cells": [
  {
   "cell_type": "code",
   "execution_count": 1,
   "metadata": {},
   "outputs": [],
   "source": [
    "import pandas as pd\n",
    "import glob"
   ]
  },
  {
   "cell_type": "code",
   "execution_count": 3,
   "metadata": {},
   "outputs": [],
   "source": [
    "files = glob.glob('output_gurobi/*.txt')"
   ]
  },
  {
   "cell_type": "code",
   "execution_count": 9,
   "metadata": {},
   "outputs": [],
   "source": [
    "gene = [x.split('/')[1].split('_')[1] for x in files]\n",
    "coenzyme = [x.split('/')[1].split('_')[2] for x in files]\n",
    "stoich = [x.split('/')[1].split('_')[3].split('.')[0] for x in files]\n",
    "fdata = pd.DataFrame({'file': files, 'gene': gene, 'coenzyme': coenzyme, 'stoich': stoich})"
   ]
  },
  {
   "cell_type": "code",
   "execution_count": 16,
   "metadata": {},
   "outputs": [],
   "source": [
    "fdata_s = fdata[fdata['stoich'] == 'S'].sort_values('gene')\n",
    "fdata_st = fdata[fdata['stoich'] == 'ST'].sort_values('gene')"
   ]
  },
  {
   "cell_type": "code",
   "execution_count": 41,
   "metadata": {},
   "outputs": [],
   "source": [
    "dfs = [];\n",
    "for idx,row in fdata_s.iterrows():\n",
    "    df = pd.read_csv(row.file,sep='\\t',index_col=0)\n",
    "    df = df.set_index(['carbon','nitrogen','electron'])[['growth_rate']]\n",
    "    df.columns = [row.gene]\n",
    "    dfs.append(df)"
   ]
  },
  {
   "cell_type": "code",
   "execution_count": 42,
   "metadata": {},
   "outputs": [],
   "source": [
    "dfs = pd.concat(dfs,axis=1)"
   ]
  },
  {
   "cell_type": "code",
   "execution_count": 45,
   "metadata": {},
   "outputs": [],
   "source": [
    "dfst = [];\n",
    "\n",
    "for idx,row in fdata_st.iterrows():\n",
    "    df = pd.read_csv(row.file,sep='\\t',index_col=0)\n",
    "    df = df.set_index(['carbon','nitrogen','electron'])[['growth_rate']]\n",
    "    df.columns = [row.gene]\n",
    "    dfst.append(df)\n",
    "\n",
    "dfst = pd.concat(dfst,axis=1)"
   ]
  },
  {
   "cell_type": "code",
   "execution_count": 67,
   "metadata": {},
   "outputs": [],
   "source": [
    "thermo = (dfst.fillna(0) < 1e-7).sum() / len(dfst)\n",
    "stoich = (dfs.fillna(0) < 1e-7).sum() / len(dfs)"
   ]
  },
  {
   "cell_type": "code",
   "execution_count": 449,
   "metadata": {},
   "outputs": [
    {
     "data": {
      "text/plain": [
       "77"
      ]
     },
     "execution_count": 449,
     "metadata": {},
     "output_type": "execute_result"
    }
   ],
   "source": [
    "len(list(set(list(dfst))))"
   ]
  },
  {
   "cell_type": "code",
   "execution_count": 57,
   "metadata": {},
   "outputs": [],
   "source": [
    "import seaborn as sns"
   ]
  },
  {
   "cell_type": "code",
   "execution_count": 294,
   "metadata": {},
   "outputs": [],
   "source": [
    "wt_glpk = pd.read_csv('output/output/iJO1366.txt',sep='\\t')[['carbon','nitrogen','electron','growth_rate']]\n",
    "wt_gurobi = pd.read_csv('output_gurobi/iJO1366.txt',sep='\\t')[['carbon','nitrogen','electron','growth_rate']]\n",
    "wt = wt_gurobi.copy()"
   ]
  },
  {
   "cell_type": "code",
   "execution_count": 289,
   "metadata": {},
   "outputs": [],
   "source": [
    "wt_glpk= wt_glpk.set_index(['carbon','nitrogen','electron']); wt_glpk.columns = ['mu (glpk)'];\n",
    "wt_gurobi= wt_gurobi.set_index(['carbon','nitrogen','electron']); wt_gurobi.columns = ['mu (gurobi)'];\n",
    "wts = pd.concat([wt_glpk,wt_gurobi],axis=1)"
   ]
  },
  {
   "cell_type": "code",
   "execution_count": 291,
   "metadata": {},
   "outputs": [
    {
     "data": {
      "text/plain": [
       "<AxesSubplot:xlabel='mu (glpk)', ylabel='mu (gurobi)'>"
      ]
     },
     "execution_count": 291,
     "metadata": {},
     "output_type": "execute_result"
    },
    {
     "data": {
      "image/png": "[encoded data removed]",
      "text/plain": [
       "<Figure size 432x288 with 1 Axes>"
      ]
     },
     "metadata": {
      "needs_background": "light"
     },
     "output_type": "display_data"
    }
   ],
   "source": [
    "sns.scatterplot(x='mu (glpk)',y ='mu (gurobi)', data=wts)"
   ]
  },
  {
   "cell_type": "code",
   "execution_count": 295,
   "metadata": {},
   "outputs": [
    {
     "data": {
      "text/plain": [
       "0.0020915198042845513"
      ]
     },
     "execution_count": 295,
     "metadata": {},
     "output_type": "execute_result"
    }
   ],
   "source": [
    "wt.sort_values('growth_rate')['growth_rate'].iloc[6598]"
   ]
  },
  {
   "cell_type": "code",
   "execution_count": 445,
   "metadata": {},
   "outputs": [
    {
     "data": {
      "text/plain": [
       "117180"
      ]
     },
     "execution_count": 445,
     "metadata": {},
     "output_type": "execute_result"
    }
   ],
   "source": []
  },
  {
   "cell_type": "code",
   "execution_count": 297,
   "metadata": {},
   "outputs": [],
   "source": [
    "wt.set_index(['carbon','nitrogen','electron'],inplace=True)"
   ]
  },
  {
   "cell_type": "code",
   "execution_count": 298,
   "metadata": {},
   "outputs": [],
   "source": [
    "wt = wt[wt['growth_rate'] > cutoff]"
   ]
  },
  {
   "cell_type": "code",
   "execution_count": 299,
   "metadata": {},
   "outputs": [],
   "source": [
    "dfst = dfst.loc[wt.index]\n",
    "dfs = dfs.loc[wt.index]"
   ]
  },
  {
   "cell_type": "code",
   "execution_count": 304,
   "metadata": {},
   "outputs": [],
   "source": [
    "dfst.drop(columns=['growth_rate'],inplace=True); dfs.drop(columns=['growth_rate'],inplace=True)"
   ]
  },
  {
   "cell_type": "code",
   "execution_count": 305,
   "metadata": {},
   "outputs": [],
   "source": [
    "dfst = dfst.join(wt)\n",
    "dfs = dfs.join(wt)"
   ]
  },
  {
   "cell_type": "code",
   "execution_count": 306,
   "metadata": {},
   "outputs": [],
   "source": [
    "normalized = []\n",
    "genes = [x for x in list(dfst) if x != 'growth_rate']\n",
    "for gene in genes:\n",
    "    normalized.append(dfst[gene].values / dfst['growth_rate'].values)\n",
    "    \n",
    "dfst_normalized = pd.DataFrame(normalized,columns=dfst.index,index = genes).T\n",
    "\n",
    "\n",
    "normalized = []\n",
    "genes = [x for x in list(dfs) if x != 'growth_rate']\n",
    "for gene in genes:\n",
    "    normalized.append(dfs[gene].values / dfs['growth_rate'].values)\n",
    "    \n",
    "dfs_normalized = pd.DataFrame(normalized,columns=dfs.index,index = genes).T\n"
   ]
  },
  {
   "cell_type": "code",
   "execution_count": 307,
   "metadata": {},
   "outputs": [],
   "source": [
    "dfst_normalized.to_hdf('relativeGrowthRates.StoichAndThermo.MR4.hdf','df')\n",
    "dfs_normalized.to_hdf('relativeGrowthRates.Stoich.MR4.hdf','df')"
   ]
  },
  {
   "cell_type": "code",
   "execution_count": 444,
   "metadata": {},
   "outputs": [
    {
     "data": {
      "text/html": [
       "<div>\n",
       "<style scoped>\n",
       "    .dataframe tbody tr th:only-of-type {\n",
       "        vertical-align: middle;\n",
       "    }\n",
       "\n",
       "    .dataframe tbody tr th {\n",
       "        vertical-align: top;\n",
       "    }\n",
       "\n",
       "    .dataframe thead th {\n",
       "        text-align: right;\n",
       "    }\n",
       "</style>\n",
       "<table border=\"1\" class=\"dataframe\">\n",
       "  <thead>\n",
       "    <tr style=\"text-align: right;\">\n",
       "      <th></th>\n",
       "      <th></th>\n",
       "      <th></th>\n",
       "      <th>b0031</th>\n",
       "      <th>b0052</th>\n",
       "      <th>b0073</th>\n",
       "      <th>b0104</th>\n",
       "      <th>b0116</th>\n",
       "      <th>b0173</th>\n",
       "      <th>b0243</th>\n",
       "      <th>b0312</th>\n",
       "      <th>b0356</th>\n",
       "      <th>b0386</th>\n",
       "      <th>...</th>\n",
       "      <th>b3882</th>\n",
       "      <th>b3941</th>\n",
       "      <th>b3945</th>\n",
       "      <th>b3958</th>\n",
       "      <th>b3972</th>\n",
       "      <th>b4266</th>\n",
       "      <th>b4267</th>\n",
       "      <th>b4323</th>\n",
       "      <th>b4358</th>\n",
       "      <th>growth_rate</th>\n",
       "    </tr>\n",
       "    <tr>\n",
       "      <th>carbon</th>\n",
       "      <th>nitrogen</th>\n",
       "      <th>electron</th>\n",
       "      <th></th>\n",
       "      <th></th>\n",
       "      <th></th>\n",
       "      <th></th>\n",
       "      <th></th>\n",
       "      <th></th>\n",
       "      <th></th>\n",
       "      <th></th>\n",
       "      <th></th>\n",
       "      <th></th>\n",
       "      <th></th>\n",
       "      <th></th>\n",
       "      <th></th>\n",
       "      <th></th>\n",
       "      <th></th>\n",
       "      <th></th>\n",
       "      <th></th>\n",
       "      <th></th>\n",
       "      <th></th>\n",
       "      <th></th>\n",
       "      <th></th>\n",
       "    </tr>\n",
       "  </thead>\n",
       "  <tbody>\n",
       "    <tr>\n",
       "      <th rowspan=\"5\" valign=\"top\">EX_12ppd__S_e</th>\n",
       "      <th rowspan=\"5\" valign=\"top\">EX_23camp_e</th>\n",
       "      <th>EX_tmao_e</th>\n",
       "      <td>38.150316</td>\n",
       "      <td>38.051353</td>\n",
       "      <td>0.0</td>\n",
       "      <td>38.312633</td>\n",
       "      <td>43.264701</td>\n",
       "      <td>38.051930</td>\n",
       "      <td>38.110241</td>\n",
       "      <td>38.051294</td>\n",
       "      <td>38.051294</td>\n",
       "      <td>38.110241</td>\n",
       "      <td>...</td>\n",
       "      <td>38.051294</td>\n",
       "      <td>38.010240</td>\n",
       "      <td>38.051294</td>\n",
       "      <td>38.130212</td>\n",
       "      <td>38.058694</td>\n",
       "      <td>38.051294</td>\n",
       "      <td>38.051294</td>\n",
       "      <td>38.051294</td>\n",
       "      <td>38.051294</td>\n",
       "      <td>38.051294</td>\n",
       "    </tr>\n",
       "    <tr>\n",
       "      <th>EX_dmso_e</th>\n",
       "      <td>37.434943</td>\n",
       "      <td>37.347647</td>\n",
       "      <td>0.0</td>\n",
       "      <td>37.603805</td>\n",
       "      <td>41.311576</td>\n",
       "      <td>37.348156</td>\n",
       "      <td>37.399598</td>\n",
       "      <td>37.347595</td>\n",
       "      <td>37.347595</td>\n",
       "      <td>37.399598</td>\n",
       "      <td>...</td>\n",
       "      <td>37.347595</td>\n",
       "      <td>37.311367</td>\n",
       "      <td>37.347595</td>\n",
       "      <td>37.417213</td>\n",
       "      <td>37.354124</td>\n",
       "      <td>37.347595</td>\n",
       "      <td>37.347595</td>\n",
       "      <td>37.347595</td>\n",
       "      <td>37.347595</td>\n",
       "      <td>37.347595</td>\n",
       "    </tr>\n",
       "    <tr>\n",
       "      <th>EX_fum_e</th>\n",
       "      <td>15.841827</td>\n",
       "      <td>15.799176</td>\n",
       "      <td>0.0</td>\n",
       "      <td>15.911801</td>\n",
       "      <td>22.526548</td>\n",
       "      <td>15.799424</td>\n",
       "      <td>15.824554</td>\n",
       "      <td>15.799150</td>\n",
       "      <td>15.799150</td>\n",
       "      <td>15.824554</td>\n",
       "      <td>...</td>\n",
       "      <td>15.799150</td>\n",
       "      <td>15.781459</td>\n",
       "      <td>15.799150</td>\n",
       "      <td>15.833162</td>\n",
       "      <td>15.802339</td>\n",
       "      <td>15.799150</td>\n",
       "      <td>15.799150</td>\n",
       "      <td>15.799150</td>\n",
       "      <td>15.799150</td>\n",
       "      <td>15.799150</td>\n",
       "    </tr>\n",
       "    <tr>\n",
       "      <th>EX_o2_e</th>\n",
       "      <td>54.323464</td>\n",
       "      <td>54.323464</td>\n",
       "      <td>0.0</td>\n",
       "      <td>54.711065</td>\n",
       "      <td>55.856093</td>\n",
       "      <td>54.323464</td>\n",
       "      <td>54.323464</td>\n",
       "      <td>54.323464</td>\n",
       "      <td>54.323464</td>\n",
       "      <td>54.323464</td>\n",
       "      <td>...</td>\n",
       "      <td>54.323464</td>\n",
       "      <td>54.323464</td>\n",
       "      <td>54.385356</td>\n",
       "      <td>54.323464</td>\n",
       "      <td>54.323464</td>\n",
       "      <td>54.323464</td>\n",
       "      <td>54.323464</td>\n",
       "      <td>54.323464</td>\n",
       "      <td>54.323464</td>\n",
       "      <td>54.323464</td>\n",
       "    </tr>\n",
       "    <tr>\n",
       "      <th>EX_no2_e</th>\n",
       "      <td>50.436373</td>\n",
       "      <td>50.402538</td>\n",
       "      <td>0.0</td>\n",
       "      <td>50.783259</td>\n",
       "      <td>50.744040</td>\n",
       "      <td>50.402735</td>\n",
       "      <td>50.422687</td>\n",
       "      <td>50.402517</td>\n",
       "      <td>50.402517</td>\n",
       "      <td>50.422687</td>\n",
       "      <td>...</td>\n",
       "      <td>50.402517</td>\n",
       "      <td>50.388443</td>\n",
       "      <td>50.402517</td>\n",
       "      <td>50.429510</td>\n",
       "      <td>50.405052</td>\n",
       "      <td>50.402517</td>\n",
       "      <td>50.402517</td>\n",
       "      <td>50.402517</td>\n",
       "      <td>50.402517</td>\n",
       "      <td>50.402517</td>\n",
       "    </tr>\n",
       "    <tr>\n",
       "      <th>...</th>\n",
       "      <th>...</th>\n",
       "      <th>...</th>\n",
       "      <td>...</td>\n",
       "      <td>...</td>\n",
       "      <td>...</td>\n",
       "      <td>...</td>\n",
       "      <td>...</td>\n",
       "      <td>...</td>\n",
       "      <td>...</td>\n",
       "      <td>...</td>\n",
       "      <td>...</td>\n",
       "      <td>...</td>\n",
       "      <td>...</td>\n",
       "      <td>...</td>\n",
       "      <td>...</td>\n",
       "      <td>...</td>\n",
       "      <td>...</td>\n",
       "      <td>...</td>\n",
       "      <td>...</td>\n",
       "      <td>...</td>\n",
       "      <td>...</td>\n",
       "      <td>...</td>\n",
       "      <td>...</td>\n",
       "    </tr>\n",
       "    <tr>\n",
       "      <th rowspan=\"5\" valign=\"top\">EX_xylu__L_e</th>\n",
       "      <th rowspan=\"5\" valign=\"top\">EX_xtsn_e</th>\n",
       "      <th>EX_fum_e</th>\n",
       "      <td>30.113751</td>\n",
       "      <td>30.103447</td>\n",
       "      <td>0.0</td>\n",
       "      <td>29.419284</td>\n",
       "      <td>37.387008</td>\n",
       "      <td>30.103507</td>\n",
       "      <td>30.109584</td>\n",
       "      <td>30.103441</td>\n",
       "      <td>30.103441</td>\n",
       "      <td>30.109584</td>\n",
       "      <td>...</td>\n",
       "      <td>30.103441</td>\n",
       "      <td>30.099153</td>\n",
       "      <td>30.103441</td>\n",
       "      <td>30.111662</td>\n",
       "      <td>30.104213</td>\n",
       "      <td>30.103441</td>\n",
       "      <td>30.103441</td>\n",
       "      <td>30.103441</td>\n",
       "      <td>30.103441</td>\n",
       "      <td>30.103441</td>\n",
       "    </tr>\n",
       "    <tr>\n",
       "      <th>EX_o2_e</th>\n",
       "      <td>58.044068</td>\n",
       "      <td>58.044068</td>\n",
       "      <td>0.0</td>\n",
       "      <td>56.848308</td>\n",
       "      <td>58.901904</td>\n",
       "      <td>58.044068</td>\n",
       "      <td>58.044068</td>\n",
       "      <td>58.044068</td>\n",
       "      <td>58.044068</td>\n",
       "      <td>58.044068</td>\n",
       "      <td>...</td>\n",
       "      <td>58.044068</td>\n",
       "      <td>58.044068</td>\n",
       "      <td>58.073873</td>\n",
       "      <td>58.044068</td>\n",
       "      <td>58.044068</td>\n",
       "      <td>58.044068</td>\n",
       "      <td>58.044068</td>\n",
       "      <td>58.044068</td>\n",
       "      <td>58.044068</td>\n",
       "      <td>58.044068</td>\n",
       "    </tr>\n",
       "    <tr>\n",
       "      <th>EX_no2_e</th>\n",
       "      <td>54.767088</td>\n",
       "      <td>54.734516</td>\n",
       "      <td>0.0</td>\n",
       "      <td>54.085959</td>\n",
       "      <td>55.164243</td>\n",
       "      <td>54.734706</td>\n",
       "      <td>54.753913</td>\n",
       "      <td>54.734496</td>\n",
       "      <td>54.734496</td>\n",
       "      <td>54.753913</td>\n",
       "      <td>...</td>\n",
       "      <td>54.734496</td>\n",
       "      <td>54.720945</td>\n",
       "      <td>54.734496</td>\n",
       "      <td>54.760482</td>\n",
       "      <td>54.736936</td>\n",
       "      <td>54.734496</td>\n",
       "      <td>54.734496</td>\n",
       "      <td>54.734496</td>\n",
       "      <td>54.734496</td>\n",
       "      <td>54.734496</td>\n",
       "    </tr>\n",
       "    <tr>\n",
       "      <th>EX_no3_e</th>\n",
       "      <td>57.319011</td>\n",
       "      <td>57.305377</td>\n",
       "      <td>0.0</td>\n",
       "      <td>56.505471</td>\n",
       "      <td>57.739266</td>\n",
       "      <td>57.305457</td>\n",
       "      <td>57.313497</td>\n",
       "      <td>57.305369</td>\n",
       "      <td>57.305369</td>\n",
       "      <td>57.313497</td>\n",
       "      <td>...</td>\n",
       "      <td>57.305369</td>\n",
       "      <td>57.299694</td>\n",
       "      <td>57.305369</td>\n",
       "      <td>57.316246</td>\n",
       "      <td>57.306391</td>\n",
       "      <td>57.305369</td>\n",
       "      <td>57.305369</td>\n",
       "      <td>57.305369</td>\n",
       "      <td>57.305369</td>\n",
       "      <td>57.305369</td>\n",
       "    </tr>\n",
       "    <tr>\n",
       "      <th>None</th>\n",
       "      <td>26.399593</td>\n",
       "      <td>26.388632</td>\n",
       "      <td>0.0</td>\n",
       "      <td>25.869696</td>\n",
       "      <td>35.084701</td>\n",
       "      <td>26.388696</td>\n",
       "      <td>26.395160</td>\n",
       "      <td>26.388625</td>\n",
       "      <td>26.388625</td>\n",
       "      <td>26.395160</td>\n",
       "      <td>...</td>\n",
       "      <td>26.388625</td>\n",
       "      <td>26.384064</td>\n",
       "      <td>26.496158</td>\n",
       "      <td>26.397370</td>\n",
       "      <td>26.389447</td>\n",
       "      <td>26.388625</td>\n",
       "      <td>26.388625</td>\n",
       "      <td>26.388625</td>\n",
       "      <td>26.388625</td>\n",
       "      <td>26.388625</td>\n",
       "    </tr>\n",
       "  </tbody>\n",
       "</table>\n",
       "<p>109521 rows × 77 columns</p>\n",
       "</div>"
      ],
      "text/plain": [
       "                                         b0031      b0052  b0073      b0104  \\\n",
       "carbon        nitrogen    electron                                            \n",
       "EX_12ppd__S_e EX_23camp_e EX_tmao_e  38.150316  38.051353    0.0  38.312633   \n",
       "                          EX_dmso_e  37.434943  37.347647    0.0  37.603805   \n",
       "                          EX_fum_e   15.841827  15.799176    0.0  15.911801   \n",
       "                          EX_o2_e    54.323464  54.323464    0.0  54.711065   \n",
       "                          EX_no2_e   50.436373  50.402538    0.0  50.783259   \n",
       "...                                        ...        ...    ...        ...   \n",
       "EX_xylu__L_e  EX_xtsn_e   EX_fum_e   30.113751  30.103447    0.0  29.419284   \n",
       "                          EX_o2_e    58.044068  58.044068    0.0  56.848308   \n",
       "                          EX_no2_e   54.767088  54.734516    0.0  54.085959   \n",
       "                          EX_no3_e   57.319011  57.305377    0.0  56.505471   \n",
       "                          None       26.399593  26.388632    0.0  25.869696   \n",
       "\n",
       "                                         b0116      b0173      b0243  \\\n",
       "carbon        nitrogen    electron                                     \n",
       "EX_12ppd__S_e EX_23camp_e EX_tmao_e  43.264701  38.051930  38.110241   \n",
       "                          EX_dmso_e  41.311576  37.348156  37.399598   \n",
       "                          EX_fum_e   22.526548  15.799424  15.824554   \n",
       "                          EX_o2_e    55.856093  54.323464  54.323464   \n",
       "                          EX_no2_e   50.744040  50.402735  50.422687   \n",
       "...                                        ...        ...        ...   \n",
       "EX_xylu__L_e  EX_xtsn_e   EX_fum_e   37.387008  30.103507  30.109584   \n",
       "                          EX_o2_e    58.901904  58.044068  58.044068   \n",
       "                          EX_no2_e   55.164243  54.734706  54.753913   \n",
       "                          EX_no3_e   57.739266  57.305457  57.313497   \n",
       "                          None       35.084701  26.388696  26.395160   \n",
       "\n",
       "                                         b0312      b0356      b0386  ...  \\\n",
       "carbon        nitrogen    electron                                    ...   \n",
       "EX_12ppd__S_e EX_23camp_e EX_tmao_e  38.051294  38.051294  38.110241  ...   \n",
       "                          EX_dmso_e  37.347595  37.347595  37.399598  ...   \n",
       "                          EX_fum_e   15.799150  15.799150  15.824554  ...   \n",
       "                          EX_o2_e    54.323464  54.323464  54.323464  ...   \n",
       "                          EX_no2_e   50.402517  50.402517  50.422687  ...   \n",
       "...                                        ...        ...        ...  ...   \n",
       "EX_xylu__L_e  EX_xtsn_e   EX_fum_e   30.103441  30.103441  30.109584  ...   \n",
       "                          EX_o2_e    58.044068  58.044068  58.044068  ...   \n",
       "                          EX_no2_e   54.734496  54.734496  54.753913  ...   \n",
       "                          EX_no3_e   57.305369  57.305369  57.313497  ...   \n",
       "                          None       26.388625  26.388625  26.395160  ...   \n",
       "\n",
       "                                         b3882      b3941      b3945  \\\n",
       "carbon        nitrogen    electron                                     \n",
       "EX_12ppd__S_e EX_23camp_e EX_tmao_e  38.051294  38.010240  38.051294   \n",
       "                          EX_dmso_e  37.347595  37.311367  37.347595   \n",
       "                          EX_fum_e   15.799150  15.781459  15.799150   \n",
       "                          EX_o2_e    54.323464  54.323464  54.385356   \n",
       "                          EX_no2_e   50.402517  50.388443  50.402517   \n",
       "...                                        ...        ...        ...   \n",
       "EX_xylu__L_e  EX_xtsn_e   EX_fum_e   30.103441  30.099153  30.103441   \n",
       "                          EX_o2_e    58.044068  58.044068  58.073873   \n",
       "                          EX_no2_e   54.734496  54.720945  54.734496   \n",
       "                          EX_no3_e   57.305369  57.299694  57.305369   \n",
       "                          None       26.388625  26.384064  26.496158   \n",
       "\n",
       "                                         b3958      b3972      b4266  \\\n",
       "carbon        nitrogen    electron                                     \n",
       "EX_12ppd__S_e EX_23camp_e EX_tmao_e  38.130212  38.058694  38.051294   \n",
       "                          EX_dmso_e  37.417213  37.354124  37.347595   \n",
       "                          EX_fum_e   15.833162  15.802339  15.799150   \n",
       "                          EX_o2_e    54.323464  54.323464  54.323464   \n",
       "                          EX_no2_e   50.429510  50.405052  50.402517   \n",
       "...                                        ...        ...        ...   \n",
       "EX_xylu__L_e  EX_xtsn_e   EX_fum_e   30.111662  30.104213  30.103441   \n",
       "                          EX_o2_e    58.044068  58.044068  58.044068   \n",
       "                          EX_no2_e   54.760482  54.736936  54.734496   \n",
       "                          EX_no3_e   57.316246  57.306391  57.305369   \n",
       "                          None       26.397370  26.389447  26.388625   \n",
       "\n",
       "                                         b4267      b4323      b4358  \\\n",
       "carbon        nitrogen    electron                                     \n",
       "EX_12ppd__S_e EX_23camp_e EX_tmao_e  38.051294  38.051294  38.051294   \n",
       "                          EX_dmso_e  37.347595  37.347595  37.347595   \n",
       "                          EX_fum_e   15.799150  15.799150  15.799150   \n",
       "                          EX_o2_e    54.323464  54.323464  54.323464   \n",
       "                          EX_no2_e   50.402517  50.402517  50.402517   \n",
       "...                                        ...        ...        ...   \n",
       "EX_xylu__L_e  EX_xtsn_e   EX_fum_e   30.103441  30.103441  30.103441   \n",
       "                          EX_o2_e    58.044068  58.044068  58.044068   \n",
       "                          EX_no2_e   54.734496  54.734496  54.734496   \n",
       "                          EX_no3_e   57.305369  57.305369  57.305369   \n",
       "                          None       26.388625  26.388625  26.388625   \n",
       "\n",
       "                                     growth_rate  \n",
       "carbon        nitrogen    electron                \n",
       "EX_12ppd__S_e EX_23camp_e EX_tmao_e    38.051294  \n",
       "                          EX_dmso_e    37.347595  \n",
       "                          EX_fum_e     15.799150  \n",
       "                          EX_o2_e      54.323464  \n",
       "                          EX_no2_e     50.402517  \n",
       "...                                          ...  \n",
       "EX_xylu__L_e  EX_xtsn_e   EX_fum_e     30.103441  \n",
       "                          EX_o2_e      58.044068  \n",
       "                          EX_no2_e     54.734496  \n",
       "                          EX_no3_e     57.305369  \n",
       "                          None         26.388625  \n",
       "\n",
       "[109521 rows x 77 columns]"
      ]
     },
     "execution_count": 444,
     "metadata": {},
     "output_type": "execute_result"
    }
   ],
   "source": [
    "dfst"
   ]
  },
  {
   "cell_type": "code",
   "execution_count": 400,
   "metadata": {},
   "outputs": [],
   "source": [
    "# load gene to id map\n",
    "gmap  = pd.read_csv('../assets/EC_1.X.1.X.Unique_NAD(P)_Coupled.GeneSet.Thermo.csv')\n",
    "gmapper = dict(zip(gmap['gene'],gmap['gene_name']))"
   ]
  },
  {
   "cell_type": "code",
   "execution_count": 315,
   "metadata": {},
   "outputs": [],
   "source": [
    "#dfs_normalized.melt(value_vars=list(dfs_normalized),id_vars = dfs_normalized.index)\n",
    "dfn_s_skinny = pd.melt(dfs_normalized.reset_index(), id_vars=['carbon','nitrogen','electron'], value_vars=list(dfs_normalized))\n",
    "dfn_st_skinny = pd.melt(dfst_normalized.reset_index(), id_vars=['carbon','nitrogen','electron'], value_vars=list(dfst_normalized))\n"
   ]
  },
  {
   "cell_type": "code",
   "execution_count": 317,
   "metadata": {},
   "outputs": [],
   "source": [
    "dfn_s_skinny.columns = ['carbon','nitrogen','electron','gene','relative growth rate (stoich)']\n",
    "dfn_st_skinny.columns = ['carbon','nitrogen','electron','gene','relative growth rate (stoich+thermo)']\n"
   ]
  },
  {
   "cell_type": "code",
   "execution_count": 319,
   "metadata": {},
   "outputs": [],
   "source": [
    "idx_vars = ['carbon','nitrogen','electron','gene']\n",
    "dfn = pd.concat([dfn_s_skinny.set_index(idx_vars),dfn_st_skinny.set_index(idx_vars)],axis=1);"
   ]
  },
  {
   "cell_type": "code",
   "execution_count": 375,
   "metadata": {},
   "outputs": [
    {
     "data": {
      "text/html": [
       "<div>\n",
       "<style scoped>\n",
       "    .dataframe tbody tr th:only-of-type {\n",
       "        vertical-align: middle;\n",
       "    }\n",
       "\n",
       "    .dataframe tbody tr th {\n",
       "        vertical-align: top;\n",
       "    }\n",
       "\n",
       "    .dataframe thead th {\n",
       "        text-align: right;\n",
       "    }\n",
       "</style>\n",
       "<table border=\"1\" class=\"dataframe\">\n",
       "  <thead>\n",
       "    <tr style=\"text-align: right;\">\n",
       "      <th></th>\n",
       "      <th>carbon</th>\n",
       "      <th>nitrogen</th>\n",
       "      <th>electron</th>\n",
       "      <th>gene</th>\n",
       "      <th>relative growth rate (stoich+thermo)</th>\n",
       "    </tr>\n",
       "  </thead>\n",
       "  <tbody>\n",
       "    <tr>\n",
       "      <th>4492554</th>\n",
       "      <td>EX_23ccmp_e</td>\n",
       "      <td>EX_gam_e</td>\n",
       "      <td>EX_tmao_e</td>\n",
       "      <td>b2320</td>\n",
       "      <td>0.000000</td>\n",
       "    </tr>\n",
       "    <tr>\n",
       "      <th>253908</th>\n",
       "      <td>EX_dca_e</td>\n",
       "      <td>EX_pser__L_e</td>\n",
       "      <td>EX_no2_e</td>\n",
       "      <td>b0073</td>\n",
       "      <td>0.000000</td>\n",
       "    </tr>\n",
       "    <tr>\n",
       "      <th>253907</th>\n",
       "      <td>EX_dca_e</td>\n",
       "      <td>EX_pser__L_e</td>\n",
       "      <td>EX_o2_e</td>\n",
       "      <td>b0073</td>\n",
       "      <td>0.000000</td>\n",
       "    </tr>\n",
       "    <tr>\n",
       "      <th>253906</th>\n",
       "      <td>EX_dca_e</td>\n",
       "      <td>EX_pser__L_e</td>\n",
       "      <td>EX_fum_e</td>\n",
       "      <td>b0073</td>\n",
       "      <td>0.000000</td>\n",
       "    </tr>\n",
       "    <tr>\n",
       "      <th>253905</th>\n",
       "      <td>EX_dca_e</td>\n",
       "      <td>EX_pser__L_e</td>\n",
       "      <td>EX_dmso_e</td>\n",
       "      <td>b0073</td>\n",
       "      <td>0.000000</td>\n",
       "    </tr>\n",
       "    <tr>\n",
       "      <th>...</th>\n",
       "      <td>...</td>\n",
       "      <td>...</td>\n",
       "      <td>...</td>\n",
       "      <td>...</td>\n",
       "      <td>...</td>\n",
       "    </tr>\n",
       "    <tr>\n",
       "      <th>514283</th>\n",
       "      <td>EX_mal__D_e</td>\n",
       "      <td>EX_ade_e</td>\n",
       "      <td>None</td>\n",
       "      <td>b0116</td>\n",
       "      <td>611.025478</td>\n",
       "    </tr>\n",
       "    <tr>\n",
       "      <th>511955</th>\n",
       "      <td>EX_lac__D_e</td>\n",
       "      <td>EX_ade_e</td>\n",
       "      <td>None</td>\n",
       "      <td>b0116</td>\n",
       "      <td>611.026013</td>\n",
       "    </tr>\n",
       "    <tr>\n",
       "      <th>480310</th>\n",
       "      <td>EX_etha_e</td>\n",
       "      <td>EX_hxan_e</td>\n",
       "      <td>None</td>\n",
       "      <td>b0116</td>\n",
       "      <td>677.266409</td>\n",
       "    </tr>\n",
       "    <tr>\n",
       "      <th>512241</th>\n",
       "      <td>EX_lac__D_e</td>\n",
       "      <td>EX_hxan_e</td>\n",
       "      <td>None</td>\n",
       "      <td>b0116</td>\n",
       "      <td>704.227014</td>\n",
       "    </tr>\n",
       "    <tr>\n",
       "      <th>514569</th>\n",
       "      <td>EX_mal__D_e</td>\n",
       "      <td>EX_hxan_e</td>\n",
       "      <td>None</td>\n",
       "      <td>b0116</td>\n",
       "      <td>704.227651</td>\n",
       "    </tr>\n",
       "  </tbody>\n",
       "</table>\n",
       "<p>8322309 rows × 5 columns</p>\n",
       "</div>"
      ],
      "text/plain": [
       "              carbon      nitrogen   electron   gene  \\\n",
       "4492554  EX_23ccmp_e      EX_gam_e  EX_tmao_e  b2320   \n",
       "253908      EX_dca_e  EX_pser__L_e   EX_no2_e  b0073   \n",
       "253907      EX_dca_e  EX_pser__L_e    EX_o2_e  b0073   \n",
       "253906      EX_dca_e  EX_pser__L_e   EX_fum_e  b0073   \n",
       "253905      EX_dca_e  EX_pser__L_e  EX_dmso_e  b0073   \n",
       "...              ...           ...        ...    ...   \n",
       "514283   EX_mal__D_e      EX_ade_e       None  b0116   \n",
       "511955   EX_lac__D_e      EX_ade_e       None  b0116   \n",
       "480310     EX_etha_e     EX_hxan_e       None  b0116   \n",
       "512241   EX_lac__D_e     EX_hxan_e       None  b0116   \n",
       "514569   EX_mal__D_e     EX_hxan_e       None  b0116   \n",
       "\n",
       "         relative growth rate (stoich+thermo)  \n",
       "4492554                              0.000000  \n",
       "253908                               0.000000  \n",
       "253907                               0.000000  \n",
       "253906                               0.000000  \n",
       "253905                               0.000000  \n",
       "...                                       ...  \n",
       "514283                             611.025478  \n",
       "511955                             611.026013  \n",
       "480310                             677.266409  \n",
       "512241                             704.227014  \n",
       "514569                             704.227651  \n",
       "\n",
       "[8322309 rows x 5 columns]"
      ]
     },
     "execution_count": 375,
     "metadata": {},
     "output_type": "execute_result"
    }
   ],
   "source": [
    "dfn_st_skinny.dropna().sort_values('relative growth rate (stoich+thermo)')"
   ]
  },
  {
   "cell_type": "code",
   "execution_count": 390,
   "metadata": {},
   "outputs": [],
   "source": [
    "psuedo = 1e-5;\n",
    "dfn_st_skinny['mu_g'] = dfn_st_skinny['relative growth rate (stoich+thermo)'].apply(lambda x: np.log10(x+psuedo))\n",
    "dfn_s_skinny['mu_g'] = dfn_s_skinny['relative growth rate (stoich)'].apply(lambda x: np.log10(x+psuedo))"
   ]
  },
  {
   "cell_type": "code",
   "execution_count": 403,
   "metadata": {},
   "outputs": [],
   "source": [
    "dfn_st_skinny['gene name'] = dfn_st_skinny['gene'].apply(lambda x: gmapper[x])\n",
    "dfn_s_skinny['gene name'] = dfn_s_skinny['gene'].apply(lambda x: gmapper[x])"
   ]
  },
  {
   "cell_type": "code",
   "execution_count": 404,
   "metadata": {},
   "outputs": [],
   "source": [
    "dorder = dfn_st_skinny.groupby('gene name').mean()['relative growth rate (stoich+thermo)']"
   ]
  },
  {
   "cell_type": "code",
   "execution_count": 405,
   "metadata": {},
   "outputs": [],
   "source": [
    "gene_ids = dorder.sort_values().index.get_level_values(0).tolist()"
   ]
  },
  {
   "cell_type": "code",
   "execution_count": 415,
   "metadata": {},
   "outputs": [
    {
     "data": {
      "text/plain": [
       "109521"
      ]
     },
     "execution_count": 415,
     "metadata": {},
     "output_type": "execute_result"
    }
   ],
   "source": [
    "len(dfn_st_skinny.dropna().groupby(['carbon','nitrogen','electron']))"
   ]
  },
  {
   "cell_type": "code",
   "execution_count": 439,
   "metadata": {},
   "outputs": [],
   "source": [
    "plt.rcParams.update({\n",
    "    \"text.usetex\": True,\n",
    "    \"font.family\": \"sans-serif\",\n",
    "    \"font.sans-serif\": [\"Helvetica\"]})"
   ]
  },
  {
   "cell_type": "code",
   "execution_count": 441,
   "metadata": {},
   "outputs": [
    {
     "data": {
      "image/png": "[encoded data removed]",
      "text/plain": [
       "<Figure size 1152x288 with 1 Axes>"
      ]
     },
     "metadata": {
      "needs_background": "light"
     },
     "output_type": "display_data"
    }
   ],
   "source": [
    "a4_dims = (16, 4)\n",
    "fig, ax = plt.subplots(figsize=a4_dims)\n",
    "\n",
    "plt.rcParams.update({'font.size':10})\n",
    "\n",
    "sns.boxplot(x='gene name',y='mu_g',data=dfn_st_skinny,order=gene_ids,color='grey',medianprops={'color':'red'})\n",
    "\n",
    "plt.xticks(rotation=60)\n",
    "plt.ylabel('relative growth rate (log)')\n",
    "plt.title('Growth rate of coenzyme mutants in 109,521 conditions (with thermodynamics)')\n",
    "plt.ylim([-5.2,3.2])\n",
    "tl = ['$10^{' + str(x) + '}$' for x in list(range(-5,4))]\n",
    "tl[0] = '0'\n",
    "plt.yticks(ticks=list(range(-5,4)),labels=tl)\n",
    "plt.savefig('boxplot.relGrowthRates.109521envs.withThermo.dpi300.png',dpi=300)\n"
   ]
  },
  {
   "cell_type": "code",
   "execution_count": 442,
   "metadata": {},
   "outputs": [
    {
     "data": {
      "image/png": "[encoded data removed]",
      "text/plain": [
       "<Figure size 1152x288 with 1 Axes>"
      ]
     },
     "metadata": {
      "needs_background": "light"
     },
     "output_type": "display_data"
    }
   ],
   "source": [
    "a4_dims = (16, 4)\n",
    "fig, ax = plt.subplots(figsize=a4_dims)\n",
    "\n",
    "plt.rcParams.update({'font.size':10})\n",
    "\n",
    "sns.boxplot(x='gene name',y='mu_g',data=dfn_s_skinny,order=gene_ids,color='grey',medianprops={'color':'red'})\n",
    "\n",
    "plt.xticks(rotation=60)\n",
    "plt.ylabel('relative growth rate (log)')\n",
    "plt.title('Growth rate of coenzyme mutants in 109,521 conditions (without thermodynamics)')\n",
    "plt.ylim([-5.2,3.2])\n",
    "tl = ['$10^{' + str(x) + '}$' for x in list(range(-5,4))]\n",
    "tl[0] = '0'\n",
    "plt.yticks(ticks=list(range(-5,4)),labels=tl)\n",
    "plt.savefig('boxplot.relGrowthRates.109521envs.noThermo.dpi300.png',dpi=300)\n",
    "#plt.savefig('boxplot.relGrowthRates.109521envs.noThermo.pdf')\n"
   ]
  },
  {
   "cell_type": "code",
   "execution_count": 393,
   "metadata": {},
   "outputs": [
    {
     "data": {
      "text/plain": [
       "(array([ 0,  1,  2,  3,  4,  5,  6,  7,  8,  9, 10, 11, 12, 13, 14, 15, 16,\n",
       "        17, 18, 19, 20, 21, 22, 23, 24, 25, 26, 27, 28, 29, 30, 31, 32, 33,\n",
       "        34, 35, 36, 37, 38, 39, 40, 41, 42, 43, 44, 45, 46, 47, 48, 49, 50,\n",
       "        51, 52, 53, 54, 55, 56, 57, 58, 59, 60, 61, 62, 63, 64, 65, 66, 67,\n",
       "        68, 69, 70, 71, 72, 73, 74, 75]),\n",
       " [Text(0, 0, 'b0073'),\n",
       "  Text(1, 0, 'b2320'),\n",
       "  Text(2, 0, 'b1779'),\n",
       "  Text(3, 0, 'b3236'),\n",
       "  Text(4, 0, 'b2913'),\n",
       "  Text(5, 0, 'b1136'),\n",
       "  Text(6, 0, 'b3844'),\n",
       "  Text(7, 0, 'b1852'),\n",
       "  Text(8, 0, 'b2463'),\n",
       "  Text(9, 0, 'b3608'),\n",
       "  Text(10, 0, 'b2508'),\n",
       "  Text(11, 0, 'b1395'),\n",
       "  Text(12, 0, 'b3365'),\n",
       "  Text(13, 0, 'b2029'),\n",
       "  Text(14, 0, 'b3941'),\n",
       "  Text(15, 0, 'b2091'),\n",
       "  Text(16, 0, 'b4358'),\n",
       "  Text(17, 0, 'b2799'),\n",
       "  Text(18, 0, 'b4323'),\n",
       "  Text(19, 0, 'b1521'),\n",
       "  Text(20, 0, 'b1387'),\n",
       "  Text(21, 0, 'b2542'),\n",
       "  Text(22, 0, 'b3575'),\n",
       "  Text(23, 0, 'b3553'),\n",
       "  Text(24, 0, 'b2040'),\n",
       "  Text(25, 0, 'b3882'),\n",
       "  Text(26, 0, 'b3787'),\n",
       "  Text(27, 0, 'b2794'),\n",
       "  Text(28, 0, 'b4267'),\n",
       "  Text(29, 0, 'b2028'),\n",
       "  Text(30, 0, 'b1692'),\n",
       "  Text(31, 0, 'b2052'),\n",
       "  Text(32, 0, 'b1539'),\n",
       "  Text(33, 0, 'b0596'),\n",
       "  Text(34, 0, 'b0312'),\n",
       "  Text(35, 0, 'b2146'),\n",
       "  Text(36, 0, 'b1525'),\n",
       "  Text(37, 0, 'b1300'),\n",
       "  Text(38, 0, 'b2255'),\n",
       "  Text(39, 0, 'b0052'),\n",
       "  Text(40, 0, 'b3368'),\n",
       "  Text(41, 0, 'b2541'),\n",
       "  Text(42, 0, 'b0414'),\n",
       "  Text(43, 0, 'b0173'),\n",
       "  Text(44, 0, 'b1415'),\n",
       "  Text(45, 0, 'b1385'),\n",
       "  Text(46, 0, 'b0356'),\n",
       "  Text(47, 0, 'b3600'),\n",
       "  Text(48, 0, 'b2705'),\n",
       "  Text(49, 0, 'b3972'),\n",
       "  Text(50, 0, 'b1444'),\n",
       "  Text(51, 0, 'b4266'),\n",
       "  Text(52, 0, 'b1746'),\n",
       "  Text(53, 0, 'b2600'),\n",
       "  Text(54, 0, 'b3945'),\n",
       "  Text(55, 0, 'b1800'),\n",
       "  Text(56, 0, 'b2020'),\n",
       "  Text(57, 0, 'b0517'),\n",
       "  Text(58, 0, 'b0243'),\n",
       "  Text(59, 0, 'b3958'),\n",
       "  Text(60, 0, 'b0888'),\n",
       "  Text(61, 0, 'b3500'),\n",
       "  Text(62, 0, 'b0031'),\n",
       "  Text(63, 0, 'b0104'),\n",
       "  Text(64, 0, 'b3433'),\n",
       "  Text(65, 0, 'b0529'),\n",
       "  Text(66, 0, 'b2867'),\n",
       "  Text(67, 0, 'b3616'),\n",
       "  Text(68, 0, 'b1014'),\n",
       "  Text(69, 0, 'b3774'),\n",
       "  Text(70, 0, 'b3213'),\n",
       "  Text(71, 0, 'b1761'),\n",
       "  Text(72, 0, 'b0386'),\n",
       "  Text(73, 0, 'b2764'),\n",
       "  Text(74, 0, 'b1479'),\n",
       "  Text(75, 0, 'b0116')])"
      ]
     },
     "execution_count": 393,
     "metadata": {},
     "output_type": "execute_result"
    },
    {
     "data": {
      "image/png": "[encoded data removed]",
      "text/plain": [
       "<Figure size 1224x288 with 1 Axes>"
      ]
     },
     "metadata": {
      "needs_background": "light"
     },
     "output_type": "display_data"
    }
   ],
   "source": [
    "a4_dims = (17, 4)\n",
    "fig, ax = plt.subplots(figsize=a4_dims)\n",
    "\n",
    "plt.rcParams.update({'font.size': 8})\n",
    "\n",
    "sns.boxplot(x='gene',y='mu_g',data=dfn_s_skinny,order=gene_ids)\n",
    "\n",
    "plt.xticks(rotation=45)\n",
    "\n"
   ]
  },
  {
   "cell_type": "code",
   "execution_count": 322,
   "metadata": {},
   "outputs": [
    {
     "data": {
      "text/plain": [
       "<AxesSubplot:xlabel='relative growth rate (stoich)', ylabel='relative growth rate (stoich+thermo)'>"
      ]
     },
     "execution_count": 322,
     "metadata": {},
     "output_type": "execute_result"
    },
    {
     "data": {
      "image/png": "[encoded data removed]",
      "text/plain": [
       "<Figure size 432x288 with 1 Axes>"
      ]
     },
     "metadata": {
      "needs_background": "light"
     },
     "output_type": "display_data"
    }
   ],
   "source": [
    "sns.scatterplot(x='relative growth rate (stoich)',y='relative growth rate (stoich+thermo)',data=dfn.apply(np.log10))"
   ]
  },
  {
   "cell_type": "code",
   "execution_count": 152,
   "metadata": {},
   "outputs": [],
   "source": [
    "q = 1 - (dfst_normalized < cutoff).sum() / len(dfst_normalized)"
   ]
  },
  {
   "cell_type": "code",
   "execution_count": 154,
   "metadata": {},
   "outputs": [
    {
     "data": {
      "text/plain": [
       "b2320    0.00000\n",
       "b0073    0.00000\n",
       "b4358    0.99989\n",
       "b2799    0.99989\n",
       "b2091    0.99989\n",
       "          ...   \n",
       "b1479    1.00000\n",
       "b1444    1.00000\n",
       "b1415    1.00000\n",
       "b4323    1.00000\n",
       "b2052    1.00000\n",
       "Length: 76, dtype: float64"
      ]
     },
     "execution_count": 154,
     "metadata": {},
     "output_type": "execute_result"
    }
   ],
   "source": [
    "q.sort_values()"
   ]
  },
  {
   "cell_type": "code",
   "execution_count": 158,
   "metadata": {},
   "outputs": [],
   "source": [
    "g = (dfst_normalized < cutoff).sum() > 0"
   ]
  },
  {
   "cell_type": "code",
   "execution_count": 163,
   "metadata": {},
   "outputs": [
    {
     "data": {
      "text/plain": [
       "b0031    False\n",
       "b0052    False\n",
       "b0073    False\n",
       "b0104    False\n",
       "b0116    False\n",
       "         ...  \n",
       "b3972    False\n",
       "b4266    False\n",
       "b4267    False\n",
       "b4323    False\n",
       "b4358    False\n",
       "Length: 76, dtype: bool"
      ]
     },
     "execution_count": 163,
     "metadata": {},
     "output_type": "execute_result"
    }
   ],
   "source": [
    "g2"
   ]
  },
  {
   "cell_type": "code",
   "execution_count": 160,
   "metadata": {},
   "outputs": [
    {
     "data": {
      "text/plain": [
       "Series([], dtype: bool)"
      ]
     },
     "execution_count": 160,
     "metadata": {},
     "output_type": "execute_result"
    }
   ],
   "source": [
    "g2 = (dfs_normalized < cutoff).sum() > 0\n",
    "g2[g2]"
   ]
  },
  {
   "cell_type": "code",
   "execution_count": 185,
   "metadata": {},
   "outputs": [
    {
     "data": {
      "text/plain": [
       "array(['None'], dtype=object)"
      ]
     },
     "execution_count": 185,
     "metadata": {},
     "output_type": "execute_result"
    }
   ],
   "source": [
    "dfst_normalized[dfst_normalized['b1779'] < 1e-3].reset_index().electron.unique()"
   ]
  },
  {
   "cell_type": "code",
   "execution_count": 189,
   "metadata": {},
   "outputs": [
    {
     "data": {
      "text/plain": [
       "b1761    0.053181\n",
       "b3608    0.236107\n",
       "b2463    0.308905\n",
       "b3236    0.465973\n",
       "b1539    0.555511\n",
       "           ...   \n",
       "b4267    1.000000\n",
       "b0414    1.000000\n",
       "b0031    1.000000\n",
       "b0116    1.000000\n",
       "b1014    1.000000\n",
       "Length: 76, dtype: float64"
      ]
     },
     "execution_count": 189,
     "metadata": {},
     "output_type": "execute_result"
    }
   ],
   "source": [
    "dfs_normalized.min().sort_values()"
   ]
  },
  {
   "cell_type": "code",
   "execution_count": 193,
   "metadata": {},
   "outputs": [],
   "source": [
    "h = pd.DataFrame(dfst_normalized.min().sort_values(),columns = ['st']).join(pd.DataFrame(dfs_normalized.min().sort_values(),columns = ['s']))"
   ]
  },
  {
   "cell_type": "code",
   "execution_count": 197,
   "metadata": {},
   "outputs": [
    {
     "data": {
      "text/plain": [
       "<AxesSubplot:ylabel='st'>"
      ]
     },
     "execution_count": 197,
     "metadata": {},
     "output_type": "execute_result"
    },
    {
     "data": {
      "image/png": "[encoded data removed]",
      "text/plain": [
       "<Figure size 432x288 with 1 Axes>"
      ]
     },
     "metadata": {
      "needs_background": "light"
     },
     "output_type": "display_data"
    }
   ],
   "source": [
    "sns.barplot(data=h,y='st')"
   ]
  },
  {
   "cell_type": "code",
   "execution_count": 199,
   "metadata": {},
   "outputs": [
    {
     "data": {
      "text/plain": [
       "<AxesSubplot:xlabel='s', ylabel='st'>"
      ]
     },
     "execution_count": 199,
     "metadata": {},
     "output_type": "execute_result"
    },
    {
     "data": {
      "image/png": "[encoded data removed]",
      "text/plain": [
       "<Figure size 432x288 with 1 Axes>"
      ]
     },
     "metadata": {
      "needs_background": "light"
     },
     "output_type": "display_data"
    }
   ],
   "source": [
    "sns.scatterplot(x='s',y='st',data=h)"
   ]
  },
  {
   "cell_type": "code",
   "execution_count": 202,
   "metadata": {},
   "outputs": [
    {
     "data": {
      "text/html": [
       "<div>\n",
       "<style scoped>\n",
       "    .dataframe tbody tr th:only-of-type {\n",
       "        vertical-align: middle;\n",
       "    }\n",
       "\n",
       "    .dataframe tbody tr th {\n",
       "        vertical-align: top;\n",
       "    }\n",
       "\n",
       "    .dataframe thead th {\n",
       "        text-align: right;\n",
       "    }\n",
       "</style>\n",
       "<table border=\"1\" class=\"dataframe\">\n",
       "  <thead>\n",
       "    <tr style=\"text-align: right;\">\n",
       "      <th></th>\n",
       "      <th>st</th>\n",
       "      <th>s</th>\n",
       "    </tr>\n",
       "  </thead>\n",
       "  <tbody>\n",
       "    <tr>\n",
       "      <th>b4358</th>\n",
       "      <td>0.000000</td>\n",
       "      <td>0.999999</td>\n",
       "    </tr>\n",
       "    <tr>\n",
       "      <th>b0073</th>\n",
       "      <td>0.000000</td>\n",
       "      <td>1.000000</td>\n",
       "    </tr>\n",
       "    <tr>\n",
       "      <th>b2091</th>\n",
       "      <td>0.000000</td>\n",
       "      <td>0.999999</td>\n",
       "    </tr>\n",
       "    <tr>\n",
       "      <th>b2320</th>\n",
       "      <td>0.000000</td>\n",
       "      <td>1.000000</td>\n",
       "    </tr>\n",
       "    <tr>\n",
       "      <th>b1395</th>\n",
       "      <td>0.000000</td>\n",
       "      <td>0.999999</td>\n",
       "    </tr>\n",
       "    <tr>\n",
       "      <th>b2799</th>\n",
       "      <td>0.000000</td>\n",
       "      <td>0.578059</td>\n",
       "    </tr>\n",
       "    <tr>\n",
       "      <th>b1779</th>\n",
       "      <td>0.000401</td>\n",
       "      <td>0.974607</td>\n",
       "    </tr>\n",
       "    <tr>\n",
       "      <th>b1136</th>\n",
       "      <td>0.004723</td>\n",
       "      <td>0.884284</td>\n",
       "    </tr>\n",
       "    <tr>\n",
       "      <th>b3236</th>\n",
       "      <td>0.006426</td>\n",
       "      <td>0.465973</td>\n",
       "    </tr>\n",
       "    <tr>\n",
       "      <th>b1761</th>\n",
       "      <td>0.053181</td>\n",
       "      <td>0.053181</td>\n",
       "    </tr>\n",
       "    <tr>\n",
       "      <th>b2867</th>\n",
       "      <td>0.163343</td>\n",
       "      <td>0.999999</td>\n",
       "    </tr>\n",
       "    <tr>\n",
       "      <th>b2463</th>\n",
       "      <td>0.308905</td>\n",
       "      <td>0.308905</td>\n",
       "    </tr>\n",
       "    <tr>\n",
       "      <th>b3608</th>\n",
       "      <td>0.538882</td>\n",
       "      <td>0.236107</td>\n",
       "    </tr>\n",
       "    <tr>\n",
       "      <th>b3844</th>\n",
       "      <td>0.665965</td>\n",
       "      <td>0.665965</td>\n",
       "    </tr>\n",
       "    <tr>\n",
       "      <th>b2913</th>\n",
       "      <td>0.680733</td>\n",
       "      <td>0.680733</td>\n",
       "    </tr>\n",
       "  </tbody>\n",
       "</table>\n",
       "</div>"
      ],
      "text/plain": [
       "             st         s\n",
       "b4358  0.000000  0.999999\n",
       "b0073  0.000000  1.000000\n",
       "b2091  0.000000  0.999999\n",
       "b2320  0.000000  1.000000\n",
       "b1395  0.000000  0.999999\n",
       "b2799  0.000000  0.578059\n",
       "b1779  0.000401  0.974607\n",
       "b1136  0.004723  0.884284\n",
       "b3236  0.006426  0.465973\n",
       "b1761  0.053181  0.053181\n",
       "b2867  0.163343  0.999999\n",
       "b2463  0.308905  0.308905\n",
       "b3608  0.538882  0.236107\n",
       "b3844  0.665965  0.665965\n",
       "b2913  0.680733  0.680733"
      ]
     },
     "execution_count": 202,
     "metadata": {},
     "output_type": "execute_result"
    }
   ],
   "source": [
    "h.head(15)"
   ]
  },
  {
   "cell_type": "code",
   "execution_count": 324,
   "metadata": {},
   "outputs": [
    {
     "data": {
      "text/html": [
       "<div>\n",
       "<style scoped>\n",
       "    .dataframe tbody tr th:only-of-type {\n",
       "        vertical-align: middle;\n",
       "    }\n",
       "\n",
       "    .dataframe tbody tr th {\n",
       "        vertical-align: top;\n",
       "    }\n",
       "\n",
       "    .dataframe thead th {\n",
       "        text-align: right;\n",
       "    }\n",
       "</style>\n",
       "<table border=\"1\" class=\"dataframe\">\n",
       "  <thead>\n",
       "    <tr style=\"text-align: right;\">\n",
       "      <th></th>\n",
       "      <th>st</th>\n",
       "      <th>s</th>\n",
       "    </tr>\n",
       "  </thead>\n",
       "  <tbody>\n",
       "    <tr>\n",
       "      <th>b4358</th>\n",
       "      <td>0.000000</td>\n",
       "      <td>0.999999</td>\n",
       "    </tr>\n",
       "    <tr>\n",
       "      <th>b0073</th>\n",
       "      <td>0.000000</td>\n",
       "      <td>1.000000</td>\n",
       "    </tr>\n",
       "    <tr>\n",
       "      <th>b2091</th>\n",
       "      <td>0.000000</td>\n",
       "      <td>0.999999</td>\n",
       "    </tr>\n",
       "    <tr>\n",
       "      <th>b2320</th>\n",
       "      <td>0.000000</td>\n",
       "      <td>1.000000</td>\n",
       "    </tr>\n",
       "    <tr>\n",
       "      <th>b1395</th>\n",
       "      <td>0.000000</td>\n",
       "      <td>0.999999</td>\n",
       "    </tr>\n",
       "    <tr>\n",
       "      <th>b2799</th>\n",
       "      <td>0.000000</td>\n",
       "      <td>0.578059</td>\n",
       "    </tr>\n",
       "    <tr>\n",
       "      <th>b1779</th>\n",
       "      <td>0.000401</td>\n",
       "      <td>0.974607</td>\n",
       "    </tr>\n",
       "    <tr>\n",
       "      <th>b1136</th>\n",
       "      <td>0.004723</td>\n",
       "      <td>0.884284</td>\n",
       "    </tr>\n",
       "    <tr>\n",
       "      <th>b3236</th>\n",
       "      <td>0.006426</td>\n",
       "      <td>0.465973</td>\n",
       "    </tr>\n",
       "  </tbody>\n",
       "</table>\n",
       "</div>"
      ],
      "text/plain": [
       "             st         s\n",
       "b4358  0.000000  0.999999\n",
       "b0073  0.000000  1.000000\n",
       "b2091  0.000000  0.999999\n",
       "b2320  0.000000  1.000000\n",
       "b1395  0.000000  0.999999\n",
       "b2799  0.000000  0.578059\n",
       "b1779  0.000401  0.974607\n",
       "b1136  0.004723  0.884284\n",
       "b3236  0.006426  0.465973"
      ]
     },
     "execution_count": 324,
     "metadata": {},
     "output_type": "execute_result"
    }
   ],
   "source": [
    "h[h['st'] < 0.05]"
   ]
  },
  {
   "cell_type": "code",
   "execution_count": 326,
   "metadata": {},
   "outputs": [],
   "source": [
    "gs = pd.read_csv('../assets/mutantGeneSet.reactionDirectionUpdateRules.MR4.csv')"
   ]
  },
  {
   "cell_type": "code",
   "execution_count": 331,
   "metadata": {},
   "outputs": [
    {
     "data": {
      "text/html": [
       "<div>\n",
       "<style scoped>\n",
       "    .dataframe tbody tr th:only-of-type {\n",
       "        vertical-align: middle;\n",
       "    }\n",
       "\n",
       "    .dataframe tbody tr th {\n",
       "        vertical-align: top;\n",
       "    }\n",
       "\n",
       "    .dataframe thead th {\n",
       "        text-align: right;\n",
       "    }\n",
       "</style>\n",
       "<table border=\"1\" class=\"dataframe\">\n",
       "  <thead>\n",
       "    <tr style=\"text-align: right;\">\n",
       "      <th></th>\n",
       "      <th>st</th>\n",
       "      <th>s</th>\n",
       "      <th>Unnamed: 0</th>\n",
       "      <th>reaction</th>\n",
       "      <th>gene_name</th>\n",
       "      <th>deltaG_prime_m</th>\n",
       "      <th>deltaG_prime_m (error)</th>\n",
       "      <th>wild type coenzyme</th>\n",
       "      <th>mutant coenzyme</th>\n",
       "      <th>max_deltaG (WT)</th>\n",
       "      <th>min_deltaG (WT)</th>\n",
       "      <th>max_deltaG (mutant)</th>\n",
       "      <th>min_deltaG (mutant)</th>\n",
       "      <th>direction (wild type)</th>\n",
       "      <th>direction (mutant)</th>\n",
       "    </tr>\n",
       "  </thead>\n",
       "  <tbody>\n",
       "    <tr>\n",
       "      <th>b0073</th>\n",
       "      <td>0.000000</td>\n",
       "      <td>1.000000</td>\n",
       "      <td>54</td>\n",
       "      <td>IPMD</td>\n",
       "      <td>leuB</td>\n",
       "      <td>16.222572</td>\n",
       "      <td>0.986231</td>\n",
       "      <td>NAD(H)</td>\n",
       "      <td>NADP(H)</td>\n",
       "      <td>30.516026</td>\n",
       "      <td>-15.148050</td>\n",
       "      <td>49.083366</td>\n",
       "      <td>3.419290</td>\n",
       "      <td>reversible</td>\n",
       "      <td>irreversible (backward)</td>\n",
       "    </tr>\n",
       "    <tr>\n",
       "      <th>b1395</th>\n",
       "      <td>0.000000</td>\n",
       "      <td>0.999999</td>\n",
       "      <td>47</td>\n",
       "      <td>HADPCOADH3</td>\n",
       "      <td>paaH</td>\n",
       "      <td>16.214254</td>\n",
       "      <td>0.986231</td>\n",
       "      <td>NAD(H)</td>\n",
       "      <td>NADP(H)</td>\n",
       "      <td>30.507707</td>\n",
       "      <td>-15.156369</td>\n",
       "      <td>49.075047</td>\n",
       "      <td>3.410971</td>\n",
       "      <td>reversible</td>\n",
       "      <td>irreversible (backward)</td>\n",
       "    </tr>\n",
       "    <tr>\n",
       "      <th>b2091</th>\n",
       "      <td>0.000000</td>\n",
       "      <td>0.999999</td>\n",
       "      <td>38</td>\n",
       "      <td>GLTPD</td>\n",
       "      <td>gatD</td>\n",
       "      <td>13.603320</td>\n",
       "      <td>1.196836</td>\n",
       "      <td>NAD(H)</td>\n",
       "      <td>NADP(H)</td>\n",
       "      <td>27.896774</td>\n",
       "      <td>-17.767302</td>\n",
       "      <td>46.464114</td>\n",
       "      <td>0.800038</td>\n",
       "      <td>reversible</td>\n",
       "      <td>irreversible (backward)</td>\n",
       "    </tr>\n",
       "    <tr>\n",
       "      <th>b2320</th>\n",
       "      <td>0.000000</td>\n",
       "      <td>1.000000</td>\n",
       "      <td>75</td>\n",
       "      <td>PERD</td>\n",
       "      <td>pdxB</td>\n",
       "      <td>16.227662</td>\n",
       "      <td>0.986231</td>\n",
       "      <td>NAD(H)</td>\n",
       "      <td>NADP(H)</td>\n",
       "      <td>30.521115</td>\n",
       "      <td>-15.142961</td>\n",
       "      <td>49.088455</td>\n",
       "      <td>3.424379</td>\n",
       "      <td>reversible</td>\n",
       "      <td>irreversible (backward)</td>\n",
       "    </tr>\n",
       "    <tr>\n",
       "      <th>b2799</th>\n",
       "      <td>0.000000</td>\n",
       "      <td>0.578059</td>\n",
       "      <td>59</td>\n",
       "      <td>LCARS</td>\n",
       "      <td>fucO</td>\n",
       "      <td>-24.005813</td>\n",
       "      <td>1.501614</td>\n",
       "      <td>NAD(H)</td>\n",
       "      <td>NADP(H)</td>\n",
       "      <td>7.364809</td>\n",
       "      <td>-38.299267</td>\n",
       "      <td>-11.202530</td>\n",
       "      <td>-56.866606</td>\n",
       "      <td>reversible</td>\n",
       "      <td>irreversible (forward)</td>\n",
       "    </tr>\n",
       "    <tr>\n",
       "      <th>b4358</th>\n",
       "      <td>0.000000</td>\n",
       "      <td>0.999999</td>\n",
       "      <td>33</td>\n",
       "      <td>GALCTLO</td>\n",
       "      <td>lgoD</td>\n",
       "      <td>15.807193</td>\n",
       "      <td>1.441710</td>\n",
       "      <td>NAD(H)</td>\n",
       "      <td>NADP(H)</td>\n",
       "      <td>30.100647</td>\n",
       "      <td>-15.563429</td>\n",
       "      <td>48.667987</td>\n",
       "      <td>3.003911</td>\n",
       "      <td>reversible</td>\n",
       "      <td>irreversible (backward)</td>\n",
       "    </tr>\n",
       "    <tr>\n",
       "      <th>b1779</th>\n",
       "      <td>0.000401</td>\n",
       "      <td>0.974607</td>\n",
       "      <td>34</td>\n",
       "      <td>GAPD</td>\n",
       "      <td>gapA</td>\n",
       "      <td>18.922609</td>\n",
       "      <td>0.405626</td>\n",
       "      <td>NAD(H)</td>\n",
       "      <td>NADP(H)</td>\n",
       "      <td>67.464119</td>\n",
       "      <td>-1.031995</td>\n",
       "      <td>86.031459</td>\n",
       "      <td>17.535345</td>\n",
       "      <td>reversible</td>\n",
       "      <td>irreversible (backward)</td>\n",
       "    </tr>\n",
       "    <tr>\n",
       "      <th>b1136</th>\n",
       "      <td>0.004723</td>\n",
       "      <td>0.884284</td>\n",
       "      <td>50</td>\n",
       "      <td>ICDHyr</td>\n",
       "      <td>icd</td>\n",
       "      <td>-11.699982</td>\n",
       "      <td>3.186777</td>\n",
       "      <td>NADP(H)</td>\n",
       "      <td>NAD(H)</td>\n",
       "      <td>9.744793</td>\n",
       "      <td>-58.751321</td>\n",
       "      <td>-8.822547</td>\n",
       "      <td>-77.318661</td>\n",
       "      <td>reversible</td>\n",
       "      <td>irreversible (forward)</td>\n",
       "    </tr>\n",
       "    <tr>\n",
       "      <th>b3236</th>\n",
       "      <td>0.006426</td>\n",
       "      <td>0.465973</td>\n",
       "      <td>64</td>\n",
       "      <td>MDH</td>\n",
       "      <td>mdh</td>\n",
       "      <td>27.098390</td>\n",
       "      <td>0.304888</td>\n",
       "      <td>NAD(H)</td>\n",
       "      <td>NADP(H)</td>\n",
       "      <td>41.391844</td>\n",
       "      <td>-4.272232</td>\n",
       "      <td>59.959184</td>\n",
       "      <td>14.295108</td>\n",
       "      <td>reversible</td>\n",
       "      <td>irreversible (backward)</td>\n",
       "    </tr>\n",
       "  </tbody>\n",
       "</table>\n",
       "</div>"
      ],
      "text/plain": [
       "             st         s  Unnamed: 0    reaction gene_name  deltaG_prime_m  \\\n",
       "b0073  0.000000  1.000000          54        IPMD      leuB       16.222572   \n",
       "b1395  0.000000  0.999999          47  HADPCOADH3      paaH       16.214254   \n",
       "b2091  0.000000  0.999999          38       GLTPD      gatD       13.603320   \n",
       "b2320  0.000000  1.000000          75        PERD      pdxB       16.227662   \n",
       "b2799  0.000000  0.578059          59       LCARS      fucO      -24.005813   \n",
       "b4358  0.000000  0.999999          33     GALCTLO      lgoD       15.807193   \n",
       "b1779  0.000401  0.974607          34        GAPD      gapA       18.922609   \n",
       "b1136  0.004723  0.884284          50      ICDHyr       icd      -11.699982   \n",
       "b3236  0.006426  0.465973          64         MDH       mdh       27.098390   \n",
       "\n",
       "       deltaG_prime_m (error) wild type coenzyme mutant coenzyme  \\\n",
       "b0073                0.986231             NAD(H)         NADP(H)   \n",
       "b1395                0.986231             NAD(H)         NADP(H)   \n",
       "b2091                1.196836             NAD(H)         NADP(H)   \n",
       "b2320                0.986231             NAD(H)         NADP(H)   \n",
       "b2799                1.501614             NAD(H)         NADP(H)   \n",
       "b4358                1.441710             NAD(H)         NADP(H)   \n",
       "b1779                0.405626             NAD(H)         NADP(H)   \n",
       "b1136                3.186777            NADP(H)          NAD(H)   \n",
       "b3236                0.304888             NAD(H)         NADP(H)   \n",
       "\n",
       "       max_deltaG (WT)  min_deltaG (WT)  max_deltaG (mutant)  \\\n",
       "b0073        30.516026       -15.148050            49.083366   \n",
       "b1395        30.507707       -15.156369            49.075047   \n",
       "b2091        27.896774       -17.767302            46.464114   \n",
       "b2320        30.521115       -15.142961            49.088455   \n",
       "b2799         7.364809       -38.299267           -11.202530   \n",
       "b4358        30.100647       -15.563429            48.667987   \n",
       "b1779        67.464119        -1.031995            86.031459   \n",
       "b1136         9.744793       -58.751321            -8.822547   \n",
       "b3236        41.391844        -4.272232            59.959184   \n",
       "\n",
       "       min_deltaG (mutant) direction (wild type)       direction (mutant)  \n",
       "b0073             3.419290            reversible  irreversible (backward)  \n",
       "b1395             3.410971            reversible  irreversible (backward)  \n",
       "b2091             0.800038            reversible  irreversible (backward)  \n",
       "b2320             3.424379            reversible  irreversible (backward)  \n",
       "b2799           -56.866606            reversible   irreversible (forward)  \n",
       "b4358             3.003911            reversible  irreversible (backward)  \n",
       "b1779            17.535345            reversible  irreversible (backward)  \n",
       "b1136           -77.318661            reversible   irreversible (forward)  \n",
       "b3236            14.295108            reversible  irreversible (backward)  "
      ]
     },
     "execution_count": 331,
     "metadata": {},
     "output_type": "execute_result"
    }
   ],
   "source": [
    "h[h['st'] < 0.05].join(gs.set_index('gene')).sort_values('st')"
   ]
  },
  {
   "cell_type": "code",
   "execution_count": 357,
   "metadata": {},
   "outputs": [],
   "source": [
    "z = pd.DataFrame((dfst_normalized <  0.1).sum().sort_values()).join(gs[['gene','gene_name']].drop_duplicates().set_index('gene')).reset_index()"
   ]
  },
  {
   "cell_type": "code",
   "execution_count": 358,
   "metadata": {},
   "outputs": [
    {
     "data": {
      "text/html": [
       "<div>\n",
       "<style scoped>\n",
       "    .dataframe tbody tr th:only-of-type {\n",
       "        vertical-align: middle;\n",
       "    }\n",
       "\n",
       "    .dataframe tbody tr th {\n",
       "        vertical-align: top;\n",
       "    }\n",
       "\n",
       "    .dataframe thead th {\n",
       "        text-align: right;\n",
       "    }\n",
       "</style>\n",
       "<table border=\"1\" class=\"dataframe\">\n",
       "  <thead>\n",
       "    <tr style=\"text-align: right;\">\n",
       "      <th></th>\n",
       "      <th>index</th>\n",
       "      <th>0</th>\n",
       "      <th>gene_name</th>\n",
       "    </tr>\n",
       "  </thead>\n",
       "  <tbody>\n",
       "    <tr>\n",
       "      <th>0</th>\n",
       "      <td>b0031</td>\n",
       "      <td>0</td>\n",
       "      <td>dapB</td>\n",
       "    </tr>\n",
       "    <tr>\n",
       "      <th>1</th>\n",
       "      <td>b3365</td>\n",
       "      <td>0</td>\n",
       "      <td>nirB</td>\n",
       "    </tr>\n",
       "    <tr>\n",
       "      <th>2</th>\n",
       "      <td>b3213</td>\n",
       "      <td>0</td>\n",
       "      <td>gltD</td>\n",
       "    </tr>\n",
       "    <tr>\n",
       "      <th>3</th>\n",
       "      <td>b2913</td>\n",
       "      <td>0</td>\n",
       "      <td>serA</td>\n",
       "    </tr>\n",
       "    <tr>\n",
       "      <th>4</th>\n",
       "      <td>b2867</td>\n",
       "      <td>0</td>\n",
       "      <td>xdhB</td>\n",
       "    </tr>\n",
       "    <tr>\n",
       "      <th>...</th>\n",
       "      <td>...</td>\n",
       "      <td>...</td>\n",
       "      <td>...</td>\n",
       "    </tr>\n",
       "    <tr>\n",
       "      <th>71</th>\n",
       "      <td>b1136</td>\n",
       "      <td>54</td>\n",
       "      <td>icd</td>\n",
       "    </tr>\n",
       "    <tr>\n",
       "      <th>72</th>\n",
       "      <td>b1395</td>\n",
       "      <td>170</td>\n",
       "      <td>paaH</td>\n",
       "    </tr>\n",
       "    <tr>\n",
       "      <th>73</th>\n",
       "      <td>b1779</td>\n",
       "      <td>662</td>\n",
       "      <td>gapA</td>\n",
       "    </tr>\n",
       "    <tr>\n",
       "      <th>74</th>\n",
       "      <td>b0073</td>\n",
       "      <td>109521</td>\n",
       "      <td>leuB</td>\n",
       "    </tr>\n",
       "    <tr>\n",
       "      <th>75</th>\n",
       "      <td>b2320</td>\n",
       "      <td>109521</td>\n",
       "      <td>pdxB</td>\n",
       "    </tr>\n",
       "  </tbody>\n",
       "</table>\n",
       "<p>76 rows × 3 columns</p>\n",
       "</div>"
      ],
      "text/plain": [
       "    index       0 gene_name\n",
       "0   b0031       0      dapB\n",
       "1   b3365       0      nirB\n",
       "2   b3213       0      gltD\n",
       "3   b2913       0      serA\n",
       "4   b2867       0      xdhB\n",
       "..    ...     ...       ...\n",
       "71  b1136      54       icd\n",
       "72  b1395     170      paaH\n",
       "73  b1779     662      gapA\n",
       "74  b0073  109521      leuB\n",
       "75  b2320  109521      pdxB\n",
       "\n",
       "[76 rows x 3 columns]"
      ]
     },
     "execution_count": 358,
     "metadata": {},
     "output_type": "execute_result"
    }
   ],
   "source": [
    "z"
   ]
  },
  {
   "cell_type": "code",
   "execution_count": 359,
   "metadata": {},
   "outputs": [],
   "source": [
    "z.columns = ['gene','N','gene name']"
   ]
  },
  {
   "cell_type": "code",
   "execution_count": 351,
   "metadata": {},
   "outputs": [],
   "source": [
    "import matplotlib.pyplot as plt"
   ]
  },
  {
   "cell_type": "code",
   "execution_count": 367,
   "metadata": {},
   "outputs": [
    {
     "data": {
      "text/plain": [
       "(array([ 0,  1,  2,  3,  4,  5,  6,  7,  8,  9, 10, 11, 12, 13, 14, 15, 16,\n",
       "        17, 18, 19, 20, 21, 22, 23, 24, 25, 26, 27, 28, 29, 30, 31, 32, 33,\n",
       "        34, 35, 36, 37, 38, 39, 40, 41, 42, 43, 44, 45, 46, 47, 48, 49, 50,\n",
       "        51, 52, 53, 54, 55, 56, 57, 58, 59, 60, 61, 62, 63, 64, 65, 66, 67,\n",
       "        68, 69, 70, 71, 72, 73, 74, 75]),\n",
       " [Text(0, 0, 'dapB'),\n",
       "  Text(1, 0, 'nirB'),\n",
       "  Text(2, 0, 'gltD'),\n",
       "  Text(3, 0, 'serA'),\n",
       "  Text(4, 0, 'xdhB'),\n",
       "  Text(5, 0, 'queF'),\n",
       "  Text(6, 0, 'cysJ'),\n",
       "  Text(7, 0, 'cysG'),\n",
       "  Text(8, 0, 'srlD'),\n",
       "  Text(9, 0, 'hcaD'),\n",
       "  Text(10, 0, 'hcaB'),\n",
       "  Text(11, 0, 'guaB'),\n",
       "  Text(12, 0, 'maeB'),\n",
       "  Text(13, 0, 'arnA'),\n",
       "  Text(14, 0, 'preT'),\n",
       "  Text(15, 0, 'tyrA'),\n",
       "  Text(16, 0, 'uxuB'),\n",
       "  Text(17, 0, 'asd'),\n",
       "  Text(18, 0, 'ghrB'),\n",
       "  Text(19, 0, 'idnD'),\n",
       "  Text(20, 0, 'idnO'),\n",
       "  Text(21, 0, 'murB'),\n",
       "  Text(22, 0, 'argC'),\n",
       "  Text(23, 0, 'gldA'),\n",
       "  Text(24, 0, 'metF'),\n",
       "  Text(25, 0, 'gor'),\n",
       "  Text(26, 0, 'yihU'),\n",
       "  Text(27, 0, 'wecC'),\n",
       "  Text(28, 0, 'ilvC'),\n",
       "  Text(29, 0, 'tdh'),\n",
       "  Text(30, 0, 'gpsA'),\n",
       "  Text(31, 0, 'mtlD'),\n",
       "  Text(32, 0, 'yiaK'),\n",
       "  Text(33, 0, 'fre'),\n",
       "  Text(34, 0, 'rfbD'),\n",
       "  Text(35, 0, 'wcaG'),\n",
       "  Text(36, 0, 'ugd'),\n",
       "  Text(37, 0, 'puuC'),\n",
       "  Text(38, 0, 'putA'),\n",
       "  Text(39, 0, 'trxB'),\n",
       "  Text(40, 0, 'entA'),\n",
       "  Text(41, 0, 'folD'),\n",
       "  Text(42, 0, 'allD'),\n",
       "  Text(43, 0, 'ribD'),\n",
       "  Text(44, 0, 'proC'),\n",
       "  Text(45, 0, 'frmA'),\n",
       "  Text(46, 0, 'betB'),\n",
       "  Text(47, 0, 'proA'),\n",
       "  Text(48, 0, 'dxr'),\n",
       "  Text(49, 0, 'lpd'),\n",
       "  Text(50, 0, 'guaC'),\n",
       "  Text(51, 0, 'pdxA'),\n",
       "  Text(52, 0, 'feaB'),\n",
       "  Text(53, 0, 'gnd'),\n",
       "  Text(54, 0, 'paaZ'),\n",
       "  Text(55, 0, 'astD'),\n",
       "  Text(56, 0, 'aldA'),\n",
       "  Text(57, 0, 'patD'),\n",
       "  Text(58, 0, 'hisD'),\n",
       "  Text(59, 0, 'maeA'),\n",
       "  Text(60, 0, 'uxaB'),\n",
       "  Text(61, 0, 'sad'),\n",
       "  Text(62, 0, 'ydfG'),\n",
       "  Text(63, 0, 'ydiB'),\n",
       "  Text(64, 0, 'zwf'),\n",
       "  Text(65, 0, 'dmlA'),\n",
       "  Text(66, 0, 'gdhA'),\n",
       "  Text(67, 0, 'gatD'),\n",
       "  Text(68, 0, 'lgoD'),\n",
       "  Text(69, 0, 'fucO'),\n",
       "  Text(70, 0, 'mdh'),\n",
       "  Text(71, 0, 'icd'),\n",
       "  Text(72, 0, 'paaH'),\n",
       "  Text(73, 0, 'gapA'),\n",
       "  Text(74, 0, 'leuB'),\n",
       "  Text(75, 0, 'pdxB')])"
      ]
     },
     "execution_count": 367,
     "metadata": {},
     "output_type": "execute_result"
    },
    {
     "data": {
      "image/png": "[encoded data removed]",
      "text/plain": [
       "<Figure size 1080x288 with 1 Axes>"
      ]
     },
     "metadata": {
      "needs_background": "light"
     },
     "output_type": "display_data"
    }
   ],
   "source": [
    "a4_dims = (15, 4)\n",
    "fig, ax = plt.subplots(figsize=a4_dims)\n",
    "plt.rcParams.update({'font.size': 8})\n",
    "sns.barplot(x='gene name',y='N',data=z,color='grey')\n",
    "plt.yscale('log')\n",
    "plt.xticks(rotation=45)"
   ]
  },
  {
   "cell_type": "code",
   "execution_count": 231,
   "metadata": {},
   "outputs": [
    {
     "name": "stderr",
     "output_type": "stream",
     "text": [
      "/Users/Joshua.Goldford/opt/miniconda3/envs/coenzyme_paper/lib/python3.8/site-packages/seaborn/distributions.py:2551: FutureWarning: `distplot` is a deprecated function and will be removed in a future version. Please adapt your code to use either `displot` (a figure-level function with similar flexibility) or `histplot` (an axes-level function for histograms).\n",
      "  warnings.warn(msg, FutureWarning)\n"
     ]
    },
    {
     "data": {
      "text/plain": [
       "<AxesSubplot:xlabel='b1395', ylabel='Density'>"
      ]
     },
     "execution_count": 231,
     "metadata": {},
     "output_type": "execute_result"
    },
    {
     "data": {
      "image/png": "[encoded data removed]",
      "text/plain": [
       "<Figure size 432x288 with 1 Axes>"
      ]
     },
     "metadata": {
      "needs_background": "light"
     },
     "output_type": "display_data"
    }
   ],
   "source": [
    "sns.distplot(dfst_normalized['b1395'])"
   ]
  },
  {
   "cell_type": "code",
   "execution_count": 233,
   "metadata": {},
   "outputs": [],
   "source": [
    "thermo = pd.read_csv('../assets/EC_1.X.1.X.Unique_NAD(P)_Coupled.GeneSet.Thermo.csv')"
   ]
  },
  {
   "cell_type": "code",
   "execution_count": 265,
   "metadata": {},
   "outputs": [
    {
     "data": {
      "text/html": [
       "<div>\n",
       "<style scoped>\n",
       "    .dataframe tbody tr th:only-of-type {\n",
       "        vertical-align: middle;\n",
       "    }\n",
       "\n",
       "    .dataframe tbody tr th {\n",
       "        vertical-align: top;\n",
       "    }\n",
       "\n",
       "    .dataframe thead th {\n",
       "        text-align: right;\n",
       "    }\n",
       "</style>\n",
       "<table border=\"1\" class=\"dataframe\">\n",
       "  <thead>\n",
       "    <tr style=\"text-align: right;\">\n",
       "      <th></th>\n",
       "      <th>reaction</th>\n",
       "      <th>gene</th>\n",
       "      <th>gene_name</th>\n",
       "      <th>deltaG_prime_m</th>\n",
       "      <th>deltaG_prime_m (error)</th>\n",
       "    </tr>\n",
       "  </thead>\n",
       "  <tbody>\n",
       "    <tr>\n",
       "      <th>80</th>\n",
       "      <td>SBTPD</td>\n",
       "      <td>b2705</td>\n",
       "      <td>srlD</td>\n",
       "      <td>12.058504</td>\n",
       "      <td>1.734759</td>\n",
       "    </tr>\n",
       "  </tbody>\n",
       "</table>\n",
       "</div>"
      ],
      "text/plain": [
       "   reaction   gene gene_name  deltaG_prime_m  deltaG_prime_m (error)\n",
       "80    SBTPD  b2705      srlD       12.058504                1.734759"
      ]
     },
     "execution_count": 265,
     "metadata": {},
     "output_type": "execute_result"
    }
   ],
   "source": [
    "thermo[thermo.gene.isin(['b2705'])]"
   ]
  },
  {
   "cell_type": "code",
   "execution_count": 236,
   "metadata": {},
   "outputs": [],
   "source": [
    "import cobra"
   ]
  },
  {
   "cell_type": "code",
   "execution_count": 266,
   "metadata": {},
   "outputs": [],
   "source": [
    "model = cobra.io.read_sbml_model('../assets/models/stoich_thermo/iJO1366_b2705_NADP.xml')"
   ]
  },
  {
   "cell_type": "code",
   "execution_count": 267,
   "metadata": {},
   "outputs": [
    {
     "data": {
      "text/html": [
       "\n",
       "        <table>\n",
       "            <tr>\n",
       "                <td><strong>Reaction identifier</strong></td><td>SBTPD[mutant]</td>\n",
       "            </tr><tr>\n",
       "                <td><strong>Name</strong></td><td>Sorbitol-6-phosphate dehydrogenase</td>\n",
       "            </tr><tr>\n",
       "                <td><strong>Memory address</strong></td>\n",
       "                <td>0x07f8e6f5fdf40</td>\n",
       "            </tr><tr>\n",
       "                <td><strong>Stoichiometry</strong></td>\n",
       "                <td>\n",
       "                    <p style='text-align:right'>nadp_c + sbt6p_c <=> f6p_c + h_c + nadph_c</p>\n",
       "                    <p style='text-align:right'>Nicotinamide adenine dinucleotide phosphate + D-Sorbitol 6-phosphate <=> D-Fructose 6-phosphate + H+ + Nicotinamide adenine dinucleotide phosphate - reduced</p>\n",
       "                </td>\n",
       "            </tr><tr>\n",
       "                <td><strong>GPR</strong></td><td>b2705</td>\n",
       "            </tr><tr>\n",
       "                <td><strong>Lower bound</strong></td><td>-1000.0</td>\n",
       "            </tr><tr>\n",
       "                <td><strong>Upper bound</strong></td><td>1000.0</td>\n",
       "            </tr>\n",
       "        </table>\n",
       "        "
      ],
      "text/plain": [
       "<Reaction SBTPD[mutant] at 0x7f8e6f5fdf40>"
      ]
     },
     "execution_count": 267,
     "metadata": {},
     "output_type": "execute_result"
    }
   ],
   "source": [
    "model.reactions[-1]"
   ]
  },
  {
   "cell_type": "code",
   "execution_count": 268,
   "metadata": {},
   "outputs": [],
   "source": [
    "model_wt = cobra.io.read_sbml_model('../assets/iJO1366.xml')"
   ]
  },
  {
   "cell_type": "code",
   "execution_count": 269,
   "metadata": {},
   "outputs": [
    {
     "data": {
      "text/html": [
       "\n",
       "        <table>\n",
       "            <tr>\n",
       "                <td><strong>Reaction identifier</strong></td><td>SBTPD</td>\n",
       "            </tr><tr>\n",
       "                <td><strong>Name</strong></td><td>Sorbitol-6-phosphate dehydrogenase</td>\n",
       "            </tr><tr>\n",
       "                <td><strong>Memory address</strong></td>\n",
       "                <td>0x07f8e7067d520</td>\n",
       "            </tr><tr>\n",
       "                <td><strong>Stoichiometry</strong></td>\n",
       "                <td>\n",
       "                    <p style='text-align:right'>nad_c + sbt6p_c <=> f6p_c + h_c + nadh_c</p>\n",
       "                    <p style='text-align:right'>Nicotinamide adenine dinucleotide + D-Sorbitol 6-phosphate <=> D-Fructose 6-phosphate + H+ + Nicotinamide adenine dinucleotide - reduced</p>\n",
       "                </td>\n",
       "            </tr><tr>\n",
       "                <td><strong>GPR</strong></td><td>b2705</td>\n",
       "            </tr><tr>\n",
       "                <td><strong>Lower bound</strong></td><td>-1000.0</td>\n",
       "            </tr><tr>\n",
       "                <td><strong>Upper bound</strong></td><td>1000.0</td>\n",
       "            </tr>\n",
       "        </table>\n",
       "        "
      ],
      "text/plain": [
       "<Reaction SBTPD at 0x7f8e7067d520>"
      ]
     },
     "execution_count": 269,
     "metadata": {},
     "output_type": "execute_result"
    }
   ],
   "source": [
    "[x for x in model_wt.reactions if x.id == 'SBTPD'][0]"
   ]
  },
  {
   "cell_type": "code",
   "execution_count": 270,
   "metadata": {},
   "outputs": [],
   "source": [
    "RT = 8.31446261815324 * 10**-3 * 298.15\n",
    "\n"
   ]
  },
  {
   "cell_type": "code",
   "execution_count": 246,
   "metadata": {},
   "outputs": [],
   "source": [
    "import numpy as np"
   ]
  },
  {
   "cell_type": "code",
   "execution_count": 261,
   "metadata": {},
   "outputs": [
    {
     "data": {
      "text/plain": [
       "3.424379503550485"
      ]
     },
     "execution_count": 261,
     "metadata": {},
     "output_type": "execute_result"
    }
   ],
   "source": [
    "12.058504 + RT * np.log((1.2e-4 * 1e-6) / (2.1e-6 * 1e-2 *1) )"
   ]
  },
  {
   "cell_type": "code",
   "execution_count": 263,
   "metadata": {},
   "outputs": [
    {
     "data": {
      "text/plain": [
       "12.803282496449514"
      ]
     },
     "execution_count": 263,
     "metadata": {},
     "output_type": "execute_result"
    }
   ],
   "source": [
    "16.227662 - 3.424379503550485"
   ]
  },
  {
   "cell_type": "code",
   "execution_count": null,
   "metadata": {},
   "outputs": [],
   "source": [
    "def get_concentrations(x,metConc):\n",
    "    if x == 'bigg.metabolite:nad':\n",
    "        return 2.6e-3\n",
    "    elif x == 'bigg.metabolite:nadh':\n",
    "        return 8.3e-5\n",
    "    elif x == 'bigg.metabolite:nadp':\n",
    "        return 2.1e-6\n",
    "    elif x == 'bigg.metabolite:nadph':\n",
    "        return 1.2e-4\n",
    "    elif x in ['bigg.metabolite:h','bigg.metabolite:h2o']:\n",
    "        return 1\n",
    "    else:\n",
    "        return metConc"
   ]
  },
  {
   "cell_type": "code",
   "execution_count": null,
   "metadata": {},
   "outputs": [],
   "source": []
  }
 ],
 "metadata": {
  "kernelspec": {
   "display_name": "Python 3.8 (Coenzyme Paper)",
   "language": "python",
   "name": "coenzyme_paper"
  },
  "language_info": {
   "codemirror_mode": {
    "name": "ipython",
    "version": 3
   },
   "file_extension": ".py",
   "mimetype": "text/x-python",
   "name": "python",
   "nbconvert_exporter": "python",
   "pygments_lexer": "ipython3",
   "version": "3.8.5"
  }
 },
 "nbformat": 4,
 "nbformat_minor": 4
}
