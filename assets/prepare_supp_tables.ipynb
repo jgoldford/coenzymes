{
 "cells": [
  {
   "cell_type": "code",
   "execution_count": 1,
   "metadata": {},
   "outputs": [],
   "source": [
    "import pandas as pd\n",
    "import cobra"
   ]
  },
  {
   "cell_type": "code",
   "execution_count": 2,
   "metadata": {},
   "outputs": [],
   "source": [
    "media = pd.read_csv('media.C180N93E7.txt',sep='\\t',index_col=0)\n",
    "model = cobra.io.read_sbml_model('iJO1366.xml')"
   ]
  },
  {
   "cell_type": "code",
   "execution_count": 3,
   "metadata": {},
   "outputs": [],
   "source": [
    "wt = pd.read_csv('iJO1366.growthRates.txt',sep='\\t',index_col=0)"
   ]
  },
  {
   "cell_type": "code",
   "execution_count": 4,
   "metadata": {},
   "outputs": [],
   "source": [
    "csources = media.carbon.unique().tolist()\n",
    "nsources = media.nitrogen.unique().tolist()\n",
    "electron = media.electron.unique().tolist()\n",
    "electron = [x for x in electron if x != 'None']"
   ]
  },
  {
   "cell_type": "code",
   "execution_count": 5,
   "metadata": {},
   "outputs": [],
   "source": [
    "metnames_carbon = [[x.name.strip('exchange')[0:-1] for x in model.reactions if x.id == y][0] for y in csources]\n",
    "metnames_nitrogen = [[x.name.strip('exchange')[0:-1] for x in model.reactions if x.id == y][0] for y in nsources]\n",
    "metnames_electron = [[x.name.strip('exchange')[0:-1] for x in model.reactions if x.id == y][0] for y in electron]"
   ]
  },
  {
   "cell_type": "code",
   "execution_count": 6,
   "metadata": {},
   "outputs": [],
   "source": [
    "mdf_c = pd.DataFrame({'Metabolite': metnames_carbon, 'Exchange Reaction':csources, 'Source': 'Carbon'  })\n",
    "mdf_n = pd.DataFrame({'Metabolite': metnames_nitrogen, 'Exchange Reaction':nsources, 'Source': 'Nitrogen'  })\n",
    "mdf_e = pd.DataFrame({'Metabolite': metnames_electron + ['None'], 'Exchange Reaction':electron + ['NA'], 'Source': 'Electron'  })"
   ]
  },
  {
   "cell_type": "code",
   "execution_count": null,
   "metadata": {},
   "outputs": [],
   "source": []
  },
  {
   "cell_type": "code",
   "execution_count": 60,
   "metadata": {},
   "outputs": [],
   "source": [
    "df = pd.concat([mdf_c,mdf_n,mdf_e],axis=0)"
   ]
  },
  {
   "cell_type": "code",
   "execution_count": 62,
   "metadata": {},
   "outputs": [],
   "source": [
    "df.to_csv('metabolite.names.csv')"
   ]
  },
  {
   "cell_type": "code",
   "execution_count": 24,
   "metadata": {},
   "outputs": [],
   "source": [
    "mets = pd.DataFrame(df['Exchange Reaction'].unique(),columns=['met'])\n",
    "mets = mets.iloc[0:-1]"
   ]
  },
  {
   "cell_type": "code",
   "execution_count": 42,
   "metadata": {},
   "outputs": [
    {
     "data": {
      "text/html": [
       "<div>\n",
       "<style scoped>\n",
       "    .dataframe tbody tr th:only-of-type {\n",
       "        vertical-align: middle;\n",
       "    }\n",
       "\n",
       "    .dataframe tbody tr th {\n",
       "        vertical-align: top;\n",
       "    }\n",
       "\n",
       "    .dataframe thead th {\n",
       "        text-align: right;\n",
       "    }\n",
       "</style>\n",
       "<table border=\"1\" class=\"dataframe\">\n",
       "  <thead>\n",
       "    <tr style=\"text-align: right;\">\n",
       "      <th></th>\n",
       "      <th>met</th>\n",
       "      <th>met_id</th>\n",
       "    </tr>\n",
       "  </thead>\n",
       "  <tbody>\n",
       "    <tr>\n",
       "      <th>0</th>\n",
       "      <td>EX_12ppd__S_e</td>\n",
       "      <td>12ppd</td>\n",
       "    </tr>\n",
       "    <tr>\n",
       "      <th>1</th>\n",
       "      <td>EX_14glucan_e</td>\n",
       "      <td>14glucan</td>\n",
       "    </tr>\n",
       "    <tr>\n",
       "      <th>2</th>\n",
       "      <td>EX_23camp_e</td>\n",
       "      <td>23camp</td>\n",
       "    </tr>\n",
       "    <tr>\n",
       "      <th>3</th>\n",
       "      <td>EX_23ccmp_e</td>\n",
       "      <td>23ccmp</td>\n",
       "    </tr>\n",
       "    <tr>\n",
       "      <th>4</th>\n",
       "      <td>EX_23cgmp_e</td>\n",
       "      <td>23cgmp</td>\n",
       "    </tr>\n",
       "    <tr>\n",
       "      <th>...</th>\n",
       "      <td>...</td>\n",
       "      <td>...</td>\n",
       "    </tr>\n",
       "    <tr>\n",
       "      <th>188</th>\n",
       "      <td>EX_tym_e</td>\n",
       "      <td>tym</td>\n",
       "    </tr>\n",
       "    <tr>\n",
       "      <th>189</th>\n",
       "      <td>EX_ura_e</td>\n",
       "      <td>ura</td>\n",
       "    </tr>\n",
       "    <tr>\n",
       "      <th>190</th>\n",
       "      <td>EX_tmao_e</td>\n",
       "      <td>tmao</td>\n",
       "    </tr>\n",
       "    <tr>\n",
       "      <th>191</th>\n",
       "      <td>EX_dmso_e</td>\n",
       "      <td>dmso</td>\n",
       "    </tr>\n",
       "    <tr>\n",
       "      <th>192</th>\n",
       "      <td>EX_o2_e</td>\n",
       "      <td>o2</td>\n",
       "    </tr>\n",
       "  </tbody>\n",
       "</table>\n",
       "<p>193 rows × 2 columns</p>\n",
       "</div>"
      ],
      "text/plain": [
       "               met    met_id\n",
       "0    EX_12ppd__S_e     12ppd\n",
       "1    EX_14glucan_e  14glucan\n",
       "2      EX_23camp_e    23camp\n",
       "3      EX_23ccmp_e    23ccmp\n",
       "4      EX_23cgmp_e    23cgmp\n",
       "..             ...       ...\n",
       "188       EX_tym_e       tym\n",
       "189       EX_ura_e       ura\n",
       "190      EX_tmao_e      tmao\n",
       "191      EX_dmso_e      dmso\n",
       "192        EX_o2_e        o2\n",
       "\n",
       "[193 rows x 2 columns]"
      ]
     },
     "execution_count": 42,
     "metadata": {},
     "output_type": "execute_result"
    }
   ],
   "source": [
    "mets['met']"
   ]
  },
  {
   "cell_type": "code",
   "execution_count": 45,
   "metadata": {},
   "outputs": [],
   "source": [
    "mets['met_id']= mets['met'].apply(lambda x: x[3:])"
   ]
  },
  {
   "cell_type": "code",
   "execution_count": 46,
   "metadata": {},
   "outputs": [
    {
     "data": {
      "text/html": [
       "<div>\n",
       "<style scoped>\n",
       "    .dataframe tbody tr th:only-of-type {\n",
       "        vertical-align: middle;\n",
       "    }\n",
       "\n",
       "    .dataframe tbody tr th {\n",
       "        vertical-align: top;\n",
       "    }\n",
       "\n",
       "    .dataframe thead th {\n",
       "        text-align: right;\n",
       "    }\n",
       "</style>\n",
       "<table border=\"1\" class=\"dataframe\">\n",
       "  <thead>\n",
       "    <tr style=\"text-align: right;\">\n",
       "      <th></th>\n",
       "      <th>met</th>\n",
       "      <th>met_id</th>\n",
       "    </tr>\n",
       "  </thead>\n",
       "  <tbody>\n",
       "    <tr>\n",
       "      <th>0</th>\n",
       "      <td>EX_12ppd__S_e</td>\n",
       "      <td>12ppd__S_e</td>\n",
       "    </tr>\n",
       "    <tr>\n",
       "      <th>1</th>\n",
       "      <td>EX_14glucan_e</td>\n",
       "      <td>14glucan_e</td>\n",
       "    </tr>\n",
       "    <tr>\n",
       "      <th>2</th>\n",
       "      <td>EX_23camp_e</td>\n",
       "      <td>23camp_e</td>\n",
       "    </tr>\n",
       "    <tr>\n",
       "      <th>3</th>\n",
       "      <td>EX_23ccmp_e</td>\n",
       "      <td>23ccmp_e</td>\n",
       "    </tr>\n",
       "    <tr>\n",
       "      <th>4</th>\n",
       "      <td>EX_23cgmp_e</td>\n",
       "      <td>23cgmp_e</td>\n",
       "    </tr>\n",
       "    <tr>\n",
       "      <th>...</th>\n",
       "      <td>...</td>\n",
       "      <td>...</td>\n",
       "    </tr>\n",
       "    <tr>\n",
       "      <th>188</th>\n",
       "      <td>EX_tym_e</td>\n",
       "      <td>tym_e</td>\n",
       "    </tr>\n",
       "    <tr>\n",
       "      <th>189</th>\n",
       "      <td>EX_ura_e</td>\n",
       "      <td>ura_e</td>\n",
       "    </tr>\n",
       "    <tr>\n",
       "      <th>190</th>\n",
       "      <td>EX_tmao_e</td>\n",
       "      <td>tmao_e</td>\n",
       "    </tr>\n",
       "    <tr>\n",
       "      <th>191</th>\n",
       "      <td>EX_dmso_e</td>\n",
       "      <td>dmso_e</td>\n",
       "    </tr>\n",
       "    <tr>\n",
       "      <th>192</th>\n",
       "      <td>EX_o2_e</td>\n",
       "      <td>o2_e</td>\n",
       "    </tr>\n",
       "  </tbody>\n",
       "</table>\n",
       "<p>193 rows × 2 columns</p>\n",
       "</div>"
      ],
      "text/plain": [
       "               met      met_id\n",
       "0    EX_12ppd__S_e  12ppd__S_e\n",
       "1    EX_14glucan_e  14glucan_e\n",
       "2      EX_23camp_e    23camp_e\n",
       "3      EX_23ccmp_e    23ccmp_e\n",
       "4      EX_23cgmp_e    23cgmp_e\n",
       "..             ...         ...\n",
       "188       EX_tym_e       tym_e\n",
       "189       EX_ura_e       ura_e\n",
       "190      EX_tmao_e      tmao_e\n",
       "191      EX_dmso_e      dmso_e\n",
       "192        EX_o2_e        o2_e\n",
       "\n",
       "[193 rows x 2 columns]"
      ]
     },
     "execution_count": 46,
     "metadata": {},
     "output_type": "execute_result"
    }
   ],
   "source": [
    "mets"
   ]
  },
  {
   "cell_type": "code",
   "execution_count": 34,
   "metadata": {},
   "outputs": [],
   "source": [
    "z = pd.read_csv('../revisions/assets/kegg.bigg.map.csv')"
   ]
  },
  {
   "cell_type": "code",
   "execution_count": 53,
   "metadata": {},
   "outputs": [],
   "source": [
    "KEGG = []\n",
    "for idx,row in mets.iterrows():\n",
    "    kl = z[z.BIGG.apply(lambda x: row.met_id in x)].KEGG.tolist()\n",
    "    KEGG.append(\";\".join(kl))\n",
    "mets['KEGG'] = KEGG"
   ]
  },
  {
   "cell_type": "code",
   "execution_count": 59,
   "metadata": {},
   "outputs": [],
   "source": [
    "mets.to_csv('../revisions/assets/metabolites.KEGG.csv')"
   ]
  },
  {
   "cell_type": "code",
   "execution_count": 32,
   "metadata": {},
   "outputs": [],
   "source": [
    "df[['Metabolite']].to_csv('mets.exchange.forMetabAnalyst.csv')"
   ]
  },
  {
   "cell_type": "code",
   "execution_count": 16,
   "metadata": {},
   "outputs": [
    {
     "data": {
      "text/html": [
       "\n",
       "        <table>\n",
       "            <tr>\n",
       "                <td><strong>Metabolite identifier</strong></td><td>o2_e</td>\n",
       "            </tr><tr>\n",
       "                <td><strong>Name</strong></td><td>O2 O2</td>\n",
       "            </tr><tr>\n",
       "                <td><strong>Memory address</strong></td>\n",
       "                <td>0x07f965cc67970</td>\n",
       "            </tr><tr>\n",
       "                <td><strong>Formula</strong></td><td>O2</td>\n",
       "            </tr><tr>\n",
       "                <td><strong>Compartment</strong></td><td>e</td>\n",
       "            </tr><tr>\n",
       "                <td><strong>In 2 reaction(s)</strong></td><td>\n",
       "                    EX_o2_e, O2tex</td>\n",
       "            </tr>\n",
       "        </table>"
      ],
      "text/plain": [
       "<Metabolite o2_e at 0x7f965cc67970>"
      ]
     },
     "execution_count": 16,
     "metadata": {},
     "output_type": "execute_result"
    }
   ],
   "source": [
    "model.metabolites.get_by_id('o2_e')"
   ]
  },
  {
   "cell_type": "code",
   "execution_count": null,
   "metadata": {},
   "outputs": [],
   "source": []
  }
 ],
 "metadata": {
  "kernelspec": {
   "display_name": "Python 3.8 (metabolism)",
   "language": "python",
   "name": "metabolism"
  },
  "language_info": {
   "codemirror_mode": {
    "name": "ipython",
    "version": 3
   },
   "file_extension": ".py",
   "mimetype": "text/x-python",
   "name": "python",
   "nbconvert_exporter": "python",
   "pygments_lexer": "ipython3",
   "version": "3.8.8"
  }
 },
 "nbformat": 4,
 "nbformat_minor": 4
}
